{
 "cells": [
  {
   "cell_type": "code",
   "execution_count": 1,
   "metadata": {
    "collapsed": true
   },
   "outputs": [],
   "source": [
    " require 'torch'\n",
    " require 'optim'\n",
    " require 'nn'\n",
    "\n"
   ]
  },
  {
   "cell_type": "code",
   "execution_count": 2,
   "metadata": {
    "collapsed": true
   },
   "outputs": [],
   "source": [
    " data = torch.Tensor{\n",
    "    {40,  6,  4},\n",
    "    {44, 10,  4},\n",
    "    {46, 12,  5},\n",
    "    {48, 14,  7},\n",
    "    {52, 16,  9},\n",
    "    {58, 18, 12},\n",
    "    {60, 22, 14},\n",
    "    {68, 24, 20},\n",
    "    {74, 26, 21},\n",
    "    {80, 32, 24}\n",
    " }\n"
   ]
  },
  {
   "cell_type": "code",
   "execution_count": 3,
   "metadata": {
    "collapsed": true
   },
   "outputs": [],
   "source": [
    " model = nn.Sequential()                 -- define the container\n",
    " ninputs = 2; noutputs = 1\n",
    " model:add(nn.Linear(ninputs, noutputs)) -- define the only module\n",
    "\n"
   ]
  },
  {
   "cell_type": "code",
   "execution_count": 4,
   "metadata": {
    "collapsed": true
   },
   "outputs": [],
   "source": [
    " criterion = nn.MSECriterion()\n",
    "\n"
   ]
  },
  {
   "cell_type": "code",
   "execution_count": 5,
   "metadata": {
    "collapsed": true
   },
   "outputs": [],
   "source": [
    " x, dl_dx = model:getParameters()\n"
   ]
  },
  {
   "cell_type": "code",
   "execution_count": 6,
   "metadata": {
    "collapsed": true
   },
   "outputs": [],
   "source": [
    " feval = function(x_new)\n",
    "    -- set x to x_new, if differnt\n",
    "    -- (in this simple example, x_new will typically always point to x,\n",
    "    -- so the copy is really useless)\n",
    "    if x ~= x_new then\n",
    "       x:copy(x_new)\n",
    "    end\n",
    "\n",
    "    -- select a new training sample\n",
    "    _nidx_ = (_nidx_ or 0) + 1\n",
    "    if _nidx_ > (#data)[1] then _nidx_ = 1 end\n",
    "\n",
    "    local sample = data[_nidx_]\n",
    "    local target = sample[{ {1} }]      -- this funny looking syntax allows\n",
    "    local inputs = sample[{ {2,3} }]    -- slicing of arrays.\n",
    "\n",
    "    -- reset gradients (gradients are always accumulated, to accommodate\n",
    "    -- batch methods)\n",
    "    dl_dx:zero()\n",
    "\n",
    "    -- evaluate the loss function and its derivative wrt x, for that sample\n",
    "    local loss_x = criterion:forward(model:forward(inputs), target)\n",
    "    model:backward(inputs, criterion:backward(model.output, target))\n",
    "\n",
    "    -- return loss(x) and dloss/dx\n",
    "    return loss_x, dl_dx\n",
    " end"
   ]
  },
  {
   "cell_type": "code",
   "execution_count": 7,
   "metadata": {
    "collapsed": true
   },
   "outputs": [],
   "source": [
    " sgd_params = {\n",
    "    learningRate = 1e-3,\n",
    "    learningRateDecay = 1e-4,\n",
    "    weightDecay = 0,\n",
    "    momentum = 0\n",
    " }\n"
   ]
  },
  {
   "cell_type": "code",
   "execution_count": 8,
   "metadata": {
    "collapsed": false
   },
   "outputs": [
    {
     "data": {
      "text/plain": [
       "current loss = 294.45951849564\t\n"
      ]
     },
     "execution_count": 8,
     "metadata": {},
     "output_type": "execute_result"
    },
    {
     "data": {
      "text/plain": [
       "current loss = 178.2440815249\t\n",
       "current loss = 164.72169853535\t\n",
       "current loss = 153.8436092556\t\n",
       "current loss = 144.82062056625\t\n",
       "current loss = 137.31962969597\t\n",
       "current loss = 131.07008493084\t\n",
       "current loss = 125.85084776037\t\n"
      ]
     },
     "execution_count": 8,
     "metadata": {},
     "output_type": "execute_result"
    },
    {
     "data": {
      "text/plain": [
       "current loss = 121.48095973974\t\n",
       "current loss = 117.81217347557\t\n",
       "current loss = 114.72289963271\t\n",
       "current loss = 112.11329671396\t\n",
       "current loss = 109.90128397666\t\n",
       "current loss = 108.01930075967\t\n"
      ]
     },
     "execution_count": 8,
     "metadata": {},
     "output_type": "execute_result"
    },
    {
     "data": {
      "text/plain": [
       "current loss = 106.41166989066\t\n",
       "current loss = 105.03245044199\t\n",
       "current loss = 103.84368726613\t\n",
       "current loss = 102.81398255555\t\n",
       "current loss = 101.91732900318\t\n"
      ]
     },
     "execution_count": 8,
     "metadata": {},
     "output_type": "execute_result"
    },
    {
     "data": {
      "text/plain": [
       "current loss = 101.13215567878\t\n",
       "current loss = 100.44054703657\t\n",
       "current loss = 99.827602970685\t\n",
       "current loss = 99.280913891392\t\n"
      ]
     },
     "execution_count": 8,
     "metadata": {},
     "output_type": "execute_result"
    },
    {
     "data": {
      "text/plain": [
       "current loss = 98.790129688723\t\n",
       "current loss = 98.346605407969\t\n",
       "current loss = 97.94310966538\t\n"
      ]
     },
     "execution_count": 8,
     "metadata": {},
     "output_type": "execute_result"
    },
    {
     "data": {
      "text/plain": [
       "current loss = 97.573584428092\t\n",
       "current loss = 97.232946887153\t\n",
       "current loss = 96.916925860967\t\n",
       "current loss = 96.621926554177\t\n"
      ]
     },
     "execution_count": 8,
     "metadata": {},
     "output_type": "execute_result"
    },
    {
     "data": {
      "text/plain": [
       "current loss = 96.34491862546\t\n",
       "current loss = 96.083343435902\t\n",
       "current loss = 95.835037097605\t\n",
       "current loss = 95.598166551901\t\n",
       "current loss = 95.371176404139\t\n"
      ]
     },
     "execution_count": 8,
     "metadata": {},
     "output_type": "execute_result"
    },
    {
     "data": {
      "text/plain": [
       "current loss = 95.152744648344\t\n",
       "current loss = 94.941745747269\t\n",
       "current loss = 94.737219805153\t\n"
      ]
     },
     "execution_count": 8,
     "metadata": {},
     "output_type": "execute_result"
    },
    {
     "data": {
      "text/plain": [
       "current loss = 94.538346793113\t\n",
       "current loss = 94.344424969566\t\n",
       "current loss = 94.154852787812\t\n",
       "current loss = 93.969113705879\t\n"
      ]
     },
     "execution_count": 8,
     "metadata": {},
     "output_type": "execute_result"
    },
    {
     "data": {
      "text/plain": [
       "current loss = 93.78676341481\t\n",
       "current loss = 93.607419084758\t\n",
       "current loss = 93.430750296787\t\n",
       "current loss = 93.256471384725\t\n"
      ]
     },
     "execution_count": 8,
     "metadata": {},
     "output_type": "execute_result"
    },
    {
     "data": {
      "text/plain": [
       "current loss = 93.084334958095\t\n",
       "current loss = 92.91412641561\t\n",
       "current loss = 92.745659290602\t\n",
       "current loss = 92.578771296122\t\n",
       "current loss = 92.413320959286\t\n"
      ]
     },
     "execution_count": 8,
     "metadata": {},
     "output_type": "execute_result"
    },
    {
     "data": {
      "text/plain": [
       "current loss = 92.249184752579\t\n",
       "current loss = 92.086254644889\t\n",
       "current loss = 91.924436007557\t\n",
       "current loss = 91.763645821136\t\n",
       "current loss = 91.603811137259\t\n"
      ]
     },
     "execution_count": 8,
     "metadata": {},
     "output_type": "execute_result"
    },
    {
     "data": {
      "text/plain": [
       "current loss = 91.444867757234\t\n",
       "current loss = 91.286759095052\t\n",
       "current loss = 91.129435197536\t\n"
      ]
     },
     "execution_count": 8,
     "metadata": {},
     "output_type": "execute_result"
    },
    {
     "data": {
      "text/plain": [
       "current loss = 90.972851898605\t\n",
       "current loss = 90.816970088185\t\n",
       "current loss = 90.661755079248\t\n",
       "current loss = 90.507176058998\t\n",
       "current loss = 90.353205612315\t\n"
      ]
     },
     "execution_count": 8,
     "metadata": {},
     "output_type": "execute_result"
    },
    {
     "data": {
      "text/plain": [
       "current loss = 90.19981930733\t\n",
       "current loss = 90.046995334532\t\n",
       "current loss = 89.894714192042\t\n"
      ]
     },
     "execution_count": 8,
     "metadata": {},
     "output_type": "execute_result"
    },
    {
     "data": {
      "text/plain": [
       "current loss = 89.742958410774\t\n",
       "current loss = 89.591712314118\t\n"
      ]
     },
     "execution_count": 8,
     "metadata": {},
     "output_type": "execute_result"
    },
    {
     "data": {
      "text/plain": [
       "current loss = 89.440961807516\t\n",
       "current loss = 89.290694194004\t\n",
       "current loss = 89.140898012292\t\n"
      ]
     },
     "execution_count": 8,
     "metadata": {},
     "output_type": "execute_result"
    },
    {
     "data": {
      "text/plain": [
       "current loss = 88.991562894487\t\n",
       "current loss = 88.842679440903\t\n",
       "current loss = 88.694239109811\t\n"
      ]
     },
     "execution_count": 8,
     "metadata": {},
     "output_type": "execute_result"
    },
    {
     "data": {
      "text/plain": [
       "current loss = 88.546234120222\t\n",
       "current loss = 88.398657366087\t\n",
       "current loss = 88.251502340496\t\n",
       "current loss = 88.104763068641\t\n"
      ]
     },
     "execution_count": 8,
     "metadata": {},
     "output_type": "execute_result"
    },
    {
     "data": {
      "text/plain": [
       "current loss = 87.958434048486\t\n",
       "current loss = 87.812510198212\t\n",
       "current loss = 87.666986809617\t\n",
       "current loss = 87.521859506774\t\n"
      ]
     },
     "execution_count": 8,
     "metadata": {},
     "output_type": "execute_result"
    },
    {
     "data": {
      "text/plain": [
       "current loss = 87.377124209321\t\n",
       "current loss = 87.232777099853\t\n",
       "current loss = 87.088814594918\t\n",
       "current loss = 86.945233319229\t\n"
      ]
     },
     "execution_count": 8,
     "metadata": {},
     "output_type": "execute_result"
    },
    {
     "data": {
      "text/plain": [
       "current loss = 86.802030082703\t\n",
       "current loss = 86.659201860017\t\n",
       "current loss = 86.516745772391\t\n",
       "current loss = 86.37465907136\t\n",
       "current loss = 86.232939124295\t\n"
      ]
     },
     "execution_count": 8,
     "metadata": {},
     "output_type": "execute_result"
    },
    {
     "data": {
      "text/plain": [
       "current loss = 86.091583401494\t\n",
       "current loss = 85.95058946467\t\n",
       "current loss = 85.809954956668\t\n",
       "current loss = 85.669677592297\t\n"
      ]
     },
     "execution_count": 8,
     "metadata": {},
     "output_type": "execute_result"
    },
    {
     "data": {
      "text/plain": [
       "current loss = 85.529755150149\t\n",
       "current loss = 85.390185465282\t\n",
       "current loss = 85.250966422707\t\n"
      ]
     },
     "execution_count": 8,
     "metadata": {},
     "output_type": "execute_result"
    },
    {
     "data": {
      "text/plain": [
       "current loss = 85.112095951563\t\n",
       "current loss = 84.973572019922\t\n",
       "current loss = 84.835392630154\t\n",
       "current loss = 84.697555814793\t\n",
       "current loss = 84.560059632848\t\n"
      ]
     },
     "execution_count": 8,
     "metadata": {},
     "output_type": "execute_result"
    },
    {
     "data": {
      "text/plain": [
       "current loss = 84.422902166519\t\n",
       "current loss = 84.286081518268\t\n",
       "current loss = 84.149595808215\t\n",
       "current loss = 84.013443171818\t\n"
      ]
     },
     "execution_count": 8,
     "metadata": {},
     "output_type": "execute_result"
    },
    {
     "data": {
      "text/plain": [
       "current loss = 83.87762175781\t\n",
       "current loss = 83.742129726375\t\n",
       "current loss = 83.606965247522\t\n",
       "current loss = 83.47212649965\t\n"
      ]
     },
     "execution_count": 8,
     "metadata": {},
     "output_type": "execute_result"
    },
    {
     "data": {
      "text/plain": [
       "current loss = 83.337611668276\t\n",
       "current loss = 83.203418944916\t\n",
       "current loss = 83.069546526098\t\n",
       "current loss = 82.935992612495\t\n"
      ]
     },
     "execution_count": 8,
     "metadata": {},
     "output_type": "execute_result"
    },
    {
     "data": {
      "text/plain": [
       "current loss = 82.802755408162\t\n",
       "current loss = 82.66983311988\t\n",
       "current loss = 82.537223956574\t\n",
       "current loss = 82.40492612882\t\n"
      ]
     },
     "execution_count": 8,
     "metadata": {},
     "output_type": "execute_result"
    },
    {
     "data": {
      "text/plain": [
       "current loss = 82.272937848407\t\n",
       "current loss = 82.141257327983\t\n",
       "current loss = 82.009882780733\t\n",
       "current loss = 81.878812420124\t\n"
      ]
     },
     "execution_count": 8,
     "metadata": {},
     "output_type": "execute_result"
    },
    {
     "data": {
      "text/plain": [
       "current loss = 81.748044459691\t\n",
       "current loss = 81.617577112855\t\n",
       "current loss = 81.48740859279\t\n",
       "current loss = 81.357537112312\t\n"
      ]
     },
     "execution_count": 8,
     "metadata": {},
     "output_type": "execute_result"
    },
    {
     "data": {
      "text/plain": [
       "current loss = 81.227960883803\t\n",
       "current loss = 81.098678119154\t\n",
       "current loss = 80.969687029741\t\n"
      ]
     },
     "execution_count": 8,
     "metadata": {},
     "output_type": "execute_result"
    },
    {
     "data": {
      "text/plain": [
       "current loss = 80.840985826409\t\n",
       "current loss = 80.712572719488\t\n"
      ]
     },
     "execution_count": 8,
     "metadata": {},
     "output_type": "execute_result"
    },
    {
     "data": {
      "text/plain": [
       "current loss = 80.584445918811\t\n",
       "current loss = 80.456603633758\t\n",
       "current loss = 80.329044073311\t\n"
      ]
     },
     "execution_count": 8,
     "metadata": {},
     "output_type": "execute_result"
    },
    {
     "data": {
      "text/plain": [
       "current loss = 80.201765446111\t\n",
       "current loss = 80.074765960537\t\n"
      ]
     },
     "execution_count": 8,
     "metadata": {},
     "output_type": "execute_result"
    },
    {
     "data": {
      "text/plain": [
       "current loss = 79.948043824789\t\n",
       "current loss = 79.821597246978\t\n",
       "current loss = 79.695424435224\t\n"
      ]
     },
     "execution_count": 8,
     "metadata": {},
     "output_type": "execute_result"
    },
    {
     "data": {
      "text/plain": [
       "current loss = 79.56952359776\t\n",
       "current loss = 79.443892943044\t\n",
       "current loss = 79.31853067987\t\n",
       "current loss = 79.193435017488\t\n"
      ]
     },
     "execution_count": 8,
     "metadata": {},
     "output_type": "execute_result"
    },
    {
     "data": {
      "text/plain": [
       "current loss = 79.068604165727\t\n",
       "current loss = 78.944036335118\t\n",
       "current loss = 78.819729737023\t\n",
       "current loss = 78.695682583765\t\n"
      ]
     },
     "execution_count": 8,
     "metadata": {},
     "output_type": "execute_result"
    },
    {
     "data": {
      "text/plain": [
       "current loss = 78.571893088757\t\n",
       "current loss = 78.448359466643\t\n",
       "current loss = 78.32507993342\t\n",
       "current loss = 78.202052706588\t\n"
      ]
     },
     "execution_count": 8,
     "metadata": {},
     "output_type": "execute_result"
    },
    {
     "data": {
      "text/plain": [
       "current loss = 78.079276005273\t\n",
       "current loss = 77.956748050375\t\n",
       "current loss = 77.834467064698\t\n",
       "current loss = 77.712431273091\t\n"
      ]
     },
     "execution_count": 8,
     "metadata": {},
     "output_type": "execute_result"
    },
    {
     "data": {
      "text/plain": [
       "current loss = 77.590638902586\t\n",
       "current loss = 77.469088182534\t\n",
       "current loss = 77.347777344742\t\n"
      ]
     },
     "execution_count": 8,
     "metadata": {},
     "output_type": "execute_result"
    },
    {
     "data": {
      "text/plain": [
       "current loss = 77.226704623614\t\n",
       "current loss = 77.105868256285\t\n",
       "current loss = 76.985266482758\t\n"
      ]
     },
     "execution_count": 8,
     "metadata": {},
     "output_type": "execute_result"
    },
    {
     "data": {
      "text/plain": [
       "current loss = 76.864897546039\t\n",
       "current loss = 76.744759692276\t\n",
       "current loss = 76.624851170892\t\n",
       "current loss = 76.505170234715\t\n"
      ]
     },
     "execution_count": 8,
     "metadata": {},
     "output_type": "execute_result"
    },
    {
     "data": {
      "text/plain": [
       "current loss = 76.385715140119\t\n",
       "current loss = 76.266484147152\t\n",
       "current loss = 76.14747551967\t\n",
       "current loss = 76.028687525463\t\n"
      ]
     },
     "execution_count": 8,
     "metadata": {},
     "output_type": "execute_result"
    },
    {
     "data": {
      "text/plain": [
       "current loss = 75.910118436395\t\n",
       "current loss = 75.791766528522\t\n",
       "current loss = 75.67363008223\t\n",
       "current loss = 75.555707382355\t\n"
      ]
     },
     "execution_count": 8,
     "metadata": {},
     "output_type": "execute_result"
    },
    {
     "data": {
      "text/plain": [
       "current loss = 75.437996718317\t\n",
       "current loss = 75.320496384237\t\n",
       "current loss = 75.203204679068\t\n",
       "current loss = 75.086119906715\t\n"
      ]
     },
     "execution_count": 8,
     "metadata": {},
     "output_type": "execute_result"
    },
    {
     "data": {
      "text/plain": [
       "current loss = 74.969240376162\t\n",
       "current loss = 74.852564401586\t\n",
       "current loss = 74.736090302484\t\n",
       "current loss = 74.619816403791\t\n",
       "current loss = 74.503741035994\t\n"
      ]
     },
     "execution_count": 8,
     "metadata": {},
     "output_type": "execute_result"
    },
    {
     "data": {
      "text/plain": [
       "current loss = 74.387862535255\t\n",
       "current loss = 74.272179243524\t\n",
       "current loss = 74.156689508655\t\n",
       "current loss = 74.041391684517\t\n"
      ]
     },
     "execution_count": 8,
     "metadata": {},
     "output_type": "execute_result"
    },
    {
     "data": {
      "text/plain": [
       "current loss = 73.926284131113\t\n",
       "current loss = 73.811365214685\t\n",
       "current loss = 73.696633307829\t\n",
       "current loss = 73.582086789602\t\n"
      ]
     },
     "execution_count": 8,
     "metadata": {},
     "output_type": "execute_result"
    },
    {
     "data": {
      "text/plain": [
       "current loss = 73.467724045633\t\n",
       "current loss = 73.353543468227\t\n",
       "current loss = 73.239543456472\t\n",
       "current loss = 73.125722416346\t\n"
      ]
     },
     "execution_count": 8,
     "metadata": {},
     "output_type": "execute_result"
    },
    {
     "data": {
      "text/plain": [
       "current loss = 73.012078760816\t\n",
       "current loss = 72.898610909947\t\n",
       "current loss = 72.785317290999\t\n",
       "current loss = 72.672196338525\t\n"
      ]
     },
     "execution_count": 8,
     "metadata": {},
     "output_type": "execute_result"
    },
    {
     "data": {
      "text/plain": [
       "current loss = 72.559246494477\t\n",
       "current loss = 72.446466208298\t\n",
       "current loss = 72.333853937021\t\n",
       "current loss = 72.221408145362\t\n"
      ]
     },
     "execution_count": 8,
     "metadata": {},
     "output_type": "execute_result"
    },
    {
     "data": {
      "text/plain": [
       "current loss = 72.109127305818\t\n",
       "current loss = 71.997009898759\t\n",
       "current loss = 71.885054412517\t\n",
       "current loss = 71.773259343478\t\n"
      ]
     },
     "execution_count": 8,
     "metadata": {},
     "output_type": "execute_result"
    },
    {
     "data": {
      "text/plain": [
       "current loss = 71.661623196174\t\n",
       "current loss = 71.550144483366\t\n",
       "current loss = 71.438821726138\t\n",
       "current loss = 71.327653453974\t\n"
      ]
     },
     "execution_count": 8,
     "metadata": {},
     "output_type": "execute_result"
    },
    {
     "data": {
      "text/plain": [
       "current loss = 71.21663820485\t\n",
       "current loss = 71.105774525312\t\n",
       "current loss = 70.995060970561\t\n",
       "current loss = 70.884496104532\t\n"
      ]
     },
     "execution_count": 8,
     "metadata": {},
     "output_type": "execute_result"
    },
    {
     "data": {
      "text/plain": [
       "current loss = 70.774078499975\t\n",
       "current loss = 70.66380673853\t\n",
       "current loss = 70.553679410809\t\n",
       "current loss = 70.443695116465\t\n"
      ]
     },
     "execution_count": 8,
     "metadata": {},
     "output_type": "execute_result"
    },
    {
     "data": {
      "text/plain": [
       "current loss = 70.333852464272\t\n",
       "current loss = 70.224150072196\t\n",
       "current loss = 70.114586567466\t\n",
       "current loss = 70.005160586644\t\n"
      ]
     },
     "execution_count": 8,
     "metadata": {},
     "output_type": "execute_result"
    },
    {
     "data": {
      "text/plain": [
       "current loss = 69.895870775696\t\n",
       "current loss = 69.78671579006\t\n",
       "current loss = 69.677694294711\t\n",
       "current loss = 69.568804964225\t\n"
      ]
     },
     "execution_count": 8,
     "metadata": {},
     "output_type": "execute_result"
    },
    {
     "data": {
      "text/plain": [
       "current loss = 69.460046482849\t\n",
       "current loss = 69.351417544555\t\n",
       "current loss = 69.24291685311\t\n"
      ]
     },
     "execution_count": 8,
     "metadata": {},
     "output_type": "execute_result"
    },
    {
     "data": {
      "text/plain": [
       "current loss = 69.134543122128\t\n",
       "current loss = 69.026295075136\t\n",
       "current loss = 68.918171445626\t\n",
       "current loss = 68.810170977115\t\n"
      ]
     },
     "execution_count": 8,
     "metadata": {},
     "output_type": "execute_result"
    },
    {
     "data": {
      "text/plain": [
       "current loss = 68.702292423196\t\n",
       "current loss = 68.594534547595\t\n",
       "current loss = 68.486896124222\t\n",
       "current loss = 68.379375937219\t\n",
       "current loss = 68.271972781015\t\n"
      ]
     },
     "execution_count": 8,
     "metadata": {},
     "output_type": "execute_result"
    },
    {
     "data": {
      "text/plain": [
       "current loss = 68.164685460369\t\n",
       "current loss = 68.057512790421\t\n",
       "current loss = 67.950453596734\t\n",
       "current loss = 67.843506715341\t\n"
      ]
     },
     "execution_count": 8,
     "metadata": {},
     "output_type": "execute_result"
    },
    {
     "data": {
      "text/plain": [
       "current loss = 67.736670992786\t\n",
       "current loss = 67.629945286166\t\n",
       "current loss = 67.523328463174\t\n",
       "current loss = 67.416819402133\t\n"
      ]
     },
     "execution_count": 8,
     "metadata": {},
     "output_type": "execute_result"
    },
    {
     "data": {
      "text/plain": [
       "current loss = 67.310416992036\t\n",
       "current loss = 67.204120132585\t\n",
       "current loss = 67.097927734222\t\n",
       "current loss = 66.991838718163\t\n"
      ]
     },
     "execution_count": 8,
     "metadata": {},
     "output_type": "execute_result"
    },
    {
     "data": {
      "text/plain": [
       "current loss = 66.885852016434\t\n",
       "current loss = 66.779966571897\t\n",
       "current loss = 66.674181338285\t\n",
       "current loss = 66.568495280225\t\n"
      ]
     },
     "execution_count": 8,
     "metadata": {},
     "output_type": "execute_result"
    },
    {
     "data": {
      "text/plain": [
       "current loss = 66.46290737327\t\n",
       "current loss = 66.357416603921\t\n",
       "current loss = 66.252021969654\t\n"
      ]
     },
     "execution_count": 8,
     "metadata": {},
     "output_type": "execute_result"
    },
    {
     "data": {
      "text/plain": [
       "current loss = 66.146722478942\t\n",
       "current loss = 66.041517151277\t\n",
       "current loss = 65.936405017192\t\n",
       "current loss = 65.831385118279\t\n"
      ]
     },
     "execution_count": 8,
     "metadata": {},
     "output_type": "execute_result"
    },
    {
     "data": {
      "text/plain": [
       "current loss = 65.726456507206\t\n",
       "current loss = 65.621618247736\t\n",
       "current loss = 65.516869414741\t\n",
       "current loss = 65.412209094218\t\n"
      ]
     },
     "execution_count": 8,
     "metadata": {},
     "output_type": "execute_result"
    },
    {
     "data": {
      "text/plain": [
       "current loss = 65.307636383299\t\n",
       "current loss = 65.203150390266\t\n",
       "current loss = 65.098750234559\t\n",
       "current loss = 64.994435046784\t\n"
      ]
     },
     "execution_count": 8,
     "metadata": {},
     "output_type": "execute_result"
    },
    {
     "data": {
      "text/plain": [
       "current loss = 64.890203968728\t\n",
       "current loss = 64.786056153356\t\n",
       "current loss = 64.681990764822\t\n"
      ]
     },
     "execution_count": 8,
     "metadata": {},
     "output_type": "execute_result"
    },
    {
     "data": {
      "text/plain": [
       "current loss = 64.578006978473\t\n",
       "current loss = 64.474103980851\t\n",
       "current loss = 64.370280969696\t\n",
       "current loss = 64.266537153943\t\n"
      ]
     },
     "execution_count": 8,
     "metadata": {},
     "output_type": "execute_result"
    },
    {
     "data": {
      "text/plain": [
       "current loss = 64.162871753727\t\n",
       "current loss = 64.059284000374\t\n",
       "current loss = 63.955773136406\t\n",
       "current loss = 63.85233841553\t\n"
      ]
     },
     "execution_count": 8,
     "metadata": {},
     "output_type": "execute_result"
    },
    {
     "data": {
      "text/plain": [
       "current loss = 63.748979102636\t\n",
       "current loss = 63.64569447379\t\n",
       "current loss = 63.542483816225\t\n"
      ]
     },
     "execution_count": 8,
     "metadata": {},
     "output_type": "execute_result"
    },
    {
     "data": {
      "text/plain": [
       "current loss = 63.439346428333\t\n",
       "current loss = 63.336281619657\t\n",
       "current loss = 63.233288710873\t\n",
       "current loss = 63.130367033785\t\n"
      ]
     },
     "execution_count": 8,
     "metadata": {},
     "output_type": "execute_result"
    },
    {
     "data": {
      "text/plain": [
       "current loss = 63.02751593131\t\n",
       "current loss = 62.92473475746\t\n",
       "current loss = 62.822022877327\t\n",
       "current loss = 62.71937966707\t\n"
      ]
     },
     "execution_count": 8,
     "metadata": {},
     "output_type": "execute_result"
    },
    {
     "data": {
      "text/plain": [
       "current loss = 62.616804513893\t\n",
       "current loss = 62.514296816028\t\n",
       "current loss = 62.411855982713\t\n",
       "current loss = 62.309481434174\t\n"
      ]
     },
     "execution_count": 8,
     "metadata": {},
     "output_type": "execute_result"
    },
    {
     "data": {
      "text/plain": [
       "current loss = 62.207172601599\t\n",
       "current loss = 62.104928927117\t\n",
       "current loss = 62.002749863773\t\n",
       "current loss = 61.900634875504\t\n"
      ]
     },
     "execution_count": 8,
     "metadata": {},
     "output_type": "execute_result"
    },
    {
     "data": {
      "text/plain": [
       "current loss = 61.79858343711\t\n",
       "current loss = 61.696595034226\t\n",
       "current loss = 61.5946691633\t\n",
       "current loss = 61.492805331554\t\n"
      ]
     },
     "execution_count": 8,
     "metadata": {},
     "output_type": "execute_result"
    },
    {
     "data": {
      "text/plain": [
       "current loss = 61.391003056962\t\n",
       "current loss = 61.289261868213\t\n",
       "current loss = 61.187581304682\t\n",
       "current loss = 61.085960916394\t\n"
      ]
     },
     "execution_count": 8,
     "metadata": {},
     "output_type": "execute_result"
    },
    {
     "data": {
      "text/plain": [
       "current loss = 60.984400263992\t\n",
       "current loss = 60.8828989187\t\n",
       "current loss = 60.781456462288\t\n",
       "current loss = 60.680072487036\t\n"
      ]
     },
     "execution_count": 8,
     "metadata": {},
     "output_type": "execute_result"
    },
    {
     "data": {
      "text/plain": [
       "current loss = 60.578746595692\t\n",
       "current loss = 60.477478401437\t\n",
       "current loss = 60.376267527843\t\n",
       "current loss = 60.275113608836\t\n"
      ]
     },
     "execution_count": 8,
     "metadata": {},
     "output_type": "execute_result"
    },
    {
     "data": {
      "text/plain": [
       "current loss = 60.174016288647\t\n",
       "current loss = 60.072975221779\t\n",
       "current loss = 59.971990072957\t\n"
      ]
     },
     "execution_count": 8,
     "metadata": {},
     "output_type": "execute_result"
    },
    {
     "data": {
      "text/plain": [
       "current loss = 59.871060517085\t\n",
       "current loss = 59.770186239205\t\n",
       "current loss = 59.669366934446\t\n",
       "current loss = 59.568602307983\t\n"
      ]
     },
     "execution_count": 8,
     "metadata": {},
     "output_type": "execute_result"
    },
    {
     "data": {
      "text/plain": [
       "current loss = 59.467892074982\t\n",
       "current loss = 59.367235960563\t\n",
       "current loss = 59.266633699739\t\n"
      ]
     },
     "execution_count": 8,
     "metadata": {},
     "output_type": "execute_result"
    },
    {
     "data": {
      "text/plain": [
       "current loss = 59.166085037377\t\n",
       "current loss = 59.06558972814\t\n",
       "current loss = 58.965147536441\t\n",
       "current loss = 58.864758236388\t\n"
      ]
     },
     "execution_count": 8,
     "metadata": {},
     "output_type": "execute_result"
    },
    {
     "data": {
      "text/plain": [
       "current loss = 58.764421611735\t\n",
       "current loss = 58.664137455823\t\n",
       "current loss = 58.563905571533\t\n",
       "current loss = 58.463725771227\t\n"
      ]
     },
     "execution_count": 8,
     "metadata": {},
     "output_type": "execute_result"
    },
    {
     "data": {
      "text/plain": [
       "current loss = 58.363597876694\t\n",
       "current loss = 58.263521719094\t\n",
       "current loss = 58.163497138903\t\n",
       "current loss = 58.063523985853\t\n"
      ]
     },
     "execution_count": 8,
     "metadata": {},
     "output_type": "execute_result"
    },
    {
     "data": {
      "text/plain": [
       "current loss = 57.963602118877\t\n"
      ]
     },
     "execution_count": 8,
     "metadata": {},
     "output_type": "execute_result"
    },
    {
     "data": {
      "text/plain": [
       "current loss = 57.863731406049\t\n",
       "current loss = 57.763911724525\t\n",
       "current loss = 57.664142960486\t\n"
      ]
     },
     "execution_count": 8,
     "metadata": {},
     "output_type": "execute_result"
    },
    {
     "data": {
      "text/plain": [
       "current loss = 57.564425009075\t\n",
       "current loss = 57.464757774336\t\n",
       "current loss = 57.365141169155\t\n",
       "current loss = 57.265575115199\t\n"
      ]
     },
     "execution_count": 8,
     "metadata": {},
     "output_type": "execute_result"
    },
    {
     "data": {
      "text/plain": [
       "current loss = 57.16605954285\t\n",
       "current loss = 57.066594391145\t\n",
       "current loss = 56.967179607713\t\n"
      ]
     },
     "execution_count": 8,
     "metadata": {},
     "output_type": "execute_result"
    },
    {
     "data": {
      "text/plain": [
       "current loss = 56.867815148709\t\n",
       "current loss = 56.768500978752\t\n",
       "current loss = 56.66923707086\t\n"
      ]
     },
     "execution_count": 8,
     "metadata": {},
     "output_type": "execute_result"
    },
    {
     "data": {
      "text/plain": [
       "current loss = 56.570023406381\t\n",
       "current loss = 56.470859974935\t\n",
       "current loss = 56.37174677434\t\n",
       "current loss = 56.272683810552\t"
      ]
     },
     "execution_count": 8,
     "metadata": {},
     "output_type": "execute_result"
    },
    {
     "data": {
      "text/plain": [
       "\n",
       "current loss = 56.173671097593\t\n",
       "current loss = 56.074708657486\t\n",
       "current loss = 55.97579652019\t\n"
      ]
     },
     "execution_count": 8,
     "metadata": {},
     "output_type": "execute_result"
    },
    {
     "data": {
      "text/plain": [
       "current loss = 55.876934723526\t\n",
       "current loss = 55.778123313113\t\n",
       "current loss = 55.6793623423\t\n"
      ]
     },
     "execution_count": 8,
     "metadata": {},
     "output_type": "execute_result"
    },
    {
     "data": {
      "text/plain": [
       "current loss = 55.580651872092\t\n",
       "current loss = 55.481991971085\t\n",
       "current loss = 55.383382715396\t\n"
      ]
     },
     "execution_count": 8,
     "metadata": {},
     "output_type": "execute_result"
    },
    {
     "data": {
      "text/plain": [
       "current loss = 55.284824188591\t\n",
       "current loss = 55.186316481614\t\n",
       "current loss = 55.087859692721\t\n",
       "current loss = 54.989453927403\t\n"
      ]
     },
     "execution_count": 8,
     "metadata": {},
     "output_type": "execute_result"
    },
    {
     "data": {
      "text/plain": [
       "current loss = 54.891099298319\t\n",
       "current loss = 54.792795925225\t\n",
       "current loss = 54.694543934898\t\n",
       "current loss = 54.596343461068\t\n"
      ]
     },
     "execution_count": 8,
     "metadata": {},
     "output_type": "execute_result"
    },
    {
     "data": {
      "text/plain": [
       "current loss = 54.498194644346\t\n",
       "current loss = 54.40009763215\t\n",
       "current loss = 54.302052578631\t\n"
      ]
     },
     "execution_count": 8,
     "metadata": {},
     "output_type": "execute_result"
    },
    {
     "data": {
      "text/plain": [
       "current loss = 54.204059644604\t\n",
       "current loss = 54.106118997473\t\n",
       "current loss = 54.008230811159\t\n"
      ]
     },
     "execution_count": 8,
     "metadata": {},
     "output_type": "execute_result"
    },
    {
     "data": {
      "text/plain": [
       "current loss = 53.910395266025\t\n",
       "current loss = 53.812612548804\t\n"
      ]
     },
     "execution_count": 8,
     "metadata": {},
     "output_type": "execute_result"
    },
    {
     "data": {
      "text/plain": [
       "current loss = 53.714882852527\t\n",
       "current loss = 53.617206376445\t\n"
      ]
     },
     "execution_count": 8,
     "metadata": {},
     "output_type": "execute_result"
    },
    {
     "data": {
      "text/plain": [
       "current loss = 53.51958332596\t\n",
       "current loss = 53.422013912548\t\n",
       "current loss = 53.324498353687\t\n"
      ]
     },
     "execution_count": 8,
     "metadata": {},
     "output_type": "execute_result"
    },
    {
     "data": {
      "text/plain": [
       "current loss = 53.227036872783\t\n",
       "current loss = 53.129629699092\t\n",
       "current loss = 53.032277067653\t\n"
      ]
     },
     "execution_count": 8,
     "metadata": {},
     "output_type": "execute_result"
    },
    {
     "data": {
      "text/plain": [
       "current loss = 52.934979219208\t\n",
       "current loss = 52.837736400129\t\n",
       "current loss = 52.740548862345\t\n"
      ]
     },
     "execution_count": 8,
     "metadata": {},
     "output_type": "execute_result"
    },
    {
     "data": {
      "text/plain": [
       "current loss = 52.643416863267\t\n",
       "current loss = 52.546340665714\t\n",
       "current loss = 52.449320537837\t\n"
      ]
     },
     "execution_count": 8,
     "metadata": {},
     "output_type": "execute_result"
    },
    {
     "data": {
      "text/plain": [
       "current loss = 52.352356753048\t\n",
       "current loss = 52.255449589942\t\n",
       "current loss = 52.158599332226\t\n"
      ]
     },
     "execution_count": 8,
     "metadata": {},
     "output_type": "execute_result"
    },
    {
     "data": {
      "text/plain": [
       "current loss = 52.061806268641\t\n",
       "current loss = 51.965070692892\t\n"
      ]
     },
     "execution_count": 8,
     "metadata": {},
     "output_type": "execute_result"
    },
    {
     "data": {
      "text/plain": [
       "current loss = 51.868392903571\t\n",
       "current loss = 51.771773204083\t\n",
       "current loss = 51.675211902574\t\n"
      ]
     },
     "execution_count": 8,
     "metadata": {},
     "output_type": "execute_result"
    },
    {
     "data": {
      "text/plain": [
       "current loss = 51.578709311853\t\n",
       "current loss = 51.482265749324\t\n",
       "current loss = 51.385881536906\t\n"
      ]
     },
     "execution_count": 8,
     "metadata": {},
     "output_type": "execute_result"
    },
    {
     "data": {
      "text/plain": [
       "current loss = 51.289557000965\t\n",
       "current loss = 51.193292472233\t\n",
       "current loss = 51.097088285745\t\n",
       "current loss = 51.000944780755\t\n"
      ]
     },
     "execution_count": 8,
     "metadata": {},
     "output_type": "execute_result"
    },
    {
     "data": {
      "text/plain": [
       "current loss = 50.904862300668\t\n",
       "current loss = 50.808841192969\t\n",
       "current loss = 50.712881809146\t\n"
      ]
     },
     "execution_count": 8,
     "metadata": {},
     "output_type": "execute_result"
    },
    {
     "data": {
      "text/plain": [
       "current loss = 50.616984504616\t\n",
       "current loss = 50.52114963866\t\n",
       "current loss = 50.425377574341\t\n",
       "current loss = 50.329668678439\t\n"
      ]
     },
     "execution_count": 8,
     "metadata": {},
     "output_type": "execute_result"
    },
    {
     "data": {
      "text/plain": [
       "current loss = 50.234023321374\t\n",
       "current loss = 50.138441877138\t\n",
       "current loss = 50.042924723221\t\n",
       "current loss = 49.94747224054\t\n"
      ]
     },
     "execution_count": 8,
     "metadata": {},
     "output_type": "execute_result"
    },
    {
     "data": {
      "text/plain": [
       "current loss = 49.852084813367\t\n",
       "current loss = 49.75676282926\t\n",
       "current loss = 49.661506678989\t\n"
      ]
     },
     "execution_count": 8,
     "metadata": {},
     "output_type": "execute_result"
    },
    {
     "data": {
      "text/plain": [
       "current loss = 49.566316756469\t\n",
       "current loss = 49.471193458687\t\n",
       "current loss = 49.376137185632\t\n"
      ]
     },
     "execution_count": 8,
     "metadata": {},
     "output_type": "execute_result"
    },
    {
     "data": {
      "text/plain": [
       "current loss = 49.281148340228\t\n",
       "current loss = 49.186227328261\t\n",
       "current loss = 49.09137455831\t\n",
       "current loss = 48.996590441681\t\n"
      ]
     },
     "execution_count": 8,
     "metadata": {},
     "output_type": "execute_result"
    },
    {
     "data": {
      "text/plain": [
       "current loss = 48.901875392334\t\n",
       "current loss = 48.807229826817\t\n",
       "current loss = 48.7126541642\t\n"
      ]
     },
     "execution_count": 8,
     "metadata": {},
     "output_type": "execute_result"
    },
    {
     "data": {
      "text/plain": [
       "current loss = 48.618148826\t\n",
       "current loss = 48.523714236122\t\n",
       "current loss = 48.429350820785\t\n"
      ]
     },
     "execution_count": 8,
     "metadata": {},
     "output_type": "execute_result"
    },
    {
     "data": {
      "text/plain": [
       "current loss = 48.335059008459\t\n",
       "current loss = 48.240839229796\t\n",
       "current loss = 48.146691917564\t\n"
      ]
     },
     "execution_count": 8,
     "metadata": {},
     "output_type": "execute_result"
    },
    {
     "data": {
      "text/plain": [
       "current loss = 48.052617506583\t\n",
       "current loss = 47.958616433658\t\n",
       "current loss = 47.864689137511\t\n",
       "current loss = 47.770836058721\t\n"
      ]
     },
     "execution_count": 8,
     "metadata": {},
     "output_type": "execute_result"
    },
    {
     "data": {
      "text/plain": [
       "current loss = 47.677057639656\t\n",
       "current loss = 47.58335432441\t\n",
       "current loss = 47.489726558737\t\n"
      ]
     },
     "execution_count": 8,
     "metadata": {},
     "output_type": "execute_result"
    },
    {
     "data": {
      "text/plain": [
       "current loss = 47.39617478999\t\n",
       "current loss = 47.302699467057\t\n",
       "current loss = 47.209301040298\t\n",
       "current loss = 47.115979961482\t\n"
      ]
     },
     "execution_count": 8,
     "metadata": {},
     "output_type": "execute_result"
    },
    {
     "data": {
      "text/plain": [
       "current loss = 47.022736683726\t\n",
       "current loss = 46.92957166143\t\n",
       "current loss = 46.836485350223\t\n"
      ]
     },
     "execution_count": 8,
     "metadata": {},
     "output_type": "execute_result"
    },
    {
     "data": {
      "text/plain": [
       "current loss = 46.743478206893\t\n",
       "current loss = 46.650550689334\t\n",
       "current loss = 46.55770325648\t\n"
      ]
     },
     "execution_count": 8,
     "metadata": {},
     "output_type": "execute_result"
    },
    {
     "data": {
      "text/plain": [
       "current loss = 46.46493636825\t\n",
       "current loss = 46.372250485485\t\n",
       "current loss = 46.279646069892\t\n"
      ]
     },
     "execution_count": 8,
     "metadata": {},
     "output_type": "execute_result"
    },
    {
     "data": {
      "text/plain": [
       "current loss = 46.187123583984\t\n",
       "current loss = 46.094683491022\t\n",
       "current loss = 46.002326254957\t\n",
       "current loss = 45.910052340373\t\n"
      ]
     },
     "execution_count": 8,
     "metadata": {},
     "output_type": "execute_result"
    },
    {
     "data": {
      "text/plain": [
       "current loss = 45.81786221243\t\n",
       "current loss = 45.72575633681\t\n",
       "current loss = 45.633735179657\t\n"
      ]
     },
     "execution_count": 8,
     "metadata": {},
     "output_type": "execute_result"
    },
    {
     "data": {
      "text/plain": [
       "current loss = 45.541799207523\t\n",
       "current loss = 45.449948887314\t\n",
       "current loss = 45.358184686236\t\n",
       "current loss = 45.266507071737\t\n"
      ]
     },
     "execution_count": 8,
     "metadata": {},
     "output_type": "execute_result"
    },
    {
     "data": {
      "text/plain": [
       "current loss = 45.174916511456\t\n",
       "current loss = 45.083413473171\t\n",
       "current loss = 44.991998424742\t\n"
      ]
     },
     "execution_count": 8,
     "metadata": {},
     "output_type": "execute_result"
    },
    {
     "data": {
      "text/plain": [
       "current loss = 44.900671834062\t\n",
       "current loss = 44.809434169004\t\n",
       "current loss = 44.718285897368\t\n"
      ]
     },
     "execution_count": 8,
     "metadata": {},
     "output_type": "execute_result"
    },
    {
     "data": {
      "text/plain": [
       "current loss = 44.627227486834\t\n",
       "current loss = 44.536259404905\t\n",
       "current loss = 44.445382118862\t\n",
       "current loss = 44.354596095714\t\n"
      ]
     },
     "execution_count": 8,
     "metadata": {},
     "output_type": "execute_result"
    },
    {
     "data": {
      "text/plain": [
       "current loss = 44.263901802144\t\n",
       "current loss = 44.173299704468\t\n",
       "current loss = 44.082790268578\t\n"
      ]
     },
     "execution_count": 8,
     "metadata": {},
     "output_type": "execute_result"
    },
    {
     "data": {
      "text/plain": [
       "current loss = 43.992373959901\t\n",
       "current loss = 43.902051243348\t\n",
       "current loss = 43.811822583268\t\n"
      ]
     },
     "execution_count": 8,
     "metadata": {},
     "output_type": "execute_result"
    },
    {
     "data": {
      "text/plain": [
       "current loss = 43.721688443402\t\n",
       "current loss = 43.631649286835\t\n",
       "current loss = 43.541705575954\t\n"
      ]
     },
     "execution_count": 8,
     "metadata": {},
     "output_type": "execute_result"
    },
    {
     "data": {
      "text/plain": [
       "current loss = 43.4518577724\t\n",
       "current loss = 43.362106337023\t\n",
       "current loss = 43.272451729843\t\n",
       "current loss = 43.182894409997\t\n"
      ]
     },
     "execution_count": 8,
     "metadata": {},
     "output_type": "execute_result"
    },
    {
     "data": {
      "text/plain": [
       "current loss = 43.093434835707\t\n",
       "current loss = 43.004073464228\t\n",
       "current loss = 42.914810751809\t\n",
       "current loss = 42.825647153655\t\n"
      ]
     },
     "execution_count": 8,
     "metadata": {},
     "output_type": "execute_result"
    },
    {
     "data": {
      "text/plain": [
       "current loss = 42.73658312388\t\n",
       "current loss = 42.647619115468\t\n",
       "current loss = 42.558755580235\t\n"
      ]
     },
     "execution_count": 8,
     "metadata": {},
     "output_type": "execute_result"
    },
    {
     "data": {
      "text/plain": [
       "current loss = 42.469992968786\t\n",
       "current loss = 42.381331730478\t\n"
      ]
     },
     "execution_count": 8,
     "metadata": {},
     "output_type": "execute_result"
    },
    {
     "data": {
      "text/plain": [
       "current loss = 42.29277231338\t\n",
       "current loss = 42.204315164232\t\n"
      ]
     },
     "execution_count": 8,
     "metadata": {},
     "output_type": "execute_result"
    },
    {
     "data": {
      "text/plain": [
       "current loss = 42.115960728413\t\n"
      ]
     },
     "execution_count": 8,
     "metadata": {},
     "output_type": "execute_result"
    },
    {
     "data": {
      "text/plain": [
       "current loss = 42.0277094499\t\n"
      ]
     },
     "execution_count": 8,
     "metadata": {},
     "output_type": "execute_result"
    },
    {
     "data": {
      "text/plain": [
       "current loss = 41.939561771228\t\n"
      ]
     },
     "execution_count": 8,
     "metadata": {},
     "output_type": "execute_result"
    },
    {
     "data": {
      "text/plain": [
       "current loss = 41.851518133459\t\n",
       "current loss = 41.763578976144\t\n",
       "current loss = 41.675744737286\t\n",
       "current loss = 41.588015853304\t\n",
       "current loss = 41.500392759003\t\n"
      ]
     },
     "execution_count": 8,
     "metadata": {},
     "output_type": "execute_result"
    },
    {
     "data": {
      "text/plain": [
       "current loss = 41.412875887536\t\n",
       "current loss = 41.32546567037\t\n",
       "current loss = 41.238162537255\t\n",
       "current loss = 41.15096691619\t\n"
      ]
     },
     "execution_count": 8,
     "metadata": {},
     "output_type": "execute_result"
    },
    {
     "data": {
      "text/plain": [
       "current loss = 41.06387923339\t\n",
       "current loss = 40.976899913256\t\n",
       "current loss = 40.890029378343\t\n"
      ]
     },
     "execution_count": 8,
     "metadata": {},
     "output_type": "execute_result"
    },
    {
     "data": {
      "text/plain": [
       "current loss = 40.803268049327\t\n",
       "current loss = 40.716616344977\t\n",
       "current loss = 40.630074682124\t\n",
       "current loss = 40.543643475631\t\n"
      ]
     },
     "execution_count": 8,
     "metadata": {},
     "output_type": "execute_result"
    },
    {
     "data": {
      "text/plain": [
       "current loss = 40.457323138367\t\n",
       "current loss = 40.371114081172\t\n",
       "current loss = 40.285016712835\t\n",
       "current loss = 40.199031440065\t\n"
      ]
     },
     "execution_count": 8,
     "metadata": {},
     "output_type": "execute_result"
    },
    {
     "data": {
      "text/plain": [
       "current loss = 40.11315866746\t\n",
       "current loss = 40.027398797485\t\n",
       "current loss = 39.941752230442\t\n"
      ]
     },
     "execution_count": 8,
     "metadata": {},
     "output_type": "execute_result"
    },
    {
     "data": {
      "text/plain": [
       "current loss = 39.856219364447\t\n",
       "current loss = 39.770800595402\t\n",
       "current loss = 39.685496316971\t\n",
       "current loss = 39.600306920557\t\n"
      ]
     },
     "execution_count": 8,
     "metadata": {},
     "output_type": "execute_result"
    },
    {
     "data": {
      "text/plain": [
       "current loss = 39.515232795275\t\n",
       "current loss = 39.43027432793\t\n",
       "current loss = 39.345431902993\t\n",
       "current loss = 39.260705902579\t\n"
      ]
     },
     "execution_count": 8,
     "metadata": {},
     "output_type": "execute_result"
    },
    {
     "data": {
      "text/plain": [
       "current loss = 39.176096706424\t\n",
       "current loss = 39.091604691862\t\n",
       "current loss = 39.007230233808\t\n",
       "current loss = 38.92297370473\t\n"
      ]
     },
     "execution_count": 8,
     "metadata": {},
     "output_type": "execute_result"
    },
    {
     "data": {
      "text/plain": [
       "current loss = 38.838835474633\t\n",
       "current loss = 38.754815911038\t\n",
       "current loss = 38.670915378961\t\n",
       "current loss = 38.587134240895\t\n",
       "current loss = 38.50347285679\t\n"
      ]
     },
     "execution_count": 8,
     "metadata": {},
     "output_type": "execute_result"
    },
    {
     "data": {
      "text/plain": [
       "current loss = 38.419931584034\t\n",
       "current loss = 38.336510777438\t\n",
       "current loss = 38.253210789213\t\n",
       "current loss = 38.170031968956\t\n"
      ]
     },
     "execution_count": 8,
     "metadata": {},
     "output_type": "execute_result"
    },
    {
     "data": {
      "text/plain": [
       "current loss = 38.086974663634\t\n",
       "current loss = 38.004039217564\t\n",
       "current loss = 37.9212259724\t\n",
       "current loss = 37.838535267116\t\n"
      ]
     },
     "execution_count": 8,
     "metadata": {},
     "output_type": "execute_result"
    },
    {
     "data": {
      "text/plain": [
       "current loss = 37.755967437991\t\n",
       "current loss = 37.673522818591\t\n",
       "current loss = 37.591201739762\t\n",
       "current loss = 37.509004529606\t\n"
      ]
     },
     "execution_count": 8,
     "metadata": {},
     "output_type": "execute_result"
    },
    {
     "data": {
      "text/plain": [
       "current loss = 37.426931513476\t\n",
       "current loss = 37.344983013956\t\n",
       "current loss = 37.263159350853\t\n",
       "current loss = 37.181460841182\t\n",
       "current loss = 37.099887799151\t\n"
      ]
     },
     "execution_count": 8,
     "metadata": {},
     "output_type": "execute_result"
    },
    {
     "data": {
      "text/plain": [
       "current loss = 37.018440536156\t\n",
       "current loss = 36.937119360763\t\n",
       "current loss = 36.855924578699\t\n"
      ]
     },
     "execution_count": 8,
     "metadata": {},
     "output_type": "execute_result"
    },
    {
     "data": {
      "text/plain": [
       "current loss = 36.774856492843\t\n",
       "current loss = 36.693915403213\t\n",
       "current loss = 36.613101606958\t\n",
       "current loss = 36.532415398346\t\n",
       "current loss = 36.451857068757\t\n"
      ]
     },
     "execution_count": 8,
     "metadata": {},
     "output_type": "execute_result"
    },
    {
     "data": {
      "text/plain": [
       "current loss = 36.371426906672\t\n",
       "current loss = 36.291125197667\t\n",
       "current loss = 36.2109522244\t\n",
       "current loss = 36.130908266609\t\n"
      ]
     },
     "execution_count": 8,
     "metadata": {},
     "output_type": "execute_result"
    },
    {
     "data": {
      "text/plain": [
       "current loss = 36.050993601101\t\n",
       "current loss = 35.971208501743\t\n",
       "current loss = 35.891553239459\t\n",
       "current loss = 35.812028082221\t\n"
      ]
     },
     "execution_count": 8,
     "metadata": {},
     "output_type": "execute_result"
    },
    {
     "data": {
      "text/plain": [
       "current loss = 35.732633295043\t\n",
       "current loss = 35.653369139977\t\n",
       "current loss = 35.574235876102\t\n",
       "current loss = 35.495233759526\t\n"
      ]
     },
     "execution_count": 8,
     "metadata": {},
     "output_type": "execute_result"
    },
    {
     "data": {
      "text/plain": [
       "current loss = 35.416363043377\t\n",
       "current loss = 35.337623977796\t\n",
       "current loss = 35.259016809937\t\n",
       "current loss = 35.180541783963\t\n"
      ]
     },
     "execution_count": 8,
     "metadata": {},
     "output_type": "execute_result"
    },
    {
     "data": {
      "text/plain": [
       "current loss = 35.102199141036\t\n",
       "current loss = 35.023989119323\t\n",
       "current loss = 34.945911953986\t\n",
       "current loss = 34.867967877178\t\n"
      ]
     },
     "execution_count": 8,
     "metadata": {},
     "output_type": "execute_result"
    },
    {
     "data": {
      "text/plain": [
       "current loss = 34.790157118049\t\n",
       "current loss = 34.712479902735\t\n",
       "current loss = 34.634936454358\t\n",
       "current loss = 34.55752699303\t\n"
      ]
     },
     "execution_count": 8,
     "metadata": {},
     "output_type": "execute_result"
    },
    {
     "data": {
      "text/plain": [
       "current loss = 34.480251735842\t\n",
       "current loss = 34.403110896872\t\n",
       "current loss = 34.326104687179\t\n",
       "current loss = 34.249233314803\t\n"
      ]
     },
     "execution_count": 8,
     "metadata": {},
     "output_type": "execute_result"
    },
    {
     "data": {
      "text/plain": [
       "current loss = 34.172496984766\t\n",
       "current loss = 34.095895899071\t\n"
      ]
     },
     "execution_count": 8,
     "metadata": {},
     "output_type": "execute_result"
    },
    {
     "data": {
      "text/plain": [
       "current loss = 34.019430256703\t\n",
       "current loss = 33.943100253628\t\n",
       "current loss = 33.866906082797\t\n",
       "current loss = 33.790847934142\t\n"
      ]
     },
     "execution_count": 8,
     "metadata": {},
     "output_type": "execute_result"
    },
    {
     "data": {
      "text/plain": [
       "current loss = 33.714925994583\t\n",
       "current loss = 33.639140448024\t\n",
       "current loss = 33.563491475359\t\n"
      ]
     },
     "execution_count": 8,
     "metadata": {},
     "output_type": "execute_result"
    },
    {
     "data": {
      "text/plain": [
       "current loss = 33.487979254473\t\n",
       "current loss = 33.412603960243\t\n",
       "current loss = 33.337365764539\t\n"
      ]
     },
     "execution_count": 8,
     "metadata": {},
     "output_type": "execute_result"
    },
    {
     "data": {
      "text/plain": [
       "current loss = 33.262264836233\t\n",
       "current loss = 33.187301341196\t\n",
       "current loss = 33.112475442302\t\n"
      ]
     },
     "execution_count": 8,
     "metadata": {},
     "output_type": "execute_result"
    },
    {
     "data": {
      "text/plain": [
       "current loss = 33.037787299434\t\n",
       "current loss = 32.963237069486\t\n",
       "current loss = 32.888824906367\t\n",
       "current loss = 32.814550961005\t\n"
      ]
     },
     "execution_count": 8,
     "metadata": {},
     "output_type": "execute_result"
    },
    {
     "data": {
      "text/plain": [
       "current loss = 32.740415381353\t\n",
       "current loss = 32.666418312389\t\n",
       "current loss = 32.592559896127\t\n"
      ]
     },
     "execution_count": 8,
     "metadata": {},
     "output_type": "execute_result"
    },
    {
     "data": {
      "text/plain": [
       "current loss = 32.518840271618\t\n",
       "current loss = 32.445259574954\t\n",
       "current loss = 32.371817939277\t\n",
       "current loss = 32.298515494783\t\n"
      ]
     },
     "execution_count": 8,
     "metadata": {},
     "output_type": "execute_result"
    },
    {
     "data": {
      "text/plain": [
       "current loss = 32.225352368728\t\n",
       "current loss = 32.152328685432\t\n",
       "current loss = 32.079444566287\t\n",
       "current loss = 32.006700129766\t\n"
      ]
     },
     "execution_count": 8,
     "metadata": {},
     "output_type": "execute_result"
    },
    {
     "data": {
      "text/plain": [
       "current loss = 31.934095491422\t\n",
       "current loss = 31.861630763903\t\n",
       "current loss = 31.789306056954\t\n"
      ]
     },
     "execution_count": 8,
     "metadata": {},
     "output_type": "execute_result"
    },
    {
     "data": {
      "text/plain": [
       "current loss = 31.717121477424\t\n",
       "current loss = 31.645077129278\t\n",
       "current loss = 31.573173113597\t\n"
      ]
     },
     "execution_count": 8,
     "metadata": {},
     "output_type": "execute_result"
    },
    {
     "data": {
      "text/plain": [
       "current loss = 31.501409528592\t\n",
       "current loss = 31.429786469608\t\n",
       "current loss = 31.358304029135\t\n"
      ]
     },
     "execution_count": 8,
     "metadata": {},
     "output_type": "execute_result"
    },
    {
     "data": {
      "text/plain": [
       "current loss = 31.286962296813\t\n",
       "current loss = 31.215761359442\t\n",
       "current loss = 31.144701300989\t\n",
       "current loss = 31.0737822026\t\n"
      ]
     },
     "execution_count": 8,
     "metadata": {},
     "output_type": "execute_result"
    },
    {
     "data": {
      "text/plain": [
       "current loss = 31.003004142604\t\n",
       "current loss = 30.932367196524\t\n",
       "current loss = 30.861871437089\t\n"
      ]
     },
     "execution_count": 8,
     "metadata": {},
     "output_type": "execute_result"
    },
    {
     "data": {
      "text/plain": [
       "current loss = 30.791516934236\t\n",
       "current loss = 30.721303755128\t\n",
       "current loss = 30.651231964157\t\n"
      ]
     },
     "execution_count": 8,
     "metadata": {},
     "output_type": "execute_result"
    },
    {
     "data": {
      "text/plain": [
       "current loss = 30.581301622954\t\n",
       "current loss = 30.511512790403\t\n",
       "current loss = 30.441865522647\t\n",
       "current loss = 30.3723598731\t\n"
      ]
     },
     "execution_count": 8,
     "metadata": {},
     "output_type": "execute_result"
    },
    {
     "data": {
      "text/plain": [
       "current loss = 30.302995892456\t\n",
       "current loss = 30.233773628697\t\n",
       "current loss = 30.16469312711\t\n"
      ]
     },
     "execution_count": 8,
     "metadata": {},
     "output_type": "execute_result"
    },
    {
     "data": {
      "text/plain": [
       "current loss = 30.095754430291\t\n",
       "current loss = 30.026957578157\t\n",
       "current loss = 29.958302607959\t\n"
      ]
     },
     "execution_count": 8,
     "metadata": {},
     "output_type": "execute_result"
    },
    {
     "data": {
      "text/plain": [
       "current loss = 29.889789554293\t\n",
       "current loss = 29.821418449106\t\n",
       "current loss = 29.753189321712\t\n",
       "current loss = 29.685102198802\t\n"
      ]
     },
     "execution_count": 8,
     "metadata": {},
     "output_type": "execute_result"
    },
    {
     "data": {
      "text/plain": [
       "current loss = 29.617157104454\t\n",
       "current loss = 29.549354060145\t\n",
       "current loss = 29.481693084764\t\n"
      ]
     },
     "execution_count": 8,
     "metadata": {},
     "output_type": "execute_result"
    },
    {
     "data": {
      "text/plain": [
       "current loss = 29.414174194621\t\n",
       "current loss = 29.346797403459\t\n",
       "current loss = 29.279562722469\t\n",
       "current loss = 29.212470160296\t\n",
       "current loss = 29.145519723058\t\n"
      ]
     },
     "execution_count": 8,
     "metadata": {},
     "output_type": "execute_result"
    },
    {
     "data": {
      "text/plain": [
       "current loss = 29.07871141435\t\n",
       "current loss = 29.012045235265\t\n",
       "current loss = 28.945521184398\t\n",
       "current loss = 28.879139257864\t\n"
      ]
     },
     "execution_count": 8,
     "metadata": {},
     "output_type": "execute_result"
    },
    {
     "data": {
      "text/plain": [
       "current loss = 28.812899449306\t\n",
       "current loss = 28.746801749911\t\n",
       "current loss = 28.680846148422\t\n",
       "current loss = 28.615032631146\t\n"
      ]
     },
     "execution_count": 8,
     "metadata": {},
     "output_type": "execute_result"
    },
    {
     "data": {
      "text/plain": [
       "current loss = 28.549361181974\t\n",
       "current loss = 28.483831782388\t\n",
       "current loss = 28.418444411476\t\n",
       "current loss = 28.353199045945\t\n"
      ]
     },
     "execution_count": 8,
     "metadata": {},
     "output_type": "execute_result"
    },
    {
     "data": {
      "text/plain": [
       "current loss = 28.288095660131\t\n",
       "current loss = 28.223134226018\t\n",
       "current loss = 28.158314713244\t\n",
       "current loss = 28.09363708912\t\n"
      ]
     },
     "execution_count": 8,
     "metadata": {},
     "output_type": "execute_result"
    },
    {
     "data": {
      "text/plain": [
       "current loss = 28.029101318638\t\n",
       "current loss = 27.964707364489\t\n",
       "current loss = 27.900455187072\t\n",
       "current loss = 27.83634474451\t\n",
       "current loss = 27.772375992663\t\n"
      ]
     },
     "execution_count": 8,
     "metadata": {},
     "output_type": "execute_result"
    },
    {
     "data": {
      "text/plain": [
       "current loss = 27.70854888514\t\n",
       "current loss = 27.644863373313\t\n",
       "current loss = 27.581319406331\t\n",
       "current loss = 27.517916931135\t\n"
      ]
     },
     "execution_count": 8,
     "metadata": {},
     "output_type": "execute_result"
    },
    {
     "data": {
      "text/plain": [
       "current loss = 27.454655892467\t\n",
       "current loss = 27.391536232887\t\n",
       "current loss = 27.328557892787\t\n",
       "current loss = 27.265720810403\t\n"
      ]
     },
     "execution_count": 8,
     "metadata": {},
     "output_type": "execute_result"
    },
    {
     "data": {
      "text/plain": [
       "current loss = 27.203024921829\t\n",
       "current loss = 27.14047016103\t\n",
       "current loss = 27.07805645986\t\n",
       "current loss = 27.015783748068\t\n"
      ]
     },
     "execution_count": 8,
     "metadata": {},
     "output_type": "execute_result"
    },
    {
     "data": {
      "text/plain": [
       "current loss = 26.95365195332\t\n",
       "current loss = 26.891661001206\t\n",
       "current loss = 26.829810815259\t\n",
       "current loss = 26.768101316966\t\n",
       "current loss = 26.706532425782\t\n"
      ]
     },
     "execution_count": 8,
     "metadata": {},
     "output_type": "execute_result"
    },
    {
     "data": {
      "text/plain": [
       "current loss = 26.645104059146\t\n",
       "current loss = 26.583816132491\t\n",
       "current loss = 26.522668559263\t\n",
       "current loss = 26.461661250931\t\n"
      ]
     },
     "execution_count": 8,
     "metadata": {},
     "output_type": "execute_result"
    },
    {
     "data": {
      "text/plain": [
       "current loss = 26.400794117002\t\n",
       "current loss = 26.340067065035\t\n",
       "current loss = 26.279480000657\t\n"
      ]
     },
     "execution_count": 8,
     "metadata": {},
     "output_type": "execute_result"
    },
    {
     "data": {
      "text/plain": [
       "current loss = 26.219032827573\t\n",
       "current loss = 26.158725447582\t\n",
       "current loss = 26.098557760594\t\n"
      ]
     },
     "execution_count": 8,
     "metadata": {},
     "output_type": "execute_result"
    },
    {
     "data": {
      "text/plain": [
       "current loss = 26.038529664639\t\n",
       "current loss = 25.978641055882\t\n",
       "current loss = 25.918891828642\t\n",
       "current loss = 25.859281875397\t\n",
       "current loss = 25.799811086809\t\n"
      ]
     },
     "execution_count": 8,
     "metadata": {},
     "output_type": "execute_result"
    },
    {
     "data": {
      "text/plain": [
       "current loss = 25.740479351727\t\n",
       "current loss = 25.681286557211\t\n",
       "current loss = 25.622232588536\t\n"
      ]
     },
     "execution_count": 8,
     "metadata": {},
     "output_type": "execute_result"
    },
    {
     "data": {
      "text/plain": [
       "current loss = 25.563317329215\t\n",
       "current loss = 25.504540661009\t\n",
       "current loss = 25.44590246394\t\n",
       "current loss = 25.387402616306\t\n"
      ]
     },
     "execution_count": 8,
     "metadata": {},
     "output_type": "execute_result"
    },
    {
     "data": {
      "text/plain": [
       "current loss = 25.329040994696\t\n",
       "current loss = 25.270817474003\t\n",
       "current loss = 25.212731927438\t\n",
       "current loss = 25.154784226543\t\n"
      ]
     },
     "execution_count": 8,
     "metadata": {},
     "output_type": "execute_result"
    },
    {
     "data": {
      "text/plain": [
       "current loss = 25.096974241207\t\n",
       "current loss = 25.039301839679\t\n",
       "current loss = 24.981766888582\t\n",
       "current loss = 24.924369252923\t\n",
       "current loss = 24.867108796116\t"
      ]
     },
     "execution_count": 8,
     "metadata": {},
     "output_type": "execute_result"
    },
    {
     "data": {
      "text/plain": [
       "\n",
       "current loss = 24.809985379986\t\n",
       "current loss = 24.752998864788\t\n",
       "current loss = 24.696149109221\t\n",
       "current loss = 24.63943597044\t\n"
      ]
     },
     "execution_count": 8,
     "metadata": {},
     "output_type": "execute_result"
    },
    {
     "data": {
      "text/plain": [
       "current loss = 24.582859304069\t\n",
       "current loss = 24.526418964219\t\n",
       "current loss = 24.470114803495\t\n",
       "current loss = 24.413946673017\t\n"
      ]
     },
     "execution_count": 8,
     "metadata": {},
     "output_type": "execute_result"
    },
    {
     "data": {
      "text/plain": [
       "current loss = 24.357914422428\t\n",
       "current loss = 24.30201789991\t\n",
       "current loss = 24.246256952198\t\n",
       "current loss = 24.190631424592\t\n"
      ]
     },
     "execution_count": 8,
     "metadata": {},
     "output_type": "execute_result"
    },
    {
     "data": {
      "text/plain": [
       "current loss = 24.135141160972\t\n",
       "current loss = 24.079786003811\t\n",
       "current loss = 24.024565794187\t\n",
       "current loss = 23.969480371799\t\n"
      ]
     },
     "execution_count": 8,
     "metadata": {},
     "output_type": "execute_result"
    },
    {
     "data": {
      "text/plain": [
       "current loss = 23.91452957498\t\n",
       "current loss = 23.859713240707\t\n",
       "current loss = 23.80503120462\t\n",
       "current loss = 23.750483301031\t\n"
      ]
     },
     "execution_count": 8,
     "metadata": {},
     "output_type": "execute_result"
    },
    {
     "data": {
      "text/plain": [
       "current loss = 23.696069362936\t\n",
       "current loss = 23.641789222035\t\n",
       "current loss = 23.587642708738\t\n",
       "current loss = 23.533629652181\t\n"
      ]
     },
     "execution_count": 8,
     "metadata": {},
     "output_type": "execute_result"
    },
    {
     "data": {
      "text/plain": [
       "current loss = 23.479749880242\t\n",
       "current loss = 23.426003219547\t\n",
       "current loss = 23.372389495492\t\n",
       "current loss = 23.318908532247\t\n"
      ]
     },
     "execution_count": 8,
     "metadata": {},
     "output_type": "execute_result"
    },
    {
     "data": {
      "text/plain": [
       "current loss = 23.265560152776\t\n",
       "current loss = 23.212344178846\t\n",
       "current loss = 23.159260431041\t\n",
       "current loss = 23.106308728776\t\n"
      ]
     },
     "execution_count": 8,
     "metadata": {},
     "output_type": "execute_result"
    },
    {
     "data": {
      "text/plain": [
       "current loss = 23.053488890307\t\n",
       "current loss = 23.000800732747\t\n",
       "current loss = 22.948244072076\t\n",
       "current loss = 22.895818723156\t\n"
      ]
     },
     "execution_count": 8,
     "metadata": {},
     "output_type": "execute_result"
    },
    {
     "data": {
      "text/plain": [
       "current loss = 22.84352449974\t\n",
       "current loss = 22.791361214489\t\n",
       "current loss = 22.739328678982\t\n",
       "current loss = 22.687426703729\t\n"
      ]
     },
     "execution_count": 8,
     "metadata": {},
     "output_type": "execute_result"
    },
    {
     "data": {
      "text/plain": [
       "current loss = 22.635655098183\t\n",
       "current loss = 22.584013670752\t\n",
       "current loss = 22.532502228814\t\n",
       "current loss = 22.481120578727\t\n"
      ]
     },
     "execution_count": 8,
     "metadata": {},
     "output_type": "execute_result"
    },
    {
     "data": {
      "text/plain": [
       "current loss = 22.429868525838\t\n",
       "current loss = 22.378745874504\t\n",
       "current loss = 22.327752428096\t\n",
       "current loss = 22.276887989014\t\n"
      ]
     },
     "execution_count": 8,
     "metadata": {},
     "output_type": "execute_result"
    },
    {
     "data": {
      "text/plain": [
       "current loss = 22.226152358699\t\n",
       "current loss = 22.175545337645\t\n",
       "current loss = 22.125066725413\t\n",
       "current loss = 22.074716320637\t\n"
      ]
     },
     "execution_count": 8,
     "metadata": {},
     "output_type": "execute_result"
    },
    {
     "data": {
      "text/plain": [
       "current loss = 22.024493921042\t\n",
       "current loss = 21.974399323454\t\n",
       "current loss = 21.924432323809\t\n",
       "current loss = 21.874592717168\t\n"
      ]
     },
     "execution_count": 8,
     "metadata": {},
     "output_type": "execute_result"
    },
    {
     "data": {
      "text/plain": [
       "current loss = 21.824880297727\t\n",
       "current loss = 21.77529485883\t\n",
       "current loss = 21.725836192976\t\n",
       "current loss = 21.676504091839\t\n"
      ]
     },
     "execution_count": 8,
     "metadata": {},
     "output_type": "execute_result"
    },
    {
     "data": {
      "text/plain": [
       "current loss = 21.627298346271\t\n",
       "current loss = 21.578218746316\t\n",
       "current loss = 21.529265081224\t\n"
      ]
     },
     "execution_count": 8,
     "metadata": {},
     "output_type": "execute_result"
    },
    {
     "data": {
      "text/plain": [
       "current loss = 21.480437139459\t\n",
       "current loss = 21.431734708712\t\n"
      ]
     },
     "execution_count": 8,
     "metadata": {},
     "output_type": "execute_result"
    },
    {
     "data": {
      "text/plain": [
       "current loss = 21.38315757591\t\n",
       "current loss = 21.334705527231\t\n",
       "current loss = 21.286378348111\t\n"
      ]
     },
     "execution_count": 8,
     "metadata": {},
     "output_type": "execute_result"
    },
    {
     "data": {
      "text/plain": [
       "current loss = 21.238175823255\t\n",
       "current loss = 21.190097736652\t\n",
       "current loss = 21.142143871581\t\n"
      ]
     },
     "execution_count": 8,
     "metadata": {},
     "output_type": "execute_result"
    },
    {
     "data": {
      "text/plain": [
       "current loss = 21.094314010626\t\n",
       "current loss = 21.046607935684\t\n",
       "current loss = 20.999025427975\t\n",
       "current loss = 20.951566268056\t\n"
      ]
     },
     "execution_count": 8,
     "metadata": {},
     "output_type": "execute_result"
    },
    {
     "data": {
      "text/plain": [
       "current loss = 20.904230235828\t\n",
       "current loss = 20.85701711055\t\n",
       "current loss = 20.809926670844\t\n",
       "current loss = 20.762958694712\t\n"
      ]
     },
     "execution_count": 8,
     "metadata": {},
     "output_type": "execute_result"
    },
    {
     "data": {
      "text/plain": [
       "current loss = 20.716112959542\t\n",
       "current loss = 20.669389242121\t\n",
       "current loss = 20.62278731864\t\n"
      ]
     },
     "execution_count": 8,
     "metadata": {},
     "output_type": "execute_result"
    },
    {
     "data": {
      "text/plain": [
       "current loss = 20.576306964712\t\n",
       "current loss = 20.529947955374\t\n"
      ]
     },
     "execution_count": 8,
     "metadata": {},
     "output_type": "execute_result"
    },
    {
     "data": {
      "text/plain": [
       "current loss = 20.483710065104\t\n",
       "current loss = 20.437593067827\t\n",
       "current loss = 20.391596736925\t\n"
      ]
     },
     "execution_count": 8,
     "metadata": {},
     "output_type": "execute_result"
    },
    {
     "data": {
      "text/plain": [
       "current loss = 20.345720845248\t\n",
       "current loss = 20.299965165124\t\n",
       "current loss = 20.254329468368\t\n"
      ]
     },
     "execution_count": 8,
     "metadata": {},
     "output_type": "execute_result"
    },
    {
     "data": {
      "text/plain": [
       "current loss = 20.208813526291\t\n",
       "current loss = 20.163417109711\t\n",
       "current loss = 20.118139988963\t\n"
      ]
     },
     "execution_count": 8,
     "metadata": {},
     "output_type": "execute_result"
    },
    {
     "data": {
      "text/plain": [
       "current loss = 20.072981933906\t\n",
       "current loss = 20.027942713935\t\n",
       "current loss = 19.98302209799\t\n",
       "current loss = 19.938219854562\t\n"
      ]
     },
     "execution_count": 8,
     "metadata": {},
     "output_type": "execute_result"
    },
    {
     "data": {
      "text/plain": [
       "current loss = 19.893535751708\t\n",
       "current loss = 19.848969557055\t\n",
       "current loss = 19.804521037813\t\n"
      ]
     },
     "execution_count": 8,
     "metadata": {},
     "output_type": "execute_result"
    },
    {
     "data": {
      "text/plain": [
       "current loss = 19.760189960782\t\n",
       "current loss = 19.71597609236\t\n",
       "current loss = 19.671879198554\t\n"
      ]
     },
     "execution_count": 8,
     "metadata": {},
     "output_type": "execute_result"
    },
    {
     "data": {
      "text/plain": [
       "current loss = 19.62789904499\t\n",
       "current loss = 19.584035396919\t\n",
       "current loss = 19.540288019226\t\n",
       "current loss = 19.49665667644\t\n"
      ]
     },
     "execution_count": 8,
     "metadata": {},
     "output_type": "execute_result"
    },
    {
     "data": {
      "text/plain": [
       "current loss = 19.453141132745\t\n",
       "current loss = 19.409741151981\t\n",
       "current loss = 19.366456497663\t\n"
      ]
     },
     "execution_count": 8,
     "metadata": {},
     "output_type": "execute_result"
    },
    {
     "data": {
      "text/plain": [
       "current loss = 19.323286932981\t\n",
       "current loss = 19.28023222081\t\n",
       "current loss = 19.237292123724\t\n"
      ]
     },
     "execution_count": 8,
     "metadata": {},
     "output_type": "execute_result"
    },
    {
     "data": {
      "text/plain": [
       "current loss = 19.194466403997\t\n",
       "current loss = 19.151754823616\t\n",
       "current loss = 19.109157144286\t\n"
      ]
     },
     "execution_count": 8,
     "metadata": {},
     "output_type": "execute_result"
    },
    {
     "data": {
      "text/plain": [
       "current loss = 19.066673127441\t\n",
       "current loss = 19.024302534252\t\n",
       "current loss = 18.982045125632\t\n",
       "current loss = 18.939900662247\t\n"
      ]
     },
     "execution_count": 8,
     "metadata": {},
     "output_type": "execute_result"
    },
    {
     "data": {
      "text/plain": [
       "current loss = 18.897868904522\t\n",
       "current loss = 18.855949612649\t\n",
       "current loss = 18.814142546599\t\n"
      ]
     },
     "execution_count": 8,
     "metadata": {},
     "output_type": "execute_result"
    },
    {
     "data": {
      "text/plain": [
       "current loss = 18.772447466122\t\n",
       "current loss = 18.730864130761\t\n",
       "current loss = 18.689392299857\t\n",
       "current loss = 18.648031732558\t\n"
      ]
     },
     "execution_count": 8,
     "metadata": {},
     "output_type": "execute_result"
    },
    {
     "data": {
      "text/plain": [
       "current loss = 18.606782187826\t\n",
       "current loss = 18.565643424441\t\n",
       "current loss = 18.524615201014\t\n"
      ]
     },
     "execution_count": 8,
     "metadata": {},
     "output_type": "execute_result"
    },
    {
     "data": {
      "text/plain": [
       "current loss = 18.483697275992\t\n",
       "current loss = 18.442889407664\t\n",
       "current loss = 18.402191354171\t\n",
       "current loss = 18.361602873509\t\n"
      ]
     },
     "execution_count": 8,
     "metadata": {},
     "output_type": "execute_result"
    },
    {
     "data": {
      "text/plain": [
       "current loss = 18.32112372354\t\n",
       "current loss = 18.280753661999\t\n",
       "current loss = 18.240492446497\t\n"
      ]
     },
     "execution_count": 8,
     "metadata": {},
     "output_type": "execute_result"
    },
    {
     "data": {
      "text/plain": [
       "current loss = 18.200339834534\t\n",
       "current loss = 18.160295583498\t\n",
       "current loss = 18.120359450681\t\n",
       "current loss = 18.080531193279\t\n"
      ]
     },
     "execution_count": 8,
     "metadata": {},
     "output_type": "execute_result"
    },
    {
     "data": {
      "text/plain": [
       "current loss = 18.040810568402\t\n",
       "current loss = 18.001197333076\t\n",
       "current loss = 17.961691244259\t\n"
      ]
     },
     "execution_count": 8,
     "metadata": {},
     "output_type": "execute_result"
    },
    {
     "data": {
      "text/plain": [
       "current loss = 17.922292058838\t\n",
       "current loss = 17.882999533639\t\n",
       "current loss = 17.843813425436\t\n",
       "current loss = 17.804733490954\t\n"
      ]
     },
     "execution_count": 8,
     "metadata": {},
     "output_type": "execute_result"
    },
    {
     "data": {
      "text/plain": [
       "current loss = 17.765759486876\t\n",
       "current loss = 17.726891169851\t\n",
       "current loss = 17.688128296498\t\n"
      ]
     },
     "execution_count": 8,
     "metadata": {},
     "output_type": "execute_result"
    },
    {
     "data": {
      "text/plain": [
       "current loss = 17.649470623414\t\n",
       "current loss = 17.610917907179\t\n",
       "current loss = 17.572469904362\t\n",
       "current loss = 17.53412637153\t\n"
      ]
     },
     "execution_count": 8,
     "metadata": {},
     "output_type": "execute_result"
    },
    {
     "data": {
      "text/plain": [
       "current loss = 17.495887065248\t\n",
       "current loss = 17.45775174209\t\n",
       "current loss = 17.419720158644\t\n"
      ]
     },
     "execution_count": 8,
     "metadata": {},
     "output_type": "execute_result"
    },
    {
     "data": {
      "text/plain": [
       "current loss = 17.381792071517\t\n",
       "current loss = 17.343967237339\t\n",
       "current loss = 17.306245412773\t\n"
      ]
     },
     "execution_count": 8,
     "metadata": {},
     "output_type": "execute_result"
    },
    {
     "data": {
      "text/plain": [
       "current loss = 17.268626354516\t\n",
       "current loss = 17.23110981931\t\n",
       "current loss = 17.193695563941\t\n",
       "current loss = 17.156383345251\t\n"
      ]
     },
     "execution_count": 8,
     "metadata": {},
     "output_type": "execute_result"
    },
    {
     "data": {
      "text/plain": [
       "current loss = 17.119172920139\t\n",
       "current loss = 17.082064045567\t\n",
       "current loss = 17.045056478568\t\n"
      ]
     },
     "execution_count": 8,
     "metadata": {},
     "output_type": "execute_result"
    },
    {
     "data": {
      "text/plain": [
       "current loss = 17.008149976249\t\n",
       "current loss = 16.971344295796\t\n",
       "current loss = 16.934639194482\t\n"
      ]
     },
     "execution_count": 8,
     "metadata": {},
     "output_type": "execute_result"
    },
    {
     "data": {
      "text/plain": [
       "current loss = 16.898034429669\t\n",
       "current loss = 16.861529758813\t\n",
       "current loss = 16.825124939472\t\n"
      ]
     },
     "execution_count": 8,
     "metadata": {},
     "output_type": "execute_result"
    },
    {
     "data": {
      "text/plain": [
       "current loss = 16.788819729311\t\n",
       "current loss = 16.752613886102\t\n"
      ]
     },
     "execution_count": 8,
     "metadata": {},
     "output_type": "execute_result"
    },
    {
     "data": {
      "text/plain": [
       "current loss = 16.716507167735\t\n"
      ]
     },
     "execution_count": 8,
     "metadata": {},
     "output_type": "execute_result"
    },
    {
     "data": {
      "text/plain": [
       "current loss = 16.680499332219\t\n"
      ]
     },
     "execution_count": 8,
     "metadata": {},
     "output_type": "execute_result"
    },
    {
     "data": {
      "text/plain": [
       "current loss = 16.644590137688\t\n"
      ]
     },
     "execution_count": 8,
     "metadata": {},
     "output_type": "execute_result"
    },
    {
     "data": {
      "text/plain": [
       "current loss = 16.608779342407\t\n",
       "current loss = 16.573066704775\t\n"
      ]
     },
     "execution_count": 8,
     "metadata": {},
     "output_type": "execute_result"
    },
    {
     "data": {
      "text/plain": [
       "current loss = 16.537451983329\t\n",
       "current loss = 16.501934936753\t\n",
       "current loss = 16.466515323876\t\n"
      ]
     },
     "execution_count": 8,
     "metadata": {},
     "output_type": "execute_result"
    },
    {
     "data": {
      "text/plain": [
       "current loss = 16.431192903682\t\n",
       "current loss = 16.395967435314\t\n",
       "current loss = 16.360838678074\t\n"
      ]
     },
     "execution_count": 8,
     "metadata": {},
     "output_type": "execute_result"
    },
    {
     "data": {
      "text/plain": [
       "current loss = 16.325806391432\t\n",
       "current loss = 16.290870335029\t\n",
       "current loss = 16.256030268682\t\n",
       "current loss = 16.221285952386\t\n",
       "current loss = 16.18663714632\t\n"
      ]
     },
     "execution_count": 8,
     "metadata": {},
     "output_type": "execute_result"
    },
    {
     "data": {
      "text/plain": [
       "current loss = 16.152083610851\t\n",
       "current loss = 16.117625106538\t\n",
       "current loss = 16.083261394138\t\n",
       "current loss = 16.048992234605\t\n"
      ]
     },
     "execution_count": 8,
     "metadata": {},
     "output_type": "execute_result"
    },
    {
     "data": {
      "text/plain": [
       "current loss = 16.014817389099\t\n",
       "current loss = 15.980736618989\t\n",
       "current loss = 15.946749685855\t\n",
       "current loss = 15.912856351494\t\n"
      ]
     },
     "execution_count": 8,
     "metadata": {},
     "output_type": "execute_result"
    },
    {
     "data": {
      "text/plain": [
       "current loss = 15.87905637792\t\n",
       "current loss = 15.845349527376\t\n",
       "current loss = 15.811735562327\t\n",
       "current loss = 15.778214245473\t\n"
      ]
     },
     "execution_count": 8,
     "metadata": {},
     "output_type": "execute_result"
    },
    {
     "data": {
      "text/plain": [
       "current loss = 15.744785339747\t\n",
       "current loss = 15.711448608321\t\n",
       "current loss = 15.67820381461\t\n",
       "current loss = 15.645050722273\t\n"
      ]
     },
     "execution_count": 8,
     "metadata": {},
     "output_type": "execute_result"
    },
    {
     "data": {
      "text/plain": [
       "current loss = 15.61198909522\t\n",
       "current loss = 15.579018697612\t\n",
       "current loss = 15.546139293868\t\n",
       "current loss = 15.513350648665\t\n",
       "current loss = 15.480652526943\t\n"
      ]
     },
     "execution_count": 8,
     "metadata": {},
     "output_type": "execute_result"
    },
    {
     "data": {
      "text/plain": [
       "current loss = 15.448044693908\t\n",
       "current loss = 15.415526915038\t\n",
       "current loss = 15.383098956081\t\n"
      ]
     },
     "execution_count": 8,
     "metadata": {},
     "output_type": "execute_result"
    },
    {
     "data": {
      "text/plain": [
       "current loss = 15.350760583061\t\n",
       "current loss = 15.318511562283\t\n",
       "current loss = 15.286351660333\t\n",
       "current loss = 15.254280644083\t\n",
       "current loss = 15.222298280691\t\n"
      ]
     },
     "execution_count": 8,
     "metadata": {},
     "output_type": "execute_result"
    },
    {
     "data": {
      "text/plain": [
       "current loss = 15.190404337611\t\n",
       "current loss = 15.158598582586\t\n",
       "current loss = 15.126880783662\t\n",
       "current loss = 15.09525070918\t\n"
      ]
     },
     "execution_count": 8,
     "metadata": {},
     "output_type": "execute_result"
    },
    {
     "data": {
      "text/plain": [
       "current loss = 15.063708127787\t\n",
       "current loss = 15.032252808436\t\n",
       "current loss = 15.000884520388\t\n",
       "current loss = 14.969603033216\t\n",
       "current loss = 14.938408116806\t\n"
      ]
     },
     "execution_count": 8,
     "metadata": {},
     "output_type": "execute_result"
    },
    {
     "data": {
      "text/plain": [
       "current loss = 14.907299541362\t\n",
       "current loss = 14.876277077408\t\n",
       "current loss = 14.845340495789\t\n",
       "current loss = 14.814489567676\t\n"
      ]
     },
     "execution_count": 8,
     "metadata": {},
     "output_type": "execute_result"
    },
    {
     "data": {
      "text/plain": [
       "current loss = 14.783724064567\t\n",
       "current loss = 14.753043758289\t\n",
       "current loss = 14.722448421002\t\n",
       "current loss = 14.691937825201\t\n"
      ]
     },
     "execution_count": 8,
     "metadata": {},
     "output_type": "execute_result"
    },
    {
     "data": {
      "text/plain": [
       "current loss = 14.661511743719\t\n",
       "current loss = 14.631169949727\t\n",
       "current loss = 14.600912216739\t\n",
       "current loss = 14.570738318612\t\n"
      ]
     },
     "execution_count": 8,
     "metadata": {},
     "output_type": "execute_result"
    },
    {
     "data": {
      "text/plain": [
       "current loss = 14.540648029553\t\n",
       "current loss = 14.510641124113\t\n",
       "current loss = 14.480717377197\t\n",
       "current loss = 14.450876564064\t\n"
      ]
     },
     "execution_count": 8,
     "metadata": {},
     "output_type": "execute_result"
    },
    {
     "data": {
      "text/plain": [
       "current loss = 14.421118460327\t\n",
       "current loss = 14.391442841956\t\n",
       "current loss = 14.361849485282\t\n",
       "current loss = 14.332338166997\t\n",
       "current loss = 14.302908664157\t\n"
      ]
     },
     "execution_count": 8,
     "metadata": {},
     "output_type": "execute_result"
    },
    {
     "data": {
      "text/plain": [
       "current loss = 14.273560754184\t\n",
       "current loss = 14.244294214868\t\n",
       "current loss = 14.215108824367\t\n",
       "current loss = 14.186004361213\t\n"
      ]
     },
     "execution_count": 8,
     "metadata": {},
     "output_type": "execute_result"
    },
    {
     "data": {
      "text/plain": [
       "current loss = 14.156980604309\t\n",
       "current loss = 14.128037332936\t\n",
       "current loss = 14.099174326751\t\n",
       "current loss = 14.070391365789\t\n"
      ]
     },
     "execution_count": 8,
     "metadata": {},
     "output_type": "execute_result"
    },
    {
     "data": {
      "text/plain": [
       "current loss = 14.041688230468\t\n",
       "current loss = 14.013064701586\t\n",
       "current loss = 13.984520560327\t\n",
       "current loss = 13.95605558826\t\n",
       "current loss = 13.927669567343\t\n"
      ]
     },
     "execution_count": 8,
     "metadata": {},
     "output_type": "execute_result"
    },
    {
     "data": {
      "text/plain": [
       "current loss = 13.899362279922\t\n",
       "current loss = 13.871133508734\t\n",
       "current loss = 13.842983036908\t\n",
       "current loss = 13.814910647968\t\n"
      ]
     },
     "execution_count": 8,
     "metadata": {},
     "output_type": "execute_result"
    },
    {
     "data": {
      "text/plain": [
       "current loss = 13.786916125833\t\n",
       "current loss = 13.758999254819\t\n",
       "current loss = 13.731159819641\t\n",
       "current loss = 13.703397605412\t\n"
      ]
     },
     "execution_count": 8,
     "metadata": {},
     "output_type": "execute_result"
    },
    {
     "data": {
      "text/plain": [
       "current loss = 13.675712397649\t\n",
       "current loss = 13.648103982269\t\n",
       "current loss = 13.620572145596\t\n",
       "current loss = 13.593116674358\t\n"
      ]
     },
     "execution_count": 8,
     "metadata": {},
     "output_type": "execute_result"
    },
    {
     "data": {
      "text/plain": [
       "current loss = 13.565737355688\t\n",
       "current loss = 13.538433977131\t\n",
       "current loss = 13.511206326638\t\n",
       "current loss = 13.484054192572\t\n"
      ]
     },
     "execution_count": 8,
     "metadata": {},
     "output_type": "execute_result"
    },
    {
     "data": {
      "text/plain": [
       "current loss = 13.456977363708\t\n",
       "current loss = 13.429975629232\t\n",
       "current loss = 13.403048778748\t\n",
       "current loss = 13.376196602272\t\n"
      ]
     },
     "execution_count": 8,
     "metadata": {},
     "output_type": "execute_result"
    },
    {
     "data": {
      "text/plain": [
       "current loss = 13.349418890238\t\n",
       "current loss = 13.322715433496\t\n",
       "current loss = 13.296086023316\t\n",
       "current loss = 13.269530451389\t\n"
      ]
     },
     "execution_count": 8,
     "metadata": {},
     "output_type": "execute_result"
    },
    {
     "data": {
      "text/plain": [
       "current loss = 13.243048509823\t\n",
       "current loss = 13.216639991152\t\n",
       "current loss = 13.19030468833\t\n",
       "current loss = 13.164042394735\t\n"
      ]
     },
     "execution_count": 8,
     "metadata": {},
     "output_type": "execute_result"
    },
    {
     "data": {
      "text/plain": [
       "current loss = 13.13785290417\t\n",
       "current loss = 13.111736010864\t\n",
       "current loss = 13.085691509472\t\n"
      ]
     },
     "execution_count": 8,
     "metadata": {},
     "output_type": "execute_result"
    },
    {
     "data": {
      "text/plain": [
       "current loss = 13.059719195077\t\n",
       "current loss = 13.033818863189\t\n",
       "current loss = 13.007990309748\t\n",
       "current loss = 12.982233331125\t\n",
       "current loss = 12.956547724119\t"
      ]
     },
     "execution_count": 8,
     "metadata": {},
     "output_type": "execute_result"
    },
    {
     "data": {
      "text/plain": [
       "\n",
       "current loss = 12.930933285962\t\n",
       "current loss = 12.905389814318\t\n",
       "current loss = 12.879917107286\t\n",
       "current loss = 12.854514963394\t\n"
      ]
     },
     "execution_count": 8,
     "metadata": {},
     "output_type": "execute_result"
    },
    {
     "data": {
      "text/plain": [
       "current loss = 12.829183181609\t\n",
       "current loss = 12.803921561331\t\n",
       "current loss = 12.778729902396\t\n",
       "current loss = 12.753608005076\t\n"
      ]
     },
     "execution_count": 8,
     "metadata": {},
     "output_type": "execute_result"
    },
    {
     "data": {
      "text/plain": [
       "current loss = 12.72855567008\t\n",
       "current loss = 12.703572698555\t\n",
       "current loss = 12.678658892088\t\n",
       "current loss = 12.6538140527\t\n"
      ]
     },
     "execution_count": 8,
     "metadata": {},
     "output_type": "execute_result"
    },
    {
     "data": {
      "text/plain": [
       "current loss = 12.629037982856\t\n",
       "current loss = 12.604330485459\t\n",
       "current loss = 12.579691363851\t\n",
       "current loss = 12.555120421818\t\n"
      ]
     },
     "execution_count": 8,
     "metadata": {},
     "output_type": "execute_result"
    },
    {
     "data": {
      "text/plain": [
       "current loss = 12.530617463583\t\n",
       "current loss = 12.506182293816\t\n",
       "current loss = 12.481814717624\t\n",
       "current loss = 12.45751454056\t\n"
      ]
     },
     "execution_count": 8,
     "metadata": {},
     "output_type": "execute_result"
    },
    {
     "data": {
      "text/plain": [
       "current loss = 12.43328156862\t\n",
       "current loss = 12.409115608241\t\n",
       "current loss = 12.385016466306\t\n",
       "current loss = 12.360983950141\t\n"
      ]
     },
     "execution_count": 8,
     "metadata": {},
     "output_type": "execute_result"
    },
    {
     "data": {
      "text/plain": [
       "current loss = 12.337017867518\t\n",
       "current loss = 12.313118026651\t\n",
       "current loss = 12.289284236203\t\n",
       "current loss = 12.265516305278\t\n"
      ]
     },
     "execution_count": 8,
     "metadata": {},
     "output_type": "execute_result"
    },
    {
     "data": {
      "text/plain": [
       "current loss = 12.24181404343\t\n",
       "current loss = 12.218177260657\t\n",
       "current loss = 12.194605767401\t\n",
       "current loss = 12.171099374555\t\n"
      ]
     },
     "execution_count": 8,
     "metadata": {},
     "output_type": "execute_result"
    },
    {
     "data": {
      "text/plain": [
       "current loss = 12.147657893455\t\n",
       "current loss = 12.124281135886\t\n",
       "current loss = 12.100968914078\t\n",
       "current loss = 12.07772104071\t\n",
       "current loss = 12.054537328908\t\n"
      ]
     },
     "execution_count": 8,
     "metadata": {},
     "output_type": "execute_result"
    },
    {
     "data": {
      "text/plain": [
       "current loss = 12.031417592244\t\n",
       "current loss = 12.008361644741\t\n",
       "current loss = 11.985369300866\t\n",
       "current loss = 11.962440375536\t\n"
      ]
     },
     "execution_count": 8,
     "metadata": {},
     "output_type": "execute_result"
    },
    {
     "data": {
      "text/plain": [
       "current loss = 11.939574684116\t\n",
       "current loss = 11.916772042417\t\n",
       "current loss = 11.894032266701\t\n",
       "current loss = 11.871355173676\t\n"
      ]
     },
     "execution_count": 8,
     "metadata": {},
     "output_type": "execute_result"
    },
    {
     "data": {
      "text/plain": [
       "current loss = 11.848740580498\t\n",
       "current loss = 11.826188304773\t\n",
       "current loss = 11.803698164554\t\n",
       "current loss = 11.781269978341\t\n",
       "current loss = 11.758903565085\t\n"
      ]
     },
     "execution_count": 8,
     "metadata": {},
     "output_type": "execute_result"
    },
    {
     "data": {
      "text/plain": [
       "current loss = 11.736598744183\t\n",
       "current loss = 11.71435533548\t\n",
       "current loss = 11.69217315927\t\n"
      ]
     },
     "execution_count": 8,
     "metadata": {},
     "output_type": "execute_result"
    },
    {
     "data": {
      "text/plain": [
       "current loss = 11.670052036294\t\n",
       "current loss = 11.647991787743\t\n"
      ]
     },
     "execution_count": 8,
     "metadata": {},
     "output_type": "execute_result"
    },
    {
     "data": {
      "text/plain": [
       "current loss = 11.625992235252\t\n",
       "current loss = 11.604053200907\t\n",
       "current loss = 11.58217450724\t\n"
      ]
     },
     "execution_count": 8,
     "metadata": {},
     "output_type": "execute_result"
    },
    {
     "data": {
      "text/plain": [
       "current loss = 11.560355977231\t\n",
       "current loss = 11.538597434307\t\n",
       "current loss = 11.516898702342\t\n",
       "current loss = 11.495259605657\t\n"
      ]
     },
     "execution_count": 8,
     "metadata": {},
     "output_type": "execute_result"
    },
    {
     "data": {
      "text/plain": [
       "current loss = 11.47367996902\t\n",
       "current loss = 11.452159617646\t\n",
       "current loss = 11.430698377195\t\n",
       "current loss = 11.409296073775\t\n"
      ]
     },
     "execution_count": 8,
     "metadata": {},
     "output_type": "execute_result"
    },
    {
     "data": {
      "text/plain": [
       "current loss = 11.387952533939\t\n",
       "current loss = 11.366667584685\t\n",
       "current loss = 11.345441053459\t\n"
      ]
     },
     "execution_count": 8,
     "metadata": {},
     "output_type": "execute_result"
    },
    {
     "data": {
      "text/plain": [
       "current loss = 11.324272768149\t\n",
       "current loss = 11.303162557091\t\n",
       "current loss = 11.282110249063\t\n",
       "current loss = 11.261115673291\t\n"
      ]
     },
     "execution_count": 8,
     "metadata": {},
     "output_type": "execute_result"
    },
    {
     "data": {
      "text/plain": [
       "current loss = 11.240178659441\t\n",
       "current loss = 11.219299037627\t\n",
       "current loss = 11.198476638403\t\n"
      ]
     },
     "execution_count": 8,
     "metadata": {},
     "output_type": "execute_result"
    },
    {
     "data": {
      "text/plain": [
       "current loss = 11.177711292769\t\n",
       "current loss = 11.157002832167\t\n",
       "current loss = 11.13635108848\t\n"
      ]
     },
     "execution_count": 8,
     "metadata": {},
     "output_type": "execute_result"
    },
    {
     "data": {
      "text/plain": [
       "current loss = 11.115755894036\t\n",
       "current loss = 11.095217081603\t\n",
       "current loss = 11.074734484392\t\n"
      ]
     },
     "execution_count": 8,
     "metadata": {},
     "output_type": "execute_result"
    },
    {
     "data": {
      "text/plain": [
       "current loss = 11.054307936054\t\n",
       "current loss = 11.033937270681\t\n",
       "current loss = 11.013622322806\t\n"
      ]
     },
     "execution_count": 8,
     "metadata": {},
     "output_type": "execute_result"
    },
    {
     "data": {
      "text/plain": [
       "current loss = 10.993362927401\t\n",
       "current loss = 10.97315891988\t\n",
       "current loss = 10.953010136092\t\n",
       "current loss = 10.93291641233\t\n"
      ]
     },
     "execution_count": 8,
     "metadata": {},
     "output_type": "execute_result"
    },
    {
     "data": {
      "text/plain": [
       "current loss = 10.912877585321\t\n",
       "current loss = 10.892893492232\t\n",
       "current loss = 10.872963970667\t\n",
       "current loss = 10.853088858667\t\n"
      ]
     },
     "execution_count": 8,
     "metadata": {},
     "output_type": "execute_result"
    },
    {
     "data": {
      "text/plain": [
       "current loss = 10.833267994711\t\n",
       "current loss = 10.813501217711\t\n",
       "current loss = 10.793788367018\t\n"
      ]
     },
     "execution_count": 8,
     "metadata": {},
     "output_type": "execute_result"
    },
    {
     "data": {
      "text/plain": [
       "current loss = 10.774129282416\t\n",
       "current loss = 10.754523804124\t\n",
       "current loss = 10.734971772796\t\n"
      ]
     },
     "execution_count": 8,
     "metadata": {},
     "output_type": "execute_result"
    },
    {
     "data": {
      "text/plain": [
       "current loss = 10.715473029519\t\n",
       "current loss = 10.696027415813\t\n",
       "current loss = 10.676634773632\t\n"
      ]
     },
     "execution_count": 8,
     "metadata": {},
     "output_type": "execute_result"
    },
    {
     "data": {
      "text/plain": [
       "current loss = 10.65729494536\t\n",
       "current loss = 10.638007773814\t\n",
       "current loss = 10.618773102242\t\n"
      ]
     },
     "execution_count": 8,
     "metadata": {},
     "output_type": "execute_result"
    },
    {
     "data": {
      "text/plain": [
       "current loss = 10.599590774321\t\n",
       "current loss = 10.580460634161\t\n",
       "current loss = 10.561382526298\t\n"
      ]
     },
     "execution_count": 8,
     "metadata": {},
     "output_type": "execute_result"
    },
    {
     "data": {
      "text/plain": [
       "current loss = 10.5423562957\t\n",
       "current loss = 10.523381787761\t\n",
       "current loss = 10.504458848302\t\n",
       "current loss = 10.485587323575\t\n"
      ]
     },
     "execution_count": 8,
     "metadata": {},
     "output_type": "execute_result"
    },
    {
     "data": {
      "text/plain": [
       "current loss = 10.466767060254\t\n",
       "current loss = 10.447997905442\t\n",
       "current loss = 10.429279706665\t\n"
      ]
     },
     "execution_count": 8,
     "metadata": {},
     "output_type": "execute_result"
    },
    {
     "data": {
      "text/plain": [
       "current loss = 10.410612311877\t\n",
       "current loss = 10.391995569454\t\n",
       "current loss = 10.373429328194\t\n",
       "current loss = 10.354913437321\t\n"
      ]
     },
     "execution_count": 8,
     "metadata": {},
     "output_type": "execute_result"
    },
    {
     "data": {
      "text/plain": [
       "current loss = 10.336447746478\t\n",
       "current loss = 10.318032105734\t\n",
       "current loss = 10.299666365575\t\n"
      ]
     },
     "execution_count": 8,
     "metadata": {},
     "output_type": "execute_result"
    },
    {
     "data": {
      "text/plain": [
       "current loss = 10.281350376909\t\n",
       "current loss = 10.263083991063\t\n",
       "current loss = 10.244867059785\t\n"
      ]
     },
     "execution_count": 8,
     "metadata": {},
     "output_type": "execute_result"
    },
    {
     "data": {
      "text/plain": [
       "current loss = 10.226699435239\t\n",
       "current loss = 10.208580970007\t\n",
       "current loss = 10.19051151709\t\n"
      ]
     },
     "execution_count": 8,
     "metadata": {},
     "output_type": "execute_result"
    },
    {
     "data": {
      "text/plain": [
       "current loss = 10.172490929903\t\n",
       "current loss = 10.154519062279\t\n",
       "current loss = 10.136595768465\t\n",
       "current loss = 10.118720903121\t\n"
      ]
     },
     "execution_count": 8,
     "metadata": {},
     "output_type": "execute_result"
    },
    {
     "data": {
      "text/plain": [
       "current loss = 10.100894321323\t\n",
       "current loss = 10.083115878559\t\n"
      ]
     },
     "execution_count": 8,
     "metadata": {},
     "output_type": "execute_result"
    },
    {
     "data": {
      "text/plain": [
       "current loss = 10.065385430728\t\n",
       "current loss = 10.047702834144\t\n",
       "current loss = 10.030067945527\t\n",
       "current loss = 10.012480622012\t\n"
      ]
     },
     "execution_count": 8,
     "metadata": {},
     "output_type": "execute_result"
    },
    {
     "data": {
      "text/plain": [
       "current loss = 9.9949407211406\t\n",
       "current loss = 9.9774481008634\t\n",
       "current loss = 9.9600026195398\t\n"
      ]
     },
     "execution_count": 8,
     "metadata": {},
     "output_type": "execute_result"
    },
    {
     "data": {
      "text/plain": [
       "current loss = 9.9426041359359\t\n",
       "current loss = 9.9252525092247\t\n",
       "current loss = 9.9079475989848\t\n",
       "current loss = 9.8906892652001\t\n"
      ]
     },
     "execution_count": 8,
     "metadata": {},
     "output_type": "execute_result"
    },
    {
     "data": {
      "text/plain": [
       "current loss = 9.8734773682586\t\n",
       "current loss = 9.856311768952\t\n",
       "current loss = 9.839192328475\t\n"
      ]
     },
     "execution_count": 8,
     "metadata": {},
     "output_type": "execute_result"
    },
    {
     "data": {
      "text/plain": [
       "current loss = 9.8221189084243\t\n",
       "current loss = 9.8050913707977\t\n",
       "current loss = 9.7881095779941\t\n",
       "current loss = 9.7711733928118\t\n"
      ]
     },
     "execution_count": 8,
     "metadata": {},
     "output_type": "execute_result"
    },
    {
     "data": {
      "text/plain": [
       "current loss = 9.7542826784484\t\n",
       "current loss = 9.7374372984997\t\n",
       "current loss = 9.7206371169592\t\n"
      ]
     },
     "execution_count": 8,
     "metadata": {},
     "output_type": "execute_result"
    },
    {
     "data": {
      "text/plain": [
       "current loss = 9.7038819982169\t\n",
       "current loss = 9.687171807059\t\n"
      ]
     },
     "execution_count": 8,
     "metadata": {},
     "output_type": "execute_result"
    },
    {
     "data": {
      "text/plain": [
       "current loss = 9.6705064086669\t\n",
       "current loss = 9.6538856686165\t\n"
      ]
     },
     "execution_count": 8,
     "metadata": {},
     "output_type": "execute_result"
    },
    {
     "data": {
      "text/plain": [
       "current loss = 9.637309452877\t\n",
       "current loss = 9.6207776278108\t\n"
      ]
     },
     "execution_count": 8,
     "metadata": {},
     "output_type": "execute_result"
    },
    {
     "data": {
      "text/plain": [
       "current loss = 9.6042900601725\t\n",
       "current loss = 9.5878466171075\t\n",
       "current loss = 9.571447166152\t\n"
      ]
     },
     "execution_count": 8,
     "metadata": {},
     "output_type": "execute_result"
    },
    {
     "data": {
      "text/plain": [
       "current loss = 9.555091575232\t\n",
       "current loss = 9.5387797126622\t\n",
       "current loss = 9.5225114471454\t\n"
      ]
     },
     "execution_count": 8,
     "metadata": {},
     "output_type": "execute_result"
    },
    {
     "data": {
      "text/plain": [
       "current loss = 9.5062866477719\t\n",
       "current loss = 9.4901051840182\t\n",
       "current loss = 9.4739669257468\t\n"
      ]
     },
     "execution_count": 8,
     "metadata": {},
     "output_type": "execute_result"
    },
    {
     "data": {
      "text/plain": [
       "current loss = 9.4578717432047\t\n",
       "current loss = 9.4418195070234\t\n",
       "current loss = 9.4258100882173\t\n",
       "current loss = 9.4098433581833\t\n"
      ]
     },
     "execution_count": 8,
     "metadata": {},
     "output_type": "execute_result"
    },
    {
     "data": {
      "text/plain": [
       "current loss = 9.3939191887001\t\n",
       "current loss = 9.3780374519269\t\n",
       "current loss = 9.3621980204033\t\n"
      ]
     },
     "execution_count": 8,
     "metadata": {},
     "output_type": "execute_result"
    },
    {
     "data": {
      "text/plain": [
       "current loss = 9.3464007670475\t\n",
       "current loss = 9.3306455651566\t\n",
       "current loss = 9.3149322884048\t\n"
      ]
     },
     "execution_count": 8,
     "metadata": {},
     "output_type": "execute_result"
    },
    {
     "data": {
      "text/plain": [
       "current loss = 9.299260810843\t\n",
       "current loss = 9.2836310068983\t\n",
       "current loss = 9.2680427513724\t\n",
       "current loss = 9.2524959194413\t\n"
      ]
     },
     "execution_count": 8,
     "metadata": {},
     "output_type": "execute_result"
    },
    {
     "data": {
      "text/plain": [
       "current loss = 9.2369903866545\t\n",
       "current loss = 9.2215260289339\t\n",
       "current loss = 9.206102722573\t\n"
      ]
     },
     "execution_count": 8,
     "metadata": {},
     "output_type": "execute_result"
    },
    {
     "data": {
      "text/plain": [
       "current loss = 9.1907203442362\t\n",
       "current loss = 9.1753787709579\t\n",
       "current loss = 9.1600778801418\t\n"
      ]
     },
     "execution_count": 8,
     "metadata": {},
     "output_type": "execute_result"
    },
    {
     "data": {
      "text/plain": [
       "current loss = 9.1448175495596\t\n",
       "current loss = 9.1295976573507\t\n",
       "current loss = 9.1144180820211\t\n"
      ]
     },
     "execution_count": 8,
     "metadata": {},
     "output_type": "execute_result"
    },
    {
     "data": {
      "text/plain": [
       "current loss = 9.0992787024424\t\n",
       "current loss = 9.0841793978515\t\n",
       "current loss = 9.0691200478489\t\n",
       "current loss = 9.0541005323987\t\n"
      ]
     },
     "execution_count": 8,
     "metadata": {},
     "output_type": "execute_result"
    },
    {
     "data": {
      "text/plain": [
       "current loss = 9.0391207318273\t\n",
       "current loss = 9.0241805268226\t\n",
       "current loss = 9.0092797984332\t\n"
      ]
     },
     "execution_count": 8,
     "metadata": {},
     "output_type": "execute_result"
    },
    {
     "data": {
      "text/plain": [
       "current loss = 8.9944184280674\t\n",
       "current loss = 8.9795962974926\t\n",
       "current loss = 8.9648132888344\t\n",
       "current loss = 8.9500692845756\t\n"
      ]
     },
     "execution_count": 8,
     "metadata": {},
     "output_type": "execute_result"
    },
    {
     "data": {
      "text/plain": [
       "current loss = 8.9353641675553\t\n",
       "current loss = 8.9206978209682\t\n",
       "current loss = 8.9060701283639\t\n",
       "current loss = 8.8914809736456\t\n"
      ]
     },
     "execution_count": 8,
     "metadata": {},
     "output_type": "execute_result"
    },
    {
     "data": {
      "text/plain": [
       "current loss = 8.8769302410695\t\n",
       "current loss = 8.8624178152441\t\n",
       "current loss = 8.8479435811289\t\n",
       "current loss = 8.8335074240342\t\n"
      ]
     },
     "execution_count": 8,
     "metadata": {},
     "output_type": "execute_result"
    },
    {
     "data": {
      "text/plain": [
       "current loss = 8.8191092296193\t\n",
       "current loss = 8.8047488838928\t\n",
       "current loss = 8.7904262732105\t\n",
       "current loss = 8.7761412842757\t\n",
       "current loss = 8.7618938041375\t\n"
      ]
     },
     "execution_count": 8,
     "metadata": {},
     "output_type": "execute_result"
    },
    {
     "data": {
      "text/plain": [
       "current loss = 8.7476837201902\t\n",
       "current loss = 8.7335109201728\t\n",
       "current loss = 8.7193752921675\t\n",
       "current loss = 8.7052767245992\t\n"
      ]
     },
     "execution_count": 8,
     "metadata": {},
     "output_type": "execute_result"
    },
    {
     "data": {
      "text/plain": [
       "current loss = 8.6912151062348\t\n",
       "current loss = 8.6771903261818\t\n",
       "current loss = 8.663202273888\t\n"
      ]
     },
     "execution_count": 8,
     "metadata": {},
     "output_type": "execute_result"
    },
    {
     "data": {
      "text/plain": [
       "current loss = 8.6492508391404\t\n",
       "current loss = 8.6353359120642\t\n",
       "current loss = 8.6214573831222\t\n",
       "current loss = 8.6076151431138\t\n"
      ]
     },
     "execution_count": 8,
     "metadata": {},
     "output_type": "execute_result"
    },
    {
     "data": {
      "text/plain": [
       "current loss = 8.593809083174\t\n",
       "current loss = 8.5800390947728\t\n",
       "current loss = 8.5663050697144\t\n",
       "current loss = 8.5526069001359\t\n",
       "current loss = 8.5389444785066\t\n"
      ]
     },
     "execution_count": 8,
     "metadata": {},
     "output_type": "execute_result"
    },
    {
     "data": {
      "text/plain": [
       "current loss = 8.5253176976277\t\n",
       "current loss = 8.5117264506306\t\n",
       "current loss = 8.4981706309763\t\n",
       "current loss = 8.4846501324552\t\n"
      ]
     },
     "execution_count": 8,
     "metadata": {},
     "output_type": "execute_result"
    },
    {
     "data": {
      "text/plain": [
       "current loss = 8.4711648491851\t\n",
       "current loss = 8.4577146756112\t\n",
       "current loss = 8.444299506505\t\n",
       "current loss = 8.4309192369634\t\n"
      ]
     },
     "execution_count": 8,
     "metadata": {},
     "output_type": "execute_result"
    },
    {
     "data": {
      "text/plain": [
       "current loss = 8.4175737624076\t\n",
       "current loss = 8.4042629785828\t\n",
       "current loss = 8.3909867815568\t\n",
       "current loss = 8.3777450677195\t\n"
      ]
     },
     "execution_count": 8,
     "metadata": {},
     "output_type": "execute_result"
    },
    {
     "data": {
      "text/plain": [
       "current loss = 8.364537733782\t\n",
       "current loss = 8.3513646767754\t\n",
       "current loss = 8.3382257940502\t\n",
       "current loss = 8.3251209832758\t\n",
       "current loss = 8.3120501424388\t\n"
      ]
     },
     "execution_count": 8,
     "metadata": {},
     "output_type": "execute_result"
    },
    {
     "data": {
      "text/plain": [
       "current loss = 8.299013169843\t\n",
       "current loss = 8.2860099641079\t\n",
       "current loss = 8.2730404241683\t\n",
       "current loss = 8.2601044492732\t\n"
      ]
     },
     "execution_count": 8,
     "metadata": {},
     "output_type": "execute_result"
    },
    {
     "data": {
      "text/plain": [
       "current loss = 8.2472019389849\t\n",
       "current loss = 8.2343327931783\t\n",
       "current loss = 8.2214969120402\t\n",
       "current loss = 8.208694196068\t\n",
       "current loss = 8.1959245460691\t\n"
      ]
     },
     "execution_count": 8,
     "metadata": {},
     "output_type": "execute_result"
    },
    {
     "data": {
      "text/plain": [
       "current loss = 8.1831878631602\t\n",
       "current loss = 8.1704840487661\t\n",
       "current loss = 8.1578130046194\t\n",
       "current loss = 8.1451746327589\t\n"
      ]
     },
     "execution_count": 8,
     "metadata": {},
     "output_type": "execute_result"
    },
    {
     "data": {
      "text/plain": [
       "current loss = 8.1325688355292\t\n",
       "current loss = 8.1199955155802\t\n",
       "current loss = 8.1074545758653\t\n",
       "current loss = 8.0949459196416\t\n",
       "current loss = 8.0824694504682\t\n"
      ]
     },
     "execution_count": 8,
     "metadata": {},
     "output_type": "execute_result"
    },
    {
     "data": {
      "text/plain": [
       "current loss = 8.070025072206\t\n",
       "current loss = 8.0576126890165\t\n",
       "current loss = 8.0452322053609\t\n",
       "current loss = 8.0328835259997\t\n"
      ]
     },
     "execution_count": 8,
     "metadata": {},
     "output_type": "execute_result"
    },
    {
     "data": {
      "text/plain": [
       "current loss = 8.0205665559912\t\n",
       "current loss = 8.0082812006913\t\n",
       "current loss = 7.9960273657523\t\n",
       "current loss = 7.9838049571222\t\n"
      ]
     },
     "execution_count": 8,
     "metadata": {},
     "output_type": "execute_result"
    },
    {
     "data": {
      "text/plain": [
       "current loss = 7.9716138810438\t\n",
       "current loss = 7.9594540440538\t\n",
       "current loss = 7.9473253529821\t\n",
       "current loss = 7.935227714951\t\n"
      ]
     },
     "execution_count": 8,
     "metadata": {},
     "output_type": "execute_result"
    },
    {
     "data": {
      "text/plain": [
       "current loss = 7.9231610373742\t\n",
       "current loss = 7.911125227956\t\n",
       "current loss = 7.8991201946907\t\n",
       "current loss = 7.8871458458615\t\n",
       "current loss = 7.8752020900397\t\n"
      ]
     },
     "execution_count": 8,
     "metadata": {},
     "output_type": "execute_result"
    },
    {
     "data": {
      "text/plain": [
       "current loss = 7.8632888360841\t\n",
       "current loss = 7.8514059931399\t\n",
       "current loss = 7.839553470638\t\n",
       "current loss = 7.8277311782943\t\n"
      ]
     },
     "execution_count": 8,
     "metadata": {},
     "output_type": "execute_result"
    },
    {
     "data": {
      "text/plain": [
       "current loss = 7.8159390261087\t\n",
       "current loss = 7.8041769243643\t\n",
       "current loss = 7.7924447836265\t\n",
       "current loss = 7.7807425147427\t\n"
      ]
     },
     "execution_count": 8,
     "metadata": {},
     "output_type": "execute_result"
    },
    {
     "data": {
      "text/plain": [
       "current loss = 7.7690700288405\t\n",
       "current loss = 7.757427237328\t\n",
       "current loss = 7.7458140518922\t\n",
       "current loss = 7.7342303844985\t\n",
       "current loss = 7.7226761473897\t\n"
      ]
     },
     "execution_count": 8,
     "metadata": {},
     "output_type": "execute_result"
    },
    {
     "data": {
      "text/plain": [
       "current loss = 7.7111512530855\t\n",
       "current loss = 7.6996556143814\t\n",
       "current loss = 7.6881891443482\t\n",
       "current loss = 7.6767517563308\t\n"
      ]
     },
     "execution_count": 8,
     "metadata": {},
     "output_type": "execute_result"
    },
    {
     "data": {
      "text/plain": [
       "current loss = 7.6653433639475\t\n",
       "current loss = 7.6539638810896\t\n",
       "current loss = 7.6426132219201\t\n",
       "current loss = 7.631291300873\t\n"
      ]
     },
     "execution_count": 8,
     "metadata": {},
     "output_type": "execute_result"
    },
    {
     "data": {
      "text/plain": [
       "current loss = 7.6199980326528\t\n",
       "current loss = 7.6087333322334\t\n",
       "current loss = 7.5974971148574\t\n",
       "current loss = 7.5862892960353\t\n"
      ]
     },
     "execution_count": 8,
     "metadata": {},
     "output_type": "execute_result"
    },
    {
     "data": {
      "text/plain": [
       "current loss = 7.5751097915446\t\n",
       "current loss = 7.5639585174292\t\n",
       "current loss = 7.5528353899986\t\n",
       "current loss = 7.541740325827\t\n",
       "current loss = 7.5306732417524\t\n"
      ]
     },
     "execution_count": 8,
     "metadata": {},
     "output_type": "execute_result"
    },
    {
     "data": {
      "text/plain": [
       "current loss = 7.5196340548761\t\n",
       "current loss = 7.5086226825618\t\n",
       "current loss = 7.4976390424346\t\n",
       "current loss = 7.4866830523805\t\n"
      ]
     },
     "execution_count": 8,
     "metadata": {},
     "output_type": "execute_result"
    },
    {
     "data": {
      "text/plain": [
       "current loss = 7.4757546305457\t\n",
       "current loss = 7.4648536953355\t\n",
       "current loss = 7.4539801654135\t\n"
      ]
     },
     "execution_count": 8,
     "metadata": {},
     "output_type": "execute_result"
    },
    {
     "data": {
      "text/plain": [
       "current loss = 7.4431339597013\t\n",
       "current loss = 7.4323149973772\t\n",
       "current loss = 7.4215231978757\t\n",
       "current loss = 7.4107584808867\t\n",
       "current loss = 7.4000207663546\t\n"
      ]
     },
     "execution_count": 8,
     "metadata": {},
     "output_type": "execute_result"
    },
    {
     "data": {
      "text/plain": [
       "current loss = 7.389309974478\t\n",
       "current loss = 7.3786260257079\t\n",
       "current loss = 7.3679688407482\t\n"
      ]
     },
     "execution_count": 8,
     "metadata": {},
     "output_type": "execute_result"
    },
    {
     "data": {
      "text/plain": [
       "current loss = 7.357338340554\t\n",
       "current loss = 7.3467344463314\t\n",
       "current loss = 7.3361570795363\t\n",
       "current loss = 7.3256061618739\t\n"
      ]
     },
     "execution_count": 8,
     "metadata": {},
     "output_type": "execute_result"
    },
    {
     "data": {
      "text/plain": [
       "current loss = 7.3150816152979\t\n",
       "current loss = 7.3045833620099\t\n",
       "current loss = 7.2941113244582\t\n",
       "current loss = 7.2836654253376\t\n"
      ]
     },
     "execution_count": 8,
     "metadata": {},
     "output_type": "execute_result"
    },
    {
     "data": {
      "text/plain": [
       "current loss = 7.2732455875881\t\n",
       "current loss = 7.2628517343946\t\n",
       "current loss = 7.252483789186\t\n",
       "current loss = 7.2421416756343\t\n"
      ]
     },
     "execution_count": 8,
     "metadata": {},
     "output_type": "execute_result"
    },
    {
     "data": {
      "text/plain": [
       "current loss = 7.231825317654\t\n",
       "current loss = 7.2215346394015\t\n",
       "current loss = 7.211269565274\t\n",
       "current loss = 7.2010300199091\t\n"
      ]
     },
     "execution_count": 8,
     "metadata": {},
     "output_type": "execute_result"
    },
    {
     "data": {
      "text/plain": [
       "current loss = 7.1908159281838\t\n",
       "current loss = 7.1806272152139\t\n",
       "current loss = 7.1704638063533\t\n",
       "current loss = 7.1603256271932\t\n",
       "current loss = 7.1502126035614\t\n"
      ]
     },
     "execution_count": 8,
     "metadata": {},
     "output_type": "execute_result"
    },
    {
     "data": {
      "text/plain": [
       "current loss = 7.1401246615215\t\n",
       "current loss = 7.1300617273721\t\n"
      ]
     },
     "execution_count": 8,
     "metadata": {},
     "output_type": "execute_result"
    },
    {
     "data": {
      "text/plain": [
       "current loss = 7.1200237276465\t\n",
       "current loss = 7.1100105891112\t\n"
      ]
     },
     "execution_count": 8,
     "metadata": {},
     "output_type": "execute_result"
    },
    {
     "data": {
      "text/plain": [
       "current loss = 7.1000222387662\t\n",
       "current loss = 7.0900586038433\t\n",
       "current loss = 7.0801196118059\t\n",
       "current loss = 7.0702051903482\t\n"
      ]
     },
     "execution_count": 8,
     "metadata": {},
     "output_type": "execute_result"
    },
    {
     "data": {
      "text/plain": [
       "current loss = 7.0603152673945\t\n",
       "current loss = 7.0504497710983\t\n",
       "current loss = 7.040608629842\t\n"
      ]
     },
     "execution_count": 8,
     "metadata": {},
     "output_type": "execute_result"
    },
    {
     "data": {
      "text/plain": [
       "current loss = 7.0307917722355\t\n",
       "current loss = 7.0209991271164\t\n",
       "current loss = 7.0112306235483\t\n"
      ]
     },
     "execution_count": 8,
     "metadata": {},
     "output_type": "execute_result"
    },
    {
     "data": {
      "text/plain": [
       "current loss = 7.0014861908209\t\n",
       "current loss = 6.991765758449\t\n",
       "current loss = 6.9820692561716\t\n",
       "current loss = 6.9723966139514\t\n"
      ]
     },
     "execution_count": 8,
     "metadata": {},
     "output_type": "execute_result"
    },
    {
     "data": {
      "text/plain": [
       "current loss = 6.9627477619742\t\n",
       "current loss = 6.953122630648\t\n"
      ]
     },
     "execution_count": 8,
     "metadata": {},
     "output_type": "execute_result"
    },
    {
     "data": {
      "text/plain": [
       "current loss = 6.9435211506023\t\n",
       "current loss = 6.9339432526876\t\n",
       "current loss = 6.9243888679746\t\n",
       "current loss = 6.9148579277533\t\n"
      ]
     },
     "execution_count": 8,
     "metadata": {},
     "output_type": "execute_result"
    },
    {
     "data": {
      "text/plain": [
       "current loss = 6.9053503635327\t\n",
       "current loss = 6.8958661070398\t\n",
       "current loss = 6.8864050902192\t\n"
      ]
     },
     "execution_count": 8,
     "metadata": {},
     "output_type": "execute_result"
    },
    {
     "data": {
      "text/plain": [
       "current loss = 6.876967245232\t\n",
       "current loss = 6.8675525044555\t\n",
       "current loss = 6.8581608004824\t\n"
      ]
     },
     "execution_count": 8,
     "metadata": {},
     "output_type": "execute_result"
    },
    {
     "data": {
      "text/plain": [
       "current loss = 6.8487920661199\t\n",
       "current loss = 6.8394462343895\t\n",
       "current loss = 6.8301232385258\t\n",
       "current loss = 6.8208230119762\t\n"
      ]
     },
     "execution_count": 8,
     "metadata": {},
     "output_type": "execute_result"
    },
    {
     "data": {
      "text/plain": [
       "current loss = 6.8115454884001\t\n",
       "current loss = 6.802290601668\t\n",
       "current loss = 6.7930582858613\t\n",
       "current loss = 6.7838484752713\t\n"
      ]
     },
     "execution_count": 8,
     "metadata": {},
     "output_type": "execute_result"
    },
    {
     "data": {
      "text/plain": [
       "current loss = 6.7746611043986\t\n",
       "current loss = 6.7654961079524\t\n",
       "current loss = 6.7563534208499\t\n"
      ]
     },
     "execution_count": 8,
     "metadata": {},
     "output_type": "execute_result"
    },
    {
     "data": {
      "text/plain": [
       "current loss = 6.7472329782156\t\n",
       "current loss = 6.7381347153809\t\n",
       "current loss = 6.7290585678828\t\n"
      ]
     },
     "execution_count": 8,
     "metadata": {},
     "output_type": "execute_result"
    },
    {
     "data": {
      "text/plain": [
       "current loss = 6.7200044714639\t\n",
       "current loss = 6.7109723620715\t\n",
       "current loss = 6.7019621758569\t\n",
       "current loss = 6.6929738491747\t\n"
      ]
     },
     "execution_count": 8,
     "metadata": {},
     "output_type": "execute_result"
    },
    {
     "data": {
      "text/plain": [
       "current loss = 6.6840073185823\t\n",
       "current loss = 6.6750625208392\t\n",
       "current loss = 6.6661393929063\t\n"
      ]
     },
     "execution_count": 8,
     "metadata": {},
     "output_type": "execute_result"
    },
    {
     "data": {
      "text/plain": [
       "current loss = 6.6572378719453\t\n",
       "current loss = 6.6483578953182\t\n",
       "current loss = 6.6394994005864\t\n",
       "current loss = 6.63066232551\t\n"
      ]
     },
     "execution_count": 8,
     "metadata": {},
     "output_type": "execute_result"
    },
    {
     "data": {
      "text/plain": [
       "current loss = 6.6218466080477\t\n",
       "current loss = 6.6130521863555\t\n",
       "current loss = 6.6042789987864\t\n"
      ]
     },
     "execution_count": 8,
     "metadata": {},
     "output_type": "execute_result"
    },
    {
     "data": {
      "text/plain": [
       "current loss = 6.59552698389\t\n",
       "current loss = 6.5867960804113\t\n",
       "current loss = 6.5780862272905\t\n"
      ]
     },
     "execution_count": 8,
     "metadata": {},
     "output_type": "execute_result"
    },
    {
     "data": {
      "text/plain": [
       "current loss = 6.5693973636622\t\n",
       "current loss = 6.5607294288548\t\n",
       "current loss = 6.5520823623901\t\n",
       "current loss = 6.5434561039821\t\n"
      ]
     },
     "execution_count": 8,
     "metadata": {},
     "output_type": "execute_result"
    },
    {
     "data": {
      "text/plain": [
       "current loss = 6.5348505935372\t\n",
       "current loss = 6.5262657711528\t\n",
       "current loss = 6.5177015771171\t\n"
      ]
     },
     "execution_count": 8,
     "metadata": {},
     "output_type": "execute_result"
    },
    {
     "data": {
      "text/plain": [
       "current loss = 6.5091579519084\t\n",
       "current loss = 6.5006348361946\t\n",
       "current loss = 6.4921321708323\t\n",
       "current loss = 6.4836498968665\t\n"
      ]
     },
     "execution_count": 8,
     "metadata": {},
     "output_type": "execute_result"
    },
    {
     "data": {
      "text/plain": [
       "current loss = 6.4751879555298\t\n",
       "current loss = 6.4667462882418\t\n",
       "current loss = 6.4583248366087\t\n"
      ]
     },
     "execution_count": 8,
     "metadata": {},
     "output_type": "execute_result"
    },
    {
     "data": {
      "text/plain": [
       "current loss = 6.4499235424224\t\n",
       "current loss = 6.4415423476601\t\n",
       "current loss = 6.4331811944835\t\n",
       "current loss = 6.4248400252387\t\n"
      ]
     },
     "execution_count": 8,
     "metadata": {},
     "output_type": "execute_result"
    },
    {
     "data": {
      "text/plain": [
       "current loss = 6.4165187824547\t\n",
       "current loss = 6.4082174088438\t\n",
       "current loss = 6.3999358473005\t\n"
      ]
     },
     "execution_count": 8,
     "metadata": {},
     "output_type": "execute_result"
    },
    {
     "data": {
      "text/plain": [
       "current loss = 6.3916740409007\t\n",
       "current loss = 6.3834319329016\t\n",
       "current loss = 6.3752094667408\t\n"
      ]
     },
     "execution_count": 8,
     "metadata": {},
     "output_type": "execute_result"
    },
    {
     "data": {
      "text/plain": [
       "current loss = 6.3670065860358\t\n",
       "current loss = 6.3588232345836\t\n",
       "current loss = 6.3506593563595\t\n"
      ]
     },
     "execution_count": 8,
     "metadata": {},
     "output_type": "execute_result"
    },
    {
     "data": {
      "text/plain": [
       "current loss = 6.3425148955174\t\n",
       "current loss = 6.3343897963885\t\n",
       "current loss = 6.326284003481\t\n",
       "current loss = 6.3181974614797\t\n"
      ]
     },
     "execution_count": 8,
     "metadata": {},
     "output_type": "execute_result"
    },
    {
     "data": {
      "text/plain": [
       "current loss = 6.310130115245\t\n",
       "current loss = 6.3020819098127\t\n",
       "current loss = 6.2940527903934\t\n"
      ]
     },
     "execution_count": 8,
     "metadata": {},
     "output_type": "execute_result"
    },
    {
     "data": {
      "text/plain": [
       "current loss = 6.2860427023715\t\n",
       "current loss = 6.2780515913052\t\n",
       "current loss = 6.2700794029256\t\n",
       "current loss = 6.2621260831364\t\n"
      ]
     },
     "execution_count": 8,
     "metadata": {},
     "output_type": "execute_result"
    },
    {
     "data": {
      "text/plain": [
       "current loss = 6.2541915780128\t\n",
       "current loss = 6.2462758338015\t\n",
       "current loss = 6.2383787969201\t\n"
      ]
     },
     "execution_count": 8,
     "metadata": {},
     "output_type": "execute_result"
    },
    {
     "data": {
      "text/plain": [
       "current loss = 6.2305004139562\t\n",
       "current loss = 6.222640631667\t\n",
       "current loss = 6.2147993969787\t\n",
       "current loss = 6.2069766569862\t\n"
      ]
     },
     "execution_count": 8,
     "metadata": {},
     "output_type": "execute_result"
    },
    {
     "data": {
      "text/plain": [
       "current loss = 6.1991723589523\t\n",
       "current loss = 6.1913864503072\t\n",
       "current loss = 6.1836188786478\t\n"
      ]
     },
     "execution_count": 8,
     "metadata": {},
     "output_type": "execute_result"
    },
    {
     "data": {
      "text/plain": [
       "current loss = 6.1758695917376\t\n",
       "current loss = 6.1681385375057\t\n"
      ]
     },
     "execution_count": 8,
     "metadata": {},
     "output_type": "execute_result"
    },
    {
     "data": {
      "text/plain": [
       "current loss = 6.1604256640465\t\n"
      ]
     },
     "execution_count": 8,
     "metadata": {},
     "output_type": "execute_result"
    },
    {
     "data": {
      "text/plain": [
       "current loss = 6.1527309196189\t\n"
      ]
     },
     "execution_count": 8,
     "metadata": {},
     "output_type": "execute_result"
    },
    {
     "data": {
      "text/plain": [
       "current loss = 6.1450542526462\t\n",
       "current loss = 6.1373956117151\t\n",
       "current loss = 6.1297549455755\t\n",
       "current loss = 6.1221322031398\t\n"
      ]
     },
     "execution_count": 8,
     "metadata": {},
     "output_type": "execute_result"
    },
    {
     "data": {
      "text/plain": [
       "current loss = 6.1145273334823\t\n",
       "current loss = 6.1069402858389\t\n",
       "current loss = 6.0993710096064\t\n"
      ]
     },
     "execution_count": 8,
     "metadata": {},
     "output_type": "execute_result"
    },
    {
     "data": {
      "text/plain": [
       "current loss = 6.0918194543419\t\n",
       "current loss = 6.0842855697625\t\n",
       "current loss = 6.0767693057445\t\n",
       "current loss = 6.0692706123233\t\n"
      ]
     },
     "execution_count": 8,
     "metadata": {},
     "output_type": "execute_result"
    },
    {
     "data": {
      "text/plain": [
       "current loss = 6.0617894396924\t\n",
       "current loss = 6.054325738203\t\n",
       "current loss = 6.0468794583637\t\n"
      ]
     },
     "execution_count": 8,
     "metadata": {},
     "output_type": "execute_result"
    },
    {
     "data": {
      "text/plain": [
       "current loss = 6.0394505508399\t\n",
       "current loss = 6.0320389664531\t\n",
       "current loss = 6.0246446561805\t\n"
      ]
     },
     "execution_count": 8,
     "metadata": {},
     "output_type": "execute_result"
    },
    {
     "data": {
      "text/plain": [
       "current loss = 6.0172675711546\t\n",
       "current loss = 6.0099076626626\t\n",
       "current loss = 6.0025648821458\t\n",
       "current loss = 5.9952391811992\t\n"
      ]
     },
     "execution_count": 8,
     "metadata": {},
     "output_type": "execute_result"
    },
    {
     "data": {
      "text/plain": [
       "current loss = 5.9879305115708\t\n",
       "current loss = 5.9806388251616\t\n",
       "current loss = 5.9733640740244\t\n",
       "current loss = 5.9661062103639\t\n"
      ]
     },
     "execution_count": 8,
     "metadata": {},
     "output_type": "execute_result"
    },
    {
     "data": {
      "text/plain": [
       "current loss = 5.9588651865359\t\n",
       "current loss = 5.9516409550466\t\n",
       "current loss = 5.9444334685528\t\n",
       "current loss = 5.9372426798605\t\n"
      ]
     },
     "execution_count": 8,
     "metadata": {},
     "output_type": "execute_result"
    },
    {
     "data": {
      "text/plain": [
       "current loss = 5.9300685419252\t\n",
       "current loss = 5.9229110078508\t\n",
       "current loss = 5.9157700308897\t\n",
       "current loss = 5.9086455644416\t\n"
      ]
     },
     "execution_count": 8,
     "metadata": {},
     "output_type": "execute_result"
    },
    {
     "data": {
      "text/plain": [
       "current loss = 5.9015375620537\t\n",
       "current loss = 5.8944459774198\t\n",
       "current loss = 5.8873707643798\t\n",
       "current loss = 5.8803118769196\t\n",
       "current loss = 5.8732692691701\t\n"
      ]
     },
     "execution_count": 8,
     "metadata": {},
     "output_type": "execute_result"
    },
    {
     "data": {
      "text/plain": [
       "current loss = 5.8662428954072\t\n",
       "current loss = 5.8592327100509\t\n",
       "current loss = 5.8522386676652\t\n",
       "current loss = 5.8452607229573\t\n"
      ]
     },
     "execution_count": 8,
     "metadata": {},
     "output_type": "execute_result"
    },
    {
     "data": {
      "text/plain": [
       "current loss = 5.8382988307773\t\n",
       "current loss = 5.8313529461177\t\n",
       "current loss = 5.824423024113\t\n",
       "current loss = 5.8175090200389\t\n",
       "current loss = 5.8106108893125\t\n"
      ]
     },
     "execution_count": 8,
     "metadata": {},
     "output_type": "execute_result"
    },
    {
     "data": {
      "text/plain": [
       "current loss = 5.803728587491\t\n",
       "current loss = 5.7968620702719\t\n",
       "current loss = 5.7900112934922\t\n",
       "current loss = 5.7831762131281\t\n"
      ]
     },
     "execution_count": 8,
     "metadata": {},
     "output_type": "execute_result"
    },
    {
     "data": {
      "text/plain": [
       "current loss = 5.7763567852942\t\n",
       "current loss = 5.7695529662436\t\n",
       "current loss = 5.7627647123671\t\n",
       "current loss = 5.7559919801925\t\n",
       "current loss = 5.7492347263848\t\n"
      ]
     },
     "execution_count": 8,
     "metadata": {},
     "output_type": "execute_result"
    },
    {
     "data": {
      "text/plain": [
       "current loss = 5.7424929077451\t\n",
       "current loss = 5.7357664812106\t\n",
       "current loss = 5.7290554038539\t\n",
       "current loss = 5.7223596328825\t\n",
       "current loss = 5.7156791256387\t\n"
      ]
     },
     "execution_count": 8,
     "metadata": {},
     "output_type": "execute_result"
    },
    {
     "data": {
      "text/plain": [
       "current loss = 5.7090138395987\t\n",
       "current loss = 5.7023637323725\t\n",
       "current loss = 5.6957287617033\t\n",
       "current loss = 5.6891088854671\t\n"
      ]
     },
     "execution_count": 8,
     "metadata": {},
     "output_type": "execute_result"
    },
    {
     "data": {
      "text/plain": [
       "current loss = 5.6825040616723\t\n",
       "current loss = 5.675914248459\t\n",
       "current loss = 5.669339404099\t\n",
       "current loss = 5.6627794869951\t\n",
       "current loss = 5.6562344556805\t\n"
      ]
     },
     "execution_count": 8,
     "metadata": {},
     "output_type": "execute_result"
    },
    {
     "data": {
      "text/plain": [
       "current loss = 5.6497042688188\t\n",
       "current loss = 5.6431888852032\t\n",
       "current loss = 5.6366882637563\t\n",
       "current loss = 5.6302023635294\t\n"
      ]
     },
     "execution_count": 8,
     "metadata": {},
     "output_type": "execute_result"
    },
    {
     "data": {
      "text/plain": [
       "current loss = 5.6237311437023\t\n",
       "current loss = 5.6172745635829\t\n",
       "current loss = 5.6108325826066\t\n",
       "current loss = 5.604405160336\t\n"
      ]
     },
     "execution_count": 8,
     "metadata": {},
     "output_type": "execute_result"
    },
    {
     "data": {
      "text/plain": [
       "current loss = 5.5979922564603\t\n",
       "current loss = 5.5915938307953\t\n",
       "current loss = 5.5852098432824\t\n",
       "current loss = 5.5788402539887\t\n",
       "current loss = 5.5724850231061\t\n"
      ]
     },
     "execution_count": 8,
     "metadata": {},
     "output_type": "execute_result"
    },
    {
     "data": {
      "text/plain": [
       "current loss = 5.5661441109514\t\n",
       "current loss = 5.5598174779655\t\n",
       "current loss = 5.5535050847131\t\n",
       "current loss = 5.5472068918823\t\n"
      ]
     },
     "execution_count": 8,
     "metadata": {},
     "output_type": "execute_result"
    },
    {
     "data": {
      "text/plain": [
       "current loss = 5.5409228602842\t\n",
       "current loss = 5.5346529508525\t\n",
       "current loss = 5.5283971246431\t\n"
      ]
     },
     "execution_count": 8,
     "metadata": {},
     "output_type": "execute_result"
    },
    {
     "data": {
      "text/plain": [
       "current loss = 5.5221553428336\t\n",
       "current loss = 5.5159275667229\t\n",
       "current loss = 5.509713757731\t\n",
       "current loss = 5.5035138773983\t\n",
       "current loss = 5.4973278873855\t\n"
      ]
     },
     "execution_count": 8,
     "metadata": {},
     "output_type": "execute_result"
    },
    {
     "data": {
      "text/plain": [
       "current loss = 5.4911557494729\t\n",
       "current loss = 5.4849974255602\t\n",
       "current loss = 5.4788528776661\t\n",
       "current loss = 5.4727220679278\t\n"
      ]
     },
     "execution_count": 8,
     "metadata": {},
     "output_type": "execute_result"
    },
    {
     "data": {
      "text/plain": [
       "current loss = 5.4666049586007\t\n",
       "current loss = 5.4605015120579\t\n",
       "current loss = 5.4544116907898\t\n",
       "current loss = 5.448335457404\t\n"
      ]
     },
     "execution_count": 8,
     "metadata": {},
     "output_type": "execute_result"
    },
    {
     "data": {
      "text/plain": [
       "current loss = 5.4422727746246\t\n",
       "current loss = 5.4362236052918\t\n",
       "current loss = 5.4301879123617\t\n",
       "current loss = 5.4241656589058\t\n",
       "current loss = 5.4181568081107\t\n"
      ]
     },
     "execution_count": 8,
     "metadata": {},
     "output_type": "execute_result"
    },
    {
     "data": {
      "text/plain": [
       "current loss = 5.4121613232776\t\n",
       "current loss = 5.406179167822\t\n",
       "current loss = 5.4002103052732\t\n",
       "current loss = 5.3942546992741\t\n"
      ]
     },
     "execution_count": 8,
     "metadata": {},
     "output_type": "execute_result"
    },
    {
     "data": {
      "text/plain": [
       "current loss = 5.3883123135809\t\n",
       "current loss = 5.3823831120622\t\n",
       "current loss = 5.3764670586993\t\n",
       "current loss = 5.3705641175853\t\n"
      ]
     },
     "execution_count": 8,
     "metadata": {},
     "output_type": "execute_result"
    },
    {
     "data": {
      "text/plain": [
       "current loss = 5.3646742529251\t\n",
       "current loss = 5.3587974290348\t\n",
       "current loss = 5.3529336103413\t\n",
       "current loss = 5.3470827613821\t\n",
       "current loss = 5.3412448468049\t\n"
      ]
     },
     "execution_count": 8,
     "metadata": {},
     "output_type": "execute_result"
    },
    {
     "data": {
      "text/plain": [
       "current loss = 5.3354198313671\t\n",
       "current loss = 5.3296076799356\t\n",
       "current loss = 5.3238083574862\t\n"
      ]
     },
     "execution_count": 8,
     "metadata": {},
     "output_type": "execute_result"
    },
    {
     "data": {
      "text/plain": [
       "current loss = 5.3180218291036\t\n",
       "current loss = 5.3122480599806\t\n",
       "current loss = 5.3064870154183\t\n",
       "current loss = 5.300738660825\t\n",
       "current loss = 5.2950029617166\t\n"
      ]
     },
     "execution_count": 8,
     "metadata": {},
     "output_type": "execute_result"
    },
    {
     "data": {
      "text/plain": [
       "current loss = 5.2892798837156\t\n",
       "current loss = 5.2835693925512\t\n",
       "current loss = 5.2778714540588\t\n",
       "current loss = 5.2721860341795\t\n"
      ]
     },
     "execution_count": 8,
     "metadata": {},
     "output_type": "execute_result"
    },
    {
     "data": {
      "text/plain": [
       "current loss = 5.2665130989601\t\n",
       "current loss = 5.2608526145521\t\n",
       "current loss = 5.2552045472122\t\n",
       "current loss = 5.2495688633014\t\n"
      ]
     },
     "execution_count": 8,
     "metadata": {},
     "output_type": "execute_result"
    },
    {
     "data": {
      "text/plain": [
       "current loss = 5.2439455292846\t\n",
       "current loss = 5.2383345117305\t\n",
       "current loss = 5.2327357773113\t\n",
       "current loss = 5.2271492928022\t\n"
      ]
     },
     "execution_count": 8,
     "metadata": {},
     "output_type": "execute_result"
    },
    {
     "data": {
      "text/plain": [
       "current loss = 5.221575025081\t\n",
       "current loss = 5.2160129411278\t\n",
       "current loss = 5.2104630080249\t\n",
       "current loss = 5.2049251929561\t\n",
       "current loss = 5.1993994632066\t\n"
      ]
     },
     "execution_count": 8,
     "metadata": {},
     "output_type": "execute_result"
    },
    {
     "data": {
      "text/plain": [
       "current loss = 5.1938857861626\t\n",
       "current loss = 5.1883841293108\t\n",
       "current loss = 5.1828944602386\t\n",
       "current loss = 5.1774167466329\t\n"
      ]
     },
     "execution_count": 8,
     "metadata": {},
     "output_type": "execute_result"
    },
    {
     "data": {
      "text/plain": [
       "current loss = 5.1719509562805\t\n",
       "current loss = 5.1664970570675\t\n",
       "current loss = 5.1610550169791\t\n",
       "current loss = 5.1556248040988\t\n"
      ]
     },
     "execution_count": 8,
     "metadata": {},
     "output_type": "execute_result"
    },
    {
     "data": {
      "text/plain": [
       "current loss = 5.1502063866088\t\n",
       "current loss = 5.1447997327892\t\n",
       "current loss = 5.1394048110176\t\n",
       "current loss = 5.1340215897691\t\n",
       "current loss = 5.1286500376158\t\n"
      ]
     },
     "execution_count": 8,
     "metadata": {},
     "output_type": "execute_result"
    },
    {
     "data": {
      "text/plain": [
       "current loss = 5.1232901232265\t\n",
       "current loss = 5.1179418153664\t\n",
       "current loss = 5.1126050828966\t\n",
       "current loss = 5.1072798947742\t\n"
      ]
     },
     "execution_count": 8,
     "metadata": {},
     "output_type": "execute_result"
    },
    {
     "data": {
      "text/plain": [
       "current loss = 5.1019662200515\t\n",
       "current loss = 5.0966640278761\t\n",
       "current loss = 5.09137328749\t\n",
       "current loss = 5.0860939682301\t\n"
      ]
     },
     "execution_count": 8,
     "metadata": {},
     "output_type": "execute_result"
    },
    {
     "data": {
      "text/plain": [
       "current loss = 5.0808260395272\t\n",
       "current loss = 5.0755694709061\t\n",
       "current loss = 5.0703242319849\t\n",
       "current loss = 5.0650902924751\t\n"
      ]
     },
     "execution_count": 8,
     "metadata": {},
     "output_type": "execute_result"
    },
    {
     "data": {
      "text/plain": [
       "current loss = 5.0598676221811\t\n",
       "current loss = 5.0546561909998\t\n",
       "current loss = 5.0494559689204\t\n",
       "current loss = 5.0442669260241\t\n"
      ]
     },
     "execution_count": 8,
     "metadata": {},
     "output_type": "execute_result"
    },
    {
     "data": {
      "text/plain": [
       "current loss = 5.0390890324838\t\n",
       "current loss = 5.0339222585638\t\n",
       "current loss = 5.0287665746193\t\n",
       "current loss = 5.0236219510964\t\n"
      ]
     },
     "execution_count": 8,
     "metadata": {},
     "output_type": "execute_result"
    },
    {
     "data": {
      "text/plain": [
       "current loss = 5.0184883585317\t\n",
       "current loss = 5.0133657675518\t\n",
       "current loss = 5.0082541488732\t\n"
      ]
     },
     "execution_count": 8,
     "metadata": {},
     "output_type": "execute_result"
    },
    {
     "data": {
      "text/plain": [
       "current loss = 5.0031534733021\t\n",
       "current loss = 4.9980637117337\t\n"
      ]
     },
     "execution_count": 8,
     "metadata": {},
     "output_type": "execute_result"
    },
    {
     "data": {
      "text/plain": [
       "current loss = 4.9929848351525\t\n",
       "current loss = 4.9879168146313\t\n",
       "current loss = 4.9828596213316\t\n"
      ]
     },
     "execution_count": 8,
     "metadata": {},
     "output_type": "execute_result"
    },
    {
     "data": {
      "text/plain": [
       "current loss = 4.9778132265027\t\n",
       "current loss = 4.9727776014819\t\n",
       "current loss = 4.9677527176938\t\n",
       "current loss = 4.9627385466505\t\n"
      ]
     },
     "execution_count": 8,
     "metadata": {},
     "output_type": "execute_result"
    },
    {
     "data": {
      "text/plain": [
       "current loss = 4.9577350599506\t\n",
       "current loss = 4.9527422292797\t\n",
       "current loss = 4.9477600264095\t\n",
       "current loss = 4.9427884231978\t\n"
      ]
     },
     "execution_count": 8,
     "metadata": {},
     "output_type": "execute_result"
    },
    {
     "data": {
      "text/plain": [
       "current loss = 4.9378273915882\t\n",
       "current loss = 4.9328769036099\t\n",
       "current loss = 4.9279369313769\t\n"
      ]
     },
     "execution_count": 8,
     "metadata": {},
     "output_type": "execute_result"
    },
    {
     "data": {
      "text/plain": [
       "current loss = 4.9230074470886\t\n",
       "current loss = 4.9180884230287\t\n",
       "current loss = 4.9131798315652\t\n"
      ]
     },
     "execution_count": 8,
     "metadata": {},
     "output_type": "execute_result"
    },
    {
     "data": {
      "text/plain": [
       "current loss = 4.9082816451505\t\n",
       "current loss = 4.9033938363206\t\n",
       "current loss = 4.8985163776948\t\n"
      ]
     },
     "execution_count": 8,
     "metadata": {},
     "output_type": "execute_result"
    },
    {
     "data": {
      "text/plain": [
       "current loss = 4.8936492419761\t\n",
       "current loss = 4.8887924019499\t\n",
       "current loss = 4.8839458304848\t\n",
       "current loss = 4.8791095005315\t"
      ]
     },
     "execution_count": 8,
     "metadata": {},
     "output_type": "execute_result"
    },
    {
     "data": {
      "text/plain": [
       "\n",
       "current loss = 4.8742833851228\t\n",
       "current loss = 4.8694674573736\t\n",
       "current loss = 4.8646616904802\t\n"
      ]
     },
     "execution_count": 8,
     "metadata": {},
     "output_type": "execute_result"
    },
    {
     "data": {
      "text/plain": [
       "current loss = 4.8598660577203\t\n",
       "current loss = 4.8550805324525\t\n",
       "current loss = 4.8503050881164\t\n",
       "current loss = 4.845539698232\t\n"
      ]
     },
     "execution_count": 8,
     "metadata": {},
     "output_type": "execute_result"
    },
    {
     "data": {
      "text/plain": [
       "current loss = 4.8407843363994\t\n",
       "current loss = 4.8360389762991\t\n",
       "current loss = 4.8313035916908\t\n"
      ]
     },
     "execution_count": 8,
     "metadata": {},
     "output_type": "execute_result"
    },
    {
     "data": {
      "text/plain": [
       "current loss = 4.8265781564139\t\n",
       "current loss = 4.8218626443871\t\n",
       "current loss = 4.8171570296077\t\n"
      ]
     },
     "execution_count": 8,
     "metadata": {},
     "output_type": "execute_result"
    },
    {
     "data": {
      "text/plain": [
       "current loss = 4.8124612861521\t\n",
       "current loss = 4.8077753881746\t\n",
       "current loss = 4.803099309908\t\n"
      ]
     },
     "execution_count": 8,
     "metadata": {},
     "output_type": "execute_result"
    },
    {
     "data": {
      "text/plain": [
       "current loss = 4.7984330256629\t\n",
       "current loss = 4.7937765098274\t\n",
       "current loss = 4.7891297368672\t\n"
      ]
     },
     "execution_count": 8,
     "metadata": {},
     "output_type": "execute_result"
    },
    {
     "data": {
      "text/plain": [
       "current loss = 4.7844926813248\t\n",
       "current loss = 4.7798653178198\t\n",
       "current loss = 4.7752476210483\t\n",
       "current loss = 4.7706395657828\t\n"
      ]
     },
     "execution_count": 8,
     "metadata": {},
     "output_type": "execute_result"
    },
    {
     "data": {
      "text/plain": [
       "current loss = 4.7660411268719\t\n",
       "current loss = 4.7614522792399\t\n",
       "current loss = 4.7568729978868\t\n"
      ]
     },
     "execution_count": 8,
     "metadata": {},
     "output_type": "execute_result"
    },
    {
     "data": {
      "text/plain": [
       "current loss = 4.7523032578881\t\n",
       "current loss = 4.747743034394\t\n",
       "current loss = 4.7431923026298\t\n",
       "current loss = 4.7386510378956\t\n"
      ]
     },
     "execution_count": 8,
     "metadata": {},
     "output_type": "execute_result"
    },
    {
     "data": {
      "text/plain": [
       "current loss = 4.7341192155654\t\n",
       "current loss = 4.7295968110875\t\n",
       "current loss = 4.7250837999842\t\n"
      ]
     },
     "execution_count": 8,
     "metadata": {},
     "output_type": "execute_result"
    },
    {
     "data": {
      "text/plain": [
       "current loss = 4.7205801578512\t\n",
       "current loss = 4.7160858603577\t\n",
       "current loss = 4.7116008832459\t\n",
       "current loss = 4.7071252023312\t\n"
      ]
     },
     "execution_count": 8,
     "metadata": {},
     "output_type": "execute_result"
    },
    {
     "data": {
      "text/plain": [
       "current loss = 4.7026587935012\t\n",
       "current loss = 4.6982016327162\t\n",
       "current loss = 4.6937536960086\t\n"
      ]
     },
     "execution_count": 8,
     "metadata": {},
     "output_type": "execute_result"
    },
    {
     "data": {
      "text/plain": [
       "current loss = 4.6893149594827\t\n",
       "current loss = 4.6848853993145\t\n",
       "current loss = 4.6804649917515\t\n"
      ]
     },
     "execution_count": 8,
     "metadata": {},
     "output_type": "execute_result"
    },
    {
     "data": {
      "text/plain": [
       "current loss = 4.6760537131125\t\n",
       "current loss = 4.6716515397869\t\n",
       "current loss = 4.6672584482354\t\n",
       "current loss = 4.6628744149887\t\n"
      ]
     },
     "execution_count": 8,
     "metadata": {},
     "output_type": "execute_result"
    },
    {
     "data": {
      "text/plain": [
       "current loss = 4.6584994166482\t\n",
       "current loss = 4.6541334298851\t\n",
       "current loss = 4.6497764314405\t\n"
      ]
     },
     "execution_count": 8,
     "metadata": {},
     "output_type": "execute_result"
    },
    {
     "data": {
      "text/plain": [
       "current loss = 4.6454283981251\t\n",
       "current loss = 4.6410893068189\t\n",
       "current loss = 4.6367591344711\t\n"
      ]
     },
     "execution_count": 8,
     "metadata": {},
     "output_type": "execute_result"
    },
    {
     "data": {
      "text/plain": [
       "current loss = 4.6324378580997\t\n",
       "current loss = 4.6281254547917\t\n",
       "current loss = 4.623821901702\t\n",
       "current loss = 4.6195271760542\t\n"
      ]
     },
     "execution_count": 8,
     "metadata": {},
     "output_type": "execute_result"
    },
    {
     "data": {
      "text/plain": [
       "current loss = 4.6152412551398\t\n",
       "current loss = 4.6109641163179\t\n",
       "current loss = 4.6066957370153\t\n"
      ]
     },
     "execution_count": 8,
     "metadata": {},
     "output_type": "execute_result"
    },
    {
     "data": {
      "text/plain": [
       "current loss = 4.6024360947261\t\n",
       "current loss = 4.5981851670115\t\n",
       "current loss = 4.5939429314997\t\n"
      ]
     },
     "execution_count": 8,
     "metadata": {},
     "output_type": "execute_result"
    },
    {
     "data": {
      "text/plain": [
       "current loss = 4.5897093658853\t\n",
       "current loss = 4.5854844479297\t\n",
       "current loss = 4.5812681554602\t\n",
       "current loss = 4.5770604663704\t\n"
      ]
     },
     "execution_count": 8,
     "metadata": {},
     "output_type": "execute_result"
    },
    {
     "data": {
      "text/plain": [
       "current loss = 4.5728613586195\t\n",
       "current loss = 4.5686708102323\t\n",
       "current loss = 4.564488799299\t\n"
      ]
     },
     "execution_count": 8,
     "metadata": {},
     "output_type": "execute_result"
    },
    {
     "data": {
      "text/plain": [
       "current loss = 4.5603153039751\t\n",
       "current loss = 4.5561503024808\t\n",
       "current loss = 4.5519937731011\t\n"
      ]
     },
     "execution_count": 8,
     "metadata": {},
     "output_type": "execute_result"
    },
    {
     "data": {
      "text/plain": [
       "current loss = 4.5478456941856\t\n",
       "current loss = 4.543706044148\t\n",
       "current loss = 4.5395748014664\t\n"
      ]
     },
     "execution_count": 8,
     "metadata": {},
     "output_type": "execute_result"
    },
    {
     "data": {
      "text/plain": [
       "current loss = 4.5354519446825\t\n",
       "current loss = 4.5313374524017\t\n"
      ]
     },
     "execution_count": 8,
     "metadata": {},
     "output_type": "execute_result"
    },
    {
     "data": {
      "text/plain": [
       "current loss = 4.5272313032931\t\n",
       "current loss = 4.5231334760887\t\n"
      ]
     },
     "execution_count": 8,
     "metadata": {},
     "output_type": "execute_result"
    },
    {
     "data": {
      "text/plain": [
       "current loss = 4.5190439495837\t\n"
      ]
     },
     "execution_count": 8,
     "metadata": {},
     "output_type": "execute_result"
    },
    {
     "data": {
      "text/plain": [
       "current loss = 4.5149627026363\t\n"
      ]
     },
     "execution_count": 8,
     "metadata": {},
     "output_type": "execute_result"
    },
    {
     "data": {
      "text/plain": [
       "current loss = 4.510889714167\t\n",
       "current loss = 4.5068249631591\t\n",
       "current loss = 4.5027684286578\t\n"
      ]
     },
     "execution_count": 8,
     "metadata": {},
     "output_type": "execute_result"
    },
    {
     "data": {
      "text/plain": [
       "current loss = 4.4987200897705\t\n",
       "current loss = 4.4946799256663\t\n",
       "current loss = 4.4906479155759\t\n",
       "current loss = 4.4866240387917\t\n"
      ]
     },
     "execution_count": 8,
     "metadata": {},
     "output_type": "execute_result"
    },
    {
     "data": {
      "text/plain": [
       "current loss = 4.4826082746669\t\n",
       "current loss = 4.478600602616\t\n",
       "current loss = 4.4746010021141\t\n"
      ]
     },
     "execution_count": 8,
     "metadata": {},
     "output_type": "execute_result"
    },
    {
     "data": {
      "text/plain": [
       "current loss = 4.470609452697\t\n",
       "current loss = 4.466625933961\t\n",
       "current loss = 4.4626504255625\t\n"
      ]
     },
     "execution_count": 8,
     "metadata": {},
     "output_type": "execute_result"
    },
    {
     "data": {
      "text/plain": [
       "current loss = 4.458682907218\t\n",
       "current loss = 4.4547233587036\t\n",
       "current loss = 4.4507717598554\t\n"
      ]
     },
     "execution_count": 8,
     "metadata": {},
     "output_type": "execute_result"
    },
    {
     "data": {
      "text/plain": [
       "current loss = 4.4468280905686\t\n",
       "current loss = 4.4428923307978\t\n",
       "current loss = 4.4389644605565\t\n",
       "current loss = 4.4350444599173\t\n"
      ]
     },
     "execution_count": 8,
     "metadata": {},
     "output_type": "execute_result"
    },
    {
     "data": {
      "text/plain": [
       "current loss = 4.4311323090112\t\n",
       "current loss = 4.4272279880279\t\n"
      ]
     },
     "execution_count": 8,
     "metadata": {},
     "output_type": "execute_result"
    },
    {
     "data": {
      "text/plain": [
       "current loss = 4.423331477215\t\n",
       "current loss = 4.4194427568786\t\n",
       "current loss = 4.4155618073824\t\n"
      ]
     },
     "execution_count": 8,
     "metadata": {},
     "output_type": "execute_result"
    },
    {
     "data": {
      "text/plain": [
       "current loss = 4.4116886091481\t\n",
       "current loss = 4.4078231426547\t\n",
       "current loss = 4.4039653884384\t\n"
      ]
     },
     "execution_count": 8,
     "metadata": {},
     "output_type": "execute_result"
    },
    {
     "data": {
      "text/plain": [
       "current loss = 4.4001153270928\t\n",
       "current loss = 4.3962729392685\t\n",
       "current loss = 4.3924382056726\t\n",
       "current loss = 4.388611107069\t\n"
      ]
     },
     "execution_count": 8,
     "metadata": {},
     "output_type": "execute_result"
    },
    {
     "data": {
      "text/plain": [
       "current loss = 4.3847916242778\t\n",
       "current loss = 4.3809797381756\t\n",
       "current loss = 4.3771754296948\t\n",
       "current loss = 4.3733786798237\t\n"
      ]
     },
     "execution_count": 8,
     "metadata": {},
     "output_type": "execute_result"
    },
    {
     "data": {
      "text/plain": [
       "current loss = 4.3695894696064\t\n",
       "current loss = 4.3658077801423\t\n",
       "current loss = 4.3620335925862\t\n",
       "current loss = 4.3582668881481\t\n",
       "current loss = 4.3545076480928\t\n"
      ]
     },
     "execution_count": 8,
     "metadata": {},
     "output_type": "execute_result"
    },
    {
     "data": {
      "text/plain": [
       "current loss = 4.35075585374\t\n",
       "current loss = 4.3470114864639\t\n",
       "current loss = 4.3432745276931\t\n",
       "current loss = 4.3395449589106\t\n"
      ]
     },
     "execution_count": 8,
     "metadata": {},
     "output_type": "execute_result"
    },
    {
     "data": {
      "text/plain": [
       "current loss = 4.3358227616533\t\n",
       "current loss = 4.332107917512\t\n",
       "current loss = 4.3284004081313\t\n",
       "current loss = 4.3247002152093\t\n"
      ]
     },
     "execution_count": 8,
     "metadata": {},
     "output_type": "execute_result"
    },
    {
     "data": {
      "text/plain": [
       "current loss = 4.3210073204974\t\n",
       "current loss = 4.3173217058002\t\n",
       "current loss = 4.3136433529754\t\n",
       "current loss = 4.3099722439335\t\n"
      ]
     },
     "execution_count": 8,
     "metadata": {},
     "output_type": "execute_result"
    },
    {
     "data": {
      "text/plain": [
       "current loss = 4.3063083606377\t\n",
       "current loss = 4.3026516851036\t\n",
       "current loss = 4.2990021993993\t\n",
       "current loss = 4.2953598856449\t\n",
       "current loss = 4.2917247260126\t\n"
      ]
     },
     "execution_count": 8,
     "metadata": {},
     "output_type": "execute_result"
    },
    {
     "data": {
      "text/plain": [
       "current loss = 4.2880967027263\t\n",
       "current loss = 4.2844757980618\t\n",
       "current loss = 4.2808619943461\t\n",
       "current loss = 4.2772552739577\t\n"
      ]
     },
     "execution_count": 8,
     "metadata": {},
     "output_type": "execute_result"
    },
    {
     "data": {
      "text/plain": [
       "current loss = 4.2736556193262\t\n",
       "current loss = 4.2700630129322\t\n",
       "current loss = 4.2664774373072\t\n",
       "current loss = 4.2628988750332\t\n",
       "current loss = 4.2593273087429\t\n"
      ]
     },
     "execution_count": 8,
     "metadata": {},
     "output_type": "execute_result"
    },
    {
     "data": {
      "text/plain": [
       "current loss = 4.2557627211191\t\n",
       "current loss = 4.252205094895\t\n",
       "current loss = 4.2486544128537\t\n",
       "current loss = 4.2451106578282\t\n"
      ]
     },
     "execution_count": 8,
     "metadata": {},
     "output_type": "execute_result"
    },
    {
     "data": {
      "text/plain": [
       "current loss = 4.241573812701\t\n",
       "current loss = 4.2380438604043\t\n",
       "current loss = 4.2345207839198\t\n",
       "current loss = 4.2310045662781\t\n"
      ]
     },
     "execution_count": 8,
     "metadata": {},
     "output_type": "execute_result"
    },
    {
     "data": {
      "text/plain": [
       "current loss = 4.2274951905591\t\n",
       "current loss = 4.2239926398913\t\n",
       "current loss = 4.2204968974523\t\n",
       "current loss = 4.2170079464681\t\n"
      ]
     },
     "execution_count": 8,
     "metadata": {},
     "output_type": "execute_result"
    },
    {
     "data": {
      "text/plain": [
       "current loss = 4.213525770213\t\n",
       "current loss = 4.2100503520097\t\n",
       "current loss = 4.206581675229\t\n",
       "current loss = 4.2031197232896\t\n",
       "current loss = 4.1996644796581\t\n"
      ]
     },
     "execution_count": 8,
     "metadata": {},
     "output_type": "execute_result"
    },
    {
     "data": {
      "text/plain": [
       "current loss = 4.1962159278487\t\n",
       "current loss = 4.192774051423\t\n",
       "current loss = 4.1893388339899\t\n",
       "current loss = 4.1859102592058\t\n"
      ]
     },
     "execution_count": 8,
     "metadata": {},
     "output_type": "execute_result"
    },
    {
     "data": {
      "text/plain": [
       "current loss = 4.1824883107738\t\n",
       "current loss = 4.179072972444\t\n",
       "current loss = 4.1756642280133\t\n",
       "current loss = 4.172262061325\t\n",
       "current loss = 4.1688664562691\t\n"
      ]
     },
     "execution_count": 8,
     "metadata": {},
     "output_type": "execute_result"
    },
    {
     "data": {
      "text/plain": [
       "current loss = 4.1654773967816\t\n",
       "current loss = 4.1620948668448\t\n",
       "current loss = 4.1587188504869\t\n",
       "current loss = 4.155349331782\t\n"
      ]
     },
     "execution_count": 8,
     "metadata": {},
     "output_type": "execute_result"
    },
    {
     "data": {
      "text/plain": [
       "current loss = 4.15198629485\t\n",
       "current loss = 4.148629723856\t\n",
       "current loss = 4.1452796030109\t\n",
       "current loss = 4.1419359165706\t\n"
      ]
     },
     "execution_count": 8,
     "metadata": {},
     "output_type": "execute_result"
    },
    {
     "data": {
      "text/plain": [
       "current loss = 4.138598648836\t\n",
       "current loss = 4.1352677841534\t\n",
       "current loss = 4.1319433069136\t\n",
       "current loss = 4.1286252015519\t\n",
       "current loss = 4.1253134525485\t\n"
      ]
     },
     "execution_count": 8,
     "metadata": {},
     "output_type": "execute_result"
    },
    {
     "data": {
      "text/plain": [
       "current loss = 4.122008044428\t\n",
       "current loss = 4.1187089617587\t\n",
       "current loss = 4.1154161891537\t\n",
       "current loss = 4.1121297112697\t\n"
      ]
     },
     "execution_count": 8,
     "metadata": {},
     "output_type": "execute_result"
    },
    {
     "data": {
      "text/plain": [
       "current loss = 4.1088495128072\t\n",
       "current loss = 4.1055755785105\t\n",
       "current loss = 4.1023078931673\t\n",
       "current loss = 4.099046441609\t\n"
      ]
     },
     "execution_count": 8,
     "metadata": {},
     "output_type": "execute_result"
    },
    {
     "data": {
      "text/plain": [
       "current loss = 4.0957912087099\t\n",
       "current loss = 4.0925421793876\t\n",
       "current loss = 4.0892993386027\t\n",
       "current loss = 4.0860626713587\t\n"
      ]
     },
     "execution_count": 8,
     "metadata": {},
     "output_type": "execute_result"
    },
    {
     "data": {
      "text/plain": [
       "current loss = 4.0828321627016\t\n",
       "current loss = 4.0796077977202\t\n",
       "current loss = 4.0763895615457\t\n",
       "current loss = 4.0731774393514\t\n"
      ]
     },
     "execution_count": 8,
     "metadata": {},
     "output_type": "execute_result"
    },
    {
     "data": {
      "text/plain": [
       "current loss = 4.0699714163531\t\n",
       "current loss = 4.0667714778085\t\n",
       "current loss = 4.063577609017\t\n",
       "current loss = 4.06038979532\t\n",
       "current loss = 4.0572080221006\t\n"
      ]
     },
     "execution_count": 8,
     "metadata": {},
     "output_type": "execute_result"
    },
    {
     "data": {
      "text/plain": [
       "current loss = 4.0540322747831\t\n",
       "current loss = 4.0508625388334\t\n",
       "current loss = 4.0476987997586\t\n",
       "current loss = 4.044541043107\t\n"
      ]
     },
     "execution_count": 8,
     "metadata": {},
     "output_type": "execute_result"
    },
    {
     "data": {
      "text/plain": [
       "current loss = 4.0413892544676\t\n",
       "current loss = 4.0382434194706\t\n",
       "current loss = 4.0351035237865\t\n",
       "current loss = 4.0319695531268\t\n"
      ]
     },
     "execution_count": 8,
     "metadata": {},
     "output_type": "execute_result"
    },
    {
     "data": {
      "text/plain": [
       "current loss = 4.0288414932432\t\n",
       "current loss = 4.0257193299278\t\n",
       "current loss = 4.0226030490129\t\n",
       "current loss = 4.0194926363709\t\n"
      ]
     },
     "execution_count": 8,
     "metadata": {},
     "output_type": "execute_result"
    },
    {
     "data": {
      "text/plain": [
       "current loss = 4.0163880779142\t\n",
       "current loss = 4.0132893595948\t\n",
       "current loss = 4.0101964674045\t\n",
       "current loss = 4.0071093873749\t\n",
       "current loss = 4.0040281055766\t\n"
      ]
     },
     "execution_count": 8,
     "metadata": {},
     "output_type": "execute_result"
    },
    {
     "data": {
      "text/plain": [
       "current loss = 4.00095260812\t\n",
       "current loss = 3.9978828811542\t\n",
       "current loss = 3.9948189108678\t\n",
       "current loss = 3.991760683488\t\n"
      ]
     },
     "execution_count": 8,
     "metadata": {},
     "output_type": "execute_result"
    },
    {
     "data": {
      "text/plain": [
       "current loss = 3.988708185281\t\n",
       "current loss = 3.9856614025518\t\n",
       "current loss = 3.9826203216436\t\n",
       "current loss = 3.9795849289385\t\n"
      ]
     },
     "execution_count": 8,
     "metadata": {},
     "output_type": "execute_result"
    },
    {
     "data": {
      "text/plain": [
       "current loss = 3.9765552108567\t\n",
       "current loss = 3.9735311538564\t\n",
       "current loss = 3.9705127444344\t\n",
       "current loss = 3.967499969125\t\n"
      ]
     },
     "execution_count": 8,
     "metadata": {},
     "output_type": "execute_result"
    },
    {
     "data": {
      "text/plain": [
       "current loss = 3.9644928145006\t\n",
       "current loss = 3.9614912671712\t\n",
       "current loss = 3.9584953137845\t\n",
       "current loss = 3.9555049410256\t\n"
      ]
     },
     "execution_count": 8,
     "metadata": {},
     "output_type": "execute_result"
    },
    {
     "data": {
      "text/plain": [
       "current loss = 3.952520135617\t\n",
       "current loss = 3.9495408843185\t\n",
       "current loss = 3.9465671739271\t\n",
       "current loss = 3.9435989912766\t\n"
      ]
     },
     "execution_count": 8,
     "metadata": {},
     "output_type": "execute_result"
    },
    {
     "data": {
      "text/plain": [
       "current loss = 3.9406363232378\t\n",
       "current loss = 3.9376791567183\t\n",
       "current loss = 3.9347274786625\t\n",
       "current loss = 3.931781276051\t\n"
      ]
     },
     "execution_count": 8,
     "metadata": {},
     "output_type": "execute_result"
    },
    {
     "data": {
      "text/plain": [
       "current loss = 3.9288405359013\t\n",
       "current loss = 3.9259052452669\t\n",
       "current loss = 3.9229753912375\t\n",
       "current loss = 3.920050960939\t\n"
      ]
     },
     "execution_count": 8,
     "metadata": {},
     "output_type": "execute_result"
    },
    {
     "data": {
      "text/plain": [
       "current loss = 3.9171319415333\t\n",
       "current loss = 3.9142183202181\t\n",
       "current loss = 3.911310084227\t\n",
       "current loss = 3.9084072208289\t\n"
      ]
     },
     "execution_count": 8,
     "metadata": {},
     "output_type": "execute_result"
    },
    {
     "data": {
      "text/plain": [
       "current loss = 3.9055097173286\t\n",
       "current loss = 3.9026175610662\t\n",
       "current loss = 3.8997307394169\t\n",
       "current loss = 3.8968492397914\t\n",
       "current loss = 3.8939730496353\t\n"
      ]
     },
     "execution_count": 8,
     "metadata": {},
     "output_type": "execute_result"
    },
    {
     "data": {
      "text/plain": [
       "current loss = 3.8911021564292\t\n",
       "current loss = 3.8882365476887\t\n",
       "current loss = 3.8853762109639\t\n",
       "current loss = 3.8825211338397\t\n"
      ]
     },
     "execution_count": 8,
     "metadata": {},
     "output_type": "execute_result"
    },
    {
     "data": {
      "text/plain": [
       "current loss = 3.8796713039357\t\n",
       "current loss = 3.8768267089055\t\n",
       "current loss = 3.8739873364374\t\n"
      ]
     },
     "execution_count": 8,
     "metadata": {},
     "output_type": "execute_result"
    },
    {
     "data": {
      "text/plain": [
       "current loss = 3.8711531742538\t\n",
       "current loss = 3.8683242101111\t\n"
      ]
     },
     "execution_count": 8,
     "metadata": {},
     "output_type": "execute_result"
    },
    {
     "data": {
      "text/plain": [
       "current loss = 3.8655004317999\t\n",
       "current loss = 3.8626818271445\t\n",
       "current loss = 3.859868384003\t\n"
      ]
     },
     "execution_count": 8,
     "metadata": {},
     "output_type": "execute_result"
    },
    {
     "data": {
      "text/plain": [
       "current loss = 3.8570600902674\t\n",
       "current loss = 3.854256933863\t\n",
       "current loss = 3.8514589027488\t\n",
       "current loss = 3.8486659849169\t\n"
      ]
     },
     "execution_count": 8,
     "metadata": {},
     "output_type": "execute_result"
    },
    {
     "data": {
      "text/plain": [
       "current loss = 3.8458781683929\t\n",
       "current loss = 3.8430954412355\t\n",
       "current loss = 3.8403177915363\t\n",
       "current loss = 3.8375452074201\t\n"
      ]
     },
     "execution_count": 8,
     "metadata": {},
     "output_type": "execute_result"
    },
    {
     "data": {
      "text/plain": [
       "current loss = 3.8347776770443\t\n",
       "current loss = 3.8320151885993\t\n",
       "current loss = 3.8292577303078\t\n",
       "current loss = 3.8265052904254\t\n"
      ]
     },
     "execution_count": 8,
     "metadata": {},
     "output_type": "execute_result"
    },
    {
     "data": {
      "text/plain": [
       "current loss = 3.82375785724\t\n",
       "current loss = 3.8210154190717\t\n",
       "current loss = 3.8182779642729\t\n"
      ]
     },
     "execution_count": 8,
     "metadata": {},
     "output_type": "execute_result"
    },
    {
     "data": {
      "text/plain": [
       "current loss = 3.8155454812284\t\n",
       "current loss = 3.8128179583547\t\n",
       "current loss = 3.8100953841003\t\n",
       "current loss = 3.8073777469456\t\n"
      ]
     },
     "execution_count": 8,
     "metadata": {},
     "output_type": "execute_result"
    },
    {
     "data": {
      "text/plain": [
       "current loss = 3.8046650354028\t\n",
       "current loss = 3.8019572380156\t\n",
       "current loss = 3.7992543433594\t\n"
      ]
     },
     "execution_count": 8,
     "metadata": {},
     "output_type": "execute_result"
    },
    {
     "data": {
      "text/plain": [
       "current loss = 3.7965563400408\t\n",
       "current loss = 3.793863216698\t\n",
       "current loss = 3.7911749620003\t\n"
      ]
     },
     "execution_count": 8,
     "metadata": {},
     "output_type": "execute_result"
    },
    {
     "data": {
      "text/plain": [
       "current loss = 3.7884915646482\t\n",
       "current loss = 3.7858130133732\t\n",
       "current loss = 3.7831392969378\t\n",
       "current loss = 3.7804704041354\t\n"
      ]
     },
     "execution_count": 8,
     "metadata": {},
     "output_type": "execute_result"
    },
    {
     "data": {
      "text/plain": [
       "current loss = 3.77780632379\t\n",
       "current loss = 3.7751470447564\t\n",
       "current loss = 3.7724925559201\t\n"
      ]
     },
     "execution_count": 8,
     "metadata": {},
     "output_type": "execute_result"
    },
    {
     "data": {
      "text/plain": [
       "current loss = 3.7698428461968\t\n",
       "current loss = 3.7671979045326\t\n",
       "current loss = 3.7645577199043\t\n"
      ]
     },
     "execution_count": 8,
     "metadata": {},
     "output_type": "execute_result"
    },
    {
     "data": {
      "text/plain": [
       "current loss = 3.7619222813183\t\n",
       "current loss = 3.7592915778116\t\n",
       "current loss = 3.7566655984508\t\n"
      ]
     },
     "execution_count": 8,
     "metadata": {},
     "output_type": "execute_result"
    },
    {
     "data": {
      "text/plain": [
       "current loss = 3.7540443323329\t\n",
       "current loss = 3.7514277685842\t\n",
       "current loss = 3.7488158963611\t\n"
      ]
     },
     "execution_count": 8,
     "metadata": {},
     "output_type": "execute_result"
    },
    {
     "data": {
      "text/plain": [
       "current loss = 3.7462087048494\t\n",
       "current loss = 3.7436061832646\t\n",
       "current loss = 3.7410083208517\t\n",
       "current loss = 3.7384151068849\t\n"
      ]
     },
     "execution_count": 8,
     "metadata": {},
     "output_type": "execute_result"
    },
    {
     "data": {
      "text/plain": [
       "current loss = 3.7358265306677\t\n",
       "current loss = 3.7332425815328\t\n",
       "current loss = 3.7306632488422\t\n"
      ]
     },
     "execution_count": 8,
     "metadata": {},
     "output_type": "execute_result"
    },
    {
     "data": {
      "text/plain": [
       "current loss = 3.7280885219866\t\n",
       "current loss = 3.7255183903857\t\n",
       "current loss = 3.7229528434882\t\n"
      ]
     },
     "execution_count": 8,
     "metadata": {},
     "output_type": "execute_result"
    },
    {
     "data": {
      "text/plain": [
       "current loss = 3.7203918707713\t\n",
       "current loss = 3.7178354617409\t\n",
       "current loss = 3.7152836059315\t\n"
      ]
     },
     "execution_count": 8,
     "metadata": {},
     "output_type": "execute_result"
    },
    {
     "data": {
      "text/plain": [
       "current loss = 3.7127362929062\t\n",
       "current loss = 3.7101935122562\t\n",
       "current loss = 3.7076552536012\t\n",
       "current loss = 3.7051215065891\t\n"
      ]
     },
     "execution_count": 8,
     "metadata": {},
     "output_type": "execute_result"
    },
    {
     "data": {
      "text/plain": [
       "current loss = 3.7025922608957\t\n",
       "current loss = 3.7000675062252\t\n",
       "current loss = 3.6975472323095\t\n"
      ]
     },
     "execution_count": 8,
     "metadata": {},
     "output_type": "execute_result"
    },
    {
     "data": {
      "text/plain": [
       "current loss = 3.6950314289084\t\n",
       "current loss = 3.6925200858094\t\n",
       "current loss = 3.6900131928279\t\n"
      ]
     },
     "execution_count": 8,
     "metadata": {},
     "output_type": "execute_result"
    },
    {
     "data": {
      "text/plain": [
       "current loss = 3.6875107398067\t\n",
       "current loss = 3.6850127166163\t\n",
       "current loss = 3.6825191131544\t\n"
      ]
     },
     "execution_count": 8,
     "metadata": {},
     "output_type": "execute_result"
    },
    {
     "data": {
      "text/plain": [
       "current loss = 3.6800299193463\t\n",
       "current loss = 3.6775451251444\t\n",
       "current loss = 3.6750647205284\t\n"
      ]
     },
     "execution_count": 8,
     "metadata": {},
     "output_type": "execute_result"
    },
    {
     "data": {
      "text/plain": [
       "current loss = 3.6725886955049\t\n",
       "current loss = 3.6701170401078\t\n",
       "current loss = 3.6676497443978\t\n",
       "current loss = 3.6651867984624\t\n"
      ]
     },
     "execution_count": 8,
     "metadata": {},
     "output_type": "execute_result"
    },
    {
     "data": {
      "text/plain": [
       "current loss = 3.6627281924158\t\n",
       "current loss = 3.6602739163992\t\n",
       "current loss = 3.65782396058\t\n"
      ]
     },
     "execution_count": 8,
     "metadata": {},
     "output_type": "execute_result"
    },
    {
     "data": {
      "text/plain": [
       "current loss = 3.6553783151525\t\n",
       "current loss = 3.6529369703372\t\n",
       "current loss = 3.650499916381\t\n",
       "current loss = 3.6480671435572\t\n"
      ]
     },
     "execution_count": 8,
     "metadata": {},
     "output_type": "execute_result"
    },
    {
     "data": {
      "text/plain": [
       "current loss = 3.6456386421652\t\n",
       "current loss = 3.6432144025304\t\n",
       "current loss = 3.6407944150045\t\n"
      ]
     },
     "execution_count": 8,
     "metadata": {},
     "output_type": "execute_result"
    },
    {
     "data": {
      "text/plain": [
       "current loss = 3.638378669965\t\n",
       "current loss = 3.6359671578154\t\n",
       "current loss = 3.6335598689848\t\n"
      ]
     },
     "execution_count": 8,
     "metadata": {},
     "output_type": "execute_result"
    },
    {
     "data": {
      "text/plain": [
       "current loss = 3.6311567939282\t\n",
       "current loss = 3.6287579231261\t\n",
       "current loss = 3.6263632470849\t\n"
      ]
     },
     "execution_count": 8,
     "metadata": {},
     "output_type": "execute_result"
    },
    {
     "data": {
      "text/plain": [
       "current loss = 3.623972756336\t\n",
       "current loss = 3.6215864414365\t\n",
       "current loss = 3.6192042929689\t\n"
      ]
     },
     "execution_count": 8,
     "metadata": {},
     "output_type": "execute_result"
    },
    {
     "data": {
      "text/plain": [
       "current loss = 3.6168263015408\t\n",
       "current loss = 3.6144524577849\t\n",
       "current loss = 3.6120827523593\t\n"
      ]
     },
     "execution_count": 8,
     "metadata": {},
     "output_type": "execute_result"
    },
    {
     "data": {
      "text/plain": [
       "current loss = 3.6097171759469\t\n",
       "current loss = 3.6073557192557\t\n",
       "current loss = 3.6049983730183\t\n",
       "current loss = 3.6026451279923\t\n"
      ]
     },
     "execution_count": 8,
     "metadata": {},
     "output_type": "execute_result"
    },
    {
     "data": {
      "text/plain": [
       "current loss = 3.6002959749601\t\n",
       "current loss = 3.5979509047287\t\n"
      ]
     },
     "execution_count": 8,
     "metadata": {},
     "output_type": "execute_result"
    },
    {
     "data": {
      "text/plain": [
       "current loss = 3.5956099081295\t\n"
      ]
     },
     "execution_count": 8,
     "metadata": {},
     "output_type": "execute_result"
    },
    {
     "data": {
      "text/plain": [
       "current loss = 3.5932729760185\t\n"
      ]
     },
     "execution_count": 8,
     "metadata": {},
     "output_type": "execute_result"
    },
    {
     "data": {
      "text/plain": [
       "current loss = 3.5909400992763\t\n"
      ]
     },
     "execution_count": 8,
     "metadata": {},
     "output_type": "execute_result"
    },
    {
     "data": {
      "text/plain": [
       "current loss = 3.5886112688076\t\n",
       "current loss = 3.5862864755414\t\n",
       "current loss = 3.5839657104311\t\n"
      ]
     },
     "execution_count": 8,
     "metadata": {},
     "output_type": "execute_result"
    },
    {
     "data": {
      "text/plain": [
       "current loss = 3.5816489644541\t\n",
       "current loss = 3.5793362286117\t\n",
       "current loss = 3.5770274939296\t\n"
      ]
     },
     "execution_count": 8,
     "metadata": {},
     "output_type": "execute_result"
    },
    {
     "data": {
      "text/plain": [
       "current loss = 3.5747227514569\t\n",
       "current loss = 3.5724219922669\t\n",
       "current loss = 3.5701252074566\t\n"
      ]
     },
     "execution_count": 8,
     "metadata": {},
     "output_type": "execute_result"
    },
    {
     "data": {
      "text/plain": [
       "current loss = 3.5678323881466\t\n",
       "current loss = 3.5655435254812\t\n",
       "current loss = 3.5632586106281\t\n"
      ]
     },
     "execution_count": 8,
     "metadata": {},
     "output_type": "execute_result"
    },
    {
     "data": {
      "text/plain": [
       "current loss = 3.5609776347787\t\n",
       "current loss = 3.5587005891477\t\n",
       "current loss = 3.5564274649732\t\n",
       "current loss = 3.5541582535163\t\n"
      ]
     },
     "execution_count": 8,
     "metadata": {},
     "output_type": "execute_result"
    },
    {
     "data": {
      "text/plain": [
       "current loss = 3.5518929460617\t\n",
       "current loss = 3.549631533917\t\n",
       "current loss = 3.5473740084128\t\n"
      ]
     },
     "execution_count": 8,
     "metadata": {},
     "output_type": "execute_result"
    },
    {
     "data": {
      "text/plain": [
       "current loss = 3.5451203609029\t\n",
       "current loss = 3.5428705827637\t\n",
       "current loss = 3.5406246653948\t\n"
      ]
     },
     "execution_count": 8,
     "metadata": {},
     "output_type": "execute_result"
    },
    {
     "data": {
      "text/plain": [
       "current loss = 3.5383826002184\t\n",
       "current loss = 3.5361443786794\t\n",
       "current loss = 3.5339099922454\t\n",
       "current loss = 3.5316794324064\t\n"
      ]
     },
     "execution_count": 8,
     "metadata": {},
     "output_type": "execute_result"
    },
    {
     "data": {
      "text/plain": [
       "current loss = 3.5294526906752\t\n",
       "current loss = 3.5272297585868\t\n",
       "current loss = 3.5250106276987\t\n",
       "current loss = 3.5227952895907\t\n"
      ]
     },
     "execution_count": 8,
     "metadata": {},
     "output_type": "execute_result"
    },
    {
     "data": {
      "text/plain": [
       "current loss = 3.5205837358647\t\n",
       "current loss = 3.5183759581449\t\n",
       "current loss = 3.5161719480776\t\n",
       "current loss = 3.513971697331\t\n",
       "current loss = 3.5117751975955\t\n"
      ]
     },
     "execution_count": 8,
     "metadata": {},
     "output_type": "execute_result"
    },
    {
     "data": {
      "text/plain": [
       "current loss = 3.5095824405831\t\n",
       "current loss = 3.507393418028\t\n",
       "current loss = 3.5052081216859\t\n",
       "current loss = 3.5030265433343\t\n"
      ]
     },
     "execution_count": 8,
     "metadata": {},
     "output_type": "execute_result"
    },
    {
     "data": {
      "text/plain": [
       "current loss = 3.5008486747723\t\n",
       "current loss = 3.4986745078206\t\n",
       "current loss = 3.4965040343215\t\n",
       "current loss = 3.4943372461386\t\n",
       "current loss = 3.4921741351569\t\n"
      ]
     },
     "execution_count": 8,
     "metadata": {},
     "output_type": "execute_result"
    },
    {
     "data": {
      "text/plain": [
       "current loss = 3.4900146932828\t\n",
       "current loss = 3.4878589124441\t\n",
       "current loss = 3.4857067845893\t\n",
       "current loss = 3.4835583016886\t\n"
      ]
     },
     "execution_count": 8,
     "metadata": {},
     "output_type": "execute_result"
    },
    {
     "data": {
      "text/plain": [
       "current loss = 3.4814134557329\t\n",
       "current loss = 3.4792722387342\t\n",
       "current loss = 3.4771346427255\t\n",
       "current loss = 3.4750006597606\t\n",
       "current loss = 3.4728702819141\t\n"
      ]
     },
     "execution_count": 8,
     "metadata": {},
     "output_type": "execute_result"
    },
    {
     "data": {
      "text/plain": [
       "current loss = 3.4707435012814\t\n",
       "current loss = 3.4686203099787\t\n",
       "current loss = 3.4665007001425\t\n"
      ]
     },
     "execution_count": 8,
     "metadata": {},
     "output_type": "execute_result"
    },
    {
     "data": {
      "text/plain": [
       "current loss = 3.4643846639303\t\n",
       "current loss = 3.4622721935197\t\n",
       "current loss = 3.460163281109\t\n",
       "current loss = 3.4580579189168\t\n",
       "current loss = 3.4559560991821\t\n"
      ]
     },
     "execution_count": 8,
     "metadata": {},
     "output_type": "execute_result"
    },
    {
     "data": {
      "text/plain": [
       "current loss = 3.4538578141639\t\n",
       "current loss = 3.4517630561418\t\n",
       "current loss = 3.4496718174152\t\n",
       "current loss = 3.4475840903037\t\n"
      ]
     },
     "execution_count": 8,
     "metadata": {},
     "output_type": "execute_result"
    },
    {
     "data": {
      "text/plain": [
       "current loss = 3.4454998671471\t\n",
       "current loss = 3.4434191403048\t\n",
       "current loss = 3.4413419021564\t\n",
       "current loss = 3.4392681451012\t\n",
       "current loss = 3.4371978615584\t\n"
      ]
     },
     "execution_count": 8,
     "metadata": {},
     "output_type": "execute_result"
    },
    {
     "data": {
      "text/plain": [
       "current loss = 3.4351310439668\t\n",
       "current loss = 3.4330676847849\t\n",
       "current loss = 3.4310077764908\t\n",
       "current loss = 3.4289513115823\t\n"
      ]
     },
     "execution_count": 8,
     "metadata": {},
     "output_type": "execute_result"
    },
    {
     "data": {
      "text/plain": [
       "current loss = 3.4268982825765\t\n",
       "current loss = 3.4248486820099\t\n",
       "current loss = 3.4228025024386\t\n",
       "current loss = 3.4207597364379\t\n"
      ]
     },
     "execution_count": 8,
     "metadata": {},
     "output_type": "execute_result"
    },
    {
     "data": {
      "text/plain": [
       "current loss = 3.4187203766023\t\n",
       "current loss = 3.4166844155456\t\n",
       "current loss = 3.4146518459007\t\n",
       "current loss = 3.4126226603196\t\n"
      ]
     },
     "execution_count": 8,
     "metadata": {},
     "output_type": "execute_result"
    },
    {
     "data": {
      "text/plain": [
       "current loss = 3.4105968514733\t\n",
       "current loss = 3.4085744120519\t\n",
       "current loss = 3.4065553347643\t\n",
       "current loss = 3.4045396123383\t\n",
       "current loss = 3.4025272375205\t\n"
      ]
     },
     "execution_count": 8,
     "metadata": {},
     "output_type": "execute_result"
    },
    {
     "data": {
      "text/plain": [
       "current loss = 3.4005182030762\t\n",
       "current loss = 3.3985125017897\t\n",
       "current loss = 3.3965101264635\t\n",
       "current loss = 3.3945110699189\t\n"
      ]
     },
     "execution_count": 8,
     "metadata": {},
     "output_type": "execute_result"
    },
    {
     "data": {
      "text/plain": [
       "current loss = 3.3925153249958\t\n",
       "current loss = 3.3905228845526\t\n",
       "current loss = 3.3885337414659\t\n",
       "current loss = 3.3865478886308\t\n"
      ]
     },
     "execution_count": 8,
     "metadata": {},
     "output_type": "execute_result"
    },
    {
     "data": {
      "text/plain": [
       "current loss = 3.3845653189609\t\n",
       "current loss = 3.3825860253877\t\n",
       "current loss = 3.3806100008612\t\n"
      ]
     },
     "execution_count": 8,
     "metadata": {},
     "output_type": "execute_result"
    },
    {
     "data": {
      "text/plain": [
       "current loss = 3.3786372383493\t\n",
       "current loss = 3.3766677308384\t\n",
       "current loss = 3.3747014713325\t\n",
       "current loss = 3.3727384528539\t\n"
      ]
     },
     "execution_count": 8,
     "metadata": {},
     "output_type": "execute_result"
    },
    {
     "data": {
      "text/plain": [
       "current loss = 3.3707786684427\t\n",
       "current loss = 3.3688221111569\t\n",
       "current loss = 3.3668687740724\t\n"
      ]
     },
     "execution_count": 8,
     "metadata": {},
     "output_type": "execute_result"
    },
    {
     "data": {
      "text/plain": [
       "current loss = 3.3649186502828\t\n",
       "current loss = 3.3629717328996\t\n",
       "current loss = 3.3610280150518\t\n"
      ]
     },
     "execution_count": 8,
     "metadata": {},
     "output_type": "execute_result"
    },
    {
     "data": {
      "text/plain": [
       "current loss = 3.359087489886\t\n",
       "current loss = 3.3571501505665\t\n",
       "current loss = 3.3552159902751\t\n",
       "current loss = 3.3532850022111\t\n"
      ]
     },
     "execution_count": 8,
     "metadata": {},
     "output_type": "execute_result"
    },
    {
     "data": {
      "text/plain": [
       "current loss = 3.3513571795912\t\n",
       "current loss = 3.3494325156494\t\n",
       "current loss = 3.3475110036371\t\n",
       "current loss = 3.3455926368229\t\n",
       "current loss = 3.3436774084927\t\n"
      ]
     },
     "execution_count": 8,
     "metadata": {},
     "output_type": "execute_result"
    },
    {
     "data": {
      "text/plain": [
       "current loss = 3.3417653119495\t\n",
       "current loss = 3.3398563405135\t\n",
       "current loss = 3.3379504875218\t\n",
       "current loss = 3.3360477463288\t\n"
      ]
     },
     "execution_count": 8,
     "metadata": {},
     "output_type": "execute_result"
    },
    {
     "data": {
      "text/plain": [
       "current loss = 3.3341481103056\t\n",
       "current loss = 3.3322515728403\t\n",
       "current loss = 3.3303581273379\t\n"
      ]
     },
     "execution_count": 8,
     "metadata": {},
     "output_type": "execute_result"
    },
    {
     "data": {
      "text/plain": [
       "current loss = 3.3284677672203\t\n",
       "current loss = 3.326580485926\t\n",
       "current loss = 3.3246962769103\t\n",
       "current loss = 3.3228151336452\t\n"
      ]
     },
     "execution_count": 8,
     "metadata": {},
     "output_type": "execute_result"
    },
    {
     "data": {
      "text/plain": [
       "current loss = 3.3209370496192\t\n",
       "current loss = 3.3190620183377\t\n",
       "current loss = 3.3171900333221\t\n",
       "current loss = 3.3153210881109\t\n"
      ]
     },
     "execution_count": 8,
     "metadata": {},
     "output_type": "execute_result"
    },
    {
     "data": {
      "text/plain": [
       "current loss = 3.3134551762584\t\n",
       "current loss = 3.3115922913359\t\n",
       "current loss = 3.3097324269304\t\n",
       "current loss = 3.3078755766458\t\n"
      ]
     },
     "execution_count": 8,
     "metadata": {},
     "output_type": "execute_result"
    },
    {
     "data": {
      "text/plain": [
       "current loss = 3.3060217341019\t\n",
       "current loss = 3.3041708929346\t\n",
       "current loss = 3.3023230467963\t\n",
       "current loss = 3.3004781893551\t\n"
      ]
     },
     "execution_count": 8,
     "metadata": {},
     "output_type": "execute_result"
    },
    {
     "data": {
      "text/plain": [
       "current loss = 3.2986363142955\t\n",
       "current loss = 3.2967974153178\t\n",
       "current loss = 3.2949614861384\t\n",
       "current loss = 3.2931285204893\t\n",
       "current loss = 3.2912985121189\t\n"
      ]
     },
     "execution_count": 8,
     "metadata": {},
     "output_type": "execute_result"
    },
    {
     "data": {
      "text/plain": [
       "current loss = 3.2894714547909\t\n",
       "current loss = 3.2876473422851\t\n",
       "current loss = 3.2858261683968\t\n"
      ]
     },
     "execution_count": 8,
     "metadata": {},
     "output_type": "execute_result"
    },
    {
     "data": {
      "text/plain": [
       "current loss = 3.2840079269372\t\n"
      ]
     },
     "execution_count": 8,
     "metadata": {},
     "output_type": "execute_result"
    },
    {
     "data": {
      "text/plain": [
       "current loss = 3.2821926117331\t\n",
       "current loss = 3.2803802166267\t\n",
       "current loss = 3.278570735476\t\n",
       "current loss = 3.2767641621543\t\n"
      ]
     },
     "execution_count": 8,
     "metadata": {},
     "output_type": "execute_result"
    },
    {
     "data": {
      "text/plain": [
       "current loss = 3.2749604905505\t\n",
       "current loss = 3.2731597145688\t\n",
       "current loss = 3.2713618281289\t\n",
       "current loss = 3.2695668251656\t\n"
      ]
     },
     "execution_count": 8,
     "metadata": {},
     "output_type": "execute_result"
    },
    {
     "data": {
      "text/plain": [
       "current loss = 3.2677746996293\t\n",
       "current loss = 3.2659854454854\t\n",
       "current loss = 3.2641990567146\t\n",
       "current loss = 3.2624155273126\t\n"
      ]
     },
     "execution_count": 8,
     "metadata": {},
     "output_type": "execute_result"
    },
    {
     "data": {
      "text/plain": [
       "current loss = 3.2606348512904\t\n",
       "current loss = 3.2588570226739\t\n",
       "current loss = 3.2570820355041\t\n"
      ]
     },
     "execution_count": 8,
     "metadata": {},
     "output_type": "execute_result"
    },
    {
     "data": {
      "text/plain": [
       "current loss = 3.255309883837\t\n",
       "current loss = 3.2535405617435\t\n",
       "current loss = 3.2517740633093\t\n",
       "current loss = 3.250010382635\t\n",
       "current loss = 3.2482495138362\t\n"
      ]
     },
     "execution_count": 8,
     "metadata": {},
     "output_type": "execute_result"
    },
    {
     "data": {
      "text/plain": [
       "current loss = 3.2464914510429\t\n",
       "current loss = 3.2447361884001\t\n",
       "current loss = 3.2429837200673\t\n"
      ]
     },
     "execution_count": 8,
     "metadata": {},
     "output_type": "execute_result"
    },
    {
     "data": {
      "text/plain": [
       "current loss = 3.2412340402187\t\n",
       "current loss = 3.2394871430432\t\n",
       "current loss = 3.237743022744\t\n",
       "current loss = 3.2360016735391\t\n"
      ]
     },
     "execution_count": 8,
     "metadata": {},
     "output_type": "execute_result"
    },
    {
     "data": {
      "text/plain": [
       "current loss = 3.2342630896607\t\n",
       "current loss = 3.2325272653556\t\n",
       "current loss = 3.2307941948848\t\n",
       "current loss = 3.2290638725239\t\n"
      ]
     },
     "execution_count": 8,
     "metadata": {},
     "output_type": "execute_result"
    },
    {
     "data": {
      "text/plain": [
       "current loss = 3.2273362925626\t\n",
       "current loss = 3.225611449305\t\n",
       "current loss = 3.2238893370691\t\n",
       "current loss = 3.2221699501876\t\n"
      ]
     },
     "execution_count": 8,
     "metadata": {},
     "output_type": "execute_result"
    },
    {
     "data": {
      "text/plain": [
       "current loss = 3.2204532830068\t\n"
      ]
     },
     "execution_count": 8,
     "metadata": {},
     "output_type": "execute_result"
    },
    {
     "data": {
      "text/plain": [
       "current loss = 3.2187393298875\t\n",
       "current loss = 3.2170280852043\t\n",
       "current loss = 3.2153195433459\t\n"
      ]
     },
     "execution_count": 8,
     "metadata": {},
     "output_type": "execute_result"
    },
    {
     "data": {
      "text/plain": [
       "current loss = 3.2136136987151\t\n",
       "current loss = 3.2119105457285\t\n",
       "current loss = 3.2102100788165\t\n"
      ]
     },
     "execution_count": 8,
     "metadata": {},
     "output_type": "execute_result"
    },
    {
     "data": {
      "text/plain": [
       "current loss = 3.2085122924235\t\n",
       "current loss = 3.2068171810078\t\n",
       "current loss = 3.2051247390412\t\n",
       "current loss = 3.2034349610095\t\n"
      ]
     },
     "execution_count": 8,
     "metadata": {},
     "output_type": "execute_result"
    },
    {
     "data": {
      "text/plain": [
       "current loss = 3.2017478414121\t\n",
       "current loss = 3.200063374762\t\n",
       "current loss = 3.1983815555858\t\n"
      ]
     },
     "execution_count": 8,
     "metadata": {},
     "output_type": "execute_result"
    },
    {
     "data": {
      "text/plain": [
       "current loss = 3.196702378424\t\n",
       "current loss = 3.1950258378302\t\n",
       "current loss = 3.1933519283717\t\n"
      ]
     },
     "execution_count": 8,
     "metadata": {},
     "output_type": "execute_result"
    },
    {
     "data": {
      "text/plain": [
       "current loss = 3.1916806446293\t\n",
       "current loss = 3.1900119811973\t\n",
       "current loss = 3.1883459326831\t\n"
      ]
     },
     "execution_count": 8,
     "metadata": {},
     "output_type": "execute_result"
    },
    {
     "data": {
      "text/plain": [
       "current loss = 3.1866824937077\t\n",
       "current loss = 3.1850216589053\t\n",
       "current loss = 3.1833634229235\t\n"
      ]
     },
     "execution_count": 8,
     "metadata": {},
     "output_type": "execute_result"
    },
    {
     "data": {
      "text/plain": [
       "current loss = 3.1817077804229\t\n",
       "current loss = 3.1800547260777\t\n",
       "current loss = 3.1784042545748\t\n"
      ]
     },
     "execution_count": 8,
     "metadata": {},
     "output_type": "execute_result"
    },
    {
     "data": {
      "text/plain": [
       "current loss = 3.1767563606144\t\n",
       "current loss = 3.17511103891\t\n"
      ]
     },
     "execution_count": 8,
     "metadata": {},
     "output_type": "execute_result"
    },
    {
     "data": {
      "text/plain": [
       "current loss = 3.1734682841879\t\n",
       "current loss = 3.1718280911874\t\n",
       "current loss = 3.170190454661\t\n"
      ]
     },
     "execution_count": 8,
     "metadata": {},
     "output_type": "execute_result"
    },
    {
     "data": {
      "text/plain": [
       "current loss = 3.1685553693739\t\n",
       "current loss = 3.1669228301043\t\n",
       "current loss = 3.1652928316433\t\n",
       "current loss = 3.1636653687947\t\n"
      ]
     },
     "execution_count": 8,
     "metadata": {},
     "output_type": "execute_result"
    },
    {
     "data": {
      "text/plain": [
       "current loss = 3.1620404363753\t\n",
       "current loss = 3.1604180292145\t\n",
       "current loss = 3.1587981421545\t\n"
      ]
     },
     "execution_count": 8,
     "metadata": {},
     "output_type": "execute_result"
    },
    {
     "data": {
      "text/plain": [
       "current loss = 3.1571807700501\t\n",
       "current loss = 3.1555659077687\t\n",
       "current loss = 3.1539535501906\t\n"
      ]
     },
     "execution_count": 8,
     "metadata": {},
     "output_type": "execute_result"
    },
    {
     "data": {
      "text/plain": [
       "current loss = 3.1523436922084\t\n",
       "current loss = 3.1507363287273\t\n",
       "current loss = 3.149131454665\t\n",
       "current loss = 3.1475290649518\t\n"
      ]
     },
     "execution_count": 8,
     "metadata": {},
     "output_type": "execute_result"
    },
    {
     "data": {
      "text/plain": [
       "current loss = 3.1459291545303\t\n",
       "current loss = 3.1443317183555\t\n",
       "current loss = 3.1427367513948\t\n"
      ]
     },
     "execution_count": 8,
     "metadata": {},
     "output_type": "execute_result"
    },
    {
     "data": {
      "text/plain": [
       "current loss = 3.141144248628\t\n",
       "current loss = 3.139554205047\t\n",
       "current loss = 3.1379666156563\t\n"
      ]
     },
     "execution_count": 8,
     "metadata": {},
     "output_type": "execute_result"
    },
    {
     "data": {
      "text/plain": [
       "current loss = 3.1363814754722\t\n",
       "current loss = 3.1347987795235\t\n",
       "current loss = 3.1332185228511\t\n",
       "current loss = 3.131640700508\t\n"
      ]
     },
     "execution_count": 8,
     "metadata": {},
     "output_type": "execute_result"
    },
    {
     "data": {
      "text/plain": [
       "current loss = 3.1300653075592\t\n",
       "current loss = 3.1284923390818\t\n",
       "current loss = 3.1269217901651\t\n"
      ]
     },
     "execution_count": 8,
     "metadata": {},
     "output_type": "execute_result"
    },
    {
     "data": {
      "text/plain": [
       "current loss = 3.1253536559102\t\n",
       "current loss = 3.1237879314301\t\n",
       "current loss = 3.1222246118499\t\n",
       "current loss = 3.1206636923064\t\n"
      ]
     },
     "execution_count": 8,
     "metadata": {},
     "output_type": "execute_result"
    },
    {
     "data": {
      "text/plain": [
       "current loss = 3.1191051679485\t\n",
       "current loss = 3.1175490339367\t\n",
       "current loss = 3.1159952854434\t\n"
      ]
     },
     "execution_count": 8,
     "metadata": {},
     "output_type": "execute_result"
    },
    {
     "data": {
      "text/plain": [
       "current loss = 3.1144439176527\t\n",
       "current loss = 3.1128949257604\t\n"
      ]
     },
     "execution_count": 8,
     "metadata": {},
     "output_type": "execute_result"
    },
    {
     "data": {
      "text/plain": [
       "current loss = 3.1113483049741\t\n",
       "current loss = 3.1098040505129\t\n"
      ]
     },
     "execution_count": 8,
     "metadata": {},
     "output_type": "execute_result"
    },
    {
     "data": {
      "text/plain": [
       "current loss = 3.1082621576077\t\n",
       "current loss = 3.1067226215008\t\n",
       "current loss = 3.1051854374462\t\n"
      ]
     },
     "execution_count": 8,
     "metadata": {},
     "output_type": "execute_result"
    },
    {
     "data": {
      "text/plain": [
       "current loss = 3.1036506007094\t\n",
       "current loss = 3.1021181065673\t\n",
       "current loss = 3.1005879503085\t\n"
      ]
     },
     "execution_count": 8,
     "metadata": {},
     "output_type": "execute_result"
    },
    {
     "data": {
      "text/plain": [
       "current loss = 3.0990601272326\t\n",
       "current loss = 3.0975346326511\t\n",
       "current loss = 3.0960114618864\t\n",
       "current loss = 3.0944906102727\t\n"
      ]
     },
     "execution_count": 8,
     "metadata": {},
     "output_type": "execute_result"
    },
    {
     "data": {
      "text/plain": [
       "current loss = 3.092972073155\t\n",
       "current loss = 3.0914558458901\t\n",
       "current loss = 3.0899419238456\t\n",
       "current loss = 3.0884303024004\t\n"
      ]
     },
     "execution_count": 8,
     "metadata": {},
     "output_type": "execute_result"
    },
    {
     "data": {
      "text/plain": [
       "current loss = 3.0869209769449\t\n",
       "current loss = 3.0854139428802\t\n",
       "current loss = 3.0839091956187\t\n"
      ]
     },
     "execution_count": 8,
     "metadata": {},
     "output_type": "execute_result"
    },
    {
     "data": {
      "text/plain": [
       "current loss = 3.082406730584\t\n",
       "current loss = 3.0809065432106\t\n",
       "current loss = 3.079408628944\t\n"
      ]
     },
     "execution_count": 8,
     "metadata": {},
     "output_type": "execute_result"
    },
    {
     "data": {
      "text/plain": [
       "current loss = 3.0779129832409\t\n",
       "current loss = 3.0764196015687\t\n",
       "current loss = 3.0749284794059\t\n",
       "current loss = 3.0734396122418\t\n"
      ]
     },
     "execution_count": 8,
     "metadata": {},
     "output_type": "execute_result"
    },
    {
     "data": {
      "text/plain": [
       "current loss = 3.0719529955767\t\n",
       "current loss = 3.0704686249216\t\n",
       "current loss = 3.0689864957983\t\n"
      ]
     },
     "execution_count": 8,
     "metadata": {},
     "output_type": "execute_result"
    },
    {
     "data": {
      "text/plain": [
       "current loss = 3.0675066037395\t\n",
       "current loss = 3.0660289442886\t\n",
       "current loss = 3.0645535129996\t\n"
      ]
     },
     "execution_count": 8,
     "metadata": {},
     "output_type": "execute_result"
    },
    {
     "data": {
      "text/plain": [
       "current loss = 3.0630803054375\t\n",
       "current loss = 3.0616093171776\t\n",
       "current loss = 3.060140543806\t\n",
       "current loss = 3.0586739809195\t\n"
      ]
     },
     "execution_count": 8,
     "metadata": {},
     "output_type": "execute_result"
    },
    {
     "data": {
      "text/plain": [
       "current loss = 3.0572096241252\t\n",
       "current loss = 3.055747469041\t\n"
      ]
     },
     "execution_count": 8,
     "metadata": {},
     "output_type": "execute_result"
    },
    {
     "data": {
      "text/plain": [
       "current loss = 3.0542875112951\t\n",
       "current loss = 3.0528297465265\t\n"
      ]
     },
     "execution_count": 8,
     "metadata": {},
     "output_type": "execute_result"
    },
    {
     "data": {
      "text/plain": [
       "current loss = 3.0513741703843\t\n"
      ]
     },
     "execution_count": 8,
     "metadata": {},
     "output_type": "execute_result"
    },
    {
     "data": {
      "text/plain": [
       "current loss = 3.0499207785282\t\n",
       "current loss = 3.0484695666282\t\n"
      ]
     },
     "execution_count": 8,
     "metadata": {},
     "output_type": "execute_result"
    },
    {
     "data": {
      "text/plain": [
       "current loss = 3.0470205303649\t\n",
       "current loss = 3.045573665429\t\n"
      ]
     },
     "execution_count": 8,
     "metadata": {},
     "output_type": "execute_result"
    },
    {
     "data": {
      "text/plain": [
       "current loss = 3.0441289675215\t\n",
       "current loss = 3.0426864323539\t\n",
       "current loss = 3.0412460556478\t\n"
      ]
     },
     "execution_count": 8,
     "metadata": {},
     "output_type": "execute_result"
    },
    {
     "data": {
      "text/plain": [
       "current loss = 3.039807833135\t\n",
       "current loss = 3.0383717605576\t\n",
       "current loss = 3.0369378336678\t\n",
       "current loss = 3.035506048228\t\n"
      ]
     },
     "execution_count": 8,
     "metadata": {},
     "output_type": "execute_result"
    },
    {
     "data": {
      "text/plain": [
       "current loss = 3.0340764000107\t\n",
       "current loss = 3.0326488847983\t\n",
       "current loss = 3.0312234983835\t\n"
      ]
     },
     "execution_count": 8,
     "metadata": {},
     "output_type": "execute_result"
    },
    {
     "data": {
      "text/plain": [
       "current loss = 3.029800236569\t\n",
       "current loss = 3.0283790951675\t\n",
       "current loss = 3.0269600700014\t\n",
       "current loss = 3.0255431569035\t\n"
      ]
     },
     "execution_count": 8,
     "metadata": {},
     "output_type": "execute_result"
    },
    {
     "data": {
      "text/plain": [
       "current loss = 3.0241283517162\t\n",
       "current loss = 3.0227156502918\t\n",
       "current loss = 3.0213050484927\t\n"
      ]
     },
     "execution_count": 8,
     "metadata": {},
     "output_type": "execute_result"
    },
    {
     "data": {
      "text/plain": [
       "current loss = 3.019896542191\t\n",
       "current loss = 3.0184901272684\t\n",
       "current loss = 3.0170857996168\t\n"
      ]
     },
     "execution_count": 8,
     "metadata": {},
     "output_type": "execute_result"
    },
    {
     "data": {
      "text/plain": [
       "current loss = 3.0156835551375\t\n",
       "current loss = 3.0142833897418\t\n",
       "current loss = 3.0128852993504\t\n"
      ]
     },
     "execution_count": 8,
     "metadata": {},
     "output_type": "execute_result"
    },
    {
     "data": {
      "text/plain": [
       "current loss = 3.0114892798941\t\n",
       "current loss = 3.0100953273129\t\n",
       "current loss = 3.0087034375567\t\n",
       "current loss = 3.007313606585\t\n"
      ]
     },
     "execution_count": 8,
     "metadata": {},
     "output_type": "execute_result"
    },
    {
     "data": {
      "text/plain": [
       "current loss = 3.0059258303667\t\n",
       "current loss = 3.0045401048804\t\n",
       "current loss = 3.0031564261142\t\n",
       "current loss = 3.0017747900656\t\n"
      ]
     },
     "execution_count": 8,
     "metadata": {},
     "output_type": "execute_result"
    },
    {
     "data": {
      "text/plain": [
       "current loss = 3.0003951927416\t\n",
       "current loss = 2.9990176301588\t\n",
       "current loss = 2.997642098343\t\n",
       "current loss = 2.9962685933295\t\n"
      ]
     },
     "execution_count": 8,
     "metadata": {},
     "output_type": "execute_result"
    },
    {
     "data": {
      "text/plain": [
       "current loss = 2.9948971111629\t\n",
       "current loss = 2.9935276478973\t\n",
       "current loss = 2.9921601995959\t\n",
       "current loss = 2.9907947623313\t\n",
       "current loss = 2.9894313321854\t\n"
      ]
     },
     "execution_count": 8,
     "metadata": {},
     "output_type": "execute_result"
    },
    {
     "data": {
      "text/plain": [
       "current loss = 2.9880699052492\t\n",
       "current loss = 2.986710477623\t\n",
       "current loss = 2.9853530454164\t\n"
      ]
     },
     "execution_count": 8,
     "metadata": {},
     "output_type": "execute_result"
    },
    {
     "data": {
      "text/plain": [
       "current loss = 2.983997604748\t\n",
       "current loss = 2.9826441517455\t\n",
       "current loss = 2.9812926825459\t\n",
       "current loss = 2.9799431932952\t\n"
      ]
     },
     "execution_count": 8,
     "metadata": {},
     "output_type": "execute_result"
    },
    {
     "data": {
      "text/plain": [
       "current loss = 2.9785956801483\t\n",
       "current loss = 2.9772501392695\t\n",
       "current loss = 2.9759065668318\t\n",
       "current loss = 2.9745649590172\t\n",
       "current loss = 2.9732253120169\t\n"
      ]
     },
     "execution_count": 8,
     "metadata": {},
     "output_type": "execute_result"
    },
    {
     "data": {
      "text/plain": [
       "current loss = 2.9718876220309\t\n",
       "current loss = 2.970551885268\t\n",
       "current loss = 2.9692180979461\t\n",
       "current loss = 2.9678862562919\t\n"
      ]
     },
     "execution_count": 8,
     "metadata": {},
     "output_type": "execute_result"
    },
    {
     "data": {
      "text/plain": [
       "current loss = 2.9665563565408\t\n",
       "current loss = 2.9652283949373\t\n",
       "current loss = 2.9639023677344\t\n",
       "current loss = 2.962578271194\t\n",
       "current loss = 2.9612561015869\t\n"
      ]
     },
     "execution_count": 8,
     "metadata": {},
     "output_type": "execute_result"
    },
    {
     "data": {
      "text/plain": [
       "current loss = 2.9599358551924\t\n",
       "current loss = 2.9586175282985\t\n",
       "current loss = 2.9573011172021\t\n",
       "current loss = 2.9559866182086\t\n"
      ]
     },
     "execution_count": 8,
     "metadata": {},
     "output_type": "execute_result"
    },
    {
     "data": {
      "text/plain": [
       "current loss = 2.954674027632\t\n",
       "current loss = 2.9533633417949\t\n",
       "current loss = 2.9520545570287\t\n",
       "current loss = 2.950747669673\t\n"
      ]
     },
     "execution_count": 8,
     "metadata": {},
     "output_type": "execute_result"
    },
    {
     "data": {
      "text/plain": [
       "current loss = 2.9494426760763\t\n",
       "current loss = 2.9481395725954\t\n",
       "current loss = 2.9468383555957\t\n",
       "current loss = 2.9455390214509\t\n"
      ]
     },
     "execution_count": 8,
     "metadata": {},
     "output_type": "execute_result"
    },
    {
     "data": {
      "text/plain": [
       "current loss = 2.9442415665433\t\n",
       "current loss = 2.9429459872637\t\n",
       "current loss = 2.941652280011\t\n",
       "current loss = 2.9403604411929\t\n",
       "current loss = 2.939070467225\t\n"
      ]
     },
     "execution_count": 8,
     "metadata": {},
     "output_type": "execute_result"
    },
    {
     "data": {
      "text/plain": [
       "current loss = 2.9377823545315\t\n",
       "current loss = 2.9364960995449\t\n",
       "current loss = 2.935211698706\t\n",
       "current loss = 2.9339291484638\t\n"
      ]
     },
     "execution_count": 8,
     "metadata": {},
     "output_type": "execute_result"
    },
    {
     "data": {
      "text/plain": [
       "current loss = 2.9326484452755\t\n",
       "current loss = 2.9313695856066\t\n",
       "current loss = 2.9300925659308\t\n",
       "current loss = 2.92881738273\t\n"
      ]
     },
     "execution_count": 8,
     "metadata": {},
     "output_type": "execute_result"
    },
    {
     "data": {
      "text/plain": [
       "current loss = 2.9275440324943\t\n",
       "current loss = 2.9262725117216\t\n",
       "current loss = 2.9250028169183\t\n",
       "current loss = 2.9237349445989\t\n"
      ]
     },
     "execution_count": 8,
     "metadata": {},
     "output_type": "execute_result"
    },
    {
     "data": {
      "text/plain": [
       "current loss = 2.9224688912855\t\n",
       "current loss = 2.9212046535089\t\n",
       "current loss = 2.9199422278074\t\n",
       "current loss = 2.9186816107275\t\n"
      ]
     },
     "execution_count": 8,
     "metadata": {},
     "output_type": "execute_result"
    },
    {
     "data": {
      "text/plain": [
       "current loss = 2.9174227988238\t\n",
       "current loss = 2.9161657886587\t\n",
       "current loss = 2.9149105768025\t\n",
       "current loss = 2.9136571598335\t\n"
      ]
     },
     "execution_count": 8,
     "metadata": {},
     "output_type": "execute_result"
    },
    {
     "data": {
      "text/plain": [
       "current loss = 2.9124055343381\t\n",
       "current loss = 2.9111556969101\t\n",
       "current loss = 2.9099076441516\t\n",
       "current loss = 2.9086613726724\t\n"
      ]
     },
     "execution_count": 8,
     "metadata": {},
     "output_type": "execute_result"
    },
    {
     "data": {
      "text/plain": [
       "current loss = 2.9074168790899\t\n",
       "current loss = 2.9061741600297\t\n",
       "current loss = 2.9049332121247\t\n",
       "current loss = 2.903694032016\t\n"
      ]
     },
     "execution_count": 8,
     "metadata": {},
     "output_type": "execute_result"
    },
    {
     "data": {
      "text/plain": [
       "current loss = 2.9024566163521\t\n",
       "current loss = 2.9012209617894\t\n",
       "current loss = 2.8999870649919\t\n",
       "current loss = 2.8987549226312\t\n"
      ]
     },
     "execution_count": 8,
     "metadata": {},
     "output_type": "execute_result"
    },
    {
     "data": {
      "text/plain": [
       "current loss = 2.8975245313868\t\n",
       "current loss = 2.8962958879456\t\n",
       "current loss = 2.8950689890021\t\n",
       "current loss = 2.8938438312586\t\n"
      ]
     },
     "execution_count": 8,
     "metadata": {},
     "output_type": "execute_result"
    },
    {
     "data": {
      "text/plain": [
       "current loss = 2.8926204114247\t\n",
       "current loss = 2.8913987262177\t\n",
       "current loss = 2.8901787723625\t\n",
       "current loss = 2.8889605465914\t\n"
      ]
     },
     "execution_count": 8,
     "metadata": {},
     "output_type": "execute_result"
    },
    {
     "data": {
      "text/plain": [
       "current loss = 2.887744045644\t\n",
       "current loss = 2.8865292662678\t\n",
       "current loss = 2.8853162052175\t\n",
       "current loss = 2.884104859255\t\n"
      ]
     },
     "execution_count": 8,
     "metadata": {},
     "output_type": "execute_result"
    },
    {
     "data": {
      "text/plain": [
       "current loss = 2.8828952251501\t\n",
       "current loss = 2.8816872996796\t\n",
       "current loss = 2.8804810796279\t\n",
       "current loss = 2.8792765617866\t\n"
      ]
     },
     "execution_count": 8,
     "metadata": {},
     "output_type": "execute_result"
    },
    {
     "data": {
      "text/plain": [
       "current loss = 2.8780737429546\t\n",
       "current loss = 2.8768726199384\t\n",
       "current loss = 2.8756731895514\t\n",
       "current loss = 2.8744754486145\t\n"
      ]
     },
     "execution_count": 8,
     "metadata": {},
     "output_type": "execute_result"
    },
    {
     "data": {
      "text/plain": [
       "current loss = 2.8732793939558\t\n",
       "current loss = 2.8720850224107\t\n",
       "current loss = 2.8708923308217\t\n",
       "current loss = 2.8697013160386\t\n"
      ]
     },
     "execution_count": 8,
     "metadata": {},
     "output_type": "execute_result"
    },
    {
     "data": {
      "text/plain": [
       "current loss = 2.8685119749183\t\n",
       "current loss = 2.8673243043249\t\n",
       "current loss = 2.8661383011296\t\n",
       "current loss = 2.8649539622107\t\n"
      ]
     },
     "execution_count": 8,
     "metadata": {},
     "output_type": "execute_result"
    },
    {
     "data": {
      "text/plain": [
       "current loss = 2.8637712844537\t\n",
       "current loss = 2.862590264751\t\n",
       "current loss = 2.8614109000024\t\n",
       "current loss = 2.8602331871144\t\n"
      ]
     },
     "execution_count": 8,
     "metadata": {},
     "output_type": "execute_result"
    },
    {
     "data": {
      "text/plain": [
       "current loss = 2.8590571230008\t\n",
       "current loss = 2.857882704582\t\n",
       "current loss = 2.8567099287858\t\n",
       "current loss = 2.8555387925469\t\n"
      ]
     },
     "execution_count": 8,
     "metadata": {},
     "output_type": "execute_result"
    },
    {
     "data": {
      "text/plain": [
       "current loss = 2.8543692928067\t\n",
       "current loss = 2.8532014265138\t\n",
       "current loss = 2.8520351906237\t\n",
       "current loss = 2.8508705820986\t\n"
      ]
     },
     "execution_count": 8,
     "metadata": {},
     "output_type": "execute_result"
    },
    {
     "data": {
      "text/plain": [
       "current loss = 2.8497075979078\t\n",
       "current loss = 2.8485462350273\t\n",
       "current loss = 2.84738649044\t\n",
       "current loss = 2.8462283611356\t\n",
       "current loss = 2.8450718441108\t\n"
      ]
     },
     "execution_count": 8,
     "metadata": {},
     "output_type": "execute_result"
    },
    {
     "data": {
      "text/plain": [
       "current loss = 2.8439169363687\t\n",
       "current loss = 2.8427636349196\t\n",
       "current loss = 2.8416119367802\t\n"
      ]
     },
     "execution_count": 8,
     "metadata": {},
     "output_type": "execute_result"
    },
    {
     "data": {
      "text/plain": [
       "current loss = 2.8404618389743\t\n",
       "current loss = 2.8393133385319\t\n",
       "current loss = 2.8381664324903\t\n",
       "current loss = 2.8370211178931\t\n"
      ]
     },
     "execution_count": 8,
     "metadata": {},
     "output_type": "execute_result"
    },
    {
     "data": {
      "text/plain": [
       "current loss = 2.8358773917905\t\n",
       "current loss = 2.8347352512398\t\n",
       "current loss = 2.8335946933044\t\n",
       "current loss = 2.8324557150546\t\n"
      ]
     },
     "execution_count": 8,
     "metadata": {},
     "output_type": "execute_result"
    },
    {
     "data": {
      "text/plain": [
       "current loss = 2.8313183135674\t\n",
       "current loss = 2.830182485926\t\n",
       "current loss = 2.8290482292206\t\n",
       "current loss = 2.8279155405476\t\n"
      ]
     },
     "execution_count": 8,
     "metadata": {},
     "output_type": "execute_result"
    },
    {
     "data": {
      "text/plain": [
       "current loss = 2.8267844170101\t\n",
       "current loss = 2.8256548557177\t\n",
       "current loss = 2.8245268537864\t\n",
       "current loss = 2.8234004083388\t\n",
       "current loss = 2.8222755165039\t\n"
      ]
     },
     "execution_count": 8,
     "metadata": {},
     "output_type": "execute_result"
    },
    {
     "data": {
      "text/plain": [
       "current loss = 2.8211521754172\t\n",
       "current loss = 2.8200303822204\t\n",
       "current loss = 2.818910134062\t\n",
       "current loss = 2.8177914280966\t\n"
      ]
     },
     "execution_count": 8,
     "metadata": {},
     "output_type": "execute_result"
    },
    {
     "data": {
      "text/plain": [
       "current loss = 2.8166742614852\t\n",
       "current loss = 2.8155586313952\t\n",
       "current loss = 2.8144445350005\t\n",
       "current loss = 2.813331969481\t\n"
      ]
     },
     "execution_count": 8,
     "metadata": {},
     "output_type": "execute_result"
    },
    {
     "data": {
      "text/plain": [
       "current loss = 2.8122209320232\t\n"
      ]
     },
     "execution_count": 8,
     "metadata": {},
     "output_type": "execute_result"
    },
    {
     "data": {
      "text/plain": [
       "current loss = 2.8111114198198\t\n",
       "current loss = 2.8100034300697\t\n",
       "current loss = 2.8088969599782\t\n"
      ]
     },
     "execution_count": 8,
     "metadata": {},
     "output_type": "execute_result"
    },
    {
     "data": {
      "text/plain": [
       "current loss = 2.8077920067567\t\n",
       "current loss = 2.8066885676229\t\n",
       "current loss = 2.8055866398008\t\n",
       "current loss = 2.8044862205204\t\n"
      ]
     },
     "execution_count": 8,
     "metadata": {},
     "output_type": "execute_result"
    },
    {
     "data": {
      "text/plain": [
       "current loss = 2.803387307018\t\n",
       "current loss = 2.8022898965362\t\n",
       "current loss = 2.8011939863234\t\n",
       "current loss = 2.8000995736345\t\n"
      ]
     },
     "execution_count": 8,
     "metadata": {},
     "output_type": "execute_result"
    },
    {
     "data": {
      "text/plain": [
       "current loss = 2.7990066557302\t\n",
       "current loss = 2.7979152298775\t\n",
       "current loss = 2.7968252933495\t\n"
      ]
     },
     "execution_count": 8,
     "metadata": {},
     "output_type": "execute_result"
    },
    {
     "data": {
      "text/plain": [
       "current loss = 2.7957368434253\t\n",
       "current loss = 2.79464987739\t\n",
       "current loss = 2.7935643925348\t\n",
       "current loss = 2.792480386157\t\n"
      ]
     },
     "execution_count": 8,
     "metadata": {},
     "output_type": "execute_result"
    },
    {
     "data": {
      "text/plain": [
       "current loss = 2.7913978555597\t\n",
       "current loss = 2.7903167980522\t\n",
       "current loss = 2.7892372109497\t\n"
      ]
     },
     "execution_count": 8,
     "metadata": {},
     "output_type": "execute_result"
    },
    {
     "data": {
      "text/plain": [
       "current loss = 2.7881590915733\t\n",
       "current loss = 2.7870824372502\t\n",
       "current loss = 2.7860072453133\t\n"
      ]
     },
     "execution_count": 8,
     "metadata": {},
     "output_type": "execute_result"
    },
    {
     "data": {
      "text/plain": [
       "current loss = 2.7849335131016\t\n",
       "current loss = 2.7838612379599\t\n",
       "current loss = 2.782790417239\t\n"
      ]
     },
     "execution_count": 8,
     "metadata": {},
     "output_type": "execute_result"
    },
    {
     "data": {
      "text/plain": [
       "current loss = 2.7817210482955\t\n",
       "current loss = 2.7806531284917\t\n",
       "current loss = 2.779586655196\t\n",
       "current loss = 2.7785216257826\t\n"
      ]
     },
     "execution_count": 8,
     "metadata": {},
     "output_type": "execute_result"
    },
    {
     "data": {
      "text/plain": [
       "current loss = 2.7774580376312\t\n",
       "current loss = 2.7763958881277\t\n",
       "current loss = 2.7753351746635\t\n",
       "current loss = 2.7742758946358\t\n"
      ]
     },
     "execution_count": 8,
     "metadata": {},
     "output_type": "execute_result"
    },
    {
     "data": {
      "text/plain": [
       "current loss = 2.7732180454478\t\n",
       "current loss = 2.772161624508\t\n",
       "current loss = 2.771106629231\t\n"
      ]
     },
     "execution_count": 8,
     "metadata": {},
     "output_type": "execute_result"
    },
    {
     "data": {
      "text/plain": [
       "current loss = 2.7700530570369\t\n",
       "current loss = 2.7690009053516\t\n",
       "current loss = 2.7679501716067\t\n"
      ]
     },
     "execution_count": 8,
     "metadata": {},
     "output_type": "execute_result"
    },
    {
     "data": {
      "text/plain": [
       "current loss = 2.7669008532392\t\n",
       "current loss = 2.765852947692\t\n",
       "current loss = 2.7648064524136\t\n"
      ]
     },
     "execution_count": 8,
     "metadata": {},
     "output_type": "execute_result"
    },
    {
     "data": {
      "text/plain": [
       "current loss = 2.7637613648582\t\n",
       "current loss = 2.7627176824852\t\n",
       "current loss = 2.7616754027602\t\n"
      ]
     },
     "execution_count": 8,
     "metadata": {},
     "output_type": "execute_result"
    },
    {
     "data": {
      "text/plain": [
       "current loss = 2.7606345231538\t\n",
       "current loss = 2.7595950411426\t\n",
       "current loss = 2.7585569542084\t\n",
       "current loss = 2.7575202598388\t\n"
      ]
     },
     "execution_count": 8,
     "metadata": {},
     "output_type": "execute_result"
    },
    {
     "data": {
      "text/plain": [
       "current loss = 2.7564849555267\t\n",
       "current loss = 2.7554510387708\t\n",
       "current loss = 2.7544185070749\t\n"
      ]
     },
     "execution_count": 8,
     "metadata": {},
     "output_type": "execute_result"
    },
    {
     "data": {
      "text/plain": [
       "current loss = 2.7533873579486\t\n",
       "current loss = 2.7523575889068\t\n",
       "current loss = 2.7513291974698\t\n",
       "current loss = 2.7503021811636\t\n"
      ]
     },
     "execution_count": 8,
     "metadata": {},
     "output_type": "execute_result"
    },
    {
     "data": {
      "text/plain": [
       "current loss = 2.7492765375194\t\n",
       "current loss = 2.7482522640737\t\n",
       "current loss = 2.7472293583687\t\n"
      ]
     },
     "execution_count": 8,
     "metadata": {},
     "output_type": "execute_result"
    },
    {
     "data": {
      "text/plain": [
       "current loss = 2.7462078179517\t\n",
       "current loss = 2.7451876403756\t\n",
       "current loss = 2.7441688231984\t\n",
       "current loss = 2.7431513639838\t\n"
      ]
     },
     "execution_count": 8,
     "metadata": {},
     "output_type": "execute_result"
    },
    {
     "data": {
      "text/plain": [
       "current loss = 2.7421352603003\t\n",
       "current loss = 2.7411205097222\t\n",
       "current loss = 2.7401071098289\t\n"
      ]
     },
     "execution_count": 8,
     "metadata": {},
     "output_type": "execute_result"
    },
    {
     "data": {
      "text/plain": [
       "current loss = 2.739095058205\t\n",
       "current loss = 2.7380843524406\t\n",
       "current loss = 2.7370749901307\t\n",
       "current loss = 2.736066968876\t\n"
      ]
     },
     "execution_count": 8,
     "metadata": {},
     "output_type": "execute_result"
    },
    {
     "data": {
      "text/plain": [
       "current loss = 2.735060286282\t\n",
       "current loss = 2.7340549399597\t\n",
       "current loss = 2.7330509275252\t\n"
      ]
     },
     "execution_count": 8,
     "metadata": {},
     "output_type": "execute_result"
    },
    {
     "data": {
      "text/plain": [
       "current loss = 2.7320482465999\t\n",
       "current loss = 2.73104689481\t\n",
       "current loss = 2.7300468697874\t\n",
       "current loss = 2.7290481691688\t\n"
      ]
     },
     "execution_count": 8,
     "metadata": {},
     "output_type": "execute_result"
    },
    {
     "data": {
      "text/plain": [
       "current loss = 2.7280507905961\t\n",
       "current loss = 2.7270547317165\t\n",
       "current loss = 2.726059990182\t\n"
      ]
     },
     "execution_count": 8,
     "metadata": {},
     "output_type": "execute_result"
    },
    {
     "data": {
      "text/plain": [
       "current loss = 2.72506656365\t\n",
       "current loss = 2.7240744497827\t\n",
       "current loss = 2.7230836462477\t\n",
       "current loss = 2.7220941507174\t\n"
      ]
     },
     "execution_count": 8,
     "metadata": {},
     "output_type": "execute_result"
    },
    {
     "data": {
      "text/plain": [
       "current loss = 2.7211059608693\t\n",
       "current loss = 2.720119074386\t\n",
       "current loss = 2.7191334889552\t\n"
      ]
     },
     "execution_count": 8,
     "metadata": {},
     "output_type": "execute_result"
    },
    {
     "data": {
      "text/plain": [
       "current loss = 2.7181492022694\t\n",
       "current loss = 2.7171662120262\t\n",
       "current loss = 2.7161845159283\t\n"
      ]
     },
     "execution_count": 8,
     "metadata": {},
     "output_type": "execute_result"
    },
    {
     "data": {
      "text/plain": [
       "current loss = 2.7152041116831\t\n",
       "current loss = 2.7142249970032\t\n",
       "current loss = 2.713247169606\t\n"
      ]
     },
     "execution_count": 8,
     "metadata": {},
     "output_type": "execute_result"
    },
    {
     "data": {
      "text/plain": [
       "current loss = 2.712270627214\t\n",
       "current loss = 2.7112953675545\t\n",
       "current loss = 2.7103213883597\t\n",
       "current loss = 2.7093486873667\t\n"
      ]
     },
     "execution_count": 8,
     "metadata": {},
     "output_type": "execute_result"
    },
    {
     "data": {
      "text/plain": [
       "current loss = 2.7083772623176\t\n",
       "current loss = 2.7074071109592\t\n",
       "current loss = 2.7064382310432\t\n"
      ]
     },
     "execution_count": 8,
     "metadata": {},
     "output_type": "execute_result"
    },
    {
     "data": {
      "text/plain": [
       "current loss = 2.7054706203264\t\n",
       "current loss = 2.70450427657\t\n",
       "current loss = 2.7035391975405\t\n"
      ]
     },
     "execution_count": 8,
     "metadata": {},
     "output_type": "execute_result"
    },
    {
     "data": {
      "text/plain": [
       "current loss = 2.7025753810087\t\n",
       "current loss = 2.7016128247507\t\n"
      ]
     },
     "execution_count": 8,
     "metadata": {},
     "output_type": "execute_result"
    },
    {
     "data": {
      "text/plain": [
       "current loss = 2.700651526547\t\n"
      ]
     },
     "execution_count": 8,
     "metadata": {},
     "output_type": "execute_result"
    },
    {
     "data": {
      "text/plain": [
       "current loss = 2.699691484183\t\n"
      ]
     },
     "execution_count": 8,
     "metadata": {},
     "output_type": "execute_result"
    },
    {
     "data": {
      "text/plain": [
       "current loss = 2.6987326954491\t\n"
      ]
     },
     "execution_count": 8,
     "metadata": {},
     "output_type": "execute_result"
    },
    {
     "data": {
      "text/plain": [
       "current loss = 2.69777515814\t\n",
       "current loss = 2.6968188700556\t\n",
       "current loss = 2.6958638290002\t\n"
      ]
     },
     "execution_count": 8,
     "metadata": {},
     "output_type": "execute_result"
    },
    {
     "data": {
      "text/plain": [
       "current loss = 2.6949100327829\t\n",
       "current loss = 2.6939574792177\t\n",
       "current loss = 2.6930061661229\t\n"
      ]
     },
     "execution_count": 8,
     "metadata": {},
     "output_type": "execute_result"
    },
    {
     "data": {
      "text/plain": [
       "current loss = 2.6920560913218\t\n",
       "current loss = 2.6911072526424\t\n",
       "current loss = 2.690159647917\t\n",
       "current loss = 2.689213274983\t\n"
      ]
     },
     "execution_count": 8,
     "metadata": {},
     "output_type": "execute_result"
    },
    {
     "data": {
      "text/plain": [
       "current loss = 2.6882681316821\t\n",
       "current loss = 2.6873242158608\t\n",
       "current loss = 2.68638152537\t\n"
      ]
     },
     "execution_count": 8,
     "metadata": {},
     "output_type": "execute_result"
    },
    {
     "data": {
      "text/plain": [
       "current loss = 2.6854400580655\t\n",
       "current loss = 2.6844998118075\t\n",
       "current loss = 2.6835607844608\t\n"
      ]
     },
     "execution_count": 8,
     "metadata": {},
     "output_type": "execute_result"
    },
    {
     "data": {
      "text/plain": [
       "current loss = 2.6826229738948\t\n",
       "current loss = 2.6816863779834\t\n",
       "current loss = 2.6807509946051\t\n"
      ]
     },
     "execution_count": 8,
     "metadata": {},
     "output_type": "execute_result"
    },
    {
     "data": {
      "text/plain": [
       "current loss = 2.6798168216429\t\n",
       "current loss = 2.6788838569843\t\n",
       "current loss = 2.6779520985214\t\n",
       "current loss = 2.6770215441506\t\n"
      ]
     },
     "execution_count": 8,
     "metadata": {},
     "output_type": "execute_result"
    },
    {
     "data": {
      "text/plain": [
       "current loss = 2.676092191773\t\n",
       "current loss = 2.6751640392942\t\n",
       "current loss = 2.674237084624\t\n",
       "current loss = 2.6733113256768\t"
      ]
     },
     "execution_count": 8,
     "metadata": {},
     "output_type": "execute_result"
    },
    {
     "data": {
      "text/plain": [
       "\n",
       "current loss = 2.6723867603716\t\n",
       "current loss = 2.6714633866316\t\n",
       "current loss = 2.6705412023845\t\n",
       "current loss = 2.6696202055624\t\n"
      ]
     },
     "execution_count": 8,
     "metadata": {},
     "output_type": "execute_result"
    },
    {
     "data": {
      "text/plain": [
       "current loss = 2.6687003941018\t\n",
       "current loss = 2.6677817659437\t\n",
       "current loss = 2.6668643190332\t\n",
       "current loss = 2.6659480513201\t\n"
      ]
     },
     "execution_count": 8,
     "metadata": {},
     "output_type": "execute_result"
    },
    {
     "data": {
      "text/plain": [
       "current loss = 2.6650329607583\t\n",
       "current loss = 2.6641190453062\t\n",
       "current loss = 2.6632063029264\t\n",
       "current loss = 2.662294731586\t\n",
       "current loss = 2.6613843292562\t\n"
      ]
     },
     "execution_count": 8,
     "metadata": {},
     "output_type": "execute_result"
    },
    {
     "data": {
      "text/plain": [
       "current loss = 2.6604750939126\t\n",
       "current loss = 2.6595670235351\t\n",
       "current loss = 2.658660116108\t\n",
       "current loss = 2.6577543696196\t\n"
      ]
     },
     "execution_count": 8,
     "metadata": {},
     "output_type": "execute_result"
    },
    {
     "data": {
      "text/plain": [
       "current loss = 2.6568497820626\t\n",
       "current loss = 2.6559463514341\t\n",
       "current loss = 2.6550440757351\t\n",
       "current loss = 2.6541429529712\t\n",
       "current loss = 2.6532429811518\t\n"
      ]
     },
     "execution_count": 8,
     "metadata": {},
     "output_type": "execute_result"
    },
    {
     "data": {
      "text/plain": [
       "current loss = 2.652344158291\t\n",
       "current loss = 2.6514464824066\t\n",
       "current loss = 2.650549951521\t\n",
       "current loss = 2.6496545636605\t\n"
      ]
     },
     "execution_count": 8,
     "metadata": {},
     "output_type": "execute_result"
    },
    {
     "data": {
      "text/plain": [
       "current loss = 2.6487603168557\t\n",
       "current loss = 2.6478672091413\t\n",
       "current loss = 2.6469752385561\t\n"
      ]
     },
     "execution_count": 8,
     "metadata": {},
     "output_type": "execute_result"
    },
    {
     "data": {
      "text/plain": [
       "current loss = 2.6460844031431\t\n",
       "current loss = 2.6451947009496\t\n",
       "current loss = 2.6443061300266\t\n",
       "current loss = 2.6434186884295\t\n",
       "current loss = 2.6425323742178\t\n"
      ]
     },
     "execution_count": 8,
     "metadata": {},
     "output_type": "execute_result"
    },
    {
     "data": {
      "text/plain": [
       "current loss = 2.641647185455\t\n",
       "current loss = 2.6407631202086\t\n",
       "current loss = 2.6398801765503\t\n",
       "current loss = 2.6389983525558\t\n"
      ]
     },
     "execution_count": 8,
     "metadata": {},
     "output_type": "execute_result"
    },
    {
     "data": {
      "text/plain": [
       "current loss = 2.6381176463048\t\n",
       "current loss = 2.6372380558812\t\n",
       "current loss = 2.6363595793727\t\n",
       "current loss = 2.6354822148712\t\n"
      ]
     },
     "execution_count": 8,
     "metadata": {},
     "output_type": "execute_result"
    },
    {
     "data": {
      "text/plain": [
       "current loss = 2.6346059604724\t\n",
       "current loss = 2.6337308142762\t\n",
       "current loss = 2.6328567743865\t\n",
       "current loss = 2.6319838389109\t\n"
      ]
     },
     "execution_count": 8,
     "metadata": {},
     "output_type": "execute_result"
    },
    {
     "data": {
      "text/plain": [
       "current loss = 2.6311120059612\t\n",
       "current loss = 2.6302412736531\t\n",
       "current loss = 2.6293716401062\t\n",
       "current loss = 2.6285031034442\t\n",
       "current loss = 2.6276356617945\t\n"
      ]
     },
     "execution_count": 8,
     "metadata": {},
     "output_type": "execute_result"
    },
    {
     "data": {
      "text/plain": [
       "current loss = 2.6267693132886\t\n",
       "current loss = 2.6259040560618\t\n",
       "current loss = 2.6250398882533\t\n",
       "current loss = 2.6241768080062\t\n"
      ]
     },
     "execution_count": 8,
     "metadata": {},
     "output_type": "execute_result"
    },
    {
     "data": {
      "text/plain": [
       "current loss = 2.6233148134676\t\n",
       "current loss = 2.6224539027882\t\n",
       "current loss = 2.6215940741229\t\n",
       "current loss = 2.6207353256301\t\n"
      ]
     },
     "execution_count": 8,
     "metadata": {},
     "output_type": "execute_result"
    },
    {
     "data": {
      "text/plain": [
       "current loss = 2.6198776554723\t\n",
       "current loss = 2.6190210618159\t\n",
       "current loss = 2.6181655428307\t\n",
       "current loss = 2.6173110966907\t\n"
      ]
     },
     "execution_count": 8,
     "metadata": {},
     "output_type": "execute_result"
    },
    {
     "data": {
      "text/plain": [
       "current loss = 2.6164577215736\t\n",
       "current loss = 2.615605415661\t\n",
       "current loss = 2.6147541771379\t\n",
       "current loss = 2.6139040041936\t\n"
      ]
     },
     "execution_count": 8,
     "metadata": {},
     "output_type": "execute_result"
    },
    {
     "data": {
      "text/plain": [
       "current loss = 2.6130548950207\t\n",
       "current loss = 2.6122068478159\t\n",
       "current loss = 2.6113598607795\t\n",
       "current loss = 2.6105139321155\t\n"
      ]
     },
     "execution_count": 8,
     "metadata": {},
     "output_type": "execute_result"
    },
    {
     "data": {
      "text/plain": [
       "current loss = 2.6096690600318\t\n",
       "current loss = 2.6088252427397\t\n",
       "current loss = 2.6079824784547\t\n",
       "current loss = 2.6071407653955\t\n"
      ]
     },
     "execution_count": 8,
     "metadata": {},
     "output_type": "execute_result"
    },
    {
     "data": {
      "text/plain": [
       "current loss = 2.6063001017848\t\n",
       "current loss = 2.6054604858489\t\n",
       "current loss = 2.6046219158178\t\n",
       "current loss = 2.6037843899252\t\n"
      ]
     },
     "execution_count": 8,
     "metadata": {},
     "output_type": "execute_result"
    },
    {
     "data": {
      "text/plain": [
       "current loss = 2.6029479064083\t\n",
       "current loss = 2.602112463508\t\n",
       "current loss = 2.6012780594691\t\n",
       "current loss = 2.6004446925397\t\n",
       "current loss = 2.5996123609717\t\n"
      ]
     },
     "execution_count": 8,
     "metadata": {},
     "output_type": "execute_result"
    },
    {
     "data": {
      "text/plain": [
       "current loss = 2.5987810630206\t\n",
       "current loss = 2.5979507969453\t\n",
       "current loss = 2.5971215610087\t\n",
       "current loss = 2.5962933534769\t\n"
      ]
     },
     "execution_count": 8,
     "metadata": {},
     "output_type": "execute_result"
    },
    {
     "data": {
      "text/plain": [
       "current loss = 2.5954661726199\t\n",
       "current loss = 2.5946400167109\t\n",
       "current loss = 2.5938148840271\t\n"
      ]
     },
     "execution_count": 8,
     "metadata": {},
     "output_type": "execute_result"
    },
    {
     "data": {
      "text/plain": [
       "current loss = 2.5929907728488\t\n",
       "current loss = 2.5921676814603\t\n",
       "current loss = 2.5913456081491\t\n",
       "current loss = 2.5905245512063\t\n",
       "current loss = 2.5897045089266\t\n"
      ]
     },
     "execution_count": 8,
     "metadata": {},
     "output_type": "execute_result"
    },
    {
     "data": {
      "text/plain": [
       "current loss = 2.5888854796083\t\n",
       "current loss = 2.5880674615528\t\n",
       "current loss = 2.5872504530656\t\n",
       "current loss = 2.5864344524551\t\n"
      ]
     },
     "execution_count": 8,
     "metadata": {},
     "output_type": "execute_result"
    },
    {
     "data": {
      "text/plain": [
       "current loss = 2.5856194580335\t\n",
       "current loss = 2.5848054681164\t\n",
       "current loss = 2.583992481023\t\n",
       "current loss = 2.5831804950756\t\n"
      ]
     },
     "execution_count": 8,
     "metadata": {},
     "output_type": "execute_result"
    },
    {
     "data": {
      "text/plain": [
       "current loss = 2.5823695086003\t\n",
       "current loss = 2.5815595199265\t\n",
       "current loss = 2.580750527387\t\n",
       "current loss = 2.579942529318\t\n",
       "current loss = 2.5791355240592\t\n"
      ]
     },
     "execution_count": 8,
     "metadata": {},
     "output_type": "execute_result"
    },
    {
     "data": {
      "text/plain": [
       "current loss = 2.5783295099537\t\n",
       "current loss = 2.5775244853479\t\n",
       "current loss = 2.5767204485916\t\n"
      ]
     },
     "execution_count": 8,
     "metadata": {},
     "output_type": "execute_result"
    },
    {
     "data": {
      "text/plain": [
       "current loss = 2.5759173980382\t\n",
       "current loss = 2.5751153320441\t\n",
       "current loss = 2.5743142489694\t\n",
       "current loss = 2.5735141471773\t\n"
      ]
     },
     "execution_count": 8,
     "metadata": {},
     "output_type": "execute_result"
    },
    {
     "data": {
      "text/plain": [
       "current loss = 2.5727150250345\t\n",
       "current loss = 2.5719168809111\t\n",
       "current loss = 2.5711197131802\t\n",
       "current loss = 2.5703235202187\t\n"
      ]
     },
     "execution_count": 8,
     "metadata": {},
     "output_type": "execute_result"
    },
    {
     "data": {
      "text/plain": [
       "current loss = 2.5695283004064\t\n",
       "current loss = 2.5687340521266\t\n",
       "current loss = 2.567940773766\t\n",
       "current loss = 2.5671484637143\t\n"
      ]
     },
     "execution_count": 8,
     "metadata": {},
     "output_type": "execute_result"
    },
    {
     "data": {
      "text/plain": [
       "current loss = 2.5663571203647\t\n",
       "current loss = 2.5655667421136\t\n",
       "current loss = 2.5647773273607\t\n",
       "current loss = 2.5639888745091\t\n"
      ]
     },
     "execution_count": 8,
     "metadata": {},
     "output_type": "execute_result"
    },
    {
     "data": {
      "text/plain": [
       "current loss = 2.5632013819648\t\n",
       "current loss = 2.5624148481373\t\n",
       "current loss = 2.5616292714393\t\n",
       "current loss = 2.5608446502867\t\n"
      ]
     },
     "execution_count": 8,
     "metadata": {},
     "output_type": "execute_result"
    },
    {
     "data": {
      "text/plain": [
       "current loss = 2.5600609830987\t\n",
       "current loss = 2.5592782682976\t\n",
       "current loss = 2.5584965043089\t\n",
       "current loss = 2.5577156895615\t\n"
      ]
     },
     "execution_count": 8,
     "metadata": {},
     "output_type": "execute_result"
    },
    {
     "data": {
      "text/plain": [
       "current loss = 2.5569358224871\t\n",
       "current loss = 2.5561569015211\t\n",
       "current loss = 2.5553789251016\t\n",
       "current loss = 2.5546018916702\t\n"
      ]
     },
     "execution_count": 8,
     "metadata": {},
     "output_type": "execute_result"
    },
    {
     "data": {
      "text/plain": [
       "current loss = 2.5538257996715\t\n",
       "current loss = 2.5530506475532\t\n",
       "current loss = 2.5522764337663\t\n",
       "current loss = 2.5515031567648\t\n"
      ]
     },
     "execution_count": 8,
     "metadata": {},
     "output_type": "execute_result"
    },
    {
     "data": {
      "text/plain": [
       "current loss = 2.550730815006\t\n",
       "current loss = 2.5499594069502\t\n",
       "current loss = 2.5491889310608\t\n",
       "current loss = 2.5484193858043\t\n",
       "current loss = 2.5476507696504\t\n"
      ]
     },
     "execution_count": 8,
     "metadata": {},
     "output_type": "execute_result"
    },
    {
     "data": {
      "text/plain": [
       "current loss = 2.5468830810719\t\n",
       "current loss = 2.5461163185446\t\n",
       "current loss = 2.5453504805473\t\n",
       "current loss = 2.5445855655621\t\n"
      ]
     },
     "execution_count": 8,
     "metadata": {},
     "output_type": "execute_result"
    },
    {
     "data": {
      "text/plain": [
       "current loss = 2.543821572074\t\n",
       "current loss = 2.5430584985711\t\n",
       "current loss = 2.5422963435445\t\n"
      ]
     },
     "execution_count": 8,
     "metadata": {},
     "output_type": "execute_result"
    },
    {
     "data": {
      "text/plain": [
       "current loss = 2.5415351054885\t\n",
       "current loss = 2.5407747829003\t\n"
      ]
     },
     "execution_count": 8,
     "metadata": {},
     "output_type": "execute_result"
    },
    {
     "data": {
      "text/plain": [
       "current loss = 2.54001537428\t\n",
       "current loss = 2.5392568781311\t\n"
      ]
     },
     "execution_count": 8,
     "metadata": {},
     "output_type": "execute_result"
    },
    {
     "data": {
      "text/plain": [
       "current loss = 2.5384992929598\t\n",
       "current loss = 2.5377426172754\t\n",
       "current loss = 2.5369868495902\t\n",
       "current loss = 2.5362319884195\t\n"
      ]
     },
     "execution_count": 8,
     "metadata": {},
     "output_type": "execute_result"
    },
    {
     "data": {
      "text/plain": [
       "current loss = 2.5354780322816\t\n",
       "current loss = 2.5347249796977\t\n",
       "current loss = 2.5339728291922\t\n",
       "current loss = 2.533221579292\t\n"
      ]
     },
     "execution_count": 8,
     "metadata": {},
     "output_type": "execute_result"
    },
    {
     "data": {
      "text/plain": [
       "current loss = 2.5324712285275\t\n",
       "current loss = 2.5317217754318\t\n",
       "current loss = 2.5309732185407\t\n"
      ]
     },
     "execution_count": 8,
     "metadata": {},
     "output_type": "execute_result"
    },
    {
     "data": {
      "text/plain": [
       "current loss = 2.5302255563935\t\n",
       "current loss = 2.529478787532\t\n",
       "current loss = 2.5287329105009\t\n"
      ]
     },
     "execution_count": 8,
     "metadata": {},
     "output_type": "execute_result"
    },
    {
     "data": {
      "text/plain": [
       "current loss = 2.5279879238482\t\n",
       "current loss = 2.5272438261244\t\n",
       "current loss = 2.5265006158831\t\n",
       "current loss = 2.5257582916808\t\n"
      ]
     },
     "execution_count": 8,
     "metadata": {},
     "output_type": "execute_result"
    },
    {
     "data": {
      "text/plain": [
       "current loss = 2.5250168520769\t\n",
       "current loss = 2.5242762956335\t\n",
       "current loss = 2.5235366209158\t\n"
      ]
     },
     "execution_count": 8,
     "metadata": {},
     "output_type": "execute_result"
    },
    {
     "data": {
      "text/plain": [
       "current loss = 2.5227978264918\t\n",
       "current loss = 2.5220599109323\t\n",
       "current loss = 2.521322872811\t\n"
      ]
     },
     "execution_count": 8,
     "metadata": {},
     "output_type": "execute_result"
    },
    {
     "data": {
      "text/plain": [
       "current loss = 2.5205867107045\t\n",
       "current loss = 2.5198514231922\t\n",
       "current loss = 2.5191170088562\t\n",
       "current loss = 2.5183834662817\t\n"
      ]
     },
     "execution_count": 8,
     "metadata": {},
     "output_type": "execute_result"
    },
    {
     "data": {
      "text/plain": [
       "current loss = 2.5176507940565\t\n",
       "current loss = 2.5169189907714\t\n",
       "current loss = 2.5161880550197\t\n",
       "current loss = 2.5154579853979\t\n"
      ]
     },
     "execution_count": 8,
     "metadata": {},
     "output_type": "execute_result"
    },
    {
     "data": {
      "text/plain": [
       "current loss = 2.514728780505\t\n",
       "current loss = 2.514000438943\t\n",
       "current loss = 2.5132729593165\t\n"
      ]
     },
     "execution_count": 8,
     "metadata": {},
     "output_type": "execute_result"
    },
    {
     "data": {
      "text/plain": [
       "current loss = 2.5125463402329\t\n",
       "current loss = 2.5118205803025\t\n",
       "current loss = 2.5110956781382\t\n"
      ]
     },
     "execution_count": 8,
     "metadata": {},
     "output_type": "execute_result"
    },
    {
     "data": {
      "text/plain": [
       "current loss = 2.5103716323559\t\n",
       "current loss = 2.5096484415739\t\n",
       "current loss = 2.5089261044136\t\n",
       "current loss = 2.5082046194989\t\n"
      ]
     },
     "execution_count": 8,
     "metadata": {},
     "output_type": "execute_result"
    },
    {
     "data": {
      "text/plain": [
       "current loss = 2.5074839854565\t\n",
       "current loss = 2.5067642009159\t\n"
      ]
     },
     "execution_count": 8,
     "metadata": {},
     "output_type": "execute_result"
    },
    {
     "data": {
      "text/plain": [
       "current loss = 2.5060452645092\t\n",
       "current loss = 2.5053271748712\t\n"
      ]
     },
     "execution_count": 8,
     "metadata": {},
     "output_type": "execute_result"
    },
    {
     "data": {
      "text/plain": [
       "current loss = 2.5046099306396\t\n",
       "current loss = 2.5038935304546\t\n",
       "current loss = 2.5031779729592\t\n"
      ]
     },
     "execution_count": 8,
     "metadata": {},
     "output_type": "execute_result"
    },
    {
     "data": {
      "text/plain": [
       "current loss = 2.502463256799\t\n",
       "current loss = 2.5017493806223\t\n",
       "current loss = 2.5010363430803\t\n"
      ]
     },
     "execution_count": 8,
     "metadata": {},
     "output_type": "execute_result"
    },
    {
     "data": {
      "text/plain": [
       "current loss = 2.5003241428265\t\n",
       "current loss = 2.4996127785173\t\n",
       "current loss = 2.4989022488116\t\n"
      ]
     },
     "execution_count": 8,
     "metadata": {},
     "output_type": "execute_result"
    },
    {
     "data": {
      "text/plain": [
       "current loss = 2.4981925523712\t\n",
       "current loss = 2.4974836878603\t\n",
       "current loss = 2.4967756539459\t\n"
      ]
     },
     "execution_count": 8,
     "metadata": {},
     "output_type": "execute_result"
    },
    {
     "data": {
      "text/plain": [
       "current loss = 2.4960684492975\t\n",
       "current loss = 2.4953620725873\t\n",
       "current loss = 2.4946565224901\t\n",
       "current loss = 2.4939517976833\t\n"
      ]
     },
     "execution_count": 8,
     "metadata": {},
     "output_type": "execute_result"
    },
    {
     "data": {
      "text/plain": [
       "current loss = 2.493247896847\t\n",
       "current loss = 2.4925448186638\t\n",
       "current loss = 2.4918425618188\t\n"
      ]
     },
     "execution_count": 8,
     "metadata": {},
     "output_type": "execute_result"
    },
    {
     "data": {
      "text/plain": [
       "current loss = 2.491141125\t\n",
       "current loss = 2.4904405068978\t\n",
       "current loss = 2.489740706205\t\n"
      ]
     },
     "execution_count": 8,
     "metadata": {},
     "output_type": "execute_result"
    },
    {
     "data": {
      "text/plain": [
       "current loss = 2.4890417216172\t\n",
       "current loss = 2.4883435518327\t\n",
       "current loss = 2.487646195552\t\n"
      ]
     },
     "execution_count": 8,
     "metadata": {},
     "output_type": "execute_result"
    },
    {
     "data": {
      "text/plain": [
       "current loss = 2.4869496514783\t\n",
       "current loss = 2.4862539183175\t\n",
       "current loss = 2.4855589947778\t\n",
       "current loss = 2.4848648795702\t\n"
      ]
     },
     "execution_count": 8,
     "metadata": {},
     "output_type": "execute_result"
    },
    {
     "data": {
      "text/plain": [
       "current loss = 2.484171571408\t\n",
       "current loss = 2.483479069007\t\n",
       "current loss = 2.4827873710858\t\n"
      ]
     },
     "execution_count": 8,
     "metadata": {},
     "output_type": "execute_result"
    },
    {
     "data": {
      "text/plain": [
       "current loss = 2.4820964763653\t\n",
       "current loss = 2.4814063835689\t\n",
       "current loss = 2.4807170914226\t\n"
      ]
     },
     "execution_count": 8,
     "metadata": {},
     "output_type": "execute_result"
    },
    {
     "data": {
      "text/plain": [
       "current loss = 2.4800285986548\t\n",
       "current loss = 2.4793409039965\t\n",
       "current loss = 2.478654006181\t\n"
      ]
     },
     "execution_count": 8,
     "metadata": {},
     "output_type": "execute_result"
    },
    {
     "data": {
      "text/plain": [
       "current loss = 2.4779679039444\t\n",
       "current loss = 2.4772825960249\t\n",
       "current loss = 2.4765980811634\t\n"
      ]
     },
     "execution_count": 8,
     "metadata": {},
     "output_type": "execute_result"
    },
    {
     "data": {
      "text/plain": [
       "current loss = 2.4759143581032\t\n",
       "current loss = 2.47523142559\t\n",
       "current loss = 2.4745492823722\t\n"
      ]
     },
     "execution_count": 8,
     "metadata": {},
     "output_type": "execute_result"
    },
    {
     "data": {
      "text/plain": [
       "current loss = 2.4738679272002\t\n",
       "current loss = 2.4731873588272\t\n"
      ]
     },
     "execution_count": 8,
     "metadata": {},
     "output_type": "execute_result"
    },
    {
     "data": {
      "text/plain": [
       "current loss = 2.4725075760088\t\n",
       "current loss = 2.4718285775029\t\n",
       "current loss = 2.4711503620698\t\n"
      ]
     },
     "execution_count": 8,
     "metadata": {},
     "output_type": "execute_result"
    },
    {
     "data": {
      "text/plain": [
       "current loss = 2.4704729284724\t\n",
       "current loss = 2.4697962754758\t\n",
       "current loss = 2.4691204018477\t\n"
      ]
     },
     "execution_count": 8,
     "metadata": {},
     "output_type": "execute_result"
    },
    {
     "data": {
      "text/plain": [
       "current loss = 2.4684453063581\t\n",
       "current loss = 2.4677709877794\t\n",
       "current loss = 2.4670974448864\t\n"
      ]
     },
     "execution_count": 8,
     "metadata": {},
     "output_type": "execute_result"
    },
    {
     "data": {
      "text/plain": [
       "current loss = 2.4664246764562\t\n",
       "current loss = 2.4657526812684\t\n"
      ]
     },
     "execution_count": 8,
     "metadata": {},
     "output_type": "execute_result"
    },
    {
     "data": {
      "text/plain": [
       "current loss = 2.465081458105\t\n",
       "current loss = 2.4644110057503\t\n"
      ]
     },
     "execution_count": 8,
     "metadata": {},
     "output_type": "execute_result"
    },
    {
     "data": {
      "text/plain": [
       "current loss = 2.4637413229908\t\n"
      ]
     },
     "execution_count": 8,
     "metadata": {},
     "output_type": "execute_result"
    },
    {
     "data": {
      "text/plain": [
       "current loss = 2.4630724086156\t\n",
       "current loss = 2.4624042614162\t\n"
      ]
     },
     "execution_count": 8,
     "metadata": {},
     "output_type": "execute_result"
    },
    {
     "data": {
      "text/plain": [
       "current loss = 2.4617368801861\t\n",
       "current loss = 2.4610702637215\t\n",
       "current loss = 2.4604044108208\t\n"
      ]
     },
     "execution_count": 8,
     "metadata": {},
     "output_type": "execute_result"
    },
    {
     "data": {
      "text/plain": [
       "current loss = 2.4597393202846\t\n",
       "current loss = 2.4590749909161\t\n",
       "current loss = 2.4584114215205\t\n"
      ]
     },
     "execution_count": 8,
     "metadata": {},
     "output_type": "execute_result"
    },
    {
     "data": {
      "text/plain": [
       "current loss = 2.4577486109056\t\n",
       "current loss = 2.4570865578813\t\n",
       "current loss = 2.45642526126\t\n"
      ]
     },
     "execution_count": 8,
     "metadata": {},
     "output_type": "execute_result"
    },
    {
     "data": {
      "text/plain": [
       "current loss = 2.4557647198562\t\n",
       "current loss = 2.4551049324869\t\n",
       "current loss = 2.4544458979711\t\n"
      ]
     },
     "execution_count": 8,
     "metadata": {},
     "output_type": "execute_result"
    },
    {
     "data": {
      "text/plain": [
       "current loss = 2.4537876151303\t\n",
       "current loss = 2.4531300827884\t\n",
       "current loss = 2.4524732997712\t\n"
      ]
     },
     "execution_count": 8,
     "metadata": {},
     "output_type": "execute_result"
    },
    {
     "data": {
      "text/plain": [
       "current loss = 2.4518172649071\t\n",
       "current loss = 2.4511619770266\t\n",
       "current loss = 2.4505074349624\t\n",
       "current loss = 2.4498536375497\t\n"
      ]
     },
     "execution_count": 8,
     "metadata": {},
     "output_type": "execute_result"
    },
    {
     "data": {
      "text/plain": [
       "current loss = 2.4492005836257\t\n",
       "current loss = 2.4485482720299\t\n",
       "current loss = 2.4478967016042\t\n"
      ]
     },
     "execution_count": 8,
     "metadata": {},
     "output_type": "execute_result"
    },
    {
     "data": {
      "text/plain": [
       "current loss = 2.4472458711925\t\n",
       "current loss = 2.4465957796411\t\n",
       "current loss = 2.4459464257983\t\n"
      ]
     },
     "execution_count": 8,
     "metadata": {},
     "output_type": "execute_result"
    },
    {
     "data": {
      "text/plain": [
       "current loss = 2.4452978085149\t\n",
       "current loss = 2.4446499266438\t\n",
       "current loss = 2.44400277904\t\n",
       "current loss = 2.4433563645608\t\n"
      ]
     },
     "execution_count": 8,
     "metadata": {},
     "output_type": "execute_result"
    },
    {
     "data": {
      "text/plain": [
       "current loss = 2.4427106820657\t\n",
       "current loss = 2.4420657304163\t\n",
       "current loss = 2.4414215084766\t\n",
       "current loss = 2.4407780151126\t\n"
      ]
     },
     "execution_count": 8,
     "metadata": {},
     "output_type": "execute_result"
    },
    {
     "data": {
      "text/plain": [
       "current loss = 2.4401352491925\t\n",
       "current loss = 2.4394932095867\t\n"
      ]
     },
     "execution_count": 8,
     "metadata": {},
     "output_type": "execute_result"
    },
    {
     "data": {
      "text/plain": [
       "current loss = 2.4388518951677\t\n",
       "current loss = 2.4382113048102\t\n"
      ]
     },
     "execution_count": 8,
     "metadata": {},
     "output_type": "execute_result"
    },
    {
     "data": {
      "text/plain": [
       "current loss = 2.4375714373912\t\n",
       "current loss = 2.4369322917897\t\n",
       "current loss = 2.4362938668869\t\n",
       "current loss = 2.435656161566\t\n"
      ]
     },
     "execution_count": 8,
     "metadata": {},
     "output_type": "execute_result"
    },
    {
     "data": {
      "text/plain": [
       "current loss = 2.4350191747126\t\n",
       "current loss = 2.4343829052141\t\n",
       "current loss = 2.4337473519604\t\n"
      ]
     },
     "execution_count": 8,
     "metadata": {},
     "output_type": "execute_result"
    },
    {
     "data": {
      "text/plain": [
       "current loss = 2.4331125138434\t\n",
       "current loss = 2.4324783897568\t\n",
       "current loss = 2.4318449785969\t\n"
      ]
     },
     "execution_count": 8,
     "metadata": {},
     "output_type": "execute_result"
    },
    {
     "data": {
      "text/plain": [
       "current loss = 2.4312122792618\t\n",
       "current loss = 2.4305802906518\t\n",
       "current loss = 2.4299490116694\t\n"
      ]
     },
     "execution_count": 8,
     "metadata": {},
     "output_type": "execute_result"
    },
    {
     "data": {
      "text/plain": [
       "current loss = 2.4293184412189\t\n",
       "current loss = 2.4286885782069\t\n",
       "current loss = 2.4280594215422\t\n"
      ]
     },
     "execution_count": 8,
     "metadata": {},
     "output_type": "execute_result"
    },
    {
     "data": {
      "text/plain": [
       "current loss = 2.4274309701355\t\n",
       "current loss = 2.4268032228995\t\n",
       "current loss = 2.4261761787492\t\n"
      ]
     },
     "execution_count": 8,
     "metadata": {},
     "output_type": "execute_result"
    },
    {
     "data": {
      "text/plain": [
       "current loss = 2.4255498366015\t\n"
      ]
     },
     "execution_count": 8,
     "metadata": {},
     "output_type": "execute_result"
    },
    {
     "data": {
      "text/plain": [
       "current loss = 2.4249241953755\t\n",
       "current loss = 2.4242992539922\t\n",
       "current loss = 2.4236750113748\t\n",
       "current loss = 2.4230514664484\t\n"
      ]
     },
     "execution_count": 8,
     "metadata": {},
     "output_type": "execute_result"
    },
    {
     "data": {
      "text/plain": [
       "current loss = 2.4224286181403\t\n",
       "current loss = 2.4218064653797\t\n",
       "current loss = 2.421185007098\t\n",
       "current loss = 2.4205642422284\t\n"
      ]
     },
     "execution_count": 8,
     "metadata": {},
     "output_type": "execute_result"
    },
    {
     "data": {
      "text/plain": [
       "current loss = 2.4199441697064\t\n",
       "current loss = 2.4193247884692\t\n",
       "current loss = 2.4187060974563\t\n",
       "current loss = 2.4180880956091\t\n"
      ]
     },
     "execution_count": 8,
     "metadata": {},
     "output_type": "execute_result"
    },
    {
     "data": {
      "text/plain": [
       "current loss = 2.417470781871\t\n"
      ]
     },
     "execution_count": 8,
     "metadata": {},
     "output_type": "execute_result"
    },
    {
     "data": {
      "text/plain": [
       "current loss = 2.4168541551875\t\n",
       "current loss = 2.4162382145059\t\n",
       "current loss = 2.4156229587756\t\n"
      ]
     },
     "execution_count": 8,
     "metadata": {},
     "output_type": "execute_result"
    },
    {
     "data": {
      "text/plain": [
       "current loss = 2.4150083869481\t\n",
       "current loss = 2.4143944979768\t\n",
       "current loss = 2.4137812908169\t\n",
       "current loss = 2.4131687644259\t\n"
      ]
     },
     "execution_count": 8,
     "metadata": {},
     "output_type": "execute_result"
    },
    {
     "data": {
      "text/plain": [
       "current loss = 2.412556917763\t\n",
       "current loss = 2.4119457497897\t\n",
       "current loss = 2.411335259469\t\n",
       "current loss = 2.4107254457662\t"
      ]
     },
     "execution_count": 8,
     "metadata": {},
     "output_type": "execute_result"
    },
    {
     "data": {
      "text/plain": [
       "\n",
       "current loss = 2.4101163076485\t\n",
       "current loss = 2.409507844085\t\n",
       "current loss = 2.4089000540467\t\n"
      ]
     },
     "execution_count": 8,
     "metadata": {},
     "output_type": "execute_result"
    },
    {
     "data": {
      "text/plain": [
       "current loss = 2.4082929365067\t\n",
       "current loss = 2.4076864904398\t\n",
       "current loss = 2.407080714823\t\n"
      ]
     },
     "execution_count": 8,
     "metadata": {},
     "output_type": "execute_result"
    },
    {
     "data": {
      "text/plain": [
       "current loss = 2.4064756086351\t\n",
       "current loss = 2.4058711708568\t\n",
       "current loss = 2.4052674004706\t\n"
      ]
     },
     "execution_count": 8,
     "metadata": {},
     "output_type": "execute_result"
    },
    {
     "data": {
      "text/plain": [
       "current loss = 2.4046642964613\t\n",
       "current loss = 2.4040618578153\t\n",
       "current loss = 2.4034600835209\t\n"
      ]
     },
     "execution_count": 8,
     "metadata": {},
     "output_type": "execute_result"
    },
    {
     "data": {
      "text/plain": [
       "current loss = 2.4028589725684\t\n",
       "current loss = 2.4022585239501\t\n"
      ]
     },
     "execution_count": 8,
     "metadata": {},
     "output_type": "execute_result"
    },
    {
     "data": {
      "text/plain": [
       "current loss = 2.4016587366599\t\n",
       "current loss = 2.4010596096939\t\n",
       "current loss = 2.40046114205\t\n"
      ]
     },
     "execution_count": 8,
     "metadata": {},
     "output_type": "execute_result"
    },
    {
     "data": {
      "text/plain": [
       "current loss = 2.3998633327278\t\n",
       "current loss = 2.3992661807291\t\n",
       "current loss = 2.3986696850572\t\n"
      ]
     },
     "execution_count": 8,
     "metadata": {},
     "output_type": "execute_result"
    },
    {
     "data": {
      "text/plain": [
       "current loss = 2.3980738447176\t\n",
       "current loss = 2.3974786587174\t\n",
       "current loss = 2.3968841260658\t\n"
      ]
     },
     "execution_count": 8,
     "metadata": {},
     "output_type": "execute_result"
    },
    {
     "data": {
      "text/plain": [
       "current loss = 2.3962902457737\t\n",
       "current loss = 2.395697016854\t\n",
       "current loss = 2.3951044383212\t\n",
       "current loss = 2.3945125091919\t\n"
      ]
     },
     "execution_count": 8,
     "metadata": {},
     "output_type": "execute_result"
    },
    {
     "data": {
      "text/plain": [
       "current loss = 2.3939212284844\t\n",
       "current loss = 2.3933305952189\t\n",
       "current loss = 2.3927406084174\t\n",
       "current loss = 2.3921512671038\t\n"
      ]
     },
     "execution_count": 8,
     "metadata": {},
     "output_type": "execute_result"
    },
    {
     "data": {
      "text/plain": [
       "current loss = 2.3915625703036\t\n",
       "current loss = 2.3909745170444\t\n",
       "current loss = 2.3903871063555\t\n"
      ]
     },
     "execution_count": 8,
     "metadata": {},
     "output_type": "execute_result"
    },
    {
     "data": {
      "text/plain": [
       "current loss = 2.3898003372681\t\n",
       "current loss = 2.3892142088149\t\n",
       "current loss = 2.3886287200309\t\n",
       "current loss = 2.3880438699524\t\n"
      ]
     },
     "execution_count": 8,
     "metadata": {},
     "output_type": "execute_result"
    },
    {
     "data": {
      "text/plain": [
       "current loss = 2.3874596576179\t\n",
       "current loss = 2.3868760820674\t\n",
       "current loss = 2.3862931423429\t\n"
      ]
     },
     "execution_count": 8,
     "metadata": {},
     "output_type": "execute_result"
    },
    {
     "data": {
      "text/plain": [
       "current loss = 2.385710837488\t\n",
       "current loss = 2.3851291665483\t\n",
       "current loss = 2.384548128571\t\n"
      ]
     },
     "execution_count": 8,
     "metadata": {},
     "output_type": "execute_result"
    },
    {
     "data": {
      "text/plain": [
       "current loss = 2.3839677226051\t\n",
       "current loss = 2.3833879477015\t\n",
       "current loss = 2.3828088029126\t\n"
      ]
     },
     "execution_count": 8,
     "metadata": {},
     "output_type": "execute_result"
    },
    {
     "data": {
      "text/plain": [
       "current loss = 2.382230287293\t\n",
       "current loss = 2.3816523998985\t\n",
       "current loss = 2.3810751397871\t\n"
      ]
     },
     "execution_count": 8,
     "metadata": {},
     "output_type": "execute_result"
    },
    {
     "data": {
      "text/plain": [
       "current loss = 2.3804985060184\t\n",
       "current loss = 2.3799224976536\t\n"
      ]
     },
     "execution_count": 8,
     "metadata": {},
     "output_type": "execute_result"
    },
    {
     "data": {
      "text/plain": [
       "current loss = 2.379347113756\t\n",
       "current loss = 2.3787723533902\t\n",
       "current loss = 2.378198215623\t\n"
      ]
     },
     "execution_count": 8,
     "metadata": {},
     "output_type": "execute_result"
    },
    {
     "data": {
      "text/plain": [
       "current loss = 2.3776246995225\t\n",
       "current loss = 2.3770518041587\t\n",
       "current loss = 2.3764795286035\t\n",
       "current loss = 2.3759078719303\t\n"
      ]
     },
     "execution_count": 8,
     "metadata": {},
     "output_type": "execute_result"
    },
    {
     "data": {
      "text/plain": [
       "current loss = 2.3753368332142\t\n",
       "current loss = 2.3747664115322\t\n",
       "current loss = 2.3741966059628\t\n"
      ]
     },
     "execution_count": 8,
     "metadata": {},
     "output_type": "execute_result"
    },
    {
     "data": {
      "text/plain": [
       "current loss = 2.3736274155864\t\n",
       "current loss = 2.373058839485\t\n",
       "current loss = 2.3724908767422\t\n",
       "current loss = 2.3719235264436\t\n"
      ]
     },
     "execution_count": 8,
     "metadata": {},
     "output_type": "execute_result"
    },
    {
     "data": {
      "text/plain": [
       "current loss = 2.3713567876761\t\n",
       "current loss = 2.3707906595285\t\n",
       "current loss = 2.3702251410913\t\n"
      ]
     },
     "execution_count": 8,
     "metadata": {},
     "output_type": "execute_result"
    },
    {
     "data": {
      "text/plain": [
       "current loss = 2.3696602314567\t\n",
       "current loss = 2.3690959297185\t\n",
       "current loss = 2.3685322349721\t\n",
       "current loss = 2.3679691463147\t\n",
       "current loss = 2.3674066628452\t\n"
      ]
     },
     "execution_count": 8,
     "metadata": {},
     "output_type": "execute_result"
    },
    {
     "data": {
      "text/plain": [
       "current loss = 2.366844783664\t\n",
       "current loss = 2.3662835078732\t\n",
       "current loss = 2.3657228345767\t\n",
       "current loss = 2.3651627628799\t\n"
      ]
     },
     "execution_count": 8,
     "metadata": {},
     "output_type": "execute_result"
    },
    {
     "data": {
      "text/plain": [
       "current loss = 2.3646032918899\t\n",
       "current loss = 2.3640444207154\t\n",
       "current loss = 2.3634861484669\t\n",
       "current loss = 2.3629284742563\t\n"
      ]
     },
     "execution_count": 8,
     "metadata": {},
     "output_type": "execute_result"
    },
    {
     "data": {
      "text/plain": [
       "current loss = 2.3623713971972\t\n",
       "current loss = 2.361814916405\t\n",
       "current loss = 2.3612590309965\t\n",
       "current loss = 2.3607037400904\t\n"
      ]
     },
     "execution_count": 8,
     "metadata": {},
     "output_type": "execute_result"
    },
    {
     "data": {
      "text/plain": [
       "current loss = 2.3601490428066\t\n"
      ]
     },
     "execution_count": 8,
     "metadata": {},
     "output_type": "execute_result"
    },
    {
     "data": {
      "text/plain": [
       "current loss = 2.359594938267\t\n",
       "current loss = 2.359041425595\t\n",
       "current loss = 2.3584885039155\t\n"
      ]
     },
     "execution_count": 8,
     "metadata": {},
     "output_type": "execute_result"
    },
    {
     "data": {
      "text/plain": [
       "current loss = 2.357936172355\t\n",
       "current loss = 2.3573844300419\t\n"
      ]
     },
     "execution_count": 8,
     "metadata": {},
     "output_type": "execute_result"
    },
    {
     "data": {
      "text/plain": [
       "current loss = 2.3568332761058\t\n",
       "current loss = 2.3562827096782\t\n",
       "current loss = 2.355732729892\t\n"
      ]
     },
     "execution_count": 8,
     "metadata": {},
     "output_type": "execute_result"
    },
    {
     "data": {
      "text/plain": [
       "current loss = 2.3551833358818\t\n",
       "current loss = 2.3546345267837\t\n",
       "current loss = 2.3540863017354\t\n"
      ]
     },
     "execution_count": 8,
     "metadata": {},
     "output_type": "execute_result"
    },
    {
     "data": {
      "text/plain": [
       "current loss = 2.3535386598762\t\n",
       "current loss = 2.352991600347\t\n"
      ]
     },
     "execution_count": 8,
     "metadata": {},
     "output_type": "execute_result"
    },
    {
     "data": {
      "text/plain": [
       "current loss = 2.3524451222902\t\n",
       "current loss = 2.3518992248499\t\n"
      ]
     },
     "execution_count": 8,
     "metadata": {},
     "output_type": "execute_result"
    },
    {
     "data": {
      "text/plain": [
       "current loss = 2.3513539071716\t\n",
       "current loss = 2.3508091684024\t\n"
      ]
     },
     "execution_count": 8,
     "metadata": {},
     "output_type": "execute_result"
    },
    {
     "data": {
      "text/plain": [
       "current loss = 2.3502650076911\t\n"
      ]
     },
     "execution_count": 8,
     "metadata": {},
     "output_type": "execute_result"
    },
    {
     "data": {
      "text/plain": [
       "current loss = 2.3497214241879\t\n",
       "current loss = 2.3491784170445\t\n"
      ]
     },
     "execution_count": 8,
     "metadata": {},
     "output_type": "execute_result"
    },
    {
     "data": {
      "text/plain": [
       "current loss = 2.3486359854143\t\n",
       "current loss = 2.3480941284523\t\n"
      ]
     },
     "execution_count": 8,
     "metadata": {},
     "output_type": "execute_result"
    },
    {
     "data": {
      "text/plain": [
       "current loss = 2.3475528453147\t\n",
       "current loss = 2.3470121351597\t\n",
       "current loss = 2.3464719971466\t\n"
      ]
     },
     "execution_count": 8,
     "metadata": {},
     "output_type": "execute_result"
    },
    {
     "data": {
      "text/plain": [
       "current loss = 2.3459324304365\t\n",
       "current loss = 2.345393434192\t\n",
       "current loss = 2.344855007577\t\n"
      ]
     },
     "execution_count": 8,
     "metadata": {},
     "output_type": "execute_result"
    },
    {
     "data": {
      "text/plain": [
       "current loss = 2.3443171497574\t\n",
       "current loss = 2.3437798599\t\n",
       "current loss = 2.3432431371737\t\n"
      ]
     },
     "execution_count": 8,
     "metadata": {},
     "output_type": "execute_result"
    },
    {
     "data": {
      "text/plain": [
       "current loss = 2.3427069807484\t\n",
       "current loss = 2.3421713897959\t\n",
       "current loss = 2.3416363634893\t\n"
      ]
     },
     "execution_count": 8,
     "metadata": {},
     "output_type": "execute_result"
    },
    {
     "data": {
      "text/plain": [
       "current loss = 2.3411019010033\t\n",
       "current loss = 2.340568001514\t\n",
       "current loss = 2.3400346641991\t\n"
      ]
     },
     "execution_count": 8,
     "metadata": {},
     "output_type": "execute_result"
    },
    {
     "data": {
      "text/plain": [
       "current loss = 2.3395018882376\t\n",
       "current loss = 2.3389696728103\t\n",
       "current loss = 2.3384380170992\t\n",
       "current loss = 2.3379069202879\t\n"
      ]
     },
     "execution_count": 8,
     "metadata": {},
     "output_type": "execute_result"
    },
    {
     "data": {
      "text/plain": [
       "current loss = 2.3373763815615\t\n",
       "current loss = 2.3368464001066\t\n",
       "current loss = 2.3363169751111\t\n"
      ]
     },
     "execution_count": 8,
     "metadata": {},
     "output_type": "execute_result"
    },
    {
     "data": {
      "text/plain": [
       "current loss = 2.3357881057646\t\n",
       "current loss = 2.335259791258\t\n",
       "current loss = 2.3347320307837\t\n"
      ]
     },
     "execution_count": 8,
     "metadata": {},
     "output_type": "execute_result"
    },
    {
     "data": {
      "text/plain": [
       "current loss = 2.3342048235357\t\n",
       "current loss = 2.3336781687092\t\n",
       "current loss = 2.333152065501\t\n",
       "current loss = 2.3326265131094\t\n"
      ]
     },
     "execution_count": 8,
     "metadata": {},
     "output_type": "execute_result"
    },
    {
     "data": {
      "text/plain": [
       "current loss = 2.332101510734\t\n",
       "current loss = 2.3315770575761\t\n",
       "current loss = 2.3310531528381\t\n"
      ]
     },
     "execution_count": 8,
     "metadata": {},
     "output_type": "execute_result"
    },
    {
     "data": {
      "text/plain": [
       "current loss = 2.3305297957241\t\n",
       "current loss = 2.3300069854395\t\n",
       "current loss = 2.3294847211913\t\n"
      ]
     },
     "execution_count": 8,
     "metadata": {},
     "output_type": "execute_result"
    },
    {
     "data": {
      "text/plain": [
       "current loss = 2.3289630021876\t\n",
       "current loss = 2.3284418276384\t\n",
       "current loss = 2.3279211967546\t\n"
      ]
     },
     "execution_count": 8,
     "metadata": {},
     "output_type": "execute_result"
    },
    {
     "data": {
      "text/plain": [
       "current loss = 2.3274011087489\t\n",
       "current loss = 2.3268815628354\t\n",
       "current loss = 2.3263625582293\t\n"
      ]
     },
     "execution_count": 8,
     "metadata": {},
     "output_type": "execute_result"
    },
    {
     "data": {
      "text/plain": [
       "current loss = 2.3258440941475\t\n",
       "current loss = 2.3253261698083\t\n",
       "current loss = 2.3248087844313\t\n"
      ]
     },
     "execution_count": 8,
     "metadata": {},
     "output_type": "execute_result"
    },
    {
     "data": {
      "text/plain": [
       "current loss = 2.3242919372375\t\n",
       "current loss = 2.3237756274494\t\n",
       "current loss = 2.3232598542907\t\n"
      ]
     },
     "execution_count": 8,
     "metadata": {},
     "output_type": "execute_result"
    },
    {
     "data": {
      "text/plain": [
       "current loss = 2.3227446169869\t\n",
       "current loss = 2.3222299147643\t\n"
      ]
     },
     "execution_count": 8,
     "metadata": {},
     "output_type": "execute_result"
    },
    {
     "data": {
      "text/plain": [
       "current loss = 2.321715746851\t\n",
       "current loss = 2.3212021124765\t\n",
       "current loss = 2.3206890108715\t\n"
      ]
     },
     "execution_count": 8,
     "metadata": {},
     "output_type": "execute_result"
    },
    {
     "data": {
      "text/plain": [
       "current loss = 2.3201764412682\t\n",
       "current loss = 2.3196644029\t\n"
      ]
     },
     "execution_count": 8,
     "metadata": {},
     "output_type": "execute_result"
    },
    {
     "data": {
      "text/plain": [
       "current loss = 2.3191528950019\t\n",
       "current loss = 2.3186419168101\t\n"
      ]
     },
     "execution_count": 8,
     "metadata": {},
     "output_type": "execute_result"
    },
    {
     "data": {
      "text/plain": [
       "current loss = 2.3181314675623\t\n",
       "current loss = 2.3176215464975\t\n"
      ]
     },
     "execution_count": 8,
     "metadata": {},
     "output_type": "execute_result"
    },
    {
     "data": {
      "text/plain": [
       "current loss = 2.317112152856\t\n",
       "current loss = 2.3166032858795\t\n",
       "current loss = 2.3160949448112\t\n"
      ]
     },
     "execution_count": 8,
     "metadata": {},
     "output_type": "execute_result"
    },
    {
     "data": {
      "text/plain": [
       "current loss = 2.3155871288954\t\n",
       "current loss = 2.3150798373779\t\n",
       "current loss = 2.3145730695059\t\n"
      ]
     },
     "execution_count": 8,
     "metadata": {},
     "output_type": "execute_result"
    },
    {
     "data": {
      "text/plain": [
       "current loss = 2.3140668245278\t\n",
       "current loss = 2.3135611016934\t\n",
       "current loss = 2.3130559002539\t\n",
       "current loss = 2.3125512194617\t\n"
      ]
     },
     "execution_count": 8,
     "metadata": {},
     "output_type": "execute_result"
    },
    {
     "data": {
      "text/plain": [
       "current loss = 2.3120470585707\t\n",
       "current loss = 2.311543416836\t\n",
       "current loss = 2.3110402935141\t\n"
      ]
     },
     "execution_count": 8,
     "metadata": {},
     "output_type": "execute_result"
    },
    {
     "data": {
      "text/plain": [
       "current loss = 2.3105376878627\t\n",
       "current loss = 2.3100355991411\t\n",
       "current loss = 2.3095340266096\t\n",
       "current loss = 2.30903296953\t\n"
      ]
     },
     "execution_count": 8,
     "metadata": {},
     "output_type": "execute_result"
    },
    {
     "data": {
      "text/plain": [
       "current loss = 2.3085324271653\t\n",
       "current loss = 2.30803239878\t\n",
       "current loss = 2.3075328836397\t\n"
      ]
     },
     "execution_count": 8,
     "metadata": {},
     "output_type": "execute_result"
    },
    {
     "data": {
      "text/plain": [
       "current loss = 2.3070338810114\t\n",
       "current loss = 2.3065353901634\t\n",
       "current loss = 2.3060374103654\t\n"
      ]
     },
     "execution_count": 8,
     "metadata": {},
     "output_type": "execute_result"
    },
    {
     "data": {
      "text/plain": [
       "current loss = 2.305539940888\t\n",
       "current loss = 2.3050429810037\t\n",
       "current loss = 2.3045465299858\t\n",
       "current loss = 2.3040505871092\t\n"
      ]
     },
     "execution_count": 8,
     "metadata": {},
     "output_type": "execute_result"
    },
    {
     "data": {
      "text/plain": [
       "current loss = 2.3035551516498\t\n",
       "current loss = 2.3030602228849\t\n"
      ]
     },
     "execution_count": 8,
     "metadata": {},
     "output_type": "execute_result"
    },
    {
     "data": {
      "text/plain": [
       "current loss = 2.3025658000933\t\n",
       "current loss = 2.3020718825548\t\n"
      ]
     },
     "execution_count": 8,
     "metadata": {},
     "output_type": "execute_result"
    },
    {
     "data": {
      "text/plain": [
       "current loss = 2.3015784695506\t\n",
       "current loss = 2.3010855603631\t\n"
      ]
     },
     "execution_count": 8,
     "metadata": {},
     "output_type": "execute_result"
    },
    {
     "data": {
      "text/plain": [
       "current loss = 2.3005931542759\t\n",
       "current loss = 2.3001012505742\t\n",
       "current loss = 2.2996098485442\t\n"
      ]
     },
     "execution_count": 8,
     "metadata": {},
     "output_type": "execute_result"
    },
    {
     "data": {
      "text/plain": [
       "current loss = 2.2991189474732\t\n",
       "current loss = 2.2986285466502\t\n",
       "current loss = 2.2981386453651\t\n"
      ]
     },
     "execution_count": 8,
     "metadata": {},
     "output_type": "execute_result"
    },
    {
     "data": {
      "text/plain": [
       "current loss = 2.2976492429093\t\n",
       "current loss = 2.2971603385751\t\n"
      ]
     },
     "execution_count": 8,
     "metadata": {},
     "output_type": "execute_result"
    },
    {
     "data": {
      "text/plain": [
       "current loss = 2.2966719316565\t\n",
       "current loss = 2.2961840214484\t\n",
       "current loss = 2.2956966072471\t\n"
      ]
     },
     "execution_count": 8,
     "metadata": {},
     "output_type": "execute_result"
    },
    {
     "data": {
      "text/plain": [
       "current loss = 2.2952096883501\t\n"
      ]
     },
     "execution_count": 8,
     "metadata": {},
     "output_type": "execute_result"
    },
    {
     "data": {
      "text/plain": [
       "current loss = 2.2947232640561\t\n"
      ]
     },
     "execution_count": 8,
     "metadata": {},
     "output_type": "execute_result"
    },
    {
     "data": {
      "text/plain": [
       "current loss = 2.2942373336652\t\n",
       "current loss = 2.2937518964785\t\n",
       "current loss = 2.2932669517985\t\n"
      ]
     },
     "execution_count": 8,
     "metadata": {},
     "output_type": "execute_result"
    },
    {
     "data": {
      "text/plain": [
       "current loss = 2.2927824989289\t\n",
       "current loss = 2.2922985371746\t\n"
      ]
     },
     "execution_count": 8,
     "metadata": {},
     "output_type": "execute_result"
    },
    {
     "data": {
      "text/plain": [
       "current loss = 2.2918150658417\t\n",
       "current loss = 2.2913320842375\t\n",
       "current loss = 2.2908495916706\t\n"
      ]
     },
     "execution_count": 8,
     "metadata": {},
     "output_type": "execute_result"
    },
    {
     "data": {
      "text/plain": [
       "current loss = 2.2903675874507\t\n",
       "current loss = 2.289886070889\t\n"
      ]
     },
     "execution_count": 8,
     "metadata": {},
     "output_type": "execute_result"
    },
    {
     "data": {
      "text/plain": [
       "current loss = 2.2894050412975\t\n",
       "current loss = 2.2889244979897\t\n"
      ]
     },
     "execution_count": 8,
     "metadata": {},
     "output_type": "execute_result"
    },
    {
     "data": {
      "text/plain": [
       "current loss = 2.2884444402802\t\n",
       "current loss = 2.2879648674848\t\n"
      ]
     },
     "execution_count": 8,
     "metadata": {},
     "output_type": "execute_result"
    },
    {
     "data": {
      "text/plain": [
       "current loss = 2.2874857789206\t\n",
       "current loss = 2.2870071739057\t\n"
      ]
     },
     "execution_count": 8,
     "metadata": {},
     "output_type": "execute_result"
    },
    {
     "data": {
      "text/plain": [
       "current loss = 2.2865290517596\t\n",
       "current loss = 2.2860514118028\t\n"
      ]
     },
     "execution_count": 8,
     "metadata": {},
     "output_type": "execute_result"
    },
    {
     "data": {
      "text/plain": [
       "current loss = 2.2855742533573\t\n",
       "current loss = 2.2850975757458\t\n",
       "current loss = 2.2846213782927\t\n"
      ]
     },
     "execution_count": 8,
     "metadata": {},
     "output_type": "execute_result"
    },
    {
     "data": {
      "text/plain": [
       "current loss = 2.2841456603233\t\n",
       "current loss = 2.2836704211641\t\n",
       "current loss = 2.2831956601429\t\n"
      ]
     },
     "execution_count": 8,
     "metadata": {},
     "output_type": "execute_result"
    },
    {
     "data": {
      "text/plain": [
       "current loss = 2.2827213765884\t\n",
       "current loss = 2.2822475698308\t\n",
       "current loss = 2.2817742392014\t\n"
      ]
     },
     "execution_count": 8,
     "metadata": {},
     "output_type": "execute_result"
    },
    {
     "data": {
      "text/plain": [
       "current loss = 2.2813013840324\t\n",
       "current loss = 2.2808290036576\t\n",
       "current loss = 2.2803570974115\t\n",
       "current loss = 2.2798856646302\t\n"
      ]
     },
     "execution_count": 8,
     "metadata": {},
     "output_type": "execute_result"
    },
    {
     "data": {
      "text/plain": [
       "current loss = 2.2794147046507\t\n",
       "current loss = 2.2789442168111\t\n",
       "current loss = 2.2784742004508\t\n",
       "current loss = 2.2780046549105\t\n",
       "current loss = 2.2775355795316\t\n"
      ]
     },
     "execution_count": 8,
     "metadata": {},
     "output_type": "execute_result"
    },
    {
     "data": {
      "text/plain": [
       "current loss = 2.2770669736571\t\n",
       "current loss = 2.2765988366309\t\n",
       "current loss = 2.2761311677981\t\n",
       "current loss = 2.2756639665049\t\n"
      ]
     },
     "execution_count": 8,
     "metadata": {},
     "output_type": "execute_result"
    },
    {
     "data": {
      "text/plain": [
       "current loss = 2.2751972320988\t\n",
       "current loss = 2.2747309639281\t\n",
       "current loss = 2.2742651613427\t\n",
       "current loss = 2.2737998236932\t\n"
      ]
     },
     "execution_count": 8,
     "metadata": {},
     "output_type": "execute_result"
    },
    {
     "data": {
      "text/plain": [
       "current loss = 2.2733349503315\t\n",
       "current loss = 2.2728705406108\t\n",
       "current loss = 2.2724065938851\t\n",
       "current loss = 2.2719431095097\t\n"
      ]
     },
     "execution_count": 8,
     "metadata": {},
     "output_type": "execute_result"
    },
    {
     "data": {
      "text/plain": [
       "current loss = 2.2714800868411\t\n",
       "current loss = 2.2710175252367\t\n",
       "current loss = 2.2705554240552\t\n"
      ]
     },
     "execution_count": 8,
     "metadata": {},
     "output_type": "execute_result"
    },
    {
     "data": {
      "text/plain": [
       "current loss = 2.2700937826562\t\n",
       "current loss = 2.2696326004008\t\n",
       "current loss = 2.2691718766507\t\n",
       "current loss = 2.2687116107692\t\n"
      ]
     },
     "execution_count": 8,
     "metadata": {},
     "output_type": "execute_result"
    },
    {
     "data": {
      "text/plain": [
       "current loss = 2.2682518021202\t\n",
       "current loss = 2.2677924500692\t\n",
       "current loss = 2.2673335539825\t\n",
       "current loss = 2.2668751132276\t\n"
      ]
     },
     "execution_count": 8,
     "metadata": {},
     "output_type": "execute_result"
    },
    {
     "data": {
      "text/plain": [
       "current loss = 2.2664171271729\t\n",
       "current loss = 2.2659595951882\t\n",
       "current loss = 2.2655025166442\t\n"
      ]
     },
     "execution_count": 8,
     "metadata": {},
     "output_type": "execute_result"
    },
    {
     "data": {
      "text/plain": [
       "current loss = 2.2650458909128\t\n",
       "current loss = 2.2645897173668\t\n"
      ]
     },
     "execution_count": 8,
     "metadata": {},
     "output_type": "execute_result"
    },
    {
     "data": {
      "text/plain": [
       "current loss = 2.2641339953802\t\n",
       "current loss = 2.2636787243281\t\n",
       "current loss = 2.2632239035867\t\n",
       "current loss = 2.2627695325332\t\n"
      ]
     },
     "execution_count": 8,
     "metadata": {},
     "output_type": "execute_result"
    },
    {
     "data": {
      "text/plain": [
       "current loss = 2.2623156105459\t\n",
       "current loss = 2.2618621370041\t\n",
       "current loss = 2.2614091112885\t\n"
      ]
     },
     "execution_count": 8,
     "metadata": {},
     "output_type": "execute_result"
    },
    {
     "data": {
      "text/plain": [
       "current loss = 2.2609565327803\t\n",
       "current loss = 2.2605044008623\t\n",
       "current loss = 2.2600527149181\t\n"
      ]
     },
     "execution_count": 8,
     "metadata": {},
     "output_type": "execute_result"
    },
    {
     "data": {
      "text/plain": [
       "current loss = 2.2596014743324\t\n",
       "current loss = 2.2591506784909\t\n",
       "current loss = 2.2587003267805\t\n",
       "current loss = 2.258250418589\t\n",
       "current loss = 2.2578009533054\t\n"
      ]
     },
     "execution_count": 8,
     "metadata": {},
     "output_type": "execute_result"
    },
    {
     "data": {
      "text/plain": [
       "current loss = 2.2573519303197\t\n",
       "current loss = 2.2569033490229\t\n"
      ]
     },
     "execution_count": 8,
     "metadata": {},
     "output_type": "execute_result"
    },
    {
     "data": {
      "text/plain": [
       "current loss = 2.256455208807\t\n",
       "current loss = 2.2560075090652\t\n"
      ]
     },
     "execution_count": 8,
     "metadata": {},
     "output_type": "execute_result"
    },
    {
     "data": {
      "text/plain": [
       "current loss = 2.2555602491917\t\n",
       "current loss = 2.2551134285816\t\n",
       "current loss = 2.2546670466312\t\n"
      ]
     },
     "execution_count": 8,
     "metadata": {},
     "output_type": "execute_result"
    },
    {
     "data": {
      "text/plain": [
       "current loss = 2.2542211027378\t\n",
       "current loss = 2.2537755962996\t\n",
       "current loss = 2.2533305267161\t\n"
      ]
     },
     "execution_count": 8,
     "metadata": {},
     "output_type": "execute_result"
    },
    {
     "data": {
      "text/plain": [
       "current loss = 2.2528858933875\t\n",
       "current loss = 2.2524416957153\t\n",
       "current loss = 2.2519979331019\t\n"
      ]
     },
     "execution_count": 8,
     "metadata": {},
     "output_type": "execute_result"
    },
    {
     "data": {
      "text/plain": [
       "current loss = 2.2515546049507\t\n",
       "current loss = 2.2511117106662\t\n",
       "current loss = 2.250669249654\t\n"
      ]
     },
     "execution_count": 8,
     "metadata": {},
     "output_type": "execute_result"
    },
    {
     "data": {
      "text/plain": [
       "current loss = 2.2502272213204\t\n",
       "current loss = 2.249785625073\t\n",
       "current loss = 2.2493444603204\t\n"
      ]
     },
     "execution_count": 8,
     "metadata": {},
     "output_type": "execute_result"
    },
    {
     "data": {
      "text/plain": [
       "current loss = 2.248903726472\t\n",
       "current loss = 2.2484634229385\t\n",
       "current loss = 2.2480235491314\t\n"
      ]
     },
     "execution_count": 8,
     "metadata": {},
     "output_type": "execute_result"
    },
    {
     "data": {
      "text/plain": [
       "current loss = 2.2475841044632\t\n",
       "current loss = 2.2471450883475\t\n",
       "current loss = 2.2467065001989\t\n"
      ]
     },
     "execution_count": 8,
     "metadata": {},
     "output_type": "execute_result"
    },
    {
     "data": {
      "text/plain": [
       "current loss = 2.2462683394329\t\n",
       "current loss = 2.2458306054661\t\n",
       "current loss = 2.245393297716\t\n",
       "current loss = 2.2449564156013\t\n"
      ]
     },
     "execution_count": 8,
     "metadata": {},
     "output_type": "execute_result"
    },
    {
     "data": {
      "text/plain": [
       "current loss = 2.2445199585414\t\n",
       "current loss = 2.2440839259568\t\n",
       "current loss = 2.2436483172691\t\n",
       "current loss = 2.2432131319007\t\n"
      ]
     },
     "execution_count": 8,
     "metadata": {},
     "output_type": "execute_result"
    },
    {
     "data": {
      "text/plain": [
       "current loss = 2.2427783692752\t\n",
       "current loss = 2.242344028817\t\n",
       "current loss = 2.2419101099515\t\n"
      ]
     },
     "execution_count": 8,
     "metadata": {},
     "output_type": "execute_result"
    },
    {
     "data": {
      "text/plain": [
       "current loss = 2.2414766121052\t\n",
       "current loss = 2.2410435347054\t\n",
       "current loss = 2.2406108771805\t\n",
       "current loss = 2.2401786389598\t\n"
      ]
     },
     "execution_count": 8,
     "metadata": {},
     "output_type": "execute_result"
    },
    {
     "data": {
      "text/plain": [
       "current loss = 2.2397468194737\t\n",
       "current loss = 2.2393154181534\t\n",
       "current loss = 2.2388844344311\t\n",
       "current loss = 2.2384538677401\t\n",
       "current loss = 2.2380237175144\t\n"
      ]
     },
     "execution_count": 8,
     "metadata": {},
     "output_type": "execute_result"
    },
    {
     "data": {
      "text/plain": [
       "current loss = 2.2375939831893\t\n",
       "current loss = 2.2371646642007\t\n",
       "current loss = 2.2367357599858\t\n",
       "current loss = 2.2363072699825\t\n"
      ]
     },
     "execution_count": 8,
     "metadata": {},
     "output_type": "execute_result"
    },
    {
     "data": {
      "text/plain": [
       "current loss = 2.2358791936297\t\n",
       "current loss = 2.2354515303673\t\n",
       "current loss = 2.2350242796361\t\n",
       "current loss = 2.234597440878\t\n"
      ]
     },
     "execution_count": 8,
     "metadata": {},
     "output_type": "execute_result"
    },
    {
     "data": {
      "text/plain": [
       "current loss = 2.2341710135356\t\n",
       "current loss = 2.2337449970527\t\n"
      ]
     },
     "execution_count": 8,
     "metadata": {},
     "output_type": "execute_result"
    },
    {
     "data": {
      "text/plain": [
       "current loss = 2.2333193908737\t\n",
       "current loss = 2.2328941944443\t\n"
      ]
     },
     "execution_count": 8,
     "metadata": {},
     "output_type": "execute_result"
    },
    {
     "data": {
      "text/plain": [
       "current loss = 2.232469407211\t\n",
       "current loss = 2.2320450286211\t\n",
       "current loss = 2.231621058123\t\n"
      ]
     },
     "execution_count": 8,
     "metadata": {},
     "output_type": "execute_result"
    },
    {
     "data": {
      "text/plain": [
       "current loss = 2.2311974951659\t\n",
       "current loss = 2.2307743392002\t\n",
       "current loss = 2.2303515896768\t\n"
      ]
     },
     "execution_count": 8,
     "metadata": {},
     "output_type": "execute_result"
    },
    {
     "data": {
      "text/plain": [
       "current loss = 2.2299292460479\t\n",
       "current loss = 2.2295073077665\t\n",
       "current loss = 2.2290857742864\t\n",
       "current loss = 2.2286646450624\t\n",
       "current loss = 2.2282439195504\t\n"
      ]
     },
     "execution_count": 8,
     "metadata": {},
     "output_type": "execute_result"
    },
    {
     "data": {
      "text/plain": [
       "current loss = 2.2278235972069\t\n",
       "current loss = 2.2274036774896\t\n",
       "current loss = 2.2269841598569\t\n",
       "current loss = 2.2265650437682\t\n"
      ]
     },
     "execution_count": 8,
     "metadata": {},
     "output_type": "execute_result"
    },
    {
     "data": {
      "text/plain": [
       "current loss = 2.2261463286838\t\n",
       "current loss = 2.2257280140649\t\n",
       "current loss = 2.2253100993737\t\n",
       "current loss = 2.2248925840731\t"
      ]
     },
     "execution_count": 8,
     "metadata": {},
     "output_type": "execute_result"
    },
    {
     "data": {
      "text/plain": [
       "\n",
       "current loss = 2.2244754676271\t\n",
       "current loss = 2.2240587495005\t\n",
       "current loss = 2.223642429159\t\n"
      ]
     },
     "execution_count": 8,
     "metadata": {},
     "output_type": "execute_result"
    },
    {
     "data": {
      "text/plain": [
       "current loss = 2.2232265060692\t\n",
       "current loss = 2.2228109796986\t\n",
       "current loss = 2.2223958495157\t\n",
       "current loss = 2.2219811149896\t\n"
      ]
     },
     "execution_count": 8,
     "metadata": {},
     "output_type": "execute_result"
    },
    {
     "data": {
      "text/plain": [
       "current loss = 2.2215667755907\t\n",
       "current loss = 2.2211528307899\t\n"
      ]
     },
     "execution_count": 8,
     "metadata": {},
     "output_type": "execute_result"
    },
    {
     "data": {
      "text/plain": [
       "current loss = 2.2207392800593\t\n",
       "current loss = 2.2203261228716\t\n",
       "current loss = 2.2199133587005\t\n",
       "current loss = 2.2195009870208\t\n"
      ]
     },
     "execution_count": 8,
     "metadata": {},
     "output_type": "execute_result"
    },
    {
     "data": {
      "text/plain": [
       "current loss = 2.2190890073077\t\n",
       "current loss = 2.2186774190378\t\n",
       "current loss = 2.2182662216882\t\n"
      ]
     },
     "execution_count": 8,
     "metadata": {},
     "output_type": "execute_result"
    },
    {
     "data": {
      "text/plain": [
       "current loss = 2.217855414737\t\n",
       "current loss = 2.2174449976633\t\n",
       "current loss = 2.2170349699467\t\n"
      ]
     },
     "execution_count": 8,
     "metadata": {},
     "output_type": "execute_result"
    },
    {
     "data": {
      "text/plain": [
       "current loss = 2.2166253310682\t\n",
       "current loss = 2.2162160805092\t\n",
       "current loss = 2.2158072177521\t\n",
       "current loss = 2.2153987422804\t\n"
      ]
     },
     "execution_count": 8,
     "metadata": {},
     "output_type": "execute_result"
    },
    {
     "data": {
      "text/plain": [
       "current loss = 2.2149906535781\t\n",
       "current loss = 2.2145829511303\t\n",
       "current loss = 2.2141756344229\t\n",
       "current loss = 2.2137687029426\t\n",
       "current loss = 2.213362156177\t\n"
      ]
     },
     "execution_count": 8,
     "metadata": {},
     "output_type": "execute_result"
    },
    {
     "data": {
      "text/plain": [
       "current loss = 2.2129559936145\t\n",
       "current loss = 2.2125502147445\t\n",
       "current loss = 2.2121448190572\t\n"
      ]
     },
     "execution_count": 8,
     "metadata": {},
     "output_type": "execute_result"
    },
    {
     "data": {
      "text/plain": [
       "current loss = 2.2117398060434\t\n",
       "current loss = 2.2113351751951\t\n",
       "current loss = 2.2109309260049\t\n"
      ]
     },
     "execution_count": 8,
     "metadata": {},
     "output_type": "execute_result"
    },
    {
     "data": {
      "text/plain": [
       "current loss = 2.2105270579664\t\n",
       "current loss = 2.2101235705739\t\n"
      ]
     },
     "execution_count": 8,
     "metadata": {},
     "output_type": "execute_result"
    },
    {
     "data": {
      "text/plain": [
       "current loss = 2.2097204633227\t\n",
       "current loss = 2.2093177357088\t\n"
      ]
     },
     "execution_count": 8,
     "metadata": {},
     "output_type": "execute_result"
    },
    {
     "data": {
      "text/plain": [
       "current loss = 2.208915387229\t\n",
       "current loss = 2.2085134173812\t\n",
       "current loss = 2.2081118256639\t\n"
      ]
     },
     "execution_count": 8,
     "metadata": {},
     "output_type": "execute_result"
    },
    {
     "data": {
      "text/plain": [
       "current loss = 2.2077106115764\t\n",
       "current loss = 2.2073097746189\t\n"
      ]
     },
     "execution_count": 8,
     "metadata": {},
     "output_type": "execute_result"
    },
    {
     "data": {
      "text/plain": [
       "current loss = 2.2069093142926\t\n",
       "current loss = 2.2065092300993\t\n",
       "current loss = 2.2061095215416\t\n"
      ]
     },
     "execution_count": 8,
     "metadata": {},
     "output_type": "execute_result"
    },
    {
     "data": {
      "text/plain": [
       "current loss = 2.2057101881231\t\n",
       "current loss = 2.2053112293481\t\n",
       "current loss = 2.2049126447218\t\n"
      ]
     },
     "execution_count": 8,
     "metadata": {},
     "output_type": "execute_result"
    },
    {
     "data": {
      "text/plain": [
       "current loss = 2.2045144337502\t\n",
       "current loss = 2.20411659594\t\n",
       "current loss = 2.203719130799\t\n"
      ]
     },
     "execution_count": 8,
     "metadata": {},
     "output_type": "execute_result"
    },
    {
     "data": {
      "text/plain": [
       "current loss = 2.2033220378353\t\n",
       "current loss = 2.2029253165585\t\n",
       "current loss = 2.2025289664783\t\n"
      ]
     },
     "execution_count": 8,
     "metadata": {},
     "output_type": "execute_result"
    },
    {
     "data": {
      "text/plain": [
       "current loss = 2.2021329871059\t\n",
       "current loss = 2.2017373779526\t\n"
      ]
     },
     "execution_count": 8,
     "metadata": {},
     "output_type": "execute_result"
    },
    {
     "data": {
      "text/plain": [
       "current loss = 2.2013421385312\t\n",
       "current loss = 2.2009472683547\t\n",
       "current loss = 2.2005527669374\t\n",
       "current loss = 2.200158633794\t\n"
      ]
     },
     "execution_count": 8,
     "metadata": {},
     "output_type": "execute_result"
    },
    {
     "data": {
      "text/plain": [
       "current loss = 2.1997648684403\t\n",
       "current loss = 2.1993714703926\t\n",
       "current loss = 2.1989784391684\t\n",
       "current loss = 2.1985857742855\t\n"
      ]
     },
     "execution_count": 8,
     "metadata": {},
     "output_type": "execute_result"
    },
    {
     "data": {
      "text/plain": [
       "current loss = 2.198193475263\t\n",
       "current loss = 2.1978015416204\t\n",
       "current loss = 2.1974099728783\t\n"
      ]
     },
     "execution_count": 8,
     "metadata": {},
     "output_type": "execute_result"
    },
    {
     "data": {
      "text/plain": [
       "current loss = 2.1970187685577\t\n"
      ]
     },
     "execution_count": 8,
     "metadata": {},
     "output_type": "execute_result"
    },
    {
     "data": {
      "text/plain": [
       "current loss = 2.1966279281807\t\n",
       "current loss = 2.1962374512701\t\n",
       "current loss = 2.1958473373496\t\n"
      ]
     },
     "execution_count": 8,
     "metadata": {},
     "output_type": "execute_result"
    },
    {
     "data": {
      "text/plain": [
       "current loss = 2.1954575859434\t\n",
       "current loss = 2.1950681965767\t\n",
       "current loss = 2.1946791687754\t\n"
      ]
     },
     "execution_count": 8,
     "metadata": {},
     "output_type": "execute_result"
    },
    {
     "data": {
      "text/plain": [
       "current loss = 2.1942905020663\t\n",
       "current loss = 2.1939021959768\t\n",
       "current loss = 2.1935142500352\t\n"
      ]
     },
     "execution_count": 8,
     "metadata": {},
     "output_type": "execute_result"
    },
    {
     "data": {
      "text/plain": [
       "current loss = 2.1931266637704\t\n",
       "current loss = 2.1927394367123\t\n"
      ]
     },
     "execution_count": 8,
     "metadata": {},
     "output_type": "execute_result"
    },
    {
     "data": {
      "text/plain": [
       "current loss = 2.1923525683915\t\n",
       "current loss = 2.1919660583393\t\n",
       "current loss = 2.1915799060878\t\n"
      ]
     },
     "execution_count": 8,
     "metadata": {},
     "output_type": "execute_result"
    },
    {
     "data": {
      "text/plain": [
       "current loss = 2.1911941111698\t\n",
       "current loss = 2.1908086731191\t\n",
       "current loss = 2.1904235914699\t\n"
      ]
     },
     "execution_count": 8,
     "metadata": {},
     "output_type": "execute_result"
    },
    {
     "data": {
      "text/plain": [
       "current loss = 2.1900388657575\t\n",
       "current loss = 2.1896544955178\t\n",
       "current loss = 2.1892704802875\t\n"
      ]
     },
     "execution_count": 8,
     "metadata": {},
     "output_type": "execute_result"
    },
    {
     "data": {
      "text/plain": [
       "current loss = 2.188886819604\t\n",
       "current loss = 2.1885035130054\t\n",
       "current loss = 2.1881205600308\t\n"
      ]
     },
     "execution_count": 8,
     "metadata": {},
     "output_type": "execute_result"
    },
    {
     "data": {
      "text/plain": [
       "current loss = 2.1877379602197\t\n",
       "current loss = 2.1873557131128\t\n"
      ]
     },
     "execution_count": 8,
     "metadata": {},
     "output_type": "execute_result"
    },
    {
     "data": {
      "text/plain": [
       "current loss = 2.1869738182511\t\n",
       "current loss = 2.1865922751766\t\n",
       "current loss = 2.1862110834321\t\n"
      ]
     },
     "execution_count": 8,
     "metadata": {},
     "output_type": "execute_result"
    },
    {
     "data": {
      "text/plain": [
       "current loss = 2.1858302425608\t\n",
       "current loss = 2.1854497521071\t\n",
       "current loss = 2.1850696116159\t\n"
      ]
     },
     "execution_count": 8,
     "metadata": {},
     "output_type": "execute_result"
    },
    {
     "data": {
      "text/plain": [
       "current loss = 2.1846898206327\t\n",
       "current loss = 2.1843103787041\t\n",
       "current loss = 2.1839312853771\t\n",
       "current loss = 2.1835525401997\t\n"
      ]
     },
     "execution_count": 8,
     "metadata": {},
     "output_type": "execute_result"
    },
    {
     "data": {
      "text/plain": [
       "current loss = 2.1831741427203\t\n",
       "current loss = 2.1827960924886\t\n",
       "current loss = 2.1824183890543\t\n"
      ]
     },
     "execution_count": 8,
     "metadata": {},
     "output_type": "execute_result"
    },
    {
     "data": {
      "text/plain": [
       "current loss = 2.1820410319685\t\n",
       "current loss = 2.1816640207826\t\n",
       "current loss = 2.1812873550489\t\n",
       "current loss = 2.1809110343204\t\n"
      ]
     },
     "execution_count": 8,
     "metadata": {},
     "output_type": "execute_result"
    },
    {
     "data": {
      "text/plain": [
       "current loss = 2.1805350581509\t\n",
       "current loss = 2.1801594260947\t\n",
       "current loss = 2.179784137707\t\n"
      ]
     },
     "execution_count": 8,
     "metadata": {},
     "output_type": "execute_result"
    },
    {
     "data": {
      "text/plain": [
       "current loss = 2.1794091925437\t\n"
      ]
     },
     "execution_count": 8,
     "metadata": {},
     "output_type": "execute_result"
    },
    {
     "data": {
      "text/plain": [
       "current loss = 2.1790345901615\t\n",
       "current loss = 2.1786603301177\t\n",
       "current loss = 2.1782864119702\t\n"
      ]
     },
     "execution_count": 8,
     "metadata": {},
     "output_type": "execute_result"
    },
    {
     "data": {
      "text/plain": [
       "current loss = 2.1779128352779\t\n",
       "current loss = 2.1775395996003\t\n",
       "current loss = 2.1771667044975\t\n"
      ]
     },
     "execution_count": 8,
     "metadata": {},
     "output_type": "execute_result"
    },
    {
     "data": {
      "text/plain": [
       "current loss = 2.1767941495304\t\n",
       "current loss = 2.1764219342607\t\n",
       "current loss = 2.1760500582506\t\n"
      ]
     },
     "execution_count": 8,
     "metadata": {},
     "output_type": "execute_result"
    },
    {
     "data": {
      "text/plain": [
       "current loss = 2.1756785210632\t\n",
       "current loss = 2.1753073222623\t\n",
       "current loss = 2.1749364614121\t\n"
      ]
     },
     "execution_count": 8,
     "metadata": {},
     "output_type": "execute_result"
    },
    {
     "data": {
      "text/plain": [
       "current loss = 2.174565938078\t\n",
       "current loss = 2.1741957518258\t\n"
      ]
     },
     "execution_count": 8,
     "metadata": {},
     "output_type": "execute_result"
    },
    {
     "data": {
      "text/plain": [
       "current loss = 2.1738259022219\t\n",
       "current loss = 2.1734563888336\t\n",
       "current loss = 2.1730872112289\t\n"
      ]
     },
     "execution_count": 8,
     "metadata": {},
     "output_type": "execute_result"
    },
    {
     "data": {
      "text/plain": [
       "current loss = 2.1727183689764\t\n",
       "current loss = 2.1723498616455\t\n"
      ]
     },
     "execution_count": 8,
     "metadata": {},
     "output_type": "execute_result"
    },
    {
     "data": {
      "text/plain": [
       "current loss = 2.1719816888061\t\n",
       "current loss = 2.171613850029\t\n",
       "current loss = 2.1712463448857\t\n"
      ]
     },
     "execution_count": 8,
     "metadata": {},
     "output_type": "execute_result"
    },
    {
     "data": {
      "text/plain": [
       "current loss = 2.1708791729481\t\n"
      ]
     },
     "execution_count": 8,
     "metadata": {},
     "output_type": "execute_result"
    },
    {
     "data": {
      "text/plain": [
       "current loss = 2.1705123337891\t\n"
      ]
     },
     "execution_count": 8,
     "metadata": {},
     "output_type": "execute_result"
    },
    {
     "data": {
      "text/plain": [
       "current loss = 2.1701458269821\t\n"
      ]
     },
     "execution_count": 8,
     "metadata": {},
     "output_type": "execute_result"
    },
    {
     "data": {
      "text/plain": [
       "current loss = 2.1697796521015\t\n",
       "current loss = 2.1694138087218\t\n",
       "current loss = 2.1690482964188\t\n"
      ]
     },
     "execution_count": 8,
     "metadata": {},
     "output_type": "execute_result"
    },
    {
     "data": {
      "text/plain": [
       "current loss = 2.1686831147687\t\n",
       "current loss = 2.1683182633483\t\n",
       "current loss = 2.1679537417351\t\n",
       "current loss = 2.1675895495076\t\n"
      ]
     },
     "execution_count": 8,
     "metadata": {},
     "output_type": "execute_result"
    },
    {
     "data": {
      "text/plain": [
       "current loss = 2.1672256862445\t\n",
       "current loss = 2.1668621515255\t\n"
      ]
     },
     "execution_count": 8,
     "metadata": {},
     "output_type": "execute_result"
    },
    {
     "data": {
      "text/plain": [
       "current loss = 2.1664989449309\t\n",
       "current loss = 2.1661360660416\t\n",
       "current loss = 2.1657735144393\t\n"
      ]
     },
     "execution_count": 8,
     "metadata": {},
     "output_type": "execute_result"
    },
    {
     "data": {
      "text/plain": [
       "current loss = 2.1654112897062\t\n",
       "current loss = 2.1650493914253\t\n",
       "current loss = 2.1646878191803\t\n"
      ]
     },
     "execution_count": 8,
     "metadata": {},
     "output_type": "execute_result"
    },
    {
     "data": {
      "text/plain": [
       "current loss = 2.1643265725555\t\n",
       "current loss = 2.1639656511358\t\n",
       "current loss = 2.1636050545068\t\n",
       "current loss = 2.1632447822549\t\n"
      ]
     },
     "execution_count": 8,
     "metadata": {},
     "output_type": "execute_result"
    },
    {
     "data": {
      "text/plain": [
       "current loss = 2.1628848339669\t\n",
       "current loss = 2.1625252092306\t\n",
       "current loss = 2.1621659076342\t\n"
      ]
     },
     "execution_count": 8,
     "metadata": {},
     "output_type": "execute_result"
    },
    {
     "data": {
      "text/plain": [
       "current loss = 2.1618069287666\t\n",
       "current loss = 2.1614482722174\t\n",
       "current loss = 2.1610899375769\t\n",
       "current loss = 2.160731924436\t\n"
      ]
     },
     "execution_count": 8,
     "metadata": {},
     "output_type": "execute_result"
    },
    {
     "data": {
      "text/plain": [
       "current loss = 2.1603742323861\t\n",
       "current loss = 2.1600168610196\t\n",
       "current loss = 2.1596598099293\t\n",
       "current loss = 2.1593030787086\t\n"
      ]
     },
     "execution_count": 8,
     "metadata": {},
     "output_type": "execute_result"
    },
    {
     "data": {
      "text/plain": [
       "current loss = 2.1589466669518\t\n",
       "current loss = 2.1585905742536\t\n",
       "current loss = 2.1582348002095\t\n",
       "current loss = 2.1578793444156\t\n",
       "current loss = 2.1575242064685\t\n"
      ]
     },
     "execution_count": 8,
     "metadata": {},
     "output_type": "execute_result"
    },
    {
     "data": {
      "text/plain": [
       "current loss = 2.1571693859658\t\n",
       "current loss = 2.1568148825053\t\n",
       "current loss = 2.1564606956858\t\n",
       "current loss = 2.1561068251065\t\n"
      ]
     },
     "execution_count": 8,
     "metadata": {},
     "output_type": "execute_result"
    },
    {
     "data": {
      "text/plain": [
       "current loss = 2.1557532703674\t\n",
       "current loss = 2.155400031069\t\n",
       "current loss = 2.1550471068126\t\n"
      ]
     },
     "execution_count": 8,
     "metadata": {},
     "output_type": "execute_result"
    },
    {
     "data": {
      "text/plain": [
       "current loss = 2.1546944971999\t\n",
       "current loss = 2.1543422018335\t\n",
       "current loss = 2.1539902203164\t\n",
       "current loss = 2.1536385522524\t\n"
      ]
     },
     "execution_count": 8,
     "metadata": {},
     "output_type": "execute_result"
    },
    {
     "data": {
      "text/plain": [
       "current loss = 2.1532871972458\t\n",
       "current loss = 2.1529361549016\t\n",
       "current loss = 2.1525854248255\t\n",
       "current loss = 2.1522350066236\t\n"
      ]
     },
     "execution_count": 8,
     "metadata": {},
     "output_type": "execute_result"
    },
    {
     "data": {
      "text/plain": [
       "current loss = 2.1518848999028\t\n",
       "current loss = 2.1515351042706\t\n",
       "current loss = 2.1511856193351\t\n",
       "current loss = 2.1508364447051\t\n"
      ]
     },
     "execution_count": 8,
     "metadata": {},
     "output_type": "execute_result"
    },
    {
     "data": {
      "text/plain": [
       "current loss = 2.1504875799898\t\n",
       "current loss = 2.1501390247993\t\n",
       "current loss = 2.1497907787441\t\n",
       "current loss = 2.1494428414354\t\n",
       "current loss = 2.1490952124851\t\n"
      ]
     },
     "execution_count": 8,
     "metadata": {},
     "output_type": "execute_result"
    },
    {
     "data": {
      "text/plain": [
       "current loss = 2.1487478915055\t\n",
       "current loss = 2.1484008781096\t\n",
       "current loss = 2.1480541719113\t\n",
       "current loss = 2.1477077725246\t\n"
      ]
     },
     "execution_count": 8,
     "metadata": {},
     "output_type": "execute_result"
    },
    {
     "data": {
      "text/plain": [
       "current loss = 2.1473616795644\t\n",
       "current loss = 2.1470158926463\t\n",
       "current loss = 2.1466704113864\t\n",
       "current loss = 2.1463252354012\t\n"
      ]
     },
     "execution_count": 8,
     "metadata": {},
     "output_type": "execute_result"
    },
    {
     "data": {
      "text/plain": [
       "current loss = 2.1459803643082\t\n",
       "current loss = 2.1456357977251\t\n",
       "current loss = 2.1452915352705\t\n"
      ]
     },
     "execution_count": 8,
     "metadata": {},
     "output_type": "execute_result"
    },
    {
     "data": {
      "text/plain": [
       "current loss = 2.1449475765635\t\n",
       "current loss = 2.1446039212238\t\n",
       "current loss = 2.1442605688717\t\n",
       "current loss = 2.143917519128\t\n"
      ]
     },
     "execution_count": 8,
     "metadata": {},
     "output_type": "execute_result"
    },
    {
     "data": {
      "text/plain": [
       "current loss = 2.1435747716144\t\n",
       "current loss = 2.1432323259527\t\n",
       "current loss = 2.1428901817659\t\n",
       "current loss = 2.142548338677\t\n"
      ]
     },
     "execution_count": 8,
     "metadata": {},
     "output_type": "execute_result"
    },
    {
     "data": {
      "text/plain": [
       "current loss = 2.14220679631\t\n",
       "current loss = 2.1418655542893\t\n",
       "current loss = 2.1415246122401\t\n",
       "current loss = 2.1411839697878\t\n"
      ]
     },
     "execution_count": 8,
     "metadata": {},
     "output_type": "execute_result"
    },
    {
     "data": {
      "text/plain": [
       "current loss = 2.1408436265588\t\n",
       "current loss = 2.1405035821798\t\n",
       "current loss = 2.1401638362783\t\n",
       "current loss = 2.1398243884822\t\n"
      ]
     },
     "execution_count": 8,
     "metadata": {},
     "output_type": "execute_result"
    },
    {
     "data": {
      "text/plain": [
       "current loss = 2.1394852384201\t\n",
       "current loss = 2.1391463857211\t\n",
       "current loss = 2.138807830015\t\n",
       "current loss = 2.1384695709321\t\n"
      ]
     },
     "execution_count": 8,
     "metadata": {},
     "output_type": "execute_result"
    },
    {
     "data": {
      "text/plain": [
       "current loss = 2.1381316081032\t\n",
       "current loss = 2.1377939411599\t\n",
       "current loss = 2.1374565697341\t\n"
      ]
     },
     "execution_count": 8,
     "metadata": {},
     "output_type": "execute_result"
    },
    {
     "data": {
      "text/plain": [
       "current loss = 2.1371194934585\t\n",
       "current loss = 2.1367827119662\t\n",
       "current loss = 2.1364462248911\t\n",
       "current loss = 2.1361100318675\t\n"
      ]
     },
     "execution_count": 8,
     "metadata": {},
     "output_type": "execute_result"
    },
    {
     "data": {
      "text/plain": [
       "current loss = 2.1357741325302\t\n",
       "current loss = 2.1354385265148\t\n",
       "current loss = 2.1351032134573\t\n",
       "current loss = 2.1347681929944\t\n"
      ]
     },
     "execution_count": 8,
     "metadata": {},
     "output_type": "execute_result"
    },
    {
     "data": {
      "text/plain": [
       "current loss = 2.1344334647631\t\n",
       "current loss = 2.1340990284013\t\n",
       "current loss = 2.1337648835473\t\n",
       "current loss = 2.13343102984\t\n"
      ]
     },
     "execution_count": 8,
     "metadata": {},
     "output_type": "execute_result"
    },
    {
     "data": {
      "text/plain": [
       "current loss = 2.1330974669187\t\n",
       "current loss = 2.1327641944235\t\n",
       "current loss = 2.132431211995\t\n"
      ]
     },
     "execution_count": 8,
     "metadata": {},
     "output_type": "execute_result"
    },
    {
     "data": {
      "text/plain": [
       "current loss = 2.1320985192743\t\n",
       "current loss = 2.1317661159031\t\n",
       "current loss = 2.1314340015236\t\n",
       "current loss = 2.1311021757787\t\n"
      ]
     },
     "execution_count": 8,
     "metadata": {},
     "output_type": "execute_result"
    },
    {
     "data": {
      "text/plain": [
       "current loss = 2.1307706383116\t\n",
       "current loss = 2.1304393887663\t\n",
       "current loss = 2.1301084267872\t\n",
       "current loss = 2.1297777520194\t\n"
      ]
     },
     "execution_count": 8,
     "metadata": {},
     "output_type": "execute_result"
    },
    {
     "data": {
      "text/plain": [
       "current loss = 2.1294473641085\t\n",
       "current loss = 2.1291172627005\t\n",
       "current loss = 2.1287874474421\t\n",
       "current loss = 2.1284579179806\t\n",
       "current loss = 2.1281286739637\t\n"
      ]
     },
     "execution_count": 8,
     "metadata": {},
     "output_type": "execute_result"
    },
    {
     "data": {
      "text/plain": [
       "current loss = 2.1277997150397\t\n",
       "current loss = 2.1274710408574\t\n",
       "current loss = 2.1271426510664\t\n",
       "current loss = 2.1268145453164\t\n"
      ]
     },
     "execution_count": 8,
     "metadata": {},
     "output_type": "execute_result"
    },
    {
     "data": {
      "text/plain": [
       "current loss = 2.1264867232581\t\n",
       "current loss = 2.1261591845424\t\n",
       "current loss = 2.1258319288209\t\n",
       "current loss = 2.1255049557458\t\n"
      ]
     },
     "execution_count": 8,
     "metadata": {},
     "output_type": "execute_result"
    },
    {
     "data": {
      "text/plain": [
       "current loss = 2.1251782649696\t\n",
       "current loss = 2.1248518561455\t\n",
       "current loss = 2.1245257289274\t\n",
       "current loss = 2.1241998829693\t\n"
      ]
     },
     "execution_count": 8,
     "metadata": {},
     "output_type": "execute_result"
    },
    {
     "data": {
      "text/plain": [
       "current loss = 2.1238743179263\t\n",
       "current loss = 2.1235490334534\t\n",
       "current loss = 2.1232240292067\t\n",
       "current loss = 2.1228993048425\t\n"
      ]
     },
     "execution_count": 8,
     "metadata": {},
     "output_type": "execute_result"
    },
    {
     "data": {
      "text/plain": [
       "current loss = 2.1225748600177\t\n",
       "current loss = 2.1222506943898\t\n",
       "current loss = 2.1219268076167\t\n"
      ]
     },
     "execution_count": 8,
     "metadata": {},
     "output_type": "execute_result"
    },
    {
     "data": {
      "text/plain": [
       "current loss = 2.121603199357\t\n",
       "current loss = 2.1212798692698\t\n",
       "current loss = 2.1209568170144\t\n"
      ]
     },
     "execution_count": 8,
     "metadata": {},
     "output_type": "execute_result"
    },
    {
     "data": {
      "text/plain": [
       "current loss = 2.1206340422512\t\n",
       "current loss = 2.1203115446406\t\n",
       "current loss = 2.1199893238438\t\n",
       "current loss = 2.1196673795224\t\n",
       "current loss = 2.1193457113387\t\n"
      ]
     },
     "execution_count": 8,
     "metadata": {},
     "output_type": "execute_result"
    },
    {
     "data": {
      "text/plain": [
       "current loss = 2.1190243189553\t\n",
       "current loss = 2.1187032020354\t\n",
       "current loss = 2.1183823602429\t\n",
       "current loss = 2.1180617932418\t\n"
      ]
     },
     "execution_count": 8,
     "metadata": {},
     "output_type": "execute_result"
    },
    {
     "data": {
      "text/plain": [
       "current loss = 2.117741500697\t\n",
       "current loss = 2.1174214822738\t\n",
       "current loss = 2.117101737638\t\n"
      ]
     },
     "execution_count": 8,
     "metadata": {},
     "output_type": "execute_result"
    },
    {
     "data": {
      "text/plain": [
       "current loss = 2.1167822664558\t\n",
       "current loss = 2.1164630683942\t\n",
       "current loss = 2.1161441431204\t\n",
       "current loss = 2.1158254903022\t\n"
      ]
     },
     "execution_count": 8,
     "metadata": {},
     "output_type": "execute_result"
    },
    {
     "data": {
      "text/plain": [
       "current loss = 2.1155071096082\t\n",
       "current loss = 2.115189000707\t\n",
       "current loss = 2.1148711632681\t\n",
       "current loss = 2.1145535969613\t\n"
      ]
     },
     "execution_count": 8,
     "metadata": {},
     "output_type": "execute_result"
    },
    {
     "data": {
      "text/plain": [
       "current loss = 2.1142363014572\t\n",
       "current loss = 2.1139192764264\t\n",
       "current loss = 2.1136025215405\t\n",
       "current loss = 2.1132860364713\t\n"
      ]
     },
     "execution_count": 8,
     "metadata": {},
     "output_type": "execute_result"
    },
    {
     "data": {
      "text/plain": [
       "current loss = 2.1129698208912\t\n",
       "current loss = 2.1126538744731\t\n",
       "current loss = 2.1123381968905\t\n",
       "current loss = 2.1120227878172\t\n",
       "current loss = 2.1117076469276\t\n"
      ]
     },
     "execution_count": 8,
     "metadata": {},
     "output_type": "execute_result"
    },
    {
     "data": {
      "text/plain": [
       "current loss = 2.1113927738967\t\n",
       "current loss = 2.1110781683998\t\n",
       "current loss = 2.1107638301128\t\n",
       "current loss = 2.1104497587121\t\n"
      ]
     },
     "execution_count": 8,
     "metadata": {},
     "output_type": "execute_result"
    },
    {
     "data": {
      "text/plain": [
       "current loss = 2.1101359538746\t\n",
       "current loss = 2.1098224152777\t\n",
       "current loss = 2.1095091425992\t\n",
       "current loss = 2.1091961355175\t\n"
      ]
     },
     "execution_count": 8,
     "metadata": {},
     "output_type": "execute_result"
    },
    {
     "data": {
      "text/plain": [
       "current loss = 2.1088833937114\t\n",
       "current loss = 2.1085709168603\t\n",
       "current loss = 2.108258704644\t\n",
       "current loss = 2.1079467567428\t\n"
      ]
     },
     "execution_count": 8,
     "metadata": {},
     "output_type": "execute_result"
    },
    {
     "data": {
      "text/plain": [
       "current loss = 2.1076350728375\t\n",
       "current loss = 2.1073236526094\t\n"
      ]
     },
     "execution_count": 8,
     "metadata": {},
     "output_type": "execute_result"
    },
    {
     "data": {
      "text/plain": [
       "current loss = 2.1070124957403\t\n",
       "current loss = 2.1067016019124\t\n",
       "current loss = 2.1063909708085\t\n"
      ]
     },
     "execution_count": 8,
     "metadata": {},
     "output_type": "execute_result"
    },
    {
     "data": {
      "text/plain": [
       "current loss = 2.1060806021118\t\n",
       "current loss = 2.1057704955061\t\n"
      ]
     },
     "execution_count": 8,
     "metadata": {},
     "output_type": "execute_result"
    },
    {
     "data": {
      "text/plain": [
       "current loss = 2.1054606506754\t\n",
       "current loss = 2.1051510673045\t\n",
       "current loss = 2.1048417450784\t\n",
       "current loss = 2.104532683683\t\n"
      ]
     },
     "execution_count": 8,
     "metadata": {},
     "output_type": "execute_result"
    },
    {
     "data": {
      "text/plain": [
       "current loss = 2.1042238828042\t\n",
       "current loss = 2.1039153421285\t\n",
       "current loss = 2.1036070613432\t\n"
      ]
     },
     "execution_count": 8,
     "metadata": {},
     "output_type": "execute_result"
    },
    {
     "data": {
      "text/plain": [
       "current loss = 2.1032990401356\t\n",
       "current loss = 2.1029912781939\t\n",
       "current loss = 2.1026837752065\t\n",
       "current loss = 2.1023765308622\t\n"
      ]
     },
     "execution_count": 8,
     "metadata": {},
     "output_type": "execute_result"
    },
    {
     "data": {
      "text/plain": [
       "current loss = 2.1020695448506\t\n",
       "current loss = 2.1017628168616\t\n",
       "current loss = 2.1014563465855\t\n"
      ]
     },
     "execution_count": 8,
     "metadata": {},
     "output_type": "execute_result"
    },
    {
     "data": {
      "text/plain": [
       "current loss = 2.1011501337131\t\n",
       "current loss = 2.1008441779357\t\n"
      ]
     },
     "execution_count": 8,
     "metadata": {},
     "output_type": "execute_result"
    },
    {
     "data": {
      "text/plain": [
       "current loss = 2.1005384789451\t\n",
       "current loss = 2.1002330364336\t\n",
       "current loss = 2.0999278500937\t\n"
      ]
     },
     "execution_count": 8,
     "metadata": {},
     "output_type": "execute_result"
    },
    {
     "data": {
      "text/plain": [
       "current loss = 2.0996229196188\t\n",
       "current loss = 2.0993182447023\t\n",
       "current loss = 2.0990138250385\t\n",
       "current loss = 2.0987096603218\t\n"
      ]
     },
     "execution_count": 8,
     "metadata": {},
     "output_type": "execute_result"
    },
    {
     "data": {
      "text/plain": [
       "current loss = 2.0984057502473\t\n",
       "current loss = 2.0981020945104\t\n",
       "current loss = 2.0977986928071\t\n"
      ]
     },
     "execution_count": 8,
     "metadata": {},
     "output_type": "execute_result"
    },
    {
     "data": {
      "text/plain": [
       "current loss = 2.0974955448337\t\n",
       "current loss = 2.0971926502872\t\n",
       "current loss = 2.0968900088647\t\n"
      ]
     },
     "execution_count": 8,
     "metadata": {},
     "output_type": "execute_result"
    },
    {
     "data": {
      "text/plain": [
       "current loss = 2.0965876202642\t\n",
       "current loss = 2.0962854841837\t\n",
       "current loss = 2.095983600322\t\n"
      ]
     },
     "execution_count": 8,
     "metadata": {},
     "output_type": "execute_result"
    },
    {
     "data": {
      "text/plain": [
       "current loss = 2.0956819683782\t\n",
       "current loss = 2.0953805880518\t\n",
       "current loss = 2.095079459043\t\n",
       "current loss = 2.0947785810522\t\n"
      ]
     },
     "execution_count": 8,
     "metadata": {},
     "output_type": "execute_result"
    },
    {
     "data": {
      "text/plain": [
       "current loss = 2.0944779537803\t\n",
       "current loss = 2.0941775769287\t\n"
      ]
     },
     "execution_count": 8,
     "metadata": {},
     "output_type": "execute_result"
    },
    {
     "data": {
      "text/plain": [
       "current loss = 2.0938774501992\t\n",
       "current loss = 2.0935775732942\t\n",
       "current loss = 2.0932779459164\t\n"
      ]
     },
     "execution_count": 8,
     "metadata": {},
     "output_type": "execute_result"
    },
    {
     "data": {
      "text/plain": [
       "current loss = 2.0929785677688\t\n",
       "current loss = 2.0926794385553\t\n",
       "current loss = 2.0923805579798\t\n"
      ]
     },
     "execution_count": 8,
     "metadata": {},
     "output_type": "execute_result"
    },
    {
     "data": {
      "text/plain": [
       "current loss = 2.0920819257468\t\n",
       "current loss = 2.0917835415613\t\n",
       "current loss = 2.0914854051286\t\n",
       "current loss = 2.0911875161548\t\n"
      ]
     },
     "execution_count": 8,
     "metadata": {},
     "output_type": "execute_result"
    },
    {
     "data": {
      "text/plain": [
       "current loss = 2.0908898743459\t\n",
       "current loss = 2.0905924794087\t\n",
       "current loss = 2.0902953310505\t\n"
      ]
     },
     "execution_count": 8,
     "metadata": {},
     "output_type": "execute_result"
    },
    {
     "data": {
      "text/plain": [
       "current loss = 2.0899984289787\t\n",
       "current loss = 2.0897017729015\t\n",
       "current loss = 2.0894053625273\t\n"
      ]
     },
     "execution_count": 8,
     "metadata": {},
     "output_type": "execute_result"
    },
    {
     "data": {
      "text/plain": [
       "current loss = 2.089109197565\t\n",
       "current loss = 2.088813277724\t\n",
       "current loss = 2.0885176027139\t\n"
      ]
     },
     "execution_count": 8,
     "metadata": {},
     "output_type": "execute_result"
    },
    {
     "data": {
      "text/plain": [
       "current loss = 2.0882221722452\t\n",
       "current loss = 2.0879269860284\t\n"
      ]
     },
     "execution_count": 8,
     "metadata": {},
     "output_type": "execute_result"
    },
    {
     "data": {
      "text/plain": [
       "current loss = 2.0876320437746\t\n",
       "current loss = 2.0873373451952\t\n",
       "current loss = 2.0870428900024\t\n"
      ]
     },
     "execution_count": 8,
     "metadata": {},
     "output_type": "execute_result"
    },
    {
     "data": {
      "text/plain": [
       "current loss = 2.0867486779083\t\n",
       "current loss = 2.0864547086259\t\n",
       "current loss = 2.0861609818683\t\n",
       "current loss = 2.0858674973493\t\n"
      ]
     },
     "execution_count": 8,
     "metadata": {},
     "output_type": "execute_result"
    },
    {
     "data": {
      "text/plain": [
       "current loss = 2.0855742547829\t\n",
       "current loss = 2.0852812538836\t\n",
       "current loss = 2.0849884943663\t\n"
      ]
     },
     "execution_count": 8,
     "metadata": {},
     "output_type": "execute_result"
    },
    {
     "data": {
      "text/plain": [
       "current loss = 2.0846959759465\t\n",
       "current loss = 2.0844036983399\t\n",
       "current loss = 2.0841116612628\t\n"
      ]
     },
     "execution_count": 8,
     "metadata": {},
     "output_type": "execute_result"
    },
    {
     "data": {
      "text/plain": [
       "current loss = 2.0838198644317\t\n",
       "current loss = 2.0835283075638\t\n",
       "current loss = 2.0832369903764\t\n",
       "current loss = 2.0829459125875\t\n"
      ]
     },
     "execution_count": 8,
     "metadata": {},
     "output_type": "execute_result"
    },
    {
     "data": {
      "text/plain": [
       "current loss = 2.0826550739155\t\n",
       "current loss = 2.0823644740791\t\n"
      ]
     },
     "execution_count": 8,
     "metadata": {},
     "output_type": "execute_result"
    },
    {
     "data": {
      "text/plain": [
       "current loss = 2.0820741127973\t\n",
       "current loss = 2.0817839897898\t\n"
      ]
     },
     "execution_count": 8,
     "metadata": {},
     "output_type": "execute_result"
    },
    {
     "data": {
      "text/plain": [
       "current loss = 2.0814941047766\t\n",
       "current loss = 2.0812044574781\t\n",
       "current loss = 2.0809150476151\t\n"
      ]
     },
     "execution_count": 8,
     "metadata": {},
     "output_type": "execute_result"
    },
    {
     "data": {
      "text/plain": [
       "current loss = 2.0806258749089\t\n",
       "current loss = 2.080336939081\t\n",
       "current loss = 2.0800482398535\t\n"
      ]
     },
     "execution_count": 8,
     "metadata": {},
     "output_type": "execute_result"
    },
    {
     "data": {
      "text/plain": [
       "current loss = 2.079759776949\t\n",
       "current loss = 2.0794715500903\t\n",
       "current loss = 2.0791835590008\t\n"
      ]
     },
     "execution_count": 8,
     "metadata": {},
     "output_type": "execute_result"
    },
    {
     "data": {
      "text/plain": [
       "current loss = 2.078895803404\t\n",
       "current loss = 2.0786082830241\t\n",
       "current loss = 2.0783209975858\t\n"
      ]
     },
     "execution_count": 8,
     "metadata": {},
     "output_type": "execute_result"
    },
    {
     "data": {
      "text/plain": [
       "current loss = 2.0780339468138\t\n",
       "current loss = 2.0777471304335\t\n",
       "current loss = 2.0774605481707\t\n"
      ]
     },
     "execution_count": 8,
     "metadata": {},
     "output_type": "execute_result"
    },
    {
     "data": {
      "text/plain": [
       "current loss = 2.0771741997515\t\n",
       "current loss = 2.0768880849025\t\n",
       "current loss = 2.0766022033507\t\n"
      ]
     },
     "execution_count": 8,
     "metadata": {},
     "output_type": "execute_result"
    },
    {
     "data": {
      "text/plain": [
       "current loss = 2.0763165548234\t\n",
       "current loss = 2.0760311390483\t\n",
       "current loss = 2.0757459557538\t\n"
      ]
     },
     "execution_count": 8,
     "metadata": {},
     "output_type": "execute_result"
    },
    {
     "data": {
      "text/plain": [
       "current loss = 2.0754610046682\t\n"
      ]
     },
     "execution_count": 8,
     "metadata": {},
     "output_type": "execute_result"
    },
    {
     "data": {
      "text/plain": [
       "current loss = 2.0751762855206\t\n"
      ]
     },
     "execution_count": 8,
     "metadata": {},
     "output_type": "execute_result"
    },
    {
     "data": {
      "text/plain": [
       "current loss = 2.0748917980404\t\n"
      ]
     },
     "execution_count": 8,
     "metadata": {},
     "output_type": "execute_result"
    },
    {
     "data": {
      "text/plain": [
       "current loss = 2.0746075419574\t\n",
       "current loss = 2.0743235170016\t\n",
       "current loss = 2.0740397229038\t\n",
       "current loss = 2.0737561593948\t\n"
      ]
     },
     "execution_count": 8,
     "metadata": {},
     "output_type": "execute_result"
    },
    {
     "data": {
      "text/plain": [
       "current loss = 2.073472826206\t\n",
       "current loss = 2.0731897230692\t\n",
       "current loss = 2.0729068497165\t\n"
      ]
     },
     "execution_count": 8,
     "metadata": {},
     "output_type": "execute_result"
    },
    {
     "data": {
      "text/plain": [
       "current loss = 2.0726242058804\t\n",
       "current loss = 2.072341791294\t\n",
       "current loss = 2.0720596056906\t\n"
      ]
     },
     "execution_count": 8,
     "metadata": {},
     "output_type": "execute_result"
    },
    {
     "data": {
      "text/plain": [
       "current loss = 2.0717776488038\t\n",
       "current loss = 2.0714959203678\t\n"
      ]
     },
     "execution_count": 8,
     "metadata": {},
     "output_type": "execute_result"
    },
    {
     "data": {
      "text/plain": [
       "current loss = 2.0712144201172\t\n",
       "current loss = 2.0709331477867\t\n",
       "current loss = 2.0706521031118\t\n"
      ]
     },
     "execution_count": 8,
     "metadata": {},
     "output_type": "execute_result"
    },
    {
     "data": {
      "text/plain": [
       "current loss = 2.070371285828\t\n",
       "current loss = 2.0700906956715\t\n",
       "current loss = 2.0698103323787\t\n"
      ]
     },
     "execution_count": 8,
     "metadata": {},
     "output_type": "execute_result"
    },
    {
     "data": {
      "text/plain": [
       "current loss = 2.0695301956865\t\n",
       "current loss = 2.069250285332\t\n"
      ]
     },
     "execution_count": 8,
     "metadata": {},
     "output_type": "execute_result"
    },
    {
     "data": {
      "text/plain": [
       "current loss = 2.0689706010529\t\n",
       "current loss = 2.0686911425872\t\n",
       "current loss = 2.0684119096733\t\n",
       "current loss = 2.0681329020499\t\n"
      ]
     },
     "execution_count": 8,
     "metadata": {},
     "output_type": "execute_result"
    },
    {
     "data": {
      "text/plain": [
       "current loss = 2.0678541194563\t\n",
       "current loss = 2.0675755616318\t\n"
      ]
     },
     "execution_count": 8,
     "metadata": {},
     "output_type": "execute_result"
    },
    {
     "data": {
      "text/plain": [
       "current loss = 2.0672972283166\t\n",
       "current loss = 2.0670191192507\t\n",
       "current loss = 2.0667412341749\t\n",
       "current loss = 2.0664635728304\t\n",
       "current loss = 2.0661861349584\t\n"
      ]
     },
     "execution_count": 8,
     "metadata": {},
     "output_type": "execute_result"
    },
    {
     "data": {
      "text/plain": [
       "current loss = 2.0659089203008\t\n",
       "current loss = 2.0656319285999\t\n",
       "current loss = 2.0653551595981\t\n",
       "current loss = 2.0650786130384\t\n"
      ]
     },
     "execution_count": 8,
     "metadata": {},
     "output_type": "execute_result"
    },
    {
     "data": {
      "text/plain": [
       "current loss = 2.0648022886642\t\n",
       "current loss = 2.064526186219\t\n",
       "current loss = 2.0642503054471\t\n",
       "current loss = 2.0639746460928\t\n",
       "current loss = 2.063699207901\t\n"
      ]
     },
     "execution_count": 8,
     "metadata": {},
     "output_type": "execute_result"
    },
    {
     "data": {
      "text/plain": [
       "current loss = 2.0634239906168\t\n",
       "current loss = 2.0631489939858\t\n"
      ]
     },
     "execution_count": 8,
     "metadata": {},
     "output_type": "execute_result"
    },
    {
     "data": {
      "text/plain": [
       "current loss = 2.0628742177539\t\n",
       "current loss = 2.0625996616674\t\n",
       "current loss = 2.0623253254731\t\n",
       "current loss = 2.0620512089178\t\n",
       "current loss = 2.0617773117492\t\n"
      ]
     },
     "execution_count": 8,
     "metadata": {},
     "output_type": "execute_result"
    },
    {
     "data": {
      "text/plain": [
       "current loss = 2.0615036337148\t\n",
       "current loss = 2.0612301745629\t\n",
       "current loss = 2.0609569340419\t\n",
       "current loss = 2.0606839119008\t\n"
      ]
     },
     "execution_count": 8,
     "metadata": {},
     "output_type": "execute_result"
    },
    {
     "data": {
      "text/plain": [
       "current loss = 2.0604111078888\t\n",
       "current loss = 2.0601385217555\t\n",
       "current loss = 2.0598661532509\t\n",
       "current loss = 2.0595940021252\t\n"
      ]
     },
     "execution_count": 8,
     "metadata": {},
     "output_type": "execute_result"
    },
    {
     "data": {
      "text/plain": [
       "current loss = 2.0593220681292\t\n",
       "current loss = 2.059050351014\t\n",
       "current loss = 2.0587788505309\t\n"
      ]
     },
     "execution_count": 8,
     "metadata": {},
     "output_type": "execute_result"
    },
    {
     "data": {
      "text/plain": [
       "current loss = 2.0585075664318\t\n",
       "current loss = 2.0582364984687\t\n",
       "current loss = 2.0579656463943\t\n",
       "current loss = 2.0576950099612\t\n",
       "current loss = 2.0574245889229\t\n"
      ]
     },
     "execution_count": 8,
     "metadata": {},
     "output_type": "execute_result"
    },
    {
     "data": {
      "text/plain": [
       "current loss = 2.0571543830328\t\n",
       "current loss = 2.0568843920448\t\n",
       "current loss = 2.0566146157133\t\n"
      ]
     },
     "execution_count": 8,
     "metadata": {},
     "output_type": "execute_result"
    },
    {
     "data": {
      "text/plain": [
       "current loss = 2.0563450537929\t\n",
       "current loss = 2.0560757060386\t\n",
       "current loss = 2.0558065722058\t\n",
       "current loss = 2.0555376520501\t\n"
      ]
     },
     "execution_count": 8,
     "metadata": {},
     "output_type": "execute_result"
    },
    {
     "data": {
      "text/plain": [
       "current loss = 2.0552689453276\t\n",
       "current loss = 2.0550004517948\t\n",
       "current loss = 2.0547321712084\t\n"
      ]
     },
     "execution_count": 8,
     "metadata": {},
     "output_type": "execute_result"
    },
    {
     "data": {
      "text/plain": [
       "current loss = 2.0544641033256\t\n",
       "current loss = 2.0541962479037\t\n",
       "current loss = 2.0539286047006\t\n",
       "current loss = 2.0536611734746\t\n",
       "current loss = 2.053393953984\t"
      ]
     },
     "execution_count": 8,
     "metadata": {},
     "output_type": "execute_result"
    },
    {
     "data": {
      "text/plain": [
       "\n",
       "current loss = 2.0531269459878\t\n",
       "current loss = 2.0528601492453\t\n",
       "current loss = 2.0525935635158\t\n",
       "current loss = 2.0523271885595\t\n"
      ]
     },
     "execution_count": 8,
     "metadata": {},
     "output_type": "execute_result"
    },
    {
     "data": {
      "text/plain": [
       "current loss = 2.0520610241365\t\n",
       "current loss = 2.0517950700073\t\n",
       "current loss = 2.0515293259331\t\n"
      ]
     },
     "execution_count": 8,
     "metadata": {},
     "output_type": "execute_result"
    },
    {
     "data": {
      "text/plain": [
       "current loss = 2.051263791675\t\n",
       "current loss = 2.0509984669948\t\n",
       "current loss = 2.0507333516543\t\n"
      ]
     },
     "execution_count": 8,
     "metadata": {},
     "output_type": "execute_result"
    },
    {
     "data": {
      "text/plain": [
       "current loss = 2.0504684454159\t\n",
       "current loss = 2.0502037480423\t\n",
       "current loss = 2.0499392592965\t\n"
      ]
     },
     "execution_count": 8,
     "metadata": {},
     "output_type": "execute_result"
    },
    {
     "data": {
      "text/plain": [
       "current loss = 2.0496749789417\t\n",
       "current loss = 2.0494109067418\t\n",
       "current loss = 2.0491470424607\t\n",
       "current loss = 2.0488833858628\t\n"
      ]
     },
     "execution_count": 8,
     "metadata": {},
     "output_type": "execute_result"
    },
    {
     "data": {
      "text/plain": [
       "current loss = 2.0486199367129\t\n",
       "current loss = 2.0483566947758\t\n",
       "current loss = 2.0480936598171\t\n",
       "current loss = 2.0478308316024\t\n"
      ]
     },
     "execution_count": 8,
     "metadata": {},
     "output_type": "execute_result"
    },
    {
     "data": {
      "text/plain": [
       "current loss = 2.0475682098978\t\n",
       "current loss = 2.0473057944696\t\n",
       "current loss = 2.0470435850847\t\n",
       "current loss = 2.04678158151\t\n"
      ]
     },
     "execution_count": 8,
     "metadata": {},
     "output_type": "execute_result"
    },
    {
     "data": {
      "text/plain": [
       "current loss = 2.046519783513\t\n",
       "current loss = 2.0462581908614\t\n",
       "current loss = 2.0459968033232\t\n",
       "current loss = 2.0457356206668\t\n"
      ]
     },
     "execution_count": 8,
     "metadata": {},
     "output_type": "execute_result"
    },
    {
     "data": {
      "text/plain": [
       "current loss = 2.0454746426609\t\n",
       "current loss = 2.0452138690747\t\n",
       "current loss = 2.0449532996774\t\n"
      ]
     },
     "execution_count": 8,
     "metadata": {},
     "output_type": "execute_result"
    },
    {
     "data": {
      "text/plain": [
       "current loss = 2.0446929342388\t\n",
       "current loss = 2.044432772529\t\n",
       "current loss = 2.0441728143182\t\n"
      ]
     },
     "execution_count": 8,
     "metadata": {},
     "output_type": "execute_result"
    },
    {
     "data": {
      "text/plain": [
       "current loss = 2.0439130593773\t\n",
       "current loss = 2.0436535074773\t\n",
       "current loss = 2.0433941583894\t\n"
      ]
     },
     "execution_count": 8,
     "metadata": {},
     "output_type": "execute_result"
    },
    {
     "data": {
      "text/plain": [
       "current loss = 2.0431350118854\t\n",
       "current loss = 2.0428760677372\t\n",
       "current loss = 2.0426173257173\t\n",
       "current loss = 2.0423587855982\t\n"
      ]
     },
     "execution_count": 8,
     "metadata": {},
     "output_type": "execute_result"
    },
    {
     "data": {
      "text/plain": [
       "current loss = 2.042100447153\t\n",
       "current loss = 2.041842310155\t\n",
       "current loss = 2.0415843743778\t\n",
       "current loss = 2.0413266395953\t\n"
      ]
     },
     "execution_count": 8,
     "metadata": {},
     "output_type": "execute_result"
    },
    {
     "data": {
      "text/plain": [
       "current loss = 2.0410691055818\t\n",
       "current loss = 2.0408117721119\t\n",
       "current loss = 2.0405546389606\t\n",
       "current loss = 2.040297705903\t\n"
      ]
     },
     "execution_count": 8,
     "metadata": {},
     "output_type": "execute_result"
    },
    {
     "data": {
      "text/plain": [
       "current loss = 2.0400409727147\t\n",
       "current loss = 2.0397844391717\t\n",
       "current loss = 2.03952810505\t\n",
       "current loss = 2.0392719701263\t\n"
      ]
     },
     "execution_count": 8,
     "metadata": {},
     "output_type": "execute_result"
    },
    {
     "data": {
      "text/plain": [
       "current loss = 2.0390160341773\t\n",
       "current loss = 2.0387602969802\t\n"
      ]
     },
     "execution_count": 8,
     "metadata": {},
     "output_type": "execute_result"
    },
    {
     "data": {
      "text/plain": [
       "current loss = 2.0385047583125\t\n",
       "current loss = 2.0382494179519\t\n",
       "current loss = 2.0379942756765\t\n",
       "current loss = 2.0377393312648\t\n"
      ]
     },
     "execution_count": 8,
     "metadata": {},
     "output_type": "execute_result"
    },
    {
     "data": {
      "text/plain": [
       "current loss = 2.0374845844955\t\n",
       "current loss = 2.0372300351476\t\n",
       "current loss = 2.0369756830005\t\n",
       "current loss = 2.0367215278339\t\n"
      ]
     },
     "execution_count": 8,
     "metadata": {},
     "output_type": "execute_result"
    },
    {
     "data": {
      "text/plain": [
       "current loss = 2.0364675694276\t\n",
       "current loss = 2.0362138075621\t\n",
       "current loss = 2.035960242018\t\n",
       "current loss = 2.035706872576\t\n"
      ]
     },
     "execution_count": 8,
     "metadata": {},
     "output_type": "execute_result"
    },
    {
     "data": {
      "text/plain": [
       "current loss = 2.0354536990176\t\n",
       "current loss = 2.0352007211241\t\n",
       "current loss = 2.0349479386775\t\n",
       "current loss = 2.0346953514599\t\n",
       "current loss = 2.0344429592537\t\n"
      ]
     },
     "execution_count": 8,
     "metadata": {},
     "output_type": "execute_result"
    },
    {
     "data": {
      "text/plain": [
       "current loss = 2.0341907618418\t\n",
       "current loss = 2.0339387590072\t\n",
       "current loss = 2.0336869505333\t\n",
       "current loss = 2.0334353362038\t\n"
      ]
     },
     "execution_count": 8,
     "metadata": {},
     "output_type": "execute_result"
    },
    {
     "data": {
      "text/plain": [
       "current loss = 2.0331839158027\t\n",
       "current loss = 2.0329326891142\t\n",
       "current loss = 2.032681655923\t\n",
       "current loss = 2.032430816014\t\n"
      ]
     },
     "execution_count": 8,
     "metadata": {},
     "output_type": "execute_result"
    },
    {
     "data": {
      "text/plain": [
       "current loss = 2.0321801691725\t\n",
       "current loss = 2.0319297151838\t\n",
       "current loss = 2.0316794538339\t\n",
       "current loss = 2.0314293849089\t\n"
      ]
     },
     "execution_count": 8,
     "metadata": {},
     "output_type": "execute_result"
    },
    {
     "data": {
      "text/plain": [
       "current loss = 2.0311795081951\t\n",
       "current loss = 2.0309298234794\t\n",
       "current loss = 2.0306803305487\t\n",
       "current loss = 2.0304310291903\t\n"
      ]
     },
     "execution_count": 8,
     "metadata": {},
     "output_type": "execute_result"
    },
    {
     "data": {
      "text/plain": [
       "current loss = 2.0301819191919\t\n",
       "current loss = 2.0299330003415\t\n",
       "current loss = 2.0296842724271\t\n",
       "current loss = 2.0294357352374\t\n",
       "current loss = 2.0291873885612\t\n"
      ]
     },
     "execution_count": 8,
     "metadata": {},
     "output_type": "execute_result"
    },
    {
     "data": {
      "text/plain": [
       "current loss = 2.0289392321875\t\n",
       "current loss = 2.0286912659058\t\n",
       "current loss = 2.0284434895058\t\n",
       "current loss = 2.0281959027775\t\n"
      ]
     },
     "execution_count": 8,
     "metadata": {},
     "output_type": "execute_result"
    },
    {
     "data": {
      "text/plain": [
       "current loss = 2.0279485055112\t\n",
       "current loss = 2.0277012974974\t\n",
       "current loss = 2.0274542785271\t\n",
       "current loss = 2.0272074483915\t\n"
      ]
     },
     "execution_count": 8,
     "metadata": {},
     "output_type": "execute_result"
    },
    {
     "data": {
      "text/plain": [
       "current loss = 2.026960806882\t\n",
       "current loss = 2.0267143537904\t\n",
       "current loss = 2.0264680889087\t\n"
      ]
     },
     "execution_count": 8,
     "metadata": {},
     "output_type": "execute_result"
    },
    {
     "data": {
      "text/plain": [
       "current loss = 2.0262220120292\t\n",
       "current loss = 2.0259761229448\t\n",
       "current loss = 2.0257304214481\t\n"
      ]
     },
     "execution_count": 8,
     "metadata": {},
     "output_type": "execute_result"
    },
    {
     "data": {
      "text/plain": [
       "current loss = 2.0254849073326\t\n"
      ]
     },
     "execution_count": 8,
     "metadata": {},
     "output_type": "execute_result"
    },
    {
     "data": {
      "text/plain": [
       "current loss = 2.0252395803916\t\n",
       "current loss = 2.024994440419\t\n",
       "current loss = 2.0247494872089\t\n"
      ]
     },
     "execution_count": 8,
     "metadata": {},
     "output_type": "execute_result"
    },
    {
     "data": {
      "text/plain": [
       "current loss = 2.0245047205557\t\n",
       "current loss = 2.0242601402539\t\n",
       "current loss = 2.0240157460986\t\n"
      ]
     },
     "execution_count": 8,
     "metadata": {},
     "output_type": "execute_result"
    },
    {
     "data": {
      "text/plain": [
       "current loss = 2.023771537885\t\n",
       "current loss = 2.0235275154086\t\n",
       "current loss = 2.0232836784653\t\n",
       "current loss = 2.0230400268511\t\n"
      ]
     },
     "execution_count": 8,
     "metadata": {},
     "output_type": "execute_result"
    },
    {
     "data": {
      "text/plain": [
       "current loss = 2.0227965603624\t\n",
       "current loss = 2.0225532787959\t\n",
       "current loss = 2.0223101819485\t\n"
      ]
     },
     "execution_count": 8,
     "metadata": {},
     "output_type": "execute_result"
    },
    {
     "data": {
      "text/plain": [
       "current loss = 2.0220672696174\t\n",
       "current loss = 2.0218245416002\t\n",
       "current loss = 2.0215819976947\t\n",
       "current loss = 2.0213396376989\t\n"
      ]
     },
     "execution_count": 8,
     "metadata": {},
     "output_type": "execute_result"
    },
    {
     "data": {
      "text/plain": [
       "current loss = 2.0210974614112\t\n",
       "current loss = 2.0208554686302\t\n",
       "current loss = 2.020613659155\t\n"
      ]
     },
     "execution_count": 8,
     "metadata": {},
     "output_type": "execute_result"
    },
    {
     "data": {
      "text/plain": [
       "current loss = 2.0203720327845\t\n",
       "current loss = 2.0201305893185\t\n",
       "current loss = 2.0198893285565\t\n"
      ]
     },
     "execution_count": 8,
     "metadata": {},
     "output_type": "execute_result"
    },
    {
     "data": {
      "text/plain": [
       "current loss = 2.0196482502987\t\n",
       "current loss = 2.0194073543453\t\n",
       "current loss = 2.019166640497\t\n"
      ]
     },
     "execution_count": 8,
     "metadata": {},
     "output_type": "execute_result"
    },
    {
     "data": {
      "text/plain": [
       "current loss = 2.0189261085547\t\n",
       "current loss = 2.0186857583194\t\n",
       "current loss = 2.0184455895926\t\n",
       "current loss = 2.0182056021761\t\n"
      ]
     },
     "execution_count": 8,
     "metadata": {},
     "output_type": "execute_result"
    },
    {
     "data": {
      "text/plain": [
       "current loss = 2.0179657958717\t\n",
       "current loss = 2.0177261704818\t\n",
       "current loss = 2.0174867258089\t\n"
      ]
     },
     "execution_count": 8,
     "metadata": {},
     "output_type": "execute_result"
    },
    {
     "data": {
      "text/plain": [
       "current loss = 2.0172474616557\t\n",
       "current loss = 2.0170083778254\t\n",
       "current loss = 2.0167694741213\t\n"
      ]
     },
     "execution_count": 8,
     "metadata": {},
     "output_type": "execute_result"
    },
    {
     "data": {
      "text/plain": [
       "current loss = 2.016530750347\t\n",
       "current loss = 2.0162922063063\t\n",
       "current loss = 2.0160538418036\t\n"
      ]
     },
     "execution_count": 8,
     "metadata": {},
     "output_type": "execute_result"
    },
    {
     "data": {
      "text/plain": [
       "current loss = 2.0158156566432\t\n",
       "current loss = 2.0155776506298\t\n"
      ]
     },
     "execution_count": 8,
     "metadata": {},
     "output_type": "execute_result"
    },
    {
     "data": {
      "text/plain": [
       "current loss = 2.0153398235684\t\n",
       "current loss = 2.0151021752643\t\n",
       "current loss = 2.0148647055229\t\n",
       "current loss = 2.01462741415\t\n"
      ]
     },
     "execution_count": 8,
     "metadata": {},
     "output_type": "execute_result"
    },
    {
     "data": {
      "text/plain": [
       "current loss = 2.0143903009518\t\n",
       "current loss = 2.0141533657345\t\n",
       "current loss = 2.0139166083047\t\n"
      ]
     },
     "execution_count": 8,
     "metadata": {},
     "output_type": "execute_result"
    },
    {
     "data": {
      "text/plain": [
       "current loss = 2.0136800284693\t\n",
       "current loss = 2.0134436260354\t\n",
       "current loss = 2.0132074008104\t\n"
      ]
     },
     "execution_count": 8,
     "metadata": {},
     "output_type": "execute_result"
    },
    {
     "data": {
      "text/plain": [
       "current loss = 2.0129713526019\t\n",
       "current loss = 2.012735481218\t\n",
       "current loss = 2.0124997864667\t\n",
       "current loss = 2.0122642681565\t\n"
      ]
     },
     "execution_count": 8,
     "metadata": {},
     "output_type": "execute_result"
    },
    {
     "data": {
      "text/plain": [
       "current loss = 2.0120289260961\t\n",
       "current loss = 2.0117937600946\t\n",
       "current loss = 2.0115587699612\t\n"
      ]
     },
     "execution_count": 8,
     "metadata": {},
     "output_type": "execute_result"
    },
    {
     "data": {
      "text/plain": [
       "current loss = 2.0113239555054\t\n",
       "current loss = 2.0110893165369\t\n",
       "current loss = 2.0108548528657\t\n"
      ]
     },
     "execution_count": 8,
     "metadata": {},
     "output_type": "execute_result"
    },
    {
     "data": {
      "text/plain": [
       "current loss = 2.0106205643023\t\n",
       "current loss = 2.0103864506571\t\n",
       "current loss = 2.0101525117409\t\n"
      ]
     },
     "execution_count": 8,
     "metadata": {},
     "output_type": "execute_result"
    },
    {
     "data": {
      "text/plain": [
       "current loss = 2.0099187473649\t\n",
       "current loss = 2.0096851573404\t\n",
       "current loss = 2.0094517414789\t\n",
       "current loss = 2.0092184995923\t\n"
      ]
     },
     "execution_count": 8,
     "metadata": {},
     "output_type": "execute_result"
    },
    {
     "data": {
      "text/plain": [
       "current loss = 2.0089854314928\t\n",
       "current loss = 2.0087525369926\t\n",
       "current loss = 2.0085198159046\t\n"
      ]
     },
     "execution_count": 8,
     "metadata": {},
     "output_type": "execute_result"
    },
    {
     "data": {
      "text/plain": [
       "current loss = 2.0082872680414\t\n",
       "current loss = 2.0080548932164\t\n",
       "current loss = 2.0078226912428\t\n",
       "current loss = 2.0075906619343\t\n"
      ]
     },
     "execution_count": 8,
     "metadata": {},
     "output_type": "execute_result"
    },
    {
     "data": {
      "text/plain": [
       "current loss = 2.0073588051049\t\n",
       "current loss = 2.0071271205687\t\n"
      ]
     },
     "execution_count": 8,
     "metadata": {},
     "output_type": "execute_result"
    },
    {
     "data": {
      "text/plain": [
       "current loss = 2.0068956081401\t\n",
       "current loss = 2.0066642676339\t\n",
       "current loss = 2.0064330988649\t\n"
      ]
     },
     "execution_count": 8,
     "metadata": {},
     "output_type": "execute_result"
    },
    {
     "data": {
      "text/plain": [
       "current loss = 2.0062021016484\t\n",
       "current loss = 2.0059712757997\t\n",
       "current loss = 2.0057406211346\t\n",
       "current loss = 2.0055101374691\t\n"
      ]
     },
     "execution_count": 8,
     "metadata": {},
     "output_type": "execute_result"
    },
    {
     "data": {
      "text/plain": [
       "current loss = 2.0052798246192\t\n",
       "current loss = 2.0050496824015\t\n"
      ]
     },
     "execution_count": 8,
     "metadata": {},
     "output_type": "execute_result"
    },
    {
     "data": {
      "text/plain": [
       "current loss = 2.0048197106327\t\n",
       "current loss = 2.0045899091297\t\n",
       "current loss = 2.0043602777097\t\n",
       "current loss = 2.0041308161901\t\n"
      ]
     },
     "execution_count": 8,
     "metadata": {},
     "output_type": "execute_result"
    },
    {
     "data": {
      "text/plain": [
       "current loss = 2.0039015243887\t\n",
       "current loss = 2.0036724021235\t\n",
       "current loss = 2.0034434492125\t\n"
      ]
     },
     "execution_count": 8,
     "metadata": {},
     "output_type": "execute_result"
    },
    {
     "data": {
      "text/plain": [
       "current loss = 2.0032146654743\t\n",
       "current loss = 2.0029860507275\t\n",
       "current loss = 2.0027576047912\t\n"
      ]
     },
     "execution_count": 8,
     "metadata": {},
     "output_type": "execute_result"
    },
    {
     "data": {
      "text/plain": [
       "current loss = 2.0025293274844\t\n",
       "current loss = 2.0023012186266\t\n",
       "current loss = 2.0020732780376\t\n"
      ]
     },
     "execution_count": 8,
     "metadata": {},
     "output_type": "execute_result"
    },
    {
     "data": {
      "text/plain": [
       "current loss = 2.0018455055371\t\n",
       "current loss = 2.0016179009455\t\n",
       "current loss = 2.001390464083\t\n"
      ]
     },
     "execution_count": 8,
     "metadata": {},
     "output_type": "execute_result"
    },
    {
     "data": {
      "text/plain": [
       "current loss = 2.0011631947705\t\n",
       "current loss = 2.0009360928287\t\n"
      ]
     },
     "execution_count": 8,
     "metadata": {},
     "output_type": "execute_result"
    },
    {
     "data": {
      "text/plain": [
       "current loss = 2.0007091580789\t\n",
       "current loss = 2.0004823903423\t\n"
      ]
     },
     "execution_count": 8,
     "metadata": {},
     "output_type": "execute_result"
    },
    {
     "data": {
      "text/plain": [
       "current loss = 2.0002557894408\t\n"
      ]
     },
     "execution_count": 8,
     "metadata": {},
     "output_type": "execute_result"
    },
    {
     "data": {
      "text/plain": [
       "current loss = 2.0000293551961\t\n",
       "current loss = 1.9998030874304\t\n"
      ]
     },
     "execution_count": 8,
     "metadata": {},
     "output_type": "execute_result"
    },
    {
     "data": {
      "text/plain": [
       "current loss = 1.999576985966\t\n",
       "current loss = 1.9993510506255\t\n",
       "current loss = 1.9991252812318\t\n",
       "current loss = 1.998899677608\t\n"
      ]
     },
     "execution_count": 8,
     "metadata": {},
     "output_type": "execute_result"
    },
    {
     "data": {
      "text/plain": [
       "current loss = 1.9986742395774\t\n",
       "current loss = 1.9984489669636\t\n",
       "current loss = 1.9982238595903\t\n"
      ]
     },
     "execution_count": 8,
     "metadata": {},
     "output_type": "execute_result"
    },
    {
     "data": {
      "text/plain": [
       "current loss = 1.9979989172817\t\n",
       "current loss = 1.997774139862\t\n",
       "current loss = 1.9975495271557\t\n",
       "current loss = 1.9973250789875\t\n"
      ]
     },
     "execution_count": 8,
     "metadata": {},
     "output_type": "execute_result"
    },
    {
     "data": {
      "text/plain": [
       "current loss = 1.9971007951826\t\n",
       "current loss = 1.9968766755661\t\n",
       "current loss = 1.9966527199635\t\n"
      ]
     },
     "execution_count": 8,
     "metadata": {},
     "output_type": "execute_result"
    },
    {
     "data": {
      "text/plain": [
       "current loss = 1.9964289282005\t\n",
       "current loss = 1.9962053001031\t\n",
       "current loss = 1.9959818354974\t\n"
      ]
     },
     "execution_count": 8,
     "metadata": {},
     "output_type": "execute_result"
    },
    {
     "data": {
      "text/plain": [
       "current loss = 1.9957585342098\t\n",
       "current loss = 1.9955353960671\t\n",
       "current loss = 1.995312420896\t\n",
       "current loss = 1.9950896085238\t\n"
      ]
     },
     "execution_count": 8,
     "metadata": {},
     "output_type": "execute_result"
    },
    {
     "data": {
      "text/plain": [
       "current loss = 1.9948669587777\t\n",
       "current loss = 1.9946444714854\t\n",
       "current loss = 1.9944221464746\t\n"
      ]
     },
     "execution_count": 8,
     "metadata": {},
     "output_type": "execute_result"
    },
    {
     "data": {
      "text/plain": [
       "current loss = 1.9941999835734\t\n",
       "current loss = 1.9939779826102\t\n",
       "current loss = 1.9937561434134\t\n",
       "current loss = 1.9935344658118\t\n"
      ]
     },
     "execution_count": 8,
     "metadata": {},
     "output_type": "execute_result"
    },
    {
     "data": {
      "text/plain": [
       "current loss = 1.9933129496343\t\n",
       "current loss = 1.9930915947102\t\n",
       "current loss = 1.9928704008689\t\n",
       "current loss = 1.9926493679401\t\n"
      ]
     },
     "execution_count": 8,
     "metadata": {},
     "output_type": "execute_result"
    },
    {
     "data": {
      "text/plain": [
       "current loss = 1.9924284957536\t\n",
       "current loss = 1.9922077841397\t\n",
       "current loss = 1.9919872329286\t\n",
       "current loss = 1.9917668419509\t\n"
      ]
     },
     "execution_count": 8,
     "metadata": {},
     "output_type": "execute_result"
    },
    {
     "data": {
      "text/plain": [
       "current loss = 1.9915466110376\t\n",
       "current loss = 1.9913265400195\t\n",
       "current loss = 1.991106628728\t\n",
       "current loss = 1.9908868769947\t\n",
       "current loss = 1.9906672846511\t\n"
      ]
     },
     "execution_count": 8,
     "metadata": {},
     "output_type": "execute_result"
    },
    {
     "data": {
      "text/plain": [
       "current loss = 1.9904478515292\t\n",
       "current loss = 1.9902285774614\t\n",
       "current loss = 1.9900094622798\t\n"
      ]
     },
     "execution_count": 8,
     "metadata": {},
     "output_type": "execute_result"
    },
    {
     "data": {
      "text/plain": [
       "current loss = 1.9897905058172\t\n",
       "current loss = 1.9895717079064\t\n",
       "current loss = 1.9893530683805\t\n",
       "current loss = 1.9891345870728\t\n"
      ]
     },
     "execution_count": 8,
     "metadata": {},
     "output_type": "execute_result"
    },
    {
     "data": {
      "text/plain": [
       "current loss = 1.9889162638168\t\n",
       "current loss = 1.9886980984462\t\n",
       "current loss = 1.9884800907951\t\n",
       "current loss = 1.9882622406977\t\n"
      ]
     },
     "execution_count": 8,
     "metadata": {},
     "output_type": "execute_result"
    },
    {
     "data": {
      "text/plain": [
       "current loss = 1.9880445479882\t\n",
       "current loss = 1.9878270125015\t\n",
       "current loss = 1.9876096340723\t\n",
       "current loss = 1.9873924125357\t\n"
      ]
     },
     "execution_count": 8,
     "metadata": {},
     "output_type": "execute_result"
    },
    {
     "data": {
      "text/plain": [
       "current loss = 1.9871753477271\t\n",
       "current loss = 1.9869584394819\t\n",
       "current loss = 1.9867416876359\t\n",
       "current loss = 1.9865250920251\t\n"
      ]
     },
     "execution_count": 8,
     "metadata": {},
     "output_type": "execute_result"
    },
    {
     "data": {
      "text/plain": [
       "current loss = 1.9863086524856\t\n",
       "current loss = 1.9860923688538\t\n",
       "current loss = 1.9858762409664\t\n",
       "current loss = 1.9856602686602\t\n",
       "current loss = 1.9854444517723\t\n"
      ]
     },
     "execution_count": 8,
     "metadata": {},
     "output_type": "execute_result"
    },
    {
     "data": {
      "text/plain": [
       "current loss = 1.9852287901399\t\n",
       "current loss = 1.9850132836005\t\n",
       "current loss = 1.9847979319918\t\n",
       "current loss = 1.9845827351518\t\n"
      ]
     },
     "execution_count": 8,
     "metadata": {},
     "output_type": "execute_result"
    },
    {
     "data": {
      "text/plain": [
       "current loss = 1.9843676929186\t\n",
       "current loss = 1.9841528051306\t\n",
       "current loss = 1.9839380716263\t\n",
       "current loss = 1.9837234922445\t\n"
      ]
     },
     "execution_count": 8,
     "metadata": {},
     "output_type": "execute_result"
    },
    {
     "data": {
      "text/plain": [
       "current loss = 1.9835090668242\t\n",
       "current loss = 1.9832947952047\t\n",
       "current loss = 1.9830806772254\t\n",
       "current loss = 1.9828667127259\t\n",
       "current loss = 1.9826529015461\t\n"
      ]
     },
     "execution_count": 8,
     "metadata": {},
     "output_type": "execute_result"
    },
    {
     "data": {
      "text/plain": [
       "current loss = 1.982439243526\t\n",
       "current loss = 1.982225738506\t\n",
       "current loss = 1.9820123863266\t\n",
       "current loss = 1.9817991868284\t\n"
      ]
     },
     "execution_count": 8,
     "metadata": {},
     "output_type": "execute_result"
    },
    {
     "data": {
      "text/plain": [
       "current loss = 1.9815861398524\t\n",
       "current loss = 1.9813732452397\t\n",
       "current loss = 1.9811605028316\t\n",
       "current loss = 1.9809479124698\t\n"
      ]
     },
     "execution_count": 8,
     "metadata": {},
     "output_type": "execute_result"
    },
    {
     "data": {
      "text/plain": [
       "current loss = 1.980735473996\t\n",
       "current loss = 1.9805231872522\t\n",
       "current loss = 1.9803110520805\t\n",
       "current loss = 1.9800990683233\t\n"
      ]
     },
     "execution_count": 8,
     "metadata": {},
     "output_type": "execute_result"
    },
    {
     "data": {
      "text/plain": [
       "current loss = 1.9798872358234\t\n",
       "current loss = 1.9796755544234\t\n",
       "current loss = 1.9794640239664\t\n",
       "current loss = 1.9792526442956\t\n"
      ]
     },
     "execution_count": 8,
     "metadata": {},
     "output_type": "execute_result"
    },
    {
     "data": {
      "text/plain": [
       "current loss = 1.9790414152546\t\n",
       "current loss = 1.9788303366868\t\n",
       "current loss = 1.9786194084362\t\n",
       "current loss = 1.9784086303469\t\n"
      ]
     },
     "execution_count": 8,
     "metadata": {},
     "output_type": "execute_result"
    },
    {
     "data": {
      "text/plain": [
       "current loss = 1.9781980022631\t\n",
       "current loss = 1.9779875240293\t\n",
       "current loss = 1.9777771954901\t\n"
      ]
     },
     "execution_count": 8,
     "metadata": {},
     "output_type": "execute_result"
    },
    {
     "data": {
      "text/plain": [
       "current loss = 1.9775670164905\t\n",
       "current loss = 1.9773569868755\t\n",
       "current loss = 1.9771471064905\t\n",
       "current loss = 1.9769373751809\t\n"
      ]
     },
     "execution_count": 8,
     "metadata": {},
     "output_type": "execute_result"
    },
    {
     "data": {
      "text/plain": [
       "current loss = 1.9767277927925\t\n",
       "current loss = 1.9765183591711\t\n",
       "current loss = 1.9763090741629\t\n",
       "current loss = 1.9760999376142\t\n"
      ]
     },
     "execution_count": 8,
     "metadata": {},
     "output_type": "execute_result"
    },
    {
     "data": {
      "text/plain": [
       "current loss = 1.9758909493715\t\n",
       "current loss = 1.9756821092816\t\n",
       "current loss = 1.9754734171913\t\n",
       "current loss = 1.9752648729477\t\n",
       "current loss = 1.9750564763983\t\n"
      ]
     },
     "execution_count": 8,
     "metadata": {},
     "output_type": "execute_result"
    },
    {
     "data": {
      "text/plain": [
       "current loss = 1.9748482273906\t\n",
       "current loss = 1.9746401257722\t\n",
       "current loss = 1.9744321713911\t\n",
       "current loss = 1.9742243640955\t\n"
      ]
     },
     "execution_count": 8,
     "metadata": {},
     "output_type": "execute_result"
    },
    {
     "data": {
      "text/plain": [
       "current loss = 1.9740167037336\t\n",
       "current loss = 1.973809190154\t\n",
       "current loss = 1.9736018232055\t\n",
       "current loss = 1.9733946027369\t\n"
      ]
     },
     "execution_count": 8,
     "metadata": {},
     "output_type": "execute_result"
    },
    {
     "data": {
      "text/plain": [
       "current loss = 1.9731875285975\t\n",
       "current loss = 1.9729806006364\t\n",
       "current loss = 1.9727738187033\t\n",
       "current loss = 1.9725671826479\t\n"
      ]
     },
     "execution_count": 8,
     "metadata": {},
     "output_type": "execute_result"
    },
    {
     "data": {
      "text/plain": [
       "current loss = 1.9723606923201\t\n",
       "current loss = 1.97215434757\t\n",
       "current loss = 1.9719481482479\t\n",
       "current loss = 1.9717420942044\t\n"
      ]
     },
     "execution_count": 8,
     "metadata": {},
     "output_type": "execute_result"
    },
    {
     "data": {
      "text/plain": [
       "current loss = 1.9715361852901\t\n",
       "current loss = 1.971330421356\t\n",
       "current loss = 1.9711248022531\t\n",
       "current loss = 1.9709193278329\t\n",
       "current loss = 1.9707139979466\t\n"
      ]
     },
     "execution_count": 8,
     "metadata": {},
     "output_type": "execute_result"
    },
    {
     "data": {
      "text/plain": [
       "current loss = 1.9705088124461\t\n",
       "current loss = 1.9703037711833\t\n",
       "current loss = 1.9700988740101\t\n",
       "current loss = 1.9698941207789\t\n"
      ]
     },
     "execution_count": 8,
     "metadata": {},
     "output_type": "execute_result"
    },
    {
     "data": {
      "text/plain": [
       "current loss = 1.9696895113421\t\n",
       "current loss = 1.9694850455524\t\n",
       "current loss = 1.9692807232626\t\n",
       "current loss = 1.9690765443258\t\n"
      ]
     },
     "execution_count": 8,
     "metadata": {},
     "output_type": "execute_result"
    },
    {
     "data": {
      "text/plain": [
       "current loss = 1.9688725085953\t\n",
       "current loss = 1.9686686159243\t\n",
       "current loss = 1.9684648661666\t\n",
       "current loss = 1.968261259176\t\n",
       "current loss = 1.9680577948065\t\n"
      ]
     },
     "execution_count": 8,
     "metadata": {},
     "output_type": "execute_result"
    },
    {
     "data": {
      "text/plain": [
       "current loss = 1.9678544729122\t\n",
       "current loss = 1.9676512933475\t\n",
       "current loss = 1.9674482559671\t\n",
       "current loss = 1.9672453606256\t\n"
      ]
     },
     "execution_count": 8,
     "metadata": {},
     "output_type": "execute_result"
    },
    {
     "data": {
      "text/plain": [
       "current loss = 1.9670426071781\t\n",
       "current loss = 1.9668399954796\t\n",
       "current loss = 1.9666375253855\t\n",
       "current loss = 1.9664351967514\t\n"
      ]
     },
     "execution_count": 8,
     "metadata": {},
     "output_type": "execute_result"
    },
    {
     "data": {
      "text/plain": [
       "current loss = 1.9662330094328\t\n",
       "current loss = 1.9660309632859\t\n",
       "current loss = 1.9658290581665\t\n",
       "current loss = 1.965627293931\t\n"
      ]
     },
     "execution_count": 8,
     "metadata": {},
     "output_type": "execute_result"
    },
    {
     "data": {
      "text/plain": [
       "current loss = 1.9654256704358\t\n",
       "current loss = 1.9652241875376\t\n",
       "current loss = 1.9650228450933\t\n",
       "current loss = 1.9648216429598\t\n"
      ]
     },
     "execution_count": 8,
     "metadata": {},
     "output_type": "execute_result"
    },
    {
     "data": {
      "text/plain": [
       "current loss = 1.9646205809943\t\n",
       "current loss = 1.9644196590543\t\n",
       "current loss = 1.9642188769973\t\n",
       "current loss = 1.964018234681\t\n"
      ]
     },
     "execution_count": 8,
     "metadata": {},
     "output_type": "execute_result"
    },
    {
     "data": {
      "text/plain": [
       "current loss = 1.9638177319635\t\n",
       "current loss = 1.9636173687029\t\n",
       "current loss = 1.9634171447574\t\n",
       "current loss = 1.9632170599856\t\n"
      ]
     },
     "execution_count": 8,
     "metadata": {},
     "output_type": "execute_result"
    },
    {
     "data": {
      "text/plain": [
       "current loss = 1.9630171142462\t\n",
       "current loss = 1.962817307398\t\n",
       "current loss = 1.9626176393\t\n",
       "current loss = 1.9624181098116\t\n"
      ]
     },
     "execution_count": 8,
     "metadata": {},
     "output_type": "execute_result"
    },
    {
     "data": {
      "text/plain": [
       "current loss = 1.9622187187921\t\n",
       "current loss = 1.9620194661011\t\n",
       "current loss = 1.9618203515985\t\n",
       "current loss = 1.9616213751441\t\n"
      ]
     },
     "execution_count": 8,
     "metadata": {},
     "output_type": "execute_result"
    },
    {
     "data": {
      "text/plain": [
       "current loss = 1.9614225365981\t\n",
       "current loss = 1.9612238358209\t\n",
       "current loss = 1.961025272673\t\n",
       "current loss = 1.960826847015\t\n"
      ]
     },
     "execution_count": 8,
     "metadata": {},
     "output_type": "execute_result"
    },
    {
     "data": {
      "text/plain": [
       "current loss = 1.9606285587077\t\n"
      ]
     },
     "execution_count": 8,
     "metadata": {},
     "output_type": "execute_result"
    },
    {
     "data": {
      "text/plain": [
       "current loss = 1.9604304076124\t\n",
       "current loss = 1.9602323935901\t\n",
       "current loss = 1.9600345165024\t\n"
      ]
     },
     "execution_count": 8,
     "metadata": {},
     "output_type": "execute_result"
    },
    {
     "data": {
      "text/plain": [
       "current loss = 1.9598367762107\t\n",
       "current loss = 1.9596391725769\t\n",
       "current loss = 1.9594417054629\t\n",
       "current loss = 1.9592443747307\t\n"
      ]
     },
     "execution_count": 8,
     "metadata": {},
     "output_type": "execute_result"
    },
    {
     "data": {
      "text/plain": [
       "current loss = 1.9590471802428\t\n",
       "current loss = 1.9588501218617\t\n",
       "current loss = 1.9586531994498\t\n"
      ]
     },
     "execution_count": 8,
     "metadata": {},
     "output_type": "execute_result"
    },
    {
     "data": {
      "text/plain": [
       "current loss = 1.9584564128702\t\n",
       "current loss = 1.9582597619858\t\n",
       "current loss = 1.9580632466597\t\n",
       "current loss = 1.9578668667554\t\n"
      ]
     },
     "execution_count": 8,
     "metadata": {},
     "output_type": "execute_result"
    },
    {
     "data": {
      "text/plain": [
       "current loss = 1.9576706221365\t\n",
       "current loss = 1.9574745126665\t\n",
       "current loss = 1.9572785382095\t\n"
      ]
     },
     "execution_count": 8,
     "metadata": {},
     "output_type": "execute_result"
    },
    {
     "data": {
      "text/plain": [
       "current loss = 1.9570826986294\t\n",
       "current loss = 1.9568869937906\t\n",
       "current loss = 1.9566914235574\t\n"
      ]
     },
     "execution_count": 8,
     "metadata": {},
     "output_type": "execute_result"
    },
    {
     "data": {
      "text/plain": [
       "current loss = 1.9564959877944\t\n",
       "current loss = 1.9563006863665\t\n",
       "current loss = 1.9561055191385\t\n"
      ]
     },
     "execution_count": 8,
     "metadata": {},
     "output_type": "execute_result"
    },
    {
     "data": {
      "text/plain": [
       "current loss = 1.9559104859756\t\n",
       "current loss = 1.955715586743\t\n",
       "current loss = 1.9555208213063\t\n",
       "current loss = 1.955326189531\t"
      ]
     },
     "execution_count": 8,
     "metadata": {},
     "output_type": "execute_result"
    },
    {
     "data": {
      "text/plain": [
       "\n",
       "current loss = 1.9551316912829\t\n",
       "current loss = 1.9549373264282\t\n",
       "current loss = 1.9547430948328\t\n"
      ]
     },
     "execution_count": 8,
     "metadata": {},
     "output_type": "execute_result"
    },
    {
     "data": {
      "text/plain": [
       "current loss = 1.9545489963631\t\n",
       "current loss = 1.9543550308857\t\n",
       "current loss = 1.9541611982671\t\n",
       "current loss = 1.9539674983743\t\n"
      ]
     },
     "execution_count": 8,
     "metadata": {},
     "output_type": "execute_result"
    },
    {
     "data": {
      "text/plain": [
       "current loss = 1.9537739310742\t\n",
       "current loss = 1.953580496234\t\n",
       "current loss = 1.9533871937211\t\n"
      ]
     },
     "execution_count": 8,
     "metadata": {},
     "output_type": "execute_result"
    },
    {
     "data": {
      "text/plain": [
       "current loss = 1.953194023403\t\n",
       "current loss = 1.9530009851474\t\n",
       "current loss = 1.9528080788222\t\n",
       "current loss = 1.9526153042953\t\n"
      ]
     },
     "execution_count": 8,
     "metadata": {},
     "output_type": "execute_result"
    },
    {
     "data": {
      "text/plain": [
       "current loss = 1.952422661435\t\n",
       "current loss = 1.9522301501096\t\n"
      ]
     },
     "execution_count": 8,
     "metadata": {},
     "output_type": "execute_result"
    },
    {
     "data": {
      "text/plain": [
       "current loss = 1.9520377701878\t\n",
       "current loss = 1.9518455215381\t\n",
       "current loss = 1.9516534040295\t\n",
       "current loss = 1.951461417531\t\n"
      ]
     },
     "execution_count": 8,
     "metadata": {},
     "output_type": "execute_result"
    },
    {
     "data": {
      "text/plain": [
       "current loss = 1.9512695619118\t\n",
       "current loss = 1.9510778370413\t\n",
       "current loss = 1.950886242789\t\n"
      ]
     },
     "execution_count": 8,
     "metadata": {},
     "output_type": "execute_result"
    },
    {
     "data": {
      "text/plain": [
       "current loss = 1.9506947790247\t\n",
       "current loss = 1.9505034456182\t\n",
       "current loss = 1.9503122424395\t\n"
      ]
     },
     "execution_count": 8,
     "metadata": {},
     "output_type": "execute_result"
    },
    {
     "data": {
      "text/plain": [
       "current loss = 1.9501211693589\t\n",
       "current loss = 1.9499302262468\t\n",
       "current loss = 1.9497394129737\t\n",
       "current loss = 1.9495487294102\t\n"
      ]
     },
     "execution_count": 8,
     "metadata": {},
     "output_type": "execute_result"
    },
    {
     "data": {
      "text/plain": [
       "current loss = 1.9493581754273\t\n",
       "current loss = 1.949167750896\t\n",
       "current loss = 1.9489774556875\t\n"
      ]
     },
     "execution_count": 8,
     "metadata": {},
     "output_type": "execute_result"
    },
    {
     "data": {
      "text/plain": [
       "current loss = 1.9487872896731\t\n",
       "current loss = 1.9485972527244\t\n",
       "current loss = 1.9484073447131\t\n"
      ]
     },
     "execution_count": 8,
     "metadata": {},
     "output_type": "execute_result"
    },
    {
     "data": {
      "text/plain": [
       "current loss = 1.9482175655111\t\n",
       "current loss = 1.9480279149903\t\n",
       "current loss = 1.9478383930229\t\n",
       "current loss = 1.9476489994812\t\n"
      ]
     },
     "execution_count": 8,
     "metadata": {},
     "output_type": "execute_result"
    },
    {
     "data": {
      "text/plain": [
       "current loss = 1.9474597342379\t\n",
       "current loss = 1.9472705971655\t\n",
       "current loss = 1.9470815881369\t\n"
      ]
     },
     "execution_count": 8,
     "metadata": {},
     "output_type": "execute_result"
    },
    {
     "data": {
      "text/plain": [
       "current loss = 1.946892707025\t\n",
       "current loss = 1.9467039537031\t\n",
       "current loss = 1.9465153280444\t\n",
       "current loss = 1.9463268299224\t\n"
      ]
     },
     "execution_count": 8,
     "metadata": {},
     "output_type": "execute_result"
    },
    {
     "data": {
      "text/plain": [
       "current loss = 1.9461384592108\t\n",
       "current loss = 1.9459502157832\t\n",
       "current loss = 1.9457620995138\t\n"
      ]
     },
     "execution_count": 8,
     "metadata": {},
     "output_type": "execute_result"
    },
    {
     "data": {
      "text/plain": [
       "current loss = 1.9455741102767\t\n",
       "current loss = 1.945386247946\t\n",
       "current loss = 1.9451985123962\t\n"
      ]
     },
     "execution_count": 8,
     "metadata": {},
     "output_type": "execute_result"
    },
    {
     "data": {
      "text/plain": [
       "current loss = 1.9450109035019\t\n",
       "current loss = 1.944823421138\t\n",
       "current loss = 1.9446360651792\t\n",
       "current loss = 1.9444488355007\t\n"
      ]
     },
     "execution_count": 8,
     "metadata": {},
     "output_type": "execute_result"
    },
    {
     "data": {
      "text/plain": [
       "current loss = 1.9442617319777\t\n",
       "current loss = 1.9440747544856\t\n",
       "current loss = 1.9438879028999\t\n"
      ]
     },
     "execution_count": 8,
     "metadata": {},
     "output_type": "execute_result"
    },
    {
     "data": {
      "text/plain": [
       "current loss = 1.9437011770963\t\n",
       "current loss = 1.9435145769507\t\n",
       "current loss = 1.9433281023391\t\n",
       "current loss = 1.9431417531377\t\n"
      ]
     },
     "execution_count": 8,
     "metadata": {},
     "output_type": "execute_result"
    },
    {
     "data": {
      "text/plain": [
       "current loss = 1.9429555292229\t\n",
       "current loss = 1.942769430471\t\n",
       "current loss = 1.9425834567588\t\n"
      ]
     },
     "execution_count": 8,
     "metadata": {},
     "output_type": "execute_result"
    },
    {
     "data": {
      "text/plain": [
       "current loss = 1.942397607963\t\n",
       "current loss = 1.9422118839606\t\n",
       "current loss = 1.9420262846288\t\n"
      ]
     },
     "execution_count": 8,
     "metadata": {},
     "output_type": "execute_result"
    },
    {
     "data": {
      "text/plain": [
       "current loss = 1.9418408098447\t\n",
       "current loss = 1.9416554594858\t\n",
       "current loss = 1.9414702334297\t\n"
      ]
     },
     "execution_count": 8,
     "metadata": {},
     "output_type": "execute_result"
    },
    {
     "data": {
      "text/plain": [
       "current loss = 1.9412851315541\t\n",
       "current loss = 1.9411001537369\t\n",
       "current loss = 1.9409152998561\t\n",
       "current loss = 1.94073056979\t\n"
      ]
     },
     "execution_count": 8,
     "metadata": {},
     "output_type": "execute_result"
    },
    {
     "data": {
      "text/plain": [
       "current loss = 1.9405459634168\t\n",
       "current loss = 1.9403614806151\t\n"
      ]
     },
     "execution_count": 8,
     "metadata": {},
     "output_type": "execute_result"
    },
    {
     "data": {
      "text/plain": [
       "current loss = 1.9401771212635\t\n"
      ]
     },
     "execution_count": 8,
     "metadata": {},
     "output_type": "execute_result"
    },
    {
     "data": {
      "text/plain": [
       "current loss = 1.9399928852408\t\n"
      ]
     },
     "execution_count": 8,
     "metadata": {},
     "output_type": "execute_result"
    },
    {
     "data": {
      "text/plain": [
       "current loss = 1.939808772426\t\n"
      ]
     },
     "execution_count": 8,
     "metadata": {},
     "output_type": "execute_result"
    },
    {
     "data": {
      "text/plain": [
       "current loss = 1.9396247826982\t\n"
      ]
     },
     "execution_count": 8,
     "metadata": {},
     "output_type": "execute_result"
    },
    {
     "data": {
      "text/plain": [
       "current loss = 1.9394409159366\t\n",
       "current loss = 1.9392571720208\t\n",
       "current loss = 1.9390735508301\t\n",
       "current loss = 1.9388900522444\t\n"
      ]
     },
     "execution_count": 8,
     "metadata": {},
     "output_type": "execute_result"
    },
    {
     "data": {
      "text/plain": [
       "current loss = 1.9387066761435\t\n",
       "current loss = 1.9385234224075\t\n",
       "current loss = 1.9383402909165\t\n"
      ]
     },
     "execution_count": 8,
     "metadata": {},
     "output_type": "execute_result"
    },
    {
     "data": {
      "text/plain": [
       "current loss = 1.9381572815508\t\n",
       "current loss = 1.9379743941909\t\n",
       "current loss = 1.9377916287175\t\n"
      ]
     },
     "execution_count": 8,
     "metadata": {},
     "output_type": "execute_result"
    },
    {
     "data": {
      "text/plain": [
       "current loss = 1.9376089850112\t\n",
       "current loss = 1.937426462953\t\n",
       "current loss = 1.9372440624241\t\n",
       "current loss = 1.9370617833055\t\n"
      ]
     },
     "execution_count": 8,
     "metadata": {},
     "output_type": "execute_result"
    },
    {
     "data": {
      "text/plain": [
       "current loss = 1.9368796254787\t\n",
       "current loss = 1.9366975888252\t\n",
       "current loss = 1.9365156732267\t\n"
      ]
     },
     "execution_count": 8,
     "metadata": {},
     "output_type": "execute_result"
    },
    {
     "data": {
      "text/plain": [
       "current loss = 1.936333878565\t\n",
       "current loss = 1.9361522047219\t\n",
       "current loss = 1.9359706515797\t\n"
      ]
     },
     "execution_count": 8,
     "metadata": {},
     "output_type": "execute_result"
    },
    {
     "data": {
      "text/plain": [
       "current loss = 1.9357892190207\t\n",
       "current loss = 1.9356079069271\t\n",
       "current loss = 1.9354267151816\t\n",
       "current loss = 1.9352456436669\t\n"
      ]
     },
     "execution_count": 8,
     "metadata": {},
     "output_type": "execute_result"
    },
    {
     "data": {
      "text/plain": [
       "current loss = 1.9350646922657\t\n",
       "current loss = 1.9348838608612\t\n",
       "current loss = 1.9347031493364\t\n"
      ]
     },
     "execution_count": 8,
     "metadata": {},
     "output_type": "execute_result"
    },
    {
     "data": {
      "text/plain": [
       "current loss = 1.9345225575746\t\n",
       "current loss = 1.9343420854592\t\n",
       "current loss = 1.9341617328739\t\n",
       "current loss = 1.9339814997024\t\n",
       "current loss = 1.9338013858285\t\n"
      ]
     },
     "execution_count": 8,
     "metadata": {},
     "output_type": "execute_result"
    },
    {
     "data": {
      "text/plain": [
       "current loss = 1.9336213911361\t\n",
       "current loss = 1.9334415155096\t\n",
       "current loss = 1.9332617588332\t\n",
       "current loss = 1.9330821209913\t\n"
      ]
     },
     "execution_count": 8,
     "metadata": {},
     "output_type": "execute_result"
    },
    {
     "data": {
      "text/plain": [
       "current loss = 1.9329026018685\t\n",
       "current loss = 1.9327232013496\t\n",
       "current loss = 1.9325439193194\t\n",
       "current loss = 1.932364755663\t\n"
      ]
     },
     "execution_count": 8,
     "metadata": {},
     "output_type": "execute_result"
    },
    {
     "data": {
      "text/plain": [
       "current loss = 1.9321857102655\t\n",
       "current loss = 1.9320067830122\t\n",
       "current loss = 1.9318279737886\t\n",
       "current loss = 1.9316492824803\t\n",
       "current loss = 1.931470708973\t\n"
      ]
     },
     "execution_count": 8,
     "metadata": {},
     "output_type": "execute_result"
    },
    {
     "data": {
      "text/plain": [
       "current loss = 1.9312922531525\t\n",
       "current loss = 1.931113914905\t\n",
       "current loss = 1.9309356941165\t\n",
       "current loss = 1.9307575906734\t\n"
      ]
     },
     "execution_count": 8,
     "metadata": {},
     "output_type": "execute_result"
    },
    {
     "data": {
      "text/plain": [
       "current loss = 1.9305796044621\t\n",
       "current loss = 1.9304017353692\t\n",
       "current loss = 1.9302239832814\t\n",
       "current loss = 1.9300463480856\t\n"
      ]
     },
     "execution_count": 8,
     "metadata": {},
     "output_type": "execute_result"
    },
    {
     "data": {
      "text/plain": [
       "current loss = 1.9298688296688\t\n",
       "current loss = 1.9296914279182\t\n",
       "current loss = 1.9295141427209\t\n",
       "current loss = 1.9293369739645\t\n",
       "current loss = 1.9291599215366\t\n"
      ]
     },
     "execution_count": 8,
     "metadata": {},
     "output_type": "execute_result"
    },
    {
     "data": {
      "text/plain": [
       "current loss = 1.9289829853248\t\n",
       "current loss = 1.9288061652169\t\n",
       "current loss = 1.928629461101\t\n",
       "current loss = 1.9284528728652\t\n"
      ]
     },
     "execution_count": 8,
     "metadata": {},
     "output_type": "execute_result"
    },
    {
     "data": {
      "text/plain": [
       "current loss = 1.9282764003978\t\n",
       "current loss = 1.928100043587\t\n",
       "current loss = 1.9279238023216\t\n",
       "current loss = 1.9277476764902\t\n"
      ]
     },
     "execution_count": 8,
     "metadata": {},
     "output_type": "execute_result"
    },
    {
     "data": {
      "text/plain": [
       "current loss = 1.9275716659815\t\n",
       "current loss = 1.9273957706845\t\n",
       "current loss = 1.9272199904883\t\n",
       "current loss = 1.9270443252822\t\n"
      ]
     },
     "execution_count": 8,
     "metadata": {},
     "output_type": "execute_result"
    },
    {
     "data": {
      "text/plain": [
       "current loss = 1.9268687749556\t\n",
       "current loss = 1.9266933393978\t\n",
       "current loss = 1.9265180184985\t\n",
       "current loss = 1.9263428121476\t\n",
       "current loss = 1.9261677202349\t\n"
      ]
     },
     "execution_count": 8,
     "metadata": {},
     "output_type": "execute_result"
    },
    {
     "data": {
      "text/plain": [
       "current loss = 1.9259927426505\t\n",
       "current loss = 1.9258178792846\t\n",
       "current loss = 1.9256431300274\t\n",
       "current loss = 1.9254684947694\t\n"
      ]
     },
     "execution_count": 8,
     "metadata": {},
     "output_type": "execute_result"
    },
    {
     "data": {
      "text/plain": [
       "current loss = 1.9252939734013\t\n",
       "current loss = 1.9251195658137\t\n",
       "current loss = 1.9249452718975\t\n",
       "current loss = 1.9247710915436\t\n",
       "current loss = 1.9245970246433\t\n"
      ]
     },
     "execution_count": 8,
     "metadata": {},
     "output_type": "execute_result"
    },
    {
     "data": {
      "text/plain": [
       "current loss = 1.9244230710877\t\n",
       "current loss = 1.9242492307683\t\n",
       "current loss = 1.9240755035766\t\n",
       "current loss = 1.9239018894043\t\n"
      ]
     },
     "execution_count": 8,
     "metadata": {},
     "output_type": "execute_result"
    },
    {
     "data": {
      "text/plain": [
       "current loss = 1.9237283881431\t\n",
       "current loss = 1.9235549996849\t\n",
       "current loss = 1.9233817239219\t\n",
       "current loss = 1.9232085607463\t\n"
      ]
     },
     "execution_count": 8,
     "metadata": {},
     "output_type": "execute_result"
    },
    {
     "data": {
      "text/plain": [
       "current loss = 1.9230355100503\t\n",
       "current loss = 1.9228625717264\t\n",
       "current loss = 1.9226897456672\t\n",
       "current loss = 1.9225170317654\t\n",
       "current loss = 1.922344429914\t\n"
      ]
     },
     "execution_count": 8,
     "metadata": {},
     "output_type": "execute_result"
    },
    {
     "data": {
      "text/plain": [
       "current loss = 1.9221719400057\t\n",
       "current loss = 1.9219995619339\t\n",
       "current loss = 1.9218272955917\t\n",
       "current loss = 1.9216551408726\t\n"
      ]
     },
     "execution_count": 8,
     "metadata": {},
     "output_type": "execute_result"
    },
    {
     "data": {
      "text/plain": [
       "current loss = 1.9214830976699\t\n",
       "current loss = 1.9213111658774\t\n",
       "current loss = 1.9211393453889\t\n",
       "current loss = 1.9209676360982\t\n"
      ]
     },
     "execution_count": 8,
     "metadata": {},
     "output_type": "execute_result"
    },
    {
     "data": {
      "text/plain": [
       "current loss = 1.9207960378993\t\n",
       "current loss = 1.9206245506865\t\n",
       "current loss = 1.920453174354\t\n",
       "current loss = 1.9202819087963\t\n"
      ]
     },
     "execution_count": 8,
     "metadata": {},
     "output_type": "execute_result"
    },
    {
     "data": {
      "text/plain": [
       "current loss = 1.9201107539079\t\n",
       "current loss = 1.9199397095834\t\n",
       "current loss = 1.9197687757177\t\n",
       "current loss = 1.9195979522057\t\n",
       "current loss = 1.9194272389426\t\n"
      ]
     },
     "execution_count": 8,
     "metadata": {},
     "output_type": "execute_result"
    },
    {
     "data": {
      "text/plain": [
       "current loss = 1.9192566358233\t\n",
       "current loss = 1.9190861427434\t\n",
       "current loss = 1.9189157595983\t\n"
      ]
     },
     "execution_count": 8,
     "metadata": {},
     "output_type": "execute_result"
    },
    {
     "data": {
      "text/plain": [
       "current loss = 1.9187454862835\t\n",
       "current loss = 1.9185753226947\t\n",
       "current loss = 1.9184052687277\t\n",
       "current loss = 1.9182353242786\t\n",
       "current loss = 1.9180654892434\t\n"
      ]
     },
     "execution_count": 8,
     "metadata": {},
     "output_type": "execute_result"
    },
    {
     "data": {
      "text/plain": [
       "current loss = 1.9178957635184\t\n",
       "current loss = 1.9177261469997\t\n",
       "current loss = 1.9175566395841\t\n",
       "current loss = 1.9173872411679\t\n"
      ]
     },
     "execution_count": 8,
     "metadata": {},
     "output_type": "execute_result"
    },
    {
     "data": {
      "text/plain": [
       "current loss = 1.917217951648\t\n",
       "current loss = 1.9170487709212\t\n",
       "current loss = 1.9168796988844\t\n",
       "current loss = 1.9167107354348\t\n"
      ]
     },
     "execution_count": 8,
     "metadata": {},
     "output_type": "execute_result"
    },
    {
     "data": {
      "text/plain": [
       "current loss = 1.9165418804696\t\n",
       "current loss = 1.9163731338861\t\n",
       "current loss = 1.9162044955817\t\n",
       "current loss = 1.9160359654542\t\n",
       "current loss = 1.9158675434012\t\n"
      ]
     },
     "execution_count": 8,
     "metadata": {},
     "output_type": "execute_result"
    },
    {
     "data": {
      "text/plain": [
       "current loss = 1.9156992293205\t\n",
       "current loss = 1.9155310231102\t\n",
       "current loss = 1.9153629246683\t\n",
       "current loss = 1.915194933893\t\n"
      ]
     },
     "execution_count": 8,
     "metadata": {},
     "output_type": "execute_result"
    },
    {
     "data": {
      "text/plain": [
       "current loss = 1.9150270506827\t\n",
       "current loss = 1.9148592749358\t\n",
       "current loss = 1.914691606551\t\n"
      ]
     },
     "execution_count": 8,
     "metadata": {},
     "output_type": "execute_result"
    },
    {
     "data": {
      "text/plain": [
       "current loss = 1.9145240454269\t\n",
       "current loss = 1.9143565914624\t\n",
       "current loss = 1.9141892445564\t\n",
       "current loss = 1.914022004608\t\n",
       "current loss = 1.9138548715165\t\n"
      ]
     },
     "execution_count": 8,
     "metadata": {},
     "output_type": "execute_result"
    },
    {
     "data": {
      "text/plain": [
       "current loss = 1.9136878451811\t\n",
       "current loss = 1.9135209255012\t\n",
       "current loss = 1.9133541123766\t\n",
       "current loss = 1.9131874057067\t\n"
      ]
     },
     "execution_count": 8,
     "metadata": {},
     "output_type": "execute_result"
    },
    {
     "data": {
      "text/plain": [
       "current loss = 1.9130208053916\t\n",
       "current loss = 1.912854311331\t\n",
       "current loss = 1.912687923425\t\n",
       "current loss = 1.9125216415739\t\n"
      ]
     },
     "execution_count": 8,
     "metadata": {},
     "output_type": "execute_result"
    },
    {
     "data": {
      "text/plain": [
       "current loss = 1.9123554656779\t\n",
       "current loss = 1.9121893956374\t\n",
       "current loss = 1.912023431353\t\n",
       "current loss = 1.9118575727253\t\n"
      ]
     },
     "execution_count": 8,
     "metadata": {},
     "output_type": "execute_result"
    },
    {
     "data": {
      "text/plain": [
       "current loss = 1.9116918196551\t\n",
       "current loss = 1.9115261720433\t\n",
       "current loss = 1.911360629791\t\n"
      ]
     },
     "execution_count": 8,
     "metadata": {},
     "output_type": "execute_result"
    },
    {
     "data": {
      "text/plain": [
       "current loss = 1.9111951927992\t\n",
       "current loss = 1.9110298609692\t\n",
       "current loss = 1.9108646342024\t\n",
       "current loss = 1.9106995124002\t\n"
      ]
     },
     "execution_count": 8,
     "metadata": {},
     "output_type": "execute_result"
    },
    {
     "data": {
      "text/plain": [
       "current loss = 1.9105344954644\t\n",
       "current loss = 1.9103695832966\t\n",
       "current loss = 1.9102047757986\t\n",
       "current loss = 1.9100400728725\t\n"
      ]
     },
     "execution_count": 8,
     "metadata": {},
     "output_type": "execute_result"
    },
    {
     "data": {
      "text/plain": [
       "current loss = 1.9098754744204\t\n",
       "current loss = 1.9097109803444\t\n",
       "current loss = 1.9095465905468\t\n",
       "current loss = 1.9093823049301\t\n",
       "current loss = 1.909218123397\t\n"
      ]
     },
     "execution_count": 8,
     "metadata": {},
     "output_type": "execute_result"
    },
    {
     "data": {
      "text/plain": [
       "current loss = 1.9090540458499\t\n",
       "current loss = 1.9088900721918\t\n",
       "current loss = 1.9087262023255\t\n",
       "current loss = 1.9085624361541\t\n"
      ]
     },
     "execution_count": 8,
     "metadata": {},
     "output_type": "execute_result"
    },
    {
     "data": {
      "text/plain": [
       "current loss = 1.9083987735808\t\n",
       "current loss = 1.9082352145086\t\n",
       "current loss = 1.9080717588412\t\n",
       "current loss = 1.9079084064819\t\n"
      ]
     },
     "execution_count": 8,
     "metadata": {},
     "output_type": "execute_result"
    },
    {
     "data": {
      "text/plain": [
       "current loss = 1.9077451573343\t\n",
       "current loss = 1.9075820113022\t\n"
      ]
     },
     "execution_count": 8,
     "metadata": {},
     "output_type": "execute_result"
    },
    {
     "data": {
      "text/plain": [
       "current loss = 1.9074189682895\t\n",
       "current loss = 1.9072560282\t\n",
       "current loss = 1.9070931909378\t\n"
      ]
     },
     "execution_count": 8,
     "metadata": {},
     "output_type": "execute_result"
    },
    {
     "data": {
      "text/plain": [
       "current loss = 1.9069304564072\t\n",
       "current loss = 1.9067678245124\t\n",
       "current loss = 1.9066052951579\t\n"
      ]
     },
     "execution_count": 8,
     "metadata": {},
     "output_type": "execute_result"
    },
    {
     "data": {
      "text/plain": [
       "current loss = 1.9064428682481\t\n",
       "current loss = 1.9062805436878\t\n",
       "current loss = 1.9061183213817\t\n",
       "current loss = 1.9059562012346\t\n"
      ]
     },
     "execution_count": 8,
     "metadata": {},
     "output_type": "execute_result"
    },
    {
     "data": {
      "text/plain": [
       "current loss = 1.9057941831516\t\n",
       "current loss = 1.9056322670377\t\n",
       "current loss = 1.9054704527982\t\n"
      ]
     },
     "execution_count": 8,
     "metadata": {},
     "output_type": "execute_result"
    },
    {
     "data": {
      "text/plain": [
       "current loss = 1.9053087403383\t\n",
       "current loss = 1.9051471295636\t\n",
       "current loss = 1.9049856203797\t\n",
       "current loss = 1.904824212692\t\n"
      ]
     },
     "execution_count": 8,
     "metadata": {},
     "output_type": "execute_result"
    },
    {
     "data": {
      "text/plain": [
       "current loss = 1.9046629064065\t\n",
       "current loss = 1.9045017014291\t\n",
       "current loss = 1.9043405976657\t\n",
       "current loss = 1.9041795950224\t\n"
      ]
     },
     "execution_count": 8,
     "metadata": {},
     "output_type": "execute_result"
    },
    {
     "data": {
      "text/plain": [
       "current loss = 1.9040186934055\t\n",
       "current loss = 1.9038578927214\t\n",
       "current loss = 1.9036971928765\t\n"
      ]
     },
     "execution_count": 8,
     "metadata": {},
     "output_type": "execute_result"
    },
    {
     "data": {
      "text/plain": [
       "current loss = 1.9035365937773\t\n",
       "current loss = 1.9033760953306\t\n",
       "current loss = 1.9032156974431\t\n"
      ]
     },
     "execution_count": 8,
     "metadata": {},
     "output_type": "execute_result"
    },
    {
     "data": {
      "text/plain": [
       "current loss = 1.9030554000217\t\n",
       "current loss = 1.9028952029735\t\n",
       "current loss = 1.9027351062055\t\n"
      ]
     },
     "execution_count": 8,
     "metadata": {},
     "output_type": "execute_result"
    },
    {
     "data": {
      "text/plain": [
       "current loss = 1.9025751096251\t\n",
       "current loss = 1.9024152131395\t\n",
       "current loss = 1.9022554166561\t\n",
       "current loss = 1.9020957200827\t\n"
      ]
     },
     "execution_count": 8,
     "metadata": {},
     "output_type": "execute_result"
    },
    {
     "data": {
      "text/plain": [
       "current loss = 1.9019361233268\t\n",
       "current loss = 1.9017766262962\t\n",
       "current loss = 1.9016172288988\t\n"
      ]
     },
     "execution_count": 8,
     "metadata": {},
     "output_type": "execute_result"
    },
    {
     "data": {
      "text/plain": [
       "current loss = 1.9014579310427\t\n",
       "current loss = 1.9012987326358\t\n",
       "current loss = 1.9011396335866\t\n"
      ]
     },
     "execution_count": 8,
     "metadata": {},
     "output_type": "execute_result"
    },
    {
     "data": {
      "text/plain": [
       "current loss = 1.9009806338032\t\n",
       "current loss = 1.9008217331942\t\n"
      ]
     },
     "execution_count": 8,
     "metadata": {},
     "output_type": "execute_result"
    },
    {
     "data": {
      "text/plain": [
       "current loss = 1.9006629316681\t\n",
       "current loss = 1.9005042291335\t\n",
       "current loss = 1.9003456254993\t\n"
      ]
     },
     "execution_count": 8,
     "metadata": {},
     "output_type": "execute_result"
    },
    {
     "data": {
      "text/plain": [
       "current loss = 1.9001871206742\t\n",
       "current loss = 1.9000287145673\t\n",
       "current loss = 1.8998704070877\t\n"
      ]
     },
     "execution_count": 8,
     "metadata": {},
     "output_type": "execute_result"
    },
    {
     "data": {
      "text/plain": [
       "current loss = 1.8997121981446\t\n",
       "current loss = 1.8995540876472\t\n",
       "current loss = 1.8993960755051\t\n",
       "current loss = 1.8992381616276\t"
      ]
     },
     "execution_count": 8,
     "metadata": {},
     "output_type": "execute_result"
    },
    {
     "data": {
      "text/plain": [
       "\n",
       "current loss = 1.8990803459246\t\n",
       "current loss = 1.8989226283056\t\n",
       "current loss = 1.8987650086805\t\n"
      ]
     },
     "execution_count": 8,
     "metadata": {},
     "output_type": "execute_result"
    },
    {
     "data": {
      "text/plain": [
       "current loss = 1.8986074869593\t\n",
       "current loss = 1.8984500630521\t\n",
       "current loss = 1.898292736869\t\n"
      ]
     },
     "execution_count": 8,
     "metadata": {},
     "output_type": "execute_result"
    },
    {
     "data": {
      "text/plain": [
       "current loss = 1.8981355083203\t\n",
       "current loss = 1.8979783773163\t\n",
       "current loss = 1.8978213437676\t\n"
      ]
     },
     "execution_count": 8,
     "metadata": {},
     "output_type": "execute_result"
    },
    {
     "data": {
      "text/plain": [
       "current loss = 1.8976644075847\t\n",
       "current loss = 1.8975075686784\t\n",
       "current loss = 1.8973508269594\t\n"
      ]
     },
     "execution_count": 8,
     "metadata": {},
     "output_type": "execute_result"
    },
    {
     "data": {
      "text/plain": [
       "current loss = 1.8971941823386\t\n",
       "current loss = 1.8970376347271\t\n",
       "current loss = 1.896881184036\t\n"
      ]
     },
     "execution_count": 8,
     "metadata": {},
     "output_type": "execute_result"
    },
    {
     "data": {
      "text/plain": [
       "current loss = 1.8967248301764\t\n",
       "current loss = 1.8965685730598\t\n",
       "current loss = 1.8964124125975\t\n",
       "current loss = 1.8962563487011\t\n"
      ]
     },
     "execution_count": 8,
     "metadata": {},
     "output_type": "execute_result"
    },
    {
     "data": {
      "text/plain": [
       "current loss = 1.8961003812823\t\n",
       "current loss = 1.8959445102527\t\n",
       "current loss = 1.8957887355243\t\n"
      ]
     },
     "execution_count": 8,
     "metadata": {},
     "output_type": "execute_result"
    },
    {
     "data": {
      "text/plain": [
       "current loss = 1.8956330570089\t\n",
       "current loss = 1.8954774746187\t\n",
       "current loss = 1.8953219882658\t\n"
      ]
     },
     "execution_count": 8,
     "metadata": {},
     "output_type": "execute_result"
    },
    {
     "data": {
      "text/plain": [
       "current loss = 1.8951665978624\t\n",
       "current loss = 1.895011303321\t\n",
       "current loss = 1.894856104554\t\n",
       "current loss = 1.894701001474\t\n"
      ]
     },
     "execution_count": 8,
     "metadata": {},
     "output_type": "execute_result"
    },
    {
     "data": {
      "text/plain": [
       "current loss = 1.8945459939936\t\n",
       "current loss = 1.8943910820257\t\n",
       "current loss = 1.8942362654831\t\n"
      ]
     },
     "execution_count": 8,
     "metadata": {},
     "output_type": "execute_result"
    },
    {
     "data": {
      "text/plain": [
       "current loss = 1.8940815442788\t\n",
       "current loss = 1.8939269183259\t\n",
       "current loss = 1.8937723875375\t\n"
      ]
     },
     "execution_count": 8,
     "metadata": {},
     "output_type": "execute_result"
    },
    {
     "data": {
      "text/plain": [
       "current loss = 1.8936179518271\t\n",
       "current loss = 1.893463611108\t\n"
      ]
     },
     "execution_count": 8,
     "metadata": {},
     "output_type": "execute_result"
    },
    {
     "data": {
      "text/plain": [
       "current loss = 1.8933093652936\t\n",
       "current loss = 1.8931552142975\t\n",
       "current loss = 1.8930011580336\t\n"
      ]
     },
     "execution_count": 8,
     "metadata": {},
     "output_type": "execute_result"
    },
    {
     "data": {
      "text/plain": [
       "current loss = 1.8928471964155\t\n",
       "current loss = 1.8926933293572\t\n",
       "current loss = 1.8925395567726\t\n"
      ]
     },
     "execution_count": 8,
     "metadata": {},
     "output_type": "execute_result"
    },
    {
     "data": {
      "text/plain": [
       "current loss = 1.892385878576\t\n",
       "current loss = 1.8922322946814\t\n",
       "current loss = 1.8920788050032\t\n"
      ]
     },
     "execution_count": 8,
     "metadata": {},
     "output_type": "execute_result"
    },
    {
     "data": {
      "text/plain": [
       "current loss = 1.8919254094558\t\n",
       "current loss = 1.8917721079537\t\n",
       "current loss = 1.8916189004115\t\n",
       "current loss = 1.8914657867439\t\n"
      ]
     },
     "execution_count": 8,
     "metadata": {},
     "output_type": "execute_result"
    },
    {
     "data": {
      "text/plain": [
       "current loss = 1.8913127668658\t\n",
       "current loss = 1.8911598406919\t\n"
      ]
     },
     "execution_count": 8,
     "metadata": {},
     "output_type": "execute_result"
    },
    {
     "data": {
      "text/plain": [
       "current loss = 1.8910070081374\t\n",
       "current loss = 1.8908542691174\t\n"
      ]
     },
     "execution_count": 8,
     "metadata": {},
     "output_type": "execute_result"
    },
    {
     "data": {
      "text/plain": [
       "current loss = 1.890701623547\t\n"
      ]
     },
     "execution_count": 8,
     "metadata": {},
     "output_type": "execute_result"
    },
    {
     "data": {
      "text/plain": [
       "current loss = 1.8905490713415\t\n"
      ]
     },
     "execution_count": 8,
     "metadata": {},
     "output_type": "execute_result"
    },
    {
     "data": {
      "text/plain": [
       "current loss = 1.8903966124164\t\n",
       "current loss = 1.8902442466871\t\n"
      ]
     },
     "execution_count": 8,
     "metadata": {},
     "output_type": "execute_result"
    },
    {
     "data": {
      "text/plain": [
       "current loss = 1.8900919740693\t\n",
       "current loss = 1.8899397944787\t\n",
       "current loss = 1.889787707831\t\n"
      ]
     },
     "execution_count": 8,
     "metadata": {},
     "output_type": "execute_result"
    },
    {
     "data": {
      "text/plain": [
       "current loss = 1.8896357140422\t\n",
       "current loss = 1.8894838130282\t\n"
      ]
     },
     "execution_count": 8,
     "metadata": {},
     "output_type": "execute_result"
    },
    {
     "data": {
      "text/plain": [
       "current loss = 1.8893320047051\t\n",
       "current loss = 1.8891802889892\t\n",
       "current loss = 1.8890286657967\t\n",
       "current loss = 1.888877135044\t\n"
      ]
     },
     "execution_count": 8,
     "metadata": {},
     "output_type": "execute_result"
    },
    {
     "data": {
      "text/plain": [
       "current loss = 1.8887256966476\t\n",
       "current loss = 1.8885743505241\t\n"
      ]
     },
     "execution_count": 8,
     "metadata": {},
     "output_type": "execute_result"
    },
    {
     "data": {
      "text/plain": [
       "current loss = 1.8884230965901\t\n",
       "current loss = 1.8882719347624\t\n",
       "current loss = 1.888120864958\t\n",
       "current loss = 1.8879698870937\t\n"
      ]
     },
     "execution_count": 8,
     "metadata": {},
     "output_type": "execute_result"
    },
    {
     "data": {
      "text/plain": [
       "current loss = 1.8878190010867\t\n",
       "current loss = 1.887668206854\t\n",
       "current loss = 1.8875175043131\t\n"
      ]
     },
     "execution_count": 8,
     "metadata": {},
     "output_type": "execute_result"
    },
    {
     "data": {
      "text/plain": [
       "current loss = 1.8873668933811\t\n",
       "current loss = 1.8872163739756\t\n",
       "current loss = 1.8870659460142\t\n",
       "current loss = 1.8869156094144\t\n"
      ]
     },
     "execution_count": 8,
     "metadata": {},
     "output_type": "execute_result"
    },
    {
     "data": {
      "text/plain": [
       "current loss = 1.886765364094\t\n",
       "current loss = 1.8866152099709\t\n",
       "current loss = 1.8864651469629\t\n"
      ]
     },
     "execution_count": 8,
     "metadata": {},
     "output_type": "execute_result"
    },
    {
     "data": {
      "text/plain": [
       "current loss = 1.8863151749881\t\n",
       "current loss = 1.8861652939647\t\n",
       "current loss = 1.8860155038108\t\n",
       "current loss = 1.8858658044447\t\n",
       "current loss = 1.8857161957849\t\n"
      ]
     },
     "execution_count": 8,
     "metadata": {},
     "output_type": "execute_result"
    },
    {
     "data": {
      "text/plain": [
       "current loss = 1.8855666777499\t\n",
       "current loss = 1.8854172502582\t\n",
       "current loss = 1.8852679132286\t\n",
       "current loss = 1.8851186665798\t\n"
      ]
     },
     "execution_count": 8,
     "metadata": {},
     "output_type": "execute_result"
    },
    {
     "data": {
      "text/plain": [
       "current loss = 1.8849695102308\t\n",
       "current loss = 1.8848204441004\t\n",
       "current loss = 1.8846714681077\t\n",
       "current loss = 1.884522582172\t\n"
      ]
     },
     "execution_count": 8,
     "metadata": {},
     "output_type": "execute_result"
    },
    {
     "data": {
      "text/plain": [
       "current loss = 1.8843737862125\t\n",
       "current loss = 1.8842250801485\t\n",
       "current loss = 1.8840764638995\t\n",
       "current loss = 1.8839279373849\t\n",
       "current loss = 1.8837795005245\t\n"
      ]
     },
     "execution_count": 8,
     "metadata": {},
     "output_type": "execute_result"
    },
    {
     "data": {
      "text/plain": [
       "current loss = 1.8836311532379\t\n",
       "current loss = 1.883482895445\t\n",
       "current loss = 1.8833347270657\t\n"
      ]
     },
     "execution_count": 8,
     "metadata": {},
     "output_type": "execute_result"
    },
    {
     "data": {
      "text/plain": [
       "current loss = 1.88318664802\t\n",
       "current loss = 1.8830386582279\t\n",
       "current loss = 1.8828907576096\t\n"
      ]
     },
     "execution_count": 8,
     "metadata": {},
     "output_type": "execute_result"
    },
    {
     "data": {
      "text/plain": [
       "current loss = 1.8827429460855\t\n",
       "current loss = 1.8825952235759\t\n",
       "current loss = 1.8824475900012\t\n"
      ]
     },
     "execution_count": 8,
     "metadata": {},
     "output_type": "execute_result"
    },
    {
     "data": {
      "text/plain": [
       "current loss = 1.8823000452821\t\n",
       "current loss = 1.8821525893391\t\n",
       "current loss = 1.882005222093\t\n"
      ]
     },
     "execution_count": 8,
     "metadata": {},
     "output_type": "execute_result"
    },
    {
     "data": {
      "text/plain": [
       "current loss = 1.8818579434646\t\n",
       "current loss = 1.8817107533749\t\n",
       "current loss = 1.8815636517448\t\n",
       "current loss = 1.8814166384954\t\n"
      ]
     },
     "execution_count": 8,
     "metadata": {},
     "output_type": "execute_result"
    },
    {
     "data": {
      "text/plain": [
       "current loss = 1.881269713548\t\n",
       "current loss = 1.8811228768238\t\n",
       "current loss = 1.8809761282443\t\n",
       "current loss = 1.8808294677307\t\n"
      ]
     },
     "execution_count": 8,
     "metadata": {},
     "output_type": "execute_result"
    },
    {
     "data": {
      "text/plain": [
       "current loss = 1.8806828952048\t\n",
       "current loss = 1.8805364105882\t\n",
       "current loss = 1.8803900138026\t\n",
       "current loss = 1.8802437047698\t\n"
      ]
     },
     "execution_count": 8,
     "metadata": {},
     "output_type": "execute_result"
    },
    {
     "data": {
      "text/plain": [
       "current loss = 1.8800974834117\t\n",
       "current loss = 1.8799513496504\t\n",
       "current loss = 1.8798053034079\t\n",
       "current loss = 1.8796593446065\t\n",
       "current loss = 1.8795134731684\t\n"
      ]
     },
     "execution_count": 8,
     "metadata": {},
     "output_type": "execute_result"
    },
    {
     "data": {
      "text/plain": [
       "current loss = 1.8793676890159\t\n",
       "current loss = 1.8792219920715\t\n",
       "current loss = 1.8790763822578\t\n",
       "current loss = 1.8789308594974\t\n"
      ]
     },
     "execution_count": 8,
     "metadata": {},
     "output_type": "execute_result"
    },
    {
     "data": {
      "text/plain": [
       "current loss = 1.878785423713\t\n",
       "current loss = 1.8786400748275\t\n",
       "current loss = 1.8784948127636\t\n",
       "current loss = 1.8783496374445\t\n",
       "current loss = 1.8782045487931\t\n"
      ]
     },
     "execution_count": 8,
     "metadata": {},
     "output_type": "execute_result"
    },
    {
     "data": {
      "text/plain": [
       "current loss = 1.8780595467327\t\n",
       "current loss = 1.8779146311864\t\n",
       "current loss = 1.8777698020777\t\n"
      ]
     },
     "execution_count": 8,
     "metadata": {},
     "output_type": "execute_result"
    },
    {
     "data": {
      "text/plain": [
       "current loss = 1.8776250593299\t\n",
       "current loss = 1.8774804028666\t\n",
       "current loss = 1.8773358326114\t\n",
       "current loss = 1.8771913484879\t\n",
       "current loss = 1.87704695042\t\n"
      ]
     },
     "execution_count": 8,
     "metadata": {},
     "output_type": "execute_result"
    },
    {
     "data": {
      "text/plain": [
       "current loss = 1.8769026383314\t\n",
       "current loss = 1.8767584121462\t\n",
       "current loss = 1.8766142717884\t\n",
       "current loss = 1.8764702171821\t\n"
      ]
     },
     "execution_count": 8,
     "metadata": {},
     "output_type": "execute_result"
    },
    {
     "data": {
      "text/plain": [
       "current loss = 1.8763262482515\t\n",
       "current loss = 1.8761823649209\t\n",
       "current loss = 1.8760385671148\t\n",
       "current loss = 1.8758948547575\t\n",
       "current loss = 1.8757512277737\t\n"
      ]
     },
     "execution_count": 8,
     "metadata": {},
     "output_type": "execute_result"
    },
    {
     "data": {
      "text/plain": [
       "current loss = 1.8756076860879\t\n",
       "current loss = 1.8754642296249\t\n"
      ]
     },
     "execution_count": 8,
     "metadata": {},
     "output_type": "execute_result"
    },
    {
     "data": {
      "text/plain": [
       "current loss = 1.8753208583096\t\n",
       "current loss = 1.8751775720667\t\n",
       "current loss = 1.8750343708214\t\n"
      ]
     },
     "execution_count": 8,
     "metadata": {},
     "output_type": "execute_result"
    },
    {
     "data": {
      "text/plain": [
       "current loss = 1.8748912544987\t\n",
       "current loss = 1.8747482230236\t\n",
       "current loss = 1.8746052763216\t\n"
      ]
     },
     "execution_count": 8,
     "metadata": {},
     "output_type": "execute_result"
    },
    {
     "data": {
      "text/plain": [
       "current loss = 1.8744624143179\t\n",
       "current loss = 1.8743196369379\t\n",
       "current loss = 1.8741769441072\t\n",
       "current loss = 1.8740343357512\t\n"
      ]
     },
     "execution_count": 8,
     "metadata": {},
     "output_type": "execute_result"
    },
    {
     "data": {
      "text/plain": [
       "current loss = 1.8738918117957\t\n",
       "current loss = 1.8737493721665\t\n",
       "current loss = 1.8736070167893\t\n",
       "current loss = 1.8734647455901\t\n"
      ]
     },
     "execution_count": 8,
     "metadata": {},
     "output_type": "execute_result"
    },
    {
     "data": {
      "text/plain": [
       "current loss = 1.8733225584949\t\n",
       "current loss = 1.8731804554298\t\n",
       "current loss = 1.8730384363209\t\n",
       "current loss = 1.8728965010946\t\n"
      ]
     },
     "execution_count": 8,
     "metadata": {},
     "output_type": "execute_result"
    },
    {
     "data": {
      "text/plain": [
       "current loss = 1.8727546496771\t\n",
       "current loss = 1.8726128819949\t\n",
       "current loss = 1.8724711979745\t\n",
       "current loss = 1.8723295975425\t\n"
      ]
     },
     "execution_count": 8,
     "metadata": {},
     "output_type": "execute_result"
    },
    {
     "data": {
      "text/plain": [
       "current loss = 1.8721880806255\t\n",
       "current loss = 1.8720466471504\t\n",
       "current loss = 1.8719052970439\t\n",
       "current loss = 1.871764030233\t\n",
       "current loss = 1.8716228466448\t\n"
      ]
     },
     "execution_count": 8,
     "metadata": {},
     "output_type": "execute_result"
    },
    {
     "data": {
      "text/plain": [
       "current loss = 1.8714817462062\t\n",
       "current loss = 1.8713407288445\t\n",
       "current loss = 1.8711997944869\t\n"
      ]
     },
     "execution_count": 8,
     "metadata": {},
     "output_type": "execute_result"
    },
    {
     "data": {
      "text/plain": [
       "current loss = 1.8710589430607\t\n",
       "current loss = 1.8709181744935\t\n",
       "current loss = 1.8707774887126\t\n",
       "current loss = 1.8706368856458\t\n"
      ]
     },
     "execution_count": 8,
     "metadata": {},
     "output_type": "execute_result"
    },
    {
     "data": {
      "text/plain": [
       "current loss = 1.8704963652205\t\n",
       "current loss = 1.8703559273647\t\n"
      ]
     },
     "execution_count": 8,
     "metadata": {},
     "output_type": "execute_result"
    },
    {
     "data": {
      "text/plain": [
       "current loss = 1.8702155720061\t\n",
       "current loss = 1.8700752990725\t\n",
       "current loss = 1.8699351084922\t\n"
      ]
     },
     "execution_count": 8,
     "metadata": {},
     "output_type": "execute_result"
    },
    {
     "data": {
      "text/plain": [
       "current loss = 1.869795000193\t\n",
       "current loss = 1.8696549741033\t\n",
       "current loss = 1.8695150301511\t\n"
      ]
     },
     "execution_count": 8,
     "metadata": {},
     "output_type": "execute_result"
    },
    {
     "data": {
      "text/plain": [
       "current loss = 1.8693751682648\t\n",
       "current loss = 1.8692353883729\t\n",
       "current loss = 1.8690956904038\t\n"
      ]
     },
     "execution_count": 8,
     "metadata": {},
     "output_type": "execute_result"
    },
    {
     "data": {
      "text/plain": [
       "current loss = 1.868956074286\t\n",
       "current loss = 1.8688165399482\t\n",
       "current loss = 1.8686770873192\t\n",
       "current loss = 1.8685377163278\t\n",
       "current loss = 1.8683984269027\t\n"
      ]
     },
     "execution_count": 8,
     "metadata": {},
     "output_type": "execute_result"
    },
    {
     "data": {
      "text/plain": [
       "current loss = 1.8682592189731\t\n",
       "current loss = 1.8681200924679\t\n",
       "current loss = 1.8679810473162\t\n"
      ]
     },
     "execution_count": 8,
     "metadata": {},
     "output_type": "execute_result"
    },
    {
     "data": {
      "text/plain": [
       "current loss = 1.8678420834473\t\n",
       "current loss = 1.8677032007905\t\n",
       "current loss = 1.8675643992751\t\n",
       "current loss = 1.8674256788305\t\n",
       "current loss = 1.8672870393863\t\n"
      ]
     },
     "execution_count": 8,
     "metadata": {},
     "output_type": "execute_result"
    },
    {
     "data": {
      "text/plain": [
       "current loss = 1.8671484808721\t\n",
       "current loss = 1.8670100032176\t\n",
       "current loss = 1.8668716063525\t\n"
      ]
     },
     "execution_count": 8,
     "metadata": {},
     "output_type": "execute_result"
    },
    {
     "data": {
      "text/plain": [
       "current loss = 1.8667332902067\t\n",
       "current loss = 1.8665950547101\t\n",
       "current loss = 1.8664568997926\t\n",
       "current loss = 1.8663188253844\t\n"
      ]
     },
     "execution_count": 8,
     "metadata": {},
     "output_type": "execute_result"
    },
    {
     "data": {
      "text/plain": [
       "current loss = 1.8661808314157\t\n",
       "current loss = 1.8660429178165\t\n",
       "current loss = 1.8659050845174\t\n",
       "current loss = 1.8657673314486\t\n",
       "current loss = 1.8656296585406\t\n"
      ]
     },
     "execution_count": 8,
     "metadata": {},
     "output_type": "execute_result"
    },
    {
     "data": {
      "text/plain": [
       "current loss = 1.865492065724\t\n",
       "current loss = 1.8653545529294\t\n",
       "current loss = 1.8652171200875\t\n",
       "current loss = 1.8650797671291\t"
      ]
     },
     "execution_count": 8,
     "metadata": {},
     "output_type": "execute_result"
    },
    {
     "data": {
      "text/plain": [
       "\n",
       "current loss = 1.864942493985\t\n",
       "current loss = 1.8648053005862\t\n",
       "current loss = 1.8646681868636\t\n",
       "current loss = 1.8645311527485\t\n"
      ]
     },
     "execution_count": 8,
     "metadata": {},
     "output_type": "execute_result"
    },
    {
     "data": {
      "text/plain": [
       "current loss = 1.8643941981719\t\n",
       "current loss = 1.864257323065\t\n",
       "current loss = 1.8641205273593\t\n",
       "current loss = 1.8639838109861\t\n"
      ]
     },
     "execution_count": 8,
     "metadata": {},
     "output_type": "execute_result"
    },
    {
     "data": {
      "text/plain": [
       "current loss = 1.8638471738769\t\n",
       "current loss = 1.8637106159632\t\n",
       "current loss = 1.8635741371767\t\n"
      ]
     },
     "execution_count": 8,
     "metadata": {},
     "output_type": "execute_result"
    },
    {
     "data": {
      "text/plain": [
       "current loss = 1.863437737449\t\n",
       "current loss = 1.863301416712\t\n"
      ]
     },
     "execution_count": 8,
     "metadata": {},
     "output_type": "execute_result"
    },
    {
     "data": {
      "text/plain": [
       "current loss = 1.8631651748975\t\n",
       "current loss = 1.8630290119375\t\n",
       "current loss = 1.8628929277639\t\n"
      ]
     },
     "execution_count": 8,
     "metadata": {},
     "output_type": "execute_result"
    },
    {
     "data": {
      "text/plain": [
       "current loss = 1.8627569223089\t\n",
       "current loss = 1.8626209955045\t\n",
       "current loss = 1.8624851472831\t\n",
       "current loss = 1.862349377577\t\n"
      ]
     },
     "execution_count": 8,
     "metadata": {},
     "output_type": "execute_result"
    },
    {
     "data": {
      "text/plain": [
       "current loss = 1.8622136863185\t\n",
       "current loss = 1.8620780734401\t\n",
       "current loss = 1.8619425388744\t\n"
      ]
     },
     "execution_count": 8,
     "metadata": {},
     "output_type": "execute_result"
    },
    {
     "data": {
      "text/plain": [
       "current loss = 1.8618070825539\t\n",
       "current loss = 1.8616717044113\t\n",
       "current loss = 1.8615364043795\t\n"
      ]
     },
     "execution_count": 8,
     "metadata": {},
     "output_type": "execute_result"
    },
    {
     "data": {
      "text/plain": [
       "current loss = 1.8614011823913\t\n",
       "current loss = 1.8612660383795\t\n",
       "current loss = 1.8611309722772\t\n"
      ]
     },
     "execution_count": 8,
     "metadata": {},
     "output_type": "execute_result"
    },
    {
     "data": {
      "text/plain": [
       "current loss = 1.8609959840175\t\n",
       "current loss = 1.8608610735334\t\n",
       "current loss = 1.8607262407581\t\n",
       "current loss = 1.8605914856251\t\n"
      ]
     },
     "execution_count": 8,
     "metadata": {},
     "output_type": "execute_result"
    },
    {
     "data": {
      "text/plain": [
       "current loss = 1.8604568080676\t\n",
       "current loss = 1.8603222080191\t\n",
       "current loss = 1.860187685413\t\n"
      ]
     },
     "execution_count": 8,
     "metadata": {},
     "output_type": "execute_result"
    },
    {
     "data": {
      "text/plain": [
       "current loss = 1.860053240183\t\n",
       "current loss = 1.8599188722627\t\n",
       "current loss = 1.8597845815859\t\n"
      ]
     },
     "execution_count": 8,
     "metadata": {},
     "output_type": "execute_result"
    },
    {
     "data": {
      "text/plain": [
       "current loss = 1.8596503680864\t\n",
       "current loss = 1.859516231698\t\n",
       "current loss = 1.8593821723547\t\n",
       "current loss = 1.8592481899905\t\n"
      ]
     },
     "execution_count": 8,
     "metadata": {},
     "output_type": "execute_result"
    },
    {
     "data": {
      "text/plain": [
       "current loss = 1.8591142845395\t\n",
       "current loss = 1.858980455936\t\n",
       "current loss = 1.858846704114\t\n"
      ]
     },
     "execution_count": 8,
     "metadata": {},
     "output_type": "execute_result"
    },
    {
     "data": {
      "text/plain": [
       "current loss = 1.8587130290081\t\n",
       "current loss = 1.8585794305525\t\n",
       "current loss = 1.8584459086817\t\n"
      ]
     },
     "execution_count": 8,
     "metadata": {},
     "output_type": "execute_result"
    },
    {
     "data": {
      "text/plain": [
       "current loss = 1.8583124633302\t\n",
       "current loss = 1.8581790944327\t\n"
      ]
     },
     "execution_count": 8,
     "metadata": {},
     "output_type": "execute_result"
    },
    {
     "data": {
      "text/plain": [
       "current loss = 1.8580458019239\t\n",
       "current loss = 1.8579125857384\t\n"
      ]
     },
     "execution_count": 8,
     "metadata": {},
     "output_type": "execute_result"
    },
    {
     "data": {
      "text/plain": [
       "current loss = 1.8577794458112\t\n",
       "current loss = 1.8576463820771\t\n",
       "current loss = 1.8575133944711\t\n"
      ]
     },
     "execution_count": 8,
     "metadata": {},
     "output_type": "execute_result"
    },
    {
     "data": {
      "text/plain": [
       "current loss = 1.8573804829282\t\n",
       "current loss = 1.8572476473836\t\n",
       "current loss = 1.8571148877724\t\n",
       "current loss = 1.85698220403\t\n"
      ]
     },
     "execution_count": 8,
     "metadata": {},
     "output_type": "execute_result"
    },
    {
     "data": {
      "text/plain": [
       "current loss = 1.8568495960915\t\n",
       "current loss = 1.8567170638925\t\n",
       "current loss = 1.8565846073684\t\n"
      ]
     },
     "execution_count": 8,
     "metadata": {},
     "output_type": "execute_result"
    },
    {
     "data": {
      "text/plain": [
       "current loss = 1.8564522264547\t\n",
       "current loss = 1.8563199210871\t\n",
       "current loss = 1.8561876912013\t\n"
      ]
     },
     "execution_count": 8,
     "metadata": {},
     "output_type": "execute_result"
    },
    {
     "data": {
      "text/plain": [
       "current loss = 1.8560555367329\t\n",
       "current loss = 1.8559234576179\t\n",
       "current loss = 1.8557914537921\t\n",
       "current loss = 1.8556595251916\t\n"
      ]
     },
     "execution_count": 8,
     "metadata": {},
     "output_type": "execute_result"
    },
    {
     "data": {
      "text/plain": [
       "current loss = 1.8555276717523\t\n",
       "current loss = 1.8553958934103\t\n",
       "current loss = 1.8552641901019\t\n"
      ]
     },
     "execution_count": 8,
     "metadata": {},
     "output_type": "execute_result"
    },
    {
     "data": {
      "text/plain": [
       "current loss = 1.8551325617633\t\n",
       "current loss = 1.8550010083308\t\n",
       "current loss = 1.8548695297408\t\n",
       "current loss = 1.8547381259297\t\n"
      ]
     },
     "execution_count": 8,
     "metadata": {},
     "output_type": "execute_result"
    },
    {
     "data": {
      "text/plain": [
       "current loss = 1.8546067968342\t\n",
       "current loss = 1.8544755423908\t\n",
       "current loss = 1.8543443625362\t\n"
      ]
     },
     "execution_count": 8,
     "metadata": {},
     "output_type": "execute_result"
    },
    {
     "data": {
      "text/plain": [
       "current loss = 1.8542132572071\t\n",
       "current loss = 1.8540822263403\t\n",
       "current loss = 1.8539512698727\t\n"
      ]
     },
     "execution_count": 8,
     "metadata": {},
     "output_type": "execute_result"
    },
    {
     "data": {
      "text/plain": [
       "current loss = 1.8538203877413\t\n",
       "current loss = 1.8536895798831\t\n",
       "current loss = 1.8535588462352\t\n",
       "current loss = 1.8534281867347\t\n"
      ]
     },
     "execution_count": 8,
     "metadata": {},
     "output_type": "execute_result"
    },
    {
     "data": {
      "text/plain": [
       "current loss = 1.8532976013189\t\n",
       "current loss = 1.853167089925\t\n",
       "current loss = 1.8530366524905\t\n"
      ]
     },
     "execution_count": 8,
     "metadata": {},
     "output_type": "execute_result"
    },
    {
     "data": {
      "text/plain": [
       "current loss = 1.8529062889527\t\n",
       "current loss = 1.8527759992492\t\n",
       "current loss = 1.8526457833175\t\n"
      ]
     },
     "execution_count": 8,
     "metadata": {},
     "output_type": "execute_result"
    },
    {
     "data": {
      "text/plain": [
       "current loss = 1.8525156410954\t\n",
       "current loss = 1.8523855725203\t\n"
      ]
     },
     "execution_count": 8,
     "metadata": {},
     "output_type": "execute_result"
    },
    {
     "data": {
      "text/plain": [
       "current loss = 1.8522555775303\t\n",
       "current loss = 1.8521256560631\t\n",
       "current loss = 1.8519958080565\t\n"
      ]
     },
     "execution_count": 8,
     "metadata": {},
     "output_type": "execute_result"
    },
    {
     "data": {
      "text/plain": [
       "current loss = 1.8518660334487\t\n",
       "current loss = 1.8517363321777\t\n",
       "current loss = 1.8516067041815\t\n"
      ]
     },
     "execution_count": 8,
     "metadata": {},
     "output_type": "execute_result"
    },
    {
     "data": {
      "text/plain": [
       "current loss = 1.8514771493983\t\n",
       "current loss = 1.8513476677665\t\n",
       "current loss = 1.8512182592243\t\n"
      ]
     },
     "execution_count": 8,
     "metadata": {},
     "output_type": "execute_result"
    },
    {
     "data": {
      "text/plain": [
       "current loss = 1.8510889237102\t\n",
       "current loss = 1.8509596611625\t\n",
       "current loss = 1.8508304715198\t\n",
       "current loss = 1.8507013547206\t\n"
      ]
     },
     "execution_count": 8,
     "metadata": {},
     "output_type": "execute_result"
    },
    {
     "data": {
      "text/plain": [
       "current loss = 1.8505723107037\t\n",
       "current loss = 1.8504433394078\t\n",
       "current loss = 1.8503144407717\t\n"
      ]
     },
     "execution_count": 8,
     "metadata": {},
     "output_type": "execute_result"
    },
    {
     "data": {
      "text/plain": [
       "current loss = 1.8501856147342\t\n",
       "current loss = 1.8500568612342\t\n",
       "current loss = 1.8499281802107\t\n",
       "current loss = 1.8497995716029\t\n"
      ]
     },
     "execution_count": 8,
     "metadata": {},
     "output_type": "execute_result"
    },
    {
     "data": {
      "text/plain": [
       "current loss = 1.8496710353498\t\n",
       "current loss = 1.8495425713905\t\n"
      ]
     },
     "execution_count": 8,
     "metadata": {},
     "output_type": "execute_result"
    },
    {
     "data": {
      "text/plain": [
       "current loss = 1.8494141796645\t\n"
      ]
     },
     "execution_count": 8,
     "metadata": {},
     "output_type": "execute_result"
    },
    {
     "data": {
      "text/plain": [
       "current loss = 1.8492858601109\t\n"
      ]
     },
     "execution_count": 8,
     "metadata": {},
     "output_type": "execute_result"
    },
    {
     "data": {
      "text/plain": [
       "current loss = 1.8491576126692\t\n"
      ]
     },
     "execution_count": 8,
     "metadata": {},
     "output_type": "execute_result"
    },
    {
     "data": {
      "text/plain": [
       "current loss = 1.8490294372789\t\n",
       "current loss = 1.8489013338794\t\n",
       "current loss = 1.8487733024104\t\n"
      ]
     },
     "execution_count": 8,
     "metadata": {},
     "output_type": "execute_result"
    },
    {
     "data": {
      "text/plain": [
       "current loss = 1.8486453428114\t\n",
       "current loss = 1.8485174550223\t\n",
       "current loss = 1.8483896389829\t\n"
      ]
     },
     "execution_count": 8,
     "metadata": {},
     "output_type": "execute_result"
    },
    {
     "data": {
      "text/plain": [
       "current loss = 1.8482618946328\t\n",
       "current loss = 1.8481342219122\t\n",
       "current loss = 1.8480066207609\t\n"
      ]
     },
     "execution_count": 8,
     "metadata": {},
     "output_type": "execute_result"
    },
    {
     "data": {
      "text/plain": [
       "current loss = 1.847879091119\t\n",
       "current loss = 1.8477516329267\t\n",
       "current loss = 1.847624246124\t\n",
       "current loss = 1.8474969306513\t\n"
      ]
     },
     "execution_count": 8,
     "metadata": {},
     "output_type": "execute_result"
    },
    {
     "data": {
      "text/plain": [
       "current loss = 1.8473696864489\t\n",
       "current loss = 1.847242513457\t\n",
       "current loss = 1.8471154116163\t\n"
      ]
     },
     "execution_count": 8,
     "metadata": {},
     "output_type": "execute_result"
    },
    {
     "data": {
      "text/plain": [
       "current loss = 1.8469883808671\t\n",
       "current loss = 1.84686142115\t\n",
       "current loss = 1.8467345324057\t\n",
       "current loss = 1.8466077145748\t\n"
      ]
     },
     "execution_count": 8,
     "metadata": {},
     "output_type": "execute_result"
    },
    {
     "data": {
      "text/plain": [
       "current loss = 1.8464809675982\t\n",
       "current loss = 1.8463542914166\t\n",
       "current loss = 1.846227685971\t\n"
      ]
     },
     "execution_count": 8,
     "metadata": {},
     "output_type": "execute_result"
    },
    {
     "data": {
      "text/plain": [
       "current loss = 1.8461011512022\t\n",
       "current loss = 1.8459746870513\t\n"
      ]
     },
     "execution_count": 8,
     "metadata": {},
     "output_type": "execute_result"
    },
    {
     "data": {
      "text/plain": [
       "current loss = 1.8458482934595\t\n",
       "current loss = 1.8457219703677\t\n",
       "current loss = 1.8455957177173\t\n",
       "current loss = 1.8454695354495\t\n"
      ]
     },
     "execution_count": 8,
     "metadata": {},
     "output_type": "execute_result"
    },
    {
     "data": {
      "text/plain": [
       "current loss = 1.8453434235057\t\n",
       "current loss = 1.8452173818272\t\n",
       "current loss = 1.8450914103555\t\n",
       "current loss = 1.8449655090322\t\n",
       "current loss = 1.8448396777988\t\n"
      ]
     },
     "execution_count": 8,
     "metadata": {},
     "output_type": "execute_result"
    },
    {
     "data": {
      "text/plain": [
       "current loss = 1.844713916597\t\n",
       "current loss = 1.8445882253685\t\n",
       "current loss = 1.844462604055\t\n",
       "current loss = 1.8443370525985\t\n"
      ]
     },
     "execution_count": 8,
     "metadata": {},
     "output_type": "execute_result"
    },
    {
     "data": {
      "text/plain": [
       "current loss = 1.8442115709408\t\n",
       "current loss = 1.8440861590239\t\n",
       "current loss = 1.8439608167898\t\n",
       "current loss = 1.8438355441806\t\n"
      ]
     },
     "execution_count": 8,
     "metadata": {},
     "output_type": "execute_result"
    },
    {
     "data": {
      "text/plain": [
       "current loss = 1.8437103411386\t\n",
       "current loss = 1.8435852076058\t\n",
       "current loss = 1.8434601435245\t\n",
       "current loss = 1.8433351488372\t\n"
      ]
     },
     "execution_count": 8,
     "metadata": {},
     "output_type": "execute_result"
    },
    {
     "data": {
      "text/plain": [
       "current loss = 1.8432102234863\t\n",
       "current loss = 1.8430853674141\t\n",
       "current loss = 1.8429605805632\t\n",
       "current loss = 1.8428358628762\t\n"
      ]
     },
     "execution_count": 8,
     "metadata": {},
     "output_type": "execute_result"
    },
    {
     "data": {
      "text/plain": [
       "current loss = 1.8427112142958\t\n",
       "current loss = 1.8425866347647\t\n",
       "current loss = 1.8424621242256\t\n",
       "current loss = 1.8423376826215\t\n"
      ]
     },
     "execution_count": 8,
     "metadata": {},
     "output_type": "execute_result"
    },
    {
     "data": {
      "text/plain": [
       "current loss = 1.8422133098951\t\n",
       "current loss = 1.8420890059895\t\n",
       "current loss = 1.8419647708476\t\n",
       "current loss = 1.8418406044127\t\n"
      ]
     },
     "execution_count": 8,
     "metadata": {},
     "output_type": "execute_result"
    },
    {
     "data": {
      "text/plain": [
       "current loss = 1.8417165066277\t\n",
       "current loss = 1.8415924774359\t\n",
       "current loss = 1.8414685167807\t\n",
       "current loss = 1.8413446246052\t\n"
      ]
     },
     "execution_count": 8,
     "metadata": {},
     "output_type": "execute_result"
    },
    {
     "data": {
      "text/plain": [
       "current loss = 1.841220800853\t\n",
       "current loss = 1.8410970454674\t\n",
       "current loss = 1.840973358392\t\n",
       "current loss = 1.8408497395703\t\n"
      ]
     },
     "execution_count": 8,
     "metadata": {},
     "output_type": "execute_result"
    },
    {
     "data": {
      "text/plain": [
       "current loss = 1.840726188946\t\n",
       "current loss = 1.8406027064628\t\n",
       "current loss = 1.8404792920643\t\n",
       "current loss = 1.8403559456946\t\n",
       "current loss = 1.8402326672973\t\n"
      ]
     },
     "execution_count": 8,
     "metadata": {},
     "output_type": "execute_result"
    },
    {
     "data": {
      "text/plain": [
       "current loss = 1.8401094568164\t\n",
       "current loss = 1.839986314196\t\n",
       "current loss = 1.8398632393801\t\n",
       "current loss = 1.8397402323128\t\n"
      ]
     },
     "execution_count": 8,
     "metadata": {},
     "output_type": "execute_result"
    },
    {
     "data": {
      "text/plain": [
       "current loss = 1.8396172929383\t\n",
       "current loss = 1.8394944212008\t\n",
       "current loss = 1.8393716170447\t\n",
       "current loss = 1.8392488804142\t\n",
       "current loss = 1.8391262112537\t\n"
      ]
     },
     "execution_count": 8,
     "metadata": {},
     "output_type": "execute_result"
    },
    {
     "data": {
      "text/plain": [
       "current loss = 1.8390036095078\t\n",
       "current loss = 1.8388810751211\t\n",
       "current loss = 1.8387586080379\t\n"
      ]
     },
     "execution_count": 8,
     "metadata": {},
     "output_type": "execute_result"
    },
    {
     "data": {
      "text/plain": [
       "current loss = 1.8386362082032\t\n",
       "current loss = 1.8385138755614\t\n",
       "current loss = 1.8383916100575\t\n"
      ]
     },
     "execution_count": 8,
     "metadata": {},
     "output_type": "execute_result"
    },
    {
     "data": {
      "text/plain": [
       "current loss = 1.8382694116362\t\n",
       "current loss = 1.8381472802425\t\n",
       "current loss = 1.8380252158212\t\n"
      ]
     },
     "execution_count": 8,
     "metadata": {},
     "output_type": "execute_result"
    },
    {
     "data": {
      "text/plain": [
       "current loss = 1.8379032183174\t\n",
       "current loss = 1.8377812876762\t\n",
       "current loss = 1.8376594238426\t\n",
       "current loss = 1.8375376267619\t\n"
      ]
     },
     "execution_count": 8,
     "metadata": {},
     "output_type": "execute_result"
    },
    {
     "data": {
      "text/plain": [
       "current loss = 1.8374158963792\t\n",
       "current loss = 1.83729423264\t\n",
       "current loss = 1.8371726354895\t\n",
       "current loss = 1.8370511048732\t\n",
       "current loss = 1.8369296407365\t\n"
      ]
     },
     "execution_count": 8,
     "metadata": {},
     "output_type": "execute_result"
    },
    {
     "data": {
      "text/plain": [
       "current loss = 1.8368082430249\t\n",
       "current loss = 1.8366869116842\t\n",
       "current loss = 1.8365656466598\t\n"
      ]
     },
     "execution_count": 8,
     "metadata": {},
     "output_type": "execute_result"
    },
    {
     "data": {
      "text/plain": [
       "current loss = 1.8364444478975\t\n",
       "current loss = 1.8363233153432\t\n",
       "current loss = 1.8362022489425\t\n"
      ]
     },
     "execution_count": 8,
     "metadata": {},
     "output_type": "execute_result"
    },
    {
     "data": {
      "text/plain": [
       "current loss = 1.8360812486414\t\n",
       "current loss = 1.8359603143858\t\n",
       "current loss = 1.8358394461217\t\n",
       "current loss = 1.8357186437952\t\n"
      ]
     },
     "execution_count": 8,
     "metadata": {},
     "output_type": "execute_result"
    },
    {
     "data": {
      "text/plain": [
       "current loss = 1.8355979073523\t\n",
       "current loss = 1.8354772367393\t\n",
       "current loss = 1.8353566319023\t\n",
       "current loss = 1.8352360927877\t\n"
      ]
     },
     "execution_count": 8,
     "metadata": {},
     "output_type": "execute_result"
    },
    {
     "data": {
      "text/plain": [
       "current loss = 1.8351156193417\t\n",
       "current loss = 1.8349952115109\t\n",
       "current loss = 1.8348748692415\t\n",
       "current loss = 1.8347545924802\t\n"
      ]
     },
     "execution_count": 8,
     "metadata": {},
     "output_type": "execute_result"
    },
    {
     "data": {
      "text/plain": [
       "current loss = 1.8346343811735\t\n",
       "current loss = 1.834514235268\t\n",
       "current loss = 1.8343941547104\t\n",
       "current loss = 1.8342741394474\t\n"
      ]
     },
     "execution_count": 8,
     "metadata": {},
     "output_type": "execute_result"
    },
    {
     "data": {
      "text/plain": [
       "current loss = 1.8341541894259\t\n",
       "current loss = 1.8340343045926\t\n",
       "current loss = 1.8339144848945\t\n",
       "current loss = 1.8337947302786\t\n"
      ]
     },
     "execution_count": 8,
     "metadata": {},
     "output_type": "execute_result"
    },
    {
     "data": {
      "text/plain": [
       "current loss = 1.8336750406918\t\n",
       "current loss = 1.8335554160813\t\n",
       "current loss = 1.8334358563941\t\n",
       "current loss = 1.8333163615775\t\n",
       "current loss = 1.8331969315787\t\n"
      ]
     },
     "execution_count": 8,
     "metadata": {},
     "output_type": "execute_result"
    },
    {
     "data": {
      "text/plain": [
       "current loss = 1.833077566345\t\n",
       "current loss = 1.8329582658237\t\n"
      ]
     },
     "execution_count": 8,
     "metadata": {},
     "output_type": "execute_result"
    },
    {
     "data": {
      "text/plain": [
       "current loss = 1.8328390299623\t\n",
       "current loss = 1.8327198587082\t\n",
       "current loss = 1.8326007520089\t\n"
      ]
     },
     "execution_count": 8,
     "metadata": {},
     "output_type": "execute_result"
    },
    {
     "data": {
      "text/plain": [
       "current loss = 1.832481709812\t\n",
       "current loss = 1.8323627320652\t\n",
       "current loss = 1.8322438187161\t\n",
       "current loss = 1.8321249697125\t\n",
       "current loss = 1.8320061850022\t\n"
      ]
     },
     "execution_count": 8,
     "metadata": {},
     "output_type": "execute_result"
    },
    {
     "data": {
      "text/plain": [
       "current loss = 1.831887464533\t\n",
       "current loss = 1.8317688082528\t\n",
       "current loss = 1.8316502161097\t\n",
       "current loss = 1.8315316880515\t\n"
      ]
     },
     "execution_count": 8,
     "metadata": {},
     "output_type": "execute_result"
    },
    {
     "data": {
      "text/plain": [
       "current loss = 1.8314132240264\t\n",
       "current loss = 1.8312948239826\t\n",
       "current loss = 1.8311764878681\t\n",
       "current loss = 1.8310582156313\t\n"
      ]
     },
     "execution_count": 8,
     "metadata": {},
     "output_type": "execute_result"
    },
    {
     "data": {
      "text/plain": [
       "current loss = 1.8309400072204\t\n",
       "current loss = 1.8308218625838\t\n",
       "current loss = 1.8307037816698\t\n",
       "current loss = 1.8305857644269\t\n"
      ]
     },
     "execution_count": 8,
     "metadata": {},
     "output_type": "execute_result"
    },
    {
     "data": {
      "text/plain": [
       "current loss = 1.8304678108037\t\n",
       "current loss = 1.8303499207487\t\n",
       "current loss = 1.8302320942105\t\n",
       "current loss = 1.8301143311378\t\n"
      ]
     },
     "execution_count": 8,
     "metadata": {},
     "output_type": "execute_result"
    },
    {
     "data": {
      "text/plain": [
       "current loss = 1.8299966314793\t\n",
       "current loss = 1.8298789951837\t\n",
       "current loss = 1.8297614222\t\n",
       "current loss = 1.8296439124771\t\n"
      ]
     },
     "execution_count": 8,
     "metadata": {},
     "output_type": "execute_result"
    },
    {
     "data": {
      "text/plain": [
       "current loss = 1.8295264659637\t\n",
       "current loss = 1.829409082609\t\n",
       "current loss = 1.829291762362\t\n",
       "current loss = 1.8291745051718\t\n"
      ]
     },
     "execution_count": 8,
     "metadata": {},
     "output_type": "execute_result"
    },
    {
     "data": {
      "text/plain": [
       "current loss = 1.8290573109876\t\n",
       "current loss = 1.8289401797585\t\n",
       "current loss = 1.8288231114338\t\n",
       "current loss = 1.8287061059629\t\n"
      ]
     },
     "execution_count": 8,
     "metadata": {},
     "output_type": "execute_result"
    },
    {
     "data": {
      "text/plain": [
       "current loss = 1.8285891632951\t\n",
       "current loss = 1.8284722833798\t\n",
       "current loss = 1.8283554661665\t\n",
       "current loss = 1.8282387116047\t\n",
       "current loss = 1.8281220196441\t\n"
      ]
     },
     "execution_count": 8,
     "metadata": {},
     "output_type": "execute_result"
    },
    {
     "data": {
      "text/plain": [
       "current loss = 1.8280053902341\t\n",
       "current loss = 1.8278888233247\t\n",
       "current loss = 1.8277723188654\t\n"
      ]
     },
     "execution_count": 8,
     "metadata": {},
     "output_type": "execute_result"
    },
    {
     "data": {
      "text/plain": [
       "current loss = 1.827655876806\t\n",
       "current loss = 1.8275394970965\t\n"
      ]
     },
     "execution_count": 8,
     "metadata": {},
     "output_type": "execute_result"
    },
    {
     "data": {
      "text/plain": [
       "current loss = 1.8274231796866\t\n",
       "current loss = 1.8273069245264\t\n",
       "current loss = 1.8271907315659\t\n",
       "current loss = 1.8270746007551\t\n"
      ]
     },
     "execution_count": 8,
     "metadata": {},
     "output_type": "execute_result"
    },
    {
     "data": {
      "text/plain": [
       "current loss = 1.8269585320441\t\n",
       "current loss = 1.8268425253831\t\n",
       "current loss = 1.8267265807222\t\n",
       "current loss = 1.8266106980118\t\n"
      ]
     },
     "execution_count": 8,
     "metadata": {},
     "output_type": "execute_result"
    },
    {
     "data": {
      "text/plain": [
       "current loss = 1.8264948772022\t\n"
      ]
     },
     "execution_count": 8,
     "metadata": {},
     "output_type": "execute_result"
    },
    {
     "data": {
      "text/plain": [
       "current loss = 1.8263791182437\t\n",
       "current loss = 1.8262634210868\t\n",
       "current loss = 1.8261477856818\t\n",
       "current loss = 1.8260322119794\t"
      ]
     },
     "execution_count": 8,
     "metadata": {},
     "output_type": "execute_result"
    },
    {
     "data": {
      "text/plain": [
       "\n",
       "current loss = 1.8259166999302\t\n",
       "current loss = 1.8258012494846\t\n",
       "current loss = 1.8256858605935\t\n"
      ]
     },
     "execution_count": 8,
     "metadata": {},
     "output_type": "execute_result"
    },
    {
     "data": {
      "text/plain": [
       "current loss = 1.8255705332075\t\n",
       "current loss = 1.8254552672775\t\n",
       "current loss = 1.8253400627542\t\n",
       "current loss = 1.8252249195886\t\n"
      ]
     },
     "execution_count": 8,
     "metadata": {},
     "output_type": "execute_result"
    },
    {
     "data": {
      "text/plain": [
       "current loss = 1.8251098377315\t\n",
       "current loss = 1.824994817134\t\n",
       "current loss = 1.8248798577471\t\n"
      ]
     },
     "execution_count": 8,
     "metadata": {},
     "output_type": "execute_result"
    },
    {
     "data": {
      "text/plain": [
       "current loss = 1.8247649595219\t\n",
       "current loss = 1.8246501224095\t\n",
       "current loss = 1.8245353463611\t\n"
      ]
     },
     "execution_count": 8,
     "metadata": {},
     "output_type": "execute_result"
    },
    {
     "data": {
      "text/plain": [
       "current loss = 1.824420631328\t\n",
       "current loss = 1.8243059772614\t\n",
       "current loss = 1.8241913841127\t\n",
       "current loss = 1.8240768518333\t\n"
      ]
     },
     "execution_count": 8,
     "metadata": {},
     "output_type": "execute_result"
    },
    {
     "data": {
      "text/plain": [
       "current loss = 1.8239623803745\t\n",
       "current loss = 1.823847969688\t\n",
       "current loss = 1.8237336197253\t\n"
      ]
     },
     "execution_count": 8,
     "metadata": {},
     "output_type": "execute_result"
    },
    {
     "data": {
      "text/plain": [
       "current loss = 1.8236193304379\t\n",
       "current loss = 1.8235051017775\t\n",
       "current loss = 1.8233909336957\t"
      ]
     },
     "execution_count": 8,
     "metadata": {},
     "output_type": "execute_result"
    },
    {
     "data": {
      "text/plain": [
       "\n",
       "current loss = 1.8232768261445\t\n",
       "current loss = 1.8231627790754\t\n"
      ]
     },
     "execution_count": 8,
     "metadata": {},
     "output_type": "execute_result"
    },
    {
     "data": {
      "text/plain": [
       "current loss = 1.8230487924404\t\n",
       "current loss = 1.8229348661914\t\n",
       "current loss = 1.8228210002803\t\n"
      ]
     },
     "execution_count": 8,
     "metadata": {},
     "output_type": "execute_result"
    },
    {
     "data": {
      "text/plain": [
       "current loss = 1.8227071946591\t\n",
       "current loss = 1.8225934492798\t\n",
       "current loss = 1.8224797640946\t\n"
      ]
     },
     "execution_count": 8,
     "metadata": {},
     "output_type": "execute_result"
    },
    {
     "data": {
      "text/plain": [
       "current loss = 1.8223661390556\t\n",
       "current loss = 1.822252574115\t\n",
       "current loss = 1.822139069225\t\n"
      ]
     },
     "execution_count": 8,
     "metadata": {},
     "output_type": "execute_result"
    },
    {
     "data": {
      "text/plain": [
       "current loss = 1.8220256243379\t\n",
       "current loss = 1.8219122394061\t\n",
       "current loss = 1.8217989143819\t\n"
      ]
     },
     "execution_count": 8,
     "metadata": {},
     "output_type": "execute_result"
    },
    {
     "data": {
      "text/plain": [
       "current loss = 1.8216856492178\t\n",
       "current loss = 1.8215724438664\t\n",
       "current loss = 1.82145929828\t\n",
       "current loss = 1.8213462124113\t\n"
      ]
     },
     "execution_count": 8,
     "metadata": {},
     "output_type": "execute_result"
    },
    {
     "data": {
      "text/plain": [
       "current loss = 1.821233186213\t\n",
       "current loss = 1.8211202196378\t\n",
       "current loss = 1.8210073126383\t\n"
      ]
     },
     "execution_count": 8,
     "metadata": {},
     "output_type": "execute_result"
    },
    {
     "data": {
      "text/plain": [
       "current loss = 1.8208944651673\t\n",
       "current loss = 1.8207816771778\t\n",
       "current loss = 1.8206689486225\t\n"
      ]
     },
     "execution_count": 8,
     "metadata": {},
     "output_type": "execute_result"
    },
    {
     "data": {
      "text/plain": [
       "current loss = 1.8205562794544\t\n",
       "current loss = 1.8204436696265\t\n",
       "current loss = 1.8203311190918\t\n"
      ]
     },
     "execution_count": 8,
     "metadata": {},
     "output_type": "execute_result"
    },
    {
     "data": {
      "text/plain": [
       "current loss = 1.8202186278034\t\n",
       "current loss = 1.8201061957145\t\n",
       "current loss = 1.819993822778\t\n",
       "current loss = 1.8198815089475\t\n"
      ]
     },
     "execution_count": 8,
     "metadata": {},
     "output_type": "execute_result"
    },
    {
     "data": {
      "text/plain": [
       "current loss = 1.8197692541759\t\n",
       "current loss = 1.8196570584168\t\n",
       "current loss = 1.8195449216234\t\n"
      ]
     },
     "execution_count": 8,
     "metadata": {},
     "output_type": "execute_result"
    },
    {
     "data": {
      "text/plain": [
       "current loss = 1.8194328437492\t\n",
       "current loss = 1.8193208247476\t\n",
       "current loss = 1.8192088645722\t\n",
       "current loss = 1.8190969631765\t\n"
      ]
     },
     "execution_count": 8,
     "metadata": {},
     "output_type": "execute_result"
    },
    {
     "data": {
      "text/plain": [
       "current loss = 1.8189851205141\t\n",
       "current loss = 1.8188733365387\t\n",
       "current loss = 1.8187616112039\t\n"
      ]
     },
     "execution_count": 8,
     "metadata": {},
     "output_type": "execute_result"
    },
    {
     "data": {
      "text/plain": [
       "current loss = 1.8186499444635\t\n",
       "current loss = 1.8185383362714\t\n"
      ]
     },
     "execution_count": 8,
     "metadata": {},
     "output_type": "execute_result"
    },
    {
     "data": {
      "text/plain": [
       "current loss = 1.8184267865813\t\n",
       "current loss = 1.8183152953472\t\n",
       "current loss = 1.8182038625229\t\n"
      ]
     },
     "execution_count": 8,
     "metadata": {},
     "output_type": "execute_result"
    },
    {
     "data": {
      "text/plain": [
       "current loss = 1.8180924880625\t\n",
       "current loss = 1.8179811719201\t\n",
       "current loss = 1.8178699140496\t\n"
      ]
     },
     "execution_count": 8,
     "metadata": {},
     "output_type": "execute_result"
    },
    {
     "data": {
      "text/plain": [
       "current loss = 1.8177587144052\t\n",
       "current loss = 1.8176475729412\t\n",
       "current loss = 1.8175364896116\t\n"
      ]
     },
     "execution_count": 8,
     "metadata": {},
     "output_type": "execute_result"
    },
    {
     "data": {
      "text/plain": [
       "current loss = 1.8174254643708\t\n",
       "current loss = 1.8173144971732\t\n",
       "current loss = 1.817203587973\t\n",
       "current loss = 1.8170927367247\t\n"
      ]
     },
     "execution_count": 8,
     "metadata": {},
     "output_type": "execute_result"
    },
    {
     "data": {
      "text/plain": [
       "current loss = 1.8169819433827\t\n",
       "current loss = 1.8168712079016\t\n",
       "current loss = 1.8167605302358\t\n"
      ]
     },
     "execution_count": 8,
     "metadata": {},
     "output_type": "execute_result"
    },
    {
     "data": {
      "text/plain": [
       "current loss = 1.81664991034\t\n",
       "current loss = 1.8165393481689\t\n",
       "current loss = 1.8164288436771\t\n"
      ]
     },
     "execution_count": 8,
     "metadata": {},
     "output_type": "execute_result"
    },
    {
     "data": {
      "text/plain": [
       "current loss = 1.8163183968193\t\n",
       "current loss = 1.8162080075504\t\n",
       "current loss = 1.8160976758252\t\n",
       "current loss = 1.8159874015985\t\n"
      ]
     },
     "execution_count": 8,
     "metadata": {},
     "output_type": "execute_result"
    },
    {
     "data": {
      "text/plain": [
       "current loss = 1.8158771848252\t\n",
       "current loss = 1.8157670254604\t\n",
       "current loss = 1.8156569234591\t\n"
      ]
     },
     "execution_count": 8,
     "metadata": {},
     "output_type": "execute_result"
    },
    {
     "data": {
      "text/plain": [
       "current loss = 1.8155468787762\t\n",
       "current loss = 1.815436891367\t\n",
       "current loss = 1.8153269611866\t\n",
       "current loss = 1.8152170881901\t\n"
      ]
     },
     "execution_count": 8,
     "metadata": {},
     "output_type": "execute_result"
    },
    {
     "data": {
      "text/plain": [
       "current loss = 1.8151072723328\t\n",
       "current loss = 1.81499751357\t\n",
       "current loss = 1.8148878118571\t\n"
      ]
     },
     "execution_count": 8,
     "metadata": {},
     "output_type": "execute_result"
    },
    {
     "data": {
      "text/plain": [
       "current loss = 1.8147781671493\t\n",
       "current loss = 1.8146685794022\t\n"
      ]
     },
     "execution_count": 8,
     "metadata": {},
     "output_type": "execute_result"
    },
    {
     "data": {
      "text/plain": [
       "current loss = 1.8145590485713\t\n"
      ]
     },
     "execution_count": 8,
     "metadata": {},
     "output_type": "execute_result"
    },
    {
     "data": {
      "text/plain": [
       "current loss = 1.8144495746119\t\n"
      ]
     },
     "execution_count": 8,
     "metadata": {},
     "output_type": "execute_result"
    },
    {
     "data": {
      "text/plain": [
       "current loss = 1.8143401574797\t\n"
      ]
     },
     "execution_count": 8,
     "metadata": {},
     "output_type": "execute_result"
    },
    {
     "data": {
      "text/plain": [
       "current loss = 1.8142307971304\t\n",
       "current loss = 1.8141214935195\t\n",
       "current loss = 1.8140122466027\t\n"
      ]
     },
     "execution_count": 8,
     "metadata": {},
     "output_type": "execute_result"
    },
    {
     "data": {
      "text/plain": [
       "current loss = 1.8139030563359\t\n",
       "current loss = 1.8137939226747\t\n",
       "current loss = 1.8136848455751\t\n",
       "current loss = 1.8135758249928\t\n"
      ]
     },
     "execution_count": 8,
     "metadata": {},
     "output_type": "execute_result"
    },
    {
     "data": {
      "text/plain": [
       "current loss = 1.8134668608839\t\n",
       "current loss = 1.8133579532043\t\n",
       "current loss = 1.81324910191\t\n"
      ]
     },
     "execution_count": 8,
     "metadata": {},
     "output_type": "execute_result"
    },
    {
     "data": {
      "text/plain": [
       "current loss = 1.813140306957\t\n",
       "current loss = 1.8130315683016\t\n",
       "current loss = 1.8129228858997\t\n"
      ]
     },
     "execution_count": 8,
     "metadata": {},
     "output_type": "execute_result"
    },
    {
     "data": {
      "text/plain": [
       "current loss = 1.8128142597076\t\n",
       "current loss = 1.8127056896816\t\n",
       "current loss = 1.8125971757779\t\n"
      ]
     },
     "execution_count": 8,
     "metadata": {},
     "output_type": "execute_result"
    },
    {
     "data": {
      "text/plain": [
       "current loss = 1.8124887179529\t\n",
       "current loss = 1.8123803161629\t\n",
       "current loss = 1.8122719703643\t\n",
       "current loss = 1.8121636805136\t\n"
      ]
     },
     "execution_count": 8,
     "metadata": {},
     "output_type": "execute_result"
    },
    {
     "data": {
      "text/plain": [
       "current loss = 1.8120554465673\t\n",
       "current loss = 1.811947268482\t\n",
       "current loss = 1.8118391462142\t\n"
      ]
     },
     "execution_count": 8,
     "metadata": {},
     "output_type": "execute_result"
    },
    {
     "data": {
      "text/plain": [
       "current loss = 1.8117310797206\t\n",
       "current loss = 1.8116230689579\t\n",
       "current loss = 1.8115151138827\t\n"
      ]
     },
     "execution_count": 8,
     "metadata": {},
     "output_type": "execute_result"
    },
    {
     "data": {
      "text/plain": [
       "current loss = 1.8114072144519\t\n",
       "current loss = 1.8112993706222\t\n"
      ]
     },
     "execution_count": 8,
     "metadata": {},
     "output_type": "execute_result"
    },
    {
     "data": {
      "text/plain": [
       "current loss = 1.8111915823506\t\n",
       "current loss = 1.8110838495939\t\n",
       "current loss = 1.810976172309\t\n",
       "current loss = 1.810868550453\t\n"
      ]
     },
     "execution_count": 8,
     "metadata": {},
     "output_type": "execute_result"
    },
    {
     "data": {
      "text/plain": [
       "current loss = 1.8107609839828\t\n",
       "current loss = 1.8106534728556\t\n",
       "current loss = 1.8105460170285\t\n",
       "current loss = 1.8104386164586\t\n"
      ]
     },
     "execution_count": 8,
     "metadata": {},
     "output_type": "execute_result"
    },
    {
     "data": {
      "text/plain": [
       "current loss = 1.8103312711031\t\n",
       "current loss = 1.8102239809192\t\n",
       "current loss = 1.8101167458644\t\n",
       "current loss = 1.8100095658959\t\n",
       "current loss = 1.809902440971\t\n"
      ]
     },
     "execution_count": 8,
     "metadata": {},
     "output_type": "execute_result"
    },
    {
     "data": {
      "text/plain": [
       "current loss = 1.8097953710472\t\n",
       "current loss = 1.809688356082\t\n",
       "current loss = 1.8095813960328\t\n",
       "current loss = 1.8094744908573\t"
      ]
     },
     "execution_count": 8,
     "metadata": {},
     "output_type": "execute_result"
    },
    {
     "data": {
      "text/plain": [
       "\n",
       "current loss = 1.809367640513\t\n",
       "current loss = 1.8092608449575\t\n",
       "current loss = 1.8091541041485\t\n"
      ]
     },
     "execution_count": 8,
     "metadata": {},
     "output_type": "execute_result"
    },
    {
     "data": {
      "text/plain": [
       "current loss = 1.8090474180438\t\n",
       "current loss = 1.8089407866011\t\n",
       "current loss = 1.8088342097782\t\n",
       "current loss = 1.8087276875329\t\n"
      ]
     },
     "execution_count": 8,
     "metadata": {},
     "output_type": "execute_result"
    },
    {
     "data": {
      "text/plain": [
       "current loss = 1.8086212198232\t\n",
       "current loss = 1.808514806607\t\n",
       "current loss = 1.8084084478422\t\n",
       "current loss = 1.8083021434869\t\n"
      ]
     },
     "execution_count": 8,
     "metadata": {},
     "output_type": "execute_result"
    },
    {
     "data": {
      "text/plain": [
       "current loss = 1.8081958934992\t\n",
       "current loss = 1.808089697837\t\n",
       "current loss = 1.8079835564587\t\n",
       "current loss = 1.8078774693223\t\n"
      ]
     },
     "execution_count": 8,
     "metadata": {},
     "output_type": "execute_result"
    },
    {
     "data": {
      "text/plain": [
       "current loss = 1.8077714363861\t\n",
       "current loss = 1.8076654576084\t\n",
       "current loss = 1.8075595329475\t\n",
       "current loss = 1.8074536623617\t\n",
       "current loss = 1.8073478458094\t\n"
      ]
     },
     "execution_count": 8,
     "metadata": {},
     "output_type": "execute_result"
    },
    {
     "data": {
      "text/plain": [
       "current loss = 1.8072420832491\t\n",
       "current loss = 1.8071363746393\t\n",
       "current loss = 1.8070307199384\t\n",
       "current loss = 1.8069251191051\t\n"
      ]
     },
     "execution_count": 8,
     "metadata": {},
     "output_type": "execute_result"
    },
    {
     "data": {
      "text/plain": [
       "current loss = 1.8068195720979\t\n",
       "current loss = 1.8067140788755\t\n",
       "current loss = 1.8066086393966\t\n"
      ]
     },
     "execution_count": 8,
     "metadata": {},
     "output_type": "execute_result"
    },
    {
     "data": {
      "text/plain": [
       "current loss = 1.8065032536199\t\n",
       "current loss = 1.8063979215042\t\n",
       "current loss = 1.8062926430083\t\n"
      ]
     },
     "execution_count": 8,
     "metadata": {},
     "output_type": "execute_result"
    },
    {
     "data": {
      "text/plain": [
       "current loss = 1.806187418091\t\n",
       "current loss = 1.8060822467113\t\n",
       "current loss = 1.805977128828\t\n",
       "current loss = 1.8058720644003\t\n"
      ]
     },
     "execution_count": 8,
     "metadata": {},
     "output_type": "execute_result"
    },
    {
     "data": {
      "text/plain": [
       "current loss = 1.805767053387\t\n",
       "current loss = 1.8056620957472\t\n",
       "current loss = 1.8055571914401\t\n",
       "current loss = 1.8054523404248\t\n"
      ]
     },
     "execution_count": 8,
     "metadata": {},
     "output_type": "execute_result"
    },
    {
     "data": {
      "text/plain": [
       "current loss = 1.8053475426605\t\n",
       "current loss = 1.8052427981063\t\n",
       "current loss = 1.8051381067216\t\n",
       "current loss = 1.8050334684657\t\n",
       "current loss = 1.8049288832979\t\n"
      ]
     },
     "execution_count": 8,
     "metadata": {},
     "output_type": "execute_result"
    },
    {
     "data": {
      "text/plain": [
       "current loss = 1.8048243511776\t\n",
       "current loss = 1.8047198720642\t\n",
       "current loss = 1.8046154459172\t\n",
       "current loss = 1.8045110726961\t\n"
      ]
     },
     "execution_count": 8,
     "metadata": {},
     "output_type": "execute_result"
    },
    {
     "data": {
      "text/plain": [
       "current loss = 1.8044067523605\t\n",
       "current loss = 1.8043024848699\t\n",
       "current loss = 1.804198270184\t\n",
       "current loss = 1.8040941082625\t\n",
       "current loss = 1.803989999065\t\n"
      ]
     },
     "execution_count": 8,
     "metadata": {},
     "output_type": "execute_result"
    },
    {
     "data": {
      "text/plain": [
       "current loss = 1.8038859425513\t\n",
       "current loss = 1.8037819386812\t\n",
       "current loss = 1.8036779874146\t\n",
       "current loss = 1.8035740887112\t\n"
      ]
     },
     "execution_count": 8,
     "metadata": {},
     "output_type": "execute_result"
    },
    {
     "data": {
      "text/plain": [
       "current loss = 1.8034702425311\t\n",
       "current loss = 1.8033664488341\t\n",
       "current loss = 1.8032627075804\t\n",
       "current loss = 1.8031590187298\t\n"
      ]
     },
     "execution_count": 8,
     "metadata": {},
     "output_type": "execute_result"
    },
    {
     "data": {
      "text/plain": [
       "current loss = 1.8030553822424\t\n",
       "current loss = 1.8029517980785\t\n",
       "current loss = 1.8028482661981\t\n",
       "current loss = 1.8027447865614\t\n"
      ]
     },
     "execution_count": 8,
     "metadata": {},
     "output_type": "execute_result"
    },
    {
     "data": {
      "text/plain": [
       "current loss = 1.8026413591286\t\n",
       "current loss = 1.8025379838601\t\n",
       "current loss = 1.8024346607161\t\n",
       "current loss = 1.802331389657\t\n"
      ]
     },
     "execution_count": 8,
     "metadata": {},
     "output_type": "execute_result"
    },
    {
     "data": {
      "text/plain": [
       "current loss = 1.8022281706432\t\n",
       "current loss = 1.802125003635\t\n",
       "current loss = 1.802021888593\t\n",
       "current loss = 1.8019188254777\t\n",
       "current loss = 1.8018158142496\t\n"
      ]
     },
     "execution_count": 8,
     "metadata": {},
     "output_type": "execute_result"
    },
    {
     "data": {
      "text/plain": [
       "current loss = 1.8017128548693\t\n",
       "current loss = 1.8016099472975\t\n",
       "current loss = 1.8015070914947\t\n"
      ]
     },
     "execution_count": 8,
     "metadata": {},
     "output_type": "execute_result"
    },
    {
     "data": {
      "text/plain": [
       "current loss = 1.8014042874218\t\n",
       "current loss = 1.8013015350393\t\n",
       "current loss = 1.8011988343082\t"
      ]
     },
     "execution_count": 8,
     "metadata": {},
     "output_type": "execute_result"
    },
    {
     "data": {
      "text/plain": [
       "\n",
       "current loss = 1.8010961851893\t\n",
       "current loss = 1.8009935876433\t\n",
       "current loss = 1.8008910416312\t\n"
      ]
     },
     "execution_count": 8,
     "metadata": {},
     "output_type": "execute_result"
    },
    {
     "data": {
      "text/plain": [
       "current loss = 1.800788547114\t\n",
       "current loss = 1.8006861040526\t\n",
       "current loss = 1.8005837124079\t\n",
       "current loss = 1.8004813721412\t\n"
      ]
     },
     "execution_count": 8,
     "metadata": {},
     "output_type": "execute_result"
    },
    {
     "data": {
      "text/plain": [
       "current loss = 1.8003790832134\t\n",
       "current loss = 1.8002768455858\t\n",
       "current loss = 1.8001746592194\t\n",
       "current loss = 1.8000725240754\t\n"
      ]
     },
     "execution_count": 8,
     "metadata": {},
     "output_type": "execute_result"
    },
    {
     "data": {
      "text/plain": [
       "current loss = 1.7999704401152\t\n",
       "current loss = 1.7998684073\t\n",
       "current loss = 1.7997664255911\t\n",
       "current loss = 1.7996644949499\t\n"
      ]
     },
     "execution_count": 8,
     "metadata": {},
     "output_type": "execute_result"
    },
    {
     "data": {
      "text/plain": [
       "current loss = 1.7995626153378\t\n",
       "current loss = 1.7994607867162\t\n",
       "current loss = 1.7993590090466\t\n",
       "current loss = 1.7992572822905\t\n"
      ]
     },
     "execution_count": 8,
     "metadata": {},
     "output_type": "execute_result"
    },
    {
     "data": {
      "text/plain": [
       "current loss = 1.7991556064094\t\n",
       "current loss = 1.799053981365\t\n",
       "current loss = 1.7989524071189\t\n",
       "current loss = 1.7988508836327\t\n",
       "current loss = 1.7987494108682\t\n"
      ]
     },
     "execution_count": 8,
     "metadata": {},
     "output_type": "execute_result"
    },
    {
     "data": {
      "text/plain": [
       "current loss = 1.7986479887871\t\n",
       "current loss = 1.7985466173511\t\n",
       "current loss = 1.7984452965221\t\n",
       "current loss = 1.7983440262619\t\n"
      ]
     },
     "execution_count": 8,
     "metadata": {},
     "output_type": "execute_result"
    },
    {
     "data": {
      "text/plain": [
       "current loss = 1.7982428065324\t\n",
       "current loss = 1.7981416372956\t\n",
       "current loss = 1.7980405185135\t\n",
       "current loss = 1.7979394501479\t\n"
      ]
     },
     "execution_count": 8,
     "metadata": {},
     "output_type": "execute_result"
    },
    {
     "data": {
      "text/plain": [
       "current loss = 1.797838432161\t\n",
       "current loss = 1.7977374645149\t\n",
       "current loss = 1.7976365471716\t\n",
       "current loss = 1.7975356800934\t\n"
      ]
     },
     "execution_count": 8,
     "metadata": {},
     "output_type": "execute_result"
    },
    {
     "data": {
      "text/plain": [
       "current loss = 1.7974348632424\t\n",
       "current loss = 1.7973340965808\t\n",
       "current loss = 1.7972333800709\t\n",
       "current loss = 1.797132713675\t\n"
      ]
     },
     "execution_count": 8,
     "metadata": {},
     "output_type": "execute_result"
    },
    {
     "data": {
      "text/plain": [
       "current loss = 1.7970320973554\t\n",
       "current loss = 1.7969315310746\t\n",
       "current loss = 1.796831014795\t\n",
       "current loss = 1.7967305484789\t\n"
      ]
     },
     "execution_count": 8,
     "metadata": {},
     "output_type": "execute_result"
    },
    {
     "data": {
      "text/plain": [
       "current loss = 1.7966301320889\t\n",
       "current loss = 1.7965297655875\t\n",
       "current loss = 1.7964294489372\t\n"
      ]
     },
     "execution_count": 8,
     "metadata": {},
     "output_type": "execute_result"
    },
    {
     "data": {
      "text/plain": [
       "current loss = 1.7963291821008\t\n",
       "current loss = 1.7962289650407\t\n",
       "current loss = 1.7961287977197\t\n"
      ]
     },
     "execution_count": 8,
     "metadata": {},
     "output_type": "execute_result"
    },
    {
     "data": {
      "text/plain": [
       "current loss = 1.7960286801005\t\n",
       "current loss = 1.7959286121458\t\n"
      ]
     },
     "execution_count": 8,
     "metadata": {},
     "output_type": "execute_result"
    },
    {
     "data": {
      "text/plain": [
       "current loss = 1.7958285938184\t\n",
       "current loss = 1.7957286250812\t\n",
       "current loss = 1.7956287058969\t\n",
       "current loss = 1.7955288362285\t\n"
      ]
     },
     "execution_count": 8,
     "metadata": {},
     "output_type": "execute_result"
    },
    {
     "data": {
      "text/plain": [
       "current loss = 1.7954290160389\t\n",
       "current loss = 1.7953292452911\t\n",
       "current loss = 1.795229523948\t\n",
       "current loss = 1.7951298519728\t\n",
       "current loss = 1.7950302293284\t\n"
      ]
     },
     "execution_count": 8,
     "metadata": {},
     "output_type": "execute_result"
    },
    {
     "data": {
      "text/plain": [
       "current loss = 1.794930655978\t\n",
       "current loss = 1.7948311318848\t\n"
      ]
     },
     "execution_count": 8,
     "metadata": {},
     "output_type": "execute_result"
    },
    {
     "data": {
      "text/plain": [
       "current loss = 1.7947316570118\t\n"
      ]
     },
     "execution_count": 8,
     "metadata": {},
     "output_type": "execute_result"
    },
    {
     "data": {
      "text/plain": [
       "current loss = 1.7946322313224\t\n",
       "current loss = 1.7945328547798\t\n",
       "current loss = 1.7944335273473\t\n"
      ]
     },
     "execution_count": 8,
     "metadata": {},
     "output_type": "execute_result"
    },
    {
     "data": {
      "text/plain": [
       "current loss = 1.7943342489881\t\n",
       "current loss = 1.7942350196657\t\n",
       "current loss = 1.7941358393435\t\n"
      ]
     },
     "execution_count": 8,
     "metadata": {},
     "output_type": "execute_result"
    },
    {
     "data": {
      "text/plain": [
       "current loss = 1.7940367079849\t\n",
       "current loss = 1.7939376255533\t\n",
       "current loss = 1.7938385920124\t\n",
       "current loss = 1.7937396073255\t\n"
      ]
     },
     "execution_count": 8,
     "metadata": {},
     "output_type": "execute_result"
    },
    {
     "data": {
      "text/plain": [
       "current loss = 1.7936406714563\t\n",
       "current loss = 1.7935417843684\t\n",
       "current loss = 1.7934429460254\t\n"
      ]
     },
     "execution_count": 8,
     "metadata": {},
     "output_type": "execute_result"
    },
    {
     "data": {
      "text/plain": [
       "current loss = 1.7933441563911\t\n",
       "current loss = 1.7932454154291\t\n",
       "current loss = 1.7931467231032\t\n"
      ]
     },
     "execution_count": 8,
     "metadata": {},
     "output_type": "execute_result"
    },
    {
     "data": {
      "text/plain": [
       "current loss = 1.7930480793772\t\n",
       "current loss = 1.7929494842149\t\n"
      ]
     },
     "execution_count": 8,
     "metadata": {},
     "output_type": "execute_result"
    },
    {
     "data": {
      "text/plain": [
       "current loss = 1.7928509375802\t\n",
       "current loss = 1.792752439437\t\n"
      ]
     },
     "execution_count": 8,
     "metadata": {},
     "output_type": "execute_result"
    },
    {
     "data": {
      "text/plain": [
       "current loss = 1.7926539897491\t\n",
       "current loss = 1.7925555884806\t\n",
       "current loss = 1.7924572355955\t\n"
      ]
     },
     "execution_count": 8,
     "metadata": {},
     "output_type": "execute_result"
    },
    {
     "data": {
      "text/plain": [
       "current loss = 1.7923589310578\t\n",
       "current loss = 1.7922606748315\t\n",
       "current loss = 1.7921624668808\t\n"
      ]
     },
     "execution_count": 8,
     "metadata": {},
     "output_type": "execute_result"
    },
    {
     "data": {
      "text/plain": [
       "current loss = 1.7920643071698\t\n",
       "current loss = 1.7919661956627\t\n",
       "current loss = 1.7918681323238\t\n",
       "current loss = 1.7917701171171\t\n"
      ]
     },
     "execution_count": 8,
     "metadata": {},
     "output_type": "execute_result"
    },
    {
     "data": {
      "text/plain": [
       "current loss = 1.7916721500071\t\n",
       "current loss = 1.791574230958\t\n",
       "current loss = 1.7914763599342\t\n",
       "current loss = 1.7913785369001\t\n"
      ]
     },
     "execution_count": 8,
     "metadata": {},
     "output_type": "execute_result"
    },
    {
     "data": {
      "text/plain": [
       "current loss = 1.7912807618201\t\n",
       "current loss = 1.7911830346586\t\n",
       "current loss = 1.7910853553802\t\n"
      ]
     },
     "execution_count": 8,
     "metadata": {},
     "output_type": "execute_result"
    },
    {
     "data": {
      "text/plain": [
       "current loss = 1.7909877239493\t\n",
       "current loss = 1.7908901403306\t\n",
       "current loss = 1.7907926044885\t\n"
      ]
     },
     "execution_count": 8,
     "metadata": {},
     "output_type": "execute_result"
    },
    {
     "data": {
      "text/plain": [
       "current loss = 1.7906951163878\t\n",
       "current loss = 1.790597675993\t\n",
       "current loss = 1.790500283269\t\n"
      ]
     },
     "execution_count": 8,
     "metadata": {},
     "output_type": "execute_result"
    },
    {
     "data": {
      "text/plain": [
       "current loss = 1.7904029381803\t\n",
       "current loss = 1.7903056406919\t\n",
       "current loss = 1.7902083907684\t\n",
       "current loss = 1.7901111883747\t\n"
      ]
     },
     "execution_count": 8,
     "metadata": {},
     "output_type": "execute_result"
    },
    {
     "data": {
      "text/plain": [
       "current loss = 1.7900140334757\t\n",
       "current loss = 1.7899169260362\t\n",
       "current loss = 1.7898198660213\t\n"
      ]
     },
     "execution_count": 8,
     "metadata": {},
     "output_type": "execute_result"
    },
    {
     "data": {
      "text/plain": [
       "current loss = 1.7897228533958\t\n",
       "current loss = 1.7896258881248\t\n",
       "current loss = 1.7895289701733\t\n",
       "current loss = 1.7894320995064\t"
      ]
     },
     "execution_count": 8,
     "metadata": {},
     "output_type": "execute_result"
    },
    {
     "data": {
      "text/plain": [
       "\n",
       "current loss = 1.7893352760891\t\n",
       "current loss = 1.7892384998867\t\n",
       "current loss = 1.7891417708643\t\n"
      ]
     },
     "execution_count": 8,
     "metadata": {},
     "output_type": "execute_result"
    },
    {
     "data": {
      "text/plain": [
       "current loss = 1.789045088987\t\n",
       "current loss = 1.7889484542202\t\n"
      ]
     },
     "execution_count": 8,
     "metadata": {},
     "output_type": "execute_result"
    },
    {
     "data": {
      "text/plain": [
       "current loss = 1.7888518665291\t\n",
       "current loss = 1.788755325879\t\n",
       "current loss = 1.7886588322352\t\n"
      ]
     },
     "execution_count": 8,
     "metadata": {},
     "output_type": "execute_result"
    },
    {
     "data": {
      "text/plain": [
       "current loss = 1.7885623855631\t\n",
       "current loss = 1.7884659858282\t\n",
       "current loss = 1.7883696329958\t\n"
      ]
     },
     "execution_count": 8,
     "metadata": {},
     "output_type": "execute_result"
    },
    {
     "data": {
      "text/plain": [
       "current loss = 1.7882733270315\t\n",
       "current loss = 1.7881770679007\t\n",
       "current loss = 1.788080855569\t\n"
      ]
     },
     "execution_count": 8,
     "metadata": {},
     "output_type": "execute_result"
    },
    {
     "data": {
      "text/plain": [
       "current loss = 1.7879846900019\t\n",
       "current loss = 1.7878885711651\t\n",
       "current loss = 1.7877924990241\t\n",
       "current loss = 1.7876964735448\t\n"
      ]
     },
     "execution_count": 8,
     "metadata": {},
     "output_type": "execute_result"
    },
    {
     "data": {
      "text/plain": [
       "current loss = 1.7876004946927\t\n",
       "current loss = 1.7875045624336\t\n",
       "current loss = 1.7874086767333\t\n"
      ]
     },
     "execution_count": 8,
     "metadata": {},
     "output_type": "execute_result"
    },
    {
     "data": {
      "text/plain": [
       "current loss = 1.7873128375576\t\n",
       "current loss = 1.7872170448723\t\n",
       "current loss = 1.7871212986433\t\n"
      ]
     },
     "execution_count": 8,
     "metadata": {},
     "output_type": "execute_result"
    },
    {
     "data": {
      "text/plain": [
       "current loss = 1.7870255988364\t\n",
       "current loss = 1.7869299454178\t\n",
       "current loss = 1.7868343383532\t\n",
       "current loss = 1.7867387776087\t\n"
      ]
     },
     "execution_count": 8,
     "metadata": {},
     "output_type": "execute_result"
    },
    {
     "data": {
      "text/plain": [
       "current loss = 1.7866432631503\t\n",
       "current loss = 1.7865477949442\t\n",
       "current loss = 1.7864523729563\t\n"
      ]
     },
     "execution_count": 8,
     "metadata": {},
     "output_type": "execute_result"
    },
    {
     "data": {
      "text/plain": [
       "current loss = 1.7863569971529\t\n",
       "current loss = 1.7862616675001\t\n",
       "current loss = 1.786166383964\t\n"
      ]
     },
     "execution_count": 8,
     "metadata": {},
     "output_type": "execute_result"
    },
    {
     "data": {
      "text/plain": [
       "current loss = 1.786071146511\t\n",
       "current loss = 1.7859759551073\t\n",
       "current loss = 1.7858808097191\t\n"
      ]
     },
     "execution_count": 8,
     "metadata": {},
     "output_type": "execute_result"
    },
    {
     "data": {
      "text/plain": [
       "current loss = 1.7857857103129\t\n",
       "current loss = 1.7856906568549\t\n"
      ]
     },
     "execution_count": 8,
     "metadata": {},
     "output_type": "execute_result"
    },
    {
     "data": {
      "text/plain": [
       "current loss = 1.7855956493116\t\n",
       "current loss = 1.7855006876493\t\n",
       "current loss = 1.7854057718346\t\n"
      ]
     },
     "execution_count": 8,
     "metadata": {},
     "output_type": "execute_result"
    },
    {
     "data": {
      "text/plain": [
       "current loss = 1.7853109018339\t\n",
       "current loss = 1.7852160776138\t\n",
       "current loss = 1.7851212991407\t\n"
      ]
     },
     "execution_count": 8,
     "metadata": {},
     "output_type": "execute_result"
    },
    {
     "data": {
      "text/plain": [
       "current loss = 1.7850265663813\t\n",
       "current loss = 1.7849318793023\t\n",
       "current loss = 1.7848372378701\t\n",
       "current loss = 1.7847426420516\t\n"
      ]
     },
     "execution_count": 8,
     "metadata": {},
     "output_type": "execute_result"
    },
    {
     "data": {
      "text/plain": [
       "current loss = 1.7846480918135\t\n",
       "current loss = 1.7845535871224\t\n"
      ]
     },
     "execution_count": 8,
     "metadata": {},
     "output_type": "execute_result"
    },
    {
     "data": {
      "text/plain": [
       "current loss = 1.7844591279452\t\n"
      ]
     },
     "execution_count": 8,
     "metadata": {},
     "output_type": "execute_result"
    },
    {
     "data": {
      "text/plain": [
       "current loss = 1.7843647142486\t\n"
      ]
     },
     "execution_count": 8,
     "metadata": {},
     "output_type": "execute_result"
    },
    {
     "data": {
      "text/plain": [
       "current loss = 1.7842703459996\t\n"
      ]
     },
     "execution_count": 8,
     "metadata": {},
     "output_type": "execute_result"
    },
    {
     "data": {
      "text/plain": [
       "current loss = 1.7841760231649\t\n",
       "current loss = 1.7840817457115\t\n",
       "current loss = 1.7839875136064\t\n"
      ]
     },
     "execution_count": 8,
     "metadata": {},
     "output_type": "execute_result"
    },
    {
     "data": {
      "text/plain": [
       "current loss = 1.7838933268164\t\n",
       "current loss = 1.7837991853086\t\n",
       "current loss = 1.78370508905\t\n",
       "current loss = 1.7836110380077\t\n"
      ]
     },
     "execution_count": 8,
     "metadata": {},
     "output_type": "execute_result"
    },
    {
     "data": {
      "text/plain": [
       "current loss = 1.7835170321487\t\n",
       "current loss = 1.7834230714402\t\n",
       "current loss = 1.7833291558494\t\n"
      ]
     },
     "execution_count": 8,
     "metadata": {},
     "output_type": "execute_result"
    },
    {
     "data": {
      "text/plain": [
       "current loss = 1.7832352853434\t\n",
       "current loss = 1.7831414598895\t\n",
       "current loss = 1.7830476794548\t\n"
      ]
     },
     "execution_count": 8,
     "metadata": {},
     "output_type": "execute_result"
    },
    {
     "data": {
      "text/plain": [
       "current loss = 1.7829539440068\t\n",
       "current loss = 1.7828602535126\t\n",
       "current loss = 1.7827666079397\t\n"
      ]
     },
     "execution_count": 8,
     "metadata": {},
     "output_type": "execute_result"
    },
    {
     "data": {
      "text/plain": [
       "current loss = 1.7826730072553\t\n",
       "current loss = 1.782579451427\t\n"
      ]
     },
     "execution_count": 8,
     "metadata": {},
     "output_type": "execute_result"
    },
    {
     "data": {
      "text/plain": [
       "current loss = 1.7824859404222\t\n",
       "current loss = 1.7823924742082\t\n",
       "current loss = 1.7822990527527\t\n",
       "current loss = 1.7822056760231\t\n"
      ]
     },
     "execution_count": 8,
     "metadata": {},
     "output_type": "execute_result"
    },
    {
     "data": {
      "text/plain": [
       "current loss = 1.7821123439871\t\n",
       "current loss = 1.7820190566121\t\n",
       "current loss = 1.7819258138658\t\n"
      ]
     },
     "execution_count": 8,
     "metadata": {},
     "output_type": "execute_result"
    },
    {
     "data": {
      "text/plain": [
       "current loss = 1.781832615716\t\n",
       "current loss = 1.7817394621301\t\n",
       "current loss = 1.7816463530761\t\n",
       "current loss = 1.7815532885216\t\n"
      ]
     },
     "execution_count": 8,
     "metadata": {},
     "output_type": "execute_result"
    },
    {
     "data": {
      "text/plain": [
       "current loss = 1.7814602684343\t\n",
       "current loss = 1.7813672927822\t\n",
       "current loss = 1.781274361533\t\n",
       "current loss = 1.7811814746547\t\n"
      ]
     },
     "execution_count": 8,
     "metadata": {},
     "output_type": "execute_result"
    },
    {
     "data": {
      "text/plain": [
       "current loss = 1.781088632115\t\n",
       "current loss = 1.780995833882\t\n",
       "current loss = 1.7809030799235\t\n",
       "current loss = 1.7808103702076\t\n"
      ]
     },
     "execution_count": 8,
     "metadata": {},
     "output_type": "execute_result"
    },
    {
     "data": {
      "text/plain": [
       "current loss = 1.7807177047024\t\n",
       "current loss = 1.7806250833758\t\n",
       "current loss = 1.7805325061959\t\n",
       "current loss = 1.7804399731309\t\n"
      ]
     },
     "execution_count": 8,
     "metadata": {},
     "output_type": "execute_result"
    },
    {
     "data": {
      "text/plain": [
       "current loss = 1.7803474841489\t\n",
       "current loss = 1.780255039218\t\n",
       "current loss = 1.7801626383065\t\n",
       "current loss = 1.7800702813826\t\n",
       "current loss = 1.7799779684145\t\n"
      ]
     },
     "execution_count": 8,
     "metadata": {},
     "output_type": "execute_result"
    },
    {
     "data": {
      "text/plain": [
       "current loss = 1.7798856993707\t\n",
       "current loss = 1.7797934742192\t\n",
       "current loss = 1.7797012929286\t\n",
       "current loss = 1.7796091554672\t\n"
      ]
     },
     "execution_count": 8,
     "metadata": {},
     "output_type": "execute_result"
    },
    {
     "data": {
      "text/plain": [
       "current loss = 1.7795170618035\t\n",
       "current loss = 1.7794250119057\t\n",
       "current loss = 1.7793330057426\t\n",
       "current loss = 1.7792410432824\t\n",
       "current loss = 1.7791491244938\t\n"
      ]
     },
     "execution_count": 8,
     "metadata": {},
     "output_type": "execute_result"
    },
    {
     "data": {
      "text/plain": [
       "current loss = 1.7790572493454\t\n",
       "current loss = 1.7789654178057\t\n",
       "current loss = 1.7788736298433\t\n"
      ]
     },
     "execution_count": 8,
     "metadata": {},
     "output_type": "execute_result"
    },
    {
     "data": {
      "text/plain": [
       "current loss = 1.7787818854269\t\n",
       "current loss = 1.7786901845252\t\n"
      ]
     },
     "execution_count": 8,
     "metadata": {},
     "output_type": "execute_result"
    },
    {
     "data": {
      "text/plain": [
       "current loss = 1.7785985271068\t\n",
       "current loss = 1.7785069131406\t\n",
       "current loss = 1.7784153425953\t\n"
      ]
     },
     "execution_count": 8,
     "metadata": {},
     "output_type": "execute_result"
    },
    {
     "data": {
      "text/plain": [
       "current loss = 1.7783238154397\t\n",
       "current loss = 1.7782323316426\t\n",
       "current loss = 1.7781408911729\t\n",
       "current loss = 1.7780494939994\t\n"
      ]
     },
     "execution_count": 8,
     "metadata": {},
     "output_type": "execute_result"
    },
    {
     "data": {
      "text/plain": [
       "current loss = 1.7779581400911\t\n",
       "current loss = 1.7778668294169\t\n",
       "current loss = 1.7777755619459\t\n",
       "current loss = 1.7776843376469\t\n",
       "current loss = 1.7775931564891\t\n"
      ]
     },
     "execution_count": 8,
     "metadata": {},
     "output_type": "execute_result"
    },
    {
     "data": {
      "text/plain": [
       "current loss = 1.7775020184414\t\n",
       "current loss = 1.7774109234731\t\n",
       "current loss = 1.7773198715532\t\n",
       "current loss = 1.7772288626508\t\n"
      ]
     },
     "execution_count": 8,
     "metadata": {},
     "output_type": "execute_result"
    },
    {
     "data": {
      "text/plain": [
       "current loss = 1.7771378967352\t\n",
       "current loss = 1.7770469737755\t\n",
       "current loss = 1.7769560937411\t\n",
       "current loss = 1.776865256601\t\n"
      ]
     },
     "execution_count": 8,
     "metadata": {},
     "output_type": "execute_result"
    },
    {
     "data": {
      "text/plain": [
       "current loss = 1.7767744623247\t\n",
       "current loss = 1.7766837108815\t\n",
       "current loss = 1.7765930022407\t\n",
       "current loss = 1.7765023363718\t\n"
      ]
     },
     "execution_count": 8,
     "metadata": {},
     "output_type": "execute_result"
    },
    {
     "data": {
      "text/plain": [
       "current loss = 1.776411713244\t\n",
       "current loss = 1.7763211328269\t\n",
       "current loss = 1.7762305950899\t\n"
      ]
     },
     "execution_count": 8,
     "metadata": {},
     "output_type": "execute_result"
    },
    {
     "data": {
      "text/plain": [
       "current loss = 1.7761401000025\t\n",
       "current loss = 1.7760496475343\t\n",
       "current loss = 1.7759592376548\t\n",
       "current loss = 1.7758688703335\t\n"
      ]
     },
     "execution_count": 8,
     "metadata": {},
     "output_type": "execute_result"
    },
    {
     "data": {
      "text/plain": [
       "current loss = 1.7757785455402\t\n",
       "current loss = 1.7756882632444\t\n",
       "current loss = 1.7755980234157\t\n",
       "current loss = 1.775507826024\t\n",
       "current loss = 1.7754176710389\t\n"
      ]
     },
     "execution_count": 8,
     "metadata": {},
     "output_type": "execute_result"
    },
    {
     "data": {
      "text/plain": [
       "current loss = 1.7753275584302\t\n",
       "current loss = 1.7752374881676\t\n",
       "current loss = 1.775147460221\t\n",
       "current loss = 1.7750574745602\t\n"
      ]
     },
     "execution_count": 8,
     "metadata": {},
     "output_type": "execute_result"
    },
    {
     "data": {
      "text/plain": [
       "current loss = 1.7749675311551\t\n",
       "current loss = 1.7748776299755\t\n",
       "current loss = 1.7747877709914\t\n",
       "current loss = 1.7746979541728\t\n",
       "current loss = 1.7746081794896\t\n"
      ]
     },
     "execution_count": 8,
     "metadata": {},
     "output_type": "execute_result"
    },
    {
     "data": {
      "text/plain": [
       "current loss = 1.7745184469118\t\n",
       "current loss = 1.7744287564095\t\n",
       "current loss = 1.7743391079527\t\n"
      ]
     },
     "execution_count": 8,
     "metadata": {},
     "output_type": "execute_result"
    },
    {
     "data": {
      "text/plain": [
       "current loss = 1.7742495015115\t\n",
       "current loss = 1.774159937056\t\n"
      ]
     },
     "execution_count": 8,
     "metadata": {},
     "output_type": "execute_result"
    },
    {
     "data": {
      "text/plain": [
       "current loss = 1.7740704145565\t\n",
       "current loss = 1.773980933983\t\n",
       "current loss = 1.7738914953057\t\n"
      ]
     },
     "execution_count": 8,
     "metadata": {},
     "output_type": "execute_result"
    },
    {
     "data": {
      "text/plain": [
       "current loss = 1.773802098495\t\n",
       "current loss = 1.773712743521\t\n",
       "current loss = 1.773623430354\t\n",
       "current loss = 1.7735341589644\t\n"
      ]
     },
     "execution_count": 8,
     "metadata": {},
     "output_type": "execute_result"
    },
    {
     "data": {
      "text/plain": [
       "current loss = 1.7734449293225\t\n",
       "current loss = 1.7733557413987\t\n",
       "current loss = 1.7732665951634\t\n"
      ]
     },
     "execution_count": 8,
     "metadata": {},
     "output_type": "execute_result"
    },
    {
     "data": {
      "text/plain": [
       "current loss = 1.7731774905869\t\n",
       "current loss = 1.7730884276398\t\n",
       "current loss = 1.7729994062925\t\n",
       "current loss = 1.7729104265155\t\n",
       "current loss = 1.7728214882794\t\n"
      ]
     },
     "execution_count": 8,
     "metadata": {},
     "output_type": "execute_result"
    },
    {
     "data": {
      "text/plain": [
       "current loss = 1.7727325915547\t\n",
       "current loss = 1.7726437363121\t\n",
       "current loss = 1.7725549225221\t\n",
       "current loss = 1.7724661501553\t\n"
      ]
     },
     "execution_count": 8,
     "metadata": {},
     "output_type": "execute_result"
    },
    {
     "data": {
      "text/plain": [
       "current loss = 1.7723774191826\t\n",
       "current loss = 1.7722887295744\t\n",
       "current loss = 1.7722000813017\t\n",
       "current loss = 1.7721114743351\t\n"
      ]
     },
     "execution_count": 8,
     "metadata": {},
     "output_type": "execute_result"
    },
    {
     "data": {
      "text/plain": [
       "current loss = 1.7720229086455\t\n",
       "current loss = 1.7719343842035\t\n",
       "current loss = 1.7718459009802\t\n",
       "current loss = 1.7717574589462\t\n",
       "current loss = 1.7716690580726\t\n"
      ]
     },
     "execution_count": 8,
     "metadata": {},
     "output_type": "execute_result"
    },
    {
     "data": {
      "text/plain": [
       "current loss = 1.7715806983302\t\n",
       "current loss = 1.77149237969\t\n",
       "current loss = 1.7714041021229\t\n",
       "current loss = 1.7713158656\t\n"
      ]
     },
     "execution_count": 8,
     "metadata": {},
     "output_type": "execute_result"
    },
    {
     "data": {
      "text/plain": [
       "current loss = 1.7712276700923\t\n",
       "current loss = 1.7711395155708\t\n",
       "current loss = 1.7710514020066\t\n",
       "current loss = 1.7709633293708\t\n"
      ]
     },
     "execution_count": 8,
     "metadata": {},
     "output_type": "execute_result"
    },
    {
     "data": {
      "text/plain": [
       "current loss = 1.7708752976345\t\n",
       "current loss = 1.770787306769\t\n",
       "current loss = 1.7706993567454\t\n",
       "current loss = 1.7706114475348\t\n",
       "current loss = 1.7705235791086\t\n"
      ]
     },
     "execution_count": 8,
     "metadata": {},
     "output_type": "execute_result"
    },
    {
     "data": {
      "text/plain": [
       "current loss = 1.770435751438\t\n",
       "current loss = 1.7703479644944\t\n",
       "current loss = 1.7702602182489\t\n"
      ]
     },
     "execution_count": 8,
     "metadata": {},
     "output_type": "execute_result"
    },
    {
     "data": {
      "text/plain": [
       "current loss = 1.770172512673\t\n",
       "current loss = 1.7700848477381\t\n",
       "current loss = 1.7699972234155\t\n"
      ]
     },
     "execution_count": 8,
     "metadata": {},
     "output_type": "execute_result"
    },
    {
     "data": {
      "text/plain": [
       "current loss = 1.7699096396767\t\n",
       "current loss = 1.7698220964931\t\n",
       "current loss = 1.7697345938361\t\n"
      ]
     },
     "execution_count": 8,
     "metadata": {},
     "output_type": "execute_result"
    },
    {
     "data": {
      "text/plain": [
       "current loss = 1.7696471316774\t\n",
       "current loss = 1.7695597099885\t\n",
       "current loss = 1.7694723287408\t\n"
      ]
     },
     "execution_count": 8,
     "metadata": {},
     "output_type": "execute_result"
    },
    {
     "data": {
      "text/plain": [
       "current loss = 1.769384987906\t\n",
       "current loss = 1.7692976874557\t\n",
       "current loss = 1.7692104273615\t\n",
       "current loss = 1.7691232075951\t\n"
      ]
     },
     "execution_count": 8,
     "metadata": {},
     "output_type": "execute_result"
    },
    {
     "data": {
      "text/plain": [
       "current loss = 1.7690360281282\t\n",
       "current loss = 1.7689488889325\t\n",
       "current loss = 1.7688617899797\t\n",
       "current loss = 1.7687747312417\t\n"
      ]
     },
     "execution_count": 8,
     "metadata": {},
     "output_type": "execute_result"
    },
    {
     "data": {
      "text/plain": [
       "current loss = 1.7686877126901\t\n",
       "current loss = 1.7686007342968\t\n",
       "current loss = 1.7685137960337\t\n"
      ]
     },
     "execution_count": 8,
     "metadata": {},
     "output_type": "execute_result"
    },
    {
     "data": {
      "text/plain": [
       "current loss = 1.7684268978726\t\n",
       "current loss = 1.7683400397855\t\n",
       "current loss = 1.7682532217442\t\n",
       "current loss = 1.7681664437207\t\n",
       "current loss = 1.768079705687\t\n"
      ]
     },
     "execution_count": 8,
     "metadata": {},
     "output_type": "execute_result"
    },
    {
     "data": {
      "text/plain": [
       "current loss = 1.7679930076151\t\n",
       "current loss = 1.767906349477\t\n",
       "current loss = 1.7678197312448\t\n",
       "current loss = 1.7677331528905\t\n"
      ]
     },
     "execution_count": 8,
     "metadata": {},
     "output_type": "execute_result"
    },
    {
     "data": {
      "text/plain": [
       "current loss = 1.7676466143862\t\n",
       "current loss = 1.7675601157041\t\n",
       "current loss = 1.7674736568164\t\n"
      ]
     },
     "execution_count": 8,
     "metadata": {},
     "output_type": "execute_result"
    },
    {
     "data": {
      "text/plain": [
       "current loss = 1.7673872376951\t\n"
      ]
     },
     "execution_count": 8,
     "metadata": {},
     "output_type": "execute_result"
    },
    {
     "data": {
      "text/plain": [
       "current loss = 1.7673008583126\t\n",
       "current loss = 1.767214518641\t\n",
       "current loss = 1.7671282186526\t\n",
       "current loss = 1.7670419583197\t\n"
      ]
     },
     "execution_count": 8,
     "metadata": {},
     "output_type": "execute_result"
    },
    {
     "data": {
      "text/plain": [
       "current loss = 1.7669557376147\t\n",
       "current loss = 1.7668695565097\t\n",
       "current loss = 1.7667834149773\t\n"
      ]
     },
     "execution_count": 8,
     "metadata": {},
     "output_type": "execute_result"
    },
    {
     "data": {
      "text/plain": [
       "current loss = 1.7666973129897\t\n",
       "current loss = 1.7666112505194\t\n",
       "current loss = 1.7665252275389\t\n",
       "current loss = 1.7664392440206\t\n"
      ]
     },
     "execution_count": 8,
     "metadata": {},
     "output_type": "execute_result"
    },
    {
     "data": {
      "text/plain": [
       "current loss = 1.7663532999369\t\n",
       "current loss = 1.7662673952604\t\n",
       "current loss = 1.7661815299636\t\n"
      ]
     },
     "execution_count": 8,
     "metadata": {},
     "output_type": "execute_result"
    },
    {
     "data": {
      "text/plain": [
       "current loss = 1.7660957040191\t\n",
       "current loss = 1.7660099173995\t\n"
      ]
     },
     "execution_count": 8,
     "metadata": {},
     "output_type": "execute_result"
    },
    {
     "data": {
      "text/plain": [
       "current loss = 1.7659241700774\t\n",
       "current loss = 1.7658384620255\t\n",
       "current loss = 1.7657527932163\t\n"
      ]
     },
     "execution_count": 8,
     "metadata": {},
     "output_type": "execute_result"
    },
    {
     "data": {
      "text/plain": [
       "current loss = 1.7656671636225\t\n",
       "current loss = 1.765581573217\t\n",
       "current loss = 1.7654960219724\t\n"
      ]
     },
     "execution_count": 8,
     "metadata": {},
     "output_type": "execute_result"
    },
    {
     "data": {
      "text/plain": [
       "current loss = 1.7654105098615\t\n",
       "current loss = 1.7653250368571\t\n",
       "current loss = 1.7652396029319\t\n"
      ]
     },
     "execution_count": 8,
     "metadata": {},
     "output_type": "execute_result"
    },
    {
     "data": {
      "text/plain": [
       "current loss = 1.765154208059\t\n",
       "current loss = 1.7650688522109\t\n",
       "current loss = 1.7649835353608\t\n",
       "current loss = 1.7648982574815\t\n"
      ]
     },
     "execution_count": 8,
     "metadata": {},
     "output_type": "execute_result"
    },
    {
     "data": {
      "text/plain": [
       "current loss = 1.7648130185459\t\n",
       "current loss = 1.764727818527\t\n",
       "current loss = 1.7646426573978\t\n"
      ]
     },
     "execution_count": 8,
     "metadata": {},
     "output_type": "execute_result"
    },
    {
     "data": {
      "text/plain": [
       "current loss = 1.7645575351312\t\n",
       "current loss = 1.7644724517004\t\n",
       "current loss = 1.7643874070784\t\n",
       "current loss = 1.7643024012383\t\n"
      ]
     },
     "execution_count": 8,
     "metadata": {},
     "output_type": "execute_result"
    },
    {
     "data": {
      "text/plain": [
       "current loss = 1.7642174341531\t\n",
       "current loss = 1.7641325057961\t\n",
       "current loss = 1.7640476161403\t\n"
      ]
     },
     "execution_count": 8,
     "metadata": {},
     "output_type": "execute_result"
    },
    {
     "data": {
      "text/plain": [
       "current loss = 1.763962765159\t\n",
       "current loss = 1.7638779528253\t\n",
       "current loss = 1.7637931791126\t\n"
      ]
     },
     "execution_count": 8,
     "metadata": {},
     "output_type": "execute_result"
    },
    {
     "data": {
      "text/plain": [
       "current loss = 1.763708443994\t\n",
       "current loss = 1.7636237474429\t\n",
       "current loss = 1.7635390894325\t\n"
      ]
     },
     "execution_count": 8,
     "metadata": {},
     "output_type": "execute_result"
    },
    {
     "data": {
      "text/plain": [
       "current loss = 1.7634544699362\t\n",
       "current loss = 1.7633698889273\t\n",
       "current loss = 1.7632853463792\t\n"
      ]
     },
     "execution_count": 8,
     "metadata": {},
     "output_type": "execute_result"
    },
    {
     "data": {
      "text/plain": [
       "current loss = 1.7632008422654\t\n",
       "current loss = 1.7631163765592\t\n"
      ]
     },
     "execution_count": 8,
     "metadata": {},
     "output_type": "execute_result"
    },
    {
     "data": {
      "text/plain": [
       "current loss = 1.763031949234\t\n",
       "current loss = 1.7629475602635\t\n",
       "current loss = 1.762863209621\t\n"
      ]
     },
     "execution_count": 8,
     "metadata": {},
     "output_type": "execute_result"
    },
    {
     "data": {
      "text/plain": [
       "current loss = 1.7627788972801\t\n",
       "current loss = 1.7626946232143\t\n",
       "current loss = 1.7626103873972\t\n"
      ]
     },
     "execution_count": 8,
     "metadata": {},
     "output_type": "execute_result"
    },
    {
     "data": {
      "text/plain": [
       "current loss = 1.7625261898025\t\n",
       "current loss = 1.7624420304036\t\n",
       "current loss = 1.7623579091744\t\n"
      ]
     },
     "execution_count": 8,
     "metadata": {},
     "output_type": "execute_result"
    },
    {
     "data": {
      "text/plain": [
       "current loss = 1.7622738260884\t\n",
       "current loss = 1.7621897811193\t\n"
      ]
     },
     "execution_count": 8,
     "metadata": {},
     "output_type": "execute_result"
    },
    {
     "data": {
      "text/plain": [
       "current loss = 1.7621057742408\t\n",
       "current loss = 1.7620218054268\t\n",
       "current loss = 1.7619378746509\t\n"
      ]
     },
     "execution_count": 8,
     "metadata": {},
     "output_type": "execute_result"
    },
    {
     "data": {
      "text/plain": [
       "current loss = 1.7618539818869\t\n",
       "current loss = 1.7617701271087\t\n",
       "current loss = 1.7616863102901\t\n",
       "current loss = 1.7616025314049\t\n"
      ]
     },
     "execution_count": 8,
     "metadata": {},
     "output_type": "execute_result"
    },
    {
     "data": {
      "text/plain": [
       "current loss = 1.761518790427\t\n",
       "current loss = 1.7614350873304\t\n",
       "current loss = 1.7613514220889\t\n"
      ]
     },
     "execution_count": 8,
     "metadata": {},
     "output_type": "execute_result"
    },
    {
     "data": {
      "text/plain": [
       "current loss = 1.7612677946766\t\n",
       "current loss = 1.7611842050673\t\n",
       "current loss = 1.7611006532352\t\n"
      ]
     },
     "execution_count": 8,
     "metadata": {},
     "output_type": "execute_result"
    },
    {
     "data": {
      "text/plain": [
       "current loss = 1.7610171391542\t\n",
       "current loss = 1.7609336627983\t\n",
       "current loss = 1.7608502241417\t\n"
      ]
     },
     "execution_count": 8,
     "metadata": {},
     "output_type": "execute_result"
    },
    {
     "data": {
      "text/plain": [
       "current loss = 1.7607668231584\t\n",
       "current loss = 1.7606834598225\t\n",
       "current loss = 1.7606001341083\t\n"
      ]
     },
     "execution_count": 8,
     "metadata": {},
     "output_type": "execute_result"
    },
    {
     "data": {
      "text/plain": [
       "current loss = 1.7605168459898\t\n",
       "current loss = 1.7604335954412\t\n",
       "current loss = 1.7603503824369\t\n"
      ]
     },
     "execution_count": 8,
     "metadata": {},
     "output_type": "execute_result"
    },
    {
     "data": {
      "text/plain": [
       "current loss = 1.7602672069509\t\n",
       "current loss = 1.7601840689576\t\n",
       "current loss = 1.7601009684312\t\n",
       "current loss = 1.7600179053461\t\n"
      ]
     },
     "execution_count": 8,
     "metadata": {},
     "output_type": "execute_result"
    },
    {
     "data": {
      "text/plain": [
       "current loss = 1.7599348796765\t\n",
       "current loss = 1.7598518913969\t\n",
       "current loss = 1.7597689404815\t\n"
      ]
     },
     "execution_count": 8,
     "metadata": {},
     "output_type": "execute_result"
    },
    {
     "data": {
      "text/plain": [
       "current loss = 1.7596860269049\t\n",
       "current loss = 1.7596031506414\t\n"
      ]
     },
     "execution_count": 8,
     "metadata": {},
     "output_type": "execute_result"
    },
    {
     "data": {
      "text/plain": [
       "current loss = 1.7595203116654\t\n",
       "current loss = 1.7594375099515\t\n",
       "current loss = 1.7593547454741\t\n"
      ]
     },
     "execution_count": 8,
     "metadata": {},
     "output_type": "execute_result"
    },
    {
     "data": {
      "text/plain": [
       "current loss = 1.7592720182077\t\n",
       "current loss = 1.7591893281269\t\n"
      ]
     },
     "execution_count": 8,
     "metadata": {},
     "output_type": "execute_result"
    },
    {
     "data": {
      "text/plain": [
       "current loss = 1.7591066752062\t\n",
       "current loss = 1.7590240594203\t\n",
       "current loss = 1.7589414807436\t\n",
       "current loss = 1.758858939151\t\n"
      ]
     },
     "execution_count": 8,
     "metadata": {},
     "output_type": "execute_result"
    },
    {
     "data": {
      "text/plain": [
       "current loss = 1.7587764346169\t\n",
       "current loss = 1.758693967116\t\n"
      ]
     },
     "execution_count": 8,
     "metadata": {},
     "output_type": "execute_result"
    },
    {
     "data": {
      "text/plain": [
       "current loss = 1.7586115366232\t\n",
       "current loss = 1.758529143113\t\n",
       "current loss = 1.7584467865603\t\n"
      ]
     },
     "execution_count": 8,
     "metadata": {},
     "output_type": "execute_result"
    },
    {
     "data": {
      "text/plain": [
       "current loss = 1.7583644669398\t\n"
      ]
     },
     "execution_count": 8,
     "metadata": {},
     "output_type": "execute_result"
    },
    {
     "data": {
      "text/plain": [
       "current loss = 1.7582821842263\t"
      ]
     },
     "execution_count": 8,
     "metadata": {},
     "output_type": "execute_result"
    },
    {
     "data": {
      "text/plain": [
       "\n",
       "current loss = 1.7581999383945\t\n",
       "current loss = 1.7581177294194\t\n",
       "current loss = 1.7580355572758\t\n"
      ]
     },
     "execution_count": 8,
     "metadata": {},
     "output_type": "execute_result"
    },
    {
     "data": {
      "text/plain": [
       "current loss = 1.7579534219385\t\n",
       "current loss = 1.7578713233825\t\n",
       "current loss = 1.7577892615827\t\n"
      ]
     },
     "execution_count": 8,
     "metadata": {},
     "output_type": "execute_result"
    },
    {
     "data": {
      "text/plain": [
       "current loss = 1.7577072365141\t\n",
       "current loss = 1.7576252481515\t\n",
       "current loss = 1.7575432964701\t\n",
       "current loss = 1.7574613814447\t\n"
      ]
     },
     "execution_count": 8,
     "metadata": {},
     "output_type": "execute_result"
    },
    {
     "data": {
      "text/plain": [
       "current loss = 1.7573795030505\t\n",
       "current loss = 1.7572976612625\t\n",
       "current loss = 1.7572158560558\t\n"
      ]
     },
     "execution_count": 8,
     "metadata": {},
     "output_type": "execute_result"
    },
    {
     "data": {
      "text/plain": [
       "current loss = 1.7571340874055\t\n",
       "current loss = 1.7570523552867\t\n",
       "current loss = 1.7569706596745\t\n"
      ]
     },
     "execution_count": 8,
     "metadata": {},
     "output_type": "execute_result"
    },
    {
     "data": {
      "text/plain": [
       "current loss = 1.7568890005442\t\n",
       "current loss = 1.756807377871\t\n",
       "current loss = 1.7567257916299\t\n",
       "current loss = 1.7566442417964\t\n"
      ]
     },
     "execution_count": 8,
     "metadata": {},
     "output_type": "execute_result"
    },
    {
     "data": {
      "text/plain": [
       "current loss = 1.7565627283456\t\n",
       "current loss = 1.7564812512528\t\n",
       "current loss = 1.7563998104934\t\n"
      ]
     },
     "execution_count": 8,
     "metadata": {},
     "output_type": "execute_result"
    },
    {
     "data": {
      "text/plain": [
       "current loss = 1.7563184060426\t\n",
       "current loss = 1.7562370378758\t\n",
       "current loss = 1.7561557059683\t\n"
      ]
     },
     "execution_count": 8,
     "metadata": {},
     "output_type": "execute_result"
    },
    {
     "data": {
      "text/plain": [
       "current loss = 1.7560744102957\t\n",
       "current loss = 1.7559931508332\t\n",
       "current loss = 1.7559119275563\t\n"
      ]
     },
     "execution_count": 8,
     "metadata": {},
     "output_type": "execute_result"
    },
    {
     "data": {
      "text/plain": [
       "current loss = 1.7558307404405\t\n",
       "current loss = 1.7557495894613\t\n",
       "current loss = 1.7556684745941\t\n",
       "current loss = 1.7555873958145\t\n"
      ]
     },
     "execution_count": 8,
     "metadata": {},
     "output_type": "execute_result"
    },
    {
     "data": {
      "text/plain": [
       "current loss = 1.755506353098\t\n",
       "current loss = 1.7554253464202\t\n",
       "current loss = 1.7553443757567\t\n",
       "current loss = 1.7552634410831\t\n"
      ]
     },
     "execution_count": 8,
     "metadata": {},
     "output_type": "execute_result"
    },
    {
     "data": {
      "text/plain": [
       "current loss = 1.755182542375\t\n",
       "current loss = 1.7551016796081\t\n",
       "current loss = 1.7550208527581\t\n",
       "current loss = 1.7549400618006\t\n",
       "current loss = 1.7548593067114\t\n"
      ]
     },
     "execution_count": 8,
     "metadata": {},
     "output_type": "execute_result"
    },
    {
     "data": {
      "text/plain": [
       "current loss = 1.7547785874663\t\n",
       "current loss = 1.7546979040409\t\n",
       "current loss = 1.7546172564111\t\n"
      ]
     },
     "execution_count": 8,
     "metadata": {},
     "output_type": "execute_result"
    },
    {
     "data": {
      "text/plain": [
       "current loss = 1.7545366445526\t\n",
       "current loss = 1.7544560684414\t\n"
      ]
     },
     "execution_count": 8,
     "metadata": {},
     "output_type": "execute_result"
    },
    {
     "data": {
      "text/plain": [
       "current loss = 1.7543755280532\t\n",
       "current loss = 1.754295023364\t\n",
       "current loss = 1.7542145543496\t\n",
       "current loss = 1.7541341209859\t\n"
      ]
     },
     "execution_count": 8,
     "metadata": {},
     "output_type": "execute_result"
    },
    {
     "data": {
      "text/plain": [
       "current loss = 1.7540537232489\t\n",
       "current loss = 1.7539733611145\t\n",
       "current loss = 1.7538930345587\t\n"
      ]
     },
     "execution_count": 8,
     "metadata": {},
     "output_type": "execute_result"
    },
    {
     "data": {
      "text/plain": [
       "current loss = 1.7538127435576\t\n",
       "current loss = 1.753732488087\t\n",
       "current loss = 1.7536522681232\t\n",
       "current loss = 1.7535720836421\t\n",
       "current loss = 1.7534919346198\t\n"
      ]
     },
     "execution_count": 8,
     "metadata": {},
     "output_type": "execute_result"
    },
    {
     "data": {
      "text/plain": [
       "current loss = 1.7534118210324\t\n",
       "current loss = 1.7533317428561\t\n",
       "current loss = 1.753251700067\t\n",
       "current loss = 1.7531716926413\t\n",
       "current loss = 1.7530917205552\t\n"
      ]
     },
     "execution_count": 8,
     "metadata": {},
     "output_type": "execute_result"
    },
    {
     "data": {
      "text/plain": [
       "current loss = 1.7530117837848\t\n",
       "current loss = 1.7529318823065\t\n",
       "current loss = 1.7528520160965\t\n",
       "current loss = 1.752772185131\t\n"
      ]
     },
     "execution_count": 8,
     "metadata": {},
     "output_type": "execute_result"
    },
    {
     "data": {
      "text/plain": [
       "current loss = 1.7526923893863\t\n",
       "current loss = 1.7526126288388\t\n",
       "current loss = 1.7525329034648\t\n",
       "current loss = 1.7524532132407\t\n"
      ]
     },
     "execution_count": 8,
     "metadata": {},
     "output_type": "execute_result"
    },
    {
     "data": {
      "text/plain": [
       "current loss = 1.7523735581429\t\n",
       "current loss = 1.7522939381477\t\n",
       "current loss = 1.7522143532315\t\n",
       "current loss = 1.7521348033709\t\n"
      ]
     },
     "execution_count": 8,
     "metadata": {},
     "output_type": "execute_result"
    },
    {
     "data": {
      "text/plain": [
       "current loss = 1.7520552885423\t\n",
       "current loss = 1.7519758087221\t\n",
       "current loss = 1.7518963638869\t\n",
       "current loss = 1.7518169540133\t\n"
      ]
     },
     "execution_count": 8,
     "metadata": {},
     "output_type": "execute_result"
    },
    {
     "data": {
      "text/plain": [
       "current loss = 1.7517375790776\t\n",
       "current loss = 1.7516582390566\t\n",
       "current loss = 1.7515789339268\t\n",
       "current loss = 1.7514996636649\t\n"
      ]
     },
     "execution_count": 8,
     "metadata": {},
     "output_type": "execute_result"
    },
    {
     "data": {
      "text/plain": [
       "current loss = 1.7514204282474\t\n",
       "current loss = 1.751341227651\t\n",
       "current loss = 1.7512620618524\t\n",
       "current loss = 1.7511829308282\t\n",
       "current loss = 1.7511038345553\t\n"
      ]
     },
     "execution_count": 8,
     "metadata": {},
     "output_type": "execute_result"
    },
    {
     "data": {
      "text/plain": [
       "current loss = 1.7510247730103\t\n",
       "current loss = 1.7509457461699\t\n",
       "current loss = 1.750866754011\t\n"
      ]
     },
     "execution_count": 8,
     "metadata": {},
     "output_type": "execute_result"
    },
    {
     "data": {
      "text/plain": [
       "current loss = 1.7507877965104\t\n",
       "current loss = 1.7507088736448\t\n",
       "current loss = 1.7506299853912\t\n"
      ]
     },
     "execution_count": 8,
     "metadata": {},
     "output_type": "execute_result"
    },
    {
     "data": {
      "text/plain": [
       "current loss = 1.7505511317263\t\n",
       "current loss = 1.750472312627\t\n"
      ]
     },
     "execution_count": 8,
     "metadata": {},
     "output_type": "execute_result"
    },
    {
     "data": {
      "text/plain": [
       "current loss = 1.7503935280703\t\n",
       "current loss = 1.750314778033\t\n",
       "current loss = 1.7502360624922\t\n"
      ]
     },
     "execution_count": 8,
     "metadata": {},
     "output_type": "execute_result"
    },
    {
     "data": {
      "text/plain": [
       "current loss = 1.7501573814247\t\n",
       "current loss = 1.7500787348075\t\n",
       "current loss = 1.7500001226177\t\n",
       "current loss = 1.7499215448322\t\n"
      ]
     },
     "execution_count": 8,
     "metadata": {},
     "output_type": "execute_result"
    },
    {
     "data": {
      "text/plain": [
       "current loss = 1.7498430014282\t\n",
       "current loss = 1.7497644923826\t\n",
       "current loss = 1.7496860176726\t\n",
       "current loss = 1.7496075772752\t\n",
       "current loss = 1.7495291711675\t\n"
      ]
     },
     "execution_count": 8,
     "metadata": {},
     "output_type": "execute_result"
    },
    {
     "data": {
      "text/plain": [
       "current loss = 1.7494507993268\t\n",
       "current loss = 1.7493724617301\t\n",
       "current loss = 1.7492941583548\t\n",
       "current loss = 1.7492158891778\t\n"
      ]
     },
     "execution_count": 8,
     "metadata": {},
     "output_type": "execute_result"
    },
    {
     "data": {
      "text/plain": [
       "current loss = 1.7491376541766\t\n",
       "current loss = 1.7490594533282\t\n",
       "current loss = 1.7489812866101\t\n",
       "current loss = 1.7489031539994\t\n"
      ]
     },
     "execution_count": 8,
     "metadata": {},
     "output_type": "execute_result"
    },
    {
     "data": {
      "text/plain": [
       "current loss = 1.7488250554735\t\n",
       "current loss = 1.7487469910097\t\n",
       "current loss = 1.7486689605853\t\n",
       "current loss = 1.7485909641777\t\n"
      ]
     },
     "execution_count": 8,
     "metadata": {},
     "output_type": "execute_result"
    },
    {
     "data": {
      "text/plain": [
       "current loss = 1.7485130017643\t\n",
       "current loss = 1.7484350733225\t\n",
       "current loss = 1.7483571788297\t\n",
       "current loss = 1.7482793182633\t\n"
      ]
     },
     "execution_count": 8,
     "metadata": {},
     "output_type": "execute_result"
    },
    {
     "data": {
      "text/plain": [
       "current loss = 1.7482014916008\t\n",
       "current loss = 1.7481236988197\t\n",
       "current loss = 1.7480459398975\t\n",
       "current loss = 1.7479682148118\t\n"
      ]
     },
     "execution_count": 8,
     "metadata": {},
     "output_type": "execute_result"
    },
    {
     "data": {
      "text/plain": [
       "current loss = 1.7478905235399\t\n",
       "current loss = 1.7478128660596\t\n",
       "current loss = 1.7477352423484\t\n",
       "current loss = 1.7476576523839\t\n"
      ]
     },
     "execution_count": 8,
     "metadata": {},
     "output_type": "execute_result"
    },
    {
     "data": {
      "text/plain": [
       "current loss = 1.7475800961436\t\n",
       "current loss = 1.7475025736054\t\n",
       "current loss = 1.7474250847467\t\n",
       "current loss = 1.7473476295453\t\n"
      ]
     },
     "execution_count": 8,
     "metadata": {},
     "output_type": "execute_result"
    },
    {
     "data": {
      "text/plain": [
       "current loss = 1.7472702079789\t\n",
       "current loss = 1.7471928200252\t\n",
       "current loss = 1.7471154656619\t\n"
      ]
     },
     "execution_count": 8,
     "metadata": {},
     "output_type": "execute_result"
    },
    {
     "data": {
      "text/plain": [
       "current loss = 1.7470381448669\t\n",
       "current loss = 1.7469608576178\t\n",
       "current loss = 1.7468836038924\t\n",
       "current loss = 1.7468063836687\t\n"
      ]
     },
     "execution_count": 8,
     "metadata": {},
     "output_type": "execute_result"
    },
    {
     "data": {
      "text/plain": [
       "current loss = 1.7467291969243\t\n",
       "current loss = 1.7466520436372\t\n",
       "current loss = 1.7465749237853\t\n",
       "current loss = 1.7464978373464\t\n"
      ]
     },
     "execution_count": 8,
     "metadata": {},
     "output_type": "execute_result"
    },
    {
     "data": {
      "text/plain": [
       "current loss = 1.7464207842984\t\n",
       "current loss = 1.7463437646193\t\n",
       "current loss = 1.7462667782871\t\n",
       "current loss = 1.7461898252796\t\n"
      ]
     },
     "execution_count": 8,
     "metadata": {},
     "output_type": "execute_result"
    },
    {
     "data": {
      "text/plain": [
       "current loss = 1.7461129055749\t\n",
       "current loss = 1.746036019151\t\n",
       "current loss = 1.7459591659859\t\n",
       "current loss = 1.7458823460577\t\n"
      ]
     },
     "execution_count": 8,
     "metadata": {},
     "output_type": "execute_result"
    },
    {
     "data": {
      "text/plain": [
       "current loss = 1.7458055593444\t\n",
       "current loss = 1.7457288058241\t\n",
       "current loss = 1.7456520854749\t\n",
       "current loss = 1.7455753982749\t\n"
      ]
     },
     "execution_count": 8,
     "metadata": {},
     "output_type": "execute_result"
    },
    {
     "data": {
      "text/plain": [
       "current loss = 1.7454987442024\t\n",
       "current loss = 1.7454221232353\t\n",
       "current loss = 1.745345535352\t\n",
       "current loss = 1.7452689805307\t\n"
      ]
     },
     "execution_count": 8,
     "metadata": {},
     "output_type": "execute_result"
    },
    {
     "data": {
      "text/plain": [
       "current loss = 1.7451924587494\t\n",
       "current loss = 1.7451159699865\t\n",
       "current loss = 1.7450395142203\t\n",
       "current loss = 1.7449630914289\t\n",
       "current loss = 1.7448867015908\t\n"
      ]
     },
     "execution_count": 8,
     "metadata": {},
     "output_type": "execute_result"
    },
    {
     "data": {
      "text/plain": [
       "current loss = 1.7448103446841\t\n",
       "current loss = 1.7447340206873\t\n",
       "current loss = 1.7446577295787\t\n"
      ]
     },
     "execution_count": 8,
     "metadata": {},
     "output_type": "execute_result"
    },
    {
     "data": {
      "text/plain": [
       "current loss = 1.7445814713367\t\n",
       "current loss = 1.7445052459396\t\n",
       "current loss = 1.7444290533658\t\n"
      ]
     },
     "execution_count": 8,
     "metadata": {},
     "output_type": "execute_result"
    },
    {
     "data": {
      "text/plain": [
       "current loss = 1.7443528935939\t\n",
       "current loss = 1.7442767666021\t\n",
       "current loss = 1.7442006723691\t\n",
       "current loss = 1.7441246108732\t\n"
      ]
     },
     "execution_count": 8,
     "metadata": {},
     "output_type": "execute_result"
    },
    {
     "data": {
      "text/plain": [
       "current loss = 1.744048582093\t\n",
       "current loss = 1.7439725860069\t\n",
       "current loss = 1.7438966225936\t\n",
       "current loss = 1.7438206918316\t\n",
       "current loss = 1.7437447936994\t\n"
      ]
     },
     "execution_count": 8,
     "metadata": {},
     "output_type": "execute_result"
    },
    {
     "data": {
      "text/plain": [
       "current loss = 1.7436689281757\t\n",
       "current loss = 1.7435930952391\t\n"
      ]
     },
     "execution_count": 8,
     "metadata": {},
     "output_type": "execute_result"
    },
    {
     "data": {
      "text/plain": [
       "current loss = 1.7435172948681\t\n"
      ]
     },
     "execution_count": 8,
     "metadata": {},
     "output_type": "execute_result"
    },
    {
     "data": {
      "text/plain": [
       "current loss = 1.7434415270415\t\n",
       "current loss = 1.7433657917379\t\n",
       "current loss = 1.743290088936\t\n"
      ]
     },
     "execution_count": 8,
     "metadata": {},
     "output_type": "execute_result"
    },
    {
     "data": {
      "text/plain": [
       "current loss = 1.7432144186145\t\n",
       "current loss = 1.7431387807521\t\n",
       "current loss = 1.7430631753276\t\n"
      ]
     },
     "execution_count": 8,
     "metadata": {},
     "output_type": "execute_result"
    },
    {
     "data": {
      "text/plain": [
       "current loss = 1.7429876023197\t\n",
       "current loss = 1.7429120617072\t\n",
       "current loss = 1.7428365534689\t\n"
      ]
     },
     "execution_count": 8,
     "metadata": {},
     "output_type": "execute_result"
    },
    {
     "data": {
      "text/plain": [
       "current loss = 1.7427610775836\t\n",
       "current loss = 1.7426856340302\t\n",
       "current loss = 1.7426102227875\t\n",
       "current loss = 1.7425348438343\t\n"
      ]
     },
     "execution_count": 8,
     "metadata": {},
     "output_type": "execute_result"
    },
    {
     "data": {
      "text/plain": [
       "current loss = 1.7424594971496\t\n",
       "current loss = 1.7423841827123\t\n",
       "current loss = 1.7423089005013\t\n"
      ]
     },
     "execution_count": 8,
     "metadata": {},
     "output_type": "execute_result"
    },
    {
     "data": {
      "text/plain": [
       "current loss = 1.7422336504955\t\n",
       "current loss = 1.7421584326738\t\n",
       "current loss = 1.7420832470154\t\n"
      ]
     },
     "execution_count": 8,
     "metadata": {},
     "output_type": "execute_result"
    },
    {
     "data": {
      "text/plain": [
       "current loss = 1.7420080934992\t\n",
       "current loss = 1.7419329721041\t\n",
       "current loss = 1.7418578828093\t\n"
      ]
     },
     "execution_count": 8,
     "metadata": {},
     "output_type": "execute_result"
    },
    {
     "data": {
      "text/plain": [
       "current loss = 1.7417828255937\t\n",
       "current loss = 1.7417078004365\t\n",
       "current loss = 1.7416328073167\t\n",
       "current loss = 1.7415578462134\t\n"
      ]
     },
     "execution_count": 8,
     "metadata": {},
     "output_type": "execute_result"
    },
    {
     "data": {
      "text/plain": [
       "current loss = 1.7414829171058\t\n",
       "current loss = 1.741408019973\t\n",
       "current loss = 1.7413331547942\t\n"
      ]
     },
     "execution_count": 8,
     "metadata": {},
     "output_type": "execute_result"
    },
    {
     "data": {
      "text/plain": [
       "current loss = 1.7412583215485\t\n",
       "current loss = 1.7411835202152\t\n",
       "current loss = 1.7411087507734\t\n",
       "current loss = 1.7410340132025\t\n"
      ]
     },
     "execution_count": 8,
     "metadata": {},
     "output_type": "execute_result"
    },
    {
     "data": {
      "text/plain": [
       "current loss = 1.7409593074815\t\n",
       "current loss = 1.7408846335899\t\n"
      ]
     },
     "execution_count": 8,
     "metadata": {},
     "output_type": "execute_result"
    },
    {
     "data": {
      "text/plain": [
       "current loss = 1.7408099915068\t\n",
       "current loss = 1.7407353812116\t\n"
      ]
     },
     "execution_count": 8,
     "metadata": {},
     "output_type": "execute_result"
    },
    {
     "data": {
      "text/plain": [
       "current loss = 1.7406608026837\t\n",
       "current loss = 1.7405862559023\t\n"
      ]
     },
     "execution_count": 8,
     "metadata": {},
     "output_type": "execute_result"
    },
    {
     "data": {
      "text/plain": [
       "current loss = 1.7405117408468\t\n",
       "current loss = 1.7404372574966\t\n",
       "current loss = 1.7403628058311\t\n"
      ]
     },
     "execution_count": 8,
     "metadata": {},
     "output_type": "execute_result"
    },
    {
     "data": {
      "text/plain": [
       "current loss = 1.7402883858296\t\n",
       "current loss = 1.7402139974717\t\n",
       "current loss = 1.7401396407368\t\n",
       "current loss = 1.7400653156043\t\n"
      ]
     },
     "execution_count": 8,
     "metadata": {},
     "output_type": "execute_result"
    },
    {
     "data": {
      "text/plain": [
       "current loss = 1.7399910220536\t\n",
       "current loss = 1.7399167600644\t\n",
       "current loss = 1.7398425296161\t\n"
      ]
     },
     "execution_count": 8,
     "metadata": {},
     "output_type": "execute_result"
    },
    {
     "data": {
      "text/plain": [
       "current loss = 1.7397683306883\t\n",
       "current loss = 1.7396941632605\t\n",
       "current loss = 1.7396200273122\t\n"
      ]
     },
     "execution_count": 8,
     "metadata": {},
     "output_type": "execute_result"
    },
    {
     "data": {
      "text/plain": [
       "current loss = 1.7395459228231\t\n",
       "current loss = 1.7394718497728\t\n",
       "current loss = 1.7393978081409\t\n"
      ]
     },
     "execution_count": 8,
     "metadata": {},
     "output_type": "execute_result"
    },
    {
     "data": {
      "text/plain": [
       "current loss = 1.7393237979069\t\n",
       "current loss = 1.7392498190507\t\n",
       "current loss = 1.7391758715518\t\n"
      ]
     },
     "execution_count": 8,
     "metadata": {},
     "output_type": "execute_result"
    },
    {
     "data": {
      "text/plain": [
       "current loss = 1.73910195539\t\n",
       "current loss = 1.739028070545\t\n",
       "current loss = 1.7389542169964\t\n"
      ]
     },
     "execution_count": 8,
     "metadata": {},
     "output_type": "execute_result"
    },
    {
     "data": {
      "text/plain": [
       "current loss = 1.738880394724\t\n",
       "current loss = 1.7388066037076\t\n",
       "current loss = 1.738732843927\t\n"
      ]
     },
     "execution_count": 8,
     "metadata": {},
     "output_type": "execute_result"
    },
    {
     "data": {
      "text/plain": [
       "current loss = 1.738659115362\t\n",
       "current loss = 1.7385854179923\t\n",
       "current loss = 1.7385117517978\t\n",
       "current loss = 1.7384381167584\t\n"
      ]
     },
     "execution_count": 8,
     "metadata": {},
     "output_type": "execute_result"
    },
    {
     "data": {
      "text/plain": [
       "current loss = 1.7383645128539\t\n",
       "current loss = 1.7382909400642\t\n",
       "current loss = 1.7382173983692\t\n"
      ]
     },
     "execution_count": 8,
     "metadata": {},
     "output_type": "execute_result"
    },
    {
     "data": {
      "text/plain": [
       "current loss = 1.7381438877488\t\n",
       "current loss = 1.738070408183\t\n",
       "current loss = 1.7379969596516\t\n"
      ]
     },
     "execution_count": 8,
     "metadata": {},
     "output_type": "execute_result"
    },
    {
     "data": {
      "text/plain": [
       "current loss = 1.7379235421348\t\n",
       "current loss = 1.7378501556123\t\n",
       "current loss = 1.7377768000643\t\n"
      ]
     },
     "execution_count": 8,
     "metadata": {},
     "output_type": "execute_result"
    },
    {
     "data": {
      "text/plain": [
       "current loss = 1.7377034754708\t\n",
       "current loss = 1.7376301818118\t\n",
       "current loss = 1.7375569190674\t\n"
      ]
     },
     "execution_count": 8,
     "metadata": {},
     "output_type": "execute_result"
    },
    {
     "data": {
      "text/plain": [
       "current loss = 1.7374836872176\t\n",
       "current loss = 1.7374104862425\t\n"
      ]
     },
     "execution_count": 8,
     "metadata": {},
     "output_type": "execute_result"
    },
    {
     "data": {
      "text/plain": [
       "current loss = 1.7373373161222\t\n",
       "current loss = 1.7372641768369\t\n"
      ]
     },
     "execution_count": 8,
     "metadata": {},
     "output_type": "execute_result"
    },
    {
     "data": {
      "text/plain": [
       "current loss = 1.7371910683667\t\n",
       "current loss = 1.7371179906917\t\n",
       "current loss = 1.7370449437921\t\n",
       "current loss = 1.7369719276481\t\n"
      ]
     },
     "execution_count": 8,
     "metadata": {},
     "output_type": "execute_result"
    },
    {
     "data": {
      "text/plain": [
       "current loss = 1.7368989422399\t\n",
       "current loss = 1.7368259875477\t\n",
       "current loss = 1.7367530635518\t\n"
      ]
     },
     "execution_count": 8,
     "metadata": {},
     "output_type": "execute_result"
    },
    {
     "data": {
      "text/plain": [
       "current loss = 1.7366801702324\t\n",
       "current loss = 1.7366073075698\t\n",
       "current loss = 1.7365344755443\t\n"
      ]
     },
     "execution_count": 8,
     "metadata": {},
     "output_type": "execute_result"
    },
    {
     "data": {
      "text/plain": [
       "current loss = 1.7364616741362\t\n",
       "current loss = 1.7363889033258\t\n"
      ]
     },
     "execution_count": 8,
     "metadata": {},
     "output_type": "execute_result"
    },
    {
     "data": {
      "text/plain": [
       "current loss = 1.7363161630935\t\n",
       "current loss = 1.7362434534195\t\n",
       "current loss = 1.7361707742844\t\n",
       "current loss = 1.7360981256685\t\n"
      ]
     },
     "execution_count": 8,
     "metadata": {},
     "output_type": "execute_result"
    },
    {
     "data": {
      "text/plain": [
       "current loss = 1.7360255075521\t\n",
       "current loss = 1.7359529199157\t\n",
       "current loss = 1.7358803627398\t\n"
      ]
     },
     "execution_count": 8,
     "metadata": {},
     "output_type": "execute_result"
    },
    {
     "data": {
      "text/plain": [
       "current loss = 1.7358078360048\t\n",
       "current loss = 1.7357353396912\t\n"
      ]
     },
     "execution_count": 8,
     "metadata": {},
     "output_type": "execute_result"
    },
    {
     "data": {
      "text/plain": [
       "current loss = 1.7356628737794\t\n"
      ]
     },
     "execution_count": 8,
     "metadata": {},
     "output_type": "execute_result"
    },
    {
     "data": {
      "text/plain": [
       "current loss = 1.73559043825\t\n"
      ]
     },
     "execution_count": 8,
     "metadata": {},
     "output_type": "execute_result"
    },
    {
     "data": {
      "text/plain": [
       "current loss = 1.7355180330835\t\n"
      ]
     },
     "execution_count": 8,
     "metadata": {},
     "output_type": "execute_result"
    },
    {
     "data": {
      "text/plain": [
       "current loss = 1.7354456582605\t\n",
       "current loss = 1.7353733137615\t\n",
       "current loss = 1.735300999567\t\n"
      ]
     },
     "execution_count": 8,
     "metadata": {},
     "output_type": "execute_result"
    },
    {
     "data": {
      "text/plain": [
       "current loss = 1.7352287156577\t\n",
       "current loss = 1.7351564620141\t\n",
       "current loss = 1.7350842386169\t\n"
      ]
     },
     "execution_count": 8,
     "metadata": {},
     "output_type": "execute_result"
    },
    {
     "data": {
      "text/plain": [
       "current loss = 1.7350120454468\t\n",
       "current loss = 1.7349398824843\t\n",
       "current loss = 1.7348677497103\t\n"
      ]
     },
     "execution_count": 8,
     "metadata": {},
     "output_type": "execute_result"
    },
    {
     "data": {
      "text/plain": [
       "current loss = 1.7347956471052\t\n",
       "current loss = 1.7347235746499\t\n",
       "current loss = 1.734651532325\t\n"
      ]
     },
     "execution_count": 8,
     "metadata": {},
     "output_type": "execute_result"
    },
    {
     "data": {
      "text/plain": [
       "current loss = 1.7345795201114\t\n",
       "current loss = 1.7345075379897\t\n",
       "current loss = 1.7344355859408\t\n"
      ]
     },
     "execution_count": 8,
     "metadata": {},
     "output_type": "execute_result"
    },
    {
     "data": {
      "text/plain": [
       "current loss = 1.7343636639453\t\n",
       "current loss = 1.7342917719842\t\n",
       "current loss = 1.7342199100382\t\n",
       "current loss = 1.7341480780882\t\n"
      ]
     },
     "execution_count": 8,
     "metadata": {},
     "output_type": "execute_result"
    },
    {
     "data": {
      "text/plain": [
       "current loss = 1.734076276115\t\n",
       "current loss = 1.7340045040994\t\n",
       "current loss = 1.7339327620225\t\n"
      ]
     },
     "execution_count": 8,
     "metadata": {},
     "output_type": "execute_result"
    },
    {
     "data": {
      "text/plain": [
       "current loss = 1.733861049865\t\n",
       "current loss = 1.7337893676079\t\n",
       "current loss = 1.7337177152322\t\n"
      ]
     },
     "execution_count": 8,
     "metadata": {},
     "output_type": "execute_result"
    },
    {
     "data": {
      "text/plain": [
       "current loss = 1.7336460927187\t\n",
       "current loss = 1.7335745000484\t\n",
       "current loss = 1.7335029372023\t\n"
      ]
     },
     "execution_count": 8,
     "metadata": {},
     "output_type": "execute_result"
    },
    {
     "data": {
      "text/plain": [
       "current loss = 1.7334314041614\t\n",
       "current loss = 1.7333599009068\t\n",
       "current loss = 1.7332884274194\t\n"
      ]
     },
     "execution_count": 8,
     "metadata": {},
     "output_type": "execute_result"
    },
    {
     "data": {
      "text/plain": [
       "current loss = 1.7332169836803\t\n",
       "current loss = 1.7331455696705\t\n",
       "current loss = 1.7330741853712\t\n"
      ]
     },
     "execution_count": 8,
     "metadata": {},
     "output_type": "execute_result"
    },
    {
     "data": {
      "text/plain": [
       "current loss = 1.7330028307634\t\n",
       "current loss = 1.7329315058282\t\n"
      ]
     },
     "execution_count": 8,
     "metadata": {},
     "output_type": "execute_result"
    },
    {
     "data": {
      "text/plain": [
       "current loss = 1.7328602105468\t\n",
       "current loss = 1.7327889449002\t\n",
       "current loss = 1.7327177088697\t\n",
       "current loss = 1.7326465024365\t\n"
      ]
     },
     "execution_count": 8,
     "metadata": {},
     "output_type": "execute_result"
    },
    {
     "data": {
      "text/plain": [
       "current loss = 1.7325753255816\t\n",
       "current loss = 1.7325041782863\t\n",
       "current loss = 1.7324330605319\t\n",
       "current loss = 1.7323619722996\t\n",
       "current loss = 1.7322909135705\t\n"
      ]
     },
     "execution_count": 8,
     "metadata": {},
     "output_type": "execute_result"
    },
    {
     "data": {
      "text/plain": [
       "current loss = 1.7322198843261\t\n",
       "current loss = 1.7321488845475\t\n",
       "current loss = 1.732077914216\t\n",
       "current loss = 1.7320069733131\t\n"
      ]
     },
     "execution_count": 8,
     "metadata": {},
     "output_type": "execute_result"
    },
    {
     "data": {
      "text/plain": [
       "current loss = 1.7319360618199\t\n",
       "current loss = 1.7318651797179\t\n",
       "current loss = 1.7317943269885\t\n",
       "current loss = 1.7317235036129\t\n"
      ]
     },
     "execution_count": 8,
     "metadata": {},
     "output_type": "execute_result"
    },
    {
     "data": {
      "text/plain": [
       "current loss = 1.7316527095726\t\n",
       "current loss = 1.731581944849\t\n",
       "current loss = 1.7315112094235\t\n",
       "current loss = 1.7314405032775\t\n",
       "current loss = 1.7313698263926\t\n"
      ]
     },
     "execution_count": 8,
     "metadata": {},
     "output_type": "execute_result"
    },
    {
     "data": {
      "text/plain": [
       "current loss = 1.7312991787501\t\n",
       "current loss = 1.7312285603316\t\n",
       "current loss = 1.7311579711186\t\n",
       "current loss = 1.7310874110926\t\n"
      ]
     },
     "execution_count": 8,
     "metadata": {},
     "output_type": "execute_result"
    },
    {
     "data": {
      "text/plain": [
       "current loss = 1.7310168802351\t\n",
       "current loss = 1.7309463785276\t\n",
       "current loss = 1.7308759059518\t\n",
       "current loss = 1.7308054624891\t\n"
      ]
     },
     "execution_count": 8,
     "metadata": {},
     "output_type": "execute_result"
    },
    {
     "data": {
      "text/plain": [
       "current loss = 1.7307350481213\t\n",
       "current loss = 1.7306646628299\t\n",
       "current loss = 1.7305943065966\t\n",
       "current loss = 1.7305239794029\t\n",
       "current loss = 1.7304536812305\t\n"
      ]
     },
     "execution_count": 8,
     "metadata": {},
     "output_type": "execute_result"
    },
    {
     "data": {
      "text/plain": [
       "current loss = 1.7303834120612\t\n",
       "current loss = 1.7303131718765\t\n",
       "current loss = 1.7302429606583\t\n",
       "current loss = 1.7301727783881\t\n"
      ]
     },
     "execution_count": 8,
     "metadata": {},
     "output_type": "execute_result"
    },
    {
     "data": {
      "text/plain": [
       "current loss = 1.7301026250478\t\n",
       "current loss = 1.7300325006191\t\n",
       "current loss = 1.7299624050838\t\n",
       "current loss = 1.7298923384236\t\n",
       "current loss = 1.7298223006203\t\n"
      ]
     },
     "execution_count": 8,
     "metadata": {},
     "output_type": "execute_result"
    },
    {
     "data": {
      "text/plain": [
       "current loss = 1.7297522916557\t\n",
       "current loss = 1.7296823115117\t\n",
       "current loss = 1.7296123601702\t\n",
       "current loss = 1.7295424376128\t\n"
      ]
     },
     "execution_count": 8,
     "metadata": {},
     "output_type": "execute_result"
    },
    {
     "data": {
      "text/plain": [
       "current loss = 1.7294725438216\t\n",
       "current loss = 1.7294026787784\t\n"
      ]
     },
     "execution_count": 8,
     "metadata": {},
     "output_type": "execute_result"
    },
    {
     "data": {
      "text/plain": [
       "current loss = 1.7293328424652\t\n",
       "current loss = 1.7292630348637\t\n",
       "current loss = 1.729193255956\t\n",
       "current loss = 1.729123505724\t\n"
      ]
     },
     "execution_count": 8,
     "metadata": {},
     "output_type": "execute_result"
    },
    {
     "data": {
      "text/plain": [
       "current loss = 1.7290537841497\t\n",
       "current loss = 1.728984091215\t\n",
       "current loss = 1.7289144269019\t\n",
       "current loss = 1.7288447911925\t\n"
      ]
     },
     "execution_count": 8,
     "metadata": {},
     "output_type": "execute_result"
    },
    {
     "data": {
      "text/plain": [
       "current loss = 1.7287751840688\t\n",
       "current loss = 1.7287056055127\t\n",
       "current loss = 1.7286360555063\t\n",
       "current loss = 1.7285665340318\t\n"
      ]
     },
     "execution_count": 8,
     "metadata": {},
     "output_type": "execute_result"
    },
    {
     "data": {
      "text/plain": [
       "current loss = 1.7284970410712\t\n",
       "current loss = 1.7284275766065\t\n",
       "current loss = 1.7283581406199\t\n"
      ]
     },
     "execution_count": 8,
     "metadata": {},
     "output_type": "execute_result"
    },
    {
     "data": {
      "text/plain": [
       "current loss = 1.7282887330936\t\n",
       "current loss = 1.7282193540096\t\n",
       "current loss = 1.7281500033501\t\n",
       "current loss = 1.7280806810973\t\n"
      ]
     },
     "execution_count": 8,
     "metadata": {},
     "output_type": "execute_result"
    },
    {
     "data": {
      "text/plain": [
       "current loss = 1.7280113872334\t\n",
       "current loss = 1.7279421217405\t\n",
       "current loss = 1.727872884601\t\n",
       "current loss = 1.7278036757969\t\n"
      ]
     },
     "execution_count": 8,
     "metadata": {},
     "output_type": "execute_result"
    },
    {
     "data": {
      "text/plain": [
       "current loss = 1.7277344953106\t\n",
       "current loss = 1.7276653431243\t\n",
       "current loss = 1.7275962192203\t\n",
       "current loss = 1.7275271235808\t\n",
       "current loss = 1.7274580561882\t\n"
      ]
     },
     "execution_count": 8,
     "metadata": {},
     "output_type": "execute_result"
    },
    {
     "data": {
      "text/plain": [
       "current loss = 1.7273890170249\t\n",
       "current loss = 1.727320006073\t\n",
       "current loss = 1.7272510233151\t\n",
       "current loss = 1.7271820687333\t\n"
      ]
     },
     "execution_count": 8,
     "metadata": {},
     "output_type": "execute_result"
    },
    {
     "data": {
      "text/plain": [
       "current loss = 1.7271131423102\t\n",
       "current loss = 1.7270442440281\t\n",
       "current loss = 1.7269753738694\t\n",
       "current loss = 1.7269065318165\t\n"
      ]
     },
     "execution_count": 8,
     "metadata": {},
     "output_type": "execute_result"
    },
    {
     "data": {
      "text/plain": [
       "current loss = 1.7268377178519\t\n",
       "current loss = 1.726768931958\t\n",
       "current loss = 1.7267001741172\t\n",
       "current loss = 1.7266314443121\t\n",
       "current loss = 1.7265627425252\t\n"
      ]
     },
     "execution_count": 8,
     "metadata": {},
     "output_type": "execute_result"
    },
    {
     "data": {
      "text/plain": [
       "current loss = 1.7264940687389\t\n",
       "current loss = 1.7264254229358\t\n",
       "current loss = 1.7263568050984\t\n"
      ]
     },
     "execution_count": 8,
     "metadata": {},
     "output_type": "execute_result"
    },
    {
     "data": {
      "text/plain": [
       "current loss = 1.7262882152093\t\n",
       "current loss = 1.726219653251\t\n",
       "current loss = 1.7261511192061\t\n",
       "current loss = 1.7260826130572\t\n"
      ]
     },
     "execution_count": 8,
     "metadata": {},
     "output_type": "execute_result"
    },
    {
     "data": {
      "text/plain": [
       "current loss = 1.7260141347869\t\n",
       "current loss = 1.7259456843778\t\n",
       "current loss = 1.7258772618126\t\n",
       "current loss = 1.725808867074\t\n",
       "current loss = 1.7257405001445\t\n"
      ]
     },
     "execution_count": 8,
     "metadata": {},
     "output_type": "execute_result"
    },
    {
     "data": {
      "text/plain": [
       "current loss = 1.7256721610069\t\n",
       "current loss = 1.7256038496438\t\n",
       "current loss = 1.725535566038\t\n",
       "current loss = 1.7254673101722\t\n"
      ]
     },
     "execution_count": 8,
     "metadata": {},
     "output_type": "execute_result"
    },
    {
     "data": {
      "text/plain": [
       "current loss = 1.7253990820292\t\n",
       "current loss = 1.7253308815916\t\n",
       "current loss = 1.7252627088423\t\n",
       "current loss = 1.725194563764\t\n"
      ]
     },
     "execution_count": 8,
     "metadata": {},
     "output_type": "execute_result"
    },
    {
     "data": {
      "text/plain": [
       "current loss = 1.7251264463395\t\n",
       "current loss = 1.7250583565517\t\n",
       "current loss = 1.7249902943833\t\n",
       "current loss = 1.7249222598172\t\n"
      ]
     },
     "execution_count": 8,
     "metadata": {},
     "output_type": "execute_result"
    },
    {
     "data": {
      "text/plain": [
       "current loss = 1.7248542528362\t\n",
       "current loss = 1.7247862734233\t\n",
       "current loss = 1.7247183215612\t\n",
       "current loss = 1.724650397233\t\n",
       "current loss = 1.7245825004214\t\n"
      ]
     },
     "execution_count": 8,
     "metadata": {},
     "output_type": "execute_result"
    },
    {
     "data": {
      "text/plain": [
       "current loss = 1.7245146311094\t\n",
       "current loss = 1.72444678928\t\n",
       "current loss = 1.724378974916\t\n"
      ]
     },
     "execution_count": 8,
     "metadata": {},
     "output_type": "execute_result"
    },
    {
     "data": {
      "text/plain": [
       "current loss = 1.7243111880006\t\n",
       "current loss = 1.7242434285165\t\n",
       "current loss = 1.7241756964469\t\n",
       "current loss = 1.7241079917747\t\n",
       "current loss = 1.724040314483\t\n"
      ]
     },
     "execution_count": 8,
     "metadata": {},
     "output_type": "execute_result"
    },
    {
     "data": {
      "text/plain": [
       "current loss = 1.7239726645548\t\n",
       "current loss = 1.7239050419731\t\n",
       "current loss = 1.723837446721\t\n",
       "current loss = 1.7237698787815\t\n"
      ]
     },
     "execution_count": 8,
     "metadata": {},
     "output_type": "execute_result"
    },
    {
     "data": {
      "text/plain": [
       "current loss = 1.7237023381379\t\n",
       "current loss = 1.7236348247731\t\n",
       "current loss = 1.7235673386703\t\n",
       "current loss = 1.7234998798126\t\n",
       "current loss = 1.7234324481832\t\n"
      ]
     },
     "execution_count": 8,
     "metadata": {},
     "output_type": "execute_result"
    },
    {
     "data": {
      "text/plain": [
       "current loss = 1.7233650437651\t\n",
       "current loss = 1.7232976665417\t\n",
       "current loss = 1.7232303164961\t\n",
       "current loss = 1.7231629936114\t\n"
      ]
     },
     "execution_count": 8,
     "metadata": {},
     "output_type": "execute_result"
    },
    {
     "data": {
      "text/plain": [
       "current loss = 1.7230956978709\t\n",
       "current loss = 1.7230284292579\t\n",
       "current loss = 1.7229611877555\t\n"
      ]
     },
     "execution_count": 8,
     "metadata": {},
     "output_type": "execute_result"
    },
    {
     "data": {
      "text/plain": [
       "current loss = 1.7228939733471\t\n",
       "current loss = 1.7228267860158\t\n",
       "current loss = 1.722759625745\t\n",
       "current loss = 1.7226924925179\t\n"
      ]
     },
     "execution_count": 8,
     "metadata": {},
     "output_type": "execute_result"
    },
    {
     "data": {
      "text/plain": [
       "current loss = 1.722625386318\t\n",
       "current loss = 1.7225583071284\t\n"
      ]
     },
     "execution_count": 8,
     "metadata": {},
     "output_type": "execute_result"
    },
    {
     "data": {
      "text/plain": [
       "current loss = 1.7224912549326\t\n",
       "current loss = 1.7224242297139\t\n"
      ]
     },
     "execution_count": 8,
     "metadata": {},
     "output_type": "execute_result"
    },
    {
     "data": {
      "text/plain": [
       "current loss = 1.7223572314556\t\n",
       "current loss = 1.7222902601412\t\n",
       "current loss = 1.722223315754\t\n"
      ]
     },
     "execution_count": 8,
     "metadata": {},
     "output_type": "execute_result"
    },
    {
     "data": {
      "text/plain": [
       "current loss = 1.7221563982774\t\n",
       "current loss = 1.7220895076949\t\n",
       "current loss = 1.7220226439898\t\n",
       "current loss = 1.7219558071457\t\n"
      ]
     },
     "execution_count": 8,
     "metadata": {},
     "output_type": "execute_result"
    },
    {
     "data": {
      "text/plain": [
       "current loss = 1.721888997146\t\n",
       "current loss = 1.7218222139742\t\n",
       "current loss = 1.7217554576137\t\n"
      ]
     },
     "execution_count": 8,
     "metadata": {},
     "output_type": "execute_result"
    },
    {
     "data": {
      "text/plain": [
       "current loss = 1.7216887280481\t\n",
       "current loss = 1.7216220252608\t\n",
       "current loss = 1.7215553492354\t\n",
       "current loss = 1.7214886999555\t\n"
      ]
     },
     "execution_count": 8,
     "metadata": {},
     "output_type": "execute_result"
    },
    {
     "data": {
      "text/plain": [
       "current loss = 1.7214220774045\t\n",
       "current loss = 1.7213554815661\t\n",
       "current loss = 1.7212889124239\t\n"
      ]
     },
     "execution_count": 8,
     "metadata": {},
     "output_type": "execute_result"
    },
    {
     "data": {
      "text/plain": [
       "current loss = 1.7212223699613\t\n",
       "current loss = 1.7211558541622\t\n",
       "current loss = 1.72108936501\t\n",
       "current loss = 1.7210229024884\t\n"
      ]
     },
     "execution_count": 8,
     "metadata": {},
     "output_type": "execute_result"
    },
    {
     "data": {
      "text/plain": [
       "current loss = 1.720956466581\t\n",
       "current loss = 1.7208900572715\t\n",
       "current loss = 1.7208236745437\t\n"
      ]
     },
     "execution_count": 8,
     "metadata": {},
     "output_type": "execute_result"
    },
    {
     "data": {
      "text/plain": [
       "current loss = 1.7207573183811\t\n",
       "current loss = 1.7206909887674\t\n"
      ]
     },
     "execution_count": 8,
     "metadata": {},
     "output_type": "execute_result"
    },
    {
     "data": {
      "text/plain": [
       "current loss = 1.7206246856865\t\n",
       "current loss = 1.720558409122\t\n"
      ]
     },
     "execution_count": 8,
     "metadata": {},
     "output_type": "execute_result"
    },
    {
     "data": {
      "text/plain": [
       "current loss = 1.7204921590576\t\n",
       "current loss = 1.7204259354772\t\n",
       "current loss = 1.7203597383644\t\n"
      ]
     },
     "execution_count": 8,
     "metadata": {},
     "output_type": "execute_result"
    },
    {
     "data": {
      "text/plain": [
       "current loss = 1.7202935677031\t\n",
       "current loss = 1.720227423477\t\n",
       "current loss = 1.72016130567\t\n"
      ]
     },
     "execution_count": 8,
     "metadata": {},
     "output_type": "execute_result"
    },
    {
     "data": {
      "text/plain": [
       "current loss = 1.7200952142659\t\n",
       "current loss = 1.7200291492485\t\n",
       "current loss = 1.7199631106017\t\n"
      ]
     },
     "execution_count": 8,
     "metadata": {},
     "output_type": "execute_result"
    },
    {
     "data": {
      "text/plain": [
       "current loss = 1.7198970983093\t\n",
       "current loss = 1.7198311123552\t\n",
       "current loss = 1.7197651527233\t\n",
       "current loss = 1.7196992193974\t\n"
      ]
     },
     "execution_count": 8,
     "metadata": {},
     "output_type": "execute_result"
    },
    {
     "data": {
      "text/plain": [
       "current loss = 1.7196333123616\t\n",
       "current loss = 1.7195674315997\t\n",
       "current loss = 1.7195015770956\t\n"
      ]
     },
     "execution_count": 8,
     "metadata": {},
     "output_type": "execute_result"
    },
    {
     "data": {
      "text/plain": [
       "current loss = 1.7194357488333\t\n",
       "current loss = 1.7193699467969\t\n",
       "current loss = 1.7193041709701\t\n"
      ]
     },
     "execution_count": 8,
     "metadata": {},
     "output_type": "execute_result"
    },
    {
     "data": {
      "text/plain": [
       "current loss = 1.7192384213372\t\n",
       "current loss = 1.7191726978819\t\n",
       "current loss = 1.7191070005885\t\n",
       "current loss = 1.7190413294408\t\n"
      ]
     },
     "execution_count": 8,
     "metadata": {},
     "output_type": "execute_result"
    },
    {
     "data": {
      "text/plain": [
       "current loss = 1.718975684423\t\n",
       "current loss = 1.718910065519\t\n",
       "current loss = 1.718844472713\t\n"
      ]
     },
     "execution_count": 8,
     "metadata": {},
     "output_type": "execute_result"
    },
    {
     "data": {
      "text/plain": [
       "current loss = 1.7187789059891\t\n",
       "current loss = 1.7187133653313\t\n",
       "current loss = 1.7186478507237\t\n",
       "current loss = 1.7185823621505\t\n"
      ]
     },
     "execution_count": 8,
     "metadata": {},
     "output_type": "execute_result"
    },
    {
     "data": {
      "text/plain": [
       "current loss = 1.7185168995958\t\n",
       "current loss = 1.7184514630438\t\n",
       "current loss = 1.7183860524785\t\n"
      ]
     },
     "execution_count": 8,
     "metadata": {},
     "output_type": "execute_result"
    },
    {
     "data": {
      "text/plain": [
       "current loss = 1.7183206678843\t\n",
       "current loss = 1.7182553092452\t\n",
       "current loss = 1.7181899765454\t\n"
      ]
     },
     "execution_count": 8,
     "metadata": {},
     "output_type": "execute_result"
    },
    {
     "data": {
      "text/plain": [
       "current loss = 1.7181246697692\t\n",
       "current loss = 1.7180593889008\t\n",
       "current loss = 1.7179941339244\t\n"
      ]
     },
     "execution_count": 8,
     "metadata": {},
     "output_type": "execute_result"
    },
    {
     "data": {
      "text/plain": [
       "current loss = 1.7179289048242\t\n",
       "current loss = 1.7178637015847\t\n"
      ]
     },
     "execution_count": 8,
     "metadata": {},
     "output_type": "execute_result"
    },
    {
     "data": {
      "text/plain": [
       "current loss = 1.7177985241899\t\n",
       "current loss = 1.7177333726242\t\n",
       "current loss = 1.7176682468719\t\n"
      ]
     },
     "execution_count": 8,
     "metadata": {},
     "output_type": "execute_result"
    },
    {
     "data": {
      "text/plain": [
       "current loss = 1.7176031469173\t\n",
       "current loss = 1.7175380727447\t\n",
       "current loss = 1.7174730243385\t\n",
       "current loss = 1.717408001683\t\n"
      ]
     },
     "execution_count": 8,
     "metadata": {},
     "output_type": "execute_result"
    },
    {
     "data": {
      "text/plain": [
       "current loss = 1.7173430047626\t\n",
       "current loss = 1.7172780335616\t\n",
       "current loss = 1.7172130880645\t\n",
       "current loss = 1.7171481682556\t\n"
      ]
     },
     "execution_count": 8,
     "metadata": {},
     "output_type": "execute_result"
    },
    {
     "data": {
      "text/plain": [
       "current loss = 1.7170832741194\t\n",
       "current loss = 1.7170184056402\t\n",
       "current loss = 1.7169535628026\t\n"
      ]
     },
     "execution_count": 8,
     "metadata": {},
     "output_type": "execute_result"
    },
    {
     "data": {
      "text/plain": [
       "current loss = 1.7168887455909\t\n",
       "current loss = 1.7168239539897\t\n",
       "current loss = 1.7167591879833\t\n"
      ]
     },
     "execution_count": 8,
     "metadata": {},
     "output_type": "execute_result"
    },
    {
     "data": {
      "text/plain": [
       "current loss = 1.7166944475563\t\n",
       "current loss = 1.7166297326933\t\n",
       "current loss = 1.7165650433786\t\n"
      ]
     },
     "execution_count": 8,
     "metadata": {},
     "output_type": "execute_result"
    },
    {
     "data": {
      "text/plain": [
       "current loss = 1.7165003795969\t\n",
       "current loss = 1.7164357413327\t\n",
       "current loss = 1.7163711285704\t\n"
      ]
     },
     "execution_count": 8,
     "metadata": {},
     "output_type": "execute_result"
    },
    {
     "data": {
      "text/plain": [
       "current loss = 1.7163065412948\t\n",
       "current loss = 1.7162419794903\t\n",
       "current loss = 1.7161774431415\t\n",
       "current loss = 1.7161129322331\t\n"
      ]
     },
     "execution_count": 8,
     "metadata": {},
     "output_type": "execute_result"
    },
    {
     "data": {
      "text/plain": [
       "current loss = 1.7160484467497\t\n",
       "current loss = 1.7159839866758\t\n",
       "current loss = 1.7159195519962\t\n"
      ]
     },
     "execution_count": 8,
     "metadata": {},
     "output_type": "execute_result"
    },
    {
     "data": {
      "text/plain": [
       "current loss = 1.7158551426954\t\n",
       "current loss = 1.7157907587582\t\n"
      ]
     },
     "execution_count": 8,
     "metadata": {},
     "output_type": "execute_result"
    },
    {
     "data": {
      "text/plain": [
       "current loss = 1.7157264001692\t\n"
      ]
     },
     "execution_count": 8,
     "metadata": {},
     "output_type": "execute_result"
    },
    {
     "data": {
      "text/plain": [
       "current loss = 1.715662066913\t\n",
       "current loss = 1.7155977589745\t\n"
      ]
     },
     "execution_count": 8,
     "metadata": {},
     "output_type": "execute_result"
    },
    {
     "data": {
      "text/plain": [
       "current loss = 1.7155334763383\t\n"
      ]
     },
     "execution_count": 8,
     "metadata": {},
     "output_type": "execute_result"
    },
    {
     "data": {
      "text/plain": [
       "current loss = 1.715469218989\t\n"
      ]
     },
     "execution_count": 8,
     "metadata": {},
     "output_type": "execute_result"
    },
    {
     "data": {
      "text/plain": [
       "current loss = 1.7154049869116\t\n",
       "current loss = 1.7153407800906\t\n"
      ]
     },
     "execution_count": 8,
     "metadata": {},
     "output_type": "execute_result"
    },
    {
     "data": {
      "text/plain": [
       "current loss = 1.715276598511\t\n",
       "current loss = 1.7152124421573\t\n",
       "current loss = 1.7151483110145\t\n",
       "current loss = 1.7150842050674\t\n"
      ]
     },
     "execution_count": 8,
     "metadata": {},
     "output_type": "execute_result"
    },
    {
     "data": {
      "text/plain": [
       "current loss = 1.7150201243006\t\n",
       "current loss = 1.7149560686991\t\n",
       "current loss = 1.7148920382477\t\n"
      ]
     },
     "execution_count": 8,
     "metadata": {},
     "output_type": "execute_result"
    },
    {
     "data": {
      "text/plain": [
       "current loss = 1.7148280329313\t\n",
       "current loss = 1.7147640527346\t\n",
       "current loss = 1.7147000976426\t\n"
      ]
     },
     "execution_count": 8,
     "metadata": {},
     "output_type": "execute_result"
    },
    {
     "data": {
      "text/plain": [
       "current loss = 1.7146361676401\t\n",
       "current loss = 1.7145722627121\t\n",
       "current loss = 1.7145083828434\t\n",
       "current loss = 1.714444528019\t\n"
      ]
     },
     "execution_count": 8,
     "metadata": {},
     "output_type": "execute_result"
    },
    {
     "data": {
      "text/plain": [
       "current loss = 1.7143806982237\t\n",
       "current loss = 1.7143168934426\t\n",
       "current loss = 1.7142531136606\t\n",
       "current loss = 1.7141893588627\t\n"
      ]
     },
     "execution_count": 8,
     "metadata": {},
     "output_type": "execute_result"
    },
    {
     "data": {
      "text/plain": [
       "current loss = 1.7141256290337\t\n",
       "current loss = 1.7140619241588\t\n",
       "current loss = 1.713998244223\t\n"
      ]
     },
     "execution_count": 8,
     "metadata": {},
     "output_type": "execute_result"
    },
    {
     "data": {
      "text/plain": [
       "current loss = 1.7139345892112\t\n"
      ]
     },
     "execution_count": 8,
     "metadata": {},
     "output_type": "execute_result"
    },
    {
     "data": {
      "text/plain": [
       "current loss = 1.7138709591084\t\n",
       "current loss = 1.7138073538997\t\n",
       "current loss = 1.7137437735702\t\n"
      ]
     },
     "execution_count": 8,
     "metadata": {},
     "output_type": "execute_result"
    },
    {
     "data": {
      "text/plain": [
       "current loss = 1.713680218105\t\n",
       "current loss = 1.713616687489\t\n",
       "current loss = 1.7135531817074\t\n",
       "current loss = 1.7134897007453\t\n"
      ]
     },
     "execution_count": 8,
     "metadata": {},
     "output_type": "execute_result"
    },
    {
     "data": {
      "text/plain": [
       "current loss = 1.7134262445877\t\n",
       "current loss = 1.7133628132199\t\n",
       "current loss = 1.7132994066269\t\n",
       "current loss = 1.7132360247939\t\n"
      ]
     },
     "execution_count": 8,
     "metadata": {},
     "output_type": "execute_result"
    },
    {
     "data": {
      "text/plain": [
       "current loss = 1.7131726677061\t\n",
       "current loss = 1.7131093353486\t\n",
       "current loss = 1.7130460277065\t\n",
       "current loss = 1.7129827447652\t\n",
       "current loss = 1.7129194865097\t\n"
      ]
     },
     "execution_count": 8,
     "metadata": {},
     "output_type": "execute_result"
    },
    {
     "data": {
      "text/plain": [
       "current loss = 1.7128562529254\t\n",
       "current loss = 1.7127930439974\t\n",
       "current loss = 1.712729859711\t\n",
       "current loss = 1.7126667000514\t\n"
      ]
     },
     "execution_count": 8,
     "metadata": {},
     "output_type": "execute_result"
    },
    {
     "data": {
      "text/plain": [
       "current loss = 1.712603565004\t\n",
       "current loss = 1.7125404545538\t\n",
       "current loss = 1.7124773686864\t\n",
       "current loss = 1.7124143073869\t\n"
      ]
     },
     "execution_count": 8,
     "metadata": {},
     "output_type": "execute_result"
    },
    {
     "data": {
      "text/plain": [
       "current loss = 1.7123512706407\t\n",
       "current loss = 1.712288258433\t\n",
       "current loss = 1.7122252707493\t\n",
       "current loss = 1.7121623075749\t\n",
       "current loss = 1.7120993688951\t\n"
      ]
     },
     "execution_count": 8,
     "metadata": {},
     "output_type": "execute_result"
    },
    {
     "data": {
      "text/plain": [
       "current loss = 1.7120364546952\t\n",
       "current loss = 1.7119735649608\t\n",
       "current loss = 1.7119106996771\t\n",
       "current loss = 1.7118478588296\t\n"
      ]
     },
     "execution_count": 8,
     "metadata": {},
     "output_type": "execute_result"
    },
    {
     "data": {
      "text/plain": [
       "current loss = 1.7117850424037\t\n",
       "current loss = 1.7117222503848\t\n",
       "current loss = 1.7116594827583\t\n",
       "current loss = 1.7115967395098\t\n"
      ]
     },
     "execution_count": 8,
     "metadata": {},
     "output_type": "execute_result"
    },
    {
     "data": {
      "text/plain": [
       "current loss = 1.7115340206246\t\n",
       "current loss = 1.7114713260882\t\n",
       "current loss = 1.7114086558862\t\n",
       "current loss = 1.711346010004\t\n"
      ]
     },
     "execution_count": 8,
     "metadata": {},
     "output_type": "execute_result"
    },
    {
     "data": {
      "text/plain": [
       "current loss = 1.7112833884271\t\n",
       "current loss = 1.7112207911411\t\n",
       "current loss = 1.7111582181314\t\n"
      ]
     },
     "execution_count": 8,
     "metadata": {},
     "output_type": "execute_result"
    },
    {
     "data": {
      "text/plain": [
       "current loss = 1.7110956693836\t\n",
       "current loss = 1.7110331448833\t\n",
       "current loss = 1.7109706446161\t\n"
      ]
     },
     "execution_count": 8,
     "metadata": {},
     "output_type": "execute_result"
    },
    {
     "data": {
      "text/plain": [
       "current loss = 1.7109081685675\t\n",
       "current loss = 1.710845716723\t\n",
       "current loss = 1.7107832890684\t\n"
      ]
     },
     "execution_count": 8,
     "metadata": {},
     "output_type": "execute_result"
    },
    {
     "data": {
      "text/plain": [
       "current loss = 1.7107208855892\t\n",
       "current loss = 1.710658506271\t\n",
       "current loss = 1.7105961510995\t\n",
       "current loss = 1.7105338200603\t\n"
      ]
     },
     "execution_count": 8,
     "metadata": {},
     "output_type": "execute_result"
    },
    {
     "data": {
      "text/plain": [
       "current loss = 1.710471513139\t\n",
       "current loss = 1.7104092303214\t\n",
       "current loss = 1.7103469715931\t\n",
       "current loss = 1.7102847369398\t\n",
       "current loss = 1.7102225263472\t\n"
      ]
     },
     "execution_count": 8,
     "metadata": {},
     "output_type": "execute_result"
    },
    {
     "data": {
      "text/plain": [
       "current loss = 1.710160339801\t\n",
       "current loss = 1.710098177287\t\n",
       "current loss = 1.7100360387908\t\n"
      ]
     },
     "execution_count": 8,
     "metadata": {},
     "output_type": "execute_result"
    },
    {
     "data": {
      "text/plain": [
       "current loss = 1.7099739242983\t\n",
       "current loss = 1.7099118337952\t\n",
       "current loss = 1.7098497672672\t\n",
       "current loss = 1.7097877247001\t\n",
       "current loss = 1.7097257060797\t\n"
      ]
     },
     "execution_count": 8,
     "metadata": {},
     "output_type": "execute_result"
    },
    {
     "data": {
      "text/plain": [
       "current loss = 1.7096637113919\t\n",
       "current loss = 1.7096017406225\t\n",
       "current loss = 1.7095397937571\t\n",
       "current loss = 1.7094778707818\t\n"
      ]
     },
     "execution_count": 8,
     "metadata": {},
     "output_type": "execute_result"
    },
    {
     "data": {
      "text/plain": [
       "current loss = 1.7094159716824\t\n",
       "current loss = 1.7093540964446\t\n",
       "current loss = 1.7092922450544\t\n",
       "current loss = 1.7092304174977\t\n"
      ]
     },
     "execution_count": 8,
     "metadata": {},
     "output_type": "execute_result"
    },
    {
     "data": {
      "text/plain": [
       "current loss = 1.7091686137604\t\n",
       "current loss = 1.7091068338283\t\n",
       "current loss = 1.7090450776873\t\n",
       "current loss = 1.7089833453235\t\n",
       "current loss = 1.7089216367227\t\n"
      ]
     },
     "execution_count": 8,
     "metadata": {},
     "output_type": "execute_result"
    },
    {
     "data": {
      "text/plain": [
       "current loss = 1.7088599518708\t\n",
       "current loss = 1.7087982907539\t\n",
       "current loss = 1.7087366533579\t\n",
       "current loss = 1.7086750396688\t\n"
      ]
     },
     "execution_count": 8,
     "metadata": {},
     "output_type": "execute_result"
    },
    {
     "data": {
      "text/plain": [
       "current loss = 1.7086134496726\t\n",
       "current loss = 1.7085518833553\t\n",
       "current loss = 1.7084903407029\t\n",
       "current loss = 1.7084288217014\t\n"
      ]
     },
     "execution_count": 8,
     "metadata": {},
     "output_type": "execute_result"
    },
    {
     "data": {
      "text/plain": [
       "current loss = 1.7083673263368\t\n",
       "current loss = 1.7083058545953\t\n",
       "current loss = 1.7082444064628\t\n"
      ]
     },
     "execution_count": 8,
     "metadata": {},
     "output_type": "execute_result"
    },
    {
     "data": {
      "text/plain": [
       "current loss = 1.7081829819254\t\n",
       "current loss = 1.7081215809693\t\n"
      ]
     },
     "execution_count": 8,
     "metadata": {},
     "output_type": "execute_result"
    },
    {
     "data": {
      "text/plain": [
       "current loss = 1.7080602035805\t\n",
       "current loss = 1.707998849745\t\n"
      ]
     },
     "execution_count": 8,
     "metadata": {},
     "output_type": "execute_result"
    },
    {
     "data": {
      "text/plain": [
       "current loss = 1.7079375194491\t\n",
       "current loss = 1.7078762126788\t\n",
       "current loss = 1.7078149294203\t\n",
       "current loss = 1.7077536696598\t\n",
       "current loss = 1.7076924333833\t\n"
      ]
     },
     "execution_count": 8,
     "metadata": {},
     "output_type": "execute_result"
    },
    {
     "data": {
      "text/plain": [
       "current loss = 1.707631220577\t\n",
       "current loss = 1.7075700312272\t\n",
       "current loss = 1.7075088653199\t\n",
       "current loss = 1.7074477228415\t\n"
      ]
     },
     "execution_count": 8,
     "metadata": {},
     "output_type": "execute_result"
    },
    {
     "data": {
      "text/plain": [
       "current loss = 1.7073866037781\t\n",
       "current loss = 1.707325508116\t\n",
       "current loss = 1.7072644358413\t\n",
       "current loss = 1.7072033869403\t\n"
      ]
     },
     "execution_count": 8,
     "metadata": {},
     "output_type": "execute_result"
    },
    {
     "data": {
      "text/plain": [
       "current loss = 1.7071423613993\t\n",
       "current loss = 1.7070813592046\t\n",
       "current loss = 1.7070203803423\t\n"
      ]
     },
     "execution_count": 8,
     "metadata": {},
     "output_type": "execute_result"
    },
    {
     "data": {
      "text/plain": [
       "current loss = 1.7069594247989\t\n",
       "current loss = 1.7068984925605\t\n",
       "current loss = 1.7068375836136\t\n",
       "current loss = 1.7067766979443\t\n"
      ]
     },
     "execution_count": 8,
     "metadata": {},
     "output_type": "execute_result"
    },
    {
     "data": {
      "text/plain": [
       "current loss = 1.7067158355391\t\n",
       "current loss = 1.7066549963843\t\n",
       "current loss = 1.7065941804662\t\n",
       "current loss = 1.7065333877712\t\n"
      ]
     },
     "execution_count": 8,
     "metadata": {},
     "output_type": "execute_result"
    },
    {
     "data": {
      "text/plain": [
       "current loss = 1.7064726182857\t\n",
       "current loss = 1.706411871996\t\n",
       "current loss = 1.7063511488886\t\n",
       "current loss = 1.7062904489498\t\n"
      ]
     },
     "execution_count": 8,
     "metadata": {},
     "output_type": "execute_result"
    },
    {
     "data": {
      "text/plain": [
       "current loss = 1.7062297721661\t\n",
       "current loss = 1.7061691185238\t\n",
       "current loss = 1.7061084880095\t\n",
       "current loss = 1.7060478806096\t\n"
      ]
     },
     "execution_count": 8,
     "metadata": {},
     "output_type": "execute_result"
    },
    {
     "data": {
      "text/plain": [
       "current loss = 1.7059872963104\t\n",
       "current loss = 1.7059267350986\t\n",
       "current loss = 1.7058661969605\t\n",
       "current loss = 1.7058056818827\t\n"
      ]
     },
     "execution_count": 8,
     "metadata": {},
     "output_type": "execute_result"
    },
    {
     "data": {
      "text/plain": [
       "current loss = 1.7057451898516\t\n",
       "current loss = 1.7056847208538\t\n",
       "current loss = 1.7056242748758\t\n",
       "current loss = 1.705563851904\t\n"
      ]
     },
     "execution_count": 8,
     "metadata": {},
     "output_type": "execute_result"
    },
    {
     "data": {
      "text/plain": [
       "current loss = 1.7055034519252\t\n",
       "current loss = 1.7054430749257\t\n",
       "current loss = 1.7053827208922\t\n",
       "current loss = 1.7053223898112\t\n"
      ]
     },
     "execution_count": 8,
     "metadata": {},
     "output_type": "execute_result"
    },
    {
     "data": {
      "text/plain": [
       "current loss = 1.7052620816694\t\n",
       "current loss = 1.7052017964533\t\n",
       "current loss = 1.7051415341495\t\n",
       "current loss = 1.7050812947446\t\n"
      ]
     },
     "execution_count": 8,
     "metadata": {},
     "output_type": "execute_result"
    },
    {
     "data": {
      "text/plain": [
       "current loss = 1.7050210782253\t\n",
       "current loss = 1.7049608845781\t\n",
       "current loss = 1.7049007137898\t\n"
      ]
     },
     "execution_count": 8,
     "metadata": {},
     "output_type": "execute_result"
    },
    {
     "data": {
      "text/plain": [
       "current loss = 1.704840565847\t\n",
       "current loss = 1.7047804407364\t\n",
       "current loss = 1.7047203384445\t\n"
      ]
     },
     "execution_count": 8,
     "metadata": {},
     "output_type": "execute_result"
    },
    {
     "data": {
      "text/plain": [
       "current loss = 1.7046602589582\t\n",
       "current loss = 1.7046002022641\t\n",
       "current loss = 1.704540168349\t\n",
       "current loss = 1.7044801571995\t\n"
      ]
     },
     "execution_count": 8,
     "metadata": {},
     "output_type": "execute_result"
    },
    {
     "data": {
      "text/plain": [
       "current loss = 1.7044201688023\t\n",
       "current loss = 1.7043602031443\t\n",
       "current loss = 1.7043002602121\t\n",
       "current loss = 1.7042403399925\t\n",
       "current loss = 1.7041804424723\t\n"
      ]
     },
     "execution_count": 8,
     "metadata": {},
     "output_type": "execute_result"
    },
    {
     "data": {
      "text/plain": [
       "current loss = 1.7041205676383\t\n",
       "current loss = 1.7040607154772\t\n",
       "current loss = 1.7040008859759\t\n",
       "current loss = 1.7039410791212\t\n"
      ]
     },
     "execution_count": 8,
     "metadata": {},
     "output_type": "execute_result"
    },
    {
     "data": {
      "text/plain": [
       "current loss = 1.7038812948998\t\n"
      ]
     },
     "execution_count": 8,
     "metadata": {},
     "output_type": "execute_result"
    },
    {
     "data": {
      "text/plain": [
       "current loss = 1.7038215332986\t\n",
       "current loss = 1.7037617943045\t\n",
       "current loss = 1.7037020779043\t\n"
      ]
     },
     "execution_count": 8,
     "metadata": {},
     "output_type": "execute_result"
    },
    {
     "data": {
      "text/plain": [
       "current loss = 1.7036423840849\t\n",
       "current loss = 1.7035827128331\t\n",
       "current loss = 1.7035230641359\t\n"
      ]
     },
     "execution_count": 8,
     "metadata": {},
     "output_type": "execute_result"
    },
    {
     "data": {
      "text/plain": [
       "current loss = 1.70346343798\t\n",
       "current loss = 1.7034038343525\t\n",
       "current loss = 1.7033442532402\t\n",
       "current loss = 1.7032846946301\t\n"
      ]
     },
     "execution_count": 8,
     "metadata": {},
     "output_type": "execute_result"
    },
    {
     "data": {
      "text/plain": [
       "current loss = 1.703225158509\t\n",
       "current loss = 1.7031656448639\t\n",
       "current loss = 1.7031061536819\t\n"
      ]
     },
     "execution_count": 8,
     "metadata": {},
     "output_type": "execute_result"
    },
    {
     "data": {
      "text/plain": [
       "current loss = 1.7030466849498\t\n",
       "current loss = 1.7029872386545\t\n",
       "current loss = 1.7029278147832\t\n"
      ]
     },
     "execution_count": 8,
     "metadata": {},
     "output_type": "execute_result"
    },
    {
     "data": {
      "text/plain": [
       "current loss = 1.7028684133228\t\n",
       "current loss = 1.7028090342603\t\n"
      ]
     },
     "execution_count": 8,
     "metadata": {},
     "output_type": "execute_result"
    },
    {
     "data": {
      "text/plain": [
       "current loss = 1.7027496775826\t\n",
       "current loss = 1.7026903432769\t\n"
      ]
     },
     "execution_count": 8,
     "metadata": {},
     "output_type": "execute_result"
    },
    {
     "data": {
      "text/plain": [
       "current loss = 1.7026310313302\t\n",
       "current loss = 1.7025717417294\t\n",
       "current loss = 1.7025124744618\t\n"
      ]
     },
     "execution_count": 8,
     "metadata": {},
     "output_type": "execute_result"
    },
    {
     "data": {
      "text/plain": [
       "current loss = 1.7024532295142\t\n",
       "current loss = 1.7023940068738\t\n",
       "current loss = 1.7023348065277\t\n"
      ]
     },
     "execution_count": 8,
     "metadata": {},
     "output_type": "execute_result"
    },
    {
     "data": {
      "text/plain": [
       "current loss = 1.702275628463\t\n",
       "current loss = 1.7022164726668\t\n",
       "current loss = 1.7021573391261\t\n",
       "current loss = 1.7020982278282\t\n"
      ]
     },
     "execution_count": 8,
     "metadata": {},
     "output_type": "execute_result"
    },
    {
     "data": {
      "text/plain": [
       "current loss = 1.7020391387601\t\n",
       "current loss = 1.7019800719089\t\n",
       "current loss = 1.701921027262\t\n"
      ]
     },
     "execution_count": 8,
     "metadata": {},
     "output_type": "execute_result"
    },
    {
     "data": {
      "text/plain": [
       "current loss = 1.7018620048063\t\n",
       "current loss = 1.7018030045291\t\n",
       "current loss = 1.7017440264175\t\n"
      ]
     },
     "execution_count": 8,
     "metadata": {},
     "output_type": "execute_result"
    },
    {
     "data": {
      "text/plain": [
       "current loss = 1.7016850704588\t\n",
       "current loss = 1.7016261366402\t\n",
       "current loss = 1.7015672249487\t\n"
      ]
     },
     "execution_count": 8,
     "metadata": {},
     "output_type": "execute_result"
    },
    {
     "data": {
      "text/plain": [
       "current loss = 1.7015083353718\t\n",
       "current loss = 1.7014494678967\t\n"
      ]
     },
     "execution_count": 8,
     "metadata": {},
     "output_type": "execute_result"
    },
    {
     "data": {
      "text/plain": [
       "current loss = 1.7013906225104\t\n",
       "current loss = 1.7013317992004\t\n",
       "current loss = 1.7012729979538\t\n",
       "current loss = 1.701214218758\t\n"
      ]
     },
     "execution_count": 8,
     "metadata": {},
     "output_type": "execute_result"
    },
    {
     "data": {
      "text/plain": [
       "current loss = 1.7011554616002\t\n",
       "current loss = 1.7010967264677\t\n",
       "current loss = 1.7010380133478\t\n"
      ]
     },
     "execution_count": 8,
     "metadata": {},
     "output_type": "execute_result"
    },
    {
     "data": {
      "text/plain": [
       "current loss = 1.7009793222279\t\n",
       "current loss = 1.7009206530952\t\n",
       "current loss = 1.700862005937\t\n"
      ]
     },
     "execution_count": 8,
     "metadata": {},
     "output_type": "execute_result"
    },
    {
     "data": {
      "text/plain": [
       "current loss = 1.7008033807408\t\n",
       "current loss = 1.7007447774939\t\n",
       "current loss = 1.7006861961835\t\n"
      ]
     },
     "execution_count": 8,
     "metadata": {},
     "output_type": "execute_result"
    },
    {
     "data": {
      "text/plain": [
       "current loss = 1.7006276367971\t\n",
       "current loss = 1.7005690993222\t\n"
      ]
     },
     "execution_count": 8,
     "metadata": {},
     "output_type": "execute_result"
    },
    {
     "data": {
      "text/plain": [
       "current loss = 1.7005105837459\t\n",
       "current loss = 1.7004520900558\t\n",
       "current loss = 1.7003936182393\t\n"
      ]
     },
     "execution_count": 8,
     "metadata": {},
     "output_type": "execute_result"
    },
    {
     "data": {
      "text/plain": [
       "current loss = 1.7003351682838\t\n",
       "current loss = 1.7002767401766\t\n",
       "current loss = 1.7002183339053\t\n"
      ]
     },
     "execution_count": 8,
     "metadata": {},
     "output_type": "execute_result"
    },
    {
     "data": {
      "text/plain": [
       "current loss = 1.7001599494573\t\n",
       "current loss = 1.70010158682\t\n",
       "current loss = 1.7000432459809\t\n"
      ]
     },
     "execution_count": 8,
     "metadata": {},
     "output_type": "execute_result"
    },
    {
     "data": {
      "text/plain": [
       "current loss = 1.6999849269275\t\n",
       "current loss = 1.6999266296473\t\n",
       "current loss = 1.6998683541277\t\n",
       "current loss = 1.6998101003563\t"
      ]
     },
     "execution_count": 8,
     "metadata": {},
     "output_type": "execute_result"
    },
    {
     "data": {
      "text/plain": [
       "\n",
       "current loss = 1.6997518683206\t\n",
       "current loss = 1.699693658008\t\n"
      ]
     },
     "execution_count": 8,
     "metadata": {},
     "output_type": "execute_result"
    },
    {
     "data": {
      "text/plain": [
       "current loss = 1.6996354694062\t\n",
       "current loss = 1.6995773025027\t\n",
       "current loss = 1.699519157285\t\n",
       "current loss = 1.6994610337406\t\n"
      ]
     },
     "execution_count": 8,
     "metadata": {},
     "output_type": "execute_result"
    },
    {
     "data": {
      "text/plain": [
       "current loss = 1.6994029318572\t\n",
       "current loss = 1.6993448516224\t\n",
       "current loss = 1.6992867930237\t\n"
      ]
     },
     "execution_count": 8,
     "metadata": {},
     "output_type": "execute_result"
    },
    {
     "data": {
      "text/plain": [
       "current loss = 1.6992287560487\t\n",
       "current loss = 1.699170740685\t\n",
       "current loss = 1.6991127469203\t\n"
      ]
     },
     "execution_count": 8,
     "metadata": {},
     "output_type": "execute_result"
    },
    {
     "data": {
      "text/plain": [
       "current loss = 1.6990547747421\t\n",
       "current loss = 1.6989968241382\t\n",
       "current loss = 1.6989388950961\t\n"
      ]
     },
     "execution_count": 8,
     "metadata": {},
     "output_type": "execute_result"
    },
    {
     "data": {
      "text/plain": [
       "current loss = 1.6988809876036\t\n",
       "current loss = 1.6988231016482\t\n",
       "current loss = 1.6987652372176\t\n",
       "current loss = 1.6987073942996\t\n"
      ]
     },
     "execution_count": 8,
     "metadata": {},
     "output_type": "execute_result"
    },
    {
     "data": {
      "text/plain": [
       "current loss = 1.6986495728819\t\n",
       "current loss = 1.698591772952\t\n",
       "current loss = 1.6985339944979\t\n"
      ]
     },
     "execution_count": 8,
     "metadata": {},
     "output_type": "execute_result"
    },
    {
     "data": {
      "text/plain": [
       "current loss = 1.698476237507\t\n",
       "current loss = 1.6984185019673\t\n",
       "current loss = 1.6983607878664\t\n"
      ]
     },
     "execution_count": 8,
     "metadata": {},
     "output_type": "execute_result"
    },
    {
     "data": {
      "text/plain": [
       "current loss = 1.6983030951921\t\n",
       "current loss = 1.6982454239322\t\n",
       "current loss = 1.6981877740743\t\n",
       "current loss = 1.6981301456064\t\n"
      ]
     },
     "execution_count": 8,
     "metadata": {},
     "output_type": "execute_result"
    },
    {
     "data": {
      "text/plain": [
       "current loss = 1.6980725385161\t\n",
       "current loss = 1.6980149527913\t\n",
       "current loss = 1.6979573884198\t\n"
      ]
     },
     "execution_count": 8,
     "metadata": {},
     "output_type": "execute_result"
    },
    {
     "data": {
      "text/plain": [
       "current loss = 1.6978998453894\t\n",
       "current loss = 1.6978423236879\t\n"
      ]
     },
     "execution_count": 8,
     "metadata": {},
     "output_type": "execute_result"
    },
    {
     "data": {
      "text/plain": [
       "current loss = 1.6977848233031\t\n"
      ]
     },
     "execution_count": 8,
     "metadata": {},
     "output_type": "execute_result"
    },
    {
     "data": {
      "text/plain": [
       "current loss = 1.697727344223\t\n",
       "current loss = 1.6976698864353\t\n"
      ]
     },
     "execution_count": 8,
     "metadata": {},
     "output_type": "execute_result"
    },
    {
     "data": {
      "text/plain": [
       "current loss = 1.6976124499279\t\n"
      ]
     },
     "execution_count": 8,
     "metadata": {},
     "output_type": "execute_result"
    },
    {
     "data": {
      "text/plain": [
       "current loss = 1.6975550346886\t\n"
      ]
     },
     "execution_count": 8,
     "metadata": {},
     "output_type": "execute_result"
    },
    {
     "data": {
      "text/plain": [
       "current loss = 1.6974976407055\t\n"
      ]
     },
     "execution_count": 8,
     "metadata": {},
     "output_type": "execute_result"
    },
    {
     "data": {
      "text/plain": [
       "current loss = 1.6974402679662\t\n",
       "current loss = 1.6973829164589\t\n",
       "current loss = 1.6973255861712\t\n"
      ]
     },
     "execution_count": 8,
     "metadata": {},
     "output_type": "execute_result"
    },
    {
     "data": {
      "text/plain": [
       "current loss = 1.6972682770913\t\n",
       "current loss = 1.6972109892069\t\n"
      ]
     },
     "execution_count": 8,
     "metadata": {},
     "output_type": "execute_result"
    },
    {
     "data": {
      "text/plain": [
       "current loss = 1.6971537225061\t\n",
       "current loss = 1.6970964769767\t\n",
       "current loss = 1.6970392526067\t\n"
      ]
     },
     "execution_count": 8,
     "metadata": {},
     "output_type": "execute_result"
    },
    {
     "data": {
      "text/plain": [
       "current loss = 1.6969820493842\t\n",
       "current loss = 1.6969248672969\t\n",
       "current loss = 1.6968677063331\t\n"
      ]
     },
     "execution_count": 8,
     "metadata": {},
     "output_type": "execute_result"
    },
    {
     "data": {
      "text/plain": [
       "current loss = 1.6968105664805\t\n",
       "current loss = 1.6967534477273\t\n",
       "current loss = 1.6966963500614\t\n",
       "current loss = 1.6966392734709\t\n"
      ]
     },
     "execution_count": 8,
     "metadata": {},
     "output_type": "execute_result"
    },
    {
     "data": {
      "text/plain": [
       "current loss = 1.6965822179437\t\n",
       "current loss = 1.696525183468\t\n",
       "current loss = 1.6964681700317\t\n"
      ]
     },
     "execution_count": 8,
     "metadata": {},
     "output_type": "execute_result"
    },
    {
     "data": {
      "text/plain": [
       "current loss = 1.6964111776229\t\n",
       "current loss = 1.6963542062297\t\n",
       "current loss = 1.6962972558401\t\n",
       "current loss = 1.6962403264422\t\n"
      ]
     },
     "execution_count": 8,
     "metadata": {},
     "output_type": "execute_result"
    },
    {
     "data": {
      "text/plain": [
       "current loss = 1.6961834180242\t\n",
       "current loss = 1.6961265305741\t\n",
       "current loss = 1.6960696640799\t\n"
      ]
     },
     "execution_count": 8,
     "metadata": {},
     "output_type": "execute_result"
    },
    {
     "data": {
      "text/plain": [
       "current loss = 1.69601281853\t\n",
       "current loss = 1.6959559939122\t\n",
       "current loss = 1.6958991902149\t\n"
      ]
     },
     "execution_count": 8,
     "metadata": {},
     "output_type": "execute_result"
    },
    {
     "data": {
      "text/plain": [
       "current loss = 1.6958424074261\t\n",
       "current loss = 1.695785645534\t\n",
       "current loss = 1.6957289045268\t\n",
       "current loss = 1.6956721843925\t\n",
       "current loss = 1.6956154851195\t\n"
      ]
     },
     "execution_count": 8,
     "metadata": {},
     "output_type": "execute_result"
    },
    {
     "data": {
      "text/plain": [
       "current loss = 1.6955588066958\t\n",
       "current loss = 1.6955021491098\t\n",
       "current loss = 1.6954455123495\t\n",
       "current loss = 1.6953888964032\t\n"
      ]
     },
     "execution_count": 8,
     "metadata": {},
     "output_type": "execute_result"
    },
    {
     "data": {
      "text/plain": [
       "current loss = 1.6953323012592\t\n",
       "current loss = 1.6952757269056\t\n",
       "current loss = 1.6952191733307\t\n",
       "current loss = 1.6951626405228\t\n"
      ]
     },
     "execution_count": 8,
     "metadata": {},
     "output_type": "execute_result"
    },
    {
     "data": {
      "text/plain": [
       "current loss = 1.6951061284701\t\n",
       "current loss = 1.6950496371609\t\n",
       "current loss = 1.6949931665834\t\n",
       "current loss = 1.694936716726\t\n",
       "current loss = 1.6948802875769\t\n"
      ]
     },
     "execution_count": 8,
     "metadata": {},
     "output_type": "execute_result"
    },
    {
     "data": {
      "text/plain": [
       "current loss = 1.6948238791244\t\n",
       "current loss = 1.6947674913569\t\n",
       "current loss = 1.6947111242627\t\n",
       "current loss = 1.6946547778301\t\n",
       "current loss = 1.6945984520474\t\n"
      ]
     },
     "execution_count": 8,
     "metadata": {},
     "output_type": "execute_result"
    },
    {
     "data": {
      "text/plain": [
       "current loss = 1.694542146903\t\n",
       "current loss = 1.6944858623853\t\n",
       "current loss = 1.6944295984826\t\n",
       "current loss = 1.6943733551833\t\n"
      ]
     },
     "execution_count": 8,
     "metadata": {},
     "output_type": "execute_result"
    },
    {
     "data": {
      "text/plain": [
       "current loss = 1.6943171324757\t\n",
       "current loss = 1.6942609303483\t\n",
       "current loss = 1.6942047487895\t\n",
       "current loss = 1.6941485877876\t\n"
      ]
     },
     "execution_count": 8,
     "metadata": {},
     "output_type": "execute_result"
    },
    {
     "data": {
      "text/plain": [
       "current loss = 1.6940924473311\t\n",
       "current loss = 1.6940363274085\t\n",
       "current loss = 1.6939802280081\t\n"
      ]
     },
     "execution_count": 8,
     "metadata": {},
     "output_type": "execute_result"
    },
    {
     "data": {
      "text/plain": [
       "current loss = 1.6939241491183\t\n",
       "current loss = 1.6938680907278\t\n",
       "current loss = 1.6938120528248\t\n"
      ]
     },
     "execution_count": 8,
     "metadata": {},
     "output_type": "execute_result"
    },
    {
     "data": {
      "text/plain": [
       "current loss = 1.6937560353979\t\n",
       "current loss = 1.6937000384356\t\n",
       "current loss = 1.6936440619262\t\n"
      ]
     },
     "execution_count": 8,
     "metadata": {},
     "output_type": "execute_result"
    },
    {
     "data": {
      "text/plain": [
       "current loss = 1.6935881058585\t\n",
       "current loss = 1.6935321702208\t\n",
       "current loss = 1.6934762550016\t\n",
       "current loss = 1.6934203601895\t\n"
      ]
     },
     "execution_count": 8,
     "metadata": {},
     "output_type": "execute_result"
    },
    {
     "data": {
      "text/plain": [
       "current loss = 1.693364485773\t\n",
       "current loss = 1.6933086317407\t\n",
       "current loss = 1.693252798081\t\n",
       "current loss = 1.6931969847826\t\n"
      ]
     },
     "execution_count": 8,
     "metadata": {},
     "output_type": "execute_result"
    },
    {
     "data": {
      "text/plain": [
       "current loss = 1.693141191834\t\n",
       "current loss = 1.6930854192238\t\n",
       "current loss = 1.6930296669406\t\n",
       "current loss = 1.6929739349729\t\n"
      ]
     },
     "execution_count": 8,
     "metadata": {},
     "output_type": "execute_result"
    },
    {
     "data": {
      "text/plain": [
       "current loss = 1.6929182233094\t\n",
       "current loss = 1.6928625319386\t\n",
       "current loss = 1.6928068608493\t\n",
       "current loss = 1.6927512100299\t\n"
      ]
     },
     "execution_count": 8,
     "metadata": {},
     "output_type": "execute_result"
    },
    {
     "data": {
      "text/plain": [
       "current loss = 1.6926955794692\t\n",
       "current loss = 1.6926399691557\t\n",
       "current loss = 1.6925843790782\t\n",
       "current loss = 1.6925288092253\t\n",
       "current loss = 1.6924732595856\t\n"
      ]
     },
     "execution_count": 8,
     "metadata": {},
     "output_type": "execute_result"
    },
    {
     "data": {
      "text/plain": [
       "current loss = 1.6924177301478\t\n",
       "current loss = 1.6923622209007\t\n",
       "current loss = 1.6923067318329\t\n",
       "current loss = 1.6922512629331\t\n"
      ]
     },
     "execution_count": 8,
     "metadata": {},
     "output_type": "execute_result"
    },
    {
     "data": {
      "text/plain": [
       "current loss = 1.69219581419\t\n",
       "current loss = 1.6921403855923\t\n",
       "current loss = 1.6920849771288\t\n",
       "current loss = 1.6920295887882\t\n"
      ]
     },
     "execution_count": 8,
     "metadata": {},
     "output_type": "execute_result"
    },
    {
     "data": {
      "text/plain": [
       "current loss = 1.6919742205592\t\n",
       "current loss = 1.6919188724307\t\n",
       "current loss = 1.6918635443912\t\n",
       "current loss = 1.6918082364297\t\n",
       "current loss = 1.6917529485349\t\n"
      ]
     },
     "execution_count": 8,
     "metadata": {},
     "output_type": "execute_result"
    },
    {
     "data": {
      "text/plain": [
       "current loss = 1.6916976806956\t\n",
       "current loss = 1.6916424329005\t\n",
       "current loss = 1.6915872051386\t\n"
      ]
     },
     "execution_count": 8,
     "metadata": {},
     "output_type": "execute_result"
    },
    {
     "data": {
      "text/plain": [
       "current loss = 1.6915319973985\t\n",
       "current loss = 1.6914768096691\t\n",
       "current loss = 1.6914216419392\t\n"
      ]
     },
     "execution_count": 8,
     "metadata": {},
     "output_type": "execute_result"
    },
    {
     "data": {
      "text/plain": [
       "current loss = 1.6913664941977\t\n",
       "current loss = 1.6913113664335\t\n",
       "current loss = 1.6912562586353\t\n"
      ]
     },
     "execution_count": 8,
     "metadata": {},
     "output_type": "execute_result"
    },
    {
     "data": {
      "text/plain": [
       "current loss = 1.691201170792\t\n",
       "current loss = 1.6911461028925\t\n",
       "current loss = 1.6910910549256\t\n"
      ]
     },
     "execution_count": 8,
     "metadata": {},
     "output_type": "execute_result"
    },
    {
     "data": {
      "text/plain": [
       "current loss = 1.6910360268804\t\n",
       "current loss = 1.6909810187455\t\n",
       "current loss = 1.6909260305101\t\n",
       "current loss = 1.6908710621628\t\n"
      ]
     },
     "execution_count": 8,
     "metadata": {},
     "output_type": "execute_result"
    },
    {
     "data": {
      "text/plain": [
       "current loss = 1.6908161136928\t\n",
       "current loss = 1.6907611850888\t\n",
       "current loss = 1.6907062763399\t\n",
       "current loss = 1.690651387435\t\n",
       "current loss = 1.690596518363\t\n"
      ]
     },
     "execution_count": 8,
     "metadata": {},
     "output_type": "execute_result"
    },
    {
     "data": {
      "text/plain": [
       "current loss = 1.6905416691129\t\n",
       "current loss = 1.6904868396737\t\n",
       "current loss = 1.6904320300343\t\n"
      ]
     },
     "execution_count": 8,
     "metadata": {},
     "output_type": "execute_result"
    },
    {
     "data": {
      "text/plain": [
       "current loss = 1.6903772401837\t\n",
       "current loss = 1.6903224701109\t\n",
       "current loss = 1.6902677198049\t\n",
       "current loss = 1.6902129892548\t\n"
      ]
     },
     "execution_count": 8,
     "metadata": {},
     "output_type": "execute_result"
    },
    {
     "data": {
      "text/plain": [
       "current loss = 1.6901582784494\t\n",
       "current loss = 1.690103587378\t\n",
       "current loss = 1.6900489160294\t\n",
       "current loss = 1.6899942643928\t\n"
      ]
     },
     "execution_count": 8,
     "metadata": {},
     "output_type": "execute_result"
    },
    {
     "data": {
      "text/plain": [
       "current loss = 1.6899396324571\t\n",
       "current loss = 1.6898850202115\t\n",
       "current loss = 1.689830427645\t\n",
       "current loss = 1.6897758547467\t\n"
      ]
     },
     "execution_count": 8,
     "metadata": {},
     "output_type": "execute_result"
    },
    {
     "data": {
      "text/plain": [
       "current loss = 1.6897213015057\t\n",
       "current loss = 1.689666767911\t\n",
       "current loss = 1.6896122539517\t\n",
       "current loss = 1.689557759617\t\n"
      ]
     },
     "execution_count": 8,
     "metadata": {},
     "output_type": "execute_result"
    },
    {
     "data": {
      "text/plain": [
       "current loss = 1.689503284896\t\n",
       "current loss = 1.6894488297778\t\n",
       "current loss = 1.6893943942515\t\n",
       "current loss = 1.6893399783062\t\n"
      ]
     },
     "execution_count": 8,
     "metadata": {},
     "output_type": "execute_result"
    },
    {
     "data": {
      "text/plain": [
       "current loss = 1.6892855819312\t\n",
       "current loss = 1.6892312051155\t\n",
       "current loss = 1.6891768478484\t\n",
       "current loss = 1.6891225101189\t\n"
      ]
     },
     "execution_count": 8,
     "metadata": {},
     "output_type": "execute_result"
    },
    {
     "data": {
      "text/plain": [
       "current loss = 1.6890681919163\t\n",
       "current loss = 1.6890138932298\t\n",
       "current loss = 1.6889596140485\t\n",
       "current loss = 1.6889053543617\t\n",
       "current loss = 1.6888511141586\t\n"
      ]
     },
     "execution_count": 8,
     "metadata": {},
     "output_type": "execute_result"
    },
    {
     "data": {
      "text/plain": [
       "current loss = 1.6887968934283\t\n",
       "current loss = 1.6887426921601\t\n",
       "current loss = 1.6886885103433\t\n",
       "current loss = 1.6886343479671\t\n"
      ]
     },
     "execution_count": 8,
     "metadata": {},
     "output_type": "execute_result"
    },
    {
     "data": {
      "text/plain": [
       "current loss = 1.6885802050208\t\n",
       "current loss = 1.6885260814935\t\n",
       "current loss = 1.6884719773746\t\n",
       "current loss = 1.6884178926533\t\n"
      ]
     },
     "execution_count": 8,
     "metadata": {},
     "output_type": "execute_result"
    },
    {
     "data": {
      "text/plain": [
       "current loss = 1.6883638273189\t\n",
       "current loss = 1.6883097813608\t\n",
       "current loss = 1.6882557547682\t\n",
       "current loss = 1.6882017475303\t\n"
      ]
     },
     "execution_count": 8,
     "metadata": {},
     "output_type": "execute_result"
    },
    {
     "data": {
      "text/plain": [
       "current loss = 1.6881477596366\t\n",
       "current loss = 1.6880937910764\t\n",
       "current loss = 1.6880398418389\t\n",
       "current loss = 1.6879859119136\t\n",
       "current loss = 1.6879320012897\t\n"
      ]
     },
     "execution_count": 8,
     "metadata": {},
     "output_type": "execute_result"
    },
    {
     "data": {
      "text/plain": [
       "current loss = 1.6878781099566\t\n",
       "current loss = 1.6878242379037\t\n",
       "current loss = 1.6877703851204\t"
      ]
     },
     "execution_count": 8,
     "metadata": {},
     "output_type": "execute_result"
    },
    {
     "data": {
      "text/plain": [
       "\n",
       "current loss = 1.6877165515959\t\n",
       "current loss = 1.6876627373198\t\n",
       "current loss = 1.6876089422814\t\n",
       "current loss = 1.68755516647\t\n"
      ]
     },
     "execution_count": 8,
     "metadata": {},
     "output_type": "execute_result"
    },
    {
     "data": {
      "text/plain": [
       "current loss = 1.6875014098752\t\n",
       "current loss = 1.6874476724863\t\n",
       "current loss = 1.6873939542927\t\n",
       "current loss = 1.6873402552839\t\n"
      ]
     },
     "execution_count": 8,
     "metadata": {},
     "output_type": "execute_result"
    },
    {
     "data": {
      "text/plain": [
       "current loss = 1.6872865754493\t\n",
       "current loss = 1.6872329147784\t\n",
       "current loss = 1.6871792732606\t\n"
      ]
     },
     "execution_count": 8,
     "metadata": {},
     "output_type": "execute_result"
    },
    {
     "data": {
      "text/plain": [
       "current loss = 1.6871256508854\t\n"
      ]
     },
     "execution_count": 8,
     "metadata": {},
     "output_type": "execute_result"
    },
    {
     "data": {
      "text/plain": [
       "current loss = 1.6870720476422\t\n",
       "current loss = 1.6870184635206\t\n",
       "current loss = 1.68696489851\t\n",
       "current loss = 1.6869113525998\t\n"
      ]
     },
     "execution_count": 8,
     "metadata": {},
     "output_type": "execute_result"
    },
    {
     "data": {
      "text/plain": [
       "current loss = 1.6868578257797\t\n",
       "current loss = 1.6868043180391\t\n",
       "current loss = 1.6867508293675\t\n"
      ]
     },
     "execution_count": 8,
     "metadata": {},
     "output_type": "execute_result"
    },
    {
     "data": {
      "text/plain": [
       "current loss = 1.6866973597545\t\n",
       "current loss = 1.6866439091896\t\n"
      ]
     },
     "execution_count": 8,
     "metadata": {},
     "output_type": "execute_result"
    },
    {
     "data": {
      "text/plain": [
       "current loss = 1.6865904776623\t\n",
       "current loss = 1.6865370651621\t\n",
       "current loss = 1.6864836716787\t\n",
       "current loss = 1.6864302972016\t\n"
      ]
     },
     "execution_count": 8,
     "metadata": {},
     "output_type": "execute_result"
    },
    {
     "data": {
      "text/plain": [
       "current loss = 1.6863769417204\t\n",
       "current loss = 1.6863236052246\t\n",
       "current loss = 1.6862702877038\t\n"
      ]
     },
     "execution_count": 8,
     "metadata": {},
     "output_type": "execute_result"
    },
    {
     "data": {
      "text/plain": [
       "current loss = 1.6862169891477\t\n",
       "current loss = 1.6861637095457\t\n",
       "current loss = 1.6861104488876\t\n"
      ]
     },
     "execution_count": 8,
     "metadata": {},
     "output_type": "execute_result"
    },
    {
     "data": {
      "text/plain": [
       "current loss = 1.6860572071629\t\n",
       "current loss = 1.6860039843613\t\n",
       "current loss = 1.6859507804724\t\n",
       "current loss = 1.6858975954859\t\n"
      ]
     },
     "execution_count": 8,
     "metadata": {},
     "output_type": "execute_result"
    },
    {
     "data": {
      "text/plain": [
       "current loss = 1.6858444293913\t\n",
       "current loss = 1.6857912821784\t\n"
      ]
     },
     "execution_count": 8,
     "metadata": {},
     "output_type": "execute_result"
    },
    {
     "data": {
      "text/plain": [
       "current loss = 1.6857381538367\t\n",
       "current loss = 1.6856850443561\t\n",
       "current loss = 1.685631953726\t\n"
      ]
     },
     "execution_count": 8,
     "metadata": {},
     "output_type": "execute_result"
    },
    {
     "data": {
      "text/plain": [
       "current loss = 1.6855788819363\t\n",
       "current loss = 1.6855258289767\t\n",
       "current loss = 1.6854727948367\t\n",
       "current loss = 1.6854197795062\t\n"
      ]
     },
     "execution_count": 8,
     "metadata": {},
     "output_type": "execute_result"
    },
    {
     "data": {
      "text/plain": [
       "current loss = 1.6853667829748\t\n",
       "current loss = 1.6853138052323\t\n",
       "current loss = 1.6852608462684\t\n"
      ]
     },
     "execution_count": 8,
     "metadata": {},
     "output_type": "execute_result"
    },
    {
     "data": {
      "text/plain": [
       "current loss = 1.6852079060728\t\n",
       "current loss = 1.6851549846353\t\n",
       "current loss = 1.6851020819457\t\n"
      ]
     },
     "execution_count": 8,
     "metadata": {},
     "output_type": "execute_result"
    },
    {
     "data": {
      "text/plain": [
       "current loss = 1.6850491979936\t\n",
       "current loss = 1.6849963327689\t\n",
       "current loss = 1.6849434862613\t\n",
       "current loss = 1.6848906584606\t\n"
      ]
     },
     "execution_count": 8,
     "metadata": {},
     "output_type": "execute_result"
    },
    {
     "data": {
      "text/plain": [
       "current loss = 1.6848378493566\t\n",
       "current loss = 1.6847850589391\t\n",
       "current loss = 1.6847322871979\t\n"
      ]
     },
     "execution_count": 8,
     "metadata": {},
     "output_type": "execute_result"
    },
    {
     "data": {
      "text/plain": [
       "current loss = 1.6846795341229\t\n",
       "current loss = 1.6846267997037\t\n",
       "current loss = 1.6845740839304\t\n"
      ]
     },
     "execution_count": 8,
     "metadata": {},
     "output_type": "execute_result"
    },
    {
     "data": {
      "text/plain": [
       "current loss = 1.6845213867926\t\n",
       "current loss = 1.6844687082802\t\n",
       "current loss = 1.6844160483832\t\n"
      ]
     },
     "execution_count": 8,
     "metadata": {},
     "output_type": "execute_result"
    },
    {
     "data": {
      "text/plain": [
       "current loss = 1.6843634070913\t\n",
       "current loss = 1.6843107843943\t\n",
       "current loss = 1.6842581802823\t\n"
      ]
     },
     "execution_count": 8,
     "metadata": {},
     "output_type": "execute_result"
    },
    {
     "data": {
      "text/plain": [
       "current loss = 1.684205594745\t\n",
       "current loss = 1.6841530277724\t\n",
       "current loss = 1.6841004793543\t\n",
       "current loss = 1.6840479494806\t\n"
      ]
     },
     "execution_count": 8,
     "metadata": {},
     "output_type": "execute_result"
    },
    {
     "data": {
      "text/plain": [
       "current loss = 1.6839954381413\t\n",
       "current loss = 1.6839429453262\t\n",
       "current loss = 1.6838904710253\t\n"
      ]
     },
     "execution_count": 8,
     "metadata": {},
     "output_type": "execute_result"
    },
    {
     "data": {
      "text/plain": [
       "current loss = 1.6838380152285\t\n",
       "current loss = 1.6837855779258\t\n"
      ]
     },
     "execution_count": 8,
     "metadata": {},
     "output_type": "execute_result"
    },
    {
     "data": {
      "text/plain": [
       "current loss = 1.6837331591071\t\n",
       "current loss = 1.6836807587623\t\n"
      ]
     },
     "execution_count": 8,
     "metadata": {},
     "output_type": "execute_result"
    },
    {
     "data": {
      "text/plain": [
       "current loss = 1.6836283768814\t\n",
       "current loss = 1.6835760134544\t\n"
      ]
     },
     "execution_count": 8,
     "metadata": {},
     "output_type": "execute_result"
    },
    {
     "data": {
      "text/plain": [
       "current loss = 1.6835236684712\t\n",
       "current loss = 1.6834713419218\t\n",
       "current loss = 1.6834190337963\t\n",
       "current loss = 1.6833667440845\t\n"
      ]
     },
     "execution_count": 8,
     "metadata": {},
     "output_type": "execute_result"
    },
    {
     "data": {
      "text/plain": [
       "current loss = 1.6833144727766\t\n",
       "current loss = 1.6832622198625\t\n",
       "current loss = 1.6832099853323\t\n"
      ]
     },
     "execution_count": 8,
     "metadata": {},
     "output_type": "execute_result"
    },
    {
     "data": {
      "text/plain": [
       "current loss = 1.6831577691759\t\n",
       "current loss = 1.6831055713834\t\n",
       "current loss = 1.6830533919448\t\n"
      ]
     },
     "execution_count": 8,
     "metadata": {},
     "output_type": "execute_result"
    },
    {
     "data": {
      "text/plain": [
       "current loss = 1.6830012308502\t\n",
       "current loss = 1.6829490880897\t\n",
       "current loss = 1.6828969636532\t\n"
      ]
     },
     "execution_count": 8,
     "metadata": {},
     "output_type": "execute_result"
    },
    {
     "data": {
      "text/plain": [
       "current loss = 1.6828448575309\t\n",
       "current loss = 1.6827927697129\t\n",
       "current loss = 1.6827407001892\t\n",
       "current loss = 1.6826886489498\t\n"
      ]
     },
     "execution_count": 8,
     "metadata": {},
     "output_type": "execute_result"
    },
    {
     "data": {
      "text/plain": [
       "current loss = 1.6826366159851\t\n",
       "current loss = 1.6825846012849\t\n",
       "current loss = 1.6825326048394\t\n"
      ]
     },
     "execution_count": 8,
     "metadata": {},
     "output_type": "execute_result"
    },
    {
     "data": {
      "text/plain": [
       "current loss = 1.6824806266388\t\n",
       "current loss = 1.6824286666731\t\n",
       "current loss = 1.6823767249326\t\n"
      ]
     },
     "execution_count": 8,
     "metadata": {},
     "output_type": "execute_result"
    },
    {
     "data": {
      "text/plain": [
       "current loss = 1.6823248014072\t\n",
       "current loss = 1.6822728960873\t\n",
       "current loss = 1.6822210089629\t\n",
       "current loss = 1.6821691400243\t\n"
      ]
     },
     "execution_count": 8,
     "metadata": {},
     "output_type": "execute_result"
    },
    {
     "data": {
      "text/plain": [
       "current loss = 1.6821172892615\t\n",
       "current loss = 1.6820654566647\t\n",
       "current loss = 1.6820136422242\t\n"
      ]
     },
     "execution_count": 8,
     "metadata": {},
     "output_type": "execute_result"
    },
    {
     "data": {
      "text/plain": [
       "current loss = 1.6819618459301\t\n",
       "current loss = 1.6819100677725\t\n",
       "current loss = 1.6818583077419\t\n",
       "current loss = 1.6818065658282\t\n"
      ]
     },
     "execution_count": 8,
     "metadata": {},
     "output_type": "execute_result"
    },
    {
     "data": {
      "text/plain": [
       "current loss = 1.6817548420218\t\n",
       "current loss = 1.6817031363129\t\n"
      ]
     },
     "execution_count": 8,
     "metadata": {},
     "output_type": "execute_result"
    },
    {
     "data": {
      "text/plain": [
       "current loss = 1.6816514486917\t\n",
       "current loss = 1.6815997791484\t\n",
       "current loss = 1.6815481276733\t\n"
      ]
     },
     "execution_count": 8,
     "metadata": {},
     "output_type": "execute_result"
    },
    {
     "data": {
      "text/plain": [
       "current loss = 1.6814964942567\t\n"
      ]
     },
     "execution_count": 8,
     "metadata": {},
     "output_type": "execute_result"
    },
    {
     "data": {
      "text/plain": [
       "current loss = 1.6814448788888\t\n",
       "current loss = 1.6813932815598\t\n",
       "current loss = 1.6813417022601\t\n"
      ]
     },
     "execution_count": 8,
     "metadata": {},
     "output_type": "execute_result"
    },
    {
     "data": {
      "text/plain": [
       "current loss = 1.6812901409799\t\n",
       "current loss = 1.6812385977096\t\n",
       "current loss = 1.6811870724393\t\n"
      ]
     },
     "execution_count": 8,
     "metadata": {},
     "output_type": "execute_result"
    },
    {
     "data": {
      "text/plain": [
       "current loss = 1.6811355651595\t\n",
       "current loss = 1.6810840758604\t\n",
       "current loss = 1.6810326045323\t\n"
      ]
     },
     "execution_count": 8,
     "metadata": {},
     "output_type": "execute_result"
    },
    {
     "data": {
      "text/plain": [
       "current loss = 1.6809811511656\t\n",
       "current loss = 1.6809297157506\t\n",
       "current loss = 1.6808782982776\t\n"
      ]
     },
     "execution_count": 8,
     "metadata": {},
     "output_type": "execute_result"
    },
    {
     "data": {
      "text/plain": [
       "current loss = 1.680826898737\t\n"
      ]
     },
     "execution_count": 8,
     "metadata": {},
     "output_type": "execute_result"
    },
    {
     "data": {
      "text/plain": [
       "current loss = 1.6807755171192\t\n",
       "current loss = 1.6807241534144\t\n",
       "current loss = 1.680672807613\t\n"
      ]
     },
     "execution_count": 8,
     "metadata": {},
     "output_type": "execute_result"
    },
    {
     "data": {
      "text/plain": [
       "current loss = 1.6806214797055\t\n",
       "current loss = 1.6805701696822\t\n",
       "current loss = 1.6805188775335\t\n"
      ]
     },
     "execution_count": 8,
     "metadata": {},
     "output_type": "execute_result"
    },
    {
     "data": {
      "text/plain": [
       "current loss = 1.6804676032498\t\n",
       "current loss = 1.6804163468214\t\n",
       "current loss = 1.6803651082388\t\n"
      ]
     },
     "execution_count": 8,
     "metadata": {},
     "output_type": "execute_result"
    },
    {
     "data": {
      "text/plain": [
       "current loss = 1.6803138874925\t\n",
       "current loss = 1.6802626845727\t\n",
       "current loss = 1.68021149947\t\n",
       "current loss = 1.6801603321748\t\n"
      ]
     },
     "execution_count": 8,
     "metadata": {},
     "output_type": "execute_result"
    },
    {
     "data": {
      "text/plain": [
       "current loss = 1.6801091826775\t\n",
       "current loss = 1.6800580509686\t\n",
       "current loss = 1.6800069370385\t\n",
       "current loss = 1.6799558408777\t\n"
      ]
     },
     "execution_count": 8,
     "metadata": {},
     "output_type": "execute_result"
    },
    {
     "data": {
      "text/plain": [
       "current loss = 1.6799047624767\t\n",
       "current loss = 1.6798537018259\t\n",
       "current loss = 1.6798026589158\t\n",
       "current loss = 1.679751633737\t\n"
      ]
     },
     "execution_count": 8,
     "metadata": {},
     "output_type": "execute_result"
    },
    {
     "data": {
      "text/plain": [
       "current loss = 1.6797006262798\t\n",
       "current loss = 1.6796496365348\t\n",
       "current loss = 1.6795986644925\t\n"
      ]
     },
     "execution_count": 8,
     "metadata": {},
     "output_type": "execute_result"
    },
    {
     "data": {
      "text/plain": [
       "current loss = 1.6795477101435\t\n",
       "current loss = 1.6794967734782\t\n",
       "current loss = 1.6794458544872\t\n",
       "current loss = 1.6793949531611\t\n",
       "current loss = 1.6793440694903\t\n"
      ]
     },
     "execution_count": 8,
     "metadata": {},
     "output_type": "execute_result"
    },
    {
     "data": {
      "text/plain": [
       "current loss = 1.6792932034654\t\n",
       "current loss = 1.6792423550769\t\n",
       "current loss = 1.6791915243156\t\n",
       "current loss = 1.6791407111718\t\n"
      ]
     },
     "execution_count": 8,
     "metadata": {},
     "output_type": "execute_result"
    },
    {
     "data": {
      "text/plain": [
       "current loss = 1.6790899156362\t\n",
       "current loss = 1.6790391376994\t\n",
       "current loss = 1.6789883773519\t\n",
       "current loss = 1.6789376345844\t\n"
      ]
     },
     "execution_count": 8,
     "metadata": {},
     "output_type": "execute_result"
    },
    {
     "data": {
      "text/plain": [
       "current loss = 1.6788869093874\t\n",
       "current loss = 1.6788362017516\t\n",
       "current loss = 1.6787855116677\t\n",
       "current loss = 1.6787348391261\t\n",
       "current loss = 1.6786841841175\t\n"
      ]
     },
     "execution_count": 8,
     "metadata": {},
     "output_type": "execute_result"
    },
    {
     "data": {
      "text/plain": [
       "current loss = 1.6786335466327\t\n",
       "current loss = 1.6785829266622\t\n",
       "current loss = 1.6785323241966\t\n",
       "current loss = 1.6784817392267\t\n"
      ]
     },
     "execution_count": 8,
     "metadata": {},
     "output_type": "execute_result"
    },
    {
     "data": {
      "text/plain": [
       "current loss = 1.6784311717431\t\n",
       "current loss = 1.6783806217365\t\n",
       "current loss = 1.6783300891975\t\n",
       "current loss = 1.6782795741169\t\n",
       "current loss = 1.6782290764853\t\n"
      ]
     },
     "execution_count": 8,
     "metadata": {},
     "output_type": "execute_result"
    },
    {
     "data": {
      "text/plain": [
       "current loss = 1.6781785962934\t\n",
       "current loss = 1.6781281335319\t\n",
       "current loss = 1.6780776881917\t\n"
      ]
     },
     "execution_count": 8,
     "metadata": {},
     "output_type": "execute_result"
    },
    {
     "data": {
      "text/plain": [
       "current loss = 1.6780272602632\t\n",
       "current loss = 1.6779768497373\t\n"
      ]
     },
     "execution_count": 8,
     "metadata": {},
     "output_type": "execute_result"
    },
    {
     "data": {
      "text/plain": [
       "current loss = 1.6779264566048\t\n",
       "current loss = 1.6778760808563\t\n",
       "current loss = 1.6778257224826\t\n"
      ]
     },
     "execution_count": 8,
     "metadata": {},
     "output_type": "execute_result"
    },
    {
     "data": {
      "text/plain": [
       "current loss = 1.6777753814744\t\n",
       "current loss = 1.6777250578226\t\n",
       "current loss = 1.6776747515178\t\n",
       "current loss = 1.6776244625509\t\n"
      ]
     },
     "execution_count": 8,
     "metadata": {},
     "output_type": "execute_result"
    },
    {
     "data": {
      "text/plain": [
       "current loss = 1.6775741909126\t\n",
       "current loss = 1.6775239365937\t\n",
       "current loss = 1.6774736995849\t\n",
       "current loss = 1.6774234798772\t\n"
      ]
     },
     "execution_count": 8,
     "metadata": {},
     "output_type": "execute_result"
    },
    {
     "data": {
      "text/plain": [
       "current loss = 1.6773732774613\t\n",
       "current loss = 1.6773230923279\t\n",
       "current loss = 1.677272924468\t\n",
       "current loss = 1.6772227738724\t\n",
       "current loss = 1.6771726405318\t\n"
      ]
     },
     "execution_count": 8,
     "metadata": {},
     "output_type": "execute_result"
    },
    {
     "data": {
      "text/plain": [
       "current loss = 1.6771225244371\t\n",
       "current loss = 1.6770724255792\t\n",
       "current loss = 1.6770223439489\t\n",
       "current loss = 1.676972279537\t\n"
      ]
     },
     "execution_count": 8,
     "metadata": {},
     "output_type": "execute_result"
    },
    {
     "data": {
      "text/plain": [
       "current loss = 1.6769222323344\t\n",
       "current loss = 1.6768722023321\t\n",
       "current loss = 1.6768221895208\t\n",
       "current loss = 1.6767721938914\t\n",
       "current loss = 1.6767222154349\t\n"
      ]
     },
     "execution_count": 8,
     "metadata": {},
     "output_type": "execute_result"
    },
    {
     "data": {
      "text/plain": [
       "current loss = 1.6766722541421\t\n",
       "current loss = 1.676622310004\t\n",
       "current loss = 1.6765723830114\t\n",
       "current loss = 1.6765224731552\t\n"
      ]
     },
     "execution_count": 8,
     "metadata": {},
     "output_type": "execute_result"
    },
    {
     "data": {
      "text/plain": [
       "current loss = 1.6764725804264\t\n",
       "current loss = 1.6764227048159\t\n",
       "current loss = 1.6763728463147\t\n",
       "current loss = 1.6763230049136\t\n"
      ]
     },
     "execution_count": 8,
     "metadata": {},
     "output_type": "execute_result"
    },
    {
     "data": {
      "text/plain": [
       "current loss = 1.6762731806036\t\n",
       "current loss = 1.6762233733757\t\n",
       "current loss = 1.6761735832209\t\n",
       "current loss = 1.67612381013\t\n"
      ]
     },
     "execution_count": 8,
     "metadata": {},
     "output_type": "execute_result"
    },
    {
     "data": {
      "text/plain": [
       "current loss = 1.6760740540941\t\n",
       "current loss = 1.6760243151042\t\n",
       "current loss = 1.6759745931512\t\n",
       "current loss = 1.6759248882261\t\n",
       "current loss = 1.6758752003199\t\n"
      ]
     },
     "execution_count": 8,
     "metadata": {},
     "output_type": "execute_result"
    },
    {
     "data": {
      "text/plain": [
       "current loss = 1.6758255294237\t\n",
       "current loss = 1.6757758755283\t\n",
       "current loss = 1.675726238625\t\n",
       "current loss = 1.6756766187046\t\n"
      ]
     },
     "execution_count": 8,
     "metadata": {},
     "output_type": "execute_result"
    },
    {
     "data": {
      "text/plain": [
       "current loss = 1.6756270157582\t\n",
       "current loss = 1.6755774297769\t\n"
      ]
     },
     "execution_count": 8,
     "metadata": {},
     "output_type": "execute_result"
    },
    {
     "data": {
      "text/plain": [
       "current loss = 1.6755278607517\t\n",
       "current loss = 1.6754783086736\t\n",
       "current loss = 1.6754287735336\t\n"
      ]
     },
     "execution_count": 8,
     "metadata": {},
     "output_type": "execute_result"
    },
    {
     "data": {
      "text/plain": [
       "current loss = 1.6753792553229\t\n",
       "current loss = 1.6753297540326\t\n",
       "current loss = 1.6752802696536\t\n"
      ]
     },
     "execution_count": 8,
     "metadata": {},
     "output_type": "execute_result"
    },
    {
     "data": {
      "text/plain": [
       "current loss = 1.6752308021771\t\n",
       "current loss = 1.6751813515941\t\n",
       "current loss = 1.6751319178958\t\n"
      ]
     },
     "execution_count": 8,
     "metadata": {},
     "output_type": "execute_result"
    },
    {
     "data": {
      "text/plain": [
       "current loss = 1.6750825010732\t\n",
       "current loss = 1.6750331011175\t\n",
       "current loss = 1.6749837180198\t\n",
       "current loss = 1.6749343517711\t\n"
      ]
     },
     "execution_count": 8,
     "metadata": {},
     "output_type": "execute_result"
    },
    {
     "data": {
      "text/plain": [
       "current loss = 1.6748850023627\t\n",
       "current loss = 1.6748356697855\t\n",
       "current loss = 1.6747863540309\t\n",
       "current loss = 1.6747370550898\t\n",
       "current loss = 1.6746877729536\t\n"
      ]
     },
     "execution_count": 8,
     "metadata": {},
     "output_type": "execute_result"
    },
    {
     "data": {
      "text/plain": [
       "current loss = 1.6746385076132\t\n",
       "current loss = 1.6745892590599\t\n",
       "current loss = 1.6745400272849\t\n",
       "current loss = 1.6744908122793\t\n"
      ]
     },
     "execution_count": 8,
     "metadata": {},
     "output_type": "execute_result"
    },
    {
     "data": {
      "text/plain": [
       "current loss = 1.6744416140343\t\n",
       "current loss = 1.6743924325411\t\n",
       "current loss = 1.6743432677909\t\n",
       "current loss = 1.6742941197748\t\n"
      ]
     },
     "execution_count": 8,
     "metadata": {},
     "output_type": "execute_result"
    },
    {
     "data": {
      "text/plain": [
       "current loss = 1.6742449884842\t\n",
       "current loss = 1.6741958739101\t\n",
       "current loss = 1.6741467760439\t\n",
       "current loss = 1.6740976948767\t\n"
      ]
     },
     "execution_count": 8,
     "metadata": {},
     "output_type": "execute_result"
    },
    {
     "data": {
      "text/plain": [
       "current loss = 1.6740486303998\t\n",
       "current loss = 1.6739995826043\t\n",
       "current loss = 1.6739505514816\t\n",
       "current loss = 1.673901537023\t\n"
      ]
     },
     "execution_count": 8,
     "metadata": {},
     "output_type": "execute_result"
    },
    {
     "data": {
      "text/plain": [
       "current loss = 1.6738525392195\t\n",
       "current loss = 1.6738035580626\t\n",
       "current loss = 1.6737545935435\t\n",
       "current loss = 1.6737056456534\t\n"
      ]
     },
     "execution_count": 8,
     "metadata": {},
     "output_type": "execute_result"
    },
    {
     "data": {
      "text/plain": [
       "current loss = 1.6736567143836\t\n",
       "current loss = 1.6736077997255\t\n",
       "current loss = 1.6735589016702\t\n"
      ]
     },
     "execution_count": 8,
     "metadata": {},
     "output_type": "execute_result"
    },
    {
     "data": {
      "text/plain": [
       "current loss = 1.6735100202092\t\n",
       "current loss = 1.6734611553337\t\n",
       "current loss = 1.673412307035\t\n",
       "current loss = 1.6733634753044\t\n"
      ]
     },
     "execution_count": 8,
     "metadata": {},
     "output_type": "execute_result"
    },
    {
     "data": {
      "text/plain": [
       "current loss = 1.6733146601333\t\n",
       "current loss = 1.6732658615129\t\n",
       "current loss = 1.6732170794347\t\n",
       "current loss = 1.67316831389\t\n"
      ]
     },
     "execution_count": 8,
     "metadata": {},
     "output_type": "execute_result"
    },
    {
     "data": {
      "text/plain": [
       "current loss = 1.67311956487\t\n",
       "current loss = 1.6730708323662\t\n",
       "current loss = 1.6730221163699\t\n",
       "current loss = 1.6729734168725\t\n",
       "current loss = 1.6729247338654\t\n"
      ]
     },
     "execution_count": 8,
     "metadata": {},
     "output_type": "execute_result"
    },
    {
     "data": {
      "text/plain": [
       "current loss = 1.6728760673399\t\n",
       "current loss = 1.6728274172873\t\n",
       "current loss = 1.6727787836992\t\n"
      ]
     },
     "execution_count": 8,
     "metadata": {},
     "output_type": "execute_result"
    },
    {
     "data": {
      "text/plain": [
       "current loss = 1.6727301665669\t\n",
       "current loss = 1.6726815658818\t\n",
       "current loss = 1.6726329816353\t\n",
       "current loss = 1.6725844138188\t\n"
      ]
     },
     "execution_count": 8,
     "metadata": {},
     "output_type": "execute_result"
    },
    {
     "data": {
      "text/plain": [
       "current loss = 1.6725358624237\t\n",
       "current loss = 1.6724873274414\t\n",
       "current loss = 1.6724388088635\t\n",
       "current loss = 1.6723903066813\t\n",
       "current loss = 1.6723418208862\t\n"
      ]
     },
     "execution_count": 8,
     "metadata": {},
     "output_type": "execute_result"
    },
    {
     "data": {
      "text/plain": [
       "current loss = 1.6722933514698\t\n",
       "current loss = 1.6722448984235\t\n",
       "current loss = 1.6721964617387\t\n"
      ]
     },
     "execution_count": 8,
     "metadata": {},
     "output_type": "execute_result"
    },
    {
     "data": {
      "text/plain": [
       "current loss = 1.6721480414068\t\n"
      ]
     },
     "execution_count": 8,
     "metadata": {},
     "output_type": "execute_result"
    },
    {
     "data": {
      "text/plain": [
       "current loss = 1.6720996374195\t\n",
       "current loss = 1.6720512497681\t\n",
       "current loss = 1.6720028784441\t\n"
      ]
     },
     "execution_count": 8,
     "metadata": {},
     "output_type": "execute_result"
    },
    {
     "data": {
      "text/plain": [
       "current loss = 1.6719545234391\t\n",
       "current loss = 1.6719061847444\t\n",
       "current loss = 1.6718578623518\t\n",
       "current loss = 1.6718095562525\t\n"
      ]
     },
     "execution_count": 8,
     "metadata": {},
     "output_type": "execute_result"
    },
    {
     "data": {
      "text/plain": [
       "current loss = 1.6717612664382\t\n",
       "current loss = 1.6717129929003\t\n",
       "current loss = 1.6716647356305\t\n"
      ]
     },
     "execution_count": 8,
     "metadata": {},
     "output_type": "execute_result"
    },
    {
     "data": {
      "text/plain": [
       "current loss = 1.6716164946202\t\n",
       "current loss = 1.6715682698609\t\n",
       "current loss = 1.6715200613443\t\n",
       "current loss = 1.6714718690618\t\n"
      ]
     },
     "execution_count": 8,
     "metadata": {},
     "output_type": "execute_result"
    },
    {
     "data": {
      "text/plain": [
       "current loss = 1.671423693005\t\n",
       "current loss = 1.6713755331655\t\n",
       "current loss = 1.6713273895348\t\n"
      ]
     },
     "execution_count": 8,
     "metadata": {},
     "output_type": "execute_result"
    },
    {
     "data": {
      "text/plain": [
       "current loss = 1.6712792621046\t\n",
       "current loss = 1.6712311508663\t\n"
      ]
     },
     "execution_count": 8,
     "metadata": {},
     "output_type": "execute_result"
    },
    {
     "data": {
      "text/plain": [
       "current loss = 1.6711830558117\t\n",
       "current loss = 1.6711349769322\t\n"
      ]
     },
     "execution_count": 8,
     "metadata": {},
     "output_type": "execute_result"
    },
    {
     "data": {
      "text/plain": [
       "current loss = 1.6710869142194\t\n",
       "current loss = 1.6710388676651\t\n",
       "current loss = 1.6709908372607\t\n"
      ]
     },
     "execution_count": 8,
     "metadata": {},
     "output_type": "execute_result"
    },
    {
     "data": {
      "text/plain": [
       "current loss = 1.6709428229979\t\n",
       "current loss = 1.6708948248683\t\n",
       "current loss = 1.6708468428636\t\n"
      ]
     },
     "execution_count": 8,
     "metadata": {},
     "output_type": "execute_result"
    },
    {
     "data": {
      "text/plain": [
       "current loss = 1.6707988769754\t\n",
       "current loss = 1.6707509271952\t\n",
       "current loss = 1.6707029935148\t\n"
      ]
     },
     "execution_count": 8,
     "metadata": {},
     "output_type": "execute_result"
    },
    {
     "data": {
      "text/plain": [
       "current loss = 1.6706550759259\t\n",
       "current loss = 1.6706071744199\t\n",
       "current loss = 1.6705592889887\t\n"
      ]
     },
     "execution_count": 8,
     "metadata": {},
     "output_type": "execute_result"
    },
    {
     "data": {
      "text/plain": [
       "current loss = 1.6705114196239\t\n",
       "current loss = 1.6704635663171\t\n",
       "current loss = 1.6704157290601\t\n",
       "current loss = 1.6703679078445\t\n"
      ]
     },
     "execution_count": 8,
     "metadata": {},
     "output_type": "execute_result"
    },
    {
     "data": {
      "text/plain": [
       "current loss = 1.670320102662\t\n",
       "current loss = 1.6702723135044\t\n",
       "current loss = 1.6702245403632\t\n"
      ]
     },
     "execution_count": 8,
     "metadata": {},
     "output_type": "execute_result"
    },
    {
     "data": {
      "text/plain": [
       "current loss = 1.6701767832302\t\n",
       "current loss = 1.6701290420972\t\n",
       "current loss = 1.6700813169558\t\n"
      ]
     },
     "execution_count": 8,
     "metadata": {},
     "output_type": "execute_result"
    },
    {
     "data": {
      "text/plain": [
       "current loss = 1.6700336077978\t\n",
       "current loss = 1.6699859146149\t\n",
       "current loss = 1.6699382373989\t\n"
      ]
     },
     "execution_count": 8,
     "metadata": {},
     "output_type": "execute_result"
    },
    {
     "data": {
      "text/plain": [
       "current loss = 1.6698905761414\t\n",
       "current loss = 1.6698429308342\t\n",
       "current loss = 1.6697953014691\t\n"
      ]
     },
     "execution_count": 8,
     "metadata": {},
     "output_type": "execute_result"
    },
    {
     "data": {
      "text/plain": [
       "current loss = 1.6697476880379\t\n",
       "current loss = 1.6697000905323\t\n"
      ]
     },
     "execution_count": 8,
     "metadata": {},
     "output_type": "execute_result"
    },
    {
     "data": {
      "text/plain": [
       "current loss = 1.6696525089441\t\n",
       "current loss = 1.6696049432649\t\n"
      ]
     },
     "execution_count": 8,
     "metadata": {},
     "output_type": "execute_result"
    },
    {
     "data": {
      "text/plain": [
       "current loss = 1.6695573934868\t\n",
       "current loss = 1.6695098596013\t\n",
       "current loss = 1.6694623416004\t\n"
      ]
     },
     "execution_count": 8,
     "metadata": {},
     "output_type": "execute_result"
    },
    {
     "data": {
      "text/plain": [
       "current loss = 1.6694148394758\t\n",
       "current loss = 1.6693673532193\t\n",
       "current loss = 1.6693198828227\t\n",
       "current loss = 1.6692724282779\t\n"
      ]
     },
     "execution_count": 8,
     "metadata": {},
     "output_type": "execute_result"
    },
    {
     "data": {
      "text/plain": [
       "current loss = 1.6692249895766\t\n",
       "current loss = 1.6691775667108\t\n",
       "current loss = 1.6691301596721\t\n"
      ]
     },
     "execution_count": 8,
     "metadata": {},
     "output_type": "execute_result"
    },
    {
     "data": {
      "text/plain": [
       "current loss = 1.6690827684525\t\n",
       "current loss = 1.6690353930439\t\n",
       "current loss = 1.6689880334379\t\n",
       "current loss = 1.6689406896266\t\n"
      ]
     },
     "execution_count": 8,
     "metadata": {},
     "output_type": "execute_result"
    },
    {
     "data": {
      "text/plain": [
       "current loss = 1.6688933616018\t\n",
       "current loss = 1.6688460493553\t\n",
       "current loss = 1.6687987528791\t\n"
      ]
     },
     "execution_count": 8,
     "metadata": {},
     "output_type": "execute_result"
    },
    {
     "data": {
      "text/plain": [
       "current loss = 1.6687514721649\t\n",
       "current loss = 1.6687042072047\t\n",
       "current loss = 1.6686569579903\t\n"
      ]
     },
     "execution_count": 8,
     "metadata": {},
     "output_type": "execute_result"
    },
    {
     "data": {
      "text/plain": [
       "current loss = 1.6686097245137\t\n",
       "current loss = 1.6685625067668\t\n",
       "current loss = 1.6685153047414\t\n",
       "current loss = 1.6684681184296\t\n"
      ]
     },
     "execution_count": 8,
     "metadata": {},
     "output_type": "execute_result"
    },
    {
     "data": {
      "text/plain": [
       "current loss = 1.6684209478231\t\n",
       "current loss = 1.6683737929139\t\n",
       "current loss = 1.668326653694\t\n"
      ]
     },
     "execution_count": 8,
     "metadata": {},
     "output_type": "execute_result"
    },
    {
     "data": {
      "text/plain": [
       "current loss = 1.6682795301552\t\n",
       "current loss = 1.6682324222896\t\n",
       "current loss = 1.668185330089\t\n"
      ]
     },
     "execution_count": 8,
     "metadata": {},
     "output_type": "execute_result"
    },
    {
     "data": {
      "text/plain": [
       "current loss = 1.6681382535454\t\n",
       "current loss = 1.6680911926509\t\n",
       "current loss = 1.6680441473972\t\n",
       "current loss = 1.6679971177765\t\n"
      ]
     },
     "execution_count": 8,
     "metadata": {},
     "output_type": "execute_result"
    },
    {
     "data": {
      "text/plain": [
       "current loss = 1.6679501037806\t\n",
       "current loss = 1.6679031054015\t\n",
       "current loss = 1.6678561226313\t\n"
      ]
     },
     "execution_count": 8,
     "metadata": {},
     "output_type": "execute_result"
    },
    {
     "data": {
      "text/plain": [
       "current loss = 1.6678091554619\t\n",
       "current loss = 1.6677622038854\t\n",
       "current loss = 1.6677152678936\t\n"
      ]
     },
     "execution_count": 8,
     "metadata": {},
     "output_type": "execute_result"
    },
    {
     "data": {
      "text/plain": [
       "current loss = 1.6676683474787\t\n",
       "current loss = 1.6676214426326\t\n",
       "current loss = 1.6675745533474\t\n"
      ]
     },
     "execution_count": 8,
     "metadata": {},
     "output_type": "execute_result"
    },
    {
     "data": {
      "text/plain": [
       "current loss = 1.667527679615\t\n",
       "current loss = 1.6674808214276\t\n",
       "current loss = 1.6674339787771\t\n"
      ]
     },
     "execution_count": 8,
     "metadata": {},
     "output_type": "execute_result"
    },
    {
     "data": {
      "text/plain": [
       "current loss = 1.6673871516555\t\n",
       "current loss = 1.667340340055\t\n",
       "current loss = 1.6672935439675\t\n"
      ]
     },
     "execution_count": 8,
     "metadata": {},
     "output_type": "execute_result"
    },
    {
     "data": {
      "text/plain": [
       "current loss = 1.6672467633852\t\n",
       "current loss = 1.6671999983\t\n"
      ]
     },
     "execution_count": 8,
     "metadata": {},
     "output_type": "execute_result"
    },
    {
     "data": {
      "text/plain": [
       "current loss = 1.6671532487041\t\n",
       "current loss = 1.6671065145895\t\n",
       "current loss = 1.6670597959483\t\n"
      ]
     },
     "execution_count": 8,
     "metadata": {},
     "output_type": "execute_result"
    },
    {
     "data": {
      "text/plain": [
       "current loss = 1.6670130927727\t\n"
      ]
     },
     "execution_count": 8,
     "metadata": {},
     "output_type": "execute_result"
    },
    {
     "data": {
      "text/plain": [
       "current loss = 1.6669664050545\t\n"
      ]
     },
     "execution_count": 8,
     "metadata": {},
     "output_type": "execute_result"
    },
    {
     "data": {
      "text/plain": [
       "current loss = 1.666919732786\t\n",
       "current loss = 1.6668730759593\t\n"
      ]
     },
     "execution_count": 8,
     "metadata": {},
     "output_type": "execute_result"
    },
    {
     "data": {
      "text/plain": [
       "current loss = 1.6668264345665\t\n",
       "current loss = 1.6667798085996\t\n",
       "current loss = 1.6667331980508\t\n"
      ]
     },
     "execution_count": 8,
     "metadata": {},
     "output_type": "execute_result"
    },
    {
     "data": {
      "text/plain": [
       "current loss = 1.6666866029123\t\n",
       "current loss = 1.666640023176\t\n",
       "current loss = 1.6665934588343\t\n"
      ]
     },
     "execution_count": 8,
     "metadata": {},
     "output_type": "execute_result"
    },
    {
     "data": {
      "text/plain": [
       "current loss = 1.6665469098791\t\n",
       "current loss = 1.6665003763027\t\n",
       "current loss = 1.6664538580972\t\n"
      ]
     },
     "execution_count": 8,
     "metadata": {},
     "output_type": "execute_result"
    },
    {
     "data": {
      "text/plain": [
       "current loss = 1.6664073552547\t\n",
       "current loss = 1.6663608677675\t\n",
       "current loss = 1.6663143956276\t\n"
      ]
     },
     "execution_count": 8,
     "metadata": {},
     "output_type": "execute_result"
    },
    {
     "data": {
      "text/plain": [
       "current loss = 1.6662679388272\t\n",
       "current loss = 1.6662214973585\t\n",
       "current loss = 1.6661750712138\t\n"
      ]
     },
     "execution_count": 8,
     "metadata": {},
     "output_type": "execute_result"
    },
    {
     "data": {
      "text/plain": [
       "current loss = 1.6661286603851\t\n",
       "current loss = 1.6660822648647\t\n",
       "current loss = 1.6660358846447\t\n"
      ]
     },
     "execution_count": 8,
     "metadata": {},
     "output_type": "execute_result"
    },
    {
     "data": {
      "text/plain": [
       "current loss = 1.6659895197174\t\n",
       "current loss = 1.665943170075\t\n",
       "current loss = 1.6658968357097\t\n"
      ]
     },
     "execution_count": 8,
     "metadata": {},
     "output_type": "execute_result"
    },
    {
     "data": {
      "text/plain": [
       "current loss = 1.6658505166136\t\n",
       "current loss = 1.6658042127791\t\n",
       "current loss = 1.6657579241983\t\n",
       "current loss = 1.6657116508636\t\n"
      ]
     },
     "execution_count": 8,
     "metadata": {},
     "output_type": "execute_result"
    },
    {
     "data": {
      "text/plain": [
       "current loss = 1.665665392767\t\n",
       "current loss = 1.6656191499009\t\n",
       "current loss = 1.6655729222575\t\n",
       "current loss = 1.6655267098291\t\n"
      ]
     },
     "execution_count": 8,
     "metadata": {},
     "output_type": "execute_result"
    },
    {
     "data": {
      "text/plain": [
       "current loss = 1.6654805126079\t\n",
       "current loss = 1.6654343305862\t\n",
       "current loss = 1.6653881637562\t\n",
       "current loss = 1.6653420121103\t\n"
      ]
     },
     "execution_count": 8,
     "metadata": {},
     "output_type": "execute_result"
    },
    {
     "data": {
      "text/plain": [
       "current loss = 1.6652958756407\t\n",
       "current loss = 1.6652497543397\t\n",
       "current loss = 1.6652036481996\t\n",
       "current loss = 1.6651575572127\t\n",
       "current loss = 1.6651114813713\t\n"
      ]
     },
     "execution_count": 8,
     "metadata": {},
     "output_type": "execute_result"
    },
    {
     "data": {
      "text/plain": [
       "current loss = 1.6650654206677\t\n",
       "current loss = 1.6650193750942\t\n",
       "current loss = 1.6649733446431\t\n"
      ]
     },
     "execution_count": 8,
     "metadata": {},
     "output_type": "execute_result"
    },
    {
     "data": {
      "text/plain": [
       "current loss = 1.6649273293068\t\n",
       "current loss = 1.6648813290775\t\n",
       "current loss = 1.6648353439477\t\n"
      ]
     },
     "execution_count": 8,
     "metadata": {},
     "output_type": "execute_result"
    },
    {
     "data": {
      "text/plain": [
       "current loss = 1.6647893739096\t\n",
       "current loss = 1.6647434189557\t\n",
       "current loss = 1.6646974790781\t\n",
       "current loss = 1.6646515542694\t\n"
      ]
     },
     "execution_count": 8,
     "metadata": {},
     "output_type": "execute_result"
    },
    {
     "data": {
      "text/plain": [
       "current loss = 1.6646056445218\t\n",
       "current loss = 1.6645597498277\t\n",
       "current loss = 1.6645138701795\t\n",
       "current loss = 1.6644680055696\t\n"
      ]
     },
     "execution_count": 8,
     "metadata": {},
     "output_type": "execute_result"
    },
    {
     "data": {
      "text/plain": [
       "current loss = 1.6644221559904\t\n",
       "current loss = 1.6643763214341\t\n",
       "current loss = 1.6643305018933\t\n",
       "current loss = 1.6642846973603\t\n",
       "current loss = 1.6642389078275\t\n"
      ]
     },
     "execution_count": 8,
     "metadata": {},
     "output_type": "execute_result"
    },
    {
     "data": {
      "text/plain": [
       "current loss = 1.6641931332874\t\n",
       "current loss = 1.6641473737323\t\n",
       "current loss = 1.6641016291546\t\n",
       "current loss = 1.6640558995468\t\n"
      ]
     },
     "execution_count": 8,
     "metadata": {},
     "output_type": "execute_result"
    },
    {
     "data": {
      "text/plain": [
       "current loss = 1.6640101849013\t\n",
       "current loss = 1.6639644852105\t\n",
       "current loss = 1.6639188004669\t\n",
       "current loss = 1.6638731306629\t\n"
      ]
     },
     "execution_count": 8,
     "metadata": {},
     "output_type": "execute_result"
    },
    {
     "data": {
      "text/plain": [
       "current loss = 1.663827475791\t\n",
       "current loss = 1.6637818358436\t\n",
       "current loss = 1.6637362108131\t\n",
       "current loss = 1.6636906006921\t\n"
      ]
     },
     "execution_count": 8,
     "metadata": {},
     "output_type": "execute_result"
    },
    {
     "data": {
      "text/plain": [
       "current loss = 1.6636450054729\t\n",
       "current loss = 1.6635994251482\t\n",
       "current loss = 1.6635538597102\t\n",
       "current loss = 1.6635083091516\t\n"
      ]
     },
     "execution_count": 8,
     "metadata": {},
     "output_type": "execute_result"
    },
    {
     "data": {
      "text/plain": [
       "current loss = 1.6634627734648\t\n",
       "current loss = 1.6634172526424\t\n",
       "current loss = 1.6633717466767\t\n",
       "current loss = 1.6633262555604\t\n"
      ]
     },
     "execution_count": 8,
     "metadata": {},
     "output_type": "execute_result"
    },
    {
     "data": {
      "text/plain": [
       "current loss = 1.6632807792858\t\n",
       "current loss = 1.6632353178456\t\n",
       "current loss = 1.6631898712323\t\n",
       "current loss = 1.6631444394383\t\n",
       "current loss = 1.6630990224562\t\n"
      ]
     },
     "execution_count": 8,
     "metadata": {},
     "output_type": "execute_result"
    },
    {
     "data": {
      "text/plain": [
       "current loss = 1.6630536202786\t\n",
       "current loss = 1.6630082328979\t\n",
       "current loss = 1.6629628603068\t\n",
       "current loss = 1.6629175024977\t\n"
      ]
     },
     "execution_count": 8,
     "metadata": {},
     "output_type": "execute_result"
    },
    {
     "data": {
      "text/plain": [
       "current loss = 1.6628721594633\t\n",
       "current loss = 1.662826831196\t\n",
       "current loss = 1.6627815176885\t\n",
       "current loss = 1.6627362189333\t\n"
      ]
     },
     "execution_count": 8,
     "metadata": {},
     "output_type": "execute_result"
    },
    {
     "data": {
      "text/plain": [
       "current loss = 1.662690934923\t\n",
       "current loss = 1.6626456656501\t\n",
       "current loss = 1.6626004111073\t\n",
       "current loss = 1.6625551712872\t\n",
       "current loss = 1.6625099461822\t\n"
      ]
     },
     "execution_count": 8,
     "metadata": {},
     "output_type": "execute_result"
    },
    {
     "data": {
      "text/plain": [
       "current loss = 1.6624647357852\t\n",
       "current loss = 1.6624195400885\t\n",
       "current loss = 1.6623743590849\t\n"
      ]
     },
     "execution_count": 8,
     "metadata": {},
     "output_type": "execute_result"
    },
    {
     "data": {
      "text/plain": [
       "current loss = 1.662329192767\t\n",
       "current loss = 1.6622840411273\t\n",
       "current loss = 1.6622389041585\t\n"
      ]
     },
     "execution_count": 8,
     "metadata": {},
     "output_type": "execute_result"
    },
    {
     "data": {
      "text/plain": [
       "current loss = 1.6621937818533\t\n",
       "current loss = 1.6621486742043\t\n",
       "current loss = 1.662103581204\t\n",
       "current loss = 1.6620585028452\t\n",
       "current loss = 1.6620134391205\t\n"
      ]
     },
     "execution_count": 8,
     "metadata": {},
     "output_type": "execute_result"
    },
    {
     "data": {
      "text/plain": [
       "current loss = 1.6619683900225\t\n",
       "current loss = 1.661923355544\t\n",
       "current loss = 1.6618783356775\t\n"
      ]
     },
     "execution_count": 8,
     "metadata": {},
     "output_type": "execute_result"
    },
    {
     "data": {
      "text/plain": [
       "current loss = 1.6618333304158\t\n",
       "current loss = 1.6617883397515\t\n",
       "current loss = 1.6617433636773\t\n",
       "current loss = 1.6616984021859\t\n"
      ]
     },
     "execution_count": 8,
     "metadata": {},
     "output_type": "execute_result"
    },
    {
     "data": {
      "text/plain": [
       "current loss = 1.6616534552699\t\n",
       "current loss = 1.6616085229221\t\n",
       "current loss = 1.6615636051352\t\n"
      ]
     },
     "execution_count": 8,
     "metadata": {},
     "output_type": "execute_result"
    },
    {
     "data": {
      "text/plain": [
       "current loss = 1.6615187019018\t\n",
       "current loss = 1.6614738132147\t\n",
       "current loss = 1.6614289390666\t\n",
       "current loss = 1.6613840794502\t\n",
       "current loss = 1.6613392343582\t\n"
      ]
     },
     "execution_count": 8,
     "metadata": {},
     "output_type": "execute_result"
    },
    {
     "data": {
      "text/plain": [
       "current loss = 1.6612944037833\t\n",
       "current loss = 1.6612495877184\t\n",
       "current loss = 1.661204786156\t\n",
       "current loss = 1.6611599990891\t\n"
      ]
     },
     "execution_count": 8,
     "metadata": {},
     "output_type": "execute_result"
    },
    {
     "data": {
      "text/plain": [
       "current loss = 1.6611152265102\t\n",
       "current loss = 1.6610704684122\t\n",
       "current loss = 1.6610257247879\t\n",
       "current loss = 1.6609809956299\t\n",
       "current loss = 1.6609362809311\t\n"
      ]
     },
     "execution_count": 8,
     "metadata": {},
     "output_type": "execute_result"
    },
    {
     "data": {
      "text/plain": [
       "current loss = 1.6608915806842\t\n",
       "current loss = 1.6608468948819\t\n",
       "current loss = 1.6608022235172\t\n",
       "current loss = 1.6607575665827\t\n"
      ]
     },
     "execution_count": 8,
     "metadata": {},
     "output_type": "execute_result"
    },
    {
     "data": {
      "text/plain": [
       "current loss = 1.6607129240713\t\n",
       "current loss = 1.6606682959758\t\n",
       "current loss = 1.6606236822889\t\n",
       "current loss = 1.6605790830034\t\n"
      ]
     },
     "execution_count": 8,
     "metadata": {},
     "output_type": "execute_result"
    },
    {
     "data": {
      "text/plain": [
       "current loss = 1.6605344981123\t\n",
       "current loss = 1.6604899276082\t\n",
       "current loss = 1.660445371484\t\n"
      ]
     },
     "execution_count": 8,
     "metadata": {},
     "output_type": "execute_result"
    },
    {
     "data": {
      "text/plain": [
       "current loss = 1.6604008297325\t\n",
       "current loss = 1.6603563023466\t\n",
       "current loss = 1.6603117893191\t\n"
      ]
     },
     "execution_count": 8,
     "metadata": {},
     "output_type": "execute_result"
    },
    {
     "data": {
      "text/plain": [
       "current loss = 1.6602672906429\t\n",
       "current loss = 1.6602228063107\t\n",
       "current loss = 1.6601783363154\t\n"
      ]
     },
     "execution_count": 8,
     "metadata": {},
     "output_type": "execute_result"
    },
    {
     "data": {
      "text/plain": [
       "current loss = 1.6601338806499\t\n",
       "current loss = 1.6600894393071\t\n",
       "current loss = 1.6600450122798\t\n",
       "current loss = 1.6600005995608\t\n"
      ]
     },
     "execution_count": 8,
     "metadata": {},
     "output_type": "execute_result"
    },
    {
     "data": {
      "text/plain": [
       "current loss = 1.6599562011431\t\n",
       "current loss = 1.6599118170194\t\n",
       "current loss = 1.6598674471828\t\n",
       "current loss = 1.6598230916261\t\n"
      ]
     },
     "execution_count": 8,
     "metadata": {},
     "output_type": "execute_result"
    },
    {
     "data": {
      "text/plain": [
       "current loss = 1.6597787503422\t\n",
       "current loss = 1.6597344233239\t\n",
       "current loss = 1.6596901105642\t\n",
       "current loss = 1.659645812056\t\n"
      ]
     },
     "execution_count": 8,
     "metadata": {},
     "output_type": "execute_result"
    },
    {
     "data": {
      "text/plain": [
       "current loss = 1.6596015277922\t\n",
       "current loss = 1.6595572577657\t\n",
       "current loss = 1.6595130019695\t\n",
       "current loss = 1.6594687603963\t\n"
      ]
     },
     "execution_count": 8,
     "metadata": {},
     "output_type": "execute_result"
    },
    {
     "data": {
      "text/plain": [
       "current loss = 1.6594245330393\t\n",
       "current loss = 1.6593803198913\t\n",
       "current loss = 1.6593361209453\t\n",
       "current loss = 1.6592919361941\t\n"
      ]
     },
     "execution_count": 8,
     "metadata": {},
     "output_type": "execute_result"
    },
    {
     "data": {
      "text/plain": [
       "current loss = 1.6592477656309\t\n",
       "current loss = 1.6592036092484\t\n",
       "current loss = 1.6591594670397\t\n",
       "current loss = 1.6591153389977\t\n"
      ]
     },
     "execution_count": 8,
     "metadata": {},
     "output_type": "execute_result"
    },
    {
     "data": {
      "text/plain": [
       "current loss = 1.6590712251154\t\n",
       "current loss = 1.6590271253858\t\n",
       "current loss = 1.6589830398018\t\n",
       "current loss = 1.6589389683564\t\n"
      ]
     },
     "execution_count": 8,
     "metadata": {},
     "output_type": "execute_result"
    },
    {
     "data": {
      "text/plain": [
       "current loss = 1.6588949110427\t\n",
       "current loss = 1.6588508678536\t\n",
       "current loss = 1.658806838782\t\n",
       "current loss = 1.6587628238211\t\n",
       "current loss = 1.6587188229637\t\n"
      ]
     },
     "execution_count": 8,
     "metadata": {},
     "output_type": "execute_result"
    },
    {
     "data": {
      "text/plain": [
       "current loss = 1.658674836203\t\n",
       "current loss = 1.6586308635319\t\n",
       "current loss = 1.6585869049434\t\n",
       "current loss = 1.6585429604306\t\n"
      ]
     },
     "execution_count": 8,
     "metadata": {},
     "output_type": "execute_result"
    },
    {
     "data": {
      "text/plain": [
       "current loss = 1.6584990299865\t\n",
       "current loss = 1.6584551136041\t\n",
       "current loss = 1.6584112112765\t\n"
      ]
     },
     "execution_count": 8,
     "metadata": {},
     "output_type": "execute_result"
    },
    {
     "data": {
      "text/plain": [
       "current loss = 1.6583673229967\t\n",
       "current loss = 1.6583234487578\t\n",
       "current loss = 1.6582795885528\t\n",
       "current loss = 1.6582357423747\t\n"
      ]
     },
     "execution_count": 8,
     "metadata": {},
     "output_type": "execute_result"
    },
    {
     "data": {
      "text/plain": [
       "current loss = 1.6581919102167\t\n",
       "current loss = 1.6581480920717\t\n",
       "current loss = 1.6581042879329\t\n"
      ]
     },
     "execution_count": 8,
     "metadata": {},
     "output_type": "execute_result"
    },
    {
     "data": {
      "text/plain": [
       "current loss = 1.6580604977934\t\n",
       "current loss = 1.6580167216461\t\n",
       "current loss = 1.6579729594843\t\n"
      ]
     },
     "execution_count": 8,
     "metadata": {},
     "output_type": "execute_result"
    },
    {
     "data": {
      "text/plain": [
       "current loss = 1.6579292113009\t\n",
       "current loss = 1.6578854770891\t\n"
      ]
     },
     "execution_count": 8,
     "metadata": {},
     "output_type": "execute_result"
    },
    {
     "data": {
      "text/plain": [
       "current loss = 1.657841756842\t\n",
       "current loss = 1.6577980505527\t\n",
       "current loss = 1.6577543582142\t\n",
       "current loss = 1.6577106798197\t\n"
      ]
     },
     "execution_count": 8,
     "metadata": {},
     "output_type": "execute_result"
    },
    {
     "data": {
      "text/plain": [
       "current loss = 1.6576670153624\t\n",
       "current loss = 1.6576233648353\t\n",
       "current loss = 1.6575797282315\t\n"
      ]
     },
     "execution_count": 8,
     "metadata": {},
     "output_type": "execute_result"
    },
    {
     "data": {
      "text/plain": [
       "current loss = 1.6575361055442\t\n",
       "current loss = 1.6574924967665\t\n",
       "current loss = 1.6574489018916\t\n"
      ]
     },
     "execution_count": 8,
     "metadata": {},
     "output_type": "execute_result"
    },
    {
     "data": {
      "text/plain": [
       "current loss = 1.6574053209126\t\n",
       "current loss = 1.6573617538227\t\n",
       "current loss = 1.6573182006149\t\n"
      ]
     },
     "execution_count": 8,
     "metadata": {},
     "output_type": "execute_result"
    },
    {
     "data": {
      "text/plain": [
       "current loss = 1.6572746612825\t\n",
       "current loss = 1.6572311358186\t\n",
       "current loss = 1.6571876242164\t\n"
      ]
     },
     "execution_count": 8,
     "metadata": {},
     "output_type": "execute_result"
    },
    {
     "data": {
      "text/plain": [
       "current loss = 1.657144126469\t\n",
       "current loss = 1.6571006425697\t\n",
       "current loss = 1.6570571725116\t\n",
       "current loss = 1.6570137162879\t\n"
      ]
     },
     "execution_count": 8,
     "metadata": {},
     "output_type": "execute_result"
    },
    {
     "data": {
      "text/plain": [
       "current loss = 1.6569702738917\t\n",
       "current loss = 1.6569268453164\t\n",
       "current loss = 1.656883430555\t\n"
      ]
     },
     "execution_count": 8,
     "metadata": {},
     "output_type": "execute_result"
    },
    {
     "data": {
      "text/plain": [
       "current loss = 1.6568400296007\t\n",
       "current loss = 1.6567966424469\t\n",
       "current loss = 1.6567532690866\t\n"
      ]
     },
     "execution_count": 8,
     "metadata": {},
     "output_type": "execute_result"
    },
    {
     "data": {
      "text/plain": [
       "current loss = 1.6567099095132\t\n",
       "current loss = 1.6566665637198\t\n",
       "current loss = 1.6566232316996\t\n"
      ]
     },
     "execution_count": 8,
     "metadata": {},
     "output_type": "execute_result"
    },
    {
     "data": {
      "text/plain": [
       "current loss = 1.6565799134459\t\n",
       "current loss = 1.6565366089519\t\n",
       "current loss = 1.6564933182109\t\n",
       "current loss = 1.656450041216\t\n"
      ]
     },
     "execution_count": 8,
     "metadata": {},
     "output_type": "execute_result"
    },
    {
     "data": {
      "text/plain": [
       "current loss = 1.6564067779606\t\n",
       "current loss = 1.6563635284379\t\n",
       "current loss = 1.6563202926411\t\n"
      ]
     },
     "execution_count": 8,
     "metadata": {},
     "output_type": "execute_result"
    },
    {
     "data": {
      "text/plain": [
       "current loss = 1.6562770705635\t\n",
       "current loss = 1.6562338621985\t\n",
       "current loss = 1.6561906675391\t\n"
      ]
     },
     "execution_count": 8,
     "metadata": {},
     "output_type": "execute_result"
    },
    {
     "data": {
      "text/plain": [
       "current loss = 1.6561474865787\t\n",
       "current loss = 1.6561043193107\t\n"
      ]
     },
     "execution_count": 8,
     "metadata": {},
     "output_type": "execute_result"
    },
    {
     "data": {
      "text/plain": [
       "current loss = 1.6560611657282\t\n",
       "current loss = 1.6560180258246\t\n",
       "current loss = 1.6559748995931\t\n",
       "current loss = 1.6559317870271\t\n"
      ]
     },
     "execution_count": 8,
     "metadata": {},
     "output_type": "execute_result"
    },
    {
     "data": {
      "text/plain": [
       "current loss = 1.6558886881198\t\n",
       "current loss = 1.6558456028646\t\n",
       "current loss = 1.6558025312547\t\n"
      ]
     },
     "execution_count": 8,
     "metadata": {},
     "output_type": "execute_result"
    },
    {
     "data": {
      "text/plain": [
       "current loss = 1.6557594732835\t\n",
       "current loss = 1.6557164289443\t\n",
       "current loss = 1.6556733982304\t\n",
       "current loss = 1.6556303811352\t\n"
      ]
     },
     "execution_count": 8,
     "metadata": {},
     "output_type": "execute_result"
    },
    {
     "data": {
      "text/plain": [
       "current loss = 1.6555873776519\t\n",
       "current loss = 1.6555443877739\t\n",
       "current loss = 1.6555014114946\t\n"
      ]
     },
     "execution_count": 8,
     "metadata": {},
     "output_type": "execute_result"
    },
    {
     "data": {
      "text/plain": [
       "current loss = 1.6554584488073\t\n",
       "current loss = 1.6554154997053\t\n",
       "current loss = 1.655372564182\t\n"
      ]
     },
     "execution_count": 8,
     "metadata": {},
     "output_type": "execute_result"
    },
    {
     "data": {
      "text/plain": [
       "current loss = 1.6553296422307\t\n",
       "current loss = 1.6552867338448\t\n",
       "current loss = 1.6552438390178\t\n",
       "current loss = 1.6552009577428\t\n"
      ]
     },
     "execution_count": 8,
     "metadata": {},
     "output_type": "execute_result"
    },
    {
     "data": {
      "text/plain": [
       "current loss = 1.6551580900134\t\n",
       "current loss = 1.6551152358229\t\n",
       "current loss = 1.6550723951647\t\n"
      ]
     },
     "execution_count": 8,
     "metadata": {},
     "output_type": "execute_result"
    },
    {
     "data": {
      "text/plain": [
       "current loss = 1.6550295680321\t\n",
       "current loss = 1.6549867544186\t\n",
       "current loss = 1.6549439543176\t\n"
      ]
     },
     "execution_count": 8,
     "metadata": {},
     "output_type": "execute_result"
    },
    {
     "data": {
      "text/plain": [
       "current loss = 1.6549011677224\t\n",
       "current loss = 1.6548583946265\t\n",
       "current loss = 1.6548156350233\t\n"
      ]
     },
     "execution_count": 8,
     "metadata": {},
     "output_type": "execute_result"
    },
    {
     "data": {
      "text/plain": [
       "current loss = 1.6547728889061\t\n",
       "current loss = 1.6547301562685\t\n",
       "current loss = 1.6546874371037\t\n",
       "current loss = 1.6546447314054\t\n"
      ]
     },
     "execution_count": 8,
     "metadata": {},
     "output_type": "execute_result"
    },
    {
     "data": {
      "text/plain": [
       "current loss = 1.6546020391668\t\n",
       "current loss = 1.6545593603815\t\n"
      ]
     },
     "execution_count": 8,
     "metadata": {},
     "output_type": "execute_result"
    },
    {
     "data": {
      "text/plain": [
       "current loss = 1.6545166950428\t\n",
       "current loss = 1.6544740431442\t\n",
       "current loss = 1.6544314046792\t\n",
       "current loss = 1.6543887796411\t\n"
      ]
     },
     "execution_count": 8,
     "metadata": {},
     "output_type": "execute_result"
    },
    {
     "data": {
      "text/plain": [
       "current loss = 1.6543461680236\t\n",
       "current loss = 1.6543035698199\t\n",
       "current loss = 1.6542609850237\t\n"
      ]
     },
     "execution_count": 8,
     "metadata": {},
     "output_type": "execute_result"
    },
    {
     "data": {
      "text/plain": [
       "current loss = 1.6542184136283\t\n",
       "current loss = 1.6541758556273\t\n",
       "current loss = 1.654133311014\t\n"
      ]
     },
     "execution_count": 8,
     "metadata": {},
     "output_type": "execute_result"
    },
    {
     "data": {
      "text/plain": [
       "current loss = 1.6540907797821\t\n",
       "current loss = 1.6540482619249\t\n",
       "current loss = 1.654005757436\t\n"
      ]
     },
     "execution_count": 8,
     "metadata": {},
     "output_type": "execute_result"
    },
    {
     "data": {
      "text/plain": [
       "current loss = 1.6539632663089\t\n",
       "current loss = 1.653920788537\t\n"
      ]
     },
     "execution_count": 8,
     "metadata": {},
     "output_type": "execute_result"
    },
    {
     "data": {
      "text/plain": [
       "current loss = 1.6538783241139\t\n"
      ]
     },
     "execution_count": 8,
     "metadata": {},
     "output_type": "execute_result"
    },
    {
     "data": {
      "text/plain": [
       "current loss = 1.6538358730331\t\n",
       "current loss = 1.6537934352881\t\n",
       "current loss = 1.6537510108724\t\n"
      ]
     },
     "execution_count": 8,
     "metadata": {},
     "output_type": "execute_result"
    },
    {
     "data": {
      "text/plain": [
       "current loss = 1.6537085997795\t\n",
       "current loss = 1.653666202003\t\n",
       "current loss = 1.6536238175363\t\n"
      ]
     },
     "execution_count": 8,
     "metadata": {},
     "output_type": "execute_result"
    },
    {
     "data": {
      "text/plain": [
       "current loss = 1.6535814463731\t\n",
       "current loss = 1.6535390885068\t\n",
       "current loss = 1.6534967439311\t\n",
       "current loss = 1.6534544126393\t\n"
      ]
     },
     "execution_count": 8,
     "metadata": {},
     "output_type": "execute_result"
    },
    {
     "data": {
      "text/plain": [
       "current loss = 1.6534120946252\t\n",
       "current loss = 1.6533697898822\t\n"
      ]
     },
     "execution_count": 8,
     "metadata": {},
     "output_type": "execute_result"
    },
    {
     "data": {
      "text/plain": [
       "current loss = 1.6533274984039\t\n",
       "current loss = 1.6532852201839\t\n",
       "current loss = 1.6532429552157\t\n",
       "current loss = 1.653200703493\t\n"
      ]
     },
     "execution_count": 8,
     "metadata": {},
     "output_type": "execute_result"
    },
    {
     "data": {
      "text/plain": [
       "current loss = 1.6531584650092\t\n",
       "current loss = 1.653116239758\t\n",
       "current loss = 1.6530740277329\t\n"
      ]
     },
     "execution_count": 8,
     "metadata": {},
     "output_type": "execute_result"
    },
    {
     "data": {
      "text/plain": [
       "current loss = 1.6530318289275\t\n",
       "current loss = 1.6529896433355\t\n",
       "current loss = 1.6529474709505\t\n"
      ]
     },
     "execution_count": 8,
     "metadata": {},
     "output_type": "execute_result"
    },
    {
     "data": {
      "text/plain": [
       "current loss = 1.6529053117659\t\n",
       "current loss = 1.6528631657755\t\n",
       "current loss = 1.6528210329728\t\n",
       "current loss = 1.6527789133515\t\n"
      ]
     },
     "execution_count": 8,
     "metadata": {},
     "output_type": "execute_result"
    },
    {
     "data": {
      "text/plain": [
       "current loss = 1.6527368069051\t\n",
       "current loss = 1.6526947136273\t\n",
       "current loss = 1.6526526335118\t\n",
       "current loss = 1.6526105665521\t\n"
      ]
     },
     "execution_count": 8,
     "metadata": {},
     "output_type": "execute_result"
    },
    {
     "data": {
      "text/plain": [
       "current loss = 1.6525685127419\t\n",
       "current loss = 1.6525264720748\t\n",
       "current loss = 1.6524844445444\t\n",
       "current loss = 1.6524424301445\t\n"
      ]
     },
     "execution_count": 8,
     "metadata": {},
     "output_type": "execute_result"
    },
    {
     "data": {
      "text/plain": [
       "current loss = 1.6524004288687\t\n",
       "current loss = 1.6523584407105\t\n",
       "current loss = 1.6523164656637\t\n"
      ]
     },
     "execution_count": 8,
     "metadata": {},
     "output_type": "execute_result"
    },
    {
     "data": {
      "text/plain": [
       "current loss = 1.652274503722\t\n",
       "current loss = 1.6522325548789\t\n",
       "current loss = 1.6521906191283\t\n",
       "current loss = 1.6521486964637\t\n",
       "current loss = 1.6521067868788\t\n"
      ]
     },
     "execution_count": 8,
     "metadata": {},
     "output_type": "execute_result"
    },
    {
     "data": {
      "text/plain": [
       "current loss = 1.6520648903673\t\n",
       "current loss = 1.652023006923\t\n",
       "current loss = 1.6519811365394\t\n",
       "current loss = 1.6519392792103\t\n"
      ]
     },
     "execution_count": 8,
     "metadata": {},
     "output_type": "execute_result"
    },
    {
     "data": {
      "text/plain": [
       "current loss = 1.6518974349294\t\n",
       "current loss = 1.6518556036904\t\n",
       "current loss = 1.651813785487\t\n",
       "current loss = 1.651771980313\t\n",
       "current loss = 1.6517301881619\t\n"
      ]
     },
     "execution_count": 8,
     "metadata": {},
     "output_type": "execute_result"
    },
    {
     "data": {
      "text/plain": [
       "current loss = 1.6516884090276\t\n",
       "current loss = 1.6516466429038\t\n",
       "current loss = 1.6516048897842\t\n",
       "current loss = 1.6515631496625\t\n"
      ]
     },
     "execution_count": 8,
     "metadata": {},
     "output_type": "execute_result"
    },
    {
     "data": {
      "text/plain": [
       "current loss = 1.6515214225324\t\n",
       "current loss = 1.6514797083878\t\n",
       "current loss = 1.6514380072224\t\n",
       "current loss = 1.6513963190299\t\n"
      ]
     },
     "execution_count": 8,
     "metadata": {},
     "output_type": "execute_result"
    },
    {
     "data": {
      "text/plain": [
       "current loss = 1.651354643804\t\n"
      ]
     },
     "execution_count": 8,
     "metadata": {},
     "output_type": "execute_result"
    },
    {
     "data": {
      "text/plain": [
       "current loss = 1.6513129815385\t\n",
       "current loss = 1.6512713322272\t\n",
       "current loss = 1.6512296958639\t\n",
       "current loss = 1.6511880724423\t\n"
      ]
     },
     "execution_count": 8,
     "metadata": {},
     "output_type": "execute_result"
    },
    {
     "data": {
      "text/plain": [
       "current loss = 1.6511464619561\t\n",
       "current loss = 1.6511048643993\t\n",
       "current loss = 1.6510632797654\t\n",
       "current loss = 1.6510217080484\t\n"
      ]
     },
     "execution_count": 8,
     "metadata": {},
     "output_type": "execute_result"
    },
    {
     "data": {
      "text/plain": [
       "current loss = 1.650980149242\t\n",
       "current loss = 1.6509386033401\t\n",
       "current loss = 1.6508970703363\t\n",
       "current loss = 1.6508555502246\t\n"
      ]
     },
     "execution_count": 8,
     "metadata": {},
     "output_type": "execute_result"
    },
    {
     "data": {
      "text/plain": [
       "current loss = 1.6508140429986\t\n",
       "current loss = 1.6507725486523\t\n",
       "current loss = 1.6507310671794\t\n",
       "current loss = 1.6506895985738\t\n",
       "current loss = 1.6506481428293\t\n"
      ]
     },
     "execution_count": 8,
     "metadata": {},
     "output_type": "execute_result"
    },
    {
     "data": {
      "text/plain": [
       "current loss = 1.6506066999397\t\n",
       "current loss = 1.6505652698988\t\n",
       "current loss = 1.6505238527004\t\n",
       "current loss = 1.6504824483385\t\n"
      ]
     },
     "execution_count": 8,
     "metadata": {},
     "output_type": "execute_result"
    },
    {
     "data": {
      "text/plain": [
       "current loss = 1.6504410568068\t\n",
       "current loss = 1.6503996780992\t\n",
       "current loss = 1.6503583122095\t\n",
       "current loss = 1.6503169591317\t\n"
      ]
     },
     "execution_count": 8,
     "metadata": {},
     "output_type": "execute_result"
    },
    {
     "data": {
      "text/plain": [
       "current loss = 1.6502756188594\t\n",
       "current loss = 1.6502342913867\t\n",
       "current loss = 1.6501929767074\t\n",
       "current loss = 1.6501516748153\t\n"
      ]
     },
     "execution_count": 8,
     "metadata": {},
     "output_type": "execute_result"
    },
    {
     "data": {
      "text/plain": [
       "current loss = 1.6501103857043\t\n",
       "current loss = 1.6500691093683\t\n",
       "current loss = 1.6500278458012\t\n",
       "current loss = 1.6499865949969\t\n"
      ]
     },
     "execution_count": 8,
     "metadata": {},
     "output_type": "execute_result"
    },
    {
     "data": {
      "text/plain": [
       "current loss = 1.6499453569492\t\n",
       "current loss = 1.649904131652\t\n",
       "current loss = 1.6498629190993\t\n",
       "current loss = 1.6498217192849\t\n"
      ]
     },
     "execution_count": 8,
     "metadata": {},
     "output_type": "execute_result"
    },
    {
     "data": {
      "text/plain": [
       "current loss = 1.6497805322028\t\n",
       "current loss = 1.6497393578468\t\n",
       "current loss = 1.6496981962109\t\n",
       "current loss = 1.649657047289\t\n",
       "current loss = 1.6496159110749\t\n"
      ]
     },
     "execution_count": 8,
     "metadata": {},
     "output_type": "execute_result"
    },
    {
     "data": {
      "text/plain": [
       "current loss = 1.6495747875627\t\n",
       "current loss = 1.6495336767462\t\n",
       "current loss = 1.6494925786195\t\n",
       "current loss = 1.6494514931763\t\n"
      ]
     },
     "execution_count": 8,
     "metadata": {},
     "output_type": "execute_result"
    },
    {
     "data": {
      "text/plain": [
       "current loss = 1.6494104204107\t\n",
       "current loss = 1.6493693603167\t\n",
       "current loss = 1.649328312888\t\n",
       "current loss = 1.6492872781188\t\n"
      ]
     },
     "execution_count": 8,
     "metadata": {},
     "output_type": "execute_result"
    },
    {
     "data": {
      "text/plain": [
       "current loss = 1.6492462560029\t\n",
       "current loss = 1.6492052465344\t\n",
       "current loss = 1.6491642497071\t\n",
       "current loss = 1.6491232655151\t\n"
      ]
     },
     "execution_count": 8,
     "metadata": {},
     "output_type": "execute_result"
    },
    {
     "data": {
      "text/plain": [
       "current loss = 1.6490822939523\t\n",
       "current loss = 1.6490413350127\t\n",
       "current loss = 1.6490003886902\t\n",
       "current loss = 1.648959454979\t\n"
      ]
     },
     "execution_count": 8,
     "metadata": {},
     "output_type": "execute_result"
    },
    {
     "data": {
      "text/plain": [
       "current loss = 1.6489185338728\t\n",
       "current loss = 1.6488776253658\t\n",
       "current loss = 1.6488367294519\t\n",
       "current loss = 1.6487958461252\t\n"
      ]
     },
     "execution_count": 8,
     "metadata": {},
     "output_type": "execute_result"
    },
    {
     "data": {
      "text/plain": [
       "current loss = 1.6487549753795\t\n",
       "current loss = 1.6487141172091\t\n",
       "current loss = 1.6486732716077\t\n",
       "current loss = 1.6486324385695\t\n"
      ]
     },
     "execution_count": 8,
     "metadata": {},
     "output_type": "execute_result"
    },
    {
     "data": {
      "text/plain": [
       "current loss = 1.6485916180885\t\n",
       "current loss = 1.6485508101586\t\n",
       "current loss = 1.648510014774\t\n",
       "current loss = 1.6484692319286\t\n",
       "current loss = 1.6484284616165\t\n"
      ]
     },
     "execution_count": 8,
     "metadata": {},
     "output_type": "execute_result"
    },
    {
     "data": {
      "text/plain": [
       "current loss = 1.6483877038318\t\n",
       "current loss = 1.6483469585683\t\n",
       "current loss = 1.6483062258203\t\n"
      ]
     },
     "execution_count": 8,
     "metadata": {},
     "output_type": "execute_result"
    },
    {
     "data": {
      "text/plain": [
       "current loss = 1.6482655055817\t\n"
      ]
     },
     "execution_count": 8,
     "metadata": {},
     "output_type": "execute_result"
    },
    {
     "data": {
      "text/plain": [
       "current loss = 1.6482247978467\t\n",
       "current loss = 1.6481841026091\t\n",
       "current loss = 1.6481434198632\t\n",
       "current loss = 1.648102749603\t\n"
      ]
     },
     "execution_count": 8,
     "metadata": {},
     "output_type": "execute_result"
    },
    {
     "data": {
      "text/plain": [
       "current loss = 1.6480620918225\t\n",
       "current loss = 1.6480214465158\t\n",
       "current loss = 1.647980813677\t\n",
       "current loss = 1.6479401933002\t\n"
      ]
     },
     "execution_count": 8,
     "metadata": {},
     "output_type": "execute_result"
    },
    {
     "data": {
      "text/plain": [
       "current loss = 1.6478995853794\t\n",
       "current loss = 1.6478589899088\t\n",
       "current loss = 1.6478184068824\t\n",
       "current loss = 1.6477778362943\t\n"
      ]
     },
     "execution_count": 8,
     "metadata": {},
     "output_type": "execute_result"
    },
    {
     "data": {
      "text/plain": [
       "current loss = 1.6477372781386\t\n",
       "current loss = 1.6476967324094\t\n",
       "current loss = 1.6476561991009\t\n",
       "current loss = 1.6476156782071\t\n",
       "current loss = 1.6475751697221\t\n"
      ]
     },
     "execution_count": 8,
     "metadata": {},
     "output_type": "execute_result"
    },
    {
     "data": {
      "text/plain": [
       "current loss = 1.6475346736401\t\n",
       "current loss = 1.6474941899551\t\n",
       "current loss = 1.6474537186614\t\n",
       "current loss = 1.647413259753\t\n"
      ]
     },
     "execution_count": 8,
     "metadata": {},
     "output_type": "execute_result"
    },
    {
     "data": {
      "text/plain": [
       "current loss = 1.647372813224\t\n",
       "current loss = 1.6473323790686\t\n",
       "current loss = 1.647291957281\t\n",
       "current loss = 1.6472515478552\t\n"
      ]
     },
     "execution_count": 8,
     "metadata": {},
     "output_type": "execute_result"
    },
    {
     "data": {
      "text/plain": [
       "current loss = 1.6472111507855\t\n",
       "current loss = 1.6471707660659\t\n",
       "current loss = 1.6471303936907\t\n",
       "current loss = 1.6470900336539\t\n",
       "current loss = 1.6470496859498\t\n"
      ]
     },
     "execution_count": 8,
     "metadata": {},
     "output_type": "execute_result"
    },
    {
     "data": {
      "text/plain": [
       "current loss = 1.6470093505724\t\n",
       "current loss = 1.6469690275161\t\n",
       "current loss = 1.6469287167749\t\n",
       "current loss = 1.646888418343\t\n"
      ]
     },
     "execution_count": 8,
     "metadata": {},
     "output_type": "execute_result"
    },
    {
     "data": {
      "text/plain": [
       "current loss = 1.6468481322146\t\n",
       "current loss = 1.6468078583839\t\n",
       "current loss = 1.6467675968451\t\n",
       "current loss = 1.6467273475923\t\n"
      ]
     },
     "execution_count": 8,
     "metadata": {},
     "output_type": "execute_result"
    },
    {
     "data": {
      "text/plain": [
       "current loss = 1.6466871106198\t\n",
       "current loss = 1.6466468859218\t\n",
       "current loss = 1.6466066734924\t\n",
       "current loss = 1.6465664733258\t\n"
      ]
     },
     "execution_count": 8,
     "metadata": {},
     "output_type": "execute_result"
    },
    {
     "data": {
      "text/plain": [
       "current loss = 1.6465262854164\t\n",
       "current loss = 1.6464861097582\t\n",
       "current loss = 1.6464459463455\t\n",
       "current loss = 1.6464057951725\t\n"
      ]
     },
     "execution_count": 8,
     "metadata": {},
     "output_type": "execute_result"
    },
    {
     "data": {
      "text/plain": [
       "current loss = 1.6463656562335\t\n",
       "current loss = 1.6463255295227\t\n",
       "current loss = 1.6462854150342\t\n",
       "current loss = 1.6462453127624\t\n"
      ]
     },
     "execution_count": 8,
     "metadata": {},
     "output_type": "execute_result"
    },
    {
     "data": {
      "text/plain": [
       "current loss = 1.6462052227015\t\n",
       "current loss = 1.6461651448456\t\n"
      ]
     },
     "execution_count": 8,
     "metadata": {},
     "output_type": "execute_result"
    },
    {
     "data": {
      "text/plain": [
       "current loss = 1.6461250791892\t\n",
       "current loss = 1.6460850257263\t\n"
      ]
     },
     "execution_count": 8,
     "metadata": {},
     "output_type": "execute_result"
    },
    {
     "data": {
      "text/plain": [
       "current loss = 1.6460449844514\t\n",
       "current loss = 1.6460049553585\t\n",
       "current loss = 1.645964938442\t\n",
       "current loss = 1.6459249336962\t\n"
      ]
     },
     "execution_count": 8,
     "metadata": {},
     "output_type": "execute_result"
    },
    {
     "data": {
      "text/plain": [
       "current loss = 1.6458849411153\t\n",
       "current loss = 1.6458449606935\t\n",
       "current loss = 1.6458049924253\t\n",
       "current loss = 1.6457650363047\t\n"
      ]
     },
     "execution_count": 8,
     "metadata": {},
     "output_type": "execute_result"
    },
    {
     "data": {
      "text/plain": [
       "current loss = 1.6457250923262\t\n",
       "current loss = 1.645685160484\t\n",
       "current loss = 1.6456452407724\t\n"
      ]
     },
     "execution_count": 8,
     "metadata": {},
     "output_type": "execute_result"
    },
    {
     "data": {
      "text/plain": [
       "current loss = 1.6456053331857\t\n",
       "current loss = 1.6455654377181\t\n",
       "current loss = 1.6455255543641\t\n"
      ]
     },
     "execution_count": 8,
     "metadata": {},
     "output_type": "execute_result"
    },
    {
     "data": {
      "text/plain": [
       "current loss = 1.6454856831178\t\n",
       "current loss = 1.6454458239737\t\n",
       "current loss = 1.6454059769259\t\n"
      ]
     },
     "execution_count": 8,
     "metadata": {},
     "output_type": "execute_result"
    },
    {
     "data": {
      "text/plain": [
       "current loss = 1.6453661419689\t\n",
       "current loss = 1.6453263190969\t\n",
       "current loss = 1.6452865083043\t\n",
       "current loss = 1.6452467095853\t\n"
      ]
     },
     "execution_count": 8,
     "metadata": {},
     "output_type": "execute_result"
    },
    {
     "data": {
      "text/plain": [
       "current loss = 1.6452069229344\t\n",
       "current loss = 1.6451671483459\t\n",
       "current loss = 1.645127385814\t\n"
      ]
     },
     "execution_count": 8,
     "metadata": {},
     "output_type": "execute_result"
    },
    {
     "data": {
      "text/plain": [
       "current loss = 1.6450876353331\t\n",
       "current loss = 1.6450478968977\t\n",
       "current loss = 1.6450081705019\t\n",
       "current loss = 1.6449684561402\t\n"
      ]
     },
     "execution_count": 8,
     "metadata": {},
     "output_type": "execute_result"
    },
    {
     "data": {
      "text/plain": [
       "current loss = 1.6449287538069\t\n",
       "current loss = 1.6448890634964\t\n",
       "current loss = 1.6448493852031\t\n"
      ]
     },
     "execution_count": 8,
     "metadata": {},
     "output_type": "execute_result"
    },
    {
     "data": {
      "text/plain": [
       "current loss = 1.6448097189213\t\n",
       "current loss = 1.6447700646453\t\n",
       "current loss = 1.6447304223696\t\n"
      ]
     },
     "execution_count": 8,
     "metadata": {},
     "output_type": "execute_result"
    },
    {
     "data": {
      "text/plain": [
       "current loss = 1.6446907920885\t\n",
       "current loss = 1.6446511737964\t\n",
       "current loss = 1.6446115674877\t\n"
      ]
     },
     "execution_count": 8,
     "metadata": {},
     "output_type": "execute_result"
    },
    {
     "data": {
      "text/plain": [
       "current loss = 1.6445719731567\t\n",
       "current loss = 1.6445323907979\t\n",
       "current loss = 1.6444928204057\t\n"
      ]
     },
     "execution_count": 8,
     "metadata": {},
     "output_type": "execute_result"
    },
    {
     "data": {
      "text/plain": [
       "current loss = 1.6444532619744\t\n",
       "current loss = 1.6444137154985\t\n",
       "current loss = 1.6443741809723\t\n",
       "current loss = 1.6443346583903\t\n"
      ]
     },
     "execution_count": 8,
     "metadata": {},
     "output_type": "execute_result"
    },
    {
     "data": {
      "text/plain": [
       "current loss = 1.6442951477469\t\n",
       "current loss = 1.6442556490364\t\n",
       "current loss = 1.6442161622534\t\n"
      ]
     },
     "execution_count": 8,
     "metadata": {},
     "output_type": "execute_result"
    },
    {
     "data": {
      "text/plain": [
       "current loss = 1.6441766873922\t\n",
       "current loss = 1.6441372244472\t\n",
       "current loss = 1.6440977734129\t\n",
       "current loss = 1.6440583342838\t\n"
      ]
     },
     "execution_count": 8,
     "metadata": {},
     "output_type": "execute_result"
    },
    {
     "data": {
      "text/plain": [
       "current loss = 1.6440189070541\t\n",
       "current loss = 1.6439794917185\t\n",
       "current loss = 1.6439400882713\t\n"
      ]
     },
     "execution_count": 8,
     "metadata": {},
     "output_type": "execute_result"
    },
    {
     "data": {
      "text/plain": [
       "current loss = 1.643900696707\t\n",
       "current loss = 1.64386131702\t\n",
       "current loss = 1.6438219492047\t\n"
      ]
     },
     "execution_count": 8,
     "metadata": {},
     "output_type": "execute_result"
    },
    {
     "data": {
      "text/plain": [
       "current loss = 1.6437825932557\t\n",
       "current loss = 1.6437432491675\t\n",
       "current loss = 1.6437039169343\t\n",
       "current loss = 1.6436645965508\t\n"
      ]
     },
     "execution_count": 8,
     "metadata": {},
     "output_type": "execute_result"
    },
    {
     "data": {
      "text/plain": [
       "current loss = 1.6436252880114\t\n",
       "current loss = 1.6435859913106\t\n",
       "current loss = 1.6435467064428\t\n"
      ]
     },
     "execution_count": 8,
     "metadata": {},
     "output_type": "execute_result"
    },
    {
     "data": {
      "text/plain": [
       "current loss = 1.6435074334025\t\n",
       "current loss = 1.6434681721842\t\n",
       "current loss = 1.6434289227825\t\n",
       "current loss = 1.6433896851917\t\n"
      ]
     },
     "execution_count": 8,
     "metadata": {},
     "output_type": "execute_result"
    },
    {
     "data": {
      "text/plain": [
       "current loss = 1.6433504594065\t\n",
       "current loss = 1.6433112454212\t\n",
       "current loss = 1.6432720432304\t\n"
      ]
     },
     "execution_count": 8,
     "metadata": {},
     "output_type": "execute_result"
    },
    {
     "data": {
      "text/plain": [
       "current loss = 1.6432328528286\t\n",
       "current loss = 1.6431936742103\t\n",
       "current loss = 1.64315450737\t\n"
      ]
     },
     "execution_count": 8,
     "metadata": {},
     "output_type": "execute_result"
    },
    {
     "data": {
      "text/plain": [
       "current loss = 1.6431153523022\t\n",
       "current loss = 1.6430762090015\t\n",
       "current loss = 1.6430370774623\t\n",
       "current loss = 1.6429979576793\t\n"
      ]
     },
     "execution_count": 8,
     "metadata": {},
     "output_type": "execute_result"
    },
    {
     "data": {
      "text/plain": [
       "current loss = 1.6429588496469\t\n",
       "current loss = 1.6429197533596\t\n",
       "current loss = 1.642880668812\t\n"
      ]
     },
     "execution_count": 8,
     "metadata": {},
     "output_type": "execute_result"
    },
    {
     "data": {
      "text/plain": [
       "current loss = 1.6428415959987\t\n",
       "current loss = 1.6428025349141\t\n",
       "current loss = 1.6427634855529\t\n",
       "current loss = 1.6427244479095\t\n"
      ]
     },
     "execution_count": 8,
     "metadata": {},
     "output_type": "execute_result"
    },
    {
     "data": {
      "text/plain": [
       "current loss = 1.6426854219786\t\n",
       "current loss = 1.6426464077546\t\n",
       "current loss = 1.6426074052322\t\n",
       "current loss = 1.6425684144059\t\n"
      ]
     },
     "execution_count": 8,
     "metadata": {},
     "output_type": "execute_result"
    },
    {
     "data": {
      "text/plain": [
       "current loss = 1.6425294352702\t\n",
       "current loss = 1.6424904678198\t\n",
       "current loss = 1.6424515120493\t\n"
      ]
     },
     "execution_count": 8,
     "metadata": {},
     "output_type": "execute_result"
    },
    {
     "data": {
      "text/plain": [
       "current loss = 1.6424125679531\t\n",
       "current loss = 1.6423736355259\t\n",
       "current loss = 1.6423347147622\t\n"
      ]
     },
     "execution_count": 8,
     "metadata": {},
     "output_type": "execute_result"
    },
    {
     "data": {
      "text/plain": [
       "current loss = 1.6422958056567\t\n",
       "current loss = 1.6422569082039\t\n",
       "current loss = 1.6422180223985\t\n",
       "current loss = 1.642179148235\t\n"
      ]
     },
     "execution_count": 8,
     "metadata": {},
     "output_type": "execute_result"
    },
    {
     "data": {
      "text/plain": [
       "current loss = 1.642140285708\t\n",
       "current loss = 1.6421014348122\t\n",
       "current loss = 1.6420625955421\t\n"
      ]
     },
     "execution_count": 8,
     "metadata": {},
     "output_type": "execute_result"
    },
    {
     "data": {
      "text/plain": [
       "current loss = 1.6420237678923\t\n",
       "current loss = 1.6419849518575\t\n"
      ]
     },
     "execution_count": 8,
     "metadata": {},
     "output_type": "execute_result"
    },
    {
     "data": {
      "text/plain": [
       "current loss = 1.6419461474323\t\n"
      ]
     },
     "execution_count": 8,
     "metadata": {},
     "output_type": "execute_result"
    },
    {
     "data": {
      "text/plain": [
       "current loss = 1.6419073546113\t\n"
      ]
     },
     "execution_count": 8,
     "metadata": {},
     "output_type": "execute_result"
    },
    {
     "data": {
      "text/plain": [
       "current loss = 1.6418685733891\t\n"
      ]
     },
     "execution_count": 8,
     "metadata": {},
     "output_type": "execute_result"
    },
    {
     "data": {
      "text/plain": [
       "current loss = 1.6418298037604\t\n"
      ]
     },
     "execution_count": 8,
     "metadata": {},
     "output_type": "execute_result"
    },
    {
     "data": {
      "text/plain": [
       "current loss = 1.6417910457198\t\n",
       "current loss = 1.6417522992618\t\n",
       "current loss = 1.6417135643813\t\n"
      ]
     },
     "execution_count": 8,
     "metadata": {},
     "output_type": "execute_result"
    },
    {
     "data": {
      "text/plain": [
       "current loss = 1.6416748410727\t\n",
       "current loss = 1.6416361293308\t\n",
       "current loss = 1.6415974291502\t\n",
       "current loss = 1.6415587405255\t\n"
      ]
     },
     "execution_count": 8,
     "metadata": {},
     "output_type": "execute_result"
    },
    {
     "data": {
      "text/plain": [
       "current loss = 1.6415200634515\t\n",
       "current loss = 1.6414813979227\t\n",
       "current loss = 1.6414427439338\t\n",
       "current loss = 1.6414041014794\t\n"
      ]
     },
     "execution_count": 8,
     "metadata": {},
     "output_type": "execute_result"
    },
    {
     "data": {
      "text/plain": [
       "current loss = 1.6413654705544\t\n",
       "current loss = 1.6413268511532\t\n",
       "current loss = 1.6412882432707\t\n"
      ]
     },
     "execution_count": 8,
     "metadata": {},
     "output_type": "execute_result"
    },
    {
     "data": {
      "text/plain": [
       "current loss = 1.6412496469014\t\n",
       "current loss = 1.6412110620401\t\n",
       "current loss = 1.6411724886814\t\n",
       "current loss = 1.64113392682\t\n"
      ]
     },
     "execution_count": 8,
     "metadata": {},
     "output_type": "execute_result"
    },
    {
     "data": {
      "text/plain": [
       "current loss = 1.6410953764507\t\n",
       "current loss = 1.6410568375681\t\n",
       "current loss = 1.6410183101669\t\n"
      ]
     },
     "execution_count": 8,
     "metadata": {},
     "output_type": "execute_result"
    },
    {
     "data": {
      "text/plain": [
       "current loss = 1.6409797942418\t\n",
       "current loss = 1.6409412897875\t\n",
       "current loss = 1.6409027967987\t\n",
       "current loss = 1.6408643152702\t\n"
      ]
     },
     "execution_count": 8,
     "metadata": {},
     "output_type": "execute_result"
    },
    {
     "data": {
      "text/plain": [
       "current loss = 1.6408258451966\t\n",
       "current loss = 1.6407873865726\t\n",
       "current loss = 1.6407489393931\t\n",
       "current loss = 1.6407105036527\t\n",
       "current loss = 1.6406720793461\t\n"
      ]
     },
     "execution_count": 8,
     "metadata": {},
     "output_type": "execute_result"
    },
    {
     "data": {
      "text/plain": [
       "current loss = 1.640633666468\t\n",
       "current loss = 1.6405952650133\t\n",
       "current loss = 1.6405568749766\t\n",
       "current loss = 1.6405184963527\t\n"
      ]
     },
     "execution_count": 8,
     "metadata": {},
     "output_type": "execute_result"
    },
    {
     "data": {
      "text/plain": [
       "current loss = 1.6404801291363\t\n",
       "current loss = 1.6404417733222\t\n",
       "current loss = 1.6404034289051\t\n",
       "current loss = 1.6403650958798\t\n",
       "current loss = 1.640326774241\t\n"
      ]
     },
     "execution_count": 8,
     "metadata": {},
     "output_type": "execute_result"
    },
    {
     "data": {
      "text/plain": [
       "current loss = 1.6402884639834\t\n",
       "current loss = 1.640250165102\t\n",
       "current loss = 1.6402118775914\t\n",
       "current loss = 1.6401736014463\t\n"
      ]
     },
     "execution_count": 8,
     "metadata": {},
     "output_type": "execute_result"
    },
    {
     "data": {
      "text/plain": [
       "current loss = 1.6401353366616\t\n",
       "current loss = 1.6400970832321\t\n",
       "current loss = 1.6400588411524\t\n",
       "current loss = 1.6400206104175\t\n",
       "current loss = 1.639982391022\t\n"
      ]
     },
     "execution_count": 8,
     "metadata": {},
     "output_type": "execute_result"
    },
    {
     "data": {
      "text/plain": [
       "current loss = 1.6399441829608\t\n",
       "current loss = 1.6399059862287\t\n",
       "current loss = 1.6398678008205\t\n",
       "current loss = 1.6398296267309\t\n"
      ]
     },
     "execution_count": 8,
     "metadata": {},
     "output_type": "execute_result"
    },
    {
     "data": {
      "text/plain": [
       "current loss = 1.6397914639548\t\n",
       "current loss = 1.6397533124869\t\n",
       "current loss = 1.6397151723221\t\n",
       "current loss = 1.6396770434552\t\n",
       "current loss = 1.639638925881\t\n"
      ]
     },
     "execution_count": 8,
     "metadata": {},
     "output_type": "execute_result"
    },
    {
     "data": {
      "text/plain": [
       "current loss = 1.6396008195944\t\n",
       "current loss = 1.63956272459\t\n",
       "current loss = 1.6395246408629\t\n",
       "current loss = 1.6394865684077\t\n"
      ]
     },
     "execution_count": 8,
     "metadata": {},
     "output_type": "execute_result"
    },
    {
     "data": {
      "text/plain": [
       "current loss = 1.6394485072194\t\n",
       "current loss = 1.6394104572927\t\n",
       "current loss = 1.6393724186225\t\n",
       "current loss = 1.6393343912037\t\n"
      ]
     },
     "execution_count": 8,
     "metadata": {},
     "output_type": "execute_result"
    },
    {
     "data": {
      "text/plain": [
       "current loss = 1.639296375031\t\n",
       "current loss = 1.6392583700994\t\n",
       "current loss = 1.6392203764036\t\n",
       "current loss = 1.6391823939386\t\n",
       "current loss = 1.6391444226991\t\n"
      ]
     },
     "execution_count": 8,
     "metadata": {},
     "output_type": "execute_result"
    },
    {
     "data": {
      "text/plain": [
       "current loss = 1.6391064626802\t\n",
       "current loss = 1.6390685138765\t\n",
       "current loss = 1.639030576283\t\n",
       "current loss = 1.6389926498945\t\n"
      ]
     },
     "execution_count": 8,
     "metadata": {},
     "output_type": "execute_result"
    },
    {
     "data": {
      "text/plain": [
       "current loss = 1.638954734706\t\n",
       "current loss = 1.6389168307122\t\n",
       "current loss = 1.6388789379081\t\n",
       "current loss = 1.6388410562886\t\n",
       "current loss = 1.6388031858485\t\n"
      ]
     },
     "execution_count": 8,
     "metadata": {},
     "output_type": "execute_result"
    },
    {
     "data": {
      "text/plain": [
       "current loss = 1.6387653265828\t\n",
       "current loss = 1.6387274784862\t\n",
       "current loss = 1.6386896415538\t\n",
       "current loss = 1.6386518157804\t\n"
      ]
     },
     "execution_count": 8,
     "metadata": {},
     "output_type": "execute_result"
    },
    {
     "data": {
      "text/plain": [
       "current loss = 1.6386140011609\t\n",
       "current loss = 1.6385761976902\t\n",
       "current loss = 1.6385384053632\t\n",
       "current loss = 1.6385006241748\t\n"
      ]
     },
     "execution_count": 8,
     "metadata": {},
     "output_type": "execute_result"
    },
    {
     "data": {
      "text/plain": [
       "current loss = 1.63846285412\t\n",
       "current loss = 1.6384250951937\t\n",
       "current loss = 1.6383873473907\t\n",
       "current loss = 1.6383496107061\t\n",
       "current loss = 1.6383118851346\t\n"
      ]
     },
     "execution_count": 8,
     "metadata": {},
     "output_type": "execute_result"
    },
    {
     "data": {
      "text/plain": [
       "current loss = 1.6382741706714\t\n",
       "current loss = 1.6382364673112\t\n",
       "current loss = 1.638198775049\t\n",
       "current loss = 1.6381610938798\t\n",
       "current loss = 1.6381234237985\t\n"
      ]
     },
     "execution_count": 8,
     "metadata": {},
     "output_type": "execute_result"
    },
    {
     "data": {
      "text/plain": [
       "current loss = 1.6380857648001\t\n",
       "current loss = 1.6380481168794\t\n",
       "current loss = 1.6380104800316\t\n",
       "current loss = 1.6379728542513\t\n"
      ]
     },
     "execution_count": 8,
     "metadata": {},
     "output_type": "execute_result"
    },
    {
     "data": {
      "text/plain": [
       "current loss = 1.6379352395338\t\n",
       "current loss = 1.6378976358739\t\n",
       "current loss = 1.6378600432665\t\n",
       "current loss = 1.6378224617067\t\n"
      ]
     },
     "execution_count": 8,
     "metadata": {},
     "output_type": "execute_result"
    },
    {
     "data": {
      "text/plain": [
       "current loss = 1.6377848911895\t\n",
       "current loss = 1.6377473317097\t\n",
       "current loss = 1.6377097832623\t\n",
       "current loss = 1.6376722458425\t\n"
      ]
     },
     "execution_count": 8,
     "metadata": {},
     "output_type": "execute_result"
    },
    {
     "data": {
      "text/plain": [
       "current loss = 1.637634719445\t\n",
       "current loss = 1.6375972040649\t\n",
       "current loss = 1.6375596996973\t\n",
       "current loss = 1.637522206337\t\n",
       "current loss = 1.6374847239791\t\n"
      ]
     },
     "execution_count": 8,
     "metadata": {},
     "output_type": "execute_result"
    },
    {
     "data": {
      "text/plain": [
       "current loss = 1.6374472526186\t\n",
       "current loss = 1.6374097922505\t\n",
       "current loss = 1.6373723428698\t\n",
       "current loss = 1.6373349044714\t\n"
      ]
     },
     "execution_count": 8,
     "metadata": {},
     "output_type": "execute_result"
    },
    {
     "data": {
      "text/plain": [
       "current loss = 1.6372974770504\t\n",
       "current loss = 1.6372600606019\t\n",
       "current loss = 1.6372226551208\t\n",
       "current loss = 1.6371852606021\t\n"
      ]
     },
     "execution_count": 8,
     "metadata": {},
     "output_type": "execute_result"
    },
    {
     "data": {
      "text/plain": [
       "current loss = 1.6371478770409\t\n",
       "current loss = 1.6371105044321\t\n",
       "current loss = 1.6370731427709\t\n",
       "current loss = 1.6370357920523\t\n"
      ]
     },
     "execution_count": 8,
     "metadata": {},
     "output_type": "execute_result"
    },
    {
     "data": {
      "text/plain": [
       "current loss = 1.6369984522712\t\n",
       "current loss = 1.6369611234227\t\n",
       "current loss = 1.6369238055019\t\n",
       "current loss = 1.6368864985038\t\n",
       "current loss = 1.6368492024235\t\n"
      ]
     },
     "execution_count": 8,
     "metadata": {},
     "output_type": "execute_result"
    },
    {
     "data": {
      "text/plain": [
       "current loss = 1.6368119172559\t\n",
       "current loss = 1.6367746429962\t\n",
       "current loss = 1.6367373796394\t\n",
       "current loss = 1.6367001271805\t\n"
      ]
     },
     "execution_count": 8,
     "metadata": {},
     "output_type": "execute_result"
    },
    {
     "data": {
      "text/plain": [
       "current loss = 1.6366628856147\t\n",
       "current loss = 1.636625654937\t\n",
       "current loss = 1.6365884351424\t\n",
       "current loss = 1.636551226226\t\n"
      ]
     },
     "execution_count": 8,
     "metadata": {},
     "output_type": "execute_result"
    },
    {
     "data": {
      "text/plain": [
       "current loss = 1.636514028183\t\n",
       "current loss = 1.6364768410083\t\n",
       "current loss = 1.636439664697\t\n",
       "current loss = 1.6364024992443\t\n"
      ]
     },
     "execution_count": 8,
     "metadata": {},
     "output_type": "execute_result"
    },
    {
     "data": {
      "text/plain": [
       "current loss = 1.6363653446452\t\n",
       "current loss = 1.6363282008948\t\n",
       "current loss = 1.6362910679882\t\n",
       "current loss = 1.6362539459205\t\n"
      ]
     },
     "execution_count": 8,
     "metadata": {},
     "output_type": "execute_result"
    },
    {
     "data": {
      "text/plain": [
       "current loss = 1.6362168346868\t\n",
       "current loss = 1.6361797342822\t\n",
       "current loss = 1.6361426447018\t\n",
       "current loss = 1.6361055659406\t\n",
       "current loss = 1.6360684979939\t\n"
      ]
     },
     "execution_count": 8,
     "metadata": {},
     "output_type": "execute_result"
    },
    {
     "data": {
      "text/plain": [
       "current loss = 1.6360314408567\t\n",
       "current loss = 1.6359943945241\t\n",
       "current loss = 1.6359573589913\t\n",
       "current loss = 1.6359203342534\t\n"
      ]
     },
     "execution_count": 8,
     "metadata": {},
     "output_type": "execute_result"
    },
    {
     "data": {
      "text/plain": [
       "current loss = 1.6358833203054\t\n",
       "current loss = 1.6358463171426\t\n",
       "current loss = 1.63580932476\t\n",
       "current loss = 1.6357723431529\t\n"
      ]
     },
     "execution_count": 8,
     "metadata": {},
     "output_type": "execute_result"
    },
    {
     "data": {
      "text/plain": [
       "current loss = 1.6357353723162\t\n",
       "current loss = 1.6356984122452\t\n",
       "current loss = 1.635661462935\t\n"
      ]
     },
     "execution_count": 8,
     "metadata": {},
     "output_type": "execute_result"
    },
    {
     "data": {
      "text/plain": [
       "current loss = 1.6356245243807\t\n",
       "current loss = 1.6355875965776\t\n",
       "current loss = 1.6355506795207\t\n",
       "current loss = 1.6355137732052\t\n"
      ]
     },
     "execution_count": 8,
     "metadata": {},
     "output_type": "execute_result"
    },
    {
     "data": {
      "text/plain": [
       "current loss = 1.6354768776262\t\n",
       "current loss = 1.635439992779\t\n",
       "current loss = 1.6354031186586\t\n",
       "current loss = 1.6353662552603\t\n",
       "current loss = 1.6353294025792\t\n"
      ]
     },
     "execution_count": 8,
     "metadata": {},
     "output_type": "execute_result"
    },
    {
     "data": {
      "text/plain": [
       "current loss = 1.6352925606105\t\n",
       "current loss = 1.6352557293493\t\n",
       "current loss = 1.6352189087909\t\n",
       "current loss = 1.6351820989304\t\n"
      ]
     },
     "execution_count": 8,
     "metadata": {},
     "output_type": "execute_result"
    },
    {
     "data": {
      "text/plain": [
       "current loss = 1.635145299763\t\n",
       "current loss = 1.6351085112839\t\n",
       "current loss = 1.6350717334882\t\n",
       "current loss = 1.6350349663712\t\n"
      ]
     },
     "execution_count": 8,
     "metadata": {},
     "output_type": "execute_result"
    },
    {
     "data": {
      "text/plain": [
       "current loss = 1.6349982099281\t\n",
       "current loss = 1.634961464154\t\n",
       "current loss = 1.6349247290442\t\n",
       "current loss = 1.6348880045938\t\n",
       "current loss = 1.6348512907981\t\n"
      ]
     },
     "execution_count": 8,
     "metadata": {},
     "output_type": "execute_result"
    },
    {
     "data": {
      "text/plain": [
       "current loss = 1.6348145876523\t\n",
       "current loss = 1.6347778951516\t\n",
       "current loss = 1.6347412132911\t\n",
       "current loss = 1.6347045420662\t\n"
      ]
     },
     "execution_count": 8,
     "metadata": {},
     "output_type": "execute_result"
    },
    {
     "data": {
      "text/plain": [
       "current loss = 1.6346678814721\t\n",
       "current loss = 1.6346312315039\t\n",
       "current loss = 1.6345945921569\t\n"
      ]
     },
     "execution_count": 8,
     "metadata": {},
     "output_type": "execute_result"
    },
    {
     "data": {
      "text/plain": [
       "current loss = 1.6345579634263\t\n",
       "current loss = 1.6345213453074\t\n",
       "current loss = 1.6344847377953\t\n",
       "current loss = 1.6344481408854\t\n"
      ]
     },
     "execution_count": 8,
     "metadata": {},
     "output_type": "execute_result"
    },
    {
     "data": {
      "text/plain": [
       "current loss = 1.6344115545729\t\n",
       "current loss = 1.6343749788529\t\n",
       "current loss = 1.6343384137209\t\n"
      ]
     },
     "execution_count": 8,
     "metadata": {},
     "output_type": "execute_result"
    },
    {
     "data": {
      "text/plain": [
       "current loss = 1.6343018591719\t\n",
       "current loss = 1.6342653152013\t\n",
       "current loss = 1.6342287818043\t\n",
       "current loss = 1.6341922589762\t\n"
      ]
     },
     "execution_count": 8,
     "metadata": {},
     "output_type": "execute_result"
    },
    {
     "data": {
      "text/plain": [
       "current loss = 1.6341557467123\t\n",
       "current loss = 1.6341192450077\t\n",
       "current loss = 1.6340827538578\t\n"
      ]
     },
     "execution_count": 8,
     "metadata": {},
     "output_type": "execute_result"
    },
    {
     "data": {
      "text/plain": [
       "current loss = 1.6340462732579\t\n",
       "current loss = 1.6340098032031\t\n"
      ]
     },
     "execution_count": 8,
     "metadata": {},
     "output_type": "execute_result"
    },
    {
     "data": {
      "text/plain": [
       "current loss = 1.6339733436889\t\n",
       "current loss = 1.6339368947104\t\n",
       "current loss = 1.6339004562629\t\n"
      ]
     },
     "execution_count": 8,
     "metadata": {},
     "output_type": "execute_result"
    },
    {
     "data": {
      "text/plain": [
       "current loss = 1.6338640283418\t\n",
       "current loss = 1.6338276109423\t\n",
       "current loss = 1.6337912040597\t\n",
       "current loss = 1.6337548076894\t\n"
      ]
     },
     "execution_count": 8,
     "metadata": {},
     "output_type": "execute_result"
    },
    {
     "data": {
      "text/plain": [
       "current loss = 1.6337184218265\t\n",
       "current loss = 1.6336820464664\t\n",
       "current loss = 1.6336456816044\t\n"
      ]
     },
     "execution_count": 8,
     "metadata": {},
     "output_type": "execute_result"
    },
    {
     "data": {
      "text/plain": [
       "current loss = 1.6336093272358\t\n",
       "current loss = 1.6335729833559\t\n",
       "current loss = 1.63353664996\t\n",
       "current loss = 1.6335003270435\t\n"
      ]
     },
     "execution_count": 8,
     "metadata": {},
     "output_type": "execute_result"
    },
    {
     "data": {
      "text/plain": [
       "current loss = 1.6334640146016\t\n",
       "current loss = 1.6334277126296\t\n"
      ]
     },
     "execution_count": 8,
     "metadata": {},
     "output_type": "execute_result"
    },
    {
     "data": {
      "text/plain": [
       "current loss = 1.633391421123\t\n",
       "current loss = 1.6333551400769\t\n",
       "current loss = 1.6333188694868\t\n"
      ]
     },
     "execution_count": 8,
     "metadata": {},
     "output_type": "execute_result"
    },
    {
     "data": {
      "text/plain": [
       "current loss = 1.633282609348\t\n",
       "current loss = 1.6332463596557\t\n",
       "current loss = 1.6332101204054\t\n",
       "current loss = 1.6331738915923\t\n"
      ]
     },
     "execution_count": 8,
     "metadata": {},
     "output_type": "execute_result"
    },
    {
     "data": {
      "text/plain": [
       "current loss = 1.6331376732119\t\n",
       "current loss = 1.6331014652594\t\n",
       "current loss = 1.6330652677302\t\n"
      ]
     },
     "execution_count": 8,
     "metadata": {},
     "output_type": "execute_result"
    },
    {
     "data": {
      "text/plain": [
       "current loss = 1.6330290806197\t\n",
       "current loss = 1.6329929039232\t\n",
       "current loss = 1.632956737636\t\n",
       "current loss = 1.6329205817535\t\n"
      ]
     },
     "execution_count": 8,
     "metadata": {},
     "output_type": "execute_result"
    },
    {
     "data": {
      "text/plain": [
       "current loss = 1.6328844362711\t\n",
       "current loss = 1.6328483011842\t\n",
       "current loss = 1.632812176488\t\n"
      ]
     },
     "execution_count": 8,
     "metadata": {},
     "output_type": "execute_result"
    },
    {
     "data": {
      "text/plain": [
       "current loss = 1.632776062178\t\n",
       "current loss = 1.6327399582496\t\n",
       "current loss = 1.6327038646981\t\n"
      ]
     },
     "execution_count": 8,
     "metadata": {},
     "output_type": "execute_result"
    },
    {
     "data": {
      "text/plain": [
       "current loss = 1.6326677815189\t\n",
       "current loss = 1.6326317087073\t\n",
       "current loss = 1.6325956462588\t\n",
       "current loss = 1.6325595941688\t\n"
      ]
     },
     "execution_count": 8,
     "metadata": {},
     "output_type": "execute_result"
    },
    {
     "data": {
      "text/plain": [
       "current loss = 1.6325235524326\t\n",
       "current loss = 1.6324875210456\t\n",
       "current loss = 1.6324515000032\t\n"
      ]
     },
     "execution_count": 8,
     "metadata": {},
     "output_type": "execute_result"
    },
    {
     "data": {
      "text/plain": [
       "current loss = 1.6324154893008\t\n",
       "current loss = 1.6323794889339\t\n",
       "current loss = 1.6323434988977\t\n"
      ]
     },
     "execution_count": 8,
     "metadata": {},
     "output_type": "execute_result"
    },
    {
     "data": {
      "text/plain": [
       "current loss = 1.6323075191878\t\n",
       "current loss = 1.6322715497995\t\n",
       "current loss = 1.6322355907283\t\n",
       "current loss = 1.6321996419695\t\n"
      ]
     },
     "execution_count": 8,
     "metadata": {},
     "output_type": "execute_result"
    },
    {
     "data": {
      "text/plain": [
       "current loss = 1.6321637035185\t\n",
       "current loss = 1.6321277753709\t\n",
       "current loss = 1.6320918575219\t\n"
      ]
     },
     "execution_count": 8,
     "metadata": {},
     "output_type": "execute_result"
    },
    {
     "data": {
      "text/plain": [
       "current loss = 1.6320559499671\t\n",
       "current loss = 1.6320200527019\t\n",
       "current loss = 1.6319841657216\t\n"
      ]
     },
     "execution_count": 8,
     "metadata": {},
     "output_type": "execute_result"
    },
    {
     "data": {
      "text/plain": [
       "current loss = 1.6319482890217\t\n",
       "current loss = 1.6319124225977\t\n",
       "current loss = 1.631876566445\t\n"
      ]
     },
     "execution_count": 8,
     "metadata": {},
     "output_type": "execute_result"
    },
    {
     "data": {
      "text/plain": [
       "current loss = 1.6318407205591\t\n",
       "current loss = 1.6318048849353\t\n",
       "current loss = 1.6317690595691\t\n",
       "current loss = 1.631733244456\t\n"
      ]
     },
     "execution_count": 8,
     "metadata": {},
     "output_type": "execute_result"
    },
    {
     "data": {
      "text/plain": [
       "current loss = 1.6316974395914\t\n",
       "current loss = 1.6316616449708\t\n",
       "current loss = 1.6316258605896\t\n"
      ]
     },
     "execution_count": 8,
     "metadata": {},
     "output_type": "execute_result"
    },
    {
     "data": {
      "text/plain": [
       "current loss = 1.6315900864433\t\n",
       "current loss = 1.6315543225274\t\n",
       "current loss = 1.6315185688373\t\n",
       "current loss = 1.6314828253685\t\n"
      ]
     },
     "execution_count": 8,
     "metadata": {},
     "output_type": "execute_result"
    },
    {
     "data": {
      "text/plain": [
       "current loss = 1.6314470921164\t\n",
       "current loss = 1.6314113690766\t\n",
       "current loss = 1.6313756562445\t\n"
      ]
     },
     "execution_count": 8,
     "metadata": {},
     "output_type": "execute_result"
    },
    {
     "data": {
      "text/plain": [
       "current loss = 1.6313399536155\t\n",
       "current loss = 1.6313042611852\t\n",
       "current loss = 1.6312685789491\t\n"
      ]
     },
     "execution_count": 8,
     "metadata": {},
     "output_type": "execute_result"
    },
    {
     "data": {
      "text/plain": [
       "current loss = 1.6312329069027\t\n",
       "current loss = 1.6311972450413\t\n",
       "current loss = 1.6311615933606\t\n"
      ]
     },
     "execution_count": 8,
     "metadata": {},
     "output_type": "execute_result"
    },
    {
     "data": {
      "text/plain": [
       "current loss = 1.631125951856\t\n",
       "current loss = 1.631090320523\t\n",
       "current loss = 1.6310546993571\t\n"
      ]
     },
     "execution_count": 8,
     "metadata": {},
     "output_type": "execute_result"
    },
    {
     "data": {
      "text/plain": [
       "current loss = 1.6310190883538\t\n",
       "current loss = 1.6309834875087\t\n"
      ]
     },
     "execution_count": 8,
     "metadata": {},
     "output_type": "execute_result"
    },
    {
     "data": {
      "text/plain": [
       "current loss = 1.6309478968172\t\n"
      ]
     },
     "execution_count": 8,
     "metadata": {},
     "output_type": "execute_result"
    },
    {
     "data": {
      "text/plain": [
       "current loss = 1.6309123162748\t\n",
       "current loss = 1.6308767458771\t\n",
       "current loss = 1.6308411856195\t\n"
      ]
     },
     "execution_count": 8,
     "metadata": {},
     "output_type": "execute_result"
    },
    {
     "data": {
      "text/plain": [
       "current loss = 1.6308056354977\t\n",
       "current loss = 1.630770095507\t\n",
       "current loss = 1.6307345656431\t\n"
      ]
     },
     "execution_count": 8,
     "metadata": {},
     "output_type": "execute_result"
    },
    {
     "data": {
      "text/plain": [
       "current loss = 1.6306990459014\t\n",
       "current loss = 1.6306635362776\t\n"
      ]
     },
     "execution_count": 8,
     "metadata": {},
     "output_type": "execute_result"
    },
    {
     "data": {
      "text/plain": [
       "current loss = 1.630628036767\t\n",
       "current loss = 1.6305925473654\t\n",
       "current loss = 1.6305570680681\t\n"
      ]
     },
     "execution_count": 8,
     "metadata": {},
     "output_type": "execute_result"
    },
    {
     "data": {
      "text/plain": [
       "current loss = 1.6305215988708\t\n",
       "current loss = 1.6304861397689\t\n",
       "current loss = 1.6304506907581\t\n"
      ]
     },
     "execution_count": 8,
     "metadata": {},
     "output_type": "execute_result"
    },
    {
     "data": {
      "text/plain": [
       "current loss = 1.6304152518338\t\n",
       "current loss = 1.6303798229917\t\n",
       "current loss = 1.6303444042273\t\n"
      ]
     },
     "execution_count": 8,
     "metadata": {},
     "output_type": "execute_result"
    },
    {
     "data": {
      "text/plain": [
       "current loss = 1.630308995536\t\n",
       "current loss = 1.6302735969136\t\n",
       "current loss = 1.6302382083556\t\n",
       "current loss = 1.6302028298574\t\n"
      ]
     },
     "execution_count": 8,
     "metadata": {},
     "output_type": "execute_result"
    },
    {
     "data": {
      "text/plain": [
       "current loss = 1.6301674614148\t\n",
       "current loss = 1.6301321030232\t\n",
       "current loss = 1.6300967546782\t\n"
      ]
     },
     "execution_count": 8,
     "metadata": {},
     "output_type": "execute_result"
    },
    {
     "data": {
      "text/plain": [
       "current loss = 1.6300614163755\t\n",
       "current loss = 1.6300260881105\t\n",
       "current loss = 1.6299907698789\t\n",
       "current loss = 1.6299554616762\t\n"
      ]
     },
     "execution_count": 8,
     "metadata": {},
     "output_type": "execute_result"
    },
    {
     "data": {
      "text/plain": [
       "current loss = 1.6299201634981\t\n",
       "current loss = 1.62988487534\t\n",
       "current loss = 1.6298495971977\t\n",
       "current loss = 1.6298143290667\t\n"
      ]
     },
     "execution_count": 8,
     "metadata": {},
     "output_type": "execute_result"
    },
    {
     "data": {
      "text/plain": [
       "current loss = 1.6297790709426\t\n",
       "current loss = 1.629743822821\t\n",
       "current loss = 1.6297085846974\t\n",
       "current loss = 1.6296733565676\t\n"
      ]
     },
     "execution_count": 8,
     "metadata": {},
     "output_type": "execute_result"
    },
    {
     "data": {
      "text/plain": [
       "current loss = 1.6296381384271\t\n",
       "current loss = 1.6296029302715\t\n",
       "current loss = 1.6295677320964\t\n",
       "current loss = 1.6295325438975\t\n"
      ]
     },
     "execution_count": 8,
     "metadata": {},
     "output_type": "execute_result"
    },
    {
     "data": {
      "text/plain": [
       "current loss = 1.6294973656703\t\n",
       "current loss = 1.6294621974105\t\n",
       "current loss = 1.6294270391137\t\n",
       "current loss = 1.6293918907755\t\n"
      ]
     },
     "execution_count": 8,
     "metadata": {},
     "output_type": "execute_result"
    },
    {
     "data": {
      "text/plain": [
       "current loss = 1.6293567523916\t\n",
       "current loss = 1.6293216239575\t\n",
       "current loss = 1.629286505469\t\n",
       "current loss = 1.6292513969216\t\n"
      ]
     },
     "execution_count": 8,
     "metadata": {},
     "output_type": "execute_result"
    },
    {
     "data": {
      "text/plain": [
       "current loss = 1.629216298311\t\n",
       "current loss = 1.6291812096328\t\n",
       "current loss = 1.6291461308827\t\n",
       "current loss = 1.6291110620563\t\n",
       "current loss = 1.6290760031493\t\n"
      ]
     },
     "execution_count": 8,
     "metadata": {},
     "output_type": "execute_result"
    },
    {
     "data": {
      "text/plain": [
       "current loss = 1.6290409541572\t\n",
       "current loss = 1.6290059150759\t\n",
       "current loss = 1.6289708859008\t\n",
       "current loss = 1.6289358666277\t\n"
      ]
     },
     "execution_count": 8,
     "metadata": {},
     "output_type": "execute_result"
    },
    {
     "data": {
      "text/plain": [
       "current loss = 1.6289008572523\t\n",
       "current loss = 1.6288658577702\t\n",
       "current loss = 1.628830868177\t\n",
       "current loss = 1.6287958884685\t\n",
       "current loss = 1.6287609186402\t\n"
      ]
     },
     "execution_count": 8,
     "metadata": {},
     "output_type": "execute_result"
    },
    {
     "data": {
      "text/plain": [
       "current loss = 1.628725958688\t\n",
       "current loss = 1.6286910086074\t\n",
       "current loss = 1.6286560683941\t\n",
       "current loss = 1.6286211380439\t\n"
      ]
     },
     "execution_count": 8,
     "metadata": {},
     "output_type": "execute_result"
    },
    {
     "data": {
      "text/plain": [
       "current loss = 1.6285862175524\t\n",
       "current loss = 1.6285513069152\t\n",
       "current loss = 1.6285164061281\t\n",
       "current loss = 1.6284815151868\t\n"
      ]
     },
     "execution_count": 8,
     "metadata": {},
     "output_type": "execute_result"
    },
    {
     "data": {
      "text/plain": [
       "current loss = 1.6284466340869\t\n",
       "current loss = 1.6284117628242\t\n",
       "current loss = 1.6283769013944\t\n",
       "current loss = 1.6283420497931\t\n",
       "current loss = 1.6283072080161\t\n"
      ]
     },
     "execution_count": 8,
     "metadata": {},
     "output_type": "execute_result"
    },
    {
     "data": {
      "text/plain": [
       "current loss = 1.628272376059\t\n",
       "current loss = 1.6282375539176\t\n",
       "current loss = 1.6282027415876\t\n",
       "current loss = 1.6281679390647\t\n",
       "current loss = 1.6281331463446\t\n"
      ]
     },
     "execution_count": 8,
     "metadata": {},
     "output_type": "execute_result"
    },
    {
     "data": {
      "text/plain": [
       "current loss = 1.6280983634231\t\n",
       "current loss = 1.6280635902958\t\n",
       "current loss = 1.6280288269585\t\n",
       "current loss = 1.6279940734069\t\n"
      ]
     },
     "execution_count": 8,
     "metadata": {},
     "output_type": "execute_result"
    },
    {
     "data": {
      "text/plain": [
       "current loss = 1.6279593296368\t\n",
       "current loss = 1.6279245956438\t\n",
       "current loss = 1.6278898714237\t\n",
       "current loss = 1.6278551569723\t\n"
      ]
     },
     "execution_count": 8,
     "metadata": {},
     "output_type": "execute_result"
    },
    {
     "data": {
      "text/plain": [
       "current loss = 1.6278204522853\t\n",
       "current loss = 1.6277857573583\t\n",
       "current loss = 1.6277510721873\t\n",
       "current loss = 1.6277163967679\t\n",
       "current loss = 1.6276817310958\t\n"
      ]
     },
     "execution_count": 8,
     "metadata": {},
     "output_type": "execute_result"
    },
    {
     "data": {
      "text/plain": [
       "current loss = 1.6276470751669\t\n",
       "current loss = 1.6276124289768\t\n",
       "current loss = 1.6275777925213\t\n",
       "current loss = 1.6275431657963\t\n"
      ]
     },
     "execution_count": 8,
     "metadata": {},
     "output_type": "execute_result"
    },
    {
     "data": {
      "text/plain": [
       "current loss = 1.6275085487974\t\n",
       "current loss = 1.6274739415204\t\n",
       "current loss = 1.6274393439611\t\n",
       "current loss = 1.6274047561152\t\n",
       "current loss = 1.6273701779786\t\n"
      ]
     },
     "execution_count": 8,
     "metadata": {},
     "output_type": "execute_result"
    },
    {
     "data": {
      "text/plain": [
       "current loss = 1.627335609547\t\n",
       "current loss = 1.6273010508161\t\n",
       "current loss = 1.6272665017818\t\n",
       "current loss = 1.6272319624398\t\n"
      ]
     },
     "execution_count": 8,
     "metadata": {},
     "output_type": "execute_result"
    },
    {
     "data": {
      "text/plain": [
       "current loss = 1.627197432786\t\n",
       "current loss = 1.6271629128161\t\n",
       "current loss = 1.6271284025258\t\n",
       "current loss = 1.6270939019111\t\n"
      ]
     },
     "execution_count": 8,
     "metadata": {},
     "output_type": "execute_result"
    },
    {
     "data": {
      "text/plain": [
       "current loss = 1.6270594109676\t\n",
       "current loss = 1.6270249296912\t\n",
       "current loss = 1.6269904580777\t\n",
       "current loss = 1.6269559961229\t\n"
      ]
     },
     "execution_count": 8,
     "metadata": {},
     "output_type": "execute_result"
    },
    {
     "data": {
      "text/plain": [
       "current loss = 1.6269215438225\t\n",
       "current loss = 1.6268871011725\t\n",
       "current loss = 1.6268526681685\t\n",
       "current loss = 1.6268182448065\t\n",
       "current loss = 1.6267838310822\t\n"
      ]
     },
     "execution_count": 8,
     "metadata": {},
     "output_type": "execute_result"
    },
    {
     "data": {
      "text/plain": [
       "current loss = 1.6267494269914\t\n",
       "current loss = 1.62671503253\t\n",
       "current loss = 1.6266806476937\t\n",
       "current loss = 1.6266462724785\t\n"
      ]
     },
     "execution_count": 8,
     "metadata": {},
     "output_type": "execute_result"
    },
    {
     "data": {
      "text/plain": [
       "current loss = 1.6266119068801\t\n",
       "current loss = 1.6265775508944\t\n",
       "current loss = 1.6265432045172\t\n",
       "current loss = 1.6265088677442\t\n"
      ]
     },
     "execution_count": 8,
     "metadata": {},
     "output_type": "execute_result"
    },
    {
     "data": {
      "text/plain": [
       "current loss = 1.6264745405715\t\n",
       "current loss = 1.6264402229947\t\n",
       "current loss = 1.6264059150098\t\n",
       "current loss = 1.6263716166126\t\n",
       "current loss = 1.6263373277989\t\n"
      ]
     },
     "execution_count": 8,
     "metadata": {},
     "output_type": "execute_result"
    },
    {
     "data": {
      "text/plain": [
       "current loss = 1.6263030485646\t\n",
       "current loss = 1.6262687789055\t\n",
       "current loss = 1.6262345188175\t\n",
       "current loss = 1.6262002682964\t\n"
      ]
     },
     "execution_count": 8,
     "metadata": {},
     "output_type": "execute_result"
    },
    {
     "data": {
      "text/plain": [
       "current loss = 1.6261660273382\t\n",
       "current loss = 1.6261317959386\t\n",
       "current loss = 1.6260975740935\t\n",
       "current loss = 1.6260633617988\t\n"
      ]
     },
     "execution_count": 8,
     "metadata": {},
     "output_type": "execute_result"
    },
    {
     "data": {
      "text/plain": [
       "current loss = 1.6260291590503\t\n",
       "current loss = 1.625994965844\t\n",
       "current loss = 1.6259607821756\t\n",
       "current loss = 1.6259266080411\t\n"
      ]
     },
     "execution_count": 8,
     "metadata": {},
     "output_type": "execute_result"
    },
    {
     "data": {
      "text/plain": [
       "current loss = 1.6258924434364\t\n",
       "current loss = 1.6258582883573\t\n",
       "current loss = 1.6258241427997\t\n",
       "current loss = 1.6257900067595\t\n",
       "current loss = 1.6257558802326\t\n"
      ]
     },
     "execution_count": 8,
     "metadata": {},
     "output_type": "execute_result"
    },
    {
     "data": {
      "text/plain": [
       "current loss = 1.6257217632149\t\n",
       "current loss = 1.6256876557022\t\n",
       "current loss = 1.6256535576904\t\n",
       "current loss = 1.6256194691756\t\n"
      ]
     },
     "execution_count": 8,
     "metadata": {},
     "output_type": "execute_result"
    },
    {
     "data": {
      "text/plain": [
       "current loss = 1.6255853901534\t\n",
       "current loss = 1.6255513206199\t\n",
       "current loss = 1.625517260571\t\n",
       "current loss = 1.6254832100025\t\n"
      ]
     },
     "execution_count": 8,
     "metadata": {},
     "output_type": "execute_result"
    },
    {
     "data": {
      "text/plain": [
       "current loss = 1.6254491689104\t\n",
       "current loss = 1.6254151372906\t\n",
       "current loss = 1.625381115139\t\n",
       "current loss = 1.6253471024515\t\n"
      ]
     },
     "execution_count": 8,
     "metadata": {},
     "output_type": "execute_result"
    },
    {
     "data": {
      "text/plain": [
       "current loss = 1.625313099224\t\n",
       "current loss = 1.6252791054525\t\n",
       "current loss = 1.6252451211328\t\n",
       "current loss = 1.6252111462609\t\n",
       "current loss = 1.6251771808328\t\n"
      ]
     },
     "execution_count": 8,
     "metadata": {},
     "output_type": "execute_result"
    },
    {
     "data": {
      "text/plain": [
       "current loss = 1.6251432248443\t\n",
       "current loss = 1.6251092782914\t\n",
       "current loss = 1.62507534117\t\n",
       "current loss = 1.625041413476\t\n"
      ]
     },
     "execution_count": 8,
     "metadata": {},
     "output_type": "execute_result"
    },
    {
     "data": {
      "text/plain": [
       "current loss = 1.6250074952055\t\n",
       "current loss = 1.6249735863543\t\n",
       "current loss = 1.6249396869184\t\n",
       "current loss = 1.6249057968937\t\n"
      ]
     },
     "execution_count": 8,
     "metadata": {},
     "output_type": "execute_result"
    },
    {
     "data": {
      "text/plain": [
       "current loss = 1.6248719162762\t\n",
       "current loss = 1.6248380450618\t\n",
       "current loss = 1.6248041832465\t\n",
       "current loss = 1.6247703308262\t\n",
       "current loss = 1.624736487797\t\n"
      ]
     },
     "execution_count": 8,
     "metadata": {},
     "output_type": "execute_result"
    },
    {
     "data": {
      "text/plain": [
       "current loss = 1.6247026541547\t\n",
       "current loss = 1.6246688298953\t\n",
       "current loss = 1.6246350150148\t\n",
       "current loss = 1.6246012095091\t\n"
      ]
     },
     "execution_count": 8,
     "metadata": {},
     "output_type": "execute_result"
    },
    {
     "data": {
      "text/plain": [
       "current loss = 1.6245674133743\t\n",
       "current loss = 1.6245336266062\t\n",
       "current loss = 1.624499849201\t\n",
       "current loss = 1.6244660811545\t\n"
      ]
     },
     "execution_count": 8,
     "metadata": {},
     "output_type": "execute_result"
    },
    {
     "data": {
      "text/plain": [
       "current loss = 1.6244323224627\t\n"
      ]
     },
     "execution_count": 8,
     "metadata": {},
     "output_type": "execute_result"
    },
    {
     "data": {
      "text/plain": [
       "current loss = 1.6243985731216\t\n",
       "current loss = 1.6243648331272\t\n",
       "current loss = 1.6243311024755\t\n"
      ]
     },
     "execution_count": 8,
     "metadata": {},
     "output_type": "execute_result"
    },
    {
     "data": {
      "text/plain": [
       "current loss = 1.6242973811624\t\n",
       "current loss = 1.624263669184\t\n",
       "current loss = 1.6242299665363\t\n",
       "current loss = 1.6241962732152\t\n"
      ]
     },
     "execution_count": 8,
     "metadata": {},
     "output_type": "execute_result"
    },
    {
     "data": {
      "text/plain": [
       "current loss = 1.6241625892167\t\n",
       "current loss = 1.6241289145369\t\n",
       "current loss = 1.6240952491718\t\n",
       "current loss = 1.6240615931173\t\n"
      ]
     },
     "execution_count": 8,
     "metadata": {},
     "output_type": "execute_result"
    },
    {
     "data": {
      "text/plain": [
       "current loss = 1.6240279463694\t\n",
       "current loss = 1.6239943089243\t\n",
       "current loss = 1.6239606807778\t\n"
      ]
     },
     "execution_count": 8,
     "metadata": {},
     "output_type": "execute_result"
    },
    {
     "data": {
      "text/plain": [
       "current loss = 1.623927061926\t\n",
       "current loss = 1.6238934523649\t\n",
       "current loss = 1.6238598520905\t\n"
      ]
     },
     "execution_count": 8,
     "metadata": {},
     "output_type": "execute_result"
    },
    {
     "data": {
      "text/plain": [
       "current loss = 1.6238262610989\t\n",
       "current loss = 1.6237926793861\t\n",
       "current loss = 1.6237591069481\t\n",
       "current loss = 1.6237255437809\t\n"
      ]
     },
     "execution_count": 8,
     "metadata": {},
     "output_type": "execute_result"
    },
    {
     "data": {
      "text/plain": [
       "current loss = 1.6236919898805\t\n",
       "current loss = 1.6236584452431\t\n",
       "current loss = 1.6236249098645\t\n"
      ]
     },
     "execution_count": 8,
     "metadata": {},
     "output_type": "execute_result"
    },
    {
     "data": {
      "text/plain": [
       "current loss = 1.623591383741\t\n",
       "current loss = 1.6235578668684\t\n",
       "current loss = 1.6235243592429\t\n",
       "current loss = 1.6234908608605\t\n"
      ]
     },
     "execution_count": 8,
     "metadata": {},
     "output_type": "execute_result"
    },
    {
     "data": {
      "text/plain": [
       "current loss = 1.6234573717172\t\n",
       "current loss = 1.6234238918091\t\n",
       "current loss = 1.6233904211323\t\n"
      ]
     },
     "execution_count": 8,
     "metadata": {},
     "output_type": "execute_result"
    },
    {
     "data": {
      "text/plain": [
       "current loss = 1.6233569596827\t\n",
       "current loss = 1.6233235074565\t\n",
       "current loss = 1.6232900644496\t\n",
       "current loss = 1.6232566306583\t\n"
      ]
     },
     "execution_count": 8,
     "metadata": {},
     "output_type": "execute_result"
    },
    {
     "data": {
      "text/plain": [
       "current loss = 1.6232232060784\t\n",
       "current loss = 1.6231897907062\t\n",
       "current loss = 1.6231563845376\t\n"
      ]
     },
     "execution_count": 8,
     "metadata": {},
     "output_type": "execute_result"
    },
    {
     "data": {
      "text/plain": [
       "current loss = 1.6231229875687\t\n",
       "current loss = 1.6230895997956\t\n",
       "current loss = 1.6230562212144\t\n"
      ]
     },
     "execution_count": 8,
     "metadata": {},
     "output_type": "execute_result"
    },
    {
     "data": {
      "text/plain": [
       "current loss = 1.6230228518212\t\n",
       "current loss = 1.6229894916119\t\n",
       "current loss = 1.6229561405828\t\n",
       "current loss = 1.6229227987299\t\n"
      ]
     },
     "execution_count": 8,
     "metadata": {},
     "output_type": "execute_result"
    },
    {
     "data": {
      "text/plain": [
       "current loss = 1.6228894660492\t\n",
       "current loss = 1.6228561425369\t\n",
       "current loss = 1.6228228281891\t\n"
      ]
     },
     "execution_count": 8,
     "metadata": {},
     "output_type": "execute_result"
    },
    {
     "data": {
      "text/plain": [
       "current loss = 1.6227895230017\t\n",
       "current loss = 1.6227562269711\t\n",
       "current loss = 1.6227229400931\t\n",
       "current loss = 1.622689662364\t\n"
      ]
     },
     "execution_count": 8,
     "metadata": {},
     "output_type": "execute_result"
    },
    {
     "data": {
      "text/plain": [
       "current loss = 1.6226563937798\t\n",
       "current loss = 1.6226231343367\t\n",
       "current loss = 1.6225898840306\t\n"
      ]
     },
     "execution_count": 8,
     "metadata": {},
     "output_type": "execute_result"
    },
    {
     "data": {
      "text/plain": [
       "current loss = 1.6225566428579\t\n",
       "current loss = 1.6225234108145\t\n",
       "current loss = 1.6224901878965\t\n",
       "current loss = 1.6224569741002\t\n"
      ]
     },
     "execution_count": 8,
     "metadata": {},
     "output_type": "execute_result"
    },
    {
     "data": {
      "text/plain": [
       "current loss = 1.6224237694216\t\n",
       "current loss = 1.6223905738567\t\n",
       "current loss = 1.6223573874018\t\n"
      ]
     },
     "execution_count": 8,
     "metadata": {},
     "output_type": "execute_result"
    },
    {
     "data": {
      "text/plain": [
       "current loss = 1.622324210053\t\n",
       "current loss = 1.6222910418064\t\n",
       "current loss = 1.622257882658\t\n",
       "current loss = 1.6222247326042\t\n"
      ]
     },
     "execution_count": 8,
     "metadata": {},
     "output_type": "execute_result"
    },
    {
     "data": {
      "text/plain": [
       "current loss = 1.6221915916409\t\n",
       "current loss = 1.6221584597643\t\n",
       "current loss = 1.6221253369705\t\n"
      ]
     },
     "execution_count": 8,
     "metadata": {},
     "output_type": "execute_result"
    },
    {
     "data": {
      "text/plain": [
       "current loss = 1.6220922232558\t\n",
       "current loss = 1.6220591186162\t\n",
       "current loss = 1.6220260230478\t\n",
       "current loss = 1.6219929365469\t\n"
      ]
     },
     "execution_count": 8,
     "metadata": {},
     "output_type": "execute_result"
    },
    {
     "data": {
      "text/plain": [
       "current loss = 1.6219598591095\t\n",
       "current loss = 1.6219267907319\t\n",
       "current loss = 1.6218937314101\t\n"
      ]
     },
     "execution_count": 8,
     "metadata": {},
     "output_type": "execute_result"
    },
    {
     "data": {
      "text/plain": [
       "current loss = 1.6218606811403\t\n",
       "current loss = 1.6218276399188\t\n",
       "current loss = 1.6217946077415\t\n",
       "current loss = 1.6217615846048\t\n"
      ]
     },
     "execution_count": 8,
     "metadata": {},
     "output_type": "execute_result"
    },
    {
     "data": {
      "text/plain": [
       "current loss = 1.6217285705047\t\n",
       "current loss = 1.6216955654374\t\n",
       "current loss = 1.6216625693992\t\n"
      ]
     },
     "execution_count": 8,
     "metadata": {},
     "output_type": "execute_result"
    },
    {
     "data": {
      "text/plain": [
       "current loss = 1.6216295823861\t\n",
       "current loss = 1.6215966043943\t\n",
       "current loss = 1.6215636354201\t\n",
       "current loss = 1.6215306754595\t\n"
      ]
     },
     "execution_count": 8,
     "metadata": {},
     "output_type": "execute_result"
    },
    {
     "data": {
      "text/plain": [
       "current loss = 1.6214977245088\t\n",
       "current loss = 1.6214647825641\t\n",
       "current loss = 1.6214318496217\t\n"
      ]
     },
     "execution_count": 8,
     "metadata": {},
     "output_type": "execute_result"
    },
    {
     "data": {
      "text/plain": [
       "current loss = 1.6213989256777\t\n",
       "current loss = 1.6213660107283\t\n",
       "current loss = 1.6213331047697\t\n",
       "current loss = 1.621300207798\t\n"
      ]
     },
     "execution_count": 8,
     "metadata": {},
     "output_type": "execute_result"
    },
    {
     "data": {
      "text/plain": [
       "current loss = 1.6212673198096\t\n",
       "current loss = 1.6212344408005\t\n",
       "current loss = 1.6212015707669\t\n"
      ]
     },
     "execution_count": 8,
     "metadata": {},
     "output_type": "execute_result"
    },
    {
     "data": {
      "text/plain": [
       "current loss = 1.6211687097052\t\n",
       "current loss = 1.6211358576114\t\n",
       "current loss = 1.6211030144818\t\n",
       "current loss = 1.6210701803126\t\n"
      ]
     },
     "execution_count": 8,
     "metadata": {},
     "output_type": "execute_result"
    },
    {
     "data": {
      "text/plain": [
       "current loss = 1.6210373551\t\n",
       "current loss = 1.6210045388402\t\n"
      ]
     },
     "execution_count": 8,
     "metadata": {},
     "output_type": "execute_result"
    },
    {
     "data": {
      "text/plain": [
       "current loss = 1.6209717315294\t\n",
       "current loss = 1.6209389331638\t\n",
       "current loss = 1.6209061437397\t\n"
      ]
     },
     "execution_count": 8,
     "metadata": {},
     "output_type": "execute_result"
    },
    {
     "data": {
      "text/plain": [
       "current loss = 1.6208733632533\t\n"
      ]
     },
     "execution_count": 8,
     "metadata": {},
     "output_type": "execute_result"
    },
    {
     "data": {
      "text/plain": [
       "current loss = 1.6208405917007\t\n"
      ]
     },
     "execution_count": 8,
     "metadata": {},
     "output_type": "execute_result"
    },
    {
     "data": {
      "text/plain": [
       "current loss = 1.6208078290783\t\n",
       "current loss = 1.6207750753822\t\n"
      ]
     },
     "execution_count": 8,
     "metadata": {},
     "output_type": "execute_result"
    },
    {
     "data": {
      "text/plain": [
       "current loss = 1.6207423306087\t\n",
       "current loss = 1.620709594754\t\n",
       "current loss = 1.6206768678143\t\n"
      ]
     },
     "execution_count": 8,
     "metadata": {},
     "output_type": "execute_result"
    },
    {
     "data": {
      "text/plain": [
       "current loss = 1.6206441497859\t\n",
       "current loss = 1.6206114406651\t\n",
       "current loss = 1.6205787404479\t\n"
      ]
     },
     "execution_count": 8,
     "metadata": {},
     "output_type": "execute_result"
    },
    {
     "data": {
      "text/plain": [
       "current loss = 1.6205460491308\t\n",
       "current loss = 1.6205133667099\t\n",
       "current loss = 1.6204806931814\t\n",
       "current loss = 1.6204480285417\t\n"
      ]
     },
     "execution_count": 8,
     "metadata": {},
     "output_type": "execute_result"
    },
    {
     "data": {
      "text/plain": [
       "current loss = 1.620415372787\t\n",
       "current loss = 1.6203827259135\t\n",
       "current loss = 1.6203500879174\t\n"
      ]
     },
     "execution_count": 8,
     "metadata": {},
     "output_type": "execute_result"
    },
    {
     "data": {
      "text/plain": [
       "current loss = 1.6203174587952\t\n",
       "current loss = 1.6202848385429\t\n",
       "current loss = 1.6202522271569\t\n"
      ]
     },
     "execution_count": 8,
     "metadata": {},
     "output_type": "execute_result"
    },
    {
     "data": {
      "text/plain": [
       "current loss = 1.6202196246334\t\n",
       "current loss = 1.6201870309687\t\n",
       "current loss = 1.620154446159\t\n"
      ]
     },
     "execution_count": 8,
     "metadata": {},
     "output_type": "execute_result"
    },
    {
     "data": {
      "text/plain": [
       "current loss = 1.6201218702007\t\n",
       "current loss = 1.6200893030899\t\n",
       "current loss = 1.6200567448231\t\n",
       "current loss = 1.6200241953963\t\n"
      ]
     },
     "execution_count": 8,
     "metadata": {},
     "output_type": "execute_result"
    },
    {
     "data": {
      "text/plain": [
       "current loss = 1.619991654806\t\n",
       "current loss = 1.6199591230484\t\n",
       "current loss = 1.6199266001198\t\n",
       "current loss = 1.6198940860164\t\n"
      ]
     },
     "execution_count": 8,
     "metadata": {},
     "output_type": "execute_result"
    },
    {
     "data": {
      "text/plain": [
       "current loss = 1.6198615807346\t\n",
       "current loss = 1.6198290842707\t\n",
       "current loss = 1.6197965966209\t\n",
       "current loss = 1.6197641177815\t\n",
       "current loss = 1.6197316477488\t\n"
      ]
     },
     "execution_count": 8,
     "metadata": {},
     "output_type": "execute_result"
    },
    {
     "data": {
      "text/plain": [
       "current loss = 1.6196991865191\t\n",
       "current loss = 1.6196667340888\t\n",
       "current loss = 1.6196342904541\t\n",
       "current loss = 1.6196018556113\t\n"
      ]
     },
     "execution_count": 8,
     "metadata": {},
     "output_type": "execute_result"
    },
    {
     "data": {
      "text/plain": [
       "current loss = 1.6195694295567\t\n",
       "current loss = 1.6195370122866\t\n",
       "current loss = 1.6195046037974\t\n",
       "current loss = 1.6194722040854\t\n",
       "current loss = 1.6194398131468\t\n"
      ]
     },
     "execution_count": 8,
     "metadata": {},
     "output_type": "execute_result"
    },
    {
     "data": {
      "text/plain": [
       "current loss = 1.6194074309779\t\n",
       "current loss = 1.6193750575752\t\n",
       "current loss = 1.619342692935\t\n",
       "current loss = 1.6193103370534\t\n"
      ]
     },
     "execution_count": 8,
     "metadata": {},
     "output_type": "execute_result"
    },
    {
     "data": {
      "text/plain": [
       "current loss = 1.6192779899269\t\n",
       "current loss = 1.6192456515518\t\n",
       "current loss = 1.6192133219245\t\n",
       "current loss = 1.6191810010412\t\n"
      ]
     },
     "execution_count": 8,
     "metadata": {},
     "output_type": "execute_result"
    },
    {
     "data": {
      "text/plain": [
       "current loss = 1.6191486888982\t\n",
       "current loss = 1.619116385492\t\n",
       "current loss = 1.6190840908189\t\n",
       "current loss = 1.6190518048751\t\n",
       "current loss = 1.6190195276571\t\n"
      ]
     },
     "execution_count": 8,
     "metadata": {},
     "output_type": "execute_result"
    },
    {
     "data": {
      "text/plain": [
       "current loss = 1.6189872591611\t\n",
       "current loss = 1.6189549993836\t\n",
       "current loss = 1.6189227483208\t\n",
       "current loss = 1.6188905059692\t\n",
       "current loss = 1.618858272325\t\n"
      ]
     },
     "execution_count": 8,
     "metadata": {},
     "output_type": "execute_result"
    },
    {
     "data": {
      "text/plain": [
       "current loss = 1.6188260473846\t\n",
       "current loss = 1.6187938311444\t\n",
       "current loss = 1.6187616236008\t\n",
       "current loss = 1.61872942475\t\n"
      ]
     },
     "execution_count": 8,
     "metadata": {},
     "output_type": "execute_result"
    },
    {
     "data": {
      "text/plain": [
       "current loss = 1.6186972345885\t\n",
       "current loss = 1.6186650531127\t\n",
       "current loss = 1.6186328803188\t\n",
       "current loss = 1.6186007162032\t\n"
      ]
     },
     "execution_count": 8,
     "metadata": {},
     "output_type": "execute_result"
    },
    {
     "data": {
      "text/plain": [
       "current loss = 1.6185685607624\t\n",
       "current loss = 1.6185364139927\t\n",
       "current loss = 1.6185042758904\t\n",
       "current loss = 1.618472146452\t\n",
       "current loss = 1.6184400256738\t\n"
      ]
     },
     "execution_count": 8,
     "metadata": {},
     "output_type": "execute_result"
    },
    {
     "data": {
      "text/plain": [
       "current loss = 1.6184079135522\t\n",
       "current loss = 1.6183758100836\t\n",
       "current loss = 1.6183437152643\t\n",
       "current loss = 1.6183116290908\t\n"
      ]
     },
     "execution_count": 8,
     "metadata": {},
     "output_type": "execute_result"
    },
    {
     "data": {
      "text/plain": [
       "current loss = 1.6182795515594\t\n",
       "current loss = 1.6182474826666\t\n",
       "current loss = 1.6182154224087\t\n",
       "current loss = 1.6181833707821\t\n"
      ]
     },
     "execution_count": 8,
     "metadata": {},
     "output_type": "execute_result"
    },
    {
     "data": {
      "text/plain": [
       "current loss = 1.6181513277832\t\n",
       "current loss = 1.6181192934085\t\n",
       "current loss = 1.6180872676542\t\n",
       "current loss = 1.6180552505169\t\n"
      ]
     },
     "execution_count": 8,
     "metadata": {},
     "output_type": "execute_result"
    },
    {
     "data": {
      "text/plain": [
       "current loss = 1.6180232419929\t\n",
       "current loss = 1.6179912420786\t\n",
       "current loss = 1.6179592507704\t\n",
       "current loss = 1.6179272680648\t\n",
       "current loss = 1.6178952939581\t\n"
      ]
     },
     "execution_count": 8,
     "metadata": {},
     "output_type": "execute_result"
    },
    {
     "data": {
      "text/plain": [
       "current loss = 1.6178633284468\t\n",
       "current loss = 1.6178313715273\t\n",
       "current loss = 1.617799423196\t\n",
       "current loss = 1.6177674834493\t\n"
      ]
     },
     "execution_count": 8,
     "metadata": {},
     "output_type": "execute_result"
    },
    {
     "data": {
      "text/plain": [
       "current loss = 1.6177355522837\t\n",
       "current loss = 1.6177036296956\t\n",
       "current loss = 1.6176717156813\t\n",
       "current loss = 1.6176398102374\t\n",
       "current loss = 1.6176079133602\t\n"
      ]
     },
     "execution_count": 8,
     "metadata": {},
     "output_type": "execute_result"
    },
    {
     "data": {
      "text/plain": [
       "current loss = 1.6175760250462\t\n",
       "current loss = 1.6175441452919\t\n",
       "current loss = 1.6175122740936\t\n",
       "current loss = 1.6174804114478\t\n"
      ]
     },
     "execution_count": 8,
     "metadata": {},
     "output_type": "execute_result"
    },
    {
     "data": {
      "text/plain": [
       "current loss = 1.617448557351\t\n",
       "current loss = 1.6174167117996\t\n",
       "current loss = 1.61738487479\t\n",
       "current loss = 1.6173530463186\t\n"
      ]
     },
     "execution_count": 8,
     "metadata": {},
     "output_type": "execute_result"
    },
    {
     "data": {
      "text/plain": [
       "current loss = 1.617321226382\t\n",
       "current loss = 1.6172894149766\t\n",
       "current loss = 1.6172576120988\t\n",
       "current loss = 1.6172258177451\t\n"
      ]
     },
     "execution_count": 8,
     "metadata": {},
     "output_type": "execute_result"
    },
    {
     "data": {
      "text/plain": [
       "current loss = 1.6171940319119\t\n",
       "current loss = 1.6171622545957\t\n",
       "current loss = 1.617130485793\t\n",
       "current loss = 1.6170987255002\t\n",
       "current loss = 1.6170669737138\t\n"
      ]
     },
     "execution_count": 8,
     "metadata": {},
     "output_type": "execute_result"
    },
    {
     "data": {
      "text/plain": [
       "current loss = 1.6170352304302\t\n",
       "current loss = 1.617003495646\t\n",
       "current loss = 1.6169717693576\t\n"
      ]
     },
     "execution_count": 8,
     "metadata": {},
     "output_type": "execute_result"
    },
    {
     "data": {
      "text/plain": [
       "current loss = 1.6169400515614\t\n",
       "current loss = 1.616908342254\t\n",
       "current loss = 1.6168766414318\t\n",
       "current loss = 1.6168449490913\t\n",
       "current loss = 1.6168132652289\t\n"
      ]
     },
     "execution_count": 8,
     "metadata": {},
     "output_type": "execute_result"
    },
    {
     "data": {
      "text/plain": [
       "current loss = 1.6167815898412\t\n",
       "current loss = 1.6167499229247\t\n",
       "current loss = 1.6167182644758\t\n",
       "current loss = 1.616686614491\t\n"
      ]
     },
     "execution_count": 8,
     "metadata": {},
     "output_type": "execute_result"
    },
    {
     "data": {
      "text/plain": [
       "current loss = 1.6166549729669\t\n",
       "current loss = 1.6166233398998\t\n",
       "current loss = 1.6165917152863\t\n",
       "current loss = 1.616560099123\t\n"
      ]
     },
     "execution_count": 8,
     "metadata": {},
     "output_type": "execute_result"
    },
    {
     "data": {
      "text/plain": [
       "current loss = 1.6165284914061\t\n",
       "current loss = 1.6164968921325\t\n",
       "current loss = 1.6164653012984\t\n",
       "current loss = 1.6164337189003\t\n",
       "current loss = 1.6164021449349\t\n"
      ]
     },
     "execution_count": 8,
     "metadata": {},
     "output_type": "execute_result"
    },
    {
     "data": {
      "text/plain": [
       "current loss = 1.6163705793986\t\n",
       "current loss = 1.616339022288\t\n",
       "current loss = 1.6163074735994\t\n",
       "current loss = 1.6162759333296\t\n"
      ]
     },
     "execution_count": 8,
     "metadata": {},
     "output_type": "execute_result"
    },
    {
     "data": {
      "text/plain": [
       "current loss = 1.6162444014748\t\n",
       "current loss = 1.6162128780318\t\n",
       "current loss = 1.616181362997\t\n",
       "current loss = 1.6161498563668\t\n"
      ]
     },
     "execution_count": 8,
     "metadata": {},
     "output_type": "execute_result"
    },
    {
     "data": {
      "text/plain": [
       "current loss = 1.616118358138\t\n",
       "current loss = 1.6160868683069\t\n",
       "current loss = 1.6160553868701\t\n",
       "current loss = 1.6160239138241\t\n"
      ]
     },
     "execution_count": 8,
     "metadata": {},
     "output_type": "execute_result"
    },
    {
     "data": {
      "text/plain": [
       "current loss = 1.6159924491655\t\n",
       "current loss = 1.6159609928908\t\n",
       "current loss = 1.6159295449965\t\n",
       "current loss = 1.6158981054792\t\n",
       "current loss = 1.6158666743354\t\n"
      ]
     },
     "execution_count": 8,
     "metadata": {},
     "output_type": "execute_result"
    },
    {
     "data": {
      "text/plain": [
       "current loss = 1.6158352515616\t\n",
       "current loss = 1.6158038371545\t\n",
       "current loss = 1.6157724311104\t\n",
       "current loss = 1.6157410334261\t\n"
      ]
     },
     "execution_count": 8,
     "metadata": {},
     "output_type": "execute_result"
    },
    {
     "data": {
      "text/plain": [
       "current loss = 1.615709644098\t\n",
       "current loss = 1.6156782631227\t\n",
       "current loss = 1.6156468904967\t\n",
       "current loss = 1.6156155262166\t\n"
      ]
     },
     "execution_count": 8,
     "metadata": {},
     "output_type": "execute_result"
    },
    {
     "data": {
      "text/plain": [
       "current loss = 1.6155841702789\t\n",
       "current loss = 1.6155528226803\t\n",
       "current loss = 1.6155214834172\t\n",
       "current loss = 1.6154901524862\t\n"
      ]
     },
     "execution_count": 8,
     "metadata": {},
     "output_type": "execute_result"
    },
    {
     "data": {
      "text/plain": [
       "current loss = 1.615458829884\t\n",
       "current loss = 1.6154275156069\t\n",
       "current loss = 1.6153962096518\t\n",
       "current loss = 1.615364912015\t\n"
      ]
     },
     "execution_count": 8,
     "metadata": {},
     "output_type": "execute_result"
    },
    {
     "data": {
      "text/plain": [
       "current loss = 1.6153336226932\t\n",
       "current loss = 1.6153023416829\t\n",
       "current loss = 1.6152710689808\t\n",
       "current loss = 1.6152398045833\t\n"
      ]
     },
     "execution_count": 8,
     "metadata": {},
     "output_type": "execute_result"
    },
    {
     "data": {
      "text/plain": [
       "current loss = 1.6152085484872\t\n",
       "current loss = 1.6151773006888\t\n",
       "current loss = 1.615146061185\t\n",
       "current loss = 1.6151148299721\t\n",
       "current loss = 1.6150836070469\t\n"
      ]
     },
     "execution_count": 8,
     "metadata": {},
     "output_type": "execute_result"
    },
    {
     "data": {
      "text/plain": [
       "current loss = 1.6150523924059\t\n",
       "current loss = 1.6150211860456\t\n",
       "current loss = 1.6149899879628\t\n",
       "current loss = 1.6149587981539\t\n"
      ]
     },
     "execution_count": 8,
     "metadata": {},
     "output_type": "execute_result"
    },
    {
     "data": {
      "text/plain": [
       "current loss = 1.6149276166156\t\n",
       "current loss = 1.6148964433445\t\n"
      ]
     },
     "execution_count": 8,
     "metadata": {},
     "output_type": "execute_result"
    },
    {
     "data": {
      "text/plain": [
       "current loss = 1.6148652783372\t\n",
       "current loss = 1.6148341215903\t\n"
      ]
     },
     "execution_count": 8,
     "metadata": {},
     "output_type": "execute_result"
    },
    {
     "data": {
      "text/plain": [
       "current loss = 1.6148029731003\t\n",
       "current loss = 1.6147718328639\t\n",
       "current loss = 1.6147407008778\t\n",
       "current loss = 1.6147095771384\t\n"
      ]
     },
     "execution_count": 8,
     "metadata": {},
     "output_type": "execute_result"
    },
    {
     "data": {
      "text/plain": [
       "current loss = 1.6146784616425\t\n",
       "current loss = 1.6146473543866\t\n",
       "current loss = 1.6146162553673\t\n",
       "current loss = 1.6145851645813\t\n"
      ]
     },
     "execution_count": 8,
     "metadata": {},
     "output_type": "execute_result"
    },
    {
     "data": {
      "text/plain": [
       "current loss = 1.6145540820252\t\n",
       "current loss = 1.6145230076956\t\n",
       "current loss = 1.6144919415892\t\n"
      ]
     },
     "execution_count": 8,
     "metadata": {},
     "output_type": "execute_result"
    },
    {
     "data": {
      "text/plain": [
       "current loss = 1.6144608837025\t\n",
       "current loss = 1.6144298340321\t\n",
       "current loss = 1.6143987925748\t\n",
       "current loss = 1.6143677593272\t\n"
      ]
     },
     "execution_count": 8,
     "metadata": {},
     "output_type": "execute_result"
    },
    {
     "data": {
      "text/plain": [
       "current loss = 1.6143367342858\t\n",
       "current loss = 1.6143057174473\t\n",
       "current loss = 1.6142747088084\t\n"
      ]
     },
     "execution_count": 8,
     "metadata": {},
     "output_type": "execute_result"
    },
    {
     "data": {
      "text/plain": [
       "current loss = 1.6142437083656\t\n",
       "current loss = 1.6142127161157\t\n",
       "current loss = 1.6141817320553\t\n"
      ]
     },
     "execution_count": 8,
     "metadata": {},
     "output_type": "execute_result"
    },
    {
     "data": {
      "text/plain": [
       "current loss = 1.6141507561809\t\n",
       "current loss = 1.6141197884893\t\n",
       "current loss = 1.6140888289772\t\n"
      ]
     },
     "execution_count": 8,
     "metadata": {},
     "output_type": "execute_result"
    },
    {
     "data": {
      "text/plain": [
       "current loss = 1.614057877641\t\n",
       "current loss = 1.6140269344776\t\n",
       "current loss = 1.6139959994835\t\n",
       "current loss = 1.6139650726555\t\n"
      ]
     },
     "execution_count": 8,
     "metadata": {},
     "output_type": "execute_result"
    },
    {
     "data": {
      "text/plain": [
       "current loss = 1.6139341539901\t\n",
       "current loss = 1.613903243484\t\n",
       "current loss = 1.613872341134\t\n",
       "current loss = 1.6138414469366\t\n"
      ]
     },
     "execution_count": 8,
     "metadata": {},
     "output_type": "execute_result"
    },
    {
     "data": {
      "text/plain": [
       "current loss = 1.6138105608884\t\n",
       "current loss = 1.6137796829863\t\n",
       "current loss = 1.6137488132268\t\n"
      ]
     },
     "execution_count": 8,
     "metadata": {},
     "output_type": "execute_result"
    },
    {
     "data": {
      "text/plain": [
       "current loss = 1.6137179516067\t\n",
       "current loss = 1.6136870981225\t\n",
       "current loss = 1.613656252771\t\n"
      ]
     },
     "execution_count": 8,
     "metadata": {},
     "output_type": "execute_result"
    },
    {
     "data": {
      "text/plain": [
       "current loss = 1.6136254155488\t\n",
       "current loss = 1.6135945864527\t\n",
       "current loss = 1.6135637654792\t\n",
       "current loss = 1.6135329526251\t\n"
      ]
     },
     "execution_count": 8,
     "metadata": {},
     "output_type": "execute_result"
    },
    {
     "data": {
      "text/plain": [
       "current loss = 1.6135021478871\t\n",
       "current loss = 1.6134713512618\t\n",
       "current loss = 1.613440562746\t\n"
      ]
     },
     "execution_count": 8,
     "metadata": {},
     "output_type": "execute_result"
    },
    {
     "data": {
      "text/plain": [
       "current loss = 1.6134097823362\t\n",
       "current loss = 1.6133790100293\t\n",
       "current loss = 1.6133482458218\t\n",
       "current loss = 1.6133174897106\t\n"
      ]
     },
     "execution_count": 8,
     "metadata": {},
     "output_type": "execute_result"
    },
    {
     "data": {
      "text/plain": [
       "current loss = 1.6132867416923\t\n",
       "current loss = 1.6132560017635\t\n",
       "current loss = 1.613225269921\t\n"
      ]
     },
     "execution_count": 8,
     "metadata": {},
     "output_type": "execute_result"
    },
    {
     "data": {
      "text/plain": [
       "current loss = 1.6131945461615\t\n",
       "current loss = 1.6131638304817\t\n",
       "current loss = 1.6131331228782\t\n",
       "current loss = 1.6131024233479\t\n"
      ]
     },
     "execution_count": 8,
     "metadata": {},
     "output_type": "execute_result"
    },
    {
     "data": {
      "text/plain": [
       "current loss = 1.6130717318874\t\n",
       "current loss = 1.6130410484934\t\n",
       "current loss = 1.6130103731626\t\n"
      ]
     },
     "execution_count": 8,
     "metadata": {},
     "output_type": "execute_result"
    },
    {
     "data": {
      "text/plain": [
       "current loss = 1.6129797058917\t\n",
       "current loss = 1.6129490466776\t\n",
       "current loss = 1.6129183955167\t\n"
      ]
     },
     "execution_count": 8,
     "metadata": {},
     "output_type": "execute_result"
    },
    {
     "data": {
      "text/plain": [
       "current loss = 1.612887752406\t\n",
       "current loss = 1.6128571173421\t\n",
       "current loss = 1.6128264903218\t\n",
       "current loss = 1.6127958713417\t\n"
      ]
     },
     "execution_count": 8,
     "metadata": {},
     "output_type": "execute_result"
    },
    {
     "data": {
      "text/plain": [
       "current loss = 1.6127652603986\t\n",
       "current loss = 1.6127346574891\t\n",
       "current loss = 1.6127040626102\t\n"
      ]
     },
     "execution_count": 8,
     "metadata": {},
     "output_type": "execute_result"
    },
    {
     "data": {
      "text/plain": [
       "current loss = 1.6126734757584\t\n",
       "current loss = 1.6126428969305\t\n",
       "current loss = 1.6126123261233\t\n",
       "current loss = 1.6125817633335\t\n"
      ]
     },
     "execution_count": 8,
     "metadata": {},
     "output_type": "execute_result"
    },
    {
     "data": {
      "text/plain": [
       "current loss = 1.6125512085578\t\n",
       "current loss = 1.6125206617929\t\n",
       "current loss = 1.6124901230357\t\n"
      ]
     },
     "execution_count": 8,
     "metadata": {},
     "output_type": "execute_result"
    },
    {
     "data": {
      "text/plain": [
       "current loss = 1.6124595922828\t\n",
       "current loss = 1.612429069531\t\n",
       "current loss = 1.612398554777\t\n"
      ]
     },
     "execution_count": 8,
     "metadata": {},
     "output_type": "execute_result"
    },
    {
     "data": {
      "text/plain": [
       "current loss = 1.6123680480177\t\n",
       "current loss = 1.6123375492496\t\n",
       "current loss = 1.6123070584697\t\n",
       "current loss = 1.6122765756746\t\n"
      ]
     },
     "execution_count": 8,
     "metadata": {},
     "output_type": "execute_result"
    },
    {
     "data": {
      "text/plain": [
       "current loss = 1.6122461008612\t\n",
       "current loss = 1.6122156340261\t\n",
       "current loss = 1.6121851751661\t\n"
      ]
     },
     "execution_count": 8,
     "metadata": {},
     "output_type": "execute_result"
    },
    {
     "data": {
      "text/plain": [
       "current loss = 1.6121547242781\t\n",
       "current loss = 1.6121242813586\t\n",
       "current loss = 1.6120938464046\t\n",
       "current loss = 1.6120634194128\t\n"
      ]
     },
     "execution_count": 8,
     "metadata": {},
     "output_type": "execute_result"
    },
    {
     "data": {
      "text/plain": [
       "current loss = 1.61203300038\t\n",
       "current loss = 1.6120025893029\t\n",
       "current loss = 1.6119721861782\t\n"
      ]
     },
     "execution_count": 8,
     "metadata": {},
     "output_type": "execute_result"
    },
    {
     "data": {
      "text/plain": [
       "current loss = 1.6119417910029\t\n",
       "current loss = 1.6119114037736\t\n",
       "current loss = 1.6118810244871\t\n"
      ]
     },
     "execution_count": 8,
     "metadata": {},
     "output_type": "execute_result"
    },
    {
     "data": {
      "text/plain": [
       "current loss = 1.6118506531403\t\n",
       "current loss = 1.6118202897298\t\n",
       "current loss = 1.6117899342526\t\n",
       "current loss = 1.6117595867052\t\n"
      ]
     },
     "execution_count": 8,
     "metadata": {},
     "output_type": "execute_result"
    },
    {
     "data": {
      "text/plain": [
       "current loss = 1.6117292470847\t\n",
       "current loss = 1.6116989153876\t\n"
      ]
     },
     "execution_count": 8,
     "metadata": {},
     "output_type": "execute_result"
    },
    {
     "data": {
      "text/plain": [
       "current loss = 1.6116685916109\t\n",
       "current loss = 1.6116382757513\t\n",
       "current loss = 1.6116079678056\t\n"
      ]
     },
     "execution_count": 8,
     "metadata": {},
     "output_type": "execute_result"
    },
    {
     "data": {
      "text/plain": [
       "current loss = 1.6115776677707\t\n"
      ]
     },
     "execution_count": 8,
     "metadata": {},
     "output_type": "execute_result"
    },
    {
     "data": {
      "text/plain": [
       "current loss = 1.6115473756432\t\n",
       "current loss = 1.6115170914201\t\n"
      ]
     },
     "execution_count": 8,
     "metadata": {},
     "output_type": "execute_result"
    },
    {
     "data": {
      "text/plain": [
       "current loss = 1.611486815098\t\n",
       "current loss = 1.6114565466739\t\n"
      ]
     },
     "execution_count": 8,
     "metadata": {},
     "output_type": "execute_result"
    },
    {
     "data": {
      "text/plain": [
       "current loss = 1.6114262861445\t\n",
       "current loss = 1.6113960335066\t\n",
       "current loss = 1.611365788757\t\n",
       "current loss = 1.6113355518925\t\n"
      ]
     },
     "execution_count": 8,
     "metadata": {},
     "output_type": "execute_result"
    },
    {
     "data": {
      "text/plain": [
       "current loss = 1.6113053229101\t\n",
       "current loss = 1.6112751018063\t\n",
       "current loss = 1.6112448885782\t\n"
      ]
     },
     "execution_count": 8,
     "metadata": {},
     "output_type": "execute_result"
    },
    {
     "data": {
      "text/plain": [
       "current loss = 1.6112146832225\t\n",
       "current loss = 1.6111844857359\t\n",
       "current loss = 1.6111542961154\t\n"
      ]
     },
     "execution_count": 8,
     "metadata": {},
     "output_type": "execute_result"
    },
    {
     "data": {
      "text/plain": [
       "current loss = 1.6111241143578\t\n",
       "current loss = 1.6110939404598\t\n",
       "current loss = 1.6110637744184\t\n"
      ]
     },
     "execution_count": 8,
     "metadata": {},
     "output_type": "execute_result"
    },
    {
     "data": {
      "text/plain": [
       "current loss = 1.6110336162302\t\n",
       "current loss = 1.6110034658923\t\n",
       "current loss = 1.6109733234013\t\n",
       "current loss = 1.6109431887542\t\n"
      ]
     },
     "execution_count": 8,
     "metadata": {},
     "output_type": "execute_result"
    },
    {
     "data": {
      "text/plain": [
       "current loss = 1.6109130619477\t\n",
       "current loss = 1.6108829429787\t\n",
       "current loss = 1.6108528318441\t\n"
      ]
     },
     "execution_count": 8,
     "metadata": {},
     "output_type": "execute_result"
    },
    {
     "data": {
      "text/plain": [
       "current loss = 1.6108227285406\t\n",
       "current loss = 1.6107926330651\t\n",
       "current loss = 1.6107625454145\t\n",
       "current loss = 1.6107324655856\t\n"
      ]
     },
     "execution_count": 8,
     "metadata": {},
     "output_type": "execute_result"
    },
    {
     "data": {
      "text/plain": [
       "current loss = 1.6107023935752\t\n",
       "current loss = 1.6106723293802\t\n",
       "current loss = 1.6106422729975\t\n",
       "current loss = 1.6106122244239\t\n"
      ]
     },
     "execution_count": 8,
     "metadata": {},
     "output_type": "execute_result"
    },
    {
     "data": {
      "text/plain": [
       "current loss = 1.6105821836562\t\n",
       "current loss = 1.6105521506913\t\n",
       "current loss = 1.6105221255261\t\n",
       "current loss = 1.6104921081574\t\n",
       "current loss = 1.6104620985821\t\n"
      ]
     },
     "execution_count": 8,
     "metadata": {},
     "output_type": "execute_result"
    },
    {
     "data": {
      "text/plain": [
       "current loss = 1.610432096797\t\n",
       "current loss = 1.6104021027991\t\n",
       "current loss = 1.6103721165851\t\n",
       "current loss = 1.6103421381519\t\n"
      ]
     },
     "execution_count": 8,
     "metadata": {},
     "output_type": "execute_result"
    },
    {
     "data": {
      "text/plain": [
       "current loss = 1.6103121674964\t\n",
       "current loss = 1.6102822046156\t\n",
       "current loss = 1.6102522495061\t\n",
       "current loss = 1.610222302165\t\n"
      ]
     },
     "execution_count": 8,
     "metadata": {},
     "output_type": "execute_result"
    },
    {
     "data": {
      "text/plain": [
       "current loss = 1.6101923625891\t\n",
       "current loss = 1.6101624307752\t\n",
       "current loss = 1.6101325067203\t\n",
       "current loss = 1.6101025904213\t\n",
       "current loss = 1.6100726818749\t\n"
      ]
     },
     "execution_count": 8,
     "metadata": {},
     "output_type": "execute_result"
    },
    {
     "data": {
      "text/plain": [
       "current loss = 1.6100427810782\t\n",
       "current loss = 1.6100128880279\t\n",
       "current loss = 1.609983002721\t\n",
       "current loss = 1.6099531251544\t\n"
      ]
     },
     "execution_count": 8,
     "metadata": {},
     "output_type": "execute_result"
    },
    {
     "data": {
      "text/plain": [
       "current loss = 1.6099232553249\t\n",
       "current loss = 1.6098933932295\t\n",
       "current loss = 1.609863538865\t\n",
       "current loss = 1.6098336922283\t\n",
       "current loss = 1.6098038533164\t\n"
      ]
     },
     "execution_count": 8,
     "metadata": {},
     "output_type": "execute_result"
    },
    {
     "data": {
      "text/plain": [
       "current loss = 1.6097740221261\t\n",
       "current loss = 1.6097441986543\t\n",
       "current loss = 1.609714382898\t\n",
       "current loss = 1.609684574854\t\n"
      ]
     },
     "execution_count": 8,
     "metadata": {},
     "output_type": "execute_result"
    },
    {
     "data": {
      "text/plain": [
       "current loss = 1.6096547745192\t\n",
       "current loss = 1.6096249818906\t\n",
       "current loss = 1.6095951969651\t\n",
       "current loss = 1.6095654197395\t\n",
       "current loss = 1.6095356502108\t"
      ]
     },
     "execution_count": 8,
     "metadata": {},
     "output_type": "execute_result"
    },
    {
     "data": {
      "text/plain": [
       "\n",
       "current loss = 1.6095058883759\t\n",
       "current loss = 1.6094761342318\t\n",
       "current loss = 1.6094463877752\t\n",
       "current loss = 1.6094166490032\t\n"
      ]
     },
     "execution_count": 8,
     "metadata": {},
     "output_type": "execute_result"
    },
    {
     "data": {
      "text/plain": [
       "current loss = 1.6093869179127\t\n",
       "current loss = 1.6093571945006\t\n",
       "current loss = 1.6093274787638\t\n",
       "current loss = 1.6092977706992\t\n"
      ]
     },
     "execution_count": 8,
     "metadata": {},
     "output_type": "execute_result"
    },
    {
     "data": {
      "text/plain": [
       "current loss = 1.6092680703038\t\n",
       "current loss = 1.6092383775745\t\n",
       "current loss = 1.6092086925083\t\n",
       "current loss = 1.609179015102\t\n",
       "current loss = 1.6091493453526\t\n"
      ]
     },
     "execution_count": 8,
     "metadata": {},
     "output_type": "execute_result"
    },
    {
     "data": {
      "text/plain": [
       "current loss = 1.6091196832571\t\n",
       "current loss = 1.6090900288123\t\n",
       "current loss = 1.6090603820152\t\n",
       "current loss = 1.6090307428628\t\n"
      ]
     },
     "execution_count": 8,
     "metadata": {},
     "output_type": "execute_result"
    },
    {
     "data": {
      "text/plain": [
       "current loss = 1.609001111352\t\n",
       "current loss = 1.6089714874798\t\n",
       "current loss = 1.608941871243\t\n",
       "current loss = 1.6089122626386\t\n",
       "current loss = 1.6088826616637\t\n"
      ]
     },
     "execution_count": 8,
     "metadata": {},
     "output_type": "execute_result"
    },
    {
     "data": {
      "text/plain": [
       "current loss = 1.608853068315\t\n",
       "current loss = 1.6088234825897\t\n",
       "current loss = 1.6087939044846\t\n",
       "current loss = 1.6087643339967\t\n"
      ]
     },
     "execution_count": 8,
     "metadata": {},
     "output_type": "execute_result"
    },
    {
     "data": {
      "text/plain": [
       "current loss = 1.6087347711229\t\n",
       "current loss = 1.6087052158603\t\n",
       "current loss = 1.6086756682057\t\n",
       "current loss = 1.6086461281562\t\n"
      ]
     },
     "execution_count": 8,
     "metadata": {},
     "output_type": "execute_result"
    },
    {
     "data": {
      "text/plain": [
       "current loss = 1.6086165957087\t\n",
       "current loss = 1.6085870708601\t\n",
       "current loss = 1.6085575536075\t\n",
       "current loss = 1.6085280439478\t\n",
       "current loss = 1.6084985418779\t\n"
      ]
     },
     "execution_count": 8,
     "metadata": {},
     "output_type": "execute_result"
    },
    {
     "data": {
      "text/plain": [
       "current loss = 1.6084690473949\t\n",
       "current loss = 1.6084395604958\t\n",
       "current loss = 1.6084100811774\t\n",
       "current loss = 1.6083806094368\t\n"
      ]
     },
     "execution_count": 8,
     "metadata": {},
     "output_type": "execute_result"
    },
    {
     "data": {
      "text/plain": [
       "current loss = 1.6083511452709\t\n",
       "current loss = 1.6083216886768\t\n",
       "current loss = 1.6082922396514\t\n",
       "current loss = 1.6082627981916\t\n"
      ]
     },
     "execution_count": 8,
     "metadata": {},
     "output_type": "execute_result"
    },
    {
     "data": {
      "text/plain": [
       "current loss = 1.6082333642946\t\n",
       "current loss = 1.6082039379572\t\n",
       "current loss = 1.6081745191765\t\n",
       "current loss = 1.6081451079495\t\n"
      ]
     },
     "execution_count": 8,
     "metadata": {},
     "output_type": "execute_result"
    },
    {
     "data": {
      "text/plain": [
       "current loss = 1.6081157042731\t\n",
       "current loss = 1.6080863081443\t\n",
       "current loss = 1.6080569195602\t\n",
       "current loss = 1.6080275385176\t\n"
      ]
     },
     "execution_count": 8,
     "metadata": {},
     "output_type": "execute_result"
    },
    {
     "data": {
      "text/plain": [
       "current loss = 1.6079981650137\t\n",
       "current loss = 1.6079687990455\t\n",
       "current loss = 1.6079394406098\t\n",
       "current loss = 1.6079100897038\t\n",
       "current loss = 1.6078807463244\t\n"
      ]
     },
     "execution_count": 8,
     "metadata": {},
     "output_type": "execute_result"
    },
    {
     "data": {
      "text/plain": [
       "current loss = 1.6078514104687\t\n",
       "current loss = 1.6078220821336\t\n",
       "current loss = 1.6077927613161\t\n",
       "current loss = 1.6077634480134\t\n"
      ]
     },
     "execution_count": 8,
     "metadata": {},
     "output_type": "execute_result"
    },
    {
     "data": {
      "text/plain": [
       "current loss = 1.6077341422223\t\n",
       "current loss = 1.6077048439399\t\n",
       "current loss = 1.6076755531632\t\n",
       "current loss = 1.6076462698893\t\n"
      ]
     },
     "execution_count": 8,
     "metadata": {},
     "output_type": "execute_result"
    },
    {
     "data": {
      "text/plain": [
       "current loss = 1.6076169941151\t\n",
       "current loss = 1.6075877258376\t\n",
       "current loss = 1.607558465054\t\n",
       "current loss = 1.6075292117612\t\n"
      ]
     },
     "execution_count": 8,
     "metadata": {},
     "output_type": "execute_result"
    },
    {
     "data": {
      "text/plain": [
       "current loss = 1.6074999659562\t\n",
       "current loss = 1.6074707276361\t\n",
       "current loss = 1.6074414967979\t\n",
       "current loss = 1.6074122734387\t\n"
      ]
     },
     "execution_count": 8,
     "metadata": {},
     "output_type": "execute_result"
    },
    {
     "data": {
      "text/plain": [
       "current loss = 1.6073830575553\t\n",
       "current loss = 1.607353849145\t\n",
       "current loss = 1.6073246482047\t\n",
       "current loss = 1.6072954547315\t\n"
      ]
     },
     "execution_count": 8,
     "metadata": {},
     "output_type": "execute_result"
    },
    {
     "data": {
      "text/plain": [
       "current loss = 1.6072662687224\t\n",
       "current loss = 1.6072370901745\t\n",
       "current loss = 1.6072079190847\t\n",
       "current loss = 1.6071787554501\t\n",
       "current loss = 1.6071495992679\t\n"
      ]
     },
     "execution_count": 8,
     "metadata": {},
     "output_type": "execute_result"
    },
    {
     "data": {
      "text/plain": [
       "current loss = 1.6071204505349\t\n",
       "current loss = 1.6070913092483\t\n",
       "current loss = 1.6070621754052\t\n"
      ]
     },
     "execution_count": 8,
     "metadata": {},
     "output_type": "execute_result"
    },
    {
     "data": {
      "text/plain": [
       "current loss = 1.6070330490025\t\n",
       "current loss = 1.6070039300373\t\n",
       "current loss = 1.6069748185068\t\n",
       "current loss = 1.6069457144078\t\n",
       "current loss = 1.6069166177376\t\n"
      ]
     },
     "execution_count": 8,
     "metadata": {},
     "output_type": "execute_result"
    },
    {
     "data": {
      "text/plain": [
       "current loss = 1.6068875284931\t\n",
       "current loss = 1.6068584466714\t\n",
       "current loss = 1.6068293722696\t\n",
       "current loss = 1.6068003052847\t\n"
      ]
     },
     "execution_count": 8,
     "metadata": {},
     "output_type": "execute_result"
    },
    {
     "data": {
      "text/plain": [
       "current loss = 1.6067712457138\t\n",
       "current loss = 1.606742193554\t\n",
       "current loss = 1.6067131488023\t\n",
       "current loss = 1.6066841114559\t\n"
      ]
     },
     "execution_count": 8,
     "metadata": {},
     "output_type": "execute_result"
    },
    {
     "data": {
      "text/plain": [
       "current loss = 1.6066550815117\t\n",
       "current loss = 1.6066260589669\t\n",
       "current loss = 1.6065970438185\t\n",
       "current loss = 1.6065680360636\t\n"
      ]
     },
     "execution_count": 8,
     "metadata": {},
     "output_type": "execute_result"
    },
    {
     "data": {
      "text/plain": [
       "current loss = 1.6065390356993\t\n",
       "current loss = 1.6065100427226\t\n",
       "current loss = 1.6064810571308\t\n",
       "current loss = 1.6064520789207\t\n"
      ]
     },
     "execution_count": 8,
     "metadata": {},
     "output_type": "execute_result"
    },
    {
     "data": {
      "text/plain": [
       "current loss = 1.6064231080895\t\n",
       "current loss = 1.6063941446344\t\n",
       "current loss = 1.6063651885523\t\n",
       "current loss = 1.6063362398404\t\n",
       "current loss = 1.6063072984957\t\n"
      ]
     },
     "execution_count": 8,
     "metadata": {},
     "output_type": "execute_result"
    },
    {
     "data": {
      "text/plain": [
       "current loss = 1.6062783645154\t\n",
       "current loss = 1.6062494378966\t\n",
       "current loss = 1.6062205186363\t\n",
       "current loss = 1.6061916067316\t\n"
      ]
     },
     "execution_count": 8,
     "metadata": {},
     "output_type": "execute_result"
    },
    {
     "data": {
      "text/plain": [
       "current loss = 1.6061627021797\t\n",
       "current loss = 1.6061338049776\t\n",
       "current loss = 1.6061049151225\t\n",
       "current loss = 1.6060760326114\t\n"
      ]
     },
     "execution_count": 8,
     "metadata": {},
     "output_type": "execute_result"
    },
    {
     "data": {
      "text/plain": [
       "current loss = 1.6060471574414\t\n"
      ]
     },
     "execution_count": 8,
     "metadata": {},
     "output_type": "execute_result"
    },
    {
     "data": {
      "text/plain": [
       "current loss = 1.6060182896097\t\n",
       "current loss = 1.6059894291134\t\n",
       "current loss = 1.6059605759496\t\n",
       "current loss = 1.6059317301153\t\n"
      ]
     },
     "execution_count": 8,
     "metadata": {},
     "output_type": "execute_result"
    },
    {
     "data": {
      "text/plain": [
       "current loss = 1.6059028916077\t\n",
       "current loss = 1.6058740604239\t\n",
       "current loss = 1.605845236561\t\n"
      ]
     },
     "execution_count": 8,
     "metadata": {},
     "output_type": "execute_result"
    },
    {
     "data": {
      "text/plain": [
       "current loss = 1.6058164200162\t\n",
       "current loss = 1.6057876107865\t\n",
       "current loss = 1.6057588088691\t\n",
       "current loss = 1.6057300142612\t\n"
      ]
     },
     "execution_count": 8,
     "metadata": {},
     "output_type": "execute_result"
    },
    {
     "data": {
      "text/plain": [
       "current loss = 1.6057012269597\t\n",
       "current loss = 1.6056724469619\t\n",
       "current loss = 1.6056436742648\t\n",
       "current loss = 1.6056149088657\t\n"
      ]
     },
     "execution_count": 8,
     "metadata": {},
     "output_type": "execute_result"
    },
    {
     "data": {
      "text/plain": [
       "current loss = 1.6055861507615\t\n",
       "current loss = 1.6055573999496\t\n",
       "current loss = 1.6055286564269\t\n"
      ]
     },
     "execution_count": 8,
     "metadata": {},
     "output_type": "execute_result"
    },
    {
     "data": {
      "text/plain": [
       "current loss = 1.6054999201906\t\n",
       "current loss = 1.6054711912379\t\n",
       "current loss = 1.6054424695659\t\n"
      ]
     },
     "execution_count": 8,
     "metadata": {},
     "output_type": "execute_result"
    },
    {
     "data": {
      "text/plain": [
       "current loss = 1.6054137551718\t\n",
       "current loss = 1.6053850480526\t\n",
       "current loss = 1.6053563482055\t\n"
      ]
     },
     "execution_count": 8,
     "metadata": {},
     "output_type": "execute_result"
    },
    {
     "data": {
      "text/plain": [
       "current loss = 1.6053276556277\t\n",
       "current loss = 1.6052989703163\t\n",
       "current loss = 1.6052702922684\t\n"
      ]
     },
     "execution_count": 8,
     "metadata": {},
     "output_type": "execute_result"
    },
    {
     "data": {
      "text/plain": [
       "current loss = 1.6052416214813\t\n",
       "current loss = 1.605212957952\t\n",
       "current loss = 1.6051843016776\t\n",
       "current loss = 1.6051556526555\t\n"
      ]
     },
     "execution_count": 8,
     "metadata": {},
     "output_type": "execute_result"
    },
    {
     "data": {
      "text/plain": [
       "current loss = 1.6051270108826\t\n",
       "current loss = 1.6050983763562\t\n",
       "current loss = 1.6050697490734\t\n"
      ]
     },
     "execution_count": 8,
     "metadata": {},
     "output_type": "execute_result"
    },
    {
     "data": {
      "text/plain": [
       "current loss = 1.6050411290313\t\n",
       "current loss = 1.6050125162272\t\n",
       "current loss = 1.6049839106582\t\n"
      ]
     },
     "execution_count": 8,
     "metadata": {},
     "output_type": "execute_result"
    },
    {
     "data": {
      "text/plain": [
       "current loss = 1.6049553123215\t\n",
       "current loss = 1.6049267212141\t\n",
       "current loss = 1.6048981373334\t\n"
      ]
     },
     "execution_count": 8,
     "metadata": {},
     "output_type": "execute_result"
    },
    {
     "data": {
      "text/plain": [
       "current loss = 1.6048695606763\t\n",
       "current loss = 1.6048409912403\t\n",
       "current loss = 1.6048124290223\t\n",
       "current loss = 1.6047838740195\t\n"
      ]
     },
     "execution_count": 8,
     "metadata": {},
     "output_type": "execute_result"
    },
    {
     "data": {
      "text/plain": [
       "current loss = 1.6047553262292\t\n",
       "current loss = 1.6047267856485\t\n"
      ]
     },
     "execution_count": 8,
     "metadata": {},
     "output_type": "execute_result"
    },
    {
     "data": {
      "text/plain": [
       "current loss = 1.6046982522746\t\n",
       "current loss = 1.6046697261046\t\n",
       "current loss = 1.6046412071358\t\n",
       "current loss = 1.6046126953653\t\n"
      ]
     },
     "execution_count": 8,
     "metadata": {},
     "output_type": "execute_result"
    },
    {
     "data": {
      "text/plain": [
       "current loss = 1.6045841907904\t\n",
       "current loss = 1.6045556934081\t\n",
       "current loss = 1.6045272032156\t\n"
      ]
     },
     "execution_count": 8,
     "metadata": {},
     "output_type": "execute_result"
    },
    {
     "data": {
      "text/plain": [
       "current loss = 1.6044987202103\t\n",
       "current loss = 1.6044702443891\t\n",
       "current loss = 1.6044417757495\t\n",
       "current loss = 1.6044133142884\t\n"
      ]
     },
     "execution_count": 8,
     "metadata": {},
     "output_type": "execute_result"
    },
    {
     "data": {
      "text/plain": [
       "current loss = 1.6043848600032\t\n",
       "current loss = 1.6043564128909\t\n",
       "current loss = 1.6043279729489\t\n"
      ]
     },
     "execution_count": 8,
     "metadata": {},
     "output_type": "execute_result"
    },
    {
     "data": {
      "text/plain": [
       "current loss = 1.6042995401743\t\n",
       "current loss = 1.6042711145643\t\n"
      ]
     },
     "execution_count": 8,
     "metadata": {},
     "output_type": "execute_result"
    },
    {
     "data": {
      "text/plain": [
       "current loss = 1.6042426961161\t\n",
       "current loss = 1.6042142848269\t\n",
       "current loss = 1.6041858806939\t\n",
       "current loss = 1.6041574837143\t\n"
      ]
     },
     "execution_count": 8,
     "metadata": {},
     "output_type": "execute_result"
    },
    {
     "data": {
      "text/plain": [
       "current loss = 1.6041290938854\t\n",
       "current loss = 1.6041007112043\t\n",
       "current loss = 1.6040723356682\t\n"
      ]
     },
     "execution_count": 8,
     "metadata": {},
     "output_type": "execute_result"
    },
    {
     "data": {
      "text/plain": [
       "current loss = 1.6040439672743\t\n",
       "current loss = 1.6040156060199\t\n",
       "current loss = 1.6039872519022\t\n",
       "current loss = 1.6039589049184\t\n"
      ]
     },
     "execution_count": 8,
     "metadata": {},
     "output_type": "execute_result"
    },
    {
     "data": {
      "text/plain": [
       "current loss = 1.6039305650657\t\n",
       "current loss = 1.6039022323413\t\n",
       "current loss = 1.6038739067424\t\n"
      ]
     },
     "execution_count": 8,
     "metadata": {},
     "output_type": "execute_result"
    },
    {
     "data": {
      "text/plain": [
       "current loss = 1.6038455882663\t\n",
       "current loss = 1.6038172769101\t\n",
       "current loss = 1.6037889726712\t\n"
      ]
     },
     "execution_count": 8,
     "metadata": {},
     "output_type": "execute_result"
    },
    {
     "data": {
      "text/plain": [
       "current loss = 1.6037606755467\t\n",
       "current loss = 1.6037323855339\t\n",
       "current loss = 1.6037041026299\t\n",
       "current loss = 1.6036758268321\t\n"
      ]
     },
     "execution_count": 8,
     "metadata": {},
     "output_type": "execute_result"
    },
    {
     "data": {
      "text/plain": [
       "current loss = 1.6036475581376\t\n",
       "current loss = 1.6036192965437\t\n",
       "current loss = 1.6035910420476\t\n"
      ]
     },
     "execution_count": 8,
     "metadata": {},
     "output_type": "execute_result"
    },
    {
     "data": {
      "text/plain": [
       "current loss = 1.6035627946465\t\n",
       "current loss = 1.6035345543377\t\n",
       "current loss = 1.6035063211185\t\n"
      ]
     },
     "execution_count": 8,
     "metadata": {},
     "output_type": "execute_result"
    },
    {
     "data": {
      "text/plain": [
       "current loss = 1.603478094986\t\n",
       "current loss = 1.6034498759375\t\n",
       "current loss = 1.6034216639703\t\n",
       "current loss = 1.6033934590815\t\n"
      ]
     },
     "execution_count": 8,
     "metadata": {},
     "output_type": "execute_result"
    },
    {
     "data": {
      "text/plain": [
       "current loss = 1.6033652612685\t\n",
       "current loss = 1.6033370705284\t\n",
       "current loss = 1.6033088868586\t\n"
      ]
     },
     "execution_count": 8,
     "metadata": {},
     "output_type": "execute_result"
    },
    {
     "data": {
      "text/plain": [
       "current loss = 1.6032807102563\t\n",
       "current loss = 1.6032525407187\t\n",
       "current loss = 1.6032243782431\t\n",
       "current loss = 1.6031962228267\t\n"
      ]
     },
     "execution_count": 8,
     "metadata": {},
     "output_type": "execute_result"
    },
    {
     "data": {
      "text/plain": [
       "current loss = 1.6031680744668\t\n",
       "current loss = 1.6031399331607\t\n",
       "current loss = 1.6031117989055\t\n"
      ]
     },
     "execution_count": 8,
     "metadata": {},
     "output_type": "execute_result"
    },
    {
     "data": {
      "text/plain": [
       "current loss = 1.6030836716987\t\n",
       "current loss = 1.6030555515373\t\n"
      ]
     },
     "execution_count": 8,
     "metadata": {},
     "output_type": "execute_result"
    },
    {
     "data": {
      "text/plain": [
       "current loss = 1.6030274384188\t\n",
       "current loss = 1.6029993323403\t\n"
      ]
     },
     "execution_count": 8,
     "metadata": {},
     "output_type": "execute_result"
    },
    {
     "data": {
      "text/plain": [
       "current loss = 1.6029712332992\t\n"
      ]
     },
     "execution_count": 8,
     "metadata": {},
     "output_type": "execute_result"
    },
    {
     "data": {
      "text/plain": [
       "current loss = 1.6029431412926\t\n"
      ]
     },
     "execution_count": 8,
     "metadata": {},
     "output_type": "execute_result"
    },
    {
     "data": {
      "text/plain": [
       "current loss = 1.6029150563179\t\n",
       "current loss = 1.6028869783723\t\n"
      ]
     },
     "execution_count": 8,
     "metadata": {},
     "output_type": "execute_result"
    },
    {
     "data": {
      "text/plain": [
       "current loss = 1.6028589074532\t\n",
       "current loss = 1.6028308435577\t\n",
       "current loss = 1.6028027866831\t\n",
       "current loss = 1.6027747368268\t\n"
      ]
     },
     "execution_count": 8,
     "metadata": {},
     "output_type": "execute_result"
    },
    {
     "data": {
      "text/plain": [
       "current loss = 1.602746693986\t\n",
       "current loss = 1.6027186581579\t\n",
       "current loss = 1.6026906293399\t\n"
      ]
     },
     "execution_count": 8,
     "metadata": {},
     "output_type": "execute_result"
    },
    {
     "data": {
      "text/plain": [
       "current loss = 1.6026626075293\t\n",
       "current loss = 1.6026345927233\t\n",
       "current loss = 1.6026065849192\t\n",
       "current loss = 1.6025785841142\t\n"
      ]
     },
     "execution_count": 8,
     "metadata": {},
     "output_type": "execute_result"
    },
    {
     "data": {
      "text/plain": [
       "current loss = 1.6025505903058\t\n",
       "current loss = 1.6025226034911\t\n",
       "current loss = 1.6024946236675\t\n"
      ]
     },
     "execution_count": 8,
     "metadata": {},
     "output_type": "execute_result"
    },
    {
     "data": {
      "text/plain": [
       "current loss = 1.6024666508323\t\n",
       "current loss = 1.6024386849827\t\n",
       "current loss = 1.602410726116\t\n"
      ]
     },
     "execution_count": 8,
     "metadata": {},
     "output_type": "execute_result"
    },
    {
     "data": {
      "text/plain": [
       "current loss = 1.6023827742296\t\n",
       "current loss = 1.6023548293207\t\n",
       "current loss = 1.6023268913866\t\n",
       "current loss = 1.6022989604247\t\n"
      ]
     },
     "execution_count": 8,
     "metadata": {},
     "output_type": "execute_result"
    },
    {
     "data": {
      "text/plain": [
       "current loss = 1.6022710364322\t\n",
       "current loss = 1.6022431194064\t\n",
       "current loss = 1.6022152093447\t\n"
      ]
     },
     "execution_count": 8,
     "metadata": {},
     "output_type": "execute_result"
    },
    {
     "data": {
      "text/plain": [
       "current loss = 1.6021873062443\t\n",
       "current loss = 1.6021594101026\t\n",
       "current loss = 1.6021315209169\t\n",
       "current loss = 1.6021036386844\t\n",
       "current loss = 1.6020757634025\t\n"
      ]
     },
     "execution_count": 8,
     "metadata": {},
     "output_type": "execute_result"
    },
    {
     "data": {
      "text/plain": [
       "current loss = 1.6020478950684\t\n",
       "current loss = 1.6020200336796\t\n",
       "current loss = 1.6019921792334\t\n",
       "current loss = 1.6019643317269\t\n"
      ]
     },
     "execution_count": 8,
     "metadata": {},
     "output_type": "execute_result"
    },
    {
     "data": {
      "text/plain": [
       "current loss = 1.6019364911577\t\n",
       "current loss = 1.6019086575229\t\n",
       "current loss = 1.6018808308199\t\n",
       "current loss = 1.601853011046\t\n",
       "current loss = 1.6018251981986\t\n"
      ]
     },
     "execution_count": 8,
     "metadata": {},
     "output_type": "execute_result"
    },
    {
     "data": {
      "text/plain": [
       "current loss = 1.601797392275\t\n",
       "current loss = 1.6017695932724\t\n",
       "current loss = 1.6017418011883\t\n"
      ]
     },
     "execution_count": 8,
     "metadata": {},
     "output_type": "execute_result"
    },
    {
     "data": {
      "text/plain": [
       "current loss = 1.60171401602\t\n",
       "current loss = 1.6016862377647\t\n",
       "current loss = 1.6016584664198\t\n",
       "current loss = 1.6016307019828\t\n",
       "current loss = 1.6016029444508\t\n"
      ]
     },
     "execution_count": 8,
     "metadata": {},
     "output_type": "execute_result"
    },
    {
     "data": {
      "text/plain": [
       "current loss = 1.6015751938212\t\n",
       "current loss = 1.6015474500914\t\n",
       "current loss = 1.6015197132587\t\n",
       "current loss = 1.6014919833205\t\n"
      ]
     },
     "execution_count": 8,
     "metadata": {},
     "output_type": "execute_result"
    },
    {
     "data": {
      "text/plain": [
       "current loss = 1.601464260274\t\n",
       "current loss = 1.6014365441167\t\n",
       "current loss = 1.6014088348458\t\n",
       "current loss = 1.6013811324588\t\n",
       "current loss = 1.6013534369529\t\n"
      ]
     },
     "execution_count": 8,
     "metadata": {},
     "output_type": "execute_result"
    },
    {
     "data": {
      "text/plain": [
       "current loss = 1.6013257483256\t\n",
       "current loss = 1.6012980665741\t\n",
       "current loss = 1.6012703916959\t\n"
      ]
     },
     "execution_count": 8,
     "metadata": {},
     "output_type": "execute_result"
    },
    {
     "data": {
      "text/plain": [
       "current loss = 1.6012427236882\t\n",
       "current loss = 1.6012150625485\t\n",
       "current loss = 1.601187408274\t\n",
       "current loss = 1.6011597608622\t\n"
      ]
     },
     "execution_count": 8,
     "metadata": {},
     "output_type": "execute_result"
    },
    {
     "data": {
      "text/plain": [
       "current loss = 1.6011321203104\t\n",
       "current loss = 1.601104486616\t\n",
       "current loss = 1.6010768597763\t\n",
       "current loss = 1.6010492397887\t\n"
      ]
     },
     "execution_count": 8,
     "metadata": {},
     "output_type": "execute_result"
    },
    {
     "data": {
      "text/plain": [
       "current loss = 1.6010216266505\t\n",
       "current loss = 1.6009940203591\t\n",
       "current loss = 1.600966420912\t\n",
       "current loss = 1.6009388283063\t\n",
       "current loss = 1.6009112425396\t\n"
      ]
     },
     "execution_count": 8,
     "metadata": {},
     "output_type": "execute_result"
    },
    {
     "data": {
      "text/plain": [
       "current loss = 1.6008836636092\t\n",
       "current loss = 1.6008560915125\t\n",
       "current loss = 1.6008285262468\t\n",
       "current loss = 1.6008009678095\t\n"
      ]
     },
     "execution_count": 8,
     "metadata": {},
     "output_type": "execute_result"
    },
    {
     "data": {
      "text/plain": [
       "current loss = 1.600773416198\t\n",
       "current loss = 1.6007458714097\t\n",
       "current loss = 1.6007183334419\t\n",
       "current loss = 1.6006908022921\t\n",
       "current loss = 1.6006632779576\t\n"
      ]
     },
     "execution_count": 8,
     "metadata": {},
     "output_type": "execute_result"
    },
    {
     "data": {
      "text/plain": [
       "current loss = 1.6006357604357\t\n",
       "current loss = 1.600608249724\t\n",
       "current loss = 1.6005807458197\t\n",
       "current loss = 1.6005532487203\t\n"
      ]
     },
     "execution_count": 8,
     "metadata": {},
     "output_type": "execute_result"
    },
    {
     "data": {
      "text/plain": [
       "current loss = 1.6005257584231\t\n",
       "current loss = 1.6004982749255\t\n",
       "current loss = 1.600470798225\t\n",
       "current loss = 1.6004433283189\t\n"
      ]
     },
     "execution_count": 8,
     "metadata": {},
     "output_type": "execute_result"
    },
    {
     "data": {
      "text/plain": [
       "current loss = 1.6004158652046\t\n",
       "current loss = 1.6003884088795\t\n",
       "current loss = 1.6003609593411\t\n",
       "current loss = 1.6003335165866\t\n"
      ]
     },
     "execution_count": 8,
     "metadata": {},
     "output_type": "execute_result"
    },
    {
     "data": {
      "text/plain": [
       "current loss = 1.6003060806135\t\n",
       "current loss = 1.6002786514193\t\n",
       "current loss = 1.6002512290012\t\n",
       "current loss = 1.6002238133567\t\n",
       "current loss = 1.6001964044833\t\n"
      ]
     },
     "execution_count": 8,
     "metadata": {},
     "output_type": "execute_result"
    },
    {
     "data": {
      "text/plain": [
       "current loss = 1.6001690023783\t\n",
       "current loss = 1.6001416070391\t\n",
       "current loss = 1.6001142184632\t\n",
       "current loss = 1.6000868366479\t\n"
      ]
     },
     "execution_count": 8,
     "metadata": {},
     "output_type": "execute_result"
    },
    {
     "data": {
      "text/plain": [
       "current loss = 1.6000594615907\t\n",
       "current loss = 1.6000320932889\t\n",
       "current loss = 1.6000047317401\t\n",
       "current loss = 1.5999773769415\t\n"
      ]
     },
     "execution_count": 8,
     "metadata": {},
     "output_type": "execute_result"
    },
    {
     "data": {
      "text/plain": [
       "current loss = 1.5999500288907\t\n",
       "current loss = 1.599922687585\t\n",
       "current loss = 1.5998953530219\t\n",
       "current loss = 1.5998680251988\t\n"
      ]
     },
     "execution_count": 8,
     "metadata": {},
     "output_type": "execute_result"
    },
    {
     "data": {
      "text/plain": [
       "current loss = 1.599840704113\t\n",
       "current loss = 1.5998133897621\t\n",
       "current loss = 1.5997860821435\t\n"
      ]
     },
     "execution_count": 8,
     "metadata": {},
     "output_type": "execute_result"
    },
    {
     "data": {
      "text/plain": [
       "current loss = 1.5997587812545\t\n",
       "current loss = 1.5997314870927\t\n",
       "current loss = 1.5997041996554\t\n",
       "current loss = 1.59967691894\t\n",
       "current loss = 1.5996496449441\t\n"
      ]
     },
     "execution_count": 8,
     "metadata": {},
     "output_type": "execute_result"
    },
    {
     "data": {
      "text/plain": [
       "current loss = 1.599622377665\t\n",
       "current loss = 1.5995951171002\t\n",
       "current loss = 1.599567863247\t\n",
       "current loss = 1.5995406161031\t\n"
      ]
     },
     "execution_count": 8,
     "metadata": {},
     "output_type": "execute_result"
    },
    {
     "data": {
      "text/plain": [
       "current loss = 1.5995133756657\t\n",
       "current loss = 1.5994861419323\t\n",
       "current loss = 1.5994589149004\t\n",
       "current loss = 1.5994316945673\t\n"
      ]
     },
     "execution_count": 8,
     "metadata": {},
     "output_type": "execute_result"
    },
    {
     "data": {
      "text/plain": [
       "current loss = 1.5994044809307\t\n",
       "current loss = 1.5993772739878\t\n",
       "current loss = 1.5993500737362\t\n",
       "current loss = 1.5993228801733\t\n",
       "current loss = 1.5992956932965\t\n"
      ]
     },
     "execution_count": 8,
     "metadata": {},
     "output_type": "execute_result"
    },
    {
     "data": {
      "text/plain": [
       "current loss = 1.5992685131033\t\n",
       "current loss = 1.5992413395911\t\n",
       "current loss = 1.5992141727574\t\n",
       "current loss = 1.5991870125997\t\n"
      ]
     },
     "execution_count": 8,
     "metadata": {},
     "output_type": "execute_result"
    },
    {
     "data": {
      "text/plain": [
       "current loss = 1.5991598591154\t\n",
       "current loss = 1.5991327123019\t\n",
       "current loss = 1.5991055721568\t\n",
       "current loss = 1.5990784386774\t\n"
      ]
     },
     "execution_count": 8,
     "metadata": {},
     "output_type": "execute_result"
    },
    {
     "data": {
      "text/plain": [
       "current loss = 1.5990513118613\t\n",
       "current loss = 1.5990241917059\t\n",
       "current loss = 1.5989970782087\t\n",
       "current loss = 1.5989699713671\t\n"
      ]
     },
     "execution_count": 8,
     "metadata": {},
     "output_type": "execute_result"
    },
    {
     "data": {
      "text/plain": [
       "current loss = 1.5989428711786\t\n",
       "current loss = 1.5989157776406\t\n",
       "current loss = 1.5988886907507\t\n",
       "current loss = 1.5988616105063\t\n"
      ]
     },
     "execution_count": 8,
     "metadata": {},
     "output_type": "execute_result"
    },
    {
     "data": {
      "text/plain": [
       "current loss = 1.5988345369049\t\n",
       "current loss = 1.5988074699439\t\n",
       "current loss = 1.5987804096208\t\n",
       "current loss = 1.5987533559332\t\n"
      ]
     },
     "execution_count": 8,
     "metadata": {},
     "output_type": "execute_result"
    },
    {
     "data": {
      "text/plain": [
       "current loss = 1.5987263088784\t\n",
       "current loss = 1.598699268454\t\n",
       "current loss = 1.5986722346574\t\n",
       "current loss = 1.5986452074861\t\n",
       "current loss = 1.5986181869376\t\n"
      ]
     },
     "execution_count": 8,
     "metadata": {},
     "output_type": "execute_result"
    },
    {
     "data": {
      "text/plain": [
       "current loss = 1.5985911730094\t\n",
       "current loss = 1.598564165699\t\n",
       "current loss = 1.5985371650038\t\n",
       "current loss = 1.5985101709214\t\n"
      ]
     },
     "execution_count": 8,
     "metadata": {},
     "output_type": "execute_result"
    },
    {
     "data": {
      "text/plain": [
       "current loss = 1.5984831834491\t\n",
       "current loss = 1.5984562025846\t\n",
       "current loss = 1.5984292283253\t\n",
       "current loss = 1.5984022606687\t\n"
      ]
     },
     "execution_count": 8,
     "metadata": {},
     "output_type": "execute_result"
    },
    {
     "data": {
      "text/plain": [
       "current loss = 1.5983752996123\t\n",
       "current loss = 1.5983483451536\t\n",
       "current loss = 1.59832139729\t\n"
      ]
     },
     "execution_count": 8,
     "metadata": {},
     "output_type": "execute_result"
    },
    {
     "data": {
      "text/plain": [
       "current loss = 1.5982944560192\t\n",
       "current loss = 1.5982675213385\t\n",
       "current loss = 1.5982405932455\t\n",
       "current loss = 1.5982136717376\t\n"
      ]
     },
     "execution_count": 8,
     "metadata": {},
     "output_type": "execute_result"
    },
    {
     "data": {
      "text/plain": [
       "current loss = 1.5981867568125\t\n",
       "current loss = 1.5981598484675\t\n",
       "current loss = 1.5981329467003\t\n",
       "current loss = 1.5981060515082\t\n"
      ]
     },
     "execution_count": 8,
     "metadata": {},
     "output_type": "execute_result"
    },
    {
     "data": {
      "text/plain": [
       "current loss = 1.5980791628889\t\n",
       "current loss = 1.5980522808397\t\n",
       "current loss = 1.5980254053583\t\n",
       "current loss = 1.5979985364422\t\n"
      ]
     },
     "execution_count": 8,
     "metadata": {},
     "output_type": "execute_result"
    },
    {
     "data": {
      "text/plain": [
       "current loss = 1.5979716740887\t\n",
       "current loss = 1.5979448182956\t\n",
       "current loss = 1.5979179690602\t\n",
       "current loss = 1.5978911263801\t\n",
       "current loss = 1.5978642902528\t\n"
      ]
     },
     "execution_count": 8,
     "metadata": {},
     "output_type": "execute_result"
    },
    {
     "data": {
      "text/plain": [
       "current loss = 1.5978374606759\t\n"
      ]
     },
     "execution_count": 8,
     "metadata": {},
     "output_type": "execute_result"
    },
    {
     "data": {
      "text/plain": [
       "current loss = 1.5978106376468\t\n",
       "current loss = 1.5977838211631\t\n",
       "current loss = 1.5977570112223\t\n"
      ]
     },
     "execution_count": 8,
     "metadata": {},
     "output_type": "execute_result"
    },
    {
     "data": {
      "text/plain": [
       "current loss = 1.597730207822\t\n",
       "current loss = 1.5977034109595\t\n",
       "current loss = 1.5976766206326\t\n"
      ]
     },
     "execution_count": 8,
     "metadata": {},
     "output_type": "execute_result"
    },
    {
     "data": {
      "text/plain": [
       "current loss = 1.5976498368386\t\n",
       "current loss = 1.5976230595752\t\n",
       "current loss = 1.5975962888399\t\n",
       "current loss = 1.5975695246301\t\n"
      ]
     },
     "execution_count": 8,
     "metadata": {},
     "output_type": "execute_result"
    },
    {
     "data": {
      "text/plain": [
       "current loss = 1.5975427669435\t\n",
       "current loss = 1.5975160157776\t\n",
       "current loss = 1.5974892711298\t\n"
      ]
     },
     "execution_count": 8,
     "metadata": {},
     "output_type": "execute_result"
    },
    {
     "data": {
      "text/plain": [
       "current loss = 1.5974625329978\t\n",
       "current loss = 1.5974358013791\t\n",
       "current loss = 1.5974090762712\t\n",
       "current loss = 1.5973823576716\t\n"
      ]
     },
     "execution_count": 8,
     "metadata": {},
     "output_type": "execute_result"
    },
    {
     "data": {
      "text/plain": [
       "current loss = 1.5973556455779\t\n",
       "current loss = 1.5973289399877\t\n",
       "current loss = 1.5973022408985\t\n"
      ]
     },
     "execution_count": 8,
     "metadata": {},
     "output_type": "execute_result"
    },
    {
     "data": {
      "text/plain": [
       "current loss = 1.5972755483077\t\n",
       "current loss = 1.5972488622131\t\n",
       "current loss = 1.5972221826121\t\n"
      ]
     },
     "execution_count": 8,
     "metadata": {},
     "output_type": "execute_result"
    },
    {
     "data": {
      "text/plain": [
       "current loss = 1.5971955095023\t\n",
       "current loss = 1.5971688428812\t\n",
       "current loss = 1.5971421827464\t\n",
       "current loss = 1.5971155290954\t\n"
      ]
     },
     "execution_count": 8,
     "metadata": {},
     "output_type": "execute_result"
    },
    {
     "data": {
      "text/plain": [
       "current loss = 1.5970888819258\t\n",
       "current loss = 1.5970622412352\t\n",
       "current loss = 1.5970356070211\t\n"
      ]
     },
     "execution_count": 8,
     "metadata": {},
     "output_type": "execute_result"
    },
    {
     "data": {
      "text/plain": [
       "current loss = 1.597008979281\t\n",
       "current loss = 1.5969823580125\t\n",
       "current loss = 1.5969557432132\t\n"
      ]
     },
     "execution_count": 8,
     "metadata": {},
     "output_type": "execute_result"
    },
    {
     "data": {
      "text/plain": [
       "current loss = 1.5969291348807\t\n",
       "current loss = 1.5969025330125\t\n",
       "current loss = 1.5968759376061\t\n",
       "current loss = 1.5968493486592\t\n"
      ]
     },
     "execution_count": 8,
     "metadata": {},
     "output_type": "execute_result"
    },
    {
     "data": {
      "text/plain": [
       "current loss = 1.5968227661693\t\n",
       "current loss = 1.5967961901339\t\n",
       "current loss = 1.5967696205507\t\n"
      ]
     },
     "execution_count": 8,
     "metadata": {},
     "output_type": "execute_result"
    },
    {
     "data": {
      "text/plain": [
       "current loss = 1.5967430574172\t\n",
       "current loss = 1.596716500731\t\n",
       "current loss = 1.5966899504896\t\n"
      ]
     },
     "execution_count": 8,
     "metadata": {},
     "output_type": "execute_result"
    },
    {
     "data": {
      "text/plain": [
       "current loss = 1.5966634066907\t\n",
       "current loss = 1.5966368693318\t\n",
       "current loss = 1.5966103384105\t\n"
      ]
     },
     "execution_count": 8,
     "metadata": {},
     "output_type": "execute_result"
    },
    {
     "data": {
      "text/plain": [
       "current loss = 1.5965838139243\t\n",
       "current loss = 1.5965572958709\t\n",
       "current loss = 1.5965307842478\t\n"
      ]
     },
     "execution_count": 8,
     "metadata": {},
     "output_type": "execute_result"
    },
    {
     "data": {
      "text/plain": [
       "current loss = 1.5965042790526\t\n",
       "current loss = 1.5964777802829\t\n",
       "current loss = 1.5964512879363\t\n",
       "current loss = 1.5964248020104\t\n"
      ]
     },
     "execution_count": 8,
     "metadata": {},
     "output_type": "execute_result"
    },
    {
     "data": {
      "text/plain": [
       "current loss = 1.5963983225026\t\n",
       "current loss = 1.5963718494108\t\n",
       "current loss = 1.5963453827323\t\n"
      ]
     },
     "execution_count": 8,
     "metadata": {},
     "output_type": "execute_result"
    },
    {
     "data": {
      "text/plain": [
       "current loss = 1.5963189224649\t\n",
       "current loss = 1.596292468606\t\n",
       "current loss = 1.5962660211534\t\n"
      ]
     },
     "execution_count": 8,
     "metadata": {},
     "output_type": "execute_result"
    },
    {
     "data": {
      "text/plain": [
       "current loss = 1.5962395801045\t\n",
       "current loss = 1.5962131454571\t\n",
       "current loss = 1.5961867172086\t\n",
       "current loss = 1.5961602953567\t\n"
      ]
     },
     "execution_count": 8,
     "metadata": {},
     "output_type": "execute_result"
    },
    {
     "data": {
      "text/plain": [
       "current loss = 1.5961338798991\t\n",
       "current loss = 1.5961074708331\t\n",
       "current loss = 1.5960810681566\t\n"
      ]
     },
     "execution_count": 8,
     "metadata": {},
     "output_type": "execute_result"
    },
    {
     "data": {
      "text/plain": [
       "current loss = 1.5960546718671\t\n",
       "current loss = 1.5960282819621\t\n",
       "current loss = 1.5960018984394\t\n",
       "current loss = 1.5959755212964\t\n"
      ]
     },
     "execution_count": 8,
     "metadata": {},
     "output_type": "execute_result"
    },
    {
     "data": {
      "text/plain": [
       "current loss = 1.5959491505309\t\n",
       "current loss = 1.5959227861404\t\n",
       "current loss = 1.5958964281225\t\n"
      ]
     },
     "execution_count": 8,
     "metadata": {},
     "output_type": "execute_result"
    },
    {
     "data": {
      "text/plain": [
       "current loss = 1.5958700764749\t\n",
       "current loss = 1.5958437311951\t\n",
       "current loss = 1.5958173922808\t\n"
      ]
     },
     "execution_count": 8,
     "metadata": {},
     "output_type": "execute_result"
    },
    {
     "data": {
      "text/plain": [
       "current loss = 1.5957910597295\t\n",
       "current loss = 1.595764733539\t\n",
       "current loss = 1.5957384137068\t\n"
      ]
     },
     "execution_count": 8,
     "metadata": {},
     "output_type": "execute_result"
    },
    {
     "data": {
      "text/plain": [
       "current loss = 1.5957121002305\t\n",
       "current loss = 1.5956857931078\t\n",
       "current loss = 1.5956594923363\t\n",
       "current loss = 1.5956331979135\t\n"
      ]
     },
     "execution_count": 8,
     "metadata": {},
     "output_type": "execute_result"
    },
    {
     "data": {
      "text/plain": [
       "current loss = 1.5956069098372\t\n",
       "current loss = 1.5955806281049\t\n",
       "current loss = 1.5955543527144\t\n"
      ]
     },
     "execution_count": 8,
     "metadata": {},
     "output_type": "execute_result"
    },
    {
     "data": {
      "text/plain": [
       "current loss = 1.5955280836631\t\n",
       "current loss = 1.5955018209487\t\n",
       "current loss = 1.5954755645689\t\n"
      ]
     },
     "execution_count": 8,
     "metadata": {},
     "output_type": "execute_result"
    },
    {
     "data": {
      "text/plain": [
       "current loss = 1.5954493145213\t\n",
       "current loss = 1.5954230708035\t\n",
       "current loss = 1.5953968334131\t\n",
       "current loss = 1.5953706023479\t\n"
      ]
     },
     "execution_count": 8,
     "metadata": {},
     "output_type": "execute_result"
    },
    {
     "data": {
      "text/plain": [
       "current loss = 1.5953443776054\t\n",
       "current loss = 1.5953181591832\t\n",
       "current loss = 1.5952919470791\t\n"
      ]
     },
     "execution_count": 8,
     "metadata": {},
     "output_type": "execute_result"
    },
    {
     "data": {
      "text/plain": [
       "current loss = 1.5952657412905\t\n",
       "current loss = 1.5952395418153\t\n",
       "current loss = 1.595213348651\t\n"
      ]
     },
     "execution_count": 8,
     "metadata": {},
     "output_type": "execute_result"
    },
    {
     "data": {
      "text/plain": [
       "current loss = 1.5951871617952\t\n",
       "current loss = 1.5951609812457\t\n",
       "current loss = 1.595134807\t\n",
       "current loss = 1.5951086390558\t\n"
      ]
     },
     "execution_count": 8,
     "metadata": {},
     "output_type": "execute_result"
    },
    {
     "data": {
      "text/plain": [
       "current loss = 1.5950824774107\t\n",
       "current loss = 1.5950563220625\t\n"
      ]
     },
     "execution_count": 8,
     "metadata": {},
     "output_type": "execute_result"
    },
    {
     "data": {
      "text/plain": [
       "current loss = 1.5950301730086\t\n",
       "current loss = 1.5950040302469\t\n"
      ]
     },
     "execution_count": 8,
     "metadata": {},
     "output_type": "execute_result"
    },
    {
     "data": {
      "text/plain": [
       "current loss = 1.594977893775\t\n"
      ]
     },
     "execution_count": 8,
     "metadata": {},
     "output_type": "execute_result"
    },
    {
     "data": {
      "text/plain": [
       "current loss = 1.5949517635904\t\n",
       "current loss = 1.5949256396909\t\n",
       "current loss = 1.5948995220741\t\n"
      ]
     },
     "execution_count": 8,
     "metadata": {},
     "output_type": "execute_result"
    },
    {
     "data": {
      "text/plain": [
       "current loss = 1.5948734107377\t\n",
       "current loss = 1.5948473056793\t\n",
       "current loss = 1.5948212068965\t\n",
       "current loss = 1.5947951143872\t\n"
      ]
     },
     "execution_count": 8,
     "metadata": {},
     "output_type": "execute_result"
    },
    {
     "data": {
      "text/plain": [
       "current loss = 1.5947690281488\t\n",
       "current loss = 1.5947429481791\t\n",
       "current loss = 1.5947168744758\t\n"
      ]
     },
     "execution_count": 8,
     "metadata": {},
     "output_type": "execute_result"
    },
    {
     "data": {
      "text/plain": [
       "current loss = 1.5946908070364\t\n",
       "current loss = 1.5946647458588\t\n",
       "current loss = 1.5946386909404\t\n",
       "current loss = 1.5946126422791\t\n"
      ]
     },
     "execution_count": 8,
     "metadata": {},
     "output_type": "execute_result"
    },
    {
     "data": {
      "text/plain": [
       "current loss = 1.5945865998724\t\n",
       "current loss = 1.5945605637181\t\n",
       "current loss = 1.5945345338138\t\n"
      ]
     },
     "execution_count": 8,
     "metadata": {},
     "output_type": "execute_result"
    },
    {
     "data": {
      "text/plain": [
       "current loss = 1.5945085101572\t\n",
       "current loss = 1.594482492746\t\n",
       "current loss = 1.5944564815778\t\n"
      ]
     },
     "execution_count": 8,
     "metadata": {},
     "output_type": "execute_result"
    },
    {
     "data": {
      "text/plain": [
       "current loss = 1.5944304766503\t\n",
       "current loss = 1.5944044779612\t\n",
       "current loss = 1.5943784855082\t\n"
      ]
     },
     "execution_count": 8,
     "metadata": {},
     "output_type": "execute_result"
    },
    {
     "data": {
      "text/plain": [
       "current loss = 1.594352499289\t\n",
       "current loss = 1.5943265193012\t\n",
       "current loss = 1.5943005455425\t\n",
       "current loss = 1.5942745780107\t\n"
      ]
     },
     "execution_count": 8,
     "metadata": {},
     "output_type": "execute_result"
    },
    {
     "data": {
      "text/plain": [
       "current loss = 1.5942486167033\t\n",
       "current loss = 1.5942226616181\t\n",
       "current loss = 1.5941967127527\t\n",
       "current loss = 1.594170770105\t\n"
      ]
     },
     "execution_count": 8,
     "metadata": {},
     "output_type": "execute_result"
    },
    {
     "data": {
      "text/plain": [
       "current loss = 1.5941448336724\t\n",
       "current loss = 1.5941189034528\t\n",
       "current loss = 1.5940929794439\t\n",
       "current loss = 1.5940670616432\t\n"
      ]
     },
     "execution_count": 8,
     "metadata": {},
     "output_type": "execute_result"
    },
    {
     "data": {
      "text/plain": [
       "current loss = 1.5940411500486\t\n",
       "current loss = 1.5940152446577\t\n",
       "current loss = 1.5939893454682\t\n",
       "current loss = 1.5939634524778\t\n",
       "current loss = 1.5939375656842\t\n"
      ]
     },
     "execution_count": 8,
     "metadata": {},
     "output_type": "execute_result"
    },
    {
     "data": {
      "text/plain": [
       "current loss = 1.5939116850851\t\n",
       "current loss = 1.5938858106783\t\n",
       "current loss = 1.5938599424613\t\n",
       "current loss = 1.5938340804319\t\n"
      ]
     },
     "execution_count": 8,
     "metadata": {},
     "output_type": "execute_result"
    },
    {
     "data": {
      "text/plain": [
       "current loss = 1.5938082245879\t\n",
       "current loss = 1.5937823749269\t\n",
       "current loss = 1.5937565314466\t\n",
       "current loss = 1.5937306941448\t\n",
       "current loss = 1.5937048630192\t\n"
      ]
     },
     "execution_count": 8,
     "metadata": {},
     "output_type": "execute_result"
    },
    {
     "data": {
      "text/plain": [
       "current loss = 1.5936790380674\t\n",
       "current loss = 1.5936532192871\t\n",
       "current loss = 1.5936274066762\t\n",
       "current loss = 1.5936016002322\t\n"
      ]
     },
     "execution_count": 8,
     "metadata": {},
     "output_type": "execute_result"
    },
    {
     "data": {
      "text/plain": [
       "current loss = 1.593575799953\t\n",
       "current loss = 1.5935500058362\t\n",
       "current loss = 1.5935242178796\t\n",
       "current loss = 1.5934984360808\t\n",
       "current loss = 1.5934726604377\t\n"
      ]
     },
     "execution_count": 8,
     "metadata": {},
     "output_type": "execute_result"
    },
    {
     "data": {
      "text/plain": [
       "current loss = 1.5934468909478\t\n",
       "current loss = 1.593421127609\t\n",
       "current loss = 1.5933953704189\t\n",
       "current loss = 1.5933696193753\t\n"
      ]
     },
     "execution_count": 8,
     "metadata": {},
     "output_type": "execute_result"
    },
    {
     "data": {
      "text/plain": [
       "current loss = 1.5933438744759\t\n",
       "current loss = 1.5933181357185\t\n",
       "current loss = 1.5932924031007\t\n",
       "current loss = 1.5932666766203\t\n",
       "current loss = 1.5932409562751\t"
      ]
     },
     "execution_count": 8,
     "metadata": {},
     "output_type": "execute_result"
    },
    {
     "data": {
      "text/plain": [
       "\n",
       "current loss = 1.5932152420627\t\n",
       "current loss = 1.5931895339809\t\n",
       "current loss = 1.5931638320274\t\n",
       "current loss = 1.5931381361999\t\n"
      ]
     },
     "execution_count": 8,
     "metadata": {},
     "output_type": "execute_result"
    },
    {
     "data": {
      "text/plain": [
       "current loss = 1.5931124464963\t\n",
       "current loss = 1.5930867629141\t\n",
       "current loss = 1.5930610854513\t\n"
      ]
     },
     "execution_count": 8,
     "metadata": {},
     "output_type": "execute_result"
    },
    {
     "data": {
      "text/plain": [
       "current loss = 1.5930354141054\t\n",
       "current loss = 1.5930097488743\t\n",
       "current loss = 1.5929840897557\t\n",
       "current loss = 1.5929584367473\t\n",
       "current loss = 1.5929327898469\t\n"
      ]
     },
     "execution_count": 8,
     "metadata": {},
     "output_type": "execute_result"
    },
    {
     "data": {
      "text/plain": [
       "current loss = 1.5929071490522\t\n",
       "current loss = 1.592881514361\t\n",
       "current loss = 1.592855885771\t\n",
       "current loss = 1.5928302632799\t\n"
      ]
     },
     "execution_count": 8,
     "metadata": {},
     "output_type": "execute_result"
    },
    {
     "data": {
      "text/plain": [
       "current loss = 1.5928046468856\t\n",
       "current loss = 1.5927790365857\t\n",
       "current loss = 1.5927534323781\t\n",
       "current loss = 1.5927278342604\t\n",
       "current loss = 1.5927022422304\t\n"
      ]
     },
     "execution_count": 8,
     "metadata": {},
     "output_type": "execute_result"
    },
    {
     "data": {
      "text/plain": [
       "current loss = 1.5926766562859\t\n",
       "current loss = 1.5926510764247\t\n",
       "current loss = 1.5926255026444\t\n",
       "current loss = 1.5925999349429\t\n"
      ]
     },
     "execution_count": 8,
     "metadata": {},
     "output_type": "execute_result"
    },
    {
     "data": {
      "text/plain": [
       "current loss = 1.5925743733178\t\n",
       "current loss = 1.5925488177671\t\n",
       "current loss = 1.5925232682884\t\n",
       "current loss = 1.5924977248795\t\n"
      ]
     },
     "execution_count": 8,
     "metadata": {},
     "output_type": "execute_result"
    },
    {
     "data": {
      "text/plain": [
       "current loss = 1.5924721875381\t\n",
       "current loss = 1.5924466562621\t\n",
       "current loss = 1.5924211310492\t\n",
       "current loss = 1.5923956118971\t\n",
       "current loss = 1.5923700988036\t\n"
      ]
     },
     "execution_count": 8,
     "metadata": {},
     "output_type": "execute_result"
    },
    {
     "data": {
      "text/plain": [
       "current loss = 1.5923445917665\t\n",
       "current loss = 1.5923190907836\t\n",
       "current loss = 1.5922935958527\t\n",
       "current loss = 1.5922681069715\t\n"
      ]
     },
     "execution_count": 8,
     "metadata": {},
     "output_type": "execute_result"
    },
    {
     "data": {
      "text/plain": [
       "current loss = 1.5922426241377\t\n",
       "current loss = 1.5922171473492\t\n",
       "current loss = 1.5921916766037\t\n",
       "current loss = 1.5921662118991\t\n"
      ]
     },
     "execution_count": 8,
     "metadata": {},
     "output_type": "execute_result"
    },
    {
     "data": {
      "text/plain": [
       "current loss = 1.5921407532331\t\n",
       "current loss = 1.5921153006034\t\n",
       "current loss = 1.5920898540079\t\n",
       "current loss = 1.5920644134443\t\n"
      ]
     },
     "execution_count": 8,
     "metadata": {},
     "output_type": "execute_result"
    },
    {
     "data": {
      "text/plain": [
       "current loss = 1.5920389789104\t\n",
       "current loss = 1.5920135504041\t\n",
       "current loss = 1.591988127923\t\n",
       "current loss = 1.591962711465\t\n",
       "current loss = 1.5919373010279\t\n"
      ]
     },
     "execution_count": 8,
     "metadata": {},
     "output_type": "execute_result"
    },
    {
     "data": {
      "text/plain": [
       "current loss = 1.5919118966094\t\n",
       "current loss = 1.5918864982074\t\n",
       "current loss = 1.5918611058196\t\n",
       "current loss = 1.5918357194439\t\n"
      ]
     },
     "execution_count": 8,
     "metadata": {},
     "output_type": "execute_result"
    },
    {
     "data": {
      "text/plain": [
       "current loss = 1.5918103390779\t\n",
       "current loss = 1.5917849647196\t\n",
       "current loss = 1.5917595963666\t\n",
       "current loss = 1.5917342340169\t\n"
      ]
     },
     "execution_count": 8,
     "metadata": {},
     "output_type": "execute_result"
    },
    {
     "data": {
      "text/plain": [
       "current loss = 1.5917088776682\t\n",
       "current loss = 1.5916835273182\t\n",
       "current loss = 1.5916581829649\t\n",
       "current loss = 1.591632844606\t\n",
       "current loss = 1.5916075122393\t\n"
      ]
     },
     "execution_count": 8,
     "metadata": {},
     "output_type": "execute_result"
    },
    {
     "data": {
      "text/plain": [
       "current loss = 1.5915821858625\t\n",
       "current loss = 1.5915568654736\t\n",
       "current loss = 1.5915315510703\t\n"
      ]
     },
     "execution_count": 8,
     "metadata": {},
     "output_type": "execute_result"
    },
    {
     "data": {
      "text/plain": [
       "current loss = 1.5915062426504\t\n",
       "current loss = 1.5914809402118\t\n",
       "current loss = 1.5914556437522\t\n",
       "current loss = 1.5914303532694\t\n"
      ]
     },
     "execution_count": 8,
     "metadata": {},
     "output_type": "execute_result"
    },
    {
     "data": {
      "text/plain": [
       "current loss = 1.5914050687613\t\n",
       "current loss = 1.5913797902256\t\n",
       "current loss = 1.5913545176603\t\n",
       "current loss = 1.591329251063\t\n"
      ]
     },
     "execution_count": 8,
     "metadata": {},
     "output_type": "execute_result"
    },
    {
     "data": {
      "text/plain": [
       "current loss = 1.5913039904316\t\n",
       "current loss = 1.591278735764\t\n",
       "current loss = 1.5912534870579\t\n",
       "current loss = 1.5912282443111\t\n"
      ]
     },
     "execution_count": 8,
     "metadata": {},
     "output_type": "execute_result"
    },
    {
     "data": {
      "text/plain": [
       "current loss = 1.5912030075216\t\n",
       "current loss = 1.591177776687\t\n",
       "current loss = 1.5911525518053\t\n",
       "current loss = 1.5911273328742\t\n"
      ]
     },
     "execution_count": 8,
     "metadata": {},
     "output_type": "execute_result"
    },
    {
     "data": {
      "text/plain": [
       "current loss = 1.5911021198915\t\n",
       "current loss = 1.5910769128552\t\n",
       "current loss = 1.591051711763\t\n",
       "current loss = 1.5910265166127\t\n",
       "current loss = 1.5910013274022\t\n"
      ]
     },
     "execution_count": 8,
     "metadata": {},
     "output_type": "execute_result"
    },
    {
     "data": {
      "text/plain": [
       "current loss = 1.5909761441293\t\n",
       "current loss = 1.5909509667918\t\n",
       "current loss = 1.5909257953876\t\n",
       "current loss = 1.5909006299145\t\n"
      ]
     },
     "execution_count": 8,
     "metadata": {},
     "output_type": "execute_result"
    },
    {
     "data": {
      "text/plain": [
       "current loss = 1.5908754703703\t\n",
       "current loss = 1.5908503167529\t\n",
       "current loss = 1.59082516906\t\n",
       "current loss = 1.5908000272897\t\n"
      ]
     },
     "execution_count": 8,
     "metadata": {},
     "output_type": "execute_result"
    },
    {
     "data": {
      "text/plain": [
       "current loss = 1.5907748914395\t\n",
       "current loss = 1.5907497615075\t\n",
       "current loss = 1.5907246374914\t\n",
       "current loss = 1.5906995193892\t\n",
       "current loss = 1.5906744071985\t\n"
      ]
     },
     "execution_count": 8,
     "metadata": {},
     "output_type": "execute_result"
    },
    {
     "data": {
      "text/plain": [
       "current loss = 1.5906493009174\t\n",
       "current loss = 1.5906242005435\t\n",
       "current loss = 1.5905991060748\t\n",
       "current loss = 1.5905740175092\t\n"
      ]
     },
     "execution_count": 8,
     "metadata": {},
     "output_type": "execute_result"
    },
    {
     "data": {
      "text/plain": [
       "current loss = 1.5905489348444\t\n",
       "current loss = 1.5905238580782\t\n",
       "current loss = 1.5904987872087\t\n",
       "current loss = 1.5904737222336\t\n"
      ]
     },
     "execution_count": 8,
     "metadata": {},
     "output_type": "execute_result"
    },
    {
     "data": {
      "text/plain": [
       "current loss = 1.5904486631507\t\n",
       "current loss = 1.5904236099579\t\n",
       "current loss = 1.5903985626531\t\n",
       "current loss = 1.5903735212341\t\n"
      ]
     },
     "execution_count": 8,
     "metadata": {},
     "output_type": "execute_result"
    },
    {
     "data": {
      "text/plain": [
       "current loss = 1.5903484856987\t\n",
       "current loss = 1.590323456045\t\n",
       "current loss = 1.5902984322706\t\n",
       "current loss = 1.5902734143734\t\n",
       "current loss = 1.5902484023513\t\n"
      ]
     },
     "execution_count": 8,
     "metadata": {},
     "output_type": "execute_result"
    },
    {
     "data": {
      "text/plain": [
       "current loss = 1.5902233962023\t\n",
       "current loss = 1.590198395924\t\n"
      ]
     },
     "execution_count": 8,
     "metadata": {},
     "output_type": "execute_result"
    },
    {
     "data": {
      "text/plain": [
       "current loss = 1.5901734015145\t\n",
       "current loss = 1.5901484129715\t\n"
      ]
     },
     "execution_count": 8,
     "metadata": {},
     "output_type": "execute_result"
    },
    {
     "data": {
      "text/plain": [
       "current loss = 1.5901234302929\t\n",
       "current loss = 1.5900984534766\t\n",
       "current loss = 1.5900734825205\t\n",
       "current loss = 1.5900485174224\t\n"
      ]
     },
     "execution_count": 8,
     "metadata": {},
     "output_type": "execute_result"
    },
    {
     "data": {
      "text/plain": [
       "current loss = 1.5900235581801\t\n",
       "current loss = 1.5899986047917\t\n",
       "current loss = 1.5899736572549\t\n",
       "current loss = 1.5899487155676\t\n"
      ]
     },
     "execution_count": 8,
     "metadata": {},
     "output_type": "execute_result"
    },
    {
     "data": {
      "text/plain": [
       "current loss = 1.5899237797277\t\n",
       "current loss = 1.589898849733\t\n",
       "current loss = 1.5898739255815\t\n",
       "current loss = 1.5898490072709\t\n"
      ]
     },
     "execution_count": 8,
     "metadata": {},
     "output_type": "execute_result"
    },
    {
     "data": {
      "text/plain": [
       "current loss = 1.5898240947993\t\n",
       "current loss = 1.5897991881644\t\n",
       "current loss = 1.5897742873642\t\n"
      ]
     },
     "execution_count": 8,
     "metadata": {},
     "output_type": "execute_result"
    },
    {
     "data": {
      "text/plain": [
       "current loss = 1.5897493923965\t\n",
       "current loss = 1.5897245032593\t\n",
       "current loss = 1.5896996199503\t\n",
       "current loss = 1.5896747424675\t\n"
      ]
     },
     "execution_count": 8,
     "metadata": {},
     "output_type": "execute_result"
    },
    {
     "data": {
      "text/plain": [
       "current loss = 1.5896498708087\t\n",
       "current loss = 1.5896250049719\t\n",
       "current loss = 1.5896001449549\t\n"
      ]
     },
     "execution_count": 8,
     "metadata": {},
     "output_type": "execute_result"
    },
    {
     "data": {
      "text/plain": [
       "current loss = 1.5895752907557\t\n",
       "current loss = 1.5895504423721\t\n",
       "current loss = 1.5895255998019\t\n"
      ]
     },
     "execution_count": 8,
     "metadata": {},
     "output_type": "execute_result"
    },
    {
     "data": {
      "text/plain": [
       "current loss = 1.5895007630432\t\n",
       "current loss = 1.5894759320938\t\n",
       "current loss = 1.5894511069515\t\n",
       "current loss = 1.5894262876143\t\n"
      ]
     },
     "execution_count": 8,
     "metadata": {},
     "output_type": "execute_result"
    },
    {
     "data": {
      "text/plain": [
       "current loss = 1.5894014740801\t\n",
       "current loss = 1.5893766663468\t\n",
       "current loss = 1.5893518644122\t\n",
       "current loss = 1.5893270682743\t\n"
      ]
     },
     "execution_count": 8,
     "metadata": {},
     "output_type": "execute_result"
    },
    {
     "data": {
      "text/plain": [
       "current loss = 1.5893022779309\t\n",
       "current loss = 1.58927749338\t\n",
       "current loss = 1.5892527146195\t\n"
      ]
     },
     "execution_count": 8,
     "metadata": {},
     "output_type": "execute_result"
    },
    {
     "data": {
      "text/plain": [
       "current loss = 1.5892279416472\t\n",
       "current loss = 1.5892031744611\t\n",
       "current loss = 1.5891784130591\t\n"
      ]
     },
     "execution_count": 8,
     "metadata": {},
     "output_type": "execute_result"
    },
    {
     "data": {
      "text/plain": [
       "current loss = 1.5891536574391\t\n",
       "current loss = 1.589128907599\t\n",
       "current loss = 1.5891041635366\t\n",
       "current loss = 1.58907942525\t\n"
      ]
     },
     "execution_count": 8,
     "metadata": {},
     "output_type": "execute_result"
    },
    {
     "data": {
      "text/plain": [
       "current loss = 1.589054692737\t\n",
       "current loss = 1.5890299659955\t\n",
       "current loss = 1.5890052450235\t\n"
      ]
     },
     "execution_count": 8,
     "metadata": {},
     "output_type": "execute_result"
    },
    {
     "data": {
      "text/plain": [
       "current loss = 1.5889805298188\t\n",
       "current loss = 1.5889558203794\t\n",
       "current loss = 1.5889311167031\t\n",
       "current loss = 1.588906418788\t\n"
      ]
     },
     "execution_count": 8,
     "metadata": {},
     "output_type": "execute_result"
    },
    {
     "data": {
      "text/plain": [
       "current loss = 1.5888817266319\t\n",
       "current loss = 1.5888570402327\t\n",
       "current loss = 1.5888323595883\t\n"
      ]
     },
     "execution_count": 8,
     "metadata": {},
     "output_type": "execute_result"
    },
    {
     "data": {
      "text/plain": [
       "current loss = 1.5888076846968\t\n",
       "current loss = 1.5887830155559\t\n",
       "current loss = 1.5887583521637\t\n",
       "current loss = 1.588733694518\t\n"
      ]
     },
     "execution_count": 8,
     "metadata": {},
     "output_type": "execute_result"
    },
    {
     "data": {
      "text/plain": [
       "current loss = 1.5887090426167\t\n",
       "current loss = 1.5886843964579\t\n",
       "current loss = 1.5886597560393\t\n"
      ]
     },
     "execution_count": 8,
     "metadata": {},
     "output_type": "execute_result"
    },
    {
     "data": {
      "text/plain": [
       "current loss = 1.5886351213591\t\n",
       "current loss = 1.5886104924149\t\n",
       "current loss = 1.5885858692049\t\n"
      ]
     },
     "execution_count": 8,
     "metadata": {},
     "output_type": "execute_result"
    },
    {
     "data": {
      "text/plain": [
       "current loss = 1.5885612517269\t\n",
       "current loss = 1.5885366399789\t\n",
       "current loss = 1.5885120339588\t\n",
       "current loss = 1.5884874336645\t\n"
      ]
     },
     "execution_count": 8,
     "metadata": {},
     "output_type": "execute_result"
    },
    {
     "data": {
      "text/plain": [
       "current loss = 1.588462839094\t\n",
       "current loss = 1.5884382502451\t\n",
       "current loss = 1.5884136671159\t\n"
      ]
     },
     "execution_count": 8,
     "metadata": {},
     "output_type": "execute_result"
    },
    {
     "data": {
      "text/plain": [
       "current loss = 1.5883890897043\t\n",
       "current loss = 1.5883645180082\t\n",
       "current loss = 1.5883399520256\t\n",
       "current loss = 1.5883153917543\t\n"
      ]
     },
     "execution_count": 8,
     "metadata": {},
     "output_type": "execute_result"
    },
    {
     "data": {
      "text/plain": [
       "current loss = 1.5882908371924\t\n",
       "current loss = 1.5882662883377\t\n",
       "current loss = 1.5882417451883\t\n"
      ]
     },
     "execution_count": 8,
     "metadata": {},
     "output_type": "execute_result"
    },
    {
     "data": {
      "text/plain": [
       "current loss = 1.588217207742\t\n",
       "current loss = 1.5881926759969\t\n",
       "current loss = 1.5881681499508\t\n",
       "current loss = 1.5881436296017\t\n"
      ]
     },
     "execution_count": 8,
     "metadata": {},
     "output_type": "execute_result"
    },
    {
     "data": {
      "text/plain": [
       "current loss = 1.5881191149475\t\n",
       "current loss = 1.5880946059863\t\n",
       "current loss = 1.5880701027159\t\n"
      ]
     },
     "execution_count": 8,
     "metadata": {},
     "output_type": "execute_result"
    },
    {
     "data": {
      "text/plain": [
       "current loss = 1.5880456051343\t\n",
       "current loss = 1.5880211132395\t\n",
       "current loss = 1.5879966270294\t\n",
       "current loss = 1.587972146502\t\n"
      ]
     },
     "execution_count": 8,
     "metadata": {},
     "output_type": "execute_result"
    },
    {
     "data": {
      "text/plain": [
       "current loss = 1.5879476716551\t\n",
       "current loss = 1.5879232024869\t\n",
       "current loss = 1.5878987389952\t\n"
      ]
     },
     "execution_count": 8,
     "metadata": {},
     "output_type": "execute_result"
    },
    {
     "data": {
      "text/plain": [
       "current loss = 1.587874281178\t\n",
       "current loss = 1.5878498290332\t\n",
       "current loss = 1.5878253825589\t\n",
       "current loss = 1.5878009417529\t\n"
      ]
     },
     "execution_count": 8,
     "metadata": {},
     "output_type": "execute_result"
    },
    {
     "data": {
      "text/plain": [
       "current loss = 1.5877765066133\t\n",
       "current loss = 1.5877520771379\t\n",
       "current loss = 1.5877276533249\t\n"
      ]
     },
     "execution_count": 8,
     "metadata": {},
     "output_type": "execute_result"
    },
    {
     "data": {
      "text/plain": [
       "current loss = 1.587703235172\t\n",
       "current loss = 1.5876788226774\t\n",
       "current loss = 1.5876544158389\t\n",
       "current loss = 1.5876300146546\t\n"
      ]
     },
     "execution_count": 8,
     "metadata": {},
     "output_type": "execute_result"
    },
    {
     "data": {
      "text/plain": [
       "current loss = 1.5876056191224\t\n",
       "current loss = 1.5875812292402\t\n"
      ]
     },
     "execution_count": 8,
     "metadata": {},
     "output_type": "execute_result"
    },
    {
     "data": {
      "text/plain": [
       "current loss = 1.5875568450061\t\n"
      ]
     },
     "execution_count": 8,
     "metadata": {},
     "output_type": "execute_result"
    },
    {
     "data": {
      "text/plain": [
       "current loss = 1.587532466418\t\n"
      ]
     },
     "execution_count": 8,
     "metadata": {},
     "output_type": "execute_result"
    },
    {
     "data": {
      "text/plain": [
       "current loss = 1.587508093474\t\n"
      ]
     },
     "execution_count": 8,
     "metadata": {},
     "output_type": "execute_result"
    },
    {
     "data": {
      "text/plain": [
       "current loss = 1.5874837261718\t\n"
      ]
     },
     "execution_count": 8,
     "metadata": {},
     "output_type": "execute_result"
    },
    {
     "data": {
      "text/plain": [
       "current loss = 1.5874593645097\t\n",
       "current loss = 1.5874350084854\t\n",
       "current loss = 1.587410658097\t\n"
      ]
     },
     "execution_count": 8,
     "metadata": {},
     "output_type": "execute_result"
    },
    {
     "data": {
      "text/plain": [
       "current loss = 1.5873863133425\t\n",
       "current loss = 1.5873619742199\t\n",
       "current loss = 1.5873376407271\t\n"
      ]
     },
     "execution_count": 8,
     "metadata": {},
     "output_type": "execute_result"
    },
    {
     "data": {
      "text/plain": [
       "current loss = 1.5873133128621\t\n",
       "current loss = 1.5872889906229\t\n",
       "current loss = 1.5872646740075\t\n"
      ]
     },
     "execution_count": 8,
     "metadata": {},
     "output_type": "execute_result"
    },
    {
     "data": {
      "text/plain": [
       "current loss = 1.5872403630139\t\n",
       "current loss = 1.58721605764\t\n",
       "current loss = 1.5871917578839\t\n",
       "current loss = 1.5871674637434\t\n"
      ]
     },
     "execution_count": 8,
     "metadata": {},
     "output_type": "execute_result"
    },
    {
     "data": {
      "text/plain": [
       "current loss = 1.5871431752167\t\n",
       "current loss = 1.5871188923017\t\n",
       "current loss = 1.5870946149964\t\n"
      ]
     },
     "execution_count": 8,
     "metadata": {},
     "output_type": "execute_result"
    },
    {
     "data": {
      "text/plain": [
       "current loss = 1.5870703432988\t\n",
       "current loss = 1.5870460772068\t\n",
       "current loss = 1.5870218167185\t\n",
       "current loss = 1.5869975618319\t\n"
      ]
     },
     "execution_count": 8,
     "metadata": {},
     "output_type": "execute_result"
    },
    {
     "data": {
      "text/plain": [
       "current loss = 1.586973312545\t\n",
       "current loss = 1.5869490688557\t\n",
       "current loss = 1.586924830762\t\n"
      ]
     },
     "execution_count": 8,
     "metadata": {},
     "output_type": "execute_result"
    },
    {
     "data": {
      "text/plain": [
       "current loss = 1.586900598262\t\n",
       "current loss = 1.5868763713536\t\n",
       "current loss = 1.5868521500349\t\n",
       "current loss = 1.5868279343039\t\n"
      ]
     },
     "execution_count": 8,
     "metadata": {},
     "output_type": "execute_result"
    },
    {
     "data": {
      "text/plain": [
       "current loss = 1.5868037241585\t\n",
       "current loss = 1.5867795195967\t\n",
       "current loss = 1.5867553206166\t\n",
       "current loss = 1.5867311272162\t\n",
       "current loss = 1.5867069393935\t\n"
      ]
     },
     "execution_count": 8,
     "metadata": {},
     "output_type": "execute_result"
    },
    {
     "data": {
      "text/plain": [
       "current loss = 1.5866827571464\t\n",
       "current loss = 1.586658580473\t\n",
       "current loss = 1.5866344093713\t\n",
       "current loss = 1.5866102438393\t\n"
      ]
     },
     "execution_count": 8,
     "metadata": {},
     "output_type": "execute_result"
    },
    {
     "data": {
      "text/plain": [
       "current loss = 1.586586083875\t\n",
       "current loss = 1.5865619294764\t\n",
       "current loss = 1.5865377806416\t\n",
       "current loss = 1.5865136373685\t\n",
       "current loss = 1.5864894996552\t\n"
      ]
     },
     "execution_count": 8,
     "metadata": {},
     "output_type": "execute_result"
    },
    {
     "data": {
      "text/plain": [
       "current loss = 1.5864653674996\t\n",
       "current loss = 1.5864412408999\t\n",
       "current loss = 1.586417119854\t\n",
       "current loss = 1.5863930043599\t\n"
      ]
     },
     "execution_count": 8,
     "metadata": {},
     "output_type": "execute_result"
    },
    {
     "data": {
      "text/plain": [
       "current loss = 1.5863688944156\t\n",
       "current loss = 1.5863447900193\t\n",
       "current loss = 1.5863206911688\t\n",
       "current loss = 1.5862965978622\t\n"
      ]
     },
     "execution_count": 8,
     "metadata": {},
     "output_type": "execute_result"
    },
    {
     "data": {
      "text/plain": [
       "current loss = 1.5862725100976\t\n",
       "current loss = 1.5862484278729\t\n",
       "current loss = 1.5862243511863\t\n",
       "current loss = 1.5862002800356\t\n"
      ]
     },
     "execution_count": 8,
     "metadata": {},
     "output_type": "execute_result"
    },
    {
     "data": {
      "text/plain": [
       "current loss = 1.586176214419\t\n",
       "current loss = 1.5861521543344\t\n",
       "current loss = 1.58612809978\t\n",
       "current loss = 1.5861040507537\t\n"
      ]
     },
     "execution_count": 8,
     "metadata": {},
     "output_type": "execute_result"
    },
    {
     "data": {
      "text/plain": [
       "current loss = 1.5860800072535\t\n",
       "current loss = 1.5860559692775\t\n",
       "current loss = 1.5860319368237\t\n",
       "current loss = 1.5860079098902\t\n"
      ]
     },
     "execution_count": 8,
     "metadata": {},
     "output_type": "execute_result"
    },
    {
     "data": {
      "text/plain": [
       "current loss = 1.585983888475\t\n",
       "current loss = 1.5859598725761\t\n",
       "current loss = 1.5859358621916\t\n",
       "current loss = 1.5859118573195\t\n",
       "current loss = 1.5858878579578\t\n"
      ]
     },
     "execution_count": 8,
     "metadata": {},
     "output_type": "execute_result"
    },
    {
     "data": {
      "text/plain": [
       "current loss = 1.5858638641046\t\n",
       "current loss = 1.5858398757579\t\n",
       "current loss = 1.5858158929158\t\n",
       "current loss = 1.5857919155763\t\n"
      ]
     },
     "execution_count": 8,
     "metadata": {},
     "output_type": "execute_result"
    },
    {
     "data": {
      "text/plain": [
       "current loss = 1.5857679437374\t\n",
       "current loss = 1.5857439773972\t\n",
       "current loss = 1.5857200165537\t\n",
       "current loss = 1.585696061205\t\n"
      ]
     },
     "execution_count": 8,
     "metadata": {},
     "output_type": "execute_result"
    },
    {
     "data": {
      "text/plain": [
       "current loss = 1.5856721113492\t\n",
       "current loss = 1.5856481669842\t\n",
       "current loss = 1.5856242281081\t\n",
       "current loss = 1.585600294719\t\n"
      ]
     },
     "execution_count": 8,
     "metadata": {},
     "output_type": "execute_result"
    },
    {
     "data": {
      "text/plain": [
       "current loss = 1.585576366815\t\n",
       "current loss = 1.585552444394\t\n",
       "current loss = 1.5855285274541\t\n",
       "current loss = 1.5855046159935\t\n"
      ]
     },
     "execution_count": 8,
     "metadata": {},
     "output_type": "execute_result"
    },
    {
     "data": {
      "text/plain": [
       "current loss = 1.58548071001\t\n",
       "current loss = 1.5854568095019\t\n",
       "current loss = 1.585432914467\t\n",
       "current loss = 1.5854090249037\t\n",
       "current loss = 1.5853851408097\t\n"
      ]
     },
     "execution_count": 8,
     "metadata": {},
     "output_type": "execute_result"
    },
    {
     "data": {
      "text/plain": [
       "current loss = 1.5853612621833\t\n",
       "current loss = 1.5853373890225\t\n",
       "current loss = 1.5853135213253\t\n"
      ]
     },
     "execution_count": 8,
     "metadata": {},
     "output_type": "execute_result"
    },
    {
     "data": {
      "text/plain": [
       "current loss = 1.5852896590898\t\n",
       "current loss = 1.5852658023141\t\n",
       "current loss = 1.5852419509962\t\n",
       "current loss = 1.5852181051342\t\n"
      ]
     },
     "execution_count": 8,
     "metadata": {},
     "output_type": "execute_result"
    },
    {
     "data": {
      "text/plain": [
       "current loss = 1.5851942647261\t\n",
       "current loss = 1.5851704297701\t\n",
       "current loss = 1.5851466002642\t\n",
       "current loss = 1.5851227762065\t\n"
      ]
     },
     "execution_count": 8,
     "metadata": {},
     "output_type": "execute_result"
    },
    {
     "data": {
      "text/plain": [
       "current loss = 1.585098957595\t\n",
       "current loss = 1.5850751444278\t\n",
       "current loss = 1.5850513367029\t\n",
       "current loss = 1.5850275344185\t\n"
      ]
     },
     "execution_count": 8,
     "metadata": {},
     "output_type": "execute_result"
    },
    {
     "data": {
      "text/plain": [
       "current loss = 1.5850037375727\t\n",
       "current loss = 1.5849799461634\t\n",
       "current loss = 1.5849561601888\t\n",
       "current loss = 1.5849323796469\t\n"
      ]
     },
     "execution_count": 8,
     "metadata": {},
     "output_type": "execute_result"
    },
    {
     "data": {
      "text/plain": [
       "current loss = 1.5849086045359\t\n",
       "current loss = 1.5848848348538\t\n",
       "current loss = 1.5848610705986\t\n"
      ]
     },
     "execution_count": 8,
     "metadata": {},
     "output_type": "execute_result"
    },
    {
     "data": {
      "text/plain": [
       "current loss = 1.5848373117685\t\n",
       "current loss = 1.5848135583616\t\n",
       "current loss = 1.5847898103758\t\n",
       "current loss = 1.5847660678094\t\n",
       "current loss = 1.5847423306603\t\n"
      ]
     },
     "execution_count": 8,
     "metadata": {},
     "output_type": "execute_result"
    },
    {
     "data": {
      "text/plain": [
       "current loss = 1.5847185989267\t\n",
       "current loss = 1.5846948726067\t\n",
       "current loss = 1.5846711516983\t\n",
       "current loss = 1.5846474361997\t\n"
      ]
     },
     "execution_count": 8,
     "metadata": {},
     "output_type": "execute_result"
    },
    {
     "data": {
      "text/plain": [
       "current loss = 1.5846237261088\t\n",
       "current loss = 1.5846000214239\t\n",
       "current loss = 1.5845763221429\t\n",
       "current loss = 1.5845526282641\t\n"
      ]
     },
     "execution_count": 8,
     "metadata": {},
     "output_type": "execute_result"
    },
    {
     "data": {
      "text/plain": [
       "current loss = 1.5845289397854\t\n",
       "current loss = 1.584505256705\t\n",
       "current loss = 1.5844815790209\t\n",
       "current loss = 1.5844579067313\t\n"
      ]
     },
     "execution_count": 8,
     "metadata": {},
     "output_type": "execute_result"
    },
    {
     "data": {
      "text/plain": [
       "current loss = 1.5844342398343\t\n",
       "current loss = 1.5844105783279\t\n",
       "current loss = 1.5843869222102\t\n",
       "current loss = 1.5843632714794\t\n"
      ]
     },
     "execution_count": 8,
     "metadata": {},
     "output_type": "execute_result"
    },
    {
     "data": {
      "text/plain": [
       "current loss = 1.5843396261335\t\n",
       "current loss = 1.5843159861707\t\n",
       "current loss = 1.584292351589\t\n",
       "current loss = 1.5842687223866\t\n"
      ]
     },
     "execution_count": 8,
     "metadata": {},
     "output_type": "execute_result"
    },
    {
     "data": {
      "text/plain": [
       "current loss = 1.5842450985615\t\n",
       "current loss = 1.5842214801118\t\n",
       "current loss = 1.5841978670357\t\n",
       "current loss = 1.5841742593313\t\n"
      ]
     },
     "execution_count": 8,
     "metadata": {},
     "output_type": "execute_result"
    },
    {
     "data": {
      "text/plain": [
       "current loss = 1.5841506569966\t\n",
       "current loss = 1.5841270600298\t\n",
       "current loss = 1.584103468429\t\n",
       "current loss = 1.5840798821923\t\n",
       "current loss = 1.5840563013177\t\n"
      ]
     },
     "execution_count": 8,
     "metadata": {},
     "output_type": "execute_result"
    },
    {
     "data": {
      "text/plain": [
       "current loss = 1.5840327258035\t\n",
       "current loss = 1.5840091556477\t\n",
       "current loss = 1.5839855908484\t\n",
       "current loss = 1.5839620314038\t\n"
      ]
     },
     "execution_count": 8,
     "metadata": {},
     "output_type": "execute_result"
    },
    {
     "data": {
      "text/plain": [
       "current loss = 1.583938477312\t\n",
       "current loss = 1.583914928571\t\n",
       "current loss = 1.583891385179\t\n",
       "current loss = 1.5838678471341\t\n"
      ]
     },
     "execution_count": 8,
     "metadata": {},
     "output_type": "execute_result"
    },
    {
     "data": {
      "text/plain": [
       "current loss = 1.5838443144344\t\n",
       "current loss = 1.5838207870781\t\n",
       "current loss = 1.5837972650633\t\n",
       "current loss = 1.583773748388\t\n"
      ]
     },
     "execution_count": 8,
     "metadata": {},
     "output_type": "execute_result"
    },
    {
     "data": {
      "text/plain": [
       "current loss = 1.5837502370504\t\n",
       "current loss = 1.5837267310487\t\n",
       "current loss = 1.583703230381\t\n",
       "current loss = 1.5836797350453\t\n"
      ]
     },
     "execution_count": 8,
     "metadata": {},
     "output_type": "execute_result"
    },
    {
     "data": {
      "text/plain": [
       "current loss = 1.5836562450398\t\n",
       "current loss = 1.5836327603626\t\n",
       "current loss = 1.5836092810119\t\n",
       "current loss = 1.5835858069858\t\n"
      ]
     },
     "execution_count": 8,
     "metadata": {},
     "output_type": "execute_result"
    },
    {
     "data": {
      "text/plain": [
       "current loss = 1.5835623382823\t\n",
       "current loss = 1.5835388748998\t\n",
       "current loss = 1.5835154168362\t\n",
       "current loss = 1.5834919640897\t\n"
      ]
     },
     "execution_count": 8,
     "metadata": {},
     "output_type": "execute_result"
    },
    {
     "data": {
      "text/plain": [
       "current loss = 1.5834685166584\t\n",
       "current loss = 1.5834450745405\t\n",
       "current loss = 1.5834216377341\t\n",
       "current loss = 1.5833982062374\t\n",
       "current loss = 1.5833747800484\t\n"
      ]
     },
     "execution_count": 8,
     "metadata": {},
     "output_type": "execute_result"
    },
    {
     "data": {
      "text/plain": [
       "current loss = 1.5833513591653\t\n",
       "current loss = 1.5833279435863\t\n",
       "current loss = 1.5833045333094\t\n",
       "current loss = 1.5832811283329\t\n"
      ]
     },
     "execution_count": 8,
     "metadata": {},
     "output_type": "execute_result"
    },
    {
     "data": {
      "text/plain": [
       "current loss = 1.5832577286548\t\n",
       "current loss = 1.5832343342734\t\n",
       "current loss = 1.5832109451867\t\n",
       "current loss = 1.5831875613929\t\n"
      ]
     },
     "execution_count": 8,
     "metadata": {},
     "output_type": "execute_result"
    },
    {
     "data": {
      "text/plain": [
       "current loss = 1.5831641828901\t\n",
       "current loss = 1.5831408096765\t\n",
       "current loss = 1.5831174417502\t\n",
       "current loss = 1.5830940791095\t\n"
      ]
     },
     "execution_count": 8,
     "metadata": {},
     "output_type": "execute_result"
    },
    {
     "data": {
      "text/plain": [
       "current loss = 1.5830707217523\t\n"
      ]
     },
     "execution_count": 8,
     "metadata": {},
     "output_type": "execute_result"
    },
    {
     "data": {
      "text/plain": [
       "current loss = 1.5830473696769\t\n",
       "current loss = 1.5830240228814\t\n",
       "current loss = 1.5830006813639\t\n",
       "current loss = 1.5829773451227\t\n"
      ]
     },
     "execution_count": 8,
     "metadata": {},
     "output_type": "execute_result"
    },
    {
     "data": {
      "text/plain": [
       "current loss = 1.5829540141559\t\n",
       "current loss = 1.5829306884615\t\n",
       "current loss = 1.5829073680379\t\n"
      ]
     },
     "execution_count": 8,
     "metadata": {},
     "output_type": "execute_result"
    },
    {
     "data": {
      "text/plain": [
       "current loss = 1.5828840528831\t\n",
       "current loss = 1.5828607429952\t\n",
       "current loss = 1.5828374383725\t\n",
       "current loss = 1.5828141390131\t\n"
      ]
     },
     "execution_count": 8,
     "metadata": {},
     "output_type": "execute_result"
    },
    {
     "data": {
      "text/plain": [
       "current loss = 1.5827908449152\t\n",
       "current loss = 1.5827675560769\t\n",
       "current loss = 1.5827442724963\t\n"
      ]
     },
     "execution_count": 8,
     "metadata": {},
     "output_type": "execute_result"
    },
    {
     "data": {
      "text/plain": [
       "current loss = 1.5827209941717\t\n",
       "current loss = 1.5826977211011\t\n",
       "current loss = 1.5826744532829\t\n"
      ]
     },
     "execution_count": 8,
     "metadata": {},
     "output_type": "execute_result"
    },
    {
     "data": {
      "text/plain": [
       "current loss = 1.582651190715\t\n",
       "current loss = 1.5826279333957\t\n",
       "current loss = 1.5826046813232\t\n"
      ]
     },
     "execution_count": 8,
     "metadata": {},
     "output_type": "execute_result"
    },
    {
     "data": {
      "text/plain": [
       "current loss = 1.5825814344956\t\n",
       "current loss = 1.5825581929111\t\n",
       "current loss = 1.5825349565678\t\n",
       "current loss = 1.582511725464\t\n"
      ]
     },
     "execution_count": 8,
     "metadata": {},
     "output_type": "execute_result"
    },
    {
     "data": {
      "text/plain": [
       "current loss = 1.5824884995977\t\n",
       "current loss = 1.5824652789672\t\n",
       "current loss = 1.5824420635706\t\n"
      ]
     },
     "execution_count": 8,
     "metadata": {},
     "output_type": "execute_result"
    },
    {
     "data": {
      "text/plain": [
       "current loss = 1.5824188534061\t\n",
       "current loss = 1.5823956484719\t\n",
       "current loss = 1.5823724487661\t\n",
       "current loss = 1.582349254287\t\n"
      ]
     },
     "execution_count": 8,
     "metadata": {},
     "output_type": "execute_result"
    },
    {
     "data": {
      "text/plain": [
       "current loss = 1.5823260650326\t\n",
       "current loss = 1.5823028810012\t\n",
       "current loss = 1.582279702191\t\n"
      ]
     },
     "execution_count": 8,
     "metadata": {},
     "output_type": "execute_result"
    },
    {
     "data": {
      "text/plain": [
       "current loss = 1.5822565286001\t\n",
       "current loss = 1.5822333602267\t\n",
       "current loss = 1.582210197069\t\n",
       "current loss = 1.5821870391251\t\n"
      ]
     },
     "execution_count": 8,
     "metadata": {},
     "output_type": "execute_result"
    },
    {
     "data": {
      "text/plain": [
       "current loss = 1.5821638863933\t\n",
       "current loss = 1.5821407388717\t\n",
       "current loss = 1.5821175965586\t\n"
      ]
     },
     "execution_count": 8,
     "metadata": {},
     "output_type": "execute_result"
    },
    {
     "data": {
      "text/plain": [
       "current loss = 1.582094459452\t\n",
       "current loss = 1.5820713275502\t\n",
       "current loss = 1.5820482008514\t\n",
       "current loss = 1.5820250793537\t\n"
      ]
     },
     "execution_count": 8,
     "metadata": {},
     "output_type": "execute_result"
    },
    {
     "data": {
      "text/plain": [
       "current loss = 1.5820019630554\t\n",
       "current loss = 1.5819788519546\t\n",
       "current loss = 1.5819557460495\t\n"
      ]
     },
     "execution_count": 8,
     "metadata": {},
     "output_type": "execute_result"
    },
    {
     "data": {
      "text/plain": [
       "current loss = 1.5819326453383\t\n",
       "current loss = 1.5819095498192\t\n",
       "current loss = 1.5818864594904\t\n"
      ]
     },
     "execution_count": 8,
     "metadata": {},
     "output_type": "execute_result"
    }
   ],
   "source": [
    "for i = 1,1e4 do\n",
    "\n",
    "    -- this variable is used to estimate the average loss\n",
    "    current_loss = 0\n",
    "\n",
    "    -- an epoch is a full loop over our training data\n",
    "    for i = 1,(#data)[1] do\n",
    "\n",
    "       -- optim contains several optimization algorithms.\n",
    "       -- All of these algorithms assume the same parameters:\n",
    "       --   + a closure that computes the loss, and its gradient wrt to x,\n",
    "       --     given a point x\n",
    "       --   + a point x\n",
    "       --   + some parameters, which are algorithm-specific\n",
    "\n",
    "       _,fs = optim.sgd(feval,x,sgd_params)\n",
    "\n",
    "       -- Functions in optim all return two things:\n",
    "       --   + the new x, found by the optimization method (here SGD)\n",
    "       --   + the value of the loss functions at all points that were used by\n",
    "       --     the algorithm. SGD only estimates the function once, so\n",
    "       --     that list just contains one value.\n",
    "\n",
    "       current_loss = current_loss + fs[1]\n",
    "    end\n",
    "\n",
    "    -- report average error on epoch\n",
    "    current_loss = current_loss / (#data)[1]\n",
    "    print('current loss = ' .. current_loss)\n",
    "\n",
    " end\n",
    "\n"
   ]
  },
  {
   "cell_type": "code",
   "execution_count": 9,
   "metadata": {
    "collapsed": false
   },
   "outputs": [
    {
     "data": {
      "text/plain": [
       "id  approx   text\t\n",
       " 1   40.10  40.32\t\n",
       " 2   42.77  42.92\t\n",
       " 3   45.21  45.33\t\n",
       " 4   48.78  48.85\t\n",
       " 5   52.34  52.37\t\n",
       " 6   57.02  57.00\t\n",
       " 7   61.92  61.82\t\n",
       " 8   69.95  69.78\t\n",
       " 9   72.40  72.19\t\n",
       "10   79.74  79.42\t\n"
      ]
     },
     "execution_count": 9,
     "metadata": {},
     "output_type": "execute_result"
    }
   ],
   "source": [
    " text = {40.32, 42.92, 45.33, 48.85, 52.37, 57, 61.82, 69.78, 72.19, 79.42}\n",
    "\n",
    " print('id  approx   text')\n",
    " for i = 1,(#data)[1] do\n",
    "    local myPrediction = model:forward(data[i][{{2,3}}])\n",
    "    print(string.format(\"%2d  %6.2f %6.2f\", i, myPrediction[1], text[i]))\n",
    " end\n",
    "\n"
   ]
  },
  {
   "cell_type": "code",
   "execution_count": 10,
   "metadata": {
    "collapsed": true
   },
   "outputs": [],
   "source": [
    " dataTest = torch.Tensor{\n",
    "     {6, 4},\n",
    "     {10, 5},\n",
    "     {14, 8}\n",
    " }\n"
   ]
  },
  {
   "cell_type": "code",
   "execution_count": null,
   "metadata": {
    "collapsed": true
   },
   "outputs": [],
   "source": []
  }
 ],
 "metadata": {
  "kernelspec": {
   "display_name": "iTorch",
   "language": "lua",
   "name": "itorch"
  },
  "language_info": {
   "name": "lua",
   "version": "5.1"
  }
 },
 "nbformat": 4,
 "nbformat_minor": 0
}
